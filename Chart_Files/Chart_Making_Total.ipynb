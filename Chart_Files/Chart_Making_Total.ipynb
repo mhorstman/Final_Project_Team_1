{
 "cells": [
  {
   "cell_type": "code",
   "execution_count": 85,
   "metadata": {},
   "outputs": [],
   "source": [
    "# import our dependencies\n",
    "\n",
    "%matplotlib inline\n",
    "from collections import Counter\n",
    "import pandas as pd\n",
    "from imblearn.over_sampling import RandomOverSampler\n",
    "from sklearn.model_selection import train_test_split\n",
    "from sklearn.metrics import accuracy_score\n",
    "from sklearn.svm import SVC\n",
    "from sklearn.linear_model import LogisticRegression\n",
    "from sklearn.preprocessing import StandardScaler,OneHotEncoder\n",
    "import numpy as np\n",
    "import os\n",
    "from scipy.stats import norm\n",
    "import matplotlib.pyplot as plt\n",
    "plt.style.use('fivethirtyeight')"
   ]
  },
  {
   "cell_type": "code",
   "execution_count": 86,
   "metadata": {},
   "outputs": [],
   "source": [
    "# Lets bring in the total file"
   ]
  },
  {
   "cell_type": "code",
   "execution_count": 87,
   "metadata": {},
   "outputs": [],
   "source": [
    "file = 'Total_Cleaned.csv'\n",
    "\n",
    "location = '/Users/Admin/Desktop/GW_Bootcamp/Analysis_Projects/Final_Project_Team_1/'"
   ]
  },
  {
   "cell_type": "code",
   "execution_count": 88,
   "metadata": {},
   "outputs": [],
   "source": [
    "path = os.path.join(location, file)"
   ]
  },
  {
   "cell_type": "code",
   "execution_count": 89,
   "metadata": {},
   "outputs": [
    {
     "data": {
      "text/html": [
       "<div>\n",
       "<style scoped>\n",
       "    .dataframe tbody tr th:only-of-type {\n",
       "        vertical-align: middle;\n",
       "    }\n",
       "\n",
       "    .dataframe tbody tr th {\n",
       "        vertical-align: top;\n",
       "    }\n",
       "\n",
       "    .dataframe thead th {\n",
       "        text-align: right;\n",
       "    }\n",
       "</style>\n",
       "<table border=\"1\" class=\"dataframe\">\n",
       "  <thead>\n",
       "    <tr style=\"text-align: right;\">\n",
       "      <th></th>\n",
       "      <th>Owned by Trust?</th>\n",
       "      <th>Owned by Business?</th>\n",
       "      <th>SITEADDRESS</th>\n",
       "      <th>MAIL DIFFERENT FROM SITE?</th>\n",
       "      <th>MAIL OUTSIDE CA?</th>\n",
       "      <th>TITLECO1</th>\n",
       "      <th>ASSDTOTAL</th>\n",
       "      <th>ASSDLAND</th>\n",
       "      <th>ASSDSTCT</th>\n",
       "      <th>ASSDOTHR</th>\n",
       "      <th>...</th>\n",
       "      <th>PERSONAL REP</th>\n",
       "      <th>QUIT CLAIM</th>\n",
       "      <th>RE-RECORD</th>\n",
       "      <th>RECEIVERS DEED</th>\n",
       "      <th>SHERIFFS</th>\n",
       "      <th>SPECIAL WARRANTY</th>\n",
       "      <th>TAX DEED</th>\n",
       "      <th>TRUST TRANSFER</th>\n",
       "      <th>TRUSTEES</th>\n",
       "      <th>WARRANTY</th>\n",
       "    </tr>\n",
       "    <tr>\n",
       "      <th>PARCEL</th>\n",
       "      <th></th>\n",
       "      <th></th>\n",
       "      <th></th>\n",
       "      <th></th>\n",
       "      <th></th>\n",
       "      <th></th>\n",
       "      <th></th>\n",
       "      <th></th>\n",
       "      <th></th>\n",
       "      <th></th>\n",
       "      <th></th>\n",
       "      <th></th>\n",
       "      <th></th>\n",
       "      <th></th>\n",
       "      <th></th>\n",
       "      <th></th>\n",
       "      <th></th>\n",
       "      <th></th>\n",
       "      <th></th>\n",
       "      <th></th>\n",
       "      <th></th>\n",
       "    </tr>\n",
       "  </thead>\n",
       "  <tbody>\n",
       "    <tr>\n",
       "      <th>5505026001</th>\n",
       "      <td>1</td>\n",
       "      <td>0</td>\n",
       "      <td>354 N Plymouth Blvd</td>\n",
       "      <td>1</td>\n",
       "      <td>0</td>\n",
       "      <td>0</td>\n",
       "      <td>2054958</td>\n",
       "      <td>1583885</td>\n",
       "      <td>471073</td>\n",
       "      <td>0</td>\n",
       "      <td>...</td>\n",
       "      <td>0</td>\n",
       "      <td>0</td>\n",
       "      <td>0</td>\n",
       "      <td>0</td>\n",
       "      <td>0</td>\n",
       "      <td>0</td>\n",
       "      <td>0</td>\n",
       "      <td>0</td>\n",
       "      <td>0</td>\n",
       "      <td>0</td>\n",
       "    </tr>\n",
       "    <tr>\n",
       "      <th>5515028023</th>\n",
       "      <td>1</td>\n",
       "      <td>0</td>\n",
       "      <td>143 N Plymouth Blvd</td>\n",
       "      <td>0</td>\n",
       "      <td>0</td>\n",
       "      <td>0</td>\n",
       "      <td>915420</td>\n",
       "      <td>592174</td>\n",
       "      <td>323246</td>\n",
       "      <td>0</td>\n",
       "      <td>...</td>\n",
       "      <td>0</td>\n",
       "      <td>0</td>\n",
       "      <td>0</td>\n",
       "      <td>0</td>\n",
       "      <td>0</td>\n",
       "      <td>0</td>\n",
       "      <td>0</td>\n",
       "      <td>0</td>\n",
       "      <td>0</td>\n",
       "      <td>0</td>\n",
       "    </tr>\n",
       "    <tr>\n",
       "      <th>5515022015</th>\n",
       "      <td>1</td>\n",
       "      <td>0</td>\n",
       "      <td>253 S Plymouth Blvd</td>\n",
       "      <td>0</td>\n",
       "      <td>0</td>\n",
       "      <td>0</td>\n",
       "      <td>1304706</td>\n",
       "      <td>731909</td>\n",
       "      <td>572797</td>\n",
       "      <td>0</td>\n",
       "      <td>...</td>\n",
       "      <td>0</td>\n",
       "      <td>0</td>\n",
       "      <td>0</td>\n",
       "      <td>0</td>\n",
       "      <td>0</td>\n",
       "      <td>0</td>\n",
       "      <td>0</td>\n",
       "      <td>0</td>\n",
       "      <td>0</td>\n",
       "      <td>0</td>\n",
       "    </tr>\n",
       "    <tr>\n",
       "      <th>5513010003</th>\n",
       "      <td>1</td>\n",
       "      <td>0</td>\n",
       "      <td>164 N Las Palmas Ave</td>\n",
       "      <td>0</td>\n",
       "      <td>0</td>\n",
       "      <td>0</td>\n",
       "      <td>2518796</td>\n",
       "      <td>1609956</td>\n",
       "      <td>908840</td>\n",
       "      <td>0</td>\n",
       "      <td>...</td>\n",
       "      <td>0</td>\n",
       "      <td>0</td>\n",
       "      <td>0</td>\n",
       "      <td>0</td>\n",
       "      <td>0</td>\n",
       "      <td>0</td>\n",
       "      <td>0</td>\n",
       "      <td>0</td>\n",
       "      <td>0</td>\n",
       "      <td>0</td>\n",
       "    </tr>\n",
       "    <tr>\n",
       "      <th>5515012030</th>\n",
       "      <td>1</td>\n",
       "      <td>0</td>\n",
       "      <td>108 S Rossmore Ave</td>\n",
       "      <td>1</td>\n",
       "      <td>0</td>\n",
       "      <td>0</td>\n",
       "      <td>1428176</td>\n",
       "      <td>999727</td>\n",
       "      <td>428449</td>\n",
       "      <td>0</td>\n",
       "      <td>...</td>\n",
       "      <td>0</td>\n",
       "      <td>0</td>\n",
       "      <td>0</td>\n",
       "      <td>0</td>\n",
       "      <td>0</td>\n",
       "      <td>0</td>\n",
       "      <td>0</td>\n",
       "      <td>0</td>\n",
       "      <td>0</td>\n",
       "      <td>0</td>\n",
       "    </tr>\n",
       "  </tbody>\n",
       "</table>\n",
       "<p>5 rows × 67 columns</p>\n",
       "</div>"
      ],
      "text/plain": [
       "            Owned by Trust?  Owned by Business?           SITEADDRESS  \\\n",
       "PARCEL                                                                  \n",
       "5505026001                1                   0   354 N Plymouth Blvd   \n",
       "5515028023                1                   0   143 N Plymouth Blvd   \n",
       "5515022015                1                   0   253 S Plymouth Blvd   \n",
       "5513010003                1                   0  164 N Las Palmas Ave   \n",
       "5515012030                1                   0    108 S Rossmore Ave   \n",
       "\n",
       "            MAIL DIFFERENT FROM SITE?  MAIL OUTSIDE CA?  TITLECO1  ASSDTOTAL  \\\n",
       "PARCEL                                                                         \n",
       "5505026001                          1                 0         0    2054958   \n",
       "5515028023                          0                 0         0     915420   \n",
       "5515022015                          0                 0         0    1304706   \n",
       "5513010003                          0                 0         0    2518796   \n",
       "5515012030                          1                 0         0    1428176   \n",
       "\n",
       "            ASSDLAND  ASSDSTCT  ASSDOTHR  ...  PERSONAL REP  QUIT CLAIM  \\\n",
       "PARCEL                                    ...                             \n",
       "5505026001   1583885    471073         0  ...             0           0   \n",
       "5515028023    592174    323246         0  ...             0           0   \n",
       "5515022015    731909    572797         0  ...             0           0   \n",
       "5513010003   1609956    908840         0  ...             0           0   \n",
       "5515012030    999727    428449         0  ...             0           0   \n",
       "\n",
       "            RE-RECORD  RECEIVERS DEED  SHERIFFS  SPECIAL WARRANTY  TAX DEED  \\\n",
       "PARCEL                                                                        \n",
       "5505026001          0               0         0                 0         0   \n",
       "5515028023          0               0         0                 0         0   \n",
       "5515022015          0               0         0                 0         0   \n",
       "5513010003          0               0         0                 0         0   \n",
       "5515012030          0               0         0                 0         0   \n",
       "\n",
       "            TRUST TRANSFER  TRUSTEES  WARRANTY  \n",
       "PARCEL                                          \n",
       "5505026001               0         0         0  \n",
       "5515028023               0         0         0  \n",
       "5515022015               0         0         0  \n",
       "5513010003               0         0         0  \n",
       "5515012030               0         0         0  \n",
       "\n",
       "[5 rows x 67 columns]"
      ]
     },
     "execution_count": 89,
     "metadata": {},
     "output_type": "execute_result"
    }
   ],
   "source": [
    "# bring in our dataframe\n",
    "\n",
    "Total_df = pd.read_csv(path, index_col='PARCEL')\n",
    "Total_df.head()"
   ]
  },
  {
   "cell_type": "code",
   "execution_count": 90,
   "metadata": {},
   "outputs": [
    {
     "data": {
      "text/html": [
       "<div>\n",
       "<style scoped>\n",
       "    .dataframe tbody tr th:only-of-type {\n",
       "        vertical-align: middle;\n",
       "    }\n",
       "\n",
       "    .dataframe tbody tr th {\n",
       "        vertical-align: top;\n",
       "    }\n",
       "\n",
       "    .dataframe thead th {\n",
       "        text-align: right;\n",
       "    }\n",
       "</style>\n",
       "<table border=\"1\" class=\"dataframe\">\n",
       "  <thead>\n",
       "    <tr style=\"text-align: right;\">\n",
       "      <th></th>\n",
       "      <th>Owned by Trust?</th>\n",
       "      <th>Owned by Business?</th>\n",
       "      <th>SITEADDRESS</th>\n",
       "      <th>MAIL DIFFERENT FROM SITE?</th>\n",
       "      <th>MAIL OUTSIDE CA?</th>\n",
       "      <th>TITLECO1</th>\n",
       "      <th>ASSDTOTAL</th>\n",
       "      <th>ASSDLAND</th>\n",
       "      <th>ASSDSTCT</th>\n",
       "      <th>ASSDOTHR</th>\n",
       "      <th>...</th>\n",
       "      <th>PERSONAL REP</th>\n",
       "      <th>QUIT CLAIM</th>\n",
       "      <th>RE-RECORD</th>\n",
       "      <th>RECEIVERS DEED</th>\n",
       "      <th>SHERIFFS</th>\n",
       "      <th>SPECIAL WARRANTY</th>\n",
       "      <th>TAX DEED</th>\n",
       "      <th>TRUST TRANSFER</th>\n",
       "      <th>TRUSTEES</th>\n",
       "      <th>WARRANTY</th>\n",
       "    </tr>\n",
       "    <tr>\n",
       "      <th>PARCEL</th>\n",
       "      <th></th>\n",
       "      <th></th>\n",
       "      <th></th>\n",
       "      <th></th>\n",
       "      <th></th>\n",
       "      <th></th>\n",
       "      <th></th>\n",
       "      <th></th>\n",
       "      <th></th>\n",
       "      <th></th>\n",
       "      <th></th>\n",
       "      <th></th>\n",
       "      <th></th>\n",
       "      <th></th>\n",
       "      <th></th>\n",
       "      <th></th>\n",
       "      <th></th>\n",
       "      <th></th>\n",
       "      <th></th>\n",
       "      <th></th>\n",
       "      <th></th>\n",
       "    </tr>\n",
       "  </thead>\n",
       "  <tbody>\n",
       "    <tr>\n",
       "      <th>5515022015</th>\n",
       "      <td>1</td>\n",
       "      <td>0</td>\n",
       "      <td>253 S Plymouth Blvd</td>\n",
       "      <td>0</td>\n",
       "      <td>0</td>\n",
       "      <td>0</td>\n",
       "      <td>1304706</td>\n",
       "      <td>731909</td>\n",
       "      <td>572797</td>\n",
       "      <td>0</td>\n",
       "      <td>...</td>\n",
       "      <td>0</td>\n",
       "      <td>0</td>\n",
       "      <td>0</td>\n",
       "      <td>0</td>\n",
       "      <td>0</td>\n",
       "      <td>0</td>\n",
       "      <td>0</td>\n",
       "      <td>0</td>\n",
       "      <td>0</td>\n",
       "      <td>0</td>\n",
       "    </tr>\n",
       "    <tr>\n",
       "      <th>5516023003</th>\n",
       "      <td>1</td>\n",
       "      <td>0</td>\n",
       "      <td>215 S St Andrews Pl</td>\n",
       "      <td>0</td>\n",
       "      <td>0</td>\n",
       "      <td>0</td>\n",
       "      <td>582687</td>\n",
       "      <td>466154</td>\n",
       "      <td>116533</td>\n",
       "      <td>0</td>\n",
       "      <td>...</td>\n",
       "      <td>0</td>\n",
       "      <td>0</td>\n",
       "      <td>0</td>\n",
       "      <td>0</td>\n",
       "      <td>0</td>\n",
       "      <td>0</td>\n",
       "      <td>0</td>\n",
       "      <td>0</td>\n",
       "      <td>0</td>\n",
       "      <td>0</td>\n",
       "    </tr>\n",
       "    <tr>\n",
       "      <th>5515023004</th>\n",
       "      <td>0</td>\n",
       "      <td>0</td>\n",
       "      <td>122 S Larchmont Blvd</td>\n",
       "      <td>0</td>\n",
       "      <td>0</td>\n",
       "      <td>0</td>\n",
       "      <td>732290</td>\n",
       "      <td>518993</td>\n",
       "      <td>213297</td>\n",
       "      <td>0</td>\n",
       "      <td>...</td>\n",
       "      <td>0</td>\n",
       "      <td>0</td>\n",
       "      <td>0</td>\n",
       "      <td>0</td>\n",
       "      <td>0</td>\n",
       "      <td>0</td>\n",
       "      <td>0</td>\n",
       "      <td>0</td>\n",
       "      <td>0</td>\n",
       "      <td>0</td>\n",
       "    </tr>\n",
       "    <tr>\n",
       "      <th>5523001002</th>\n",
       "      <td>0</td>\n",
       "      <td>0</td>\n",
       "      <td>640 N June St</td>\n",
       "      <td>0</td>\n",
       "      <td>0</td>\n",
       "      <td>0</td>\n",
       "      <td>950936</td>\n",
       "      <td>615024</td>\n",
       "      <td>335912</td>\n",
       "      <td>0</td>\n",
       "      <td>...</td>\n",
       "      <td>0</td>\n",
       "      <td>0</td>\n",
       "      <td>0</td>\n",
       "      <td>0</td>\n",
       "      <td>0</td>\n",
       "      <td>0</td>\n",
       "      <td>0</td>\n",
       "      <td>0</td>\n",
       "      <td>0</td>\n",
       "      <td>0</td>\n",
       "    </tr>\n",
       "    <tr>\n",
       "      <th>5515012004</th>\n",
       "      <td>0</td>\n",
       "      <td>0</td>\n",
       "      <td>105 S Arden Blvd</td>\n",
       "      <td>0</td>\n",
       "      <td>0</td>\n",
       "      <td>0</td>\n",
       "      <td>718038</td>\n",
       "      <td>545610</td>\n",
       "      <td>172428</td>\n",
       "      <td>0</td>\n",
       "      <td>...</td>\n",
       "      <td>0</td>\n",
       "      <td>0</td>\n",
       "      <td>0</td>\n",
       "      <td>0</td>\n",
       "      <td>0</td>\n",
       "      <td>0</td>\n",
       "      <td>0</td>\n",
       "      <td>0</td>\n",
       "      <td>0</td>\n",
       "      <td>0</td>\n",
       "    </tr>\n",
       "  </tbody>\n",
       "</table>\n",
       "<p>5 rows × 67 columns</p>\n",
       "</div>"
      ],
      "text/plain": [
       "            Owned by Trust?  Owned by Business?           SITEADDRESS  \\\n",
       "PARCEL                                                                  \n",
       "5515022015                1                   0   253 S Plymouth Blvd   \n",
       "5516023003                1                   0   215 S St Andrews Pl   \n",
       "5515023004                0                   0  122 S Larchmont Blvd   \n",
       "5523001002                0                   0         640 N June St   \n",
       "5515012004                0                   0      105 S Arden Blvd   \n",
       "\n",
       "            MAIL DIFFERENT FROM SITE?  MAIL OUTSIDE CA?  TITLECO1  ASSDTOTAL  \\\n",
       "PARCEL                                                                         \n",
       "5515022015                          0                 0         0    1304706   \n",
       "5516023003                          0                 0         0     582687   \n",
       "5515023004                          0                 0         0     732290   \n",
       "5523001002                          0                 0         0     950936   \n",
       "5515012004                          0                 0         0     718038   \n",
       "\n",
       "            ASSDLAND  ASSDSTCT  ASSDOTHR  ...  PERSONAL REP  QUIT CLAIM  \\\n",
       "PARCEL                                    ...                             \n",
       "5515022015    731909    572797         0  ...             0           0   \n",
       "5516023003    466154    116533         0  ...             0           0   \n",
       "5515023004    518993    213297         0  ...             0           0   \n",
       "5523001002    615024    335912         0  ...             0           0   \n",
       "5515012004    545610    172428         0  ...             0           0   \n",
       "\n",
       "            RE-RECORD  RECEIVERS DEED  SHERIFFS  SPECIAL WARRANTY  TAX DEED  \\\n",
       "PARCEL                                                                        \n",
       "5515022015          0               0         0                 0         0   \n",
       "5516023003          0               0         0                 0         0   \n",
       "5515023004          0               0         0                 0         0   \n",
       "5523001002          0               0         0                 0         0   \n",
       "5515012004          0               0         0                 0         0   \n",
       "\n",
       "            TRUST TRANSFER  TRUSTEES  WARRANTY  \n",
       "PARCEL                                          \n",
       "5515022015               0         0         0  \n",
       "5516023003               0         0         0  \n",
       "5515023004               0         0         0  \n",
       "5523001002               0         0         0  \n",
       "5515012004               0         0         0  \n",
       "\n",
       "[5 rows x 67 columns]"
      ]
     },
     "execution_count": 90,
     "metadata": {},
     "output_type": "execute_result"
    }
   ],
   "source": [
    "# split it into sales and non-sales versions\n",
    "\n",
    "Total_Sellers_df = Total_df[Total_df['Did it sell?'] == 1]\n",
    "Total_Sellers_df.head()"
   ]
  },
  {
   "cell_type": "code",
   "execution_count": 91,
   "metadata": {},
   "outputs": [
    {
     "data": {
      "text/html": [
       "<div>\n",
       "<style scoped>\n",
       "    .dataframe tbody tr th:only-of-type {\n",
       "        vertical-align: middle;\n",
       "    }\n",
       "\n",
       "    .dataframe tbody tr th {\n",
       "        vertical-align: top;\n",
       "    }\n",
       "\n",
       "    .dataframe thead th {\n",
       "        text-align: right;\n",
       "    }\n",
       "</style>\n",
       "<table border=\"1\" class=\"dataframe\">\n",
       "  <thead>\n",
       "    <tr style=\"text-align: right;\">\n",
       "      <th></th>\n",
       "      <th>Owned by Trust?</th>\n",
       "      <th>Owned by Business?</th>\n",
       "      <th>SITEADDRESS</th>\n",
       "      <th>MAIL DIFFERENT FROM SITE?</th>\n",
       "      <th>MAIL OUTSIDE CA?</th>\n",
       "      <th>TITLECO1</th>\n",
       "      <th>ASSDTOTAL</th>\n",
       "      <th>ASSDLAND</th>\n",
       "      <th>ASSDSTCT</th>\n",
       "      <th>ASSDOTHR</th>\n",
       "      <th>...</th>\n",
       "      <th>PERSONAL REP</th>\n",
       "      <th>QUIT CLAIM</th>\n",
       "      <th>RE-RECORD</th>\n",
       "      <th>RECEIVERS DEED</th>\n",
       "      <th>SHERIFFS</th>\n",
       "      <th>SPECIAL WARRANTY</th>\n",
       "      <th>TAX DEED</th>\n",
       "      <th>TRUST TRANSFER</th>\n",
       "      <th>TRUSTEES</th>\n",
       "      <th>WARRANTY</th>\n",
       "    </tr>\n",
       "    <tr>\n",
       "      <th>PARCEL</th>\n",
       "      <th></th>\n",
       "      <th></th>\n",
       "      <th></th>\n",
       "      <th></th>\n",
       "      <th></th>\n",
       "      <th></th>\n",
       "      <th></th>\n",
       "      <th></th>\n",
       "      <th></th>\n",
       "      <th></th>\n",
       "      <th></th>\n",
       "      <th></th>\n",
       "      <th></th>\n",
       "      <th></th>\n",
       "      <th></th>\n",
       "      <th></th>\n",
       "      <th></th>\n",
       "      <th></th>\n",
       "      <th></th>\n",
       "      <th></th>\n",
       "      <th></th>\n",
       "    </tr>\n",
       "  </thead>\n",
       "  <tbody>\n",
       "    <tr>\n",
       "      <th>5505026001</th>\n",
       "      <td>1</td>\n",
       "      <td>0</td>\n",
       "      <td>354 N Plymouth Blvd</td>\n",
       "      <td>1</td>\n",
       "      <td>0</td>\n",
       "      <td>0</td>\n",
       "      <td>2054958</td>\n",
       "      <td>1583885</td>\n",
       "      <td>471073</td>\n",
       "      <td>0</td>\n",
       "      <td>...</td>\n",
       "      <td>0</td>\n",
       "      <td>0</td>\n",
       "      <td>0</td>\n",
       "      <td>0</td>\n",
       "      <td>0</td>\n",
       "      <td>0</td>\n",
       "      <td>0</td>\n",
       "      <td>0</td>\n",
       "      <td>0</td>\n",
       "      <td>0</td>\n",
       "    </tr>\n",
       "    <tr>\n",
       "      <th>5515028023</th>\n",
       "      <td>1</td>\n",
       "      <td>0</td>\n",
       "      <td>143 N Plymouth Blvd</td>\n",
       "      <td>0</td>\n",
       "      <td>0</td>\n",
       "      <td>0</td>\n",
       "      <td>915420</td>\n",
       "      <td>592174</td>\n",
       "      <td>323246</td>\n",
       "      <td>0</td>\n",
       "      <td>...</td>\n",
       "      <td>0</td>\n",
       "      <td>0</td>\n",
       "      <td>0</td>\n",
       "      <td>0</td>\n",
       "      <td>0</td>\n",
       "      <td>0</td>\n",
       "      <td>0</td>\n",
       "      <td>0</td>\n",
       "      <td>0</td>\n",
       "      <td>0</td>\n",
       "    </tr>\n",
       "    <tr>\n",
       "      <th>5513010003</th>\n",
       "      <td>1</td>\n",
       "      <td>0</td>\n",
       "      <td>164 N Las Palmas Ave</td>\n",
       "      <td>0</td>\n",
       "      <td>0</td>\n",
       "      <td>0</td>\n",
       "      <td>2518796</td>\n",
       "      <td>1609956</td>\n",
       "      <td>908840</td>\n",
       "      <td>0</td>\n",
       "      <td>...</td>\n",
       "      <td>0</td>\n",
       "      <td>0</td>\n",
       "      <td>0</td>\n",
       "      <td>0</td>\n",
       "      <td>0</td>\n",
       "      <td>0</td>\n",
       "      <td>0</td>\n",
       "      <td>0</td>\n",
       "      <td>0</td>\n",
       "      <td>0</td>\n",
       "    </tr>\n",
       "    <tr>\n",
       "      <th>5515012030</th>\n",
       "      <td>1</td>\n",
       "      <td>0</td>\n",
       "      <td>108 S Rossmore Ave</td>\n",
       "      <td>1</td>\n",
       "      <td>0</td>\n",
       "      <td>0</td>\n",
       "      <td>1428176</td>\n",
       "      <td>999727</td>\n",
       "      <td>428449</td>\n",
       "      <td>0</td>\n",
       "      <td>...</td>\n",
       "      <td>0</td>\n",
       "      <td>0</td>\n",
       "      <td>0</td>\n",
       "      <td>0</td>\n",
       "      <td>0</td>\n",
       "      <td>0</td>\n",
       "      <td>0</td>\n",
       "      <td>0</td>\n",
       "      <td>0</td>\n",
       "      <td>0</td>\n",
       "    </tr>\n",
       "    <tr>\n",
       "      <th>5516002020</th>\n",
       "      <td>1</td>\n",
       "      <td>0</td>\n",
       "      <td>223 S Irving Blvd</td>\n",
       "      <td>0</td>\n",
       "      <td>0</td>\n",
       "      <td>0</td>\n",
       "      <td>1167489</td>\n",
       "      <td>689700</td>\n",
       "      <td>477789</td>\n",
       "      <td>0</td>\n",
       "      <td>...</td>\n",
       "      <td>0</td>\n",
       "      <td>0</td>\n",
       "      <td>0</td>\n",
       "      <td>0</td>\n",
       "      <td>0</td>\n",
       "      <td>0</td>\n",
       "      <td>0</td>\n",
       "      <td>0</td>\n",
       "      <td>0</td>\n",
       "      <td>0</td>\n",
       "    </tr>\n",
       "  </tbody>\n",
       "</table>\n",
       "<p>5 rows × 67 columns</p>\n",
       "</div>"
      ],
      "text/plain": [
       "            Owned by Trust?  Owned by Business?           SITEADDRESS  \\\n",
       "PARCEL                                                                  \n",
       "5505026001                1                   0   354 N Plymouth Blvd   \n",
       "5515028023                1                   0   143 N Plymouth Blvd   \n",
       "5513010003                1                   0  164 N Las Palmas Ave   \n",
       "5515012030                1                   0    108 S Rossmore Ave   \n",
       "5516002020                1                   0     223 S Irving Blvd   \n",
       "\n",
       "            MAIL DIFFERENT FROM SITE?  MAIL OUTSIDE CA?  TITLECO1  ASSDTOTAL  \\\n",
       "PARCEL                                                                         \n",
       "5505026001                          1                 0         0    2054958   \n",
       "5515028023                          0                 0         0     915420   \n",
       "5513010003                          0                 0         0    2518796   \n",
       "5515012030                          1                 0         0    1428176   \n",
       "5516002020                          0                 0         0    1167489   \n",
       "\n",
       "            ASSDLAND  ASSDSTCT  ASSDOTHR  ...  PERSONAL REP  QUIT CLAIM  \\\n",
       "PARCEL                                    ...                             \n",
       "5505026001   1583885    471073         0  ...             0           0   \n",
       "5515028023    592174    323246         0  ...             0           0   \n",
       "5513010003   1609956    908840         0  ...             0           0   \n",
       "5515012030    999727    428449         0  ...             0           0   \n",
       "5516002020    689700    477789         0  ...             0           0   \n",
       "\n",
       "            RE-RECORD  RECEIVERS DEED  SHERIFFS  SPECIAL WARRANTY  TAX DEED  \\\n",
       "PARCEL                                                                        \n",
       "5505026001          0               0         0                 0         0   \n",
       "5515028023          0               0         0                 0         0   \n",
       "5513010003          0               0         0                 0         0   \n",
       "5515012030          0               0         0                 0         0   \n",
       "5516002020          0               0         0                 0         0   \n",
       "\n",
       "            TRUST TRANSFER  TRUSTEES  WARRANTY  \n",
       "PARCEL                                          \n",
       "5505026001               0         0         0  \n",
       "5515028023               0         0         0  \n",
       "5513010003               0         0         0  \n",
       "5515012030               0         0         0  \n",
       "5516002020               0         0         0  \n",
       "\n",
       "[5 rows x 67 columns]"
      ]
     },
     "execution_count": 91,
     "metadata": {},
     "output_type": "execute_result"
    }
   ],
   "source": [
    "Total_NonSellers_df = Total_df[Total_df['Did it sell?'] == 0]\n",
    "Total_NonSellers_df.head()"
   ]
  },
  {
   "cell_type": "code",
   "execution_count": 92,
   "metadata": {},
   "outputs": [],
   "source": [
    "# Compare Assessed Total i.e 'ASSDTOTAL' in the dataframes"
   ]
  },
  {
   "cell_type": "code",
   "execution_count": 93,
   "metadata": {},
   "outputs": [],
   "source": [
    "# create bins with even increments\n",
    "bins_space = range(0,10000000,1000)"
   ]
  },
  {
   "cell_type": "code",
   "execution_count": 94,
   "metadata": {},
   "outputs": [
    {
     "name": "stderr",
     "output_type": "stream",
     "text": [
      "/Users/Admin/opt/anaconda3/envs/mlenv/lib/python3.7/site-packages/ipykernel_launcher.py:1: SettingWithCopyWarning: \n",
      "A value is trying to be set on a copy of a slice from a DataFrame.\n",
      "Try using .loc[row_indexer,col_indexer] = value instead\n",
      "\n",
      "See the caveats in the documentation: https://pandas.pydata.org/pandas-docs/stable/user_guide/indexing.html#returning-a-view-versus-a-copy\n",
      "  \"\"\"Entry point for launching an IPython kernel.\n",
      "/Users/Admin/opt/anaconda3/envs/mlenv/lib/python3.7/site-packages/ipykernel_launcher.py:2: SettingWithCopyWarning: \n",
      "A value is trying to be set on a copy of a slice from a DataFrame.\n",
      "Try using .loc[row_indexer,col_indexer] = value instead\n",
      "\n",
      "See the caveats in the documentation: https://pandas.pydata.org/pandas-docs/stable/user_guide/indexing.html#returning-a-view-versus-a-copy\n",
      "  \n"
     ]
    },
    {
     "data": {
      "text/html": [
       "<div>\n",
       "<style scoped>\n",
       "    .dataframe tbody tr th:only-of-type {\n",
       "        vertical-align: middle;\n",
       "    }\n",
       "\n",
       "    .dataframe tbody tr th {\n",
       "        vertical-align: top;\n",
       "    }\n",
       "\n",
       "    .dataframe thead th {\n",
       "        text-align: right;\n",
       "    }\n",
       "</style>\n",
       "<table border=\"1\" class=\"dataframe\">\n",
       "  <thead>\n",
       "    <tr style=\"text-align: right;\">\n",
       "      <th></th>\n",
       "      <th>Owned by Trust?</th>\n",
       "      <th>Owned by Business?</th>\n",
       "      <th>SITEADDRESS</th>\n",
       "      <th>MAIL DIFFERENT FROM SITE?</th>\n",
       "      <th>MAIL OUTSIDE CA?</th>\n",
       "      <th>TITLECO1</th>\n",
       "      <th>ASSDTOTAL</th>\n",
       "      <th>ASSDLAND</th>\n",
       "      <th>ASSDSTCT</th>\n",
       "      <th>ASSDOTHR</th>\n",
       "      <th>...</th>\n",
       "      <th>QUIT CLAIM</th>\n",
       "      <th>RE-RECORD</th>\n",
       "      <th>RECEIVERS DEED</th>\n",
       "      <th>SHERIFFS</th>\n",
       "      <th>SPECIAL WARRANTY</th>\n",
       "      <th>TAX DEED</th>\n",
       "      <th>TRUST TRANSFER</th>\n",
       "      <th>TRUSTEES</th>\n",
       "      <th>WARRANTY</th>\n",
       "      <th>QUANTILEASSDTOTAL</th>\n",
       "    </tr>\n",
       "    <tr>\n",
       "      <th>PARCEL</th>\n",
       "      <th></th>\n",
       "      <th></th>\n",
       "      <th></th>\n",
       "      <th></th>\n",
       "      <th></th>\n",
       "      <th></th>\n",
       "      <th></th>\n",
       "      <th></th>\n",
       "      <th></th>\n",
       "      <th></th>\n",
       "      <th></th>\n",
       "      <th></th>\n",
       "      <th></th>\n",
       "      <th></th>\n",
       "      <th></th>\n",
       "      <th></th>\n",
       "      <th></th>\n",
       "      <th></th>\n",
       "      <th></th>\n",
       "      <th></th>\n",
       "      <th></th>\n",
       "    </tr>\n",
       "  </thead>\n",
       "  <tbody>\n",
       "    <tr>\n",
       "      <th>5505026001</th>\n",
       "      <td>1</td>\n",
       "      <td>0</td>\n",
       "      <td>354 N Plymouth Blvd</td>\n",
       "      <td>1</td>\n",
       "      <td>0</td>\n",
       "      <td>0</td>\n",
       "      <td>2054958</td>\n",
       "      <td>1583885</td>\n",
       "      <td>471073</td>\n",
       "      <td>0</td>\n",
       "      <td>...</td>\n",
       "      <td>0</td>\n",
       "      <td>0</td>\n",
       "      <td>0</td>\n",
       "      <td>0</td>\n",
       "      <td>0</td>\n",
       "      <td>0</td>\n",
       "      <td>0</td>\n",
       "      <td>0</td>\n",
       "      <td>0</td>\n",
       "      <td>(2054000, 2055000]</td>\n",
       "    </tr>\n",
       "    <tr>\n",
       "      <th>5515028023</th>\n",
       "      <td>1</td>\n",
       "      <td>0</td>\n",
       "      <td>143 N Plymouth Blvd</td>\n",
       "      <td>0</td>\n",
       "      <td>0</td>\n",
       "      <td>0</td>\n",
       "      <td>915420</td>\n",
       "      <td>592174</td>\n",
       "      <td>323246</td>\n",
       "      <td>0</td>\n",
       "      <td>...</td>\n",
       "      <td>0</td>\n",
       "      <td>0</td>\n",
       "      <td>0</td>\n",
       "      <td>0</td>\n",
       "      <td>0</td>\n",
       "      <td>0</td>\n",
       "      <td>0</td>\n",
       "      <td>0</td>\n",
       "      <td>0</td>\n",
       "      <td>(915000, 916000]</td>\n",
       "    </tr>\n",
       "    <tr>\n",
       "      <th>5513010003</th>\n",
       "      <td>1</td>\n",
       "      <td>0</td>\n",
       "      <td>164 N Las Palmas Ave</td>\n",
       "      <td>0</td>\n",
       "      <td>0</td>\n",
       "      <td>0</td>\n",
       "      <td>2518796</td>\n",
       "      <td>1609956</td>\n",
       "      <td>908840</td>\n",
       "      <td>0</td>\n",
       "      <td>...</td>\n",
       "      <td>0</td>\n",
       "      <td>0</td>\n",
       "      <td>0</td>\n",
       "      <td>0</td>\n",
       "      <td>0</td>\n",
       "      <td>0</td>\n",
       "      <td>0</td>\n",
       "      <td>0</td>\n",
       "      <td>0</td>\n",
       "      <td>(2518000, 2519000]</td>\n",
       "    </tr>\n",
       "    <tr>\n",
       "      <th>5515012030</th>\n",
       "      <td>1</td>\n",
       "      <td>0</td>\n",
       "      <td>108 S Rossmore Ave</td>\n",
       "      <td>1</td>\n",
       "      <td>0</td>\n",
       "      <td>0</td>\n",
       "      <td>1428176</td>\n",
       "      <td>999727</td>\n",
       "      <td>428449</td>\n",
       "      <td>0</td>\n",
       "      <td>...</td>\n",
       "      <td>0</td>\n",
       "      <td>0</td>\n",
       "      <td>0</td>\n",
       "      <td>0</td>\n",
       "      <td>0</td>\n",
       "      <td>0</td>\n",
       "      <td>0</td>\n",
       "      <td>0</td>\n",
       "      <td>0</td>\n",
       "      <td>(1428000, 1429000]</td>\n",
       "    </tr>\n",
       "    <tr>\n",
       "      <th>5516002020</th>\n",
       "      <td>1</td>\n",
       "      <td>0</td>\n",
       "      <td>223 S Irving Blvd</td>\n",
       "      <td>0</td>\n",
       "      <td>0</td>\n",
       "      <td>0</td>\n",
       "      <td>1167489</td>\n",
       "      <td>689700</td>\n",
       "      <td>477789</td>\n",
       "      <td>0</td>\n",
       "      <td>...</td>\n",
       "      <td>0</td>\n",
       "      <td>0</td>\n",
       "      <td>0</td>\n",
       "      <td>0</td>\n",
       "      <td>0</td>\n",
       "      <td>0</td>\n",
       "      <td>0</td>\n",
       "      <td>0</td>\n",
       "      <td>0</td>\n",
       "      <td>(1167000, 1168000]</td>\n",
       "    </tr>\n",
       "  </tbody>\n",
       "</table>\n",
       "<p>5 rows × 68 columns</p>\n",
       "</div>"
      ],
      "text/plain": [
       "            Owned by Trust?  Owned by Business?           SITEADDRESS  \\\n",
       "PARCEL                                                                  \n",
       "5505026001                1                   0   354 N Plymouth Blvd   \n",
       "5515028023                1                   0   143 N Plymouth Blvd   \n",
       "5513010003                1                   0  164 N Las Palmas Ave   \n",
       "5515012030                1                   0    108 S Rossmore Ave   \n",
       "5516002020                1                   0     223 S Irving Blvd   \n",
       "\n",
       "            MAIL DIFFERENT FROM SITE?  MAIL OUTSIDE CA?  TITLECO1  ASSDTOTAL  \\\n",
       "PARCEL                                                                         \n",
       "5505026001                          1                 0         0    2054958   \n",
       "5515028023                          0                 0         0     915420   \n",
       "5513010003                          0                 0         0    2518796   \n",
       "5515012030                          1                 0         0    1428176   \n",
       "5516002020                          0                 0         0    1167489   \n",
       "\n",
       "            ASSDLAND  ASSDSTCT  ASSDOTHR  ...  QUIT CLAIM  RE-RECORD  \\\n",
       "PARCEL                                    ...                          \n",
       "5505026001   1583885    471073         0  ...           0          0   \n",
       "5515028023    592174    323246         0  ...           0          0   \n",
       "5513010003   1609956    908840         0  ...           0          0   \n",
       "5515012030    999727    428449         0  ...           0          0   \n",
       "5516002020    689700    477789         0  ...           0          0   \n",
       "\n",
       "            RECEIVERS DEED  SHERIFFS  SPECIAL WARRANTY  TAX DEED  \\\n",
       "PARCEL                                                             \n",
       "5505026001               0         0                 0         0   \n",
       "5515028023               0         0                 0         0   \n",
       "5513010003               0         0                 0         0   \n",
       "5515012030               0         0                 0         0   \n",
       "5516002020               0         0                 0         0   \n",
       "\n",
       "            TRUST TRANSFER  TRUSTEES  WARRANTY   QUANTILEASSDTOTAL  \n",
       "PARCEL                                                              \n",
       "5505026001               0         0         0  (2054000, 2055000]  \n",
       "5515028023               0         0         0    (915000, 916000]  \n",
       "5513010003               0         0         0  (2518000, 2519000]  \n",
       "5515012030               0         0         0  (1428000, 1429000]  \n",
       "5516002020               0         0         0  (1167000, 1168000]  \n",
       "\n",
       "[5 rows x 68 columns]"
      ]
     },
     "execution_count": 94,
     "metadata": {},
     "output_type": "execute_result"
    }
   ],
   "source": [
    "Total_Sellers_df['QUANTILEASSDTOTAL'] = pd.cut(Total_Sellers_df['ASSDTOTAL'], bins_space)\n",
    "Total_NonSellers_df['QUANTILEASSDTOTAL'] = pd.cut(Total_NonSellers_df['ASSDTOTAL'], bins_space)\n",
    "\n",
    "Total_NonSellers_df.head()"
   ]
  },
  {
   "cell_type": "code",
   "execution_count": 95,
   "metadata": {},
   "outputs": [
    {
     "data": {
      "text/plain": [
       "11953.649445350735"
      ]
     },
     "execution_count": 95,
     "metadata": {},
     "output_type": "execute_result"
    }
   ],
   "source": [
    "Total_Sellers_df['TAXAMT'][Total_Sellers_df['TAXAMT'] != 0].mean()"
   ]
  },
  {
   "cell_type": "code",
   "execution_count": 96,
   "metadata": {},
   "outputs": [
    {
     "data": {
      "text/plain": [
       "11601.167005739166"
      ]
     },
     "execution_count": 96,
     "metadata": {},
     "output_type": "execute_result"
    }
   ],
   "source": [
    "Total_Sellers_df['TAXAMT'].mean()"
   ]
  },
  {
   "cell_type": "code",
   "execution_count": 97,
   "metadata": {},
   "outputs": [
    {
     "data": {
      "text/plain": [
       "13817.960770419379"
      ]
     },
     "execution_count": 97,
     "metadata": {},
     "output_type": "execute_result"
    }
   ],
   "source": [
    "Total_Sellers_df['TAXAMT'][Total_Sellers_df['TAXAMT'] != 0].std()"
   ]
  },
  {
   "cell_type": "code",
   "execution_count": 98,
   "metadata": {},
   "outputs": [
    {
     "data": {
      "text/plain": [
       "10133.399039051745"
      ]
     },
     "execution_count": 98,
     "metadata": {},
     "output_type": "execute_result"
    }
   ],
   "source": [
    "Total_NonSellers_df['TAXAMT'][Total_NonSellers_df['TAXAMT'] != 0].mean()"
   ]
  },
  {
   "cell_type": "code",
   "execution_count": 99,
   "metadata": {},
   "outputs": [
    {
     "data": {
      "text/plain": [
       "11401.006341868193"
      ]
     },
     "execution_count": 99,
     "metadata": {},
     "output_type": "execute_result"
    }
   ],
   "source": [
    "Total_NonSellers_df['TAXAMT'][Total_NonSellers_df['TAXAMT'] != 0].std()"
   ]
  },
  {
   "cell_type": "code",
   "execution_count": 100,
   "metadata": {},
   "outputs": [
    {
     "data": {
      "text/plain": [
       "9837.871012806654"
      ]
     },
     "execution_count": 100,
     "metadata": {},
     "output_type": "execute_result"
    }
   ],
   "source": [
    "Total_NonSellers_df['TAXAMT'].mean()"
   ]
  },
  {
   "cell_type": "code",
   "execution_count": 194,
   "metadata": {},
   "outputs": [
    {
     "data": {
      "image/png": "[encoded data removed]",
      "text/plain": [
       "<Figure size 720x432 with 1 Axes>"
      ]
     },
     "metadata": {},
     "output_type": "display_data"
    }
   ],
   "source": [
    "xtick_markers = [0,5000,10000,15000,20000,25000,30000,35000,40000,45000,50000,55000]\n",
    "\n",
    "x = np.arange(0, 60000, 500)\n",
    "# create range of y-values that correspond to the normal pdf with mean = 0, and sd = 1\n",
    "y = norm.pdf(x,11953, 13817)\n",
    "q = norm.pdf(x,10133, 11401)\n",
    "fig, ax = plt.subplots(figsize = (10,6))\n",
    "ax.plot(x,y, label=\"seller\")\n",
    "ax.plot(x,q, label=\"non_seller\")\n",
    "#ax.set_sticks([-1000,0,1000])\n",
    "ax.legend(['Sellers', 'Non-Sellers'])\n",
    "ax.set_xticks(xtick_markers)\n",
    "ax.tick_params(axis='x', labelrotation=45)\n",
    "ax.set_title('Tax Amount Distribution: Sellers vs Non-Sellers')\n",
    "ax.set_xlabel('Tax Amount in $')\n",
    "ax.set_ylabel('Percentage %')\n",
    "plt.savefig('Tax_Amount.png')"
   ]
  },
  {
   "cell_type": "code",
   "execution_count": 102,
   "metadata": {},
   "outputs": [
    {
     "data": {
      "text/plain": [
       "977262.0439342965"
      ]
     },
     "execution_count": 102,
     "metadata": {},
     "output_type": "execute_result"
    }
   ],
   "source": [
    "# Now do assessed total \n",
    "\n",
    "Total_Sellers_df['ASSDTOTAL'][Total_Sellers_df['ASSDTOTAL'] != 0].mean()"
   ]
  },
  {
   "cell_type": "code",
   "execution_count": 103,
   "metadata": {},
   "outputs": [
    {
     "data": {
      "text/plain": [
       "1140514.323627034"
      ]
     },
     "execution_count": 103,
     "metadata": {},
     "output_type": "execute_result"
    }
   ],
   "source": [
    "Total_Sellers_df['ASSDTOTAL'][Total_Sellers_df['ASSDTOTAL'] != 0].std()"
   ]
  },
  {
   "cell_type": "code",
   "execution_count": 104,
   "metadata": {},
   "outputs": [
    {
     "data": {
      "text/plain": [
       "833009.405851772"
      ]
     },
     "execution_count": 104,
     "metadata": {},
     "output_type": "execute_result"
    }
   ],
   "source": [
    "Total_NonSellers_df['ASSDTOTAL'][Total_NonSellers_df['ASSDTOTAL'] != 0].mean()"
   ]
  },
  {
   "cell_type": "code",
   "execution_count": 105,
   "metadata": {},
   "outputs": [
    {
     "data": {
      "text/plain": [
       "1184704.2215321637"
      ]
     },
     "execution_count": 105,
     "metadata": {},
     "output_type": "execute_result"
    }
   ],
   "source": [
    "Total_NonSellers_df['ASSDTOTAL'][Total_NonSellers_df['ASSDTOTAL'] != 0].std()"
   ]
  },
  {
   "cell_type": "code",
   "execution_count": 195,
   "metadata": {},
   "outputs": [
    {
     "data": {
      "image/png": "[encoded data removed]",
      "text/plain": [
       "<Figure size 720x432 with 1 Axes>"
      ]
     },
     "metadata": {},
     "output_type": "display_data"
    }
   ],
   "source": [
    "#xtick_markers = [500000,1000000,1500000,2000000,2500000,3000000,3500000,4000000]\n",
    "xtick_markers = [400000,\n",
    "                 800000,\n",
    "                1200000,\n",
    "                1600000,\n",
    "                2000000,\n",
    "                2400000,\n",
    "                2800000,\n",
    "                3200000,\n",
    "                3600000,\n",
    "                4000000]\n",
    "\n",
    "x = np.arange(0, 4000000, 1000)\n",
    "# create range of y-values that correspond to the normal pdf with mean = 0, and sd = 1\n",
    "y = norm.pdf(x,977262, 1140514)\n",
    "q = norm.pdf(x,833009, 1184704)\n",
    "fig, ax = plt.subplots(figsize = (10,6))\n",
    "ax.plot(x,y, label=\"seller\")\n",
    "ax.plot(x,q, label=\"non_seller\")\n",
    "#ax.set_sticks([-1000,0,1000])\n",
    "ax.legend(['Sellers', 'Non-Sellers'])\n",
    "ax.set_xticks(xtick_markers)\n",
    "ax.tick_params(axis='x', labelrotation=45)\n",
    "ax.set_title('Assessed Value Distribution: Sellers vs Non-Sellers')\n",
    "ax.set_xlabel('Assessed Value in $Millions')\n",
    "ax.set_ylabel('Percentage %')\n",
    "plt.savefig('Assessed_Value.png')"
   ]
  },
  {
   "cell_type": "code",
   "execution_count": 132,
   "metadata": {},
   "outputs": [
    {
     "data": {
      "text/plain": [
       "772414.2597354886"
      ]
     },
     "execution_count": 132,
     "metadata": {},
     "output_type": "execute_result"
    }
   ],
   "source": [
    "# Now do loan amount total \n",
    "\n",
    "Total_Sellers_df['LOANAMOUT1'][Total_Sellers_df['LOANAMOUT1'] != 0].mean()"
   ]
  },
  {
   "cell_type": "code",
   "execution_count": 136,
   "metadata": {},
   "outputs": [
    {
     "data": {
      "text/plain": [
       "880816.4438594123"
      ]
     },
     "execution_count": 136,
     "metadata": {},
     "output_type": "execute_result"
    }
   ],
   "source": [
    "Total_Sellers_df['LOANAMOUT1'][Total_Sellers_df['LOANAMOUT1'] != 0].std()"
   ]
  },
  {
   "cell_type": "code",
   "execution_count": 134,
   "metadata": {},
   "outputs": [
    {
     "data": {
      "text/plain": [
       "641269.5488675529"
      ]
     },
     "execution_count": 134,
     "metadata": {},
     "output_type": "execute_result"
    }
   ],
   "source": [
    "\n",
    "Total_NonSellers_df['LOANAMOUT1'][Total_NonSellers_df['LOANAMOUT1'] != 0].mean()"
   ]
  },
  {
   "cell_type": "code",
   "execution_count": 137,
   "metadata": {},
   "outputs": [
    {
     "data": {
      "text/plain": [
       "732453.8489046537"
      ]
     },
     "execution_count": 137,
     "metadata": {},
     "output_type": "execute_result"
    }
   ],
   "source": [
    "Total_NonSellers_df['LOANAMOUT1'][Total_NonSellers_df['LOANAMOUT1'] != 0].std()"
   ]
  },
  {
   "cell_type": "code",
   "execution_count": 196,
   "metadata": {},
   "outputs": [
    {
     "data": {
      "image/png": "[encoded data removed]",
      "text/plain": [
       "<Figure size 720x432 with 1 Axes>"
      ]
     },
     "metadata": {},
     "output_type": "display_data"
    }
   ],
   "source": [
    "xtick_markers = [400000,\n",
    "                 800000,\n",
    "                1200000,\n",
    "                1600000,\n",
    "                2000000,\n",
    "                2400000,\n",
    "                2800000,\n",
    "                3200000,\n",
    "                3600000,\n",
    "                4000000]\n",
    "\n",
    "x = np.arange(0, 4000000, 1000)\n",
    "# create range of y-values that correspond to the normal pdf with mean = 0, and sd = 1\n",
    "y = norm.pdf(x,772414, 880816)\n",
    "q = norm.pdf(x,641269, 732453)\n",
    "fig, ax = plt.subplots(figsize = (10,6))\n",
    "ax.plot(x,y, label=\"seller\")\n",
    "ax.plot(x,q, label=\"non_seller\")\n",
    "#ax.set_sticks([-1000,0,1000])\n",
    "ax.legend(['Sellers', 'Non-Sellers'])\n",
    "ax.set_xticks(xtick_markers)\n",
    "ax.tick_params(axis='x', labelrotation=45)\n",
    "ax.set_title('Loan Amount Distribution: Sellers vs Non-Sellers')\n",
    "ax.set_xlabel('Loan Amount in Millions')\n",
    "ax.set_ylabel('% Frequency of Loan Size')\n",
    "plt.savefig('Loan_Amount.png')"
   ]
  },
  {
   "cell_type": "code",
   "execution_count": 139,
   "metadata": {},
   "outputs": [
    {
     "data": {
      "text/plain": [
       "1967.8078369285572"
      ]
     },
     "execution_count": 139,
     "metadata": {},
     "output_type": "execute_result"
    }
   ],
   "source": [
    "# Now to Property Size\n",
    "\n",
    "Total_Sellers_df['TOTALSF'].mean()"
   ]
  },
  {
   "cell_type": "code",
   "execution_count": 140,
   "metadata": {},
   "outputs": [
    {
     "data": {
      "text/plain": [
       "1186.6798167209372"
      ]
     },
     "execution_count": 140,
     "metadata": {},
     "output_type": "execute_result"
    }
   ],
   "source": [
    "Total_Sellers_df['TOTALSF'].std()"
   ]
  },
  {
   "cell_type": "code",
   "execution_count": 141,
   "metadata": {},
   "outputs": [
    {
     "data": {
      "text/plain": [
       "2043.9562860584542"
      ]
     },
     "execution_count": 141,
     "metadata": {},
     "output_type": "execute_result"
    }
   ],
   "source": [
    "Total_NonSellers_df['TOTALSF'].mean()"
   ]
  },
  {
   "cell_type": "code",
   "execution_count": 145,
   "metadata": {},
   "outputs": [
    {
     "data": {
      "text/plain": [
       "1946.8603948600523"
      ]
     },
     "execution_count": 145,
     "metadata": {},
     "output_type": "execute_result"
    }
   ],
   "source": [
    "Total_NonSellers_df['TOTALSF'].std()"
   ]
  },
  {
   "cell_type": "code",
   "execution_count": 197,
   "metadata": {},
   "outputs": [
    {
     "data": {
      "image/png": "[encoded data removed]",
      "text/plain": [
       "<Figure size 720x432 with 1 Axes>"
      ]
     },
     "metadata": {},
     "output_type": "display_data"
    }
   ],
   "source": [
    "xtick_markers = [400,\n",
    "                 800,\n",
    "                1200,\n",
    "                1600,\n",
    "                2000,\n",
    "                2400,\n",
    "                2800,\n",
    "                3200,\n",
    "                3600,\n",
    "                4000,4400,4800,5200,5600,6000,6400,6800,7200,7600,8000]\n",
    "\n",
    "x = np.arange(0, 8000, 100)\n",
    "# create range of y-values that correspond to the normal pdf with mean = 0, and sd = 1\n",
    "y = norm.pdf(x,1967, 1186)\n",
    "q = norm.pdf(x,2043, 1946)\n",
    "fig, ax = plt.subplots(figsize = (10,6))\n",
    "ax.plot(x,y, label=\"seller\")\n",
    "ax.plot(x,q, label=\"non_seller\")\n",
    "#ax.set_sticks([-1000,0,1000])\n",
    "ax.legend(['Sellers', 'Non-Sellers'])\n",
    "ax.set_xticks(xtick_markers)\n",
    "#ax.set_xticklabels('$')\n",
    "ax.tick_params(axis='x', labelrotation=45)\n",
    "ax.set_title('Average Size: Sellers vs Non-Sellers')\n",
    "ax.set_xlabel('Square Feet')\n",
    "ax.set_ylabel('Frequency of Size')\n",
    "plt.savefig('Average_Size.png')"
   ]
  },
  {
   "cell_type": "code",
   "execution_count": 172,
   "metadata": {},
   "outputs": [
    {
     "data": {
      "text/plain": [
       "484104.2"
      ]
     },
     "execution_count": 172,
     "metadata": {},
     "output_type": "execute_result"
    }
   ],
   "source": [
    "# Now bin the entirety of each seller and non-seller group into 100 bins.\n",
    "# Then chart the avg value of each bin\n",
    "\n",
    "Total_Sellers_df['TAXAMT'].max()"
   ]
  },
  {
   "cell_type": "code",
   "execution_count": 173,
   "metadata": {},
   "outputs": [
    {
     "data": {
      "text/plain": [
       "407861.25"
      ]
     },
     "execution_count": 173,
     "metadata": {},
     "output_type": "execute_result"
    }
   ],
   "source": [
    "Total_NonSellers_df['TAXAMT'].max()"
   ]
  },
  {
   "cell_type": "code",
   "execution_count": 184,
   "metadata": {},
   "outputs": [],
   "source": [
    "# create our bins\n",
    "\n",
    "bins_space = range(0,505000,5000)"
   ]
  },
  {
   "cell_type": "code",
   "execution_count": null,
   "metadata": {},
   "outputs": [],
   "source": [
    "# create 100 bins based on tax amount\n",
    "Total_Sellers_df['quantiletaxamt'] = pd.cut(Total_Sellers_df['TAXAMT'], bins_space)"
   ]
  },
  {
   "cell_type": "markdown",
   "metadata": {},
   "source": [
    "# Make an Ogive chart"
   ]
  },
  {
   "cell_type": "code",
   "execution_count": null,
   "metadata": {},
   "outputs": [],
   "source": []
  }
 ],
 "metadata": {
  "kernelspec": {
   "display_name": "mlenv",
   "language": "python",
   "name": "mlenv"
  },
  "language_info": {
   "codemirror_mode": {
    "name": "ipython",
    "version": 3
   },
   "file_extension": ".py",
   "mimetype": "text/x-python",
   "name": "python",
   "nbconvert_exporter": "python",
   "pygments_lexer": "ipython3",
   "version": "3.7.9"
  }
 },
 "nbformat": 4,
 "nbformat_minor": 4
}
