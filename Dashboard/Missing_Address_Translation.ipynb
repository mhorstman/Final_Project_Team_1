{
 "cells": [
  {
   "cell_type": "code",
   "execution_count": 1,
   "id": "contrary-minority",
   "metadata": {},
   "outputs": [],
   "source": [
    "# Import Python dependencies\n",
    "import pandas as pd\n",
    "from geopy.extra.rate_limiter import RateLimiter\n",
    "from geopy.geocoders import GoogleV3"
   ]
  },
  {
   "cell_type": "code",
   "execution_count": 57,
   "id": "ancient-wright",
   "metadata": {},
   "outputs": [
    {
     "data": {
      "text/html": [
       "<div>\n",
       "<style scoped>\n",
       "    .dataframe tbody tr th:only-of-type {\n",
       "        vertical-align: middle;\n",
       "    }\n",
       "\n",
       "    .dataframe tbody tr th {\n",
       "        vertical-align: top;\n",
       "    }\n",
       "\n",
       "    .dataframe thead th {\n",
       "        text-align: right;\n",
       "    }\n",
       "</style>\n",
       "<table border=\"1\" class=\"dataframe\">\n",
       "  <thead>\n",
       "    <tr style=\"text-align: right;\">\n",
       "      <th></th>\n",
       "      <th>Order</th>\n",
       "      <th>Parcel</th>\n",
       "      <th>Neighborhood</th>\n",
       "      <th>House Type</th>\n",
       "      <th>Address</th>\n",
       "      <th>Lat</th>\n",
       "      <th>Lng</th>\n",
       "      <th>Did it sell?</th>\n",
       "      <th>Prediction</th>\n",
       "      <th>Actual</th>\n",
       "      <th>Prediction Result</th>\n",
       "    </tr>\n",
       "  </thead>\n",
       "  <tbody>\n",
       "    <tr>\n",
       "      <th>0</th>\n",
       "      <td>14</td>\n",
       "      <td>4333013059</td>\n",
       "      <td>Beverly Grove</td>\n",
       "      <td>Condo</td>\n",
       "      <td>811 S Bedford St #101, Los Angeles, CA 90035</td>\n",
       "      <td>NaN</td>\n",
       "      <td>NaN</td>\n",
       "      <td>0</td>\n",
       "      <td>1</td>\n",
       "      <td>0.0</td>\n",
       "      <td>Prediction Incorrect - Not Sold</td>\n",
       "    </tr>\n",
       "    <tr>\n",
       "      <th>1</th>\n",
       "      <td>24</td>\n",
       "      <td>4332021069</td>\n",
       "      <td>Beverly Grove</td>\n",
       "      <td>Condo</td>\n",
       "      <td>1046 S Bedford St #1, Los Angeles, CA 90035</td>\n",
       "      <td>NaN</td>\n",
       "      <td>NaN</td>\n",
       "      <td>0</td>\n",
       "      <td>1</td>\n",
       "      <td>0.0</td>\n",
       "      <td>Prediction Incorrect - Not Sold</td>\n",
       "    </tr>\n",
       "    <tr>\n",
       "      <th>2</th>\n",
       "      <td>28</td>\n",
       "      <td>4335003031</td>\n",
       "      <td>Beverly Grove</td>\n",
       "      <td>Condo</td>\n",
       "      <td>146 N Almont Dr #2, West Hollywood, CA 90048</td>\n",
       "      <td>NaN</td>\n",
       "      <td>NaN</td>\n",
       "      <td>0</td>\n",
       "      <td>1</td>\n",
       "      <td>0.0</td>\n",
       "      <td>Prediction Incorrect - Not Sold</td>\n",
       "    </tr>\n",
       "    <tr>\n",
       "      <th>3</th>\n",
       "      <td>35</td>\n",
       "      <td>4335014047</td>\n",
       "      <td>Beverly Grove</td>\n",
       "      <td>Condo</td>\n",
       "      <td>8963 Burton Way #101, Los Angeles, CA 90048</td>\n",
       "      <td>NaN</td>\n",
       "      <td>NaN</td>\n",
       "      <td>0</td>\n",
       "      <td>1</td>\n",
       "      <td>0.0</td>\n",
       "      <td>Prediction Incorrect - Not Sold</td>\n",
       "    </tr>\n",
       "    <tr>\n",
       "      <th>4</th>\n",
       "      <td>77</td>\n",
       "      <td>4335008231</td>\n",
       "      <td>Beverly Grove</td>\n",
       "      <td>Condo</td>\n",
       "      <td>100 S Doheny Dr #101, Los Angeles, CA 90048</td>\n",
       "      <td>NaN</td>\n",
       "      <td>NaN</td>\n",
       "      <td>0</td>\n",
       "      <td>1</td>\n",
       "      <td>0.0</td>\n",
       "      <td>Prediction Incorrect - Not Sold</td>\n",
       "    </tr>\n",
       "  </tbody>\n",
       "</table>\n",
       "</div>"
      ],
      "text/plain": [
       "   Order      Parcel   Neighborhood House Type  \\\n",
       "0     14  4333013059  Beverly Grove      Condo   \n",
       "1     24  4332021069  Beverly Grove      Condo   \n",
       "2     28  4335003031  Beverly Grove      Condo   \n",
       "3     35  4335014047  Beverly Grove      Condo   \n",
       "4     77  4335008231  Beverly Grove      Condo   \n",
       "\n",
       "                                        Address  Lat  Lng  Did it sell?  \\\n",
       "0  811 S Bedford St #101, Los Angeles, CA 90035  NaN  NaN             0   \n",
       "1   1046 S Bedford St #1, Los Angeles, CA 90035  NaN  NaN             0   \n",
       "2  146 N Almont Dr #2, West Hollywood, CA 90048  NaN  NaN             0   \n",
       "3   8963 Burton Way #101, Los Angeles, CA 90048  NaN  NaN             0   \n",
       "4   100 S Doheny Dr #101, Los Angeles, CA 90048  NaN  NaN             0   \n",
       "\n",
       "   Prediction  Actual                Prediction Result  \n",
       "0           1     0.0  Prediction Incorrect - Not Sold  \n",
       "1           1     0.0  Prediction Incorrect - Not Sold  \n",
       "2           1     0.0  Prediction Incorrect - Not Sold  \n",
       "3           1     0.0  Prediction Incorrect - Not Sold  \n",
       "4           1     0.0  Prediction Incorrect - Not Sold  "
      ]
     },
     "execution_count": 57,
     "metadata": {},
     "output_type": "execute_result"
    }
   ],
   "source": [
    "# Read the Total Sales CSV file\n",
    "df = pd.read_csv(\"data/missing_address.csv\")\n",
    "df.head()"
   ]
  },
  {
   "cell_type": "code",
   "execution_count": 58,
   "id": "durable-postage",
   "metadata": {},
   "outputs": [],
   "source": [
    "# Create dataframe with address columns from total sales\n",
    "address_df = df.loc[:, [\"Parcel\", \"Neighborhood\", \"Address\"]]"
   ]
  },
  {
   "cell_type": "code",
   "execution_count": 59,
   "id": "necessary-zoning",
   "metadata": {},
   "outputs": [
    {
     "data": {
      "text/html": [
       "<div>\n",
       "<style scoped>\n",
       "    .dataframe tbody tr th:only-of-type {\n",
       "        vertical-align: middle;\n",
       "    }\n",
       "\n",
       "    .dataframe tbody tr th {\n",
       "        vertical-align: top;\n",
       "    }\n",
       "\n",
       "    .dataframe thead th {\n",
       "        text-align: right;\n",
       "    }\n",
       "</style>\n",
       "<table border=\"1\" class=\"dataframe\">\n",
       "  <thead>\n",
       "    <tr style=\"text-align: right;\">\n",
       "      <th></th>\n",
       "      <th>Parcel</th>\n",
       "      <th>Neighborhood</th>\n",
       "      <th>Address</th>\n",
       "    </tr>\n",
       "  </thead>\n",
       "  <tbody>\n",
       "    <tr>\n",
       "      <th>0</th>\n",
       "      <td>4333013059</td>\n",
       "      <td>Beverly Grove</td>\n",
       "      <td>811 S Bedford St #101, Los Angeles, CA 90035</td>\n",
       "    </tr>\n",
       "    <tr>\n",
       "      <th>1</th>\n",
       "      <td>4332021069</td>\n",
       "      <td>Beverly Grove</td>\n",
       "      <td>1046 S Bedford St #1, Los Angeles, CA 90035</td>\n",
       "    </tr>\n",
       "    <tr>\n",
       "      <th>2</th>\n",
       "      <td>4335003031</td>\n",
       "      <td>Beverly Grove</td>\n",
       "      <td>146 N Almont Dr #2, West Hollywood, CA 90048</td>\n",
       "    </tr>\n",
       "    <tr>\n",
       "      <th>3</th>\n",
       "      <td>4335014047</td>\n",
       "      <td>Beverly Grove</td>\n",
       "      <td>8963 Burton Way #101, Los Angeles, CA 90048</td>\n",
       "    </tr>\n",
       "    <tr>\n",
       "      <th>4</th>\n",
       "      <td>4335008231</td>\n",
       "      <td>Beverly Grove</td>\n",
       "      <td>100 S Doheny Dr #101, Los Angeles, CA 90048</td>\n",
       "    </tr>\n",
       "  </tbody>\n",
       "</table>\n",
       "</div>"
      ],
      "text/plain": [
       "       Parcel   Neighborhood                                       Address\n",
       "0  4333013059  Beverly Grove  811 S Bedford St #101, Los Angeles, CA 90035\n",
       "1  4332021069  Beverly Grove   1046 S Bedford St #1, Los Angeles, CA 90035\n",
       "2  4335003031  Beverly Grove  146 N Almont Dr #2, West Hollywood, CA 90048\n",
       "3  4335014047  Beverly Grove   8963 Burton Way #101, Los Angeles, CA 90048\n",
       "4  4335008231  Beverly Grove   100 S Doheny Dr #101, Los Angeles, CA 90048"
      ]
     },
     "execution_count": 59,
     "metadata": {},
     "output_type": "execute_result"
    }
   ],
   "source": [
    "address_df.head()"
   ]
  },
  {
   "cell_type": "code",
   "execution_count": 60,
   "id": "funded-supply",
   "metadata": {},
   "outputs": [],
   "source": [
    "# Split the sales by neighborhood to make smaller dataframes for the goelocator\n",
    "beverly_grove_df = address_df[address_df[\"Neighborhood\"] == \"Beverly Grove\"]\n",
    "hancock_park_df = address_df[address_df[\"Neighborhood\"] == \"Hancock Park\"]\n",
    "hollywood_df = address_df[address_df[\"Neighborhood\"] == \"Hollywood\"]\n",
    "hollywood_hills_df = address_df[address_df[\"Neighborhood\"] == \"Hollywood Hills\"]\n",
    "hollywood_hills_east_df = address_df[address_df[\"Neighborhood\"] == \"Hollywood Hills East\"]\n",
    "los_feliz_df = address_df[address_df[\"Neighborhood\"] == \"Los Feliz\"]\n",
    "west_hollywood_df = address_df[address_df[\"Neighborhood\"] == \"West Hollywood\"]"
   ]
  },
  {
   "cell_type": "code",
   "execution_count": 61,
   "id": "coastal-special",
   "metadata": {},
   "outputs": [],
   "source": [
    "g_key = ENTER GOOGLE API KEY HERE TO RE-RUN"
   ]
  },
  {
   "cell_type": "code",
   "execution_count": 62,
   "id": "religious-surgeon",
   "metadata": {},
   "outputs": [],
   "source": [
    "# Define the geo locator\n",
    "locator = GoogleV3(api_key = g_key)"
   ]
  },
  {
   "cell_type": "code",
   "execution_count": 63,
   "id": "useful-floor",
   "metadata": {},
   "outputs": [],
   "source": [
    "# Add a delay between geocoding calls to prevent service rejecting the geo call\n",
    "geocode = RateLimiter(locator.geocode, min_delay_seconds=1)"
   ]
  },
  {
   "cell_type": "code",
   "execution_count": 64,
   "id": "worst-lotus",
   "metadata": {},
   "outputs": [],
   "source": [
    "pd.options.mode.chained_assignment = None"
   ]
  },
  {
   "cell_type": "code",
   "execution_count": 65,
   "id": "unlike-programmer",
   "metadata": {},
   "outputs": [],
   "source": [
    "# Create the location column applying the goe location\n",
    "beverly_grove_df[\"location\"] = beverly_grove_df[\"Address\"].apply(geocode)"
   ]
  },
  {
   "cell_type": "code",
   "execution_count": 66,
   "id": "technical-director",
   "metadata": {},
   "outputs": [],
   "source": [
    "hancock_park_df[\"location\"] = hancock_park_df[\"Address\"].apply(geocode)"
   ]
  },
  {
   "cell_type": "code",
   "execution_count": 67,
   "id": "african-church",
   "metadata": {},
   "outputs": [],
   "source": [
    "hollywood_df[\"location\"] = hollywood_df[\"Address\"].apply(geocode)"
   ]
  },
  {
   "cell_type": "code",
   "execution_count": 68,
   "id": "electric-madagascar",
   "metadata": {},
   "outputs": [],
   "source": [
    "hollywood_hills_df[\"location\"] = hollywood_hills_df[\"Address\"].apply(geocode)"
   ]
  },
  {
   "cell_type": "code",
   "execution_count": 69,
   "id": "objective-outreach",
   "metadata": {},
   "outputs": [],
   "source": [
    "hollywood_hills_east_df[\"location\"] = hollywood_hills_east_df[\"Address\"].apply(geocode)"
   ]
  },
  {
   "cell_type": "code",
   "execution_count": 70,
   "id": "primary-authorization",
   "metadata": {},
   "outputs": [],
   "source": [
    "los_feliz_df[\"location\"] = los_feliz_df[\"Address\"].apply(geocode)"
   ]
  },
  {
   "cell_type": "code",
   "execution_count": 71,
   "id": "authorized-october",
   "metadata": {},
   "outputs": [],
   "source": [
    "west_hollywood_df[\"location\"] = west_hollywood_df[\"Address\"].apply(geocode)"
   ]
  },
  {
   "cell_type": "code",
   "execution_count": 72,
   "id": "awful-guyana",
   "metadata": {},
   "outputs": [],
   "source": [
    "frames = [beverly_grove_df, hancock_park_df, hollywood_df, hollywood_hills_df, hollywood_hills_east_df, los_feliz_df, west_hollywood_df]\n",
    "final_address_df = pd.concat(frames)"
   ]
  },
  {
   "cell_type": "code",
   "execution_count": 73,
   "id": "enormous-european",
   "metadata": {},
   "outputs": [],
   "source": [
    "# Create longitude, laatitude and altitude from location column (returns tuple)\n",
    "final_address_df['point'] = final_address_df['location'].apply(lambda loc: tuple(loc.point) if loc else None)"
   ]
  },
  {
   "cell_type": "code",
   "execution_count": 74,
   "id": "scheduled-physiology",
   "metadata": {},
   "outputs": [],
   "source": [
    "# Split point column into latitude, longitude and altitude columns\n",
    "final_address_df[['latitude', 'longitude', 'altitude']] = pd.DataFrame(final_address_df['point'].tolist(), index=final_address_df.index)"
   ]
  },
  {
   "cell_type": "code",
   "execution_count": 75,
   "id": "ideal-france",
   "metadata": {},
   "outputs": [
    {
     "data": {
      "text/html": [
       "<div>\n",
       "<style scoped>\n",
       "    .dataframe tbody tr th:only-of-type {\n",
       "        vertical-align: middle;\n",
       "    }\n",
       "\n",
       "    .dataframe tbody tr th {\n",
       "        vertical-align: top;\n",
       "    }\n",
       "\n",
       "    .dataframe thead th {\n",
       "        text-align: right;\n",
       "    }\n",
       "</style>\n",
       "<table border=\"1\" class=\"dataframe\">\n",
       "  <thead>\n",
       "    <tr style=\"text-align: right;\">\n",
       "      <th></th>\n",
       "      <th>Parcel</th>\n",
       "      <th>Neighborhood</th>\n",
       "      <th>Address</th>\n",
       "      <th>location</th>\n",
       "      <th>point</th>\n",
       "      <th>latitude</th>\n",
       "      <th>longitude</th>\n",
       "      <th>altitude</th>\n",
       "    </tr>\n",
       "  </thead>\n",
       "  <tbody>\n",
       "    <tr>\n",
       "      <th>0</th>\n",
       "      <td>4333013059</td>\n",
       "      <td>Beverly Grove</td>\n",
       "      <td>811 S Bedford St #101, Los Angeles, CA 90035</td>\n",
       "      <td>(811 S Bedford St APT 101, Los Angeles, CA 900...</td>\n",
       "      <td>(34.0626041, -118.3806122, 0.0)</td>\n",
       "      <td>34.062604</td>\n",
       "      <td>-118.380612</td>\n",
       "      <td>0.0</td>\n",
       "    </tr>\n",
       "    <tr>\n",
       "      <th>1</th>\n",
       "      <td>4332021069</td>\n",
       "      <td>Beverly Grove</td>\n",
       "      <td>1046 S Bedford St #1, Los Angeles, CA 90035</td>\n",
       "      <td>(1046 S Bedford St APT 1, Los Angeles, CA 9003...</td>\n",
       "      <td>(34.0579256, -118.3800809, 0.0)</td>\n",
       "      <td>34.057926</td>\n",
       "      <td>-118.380081</td>\n",
       "      <td>0.0</td>\n",
       "    </tr>\n",
       "    <tr>\n",
       "      <th>2</th>\n",
       "      <td>4335003031</td>\n",
       "      <td>Beverly Grove</td>\n",
       "      <td>146 N Almont Dr #2, West Hollywood, CA 90048</td>\n",
       "      <td>(146 N Almont Dr APT 2, West Hollywood, CA 900...</td>\n",
       "      <td>(34.076612, -118.3874706, 0.0)</td>\n",
       "      <td>34.076612</td>\n",
       "      <td>-118.387471</td>\n",
       "      <td>0.0</td>\n",
       "    </tr>\n",
       "    <tr>\n",
       "      <th>3</th>\n",
       "      <td>4335014047</td>\n",
       "      <td>Beverly Grove</td>\n",
       "      <td>8963 Burton Way #101, Los Angeles, CA 90048</td>\n",
       "      <td>(8963 Burton Way APT 101, Los Angeles, CA 9004...</td>\n",
       "      <td>(34.0726158, -118.3872768, 0.0)</td>\n",
       "      <td>34.072616</td>\n",
       "      <td>-118.387277</td>\n",
       "      <td>0.0</td>\n",
       "    </tr>\n",
       "    <tr>\n",
       "      <th>4</th>\n",
       "      <td>4335008231</td>\n",
       "      <td>Beverly Grove</td>\n",
       "      <td>100 S Doheny Dr #101, Los Angeles, CA 90048</td>\n",
       "      <td>(100 S Doheny Dr #101, Los Angeles, CA 90048, ...</td>\n",
       "      <td>(34.0746665, -118.3892218, 0.0)</td>\n",
       "      <td>34.074666</td>\n",
       "      <td>-118.389222</td>\n",
       "      <td>0.0</td>\n",
       "    </tr>\n",
       "  </tbody>\n",
       "</table>\n",
       "</div>"
      ],
      "text/plain": [
       "       Parcel   Neighborhood                                       Address  \\\n",
       "0  4333013059  Beverly Grove  811 S Bedford St #101, Los Angeles, CA 90035   \n",
       "1  4332021069  Beverly Grove   1046 S Bedford St #1, Los Angeles, CA 90035   \n",
       "2  4335003031  Beverly Grove  146 N Almont Dr #2, West Hollywood, CA 90048   \n",
       "3  4335014047  Beverly Grove   8963 Burton Way #101, Los Angeles, CA 90048   \n",
       "4  4335008231  Beverly Grove   100 S Doheny Dr #101, Los Angeles, CA 90048   \n",
       "\n",
       "                                            location  \\\n",
       "0  (811 S Bedford St APT 101, Los Angeles, CA 900...   \n",
       "1  (1046 S Bedford St APT 1, Los Angeles, CA 9003...   \n",
       "2  (146 N Almont Dr APT 2, West Hollywood, CA 900...   \n",
       "3  (8963 Burton Way APT 101, Los Angeles, CA 9004...   \n",
       "4  (100 S Doheny Dr #101, Los Angeles, CA 90048, ...   \n",
       "\n",
       "                             point   latitude   longitude  altitude  \n",
       "0  (34.0626041, -118.3806122, 0.0)  34.062604 -118.380612       0.0  \n",
       "1  (34.0579256, -118.3800809, 0.0)  34.057926 -118.380081       0.0  \n",
       "2   (34.076612, -118.3874706, 0.0)  34.076612 -118.387471       0.0  \n",
       "3  (34.0726158, -118.3872768, 0.0)  34.072616 -118.387277       0.0  \n",
       "4  (34.0746665, -118.3892218, 0.0)  34.074666 -118.389222       0.0  "
      ]
     },
     "execution_count": 75,
     "metadata": {},
     "output_type": "execute_result"
    }
   ],
   "source": [
    "final_address_df.head()"
   ]
  },
  {
   "cell_type": "code",
   "execution_count": 76,
   "id": "filled-sister",
   "metadata": {},
   "outputs": [],
   "source": [
    "final_address_df.to_csv('missing_address_loc.csv')"
   ]
  },
  {
   "cell_type": "code",
   "execution_count": null,
   "id": "electrical-quality",
   "metadata": {},
   "outputs": [],
   "source": []
  }
 ],
 "metadata": {
  "kernelspec": {
   "display_name": "PythonData",
   "language": "python",
   "name": "pythondata"
  },
  "language_info": {
   "codemirror_mode": {
    "name": "ipython",
    "version": 3
   },
   "file_extension": ".py",
   "mimetype": "text/x-python",
   "name": "python",
   "nbconvert_exporter": "python",
   "pygments_lexer": "ipython3",
   "version": "3.8.5"
  }
 },
 "nbformat": 4,
 "nbformat_minor": 5
}
