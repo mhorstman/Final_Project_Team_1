{
 "cells": [
  {
   "cell_type": "code",
   "execution_count": 854,
   "metadata": {},
   "outputs": [],
   "source": [
    "# import our dependencies\n",
    "\n",
    "%matplotlib inline\n",
    "from collections import Counter\n",
    "import pandas as pd\n",
    "from imblearn.over_sampling import RandomOverSampler\n",
    "from sklearn.model_selection import train_test_split\n",
    "from sklearn.metrics import accuracy_score\n",
    "from sklearn.svm import SVC\n",
    "from sklearn.linear_model import LogisticRegression\n",
    "from sklearn.preprocessing import StandardScaler,OneHotEncoder\n",
    "import numpy as np\n",
    "import os"
   ]
  },
  {
   "cell_type": "code",
   "execution_count": 855,
   "metadata": {},
   "outputs": [],
   "source": [
    "file = 'Beverly_Grove_Cleaned.csv'\n",
    "\n",
    "location = '/Users/Admin/Desktop/GW_Bootcamp/Analysis_Projects/Final_Project_Team_1/'"
   ]
  },
  {
   "cell_type": "code",
   "execution_count": 856,
   "metadata": {},
   "outputs": [],
   "source": [
    "path = os.path.join(location, file)"
   ]
  },
  {
   "cell_type": "code",
   "execution_count": 857,
   "metadata": {},
   "outputs": [
    {
     "data": {
      "text/html": [
       "<div>\n",
       "<style scoped>\n",
       "    .dataframe tbody tr th:only-of-type {\n",
       "        vertical-align: middle;\n",
       "    }\n",
       "\n",
       "    .dataframe tbody tr th {\n",
       "        vertical-align: top;\n",
       "    }\n",
       "\n",
       "    .dataframe thead th {\n",
       "        text-align: right;\n",
       "    }\n",
       "</style>\n",
       "<table border=\"1\" class=\"dataframe\">\n",
       "  <thead>\n",
       "    <tr style=\"text-align: right;\">\n",
       "      <th></th>\n",
       "      <th>Owned by Trust?</th>\n",
       "      <th>Owned by Business?</th>\n",
       "      <th>SITEADDRESS</th>\n",
       "      <th>MAIL DIFFERENT FROM SITE?</th>\n",
       "      <th>MAIL OUTSIDE CA?</th>\n",
       "      <th>TITLECO1</th>\n",
       "      <th>ASSDTOTAL</th>\n",
       "      <th>ASSDLAND</th>\n",
       "      <th>ASSDSTCT</th>\n",
       "      <th>ASSDOTHR</th>\n",
       "      <th>...</th>\n",
       "      <th>NAME CHANGE</th>\n",
       "      <th>Other</th>\n",
       "      <th>PARTNERSHIP</th>\n",
       "      <th>PERSONAL REP</th>\n",
       "      <th>QUIT CLAIM</th>\n",
       "      <th>RE-RECORD</th>\n",
       "      <th>TAX DEED</th>\n",
       "      <th>TRUST TRANSFER</th>\n",
       "      <th>TRUSTEES</th>\n",
       "      <th>WARRANTY</th>\n",
       "    </tr>\n",
       "    <tr>\n",
       "      <th>PARCEL</th>\n",
       "      <th></th>\n",
       "      <th></th>\n",
       "      <th></th>\n",
       "      <th></th>\n",
       "      <th></th>\n",
       "      <th></th>\n",
       "      <th></th>\n",
       "      <th></th>\n",
       "      <th></th>\n",
       "      <th></th>\n",
       "      <th></th>\n",
       "      <th></th>\n",
       "      <th></th>\n",
       "      <th></th>\n",
       "      <th></th>\n",
       "      <th></th>\n",
       "      <th></th>\n",
       "      <th></th>\n",
       "      <th></th>\n",
       "      <th></th>\n",
       "      <th></th>\n",
       "    </tr>\n",
       "  </thead>\n",
       "  <tbody>\n",
       "    <tr>\n",
       "      <th>5085010022</th>\n",
       "      <td>0</td>\n",
       "      <td>0</td>\n",
       "      <td>1030 S Dunsmuir Ave</td>\n",
       "      <td>0</td>\n",
       "      <td>0</td>\n",
       "      <td>1</td>\n",
       "      <td>1157385</td>\n",
       "      <td>925908</td>\n",
       "      <td>231477</td>\n",
       "      <td>0</td>\n",
       "      <td>...</td>\n",
       "      <td>0</td>\n",
       "      <td>0</td>\n",
       "      <td>0</td>\n",
       "      <td>0</td>\n",
       "      <td>0</td>\n",
       "      <td>0</td>\n",
       "      <td>0</td>\n",
       "      <td>0</td>\n",
       "      <td>0</td>\n",
       "      <td>0</td>\n",
       "    </tr>\n",
       "    <tr>\n",
       "      <th>5085033008</th>\n",
       "      <td>0</td>\n",
       "      <td>0</td>\n",
       "      <td>1364 S Ridgeley Dr</td>\n",
       "      <td>1</td>\n",
       "      <td>0</td>\n",
       "      <td>0</td>\n",
       "      <td>57047</td>\n",
       "      <td>40994</td>\n",
       "      <td>16053</td>\n",
       "      <td>0</td>\n",
       "      <td>...</td>\n",
       "      <td>0</td>\n",
       "      <td>0</td>\n",
       "      <td>0</td>\n",
       "      <td>0</td>\n",
       "      <td>0</td>\n",
       "      <td>0</td>\n",
       "      <td>0</td>\n",
       "      <td>0</td>\n",
       "      <td>0</td>\n",
       "      <td>0</td>\n",
       "    </tr>\n",
       "    <tr>\n",
       "      <th>5085032022</th>\n",
       "      <td>0</td>\n",
       "      <td>0</td>\n",
       "      <td>1322 Hauser Blvd</td>\n",
       "      <td>0</td>\n",
       "      <td>0</td>\n",
       "      <td>1</td>\n",
       "      <td>651485</td>\n",
       "      <td>521193</td>\n",
       "      <td>130292</td>\n",
       "      <td>0</td>\n",
       "      <td>...</td>\n",
       "      <td>0</td>\n",
       "      <td>0</td>\n",
       "      <td>0</td>\n",
       "      <td>0</td>\n",
       "      <td>0</td>\n",
       "      <td>0</td>\n",
       "      <td>0</td>\n",
       "      <td>0</td>\n",
       "      <td>0</td>\n",
       "      <td>0</td>\n",
       "    </tr>\n",
       "    <tr>\n",
       "      <th>5510005006</th>\n",
       "      <td>1</td>\n",
       "      <td>0</td>\n",
       "      <td>6727 Drexel Ave</td>\n",
       "      <td>1</td>\n",
       "      <td>0</td>\n",
       "      <td>0</td>\n",
       "      <td>85697</td>\n",
       "      <td>74539</td>\n",
       "      <td>11158</td>\n",
       "      <td>0</td>\n",
       "      <td>...</td>\n",
       "      <td>0</td>\n",
       "      <td>0</td>\n",
       "      <td>0</td>\n",
       "      <td>0</td>\n",
       "      <td>0</td>\n",
       "      <td>0</td>\n",
       "      <td>0</td>\n",
       "      <td>0</td>\n",
       "      <td>0</td>\n",
       "      <td>0</td>\n",
       "    </tr>\n",
       "    <tr>\n",
       "      <th>5089024002</th>\n",
       "      <td>0</td>\n",
       "      <td>0</td>\n",
       "      <td>942 S Cochran Ave</td>\n",
       "      <td>0</td>\n",
       "      <td>0</td>\n",
       "      <td>0</td>\n",
       "      <td>62487</td>\n",
       "      <td>42013</td>\n",
       "      <td>20474</td>\n",
       "      <td>0</td>\n",
       "      <td>...</td>\n",
       "      <td>0</td>\n",
       "      <td>0</td>\n",
       "      <td>0</td>\n",
       "      <td>0</td>\n",
       "      <td>0</td>\n",
       "      <td>0</td>\n",
       "      <td>0</td>\n",
       "      <td>0</td>\n",
       "      <td>0</td>\n",
       "      <td>0</td>\n",
       "    </tr>\n",
       "  </tbody>\n",
       "</table>\n",
       "<p>5 rows × 57 columns</p>\n",
       "</div>"
      ],
      "text/plain": [
       "            Owned by Trust?  Owned by Business?          SITEADDRESS  \\\n",
       "PARCEL                                                                 \n",
       "5085010022                0                   0  1030 S Dunsmuir Ave   \n",
       "5085033008                0                   0   1364 S Ridgeley Dr   \n",
       "5085032022                0                   0     1322 Hauser Blvd   \n",
       "5510005006                1                   0      6727 Drexel Ave   \n",
       "5089024002                0                   0    942 S Cochran Ave   \n",
       "\n",
       "            MAIL DIFFERENT FROM SITE?  MAIL OUTSIDE CA?  TITLECO1  ASSDTOTAL  \\\n",
       "PARCEL                                                                         \n",
       "5085010022                          0                 0         1    1157385   \n",
       "5085033008                          1                 0         0      57047   \n",
       "5085032022                          0                 0         1     651485   \n",
       "5510005006                          1                 0         0      85697   \n",
       "5089024002                          0                 0         0      62487   \n",
       "\n",
       "            ASSDLAND  ASSDSTCT  ASSDOTHR  ...  NAME CHANGE  Other  \\\n",
       "PARCEL                                    ...                       \n",
       "5085010022    925908    231477         0  ...            0      0   \n",
       "5085033008     40994     16053         0  ...            0      0   \n",
       "5085032022    521193    130292         0  ...            0      0   \n",
       "5510005006     74539     11158         0  ...            0      0   \n",
       "5089024002     42013     20474         0  ...            0      0   \n",
       "\n",
       "            PARTNERSHIP  PERSONAL REP  QUIT CLAIM  RE-RECORD  TAX DEED  \\\n",
       "PARCEL                                                                   \n",
       "5085010022            0             0           0          0         0   \n",
       "5085033008            0             0           0          0         0   \n",
       "5085032022            0             0           0          0         0   \n",
       "5510005006            0             0           0          0         0   \n",
       "5089024002            0             0           0          0         0   \n",
       "\n",
       "            TRUST TRANSFER  TRUSTEES  WARRANTY  \n",
       "PARCEL                                          \n",
       "5085010022               0         0         0  \n",
       "5085033008               0         0         0  \n",
       "5085032022               0         0         0  \n",
       "5510005006               0         0         0  \n",
       "5089024002               0         0         0  \n",
       "\n",
       "[5 rows x 57 columns]"
      ]
     },
     "execution_count": 857,
     "metadata": {},
     "output_type": "execute_result"
    }
   ],
   "source": [
    "# import our file\n",
    "\n",
    "Beverly_Grove_df = pd.read_csv(path, index_col='PARCEL')\n",
    "Beverly_Grove_df.head()"
   ]
  },
  {
   "cell_type": "code",
   "execution_count": 858,
   "metadata": {},
   "outputs": [],
   "source": [
    "Beverly_Grove_df = Beverly_Grove_df.dropna()"
   ]
  },
  {
   "cell_type": "code",
   "execution_count": 859,
   "metadata": {},
   "outputs": [
    {
     "data": {
      "text/plain": [
       "Owned by Trust?                int64\n",
       "Owned by Business?             int64\n",
       "SITEADDRESS                   object\n",
       "MAIL DIFFERENT FROM SITE?      int64\n",
       "MAIL OUTSIDE CA?               int64\n",
       "TITLECO1                       int64\n",
       "ASSDTOTAL                      int64\n",
       "ASSDLAND                       int64\n",
       "ASSDSTCT                       int64\n",
       "ASSDOTHR                       int64\n",
       "EXEMPTCD                       int64\n",
       "EXMPTAMT                       int64\n",
       "PCNTIMPD                       int64\n",
       "TAXAMT                       float64\n",
       "DOCDATE_YEAR                   int64\n",
       "MULTIPARCEL                    int64\n",
       "PRICE                          int64\n",
       "LENDER1                        int64\n",
       "LOANAMOUT1                     int64\n",
       "LOANTYPE1                      int64\n",
       "YEARBLT                        int64\n",
       "EFFYRBLT                     float64\n",
       "LOTSQFT                        int64\n",
       "TOTALSF                        int64\n",
       "GRGTYPE                        int64\n",
       "BLDGMAT                        int64\n",
       "TOTUNITS                       int64\n",
       "QUALCLAS                       int64\n",
       "BLDGCOND                       int64\n",
       "NOSTORY                      float64\n",
       "ROOFMAT                        int64\n",
       "FOUNDATN                       int64\n",
       "BEDROOMS                       int64\n",
       "BATHROOMS                      int64\n",
       "FAMILYRM                       int64\n",
       "DININGRM                       int64\n",
       "POOL                           int64\n",
       "PATIO                          int64\n",
       "FIREPLCE                       int64\n",
       "AIRMTHOD                       int64\n",
       "HEATMTHD                       int64\n",
       "VIEW                           int64\n",
       "Did it sell?                   int64\n",
       "GRANT DEED                     int64\n",
       "IN LIEU OF FORC                int64\n",
       "INTERSPOUSAL                   int64\n",
       "JOINT TENANT                   int64\n",
       "NAME CHANGE                    int64\n",
       "Other                          int64\n",
       "PARTNERSHIP                    int64\n",
       "PERSONAL REP                   int64\n",
       "QUIT CLAIM                     int64\n",
       "RE-RECORD                      int64\n",
       "TAX DEED                       int64\n",
       "TRUST TRANSFER                 int64\n",
       "TRUSTEES                       int64\n",
       "WARRANTY                       int64\n",
       "dtype: object"
      ]
     },
     "execution_count": 859,
     "metadata": {},
     "output_type": "execute_result"
    }
   ],
   "source": [
    "Beverly_Grove_df.dtypes"
   ]
  },
  {
   "cell_type": "code",
   "execution_count": 860,
   "metadata": {},
   "outputs": [],
   "source": [
    "Beverly_Grove_df['TAXAMT'] = Beverly_Grove_df['TAXAMT'].astype(int)\n",
    "Beverly_Grove_df['EFFYRBLT'] = Beverly_Grove_df['EFFYRBLT'].astype(int)"
   ]
  },
  {
   "cell_type": "code",
   "execution_count": 861,
   "metadata": {},
   "outputs": [
    {
     "data": {
      "text/html": [
       "<div>\n",
       "<style scoped>\n",
       "    .dataframe tbody tr th:only-of-type {\n",
       "        vertical-align: middle;\n",
       "    }\n",
       "\n",
       "    .dataframe tbody tr th {\n",
       "        vertical-align: top;\n",
       "    }\n",
       "\n",
       "    .dataframe thead th {\n",
       "        text-align: right;\n",
       "    }\n",
       "</style>\n",
       "<table border=\"1\" class=\"dataframe\">\n",
       "  <thead>\n",
       "    <tr style=\"text-align: right;\">\n",
       "      <th></th>\n",
       "      <th>Owned by Trust?</th>\n",
       "      <th>Owned by Business?</th>\n",
       "      <th>SITEADDRESS</th>\n",
       "      <th>MAIL DIFFERENT FROM SITE?</th>\n",
       "      <th>MAIL OUTSIDE CA?</th>\n",
       "      <th>TITLECO1</th>\n",
       "      <th>ASSDTOTAL</th>\n",
       "      <th>ASSDLAND</th>\n",
       "      <th>ASSDSTCT</th>\n",
       "      <th>ASSDOTHR</th>\n",
       "      <th>...</th>\n",
       "      <th>NAME CHANGE</th>\n",
       "      <th>Other</th>\n",
       "      <th>PARTNERSHIP</th>\n",
       "      <th>PERSONAL REP</th>\n",
       "      <th>QUIT CLAIM</th>\n",
       "      <th>RE-RECORD</th>\n",
       "      <th>TAX DEED</th>\n",
       "      <th>TRUST TRANSFER</th>\n",
       "      <th>TRUSTEES</th>\n",
       "      <th>WARRANTY</th>\n",
       "    </tr>\n",
       "    <tr>\n",
       "      <th>PARCEL</th>\n",
       "      <th></th>\n",
       "      <th></th>\n",
       "      <th></th>\n",
       "      <th></th>\n",
       "      <th></th>\n",
       "      <th></th>\n",
       "      <th></th>\n",
       "      <th></th>\n",
       "      <th></th>\n",
       "      <th></th>\n",
       "      <th></th>\n",
       "      <th></th>\n",
       "      <th></th>\n",
       "      <th></th>\n",
       "      <th></th>\n",
       "      <th></th>\n",
       "      <th></th>\n",
       "      <th></th>\n",
       "      <th></th>\n",
       "      <th></th>\n",
       "      <th></th>\n",
       "    </tr>\n",
       "  </thead>\n",
       "  <tbody>\n",
       "    <tr>\n",
       "      <th>5085010022</th>\n",
       "      <td>0</td>\n",
       "      <td>0</td>\n",
       "      <td>1030 S Dunsmuir Ave</td>\n",
       "      <td>0</td>\n",
       "      <td>0</td>\n",
       "      <td>1</td>\n",
       "      <td>1157385</td>\n",
       "      <td>925908</td>\n",
       "      <td>231477</td>\n",
       "      <td>0</td>\n",
       "      <td>...</td>\n",
       "      <td>0</td>\n",
       "      <td>0</td>\n",
       "      <td>0</td>\n",
       "      <td>0</td>\n",
       "      <td>0</td>\n",
       "      <td>0</td>\n",
       "      <td>0</td>\n",
       "      <td>0</td>\n",
       "      <td>0</td>\n",
       "      <td>0</td>\n",
       "    </tr>\n",
       "    <tr>\n",
       "      <th>5085033008</th>\n",
       "      <td>0</td>\n",
       "      <td>0</td>\n",
       "      <td>1364 S Ridgeley Dr</td>\n",
       "      <td>1</td>\n",
       "      <td>0</td>\n",
       "      <td>0</td>\n",
       "      <td>57047</td>\n",
       "      <td>40994</td>\n",
       "      <td>16053</td>\n",
       "      <td>0</td>\n",
       "      <td>...</td>\n",
       "      <td>0</td>\n",
       "      <td>0</td>\n",
       "      <td>0</td>\n",
       "      <td>0</td>\n",
       "      <td>0</td>\n",
       "      <td>0</td>\n",
       "      <td>0</td>\n",
       "      <td>0</td>\n",
       "      <td>0</td>\n",
       "      <td>0</td>\n",
       "    </tr>\n",
       "    <tr>\n",
       "      <th>5085032022</th>\n",
       "      <td>0</td>\n",
       "      <td>0</td>\n",
       "      <td>1322 Hauser Blvd</td>\n",
       "      <td>0</td>\n",
       "      <td>0</td>\n",
       "      <td>1</td>\n",
       "      <td>651485</td>\n",
       "      <td>521193</td>\n",
       "      <td>130292</td>\n",
       "      <td>0</td>\n",
       "      <td>...</td>\n",
       "      <td>0</td>\n",
       "      <td>0</td>\n",
       "      <td>0</td>\n",
       "      <td>0</td>\n",
       "      <td>0</td>\n",
       "      <td>0</td>\n",
       "      <td>0</td>\n",
       "      <td>0</td>\n",
       "      <td>0</td>\n",
       "      <td>0</td>\n",
       "    </tr>\n",
       "  </tbody>\n",
       "</table>\n",
       "<p>3 rows × 57 columns</p>\n",
       "</div>"
      ],
      "text/plain": [
       "            Owned by Trust?  Owned by Business?          SITEADDRESS  \\\n",
       "PARCEL                                                                 \n",
       "5085010022                0                   0  1030 S Dunsmuir Ave   \n",
       "5085033008                0                   0   1364 S Ridgeley Dr   \n",
       "5085032022                0                   0     1322 Hauser Blvd   \n",
       "\n",
       "            MAIL DIFFERENT FROM SITE?  MAIL OUTSIDE CA?  TITLECO1  ASSDTOTAL  \\\n",
       "PARCEL                                                                         \n",
       "5085010022                          0                 0         1    1157385   \n",
       "5085033008                          1                 0         0      57047   \n",
       "5085032022                          0                 0         1     651485   \n",
       "\n",
       "            ASSDLAND  ASSDSTCT  ASSDOTHR  ...  NAME CHANGE  Other  \\\n",
       "PARCEL                                    ...                       \n",
       "5085010022    925908    231477         0  ...            0      0   \n",
       "5085033008     40994     16053         0  ...            0      0   \n",
       "5085032022    521193    130292         0  ...            0      0   \n",
       "\n",
       "            PARTNERSHIP  PERSONAL REP  QUIT CLAIM  RE-RECORD  TAX DEED  \\\n",
       "PARCEL                                                                   \n",
       "5085010022            0             0           0          0         0   \n",
       "5085033008            0             0           0          0         0   \n",
       "5085032022            0             0           0          0         0   \n",
       "\n",
       "            TRUST TRANSFER  TRUSTEES  WARRANTY  \n",
       "PARCEL                                          \n",
       "5085010022               0         0         0  \n",
       "5085033008               0         0         0  \n",
       "5085032022               0         0         0  \n",
       "\n",
       "[3 rows x 57 columns]"
      ]
     },
     "execution_count": 861,
     "metadata": {},
     "output_type": "execute_result"
    }
   ],
   "source": [
    "# Make sure our dataframe is only SFR's so exclude every property that has an '#' in its site address\n",
    "\n",
    "Beverly_Grove_df = Beverly_Grove_df[~Beverly_Grove_df['SITEADDRESS'].str.contains('#')]\n",
    "Beverly_Grove_df.head(3)"
   ]
  },
  {
   "cell_type": "code",
   "execution_count": 862,
   "metadata": {},
   "outputs": [],
   "source": [
    "# Now drop the SiteAddress column\n",
    "Beverly_Grove_df.drop(['SITEADDRESS'], axis=1, inplace=True)"
   ]
  },
  {
   "cell_type": "code",
   "execution_count": 863,
   "metadata": {},
   "outputs": [
    {
     "data": {
      "text/html": [
       "<div>\n",
       "<style scoped>\n",
       "    .dataframe tbody tr th:only-of-type {\n",
       "        vertical-align: middle;\n",
       "    }\n",
       "\n",
       "    .dataframe tbody tr th {\n",
       "        vertical-align: top;\n",
       "    }\n",
       "\n",
       "    .dataframe thead th {\n",
       "        text-align: right;\n",
       "    }\n",
       "</style>\n",
       "<table border=\"1\" class=\"dataframe\">\n",
       "  <thead>\n",
       "    <tr style=\"text-align: right;\">\n",
       "      <th></th>\n",
       "      <th>Owned by Trust?</th>\n",
       "      <th>Owned by Business?</th>\n",
       "      <th>MAIL DIFFERENT FROM SITE?</th>\n",
       "      <th>MAIL OUTSIDE CA?</th>\n",
       "      <th>TITLECO1</th>\n",
       "      <th>ASSDTOTAL</th>\n",
       "      <th>ASSDLAND</th>\n",
       "      <th>ASSDSTCT</th>\n",
       "      <th>ASSDOTHR</th>\n",
       "      <th>EXEMPTCD</th>\n",
       "      <th>...</th>\n",
       "      <th>NAME CHANGE</th>\n",
       "      <th>Other</th>\n",
       "      <th>PARTNERSHIP</th>\n",
       "      <th>PERSONAL REP</th>\n",
       "      <th>QUIT CLAIM</th>\n",
       "      <th>RE-RECORD</th>\n",
       "      <th>TAX DEED</th>\n",
       "      <th>TRUST TRANSFER</th>\n",
       "      <th>TRUSTEES</th>\n",
       "      <th>WARRANTY</th>\n",
       "    </tr>\n",
       "    <tr>\n",
       "      <th>PARCEL</th>\n",
       "      <th></th>\n",
       "      <th></th>\n",
       "      <th></th>\n",
       "      <th></th>\n",
       "      <th></th>\n",
       "      <th></th>\n",
       "      <th></th>\n",
       "      <th></th>\n",
       "      <th></th>\n",
       "      <th></th>\n",
       "      <th></th>\n",
       "      <th></th>\n",
       "      <th></th>\n",
       "      <th></th>\n",
       "      <th></th>\n",
       "      <th></th>\n",
       "      <th></th>\n",
       "      <th></th>\n",
       "      <th></th>\n",
       "      <th></th>\n",
       "      <th></th>\n",
       "    </tr>\n",
       "  </thead>\n",
       "  <tbody>\n",
       "    <tr>\n",
       "      <th>5085010022</th>\n",
       "      <td>0</td>\n",
       "      <td>0</td>\n",
       "      <td>0</td>\n",
       "      <td>0</td>\n",
       "      <td>1</td>\n",
       "      <td>1157385</td>\n",
       "      <td>925908</td>\n",
       "      <td>231477</td>\n",
       "      <td>0</td>\n",
       "      <td>0</td>\n",
       "      <td>...</td>\n",
       "      <td>0</td>\n",
       "      <td>0</td>\n",
       "      <td>0</td>\n",
       "      <td>0</td>\n",
       "      <td>0</td>\n",
       "      <td>0</td>\n",
       "      <td>0</td>\n",
       "      <td>0</td>\n",
       "      <td>0</td>\n",
       "      <td>0</td>\n",
       "    </tr>\n",
       "    <tr>\n",
       "      <th>5085033008</th>\n",
       "      <td>0</td>\n",
       "      <td>0</td>\n",
       "      <td>1</td>\n",
       "      <td>0</td>\n",
       "      <td>0</td>\n",
       "      <td>57047</td>\n",
       "      <td>40994</td>\n",
       "      <td>16053</td>\n",
       "      <td>0</td>\n",
       "      <td>0</td>\n",
       "      <td>...</td>\n",
       "      <td>0</td>\n",
       "      <td>0</td>\n",
       "      <td>0</td>\n",
       "      <td>0</td>\n",
       "      <td>0</td>\n",
       "      <td>0</td>\n",
       "      <td>0</td>\n",
       "      <td>0</td>\n",
       "      <td>0</td>\n",
       "      <td>0</td>\n",
       "    </tr>\n",
       "    <tr>\n",
       "      <th>5085032022</th>\n",
       "      <td>0</td>\n",
       "      <td>0</td>\n",
       "      <td>0</td>\n",
       "      <td>0</td>\n",
       "      <td>1</td>\n",
       "      <td>651485</td>\n",
       "      <td>521193</td>\n",
       "      <td>130292</td>\n",
       "      <td>0</td>\n",
       "      <td>1</td>\n",
       "      <td>...</td>\n",
       "      <td>0</td>\n",
       "      <td>0</td>\n",
       "      <td>0</td>\n",
       "      <td>0</td>\n",
       "      <td>0</td>\n",
       "      <td>0</td>\n",
       "      <td>0</td>\n",
       "      <td>0</td>\n",
       "      <td>0</td>\n",
       "      <td>0</td>\n",
       "    </tr>\n",
       "  </tbody>\n",
       "</table>\n",
       "<p>3 rows × 56 columns</p>\n",
       "</div>"
      ],
      "text/plain": [
       "            Owned by Trust?  Owned by Business?  MAIL DIFFERENT FROM SITE?  \\\n",
       "PARCEL                                                                       \n",
       "5085010022                0                   0                          0   \n",
       "5085033008                0                   0                          1   \n",
       "5085032022                0                   0                          0   \n",
       "\n",
       "            MAIL OUTSIDE CA?  TITLECO1  ASSDTOTAL  ASSDLAND  ASSDSTCT  \\\n",
       "PARCEL                                                                  \n",
       "5085010022                 0         1    1157385    925908    231477   \n",
       "5085033008                 0         0      57047     40994     16053   \n",
       "5085032022                 0         1     651485    521193    130292   \n",
       "\n",
       "            ASSDOTHR  EXEMPTCD  ...  NAME CHANGE  Other  PARTNERSHIP  \\\n",
       "PARCEL                          ...                                    \n",
       "5085010022         0         0  ...            0      0            0   \n",
       "5085033008         0         0  ...            0      0            0   \n",
       "5085032022         0         1  ...            0      0            0   \n",
       "\n",
       "            PERSONAL REP  QUIT CLAIM  RE-RECORD  TAX DEED  TRUST TRANSFER  \\\n",
       "PARCEL                                                                      \n",
       "5085010022             0           0          0         0               0   \n",
       "5085033008             0           0          0         0               0   \n",
       "5085032022             0           0          0         0               0   \n",
       "\n",
       "            TRUSTEES  WARRANTY  \n",
       "PARCEL                          \n",
       "5085010022         0         0  \n",
       "5085033008         0         0  \n",
       "5085032022         0         0  \n",
       "\n",
       "[3 rows x 56 columns]"
      ]
     },
     "execution_count": 863,
     "metadata": {},
     "output_type": "execute_result"
    }
   ],
   "source": [
    "# check to see if it dropped.\n",
    "Beverly_Grove_df.head(3)"
   ]
  },
  {
   "cell_type": "code",
   "execution_count": 864,
   "metadata": {},
   "outputs": [
    {
     "data": {
      "text/plain": [
       "4705"
      ]
     },
     "execution_count": 864,
     "metadata": {},
     "output_type": "execute_result"
    }
   ],
   "source": [
    "len(Beverly_Grove_df)"
   ]
  },
  {
   "cell_type": "markdown",
   "metadata": {},
   "source": [
    "# Attempt 1: Run a standard Logistic Regression"
   ]
  },
  {
   "cell_type": "code",
   "execution_count": 865,
   "metadata": {},
   "outputs": [],
   "source": [
    "# Step 1: Create our X and y\n",
    "\n",
    "y = Beverly_Grove_df['Did it sell?']\n",
    "X = Beverly_Grove_df.drop(['Did it sell?'], 1)"
   ]
  },
  {
   "cell_type": "code",
   "execution_count": 866,
   "metadata": {},
   "outputs": [
    {
     "data": {
      "text/plain": [
       "array([5085010022, 5085033008, 5085032022, ..., 5510018012, 5510017023,\n",
       "       5514001029])"
      ]
     },
     "execution_count": 866,
     "metadata": {},
     "output_type": "execute_result"
    }
   ],
   "source": [
    "APN = Beverly_Grove_df.index.values\n",
    "APN"
   ]
  },
  {
   "cell_type": "code",
   "execution_count": 867,
   "metadata": {},
   "outputs": [],
   "source": [
    "# Split our data into training and testing sets\n",
    "\n",
    "X_train, X_test, y_train, y_test = train_test_split(X, y, random_state=78, stratify=y)"
   ]
  },
  {
   "cell_type": "code",
   "execution_count": 868,
   "metadata": {},
   "outputs": [
    {
     "data": {
      "text/html": [
       "<div>\n",
       "<style scoped>\n",
       "    .dataframe tbody tr th:only-of-type {\n",
       "        vertical-align: middle;\n",
       "    }\n",
       "\n",
       "    .dataframe tbody tr th {\n",
       "        vertical-align: top;\n",
       "    }\n",
       "\n",
       "    .dataframe thead th {\n",
       "        text-align: right;\n",
       "    }\n",
       "</style>\n",
       "<table border=\"1\" class=\"dataframe\">\n",
       "  <thead>\n",
       "    <tr style=\"text-align: right;\">\n",
       "      <th></th>\n",
       "      <th>Owned by Trust?</th>\n",
       "      <th>Owned by Business?</th>\n",
       "      <th>MAIL DIFFERENT FROM SITE?</th>\n",
       "      <th>MAIL OUTSIDE CA?</th>\n",
       "      <th>TITLECO1</th>\n",
       "      <th>ASSDTOTAL</th>\n",
       "      <th>ASSDLAND</th>\n",
       "      <th>ASSDSTCT</th>\n",
       "      <th>ASSDOTHR</th>\n",
       "      <th>EXEMPTCD</th>\n",
       "      <th>...</th>\n",
       "      <th>NAME CHANGE</th>\n",
       "      <th>Other</th>\n",
       "      <th>PARTNERSHIP</th>\n",
       "      <th>PERSONAL REP</th>\n",
       "      <th>QUIT CLAIM</th>\n",
       "      <th>RE-RECORD</th>\n",
       "      <th>TAX DEED</th>\n",
       "      <th>TRUST TRANSFER</th>\n",
       "      <th>TRUSTEES</th>\n",
       "      <th>WARRANTY</th>\n",
       "    </tr>\n",
       "    <tr>\n",
       "      <th>PARCEL</th>\n",
       "      <th></th>\n",
       "      <th></th>\n",
       "      <th></th>\n",
       "      <th></th>\n",
       "      <th></th>\n",
       "      <th></th>\n",
       "      <th></th>\n",
       "      <th></th>\n",
       "      <th></th>\n",
       "      <th></th>\n",
       "      <th></th>\n",
       "      <th></th>\n",
       "      <th></th>\n",
       "      <th></th>\n",
       "      <th></th>\n",
       "      <th></th>\n",
       "      <th></th>\n",
       "      <th></th>\n",
       "      <th></th>\n",
       "      <th></th>\n",
       "      <th></th>\n",
       "    </tr>\n",
       "  </thead>\n",
       "  <tbody>\n",
       "    <tr>\n",
       "      <th>5088017017</th>\n",
       "      <td>0</td>\n",
       "      <td>0</td>\n",
       "      <td>0</td>\n",
       "      <td>0</td>\n",
       "      <td>1</td>\n",
       "      <td>340000</td>\n",
       "      <td>136000</td>\n",
       "      <td>204000</td>\n",
       "      <td>0</td>\n",
       "      <td>1</td>\n",
       "      <td>...</td>\n",
       "      <td>0</td>\n",
       "      <td>0</td>\n",
       "      <td>0</td>\n",
       "      <td>0</td>\n",
       "      <td>0</td>\n",
       "      <td>0</td>\n",
       "      <td>0</td>\n",
       "      <td>0</td>\n",
       "      <td>0</td>\n",
       "      <td>0</td>\n",
       "    </tr>\n",
       "    <tr>\n",
       "      <th>5089020010</th>\n",
       "      <td>0</td>\n",
       "      <td>0</td>\n",
       "      <td>0</td>\n",
       "      <td>0</td>\n",
       "      <td>0</td>\n",
       "      <td>218091</td>\n",
       "      <td>106556</td>\n",
       "      <td>111535</td>\n",
       "      <td>0</td>\n",
       "      <td>1</td>\n",
       "      <td>...</td>\n",
       "      <td>0</td>\n",
       "      <td>0</td>\n",
       "      <td>0</td>\n",
       "      <td>0</td>\n",
       "      <td>0</td>\n",
       "      <td>0</td>\n",
       "      <td>0</td>\n",
       "      <td>0</td>\n",
       "      <td>0</td>\n",
       "      <td>0</td>\n",
       "    </tr>\n",
       "    <tr>\n",
       "      <th>5088016028</th>\n",
       "      <td>1</td>\n",
       "      <td>0</td>\n",
       "      <td>0</td>\n",
       "      <td>0</td>\n",
       "      <td>1</td>\n",
       "      <td>195815</td>\n",
       "      <td>49267</td>\n",
       "      <td>146548</td>\n",
       "      <td>0</td>\n",
       "      <td>1</td>\n",
       "      <td>...</td>\n",
       "      <td>0</td>\n",
       "      <td>0</td>\n",
       "      <td>0</td>\n",
       "      <td>0</td>\n",
       "      <td>0</td>\n",
       "      <td>0</td>\n",
       "      <td>0</td>\n",
       "      <td>0</td>\n",
       "      <td>0</td>\n",
       "      <td>0</td>\n",
       "    </tr>\n",
       "  </tbody>\n",
       "</table>\n",
       "<p>3 rows × 55 columns</p>\n",
       "</div>"
      ],
      "text/plain": [
       "            Owned by Trust?  Owned by Business?  MAIL DIFFERENT FROM SITE?  \\\n",
       "PARCEL                                                                       \n",
       "5088017017                0                   0                          0   \n",
       "5089020010                0                   0                          0   \n",
       "5088016028                1                   0                          0   \n",
       "\n",
       "            MAIL OUTSIDE CA?  TITLECO1  ASSDTOTAL  ASSDLAND  ASSDSTCT  \\\n",
       "PARCEL                                                                  \n",
       "5088017017                 0         1     340000    136000    204000   \n",
       "5089020010                 0         0     218091    106556    111535   \n",
       "5088016028                 0         1     195815     49267    146548   \n",
       "\n",
       "            ASSDOTHR  EXEMPTCD  ...  NAME CHANGE  Other  PARTNERSHIP  \\\n",
       "PARCEL                          ...                                    \n",
       "5088017017         0         1  ...            0      0            0   \n",
       "5089020010         0         1  ...            0      0            0   \n",
       "5088016028         0         1  ...            0      0            0   \n",
       "\n",
       "            PERSONAL REP  QUIT CLAIM  RE-RECORD  TAX DEED  TRUST TRANSFER  \\\n",
       "PARCEL                                                                      \n",
       "5088017017             0           0          0         0               0   \n",
       "5089020010             0           0          0         0               0   \n",
       "5088016028             0           0          0         0               0   \n",
       "\n",
       "            TRUSTEES  WARRANTY  \n",
       "PARCEL                          \n",
       "5088017017         0         0  \n",
       "5089020010         0         0  \n",
       "5088016028         0         0  \n",
       "\n",
       "[3 rows x 55 columns]"
      ]
     },
     "execution_count": 868,
     "metadata": {},
     "output_type": "execute_result"
    }
   ],
   "source": [
    "X_train.head(3)"
   ]
  },
  {
   "cell_type": "code",
   "execution_count": 869,
   "metadata": {},
   "outputs": [
    {
     "data": {
      "text/plain": [
       "Index(['Owned by Trust?', 'Owned by Business?', 'MAIL DIFFERENT FROM SITE?',\n",
       "       'MAIL OUTSIDE CA?', 'TITLECO1', 'ASSDTOTAL', 'ASSDLAND', 'ASSDSTCT',\n",
       "       'ASSDOTHR', 'EXEMPTCD', 'EXMPTAMT', 'PCNTIMPD', 'TAXAMT',\n",
       "       'DOCDATE_YEAR', 'MULTIPARCEL', 'PRICE', 'LENDER1', 'LOANAMOUT1',\n",
       "       'LOANTYPE1', 'YEARBLT', 'EFFYRBLT', 'LOTSQFT', 'TOTALSF', 'GRGTYPE',\n",
       "       'BLDGMAT', 'TOTUNITS', 'QUALCLAS', 'BLDGCOND', 'NOSTORY', 'ROOFMAT',\n",
       "       'FOUNDATN', 'BEDROOMS', 'BATHROOMS', 'FAMILYRM', 'DININGRM', 'POOL',\n",
       "       'PATIO', 'FIREPLCE', 'AIRMTHOD', 'HEATMTHD', 'VIEW', 'GRANT DEED',\n",
       "       'IN LIEU OF FORC', 'INTERSPOUSAL', 'JOINT TENANT', 'NAME CHANGE',\n",
       "       'Other', 'PARTNERSHIP', 'PERSONAL REP', 'QUIT CLAIM', 'RE-RECORD',\n",
       "       'TAX DEED', 'TRUST TRANSFER', 'TRUSTEES', 'WARRANTY'],\n",
       "      dtype='object')"
      ]
     },
     "execution_count": 869,
     "metadata": {},
     "output_type": "execute_result"
    }
   ],
   "source": [
    "X_train.columns"
   ]
  },
  {
   "cell_type": "code",
   "execution_count": 870,
   "metadata": {},
   "outputs": [],
   "source": [
    "# Scale our data\n",
    "\n",
    "# Create the StandardScaler instance\n",
    "scaler = StandardScaler()\n",
    "\n",
    "# Fit our scaler, named 'scaler' to our data, which produces a new StandardScaler object\n",
    "# which we call 'X_scaler'\n",
    "X_scaler = scaler.fit(X_train)\n",
    "\n",
    "# Scale the data\n",
    "X_train_scaled = X_scaler.transform(X_train)\n",
    "X_test_scaled = X_scaler.transform(X_test)"
   ]
  },
  {
   "cell_type": "code",
   "execution_count": 871,
   "metadata": {},
   "outputs": [],
   "source": [
    "X_train_scaled_APN = []"
   ]
  },
  {
   "cell_type": "code",
   "execution_count": 872,
   "metadata": {},
   "outputs": [],
   "source": [
    "for index, parcel in enumerate(X_train.index.values):\n",
    "     X_train_scaled_APN.append(np.insert(X_train_scaled[index], 0, [parcel]))"
   ]
  },
  {
   "cell_type": "code",
   "execution_count": 873,
   "metadata": {},
   "outputs": [],
   "source": [
    "# Create the learning model\n",
    "\n",
    "classifier = LogisticRegression(solver='lbfgs',\n",
    "                                max_iter=300,\n",
    "                                random_state=78,\n",
    "                                class_weight=\"balanced\")"
   ]
  },
  {
   "cell_type": "code",
   "execution_count": 874,
   "metadata": {},
   "outputs": [
    {
     "data": {
      "text/plain": [
       "LogisticRegression(class_weight='balanced', max_iter=300, random_state=78)"
      ]
     },
     "execution_count": 874,
     "metadata": {},
     "output_type": "execute_result"
    }
   ],
   "source": [
    "# fit our learning model to our scaled training data\n",
    "\n",
    "classifier.fit(X_train_scaled, y_train)"
   ]
  },
  {
   "cell_type": "code",
   "execution_count": 875,
   "metadata": {},
   "outputs": [
    {
     "data": {
      "text/html": [
       "<div>\n",
       "<style scoped>\n",
       "    .dataframe tbody tr th:only-of-type {\n",
       "        vertical-align: middle;\n",
       "    }\n",
       "\n",
       "    .dataframe tbody tr th {\n",
       "        vertical-align: top;\n",
       "    }\n",
       "\n",
       "    .dataframe thead th {\n",
       "        text-align: right;\n",
       "    }\n",
       "</style>\n",
       "<table border=\"1\" class=\"dataframe\">\n",
       "  <thead>\n",
       "    <tr style=\"text-align: right;\">\n",
       "      <th></th>\n",
       "      <th>Prediction</th>\n",
       "      <th>Actual</th>\n",
       "      <th>PARCEL</th>\n",
       "    </tr>\n",
       "  </thead>\n",
       "  <tbody>\n",
       "    <tr>\n",
       "      <th>237</th>\n",
       "      <td>0</td>\n",
       "      <td>0</td>\n",
       "      <td>5087009006</td>\n",
       "    </tr>\n",
       "    <tr>\n",
       "      <th>169</th>\n",
       "      <td>0</td>\n",
       "      <td>0</td>\n",
       "      <td>5087023024</td>\n",
       "    </tr>\n",
       "    <tr>\n",
       "      <th>1067</th>\n",
       "      <td>0</td>\n",
       "      <td>0</td>\n",
       "      <td>5510002022</td>\n",
       "    </tr>\n",
       "    <tr>\n",
       "      <th>220</th>\n",
       "      <td>0</td>\n",
       "      <td>0</td>\n",
       "      <td>5510020024</td>\n",
       "    </tr>\n",
       "    <tr>\n",
       "      <th>322</th>\n",
       "      <td>0</td>\n",
       "      <td>1</td>\n",
       "      <td>5085020006</td>\n",
       "    </tr>\n",
       "    <tr>\n",
       "      <th>125</th>\n",
       "      <td>0</td>\n",
       "      <td>0</td>\n",
       "      <td>5087006012</td>\n",
       "    </tr>\n",
       "    <tr>\n",
       "      <th>521</th>\n",
       "      <td>0</td>\n",
       "      <td>0</td>\n",
       "      <td>5512018034</td>\n",
       "    </tr>\n",
       "    <tr>\n",
       "      <th>430</th>\n",
       "      <td>1</td>\n",
       "      <td>0</td>\n",
       "      <td>5086004005</td>\n",
       "    </tr>\n",
       "    <tr>\n",
       "      <th>812</th>\n",
       "      <td>0</td>\n",
       "      <td>0</td>\n",
       "      <td>5087012013</td>\n",
       "    </tr>\n",
       "    <tr>\n",
       "      <th>1094</th>\n",
       "      <td>0</td>\n",
       "      <td>0</td>\n",
       "      <td>5526022019</td>\n",
       "    </tr>\n",
       "    <tr>\n",
       "      <th>947</th>\n",
       "      <td>1</td>\n",
       "      <td>0</td>\n",
       "      <td>5514007021</td>\n",
       "    </tr>\n",
       "    <tr>\n",
       "      <th>886</th>\n",
       "      <td>1</td>\n",
       "      <td>0</td>\n",
       "      <td>5525036006</td>\n",
       "    </tr>\n",
       "    <tr>\n",
       "      <th>337</th>\n",
       "      <td>0</td>\n",
       "      <td>0</td>\n",
       "      <td>5514002002</td>\n",
       "    </tr>\n",
       "    <tr>\n",
       "      <th>936</th>\n",
       "      <td>1</td>\n",
       "      <td>0</td>\n",
       "      <td>5086023022</td>\n",
       "    </tr>\n",
       "    <tr>\n",
       "      <th>493</th>\n",
       "      <td>0</td>\n",
       "      <td>0</td>\n",
       "      <td>5087024023</td>\n",
       "    </tr>\n",
       "    <tr>\n",
       "      <th>618</th>\n",
       "      <td>1</td>\n",
       "      <td>0</td>\n",
       "      <td>5088007012</td>\n",
       "    </tr>\n",
       "    <tr>\n",
       "      <th>930</th>\n",
       "      <td>0</td>\n",
       "      <td>0</td>\n",
       "      <td>5510012032</td>\n",
       "    </tr>\n",
       "    <tr>\n",
       "      <th>616</th>\n",
       "      <td>0</td>\n",
       "      <td>0</td>\n",
       "      <td>5085019013</td>\n",
       "    </tr>\n",
       "    <tr>\n",
       "      <th>453</th>\n",
       "      <td>0</td>\n",
       "      <td>0</td>\n",
       "      <td>5527034001</td>\n",
       "    </tr>\n",
       "    <tr>\n",
       "      <th>820</th>\n",
       "      <td>0</td>\n",
       "      <td>0</td>\n",
       "      <td>5086016010</td>\n",
       "    </tr>\n",
       "  </tbody>\n",
       "</table>\n",
       "</div>"
      ],
      "text/plain": [
       "      Prediction  Actual      PARCEL\n",
       "237            0       0  5087009006\n",
       "169            0       0  5087023024\n",
       "1067           0       0  5510002022\n",
       "220            0       0  5510020024\n",
       "322            0       1  5085020006\n",
       "125            0       0  5087006012\n",
       "521            0       0  5512018034\n",
       "430            1       0  5086004005\n",
       "812            0       0  5087012013\n",
       "1094           0       0  5526022019\n",
       "947            1       0  5514007021\n",
       "886            1       0  5525036006\n",
       "337            0       0  5514002002\n",
       "936            1       0  5086023022\n",
       "493            0       0  5087024023\n",
       "618            1       0  5088007012\n",
       "930            0       0  5510012032\n",
       "616            0       0  5085019013\n",
       "453            0       0  5527034001\n",
       "820            0       0  5086016010"
      ]
     },
     "execution_count": 875,
     "metadata": {},
     "output_type": "execute_result"
    }
   ],
   "source": [
    "y_pred = classifier.predict(X_test_scaled)\n",
    "results = pd.DataFrame({\"Prediction\": y_pred, \"Actual\": y_test, \"PARCEL\": y_test.index.values}).reset_index(drop=True)\n",
    "results.sample(20)"
   ]
  },
  {
   "cell_type": "code",
   "execution_count": 876,
   "metadata": {},
   "outputs": [
    {
     "name": "stdout",
     "output_type": "stream",
     "text": [
      "0.5921835174171622\n"
     ]
    }
   ],
   "source": [
    "from sklearn.metrics import accuracy_score\n",
    "print(accuracy_score(y_test, y_pred))"
   ]
  },
  {
   "cell_type": "code",
   "execution_count": 877,
   "metadata": {},
   "outputs": [
    {
     "name": "stdout",
     "output_type": "stream",
     "text": [
      "0.4951901414796792\n"
     ]
    }
   ],
   "source": [
    "from sklearn.metrics import balanced_accuracy_score\n",
    "print(balanced_accuracy_score(y_test, y_pred))"
   ]
  },
  {
   "cell_type": "code",
   "execution_count": 878,
   "metadata": {},
   "outputs": [
    {
     "data": {
      "text/plain": [
       "0.6923828010441901"
      ]
     },
     "execution_count": 878,
     "metadata": {},
     "output_type": "execute_result"
    }
   ],
   "source": [
    "from sklearn.metrics import f1_score\n",
    "f1_score(y_test, y_pred, average=\"weighted\")"
   ]
  },
  {
   "cell_type": "code",
   "execution_count": 879,
   "metadata": {},
   "outputs": [
    {
     "data": {
      "text/plain": [
       "array([[666, 430],\n",
       "       [ 50,  31]])"
      ]
     },
     "execution_count": 879,
     "metadata": {},
     "output_type": "execute_result"
    }
   ],
   "source": [
    "# See our results in a confusion matrix\n",
    "from sklearn.metrics import confusion_matrix\n",
    "confusion_matrix(y_test, y_pred)"
   ]
  },
  {
   "cell_type": "code",
   "execution_count": 880,
   "metadata": {},
   "outputs": [
    {
     "name": "stdout",
     "output_type": "stream",
     "text": [
      "              precision    recall  f1-score   support\n",
      "\n",
      "           0       0.93      0.61      0.74      1096\n",
      "           1       0.07      0.38      0.11        81\n",
      "\n",
      "    accuracy                           0.59      1177\n",
      "   macro avg       0.50      0.50      0.42      1177\n",
      "weighted avg       0.87      0.59      0.69      1177\n",
      "\n"
     ]
    }
   ],
   "source": [
    "# evaluate\n",
    "from sklearn.metrics import classification_report\n",
    "print(classification_report(y_test, y_pred))"
   ]
  },
  {
   "cell_type": "code",
   "execution_count": 881,
   "metadata": {},
   "outputs": [
    {
     "data": {
      "text/html": [
       "<div>\n",
       "<style scoped>\n",
       "    .dataframe tbody tr th:only-of-type {\n",
       "        vertical-align: middle;\n",
       "    }\n",
       "\n",
       "    .dataframe tbody tr th {\n",
       "        vertical-align: top;\n",
       "    }\n",
       "\n",
       "    .dataframe thead th {\n",
       "        text-align: right;\n",
       "    }\n",
       "</style>\n",
       "<table border=\"1\" class=\"dataframe\">\n",
       "  <thead>\n",
       "    <tr style=\"text-align: right;\">\n",
       "      <th></th>\n",
       "      <th>PARCEL</th>\n",
       "      <th>Owned by Trust?</th>\n",
       "      <th>Owned by Business?</th>\n",
       "      <th>MAIL DIFFERENT FROM SITE?</th>\n",
       "      <th>MAIL OUTSIDE CA?</th>\n",
       "      <th>TITLECO1</th>\n",
       "      <th>ASSDTOTAL</th>\n",
       "      <th>ASSDLAND</th>\n",
       "      <th>ASSDSTCT</th>\n",
       "      <th>ASSDOTHR</th>\n",
       "      <th>...</th>\n",
       "      <th>PARTNERSHIP</th>\n",
       "      <th>PERSONAL REP</th>\n",
       "      <th>QUIT CLAIM</th>\n",
       "      <th>RE-RECORD</th>\n",
       "      <th>TAX DEED</th>\n",
       "      <th>TRUST TRANSFER</th>\n",
       "      <th>TRUSTEES</th>\n",
       "      <th>WARRANTY</th>\n",
       "      <th>Prediction</th>\n",
       "      <th>Actual</th>\n",
       "    </tr>\n",
       "  </thead>\n",
       "  <tbody>\n",
       "    <tr>\n",
       "      <th>0</th>\n",
       "      <td>5085010022</td>\n",
       "      <td>0</td>\n",
       "      <td>0</td>\n",
       "      <td>0</td>\n",
       "      <td>0</td>\n",
       "      <td>1</td>\n",
       "      <td>1157385</td>\n",
       "      <td>925908</td>\n",
       "      <td>231477</td>\n",
       "      <td>0</td>\n",
       "      <td>...</td>\n",
       "      <td>0</td>\n",
       "      <td>0</td>\n",
       "      <td>0</td>\n",
       "      <td>0</td>\n",
       "      <td>0</td>\n",
       "      <td>0</td>\n",
       "      <td>0</td>\n",
       "      <td>0</td>\n",
       "      <td>NaN</td>\n",
       "      <td>NaN</td>\n",
       "    </tr>\n",
       "    <tr>\n",
       "      <th>1</th>\n",
       "      <td>5085033008</td>\n",
       "      <td>0</td>\n",
       "      <td>0</td>\n",
       "      <td>1</td>\n",
       "      <td>0</td>\n",
       "      <td>0</td>\n",
       "      <td>57047</td>\n",
       "      <td>40994</td>\n",
       "      <td>16053</td>\n",
       "      <td>0</td>\n",
       "      <td>...</td>\n",
       "      <td>0</td>\n",
       "      <td>0</td>\n",
       "      <td>0</td>\n",
       "      <td>0</td>\n",
       "      <td>0</td>\n",
       "      <td>0</td>\n",
       "      <td>0</td>\n",
       "      <td>0</td>\n",
       "      <td>0.0</td>\n",
       "      <td>0.0</td>\n",
       "    </tr>\n",
       "    <tr>\n",
       "      <th>2</th>\n",
       "      <td>5085032022</td>\n",
       "      <td>0</td>\n",
       "      <td>0</td>\n",
       "      <td>0</td>\n",
       "      <td>0</td>\n",
       "      <td>1</td>\n",
       "      <td>651485</td>\n",
       "      <td>521193</td>\n",
       "      <td>130292</td>\n",
       "      <td>0</td>\n",
       "      <td>...</td>\n",
       "      <td>0</td>\n",
       "      <td>0</td>\n",
       "      <td>0</td>\n",
       "      <td>0</td>\n",
       "      <td>0</td>\n",
       "      <td>0</td>\n",
       "      <td>0</td>\n",
       "      <td>0</td>\n",
       "      <td>NaN</td>\n",
       "      <td>NaN</td>\n",
       "    </tr>\n",
       "    <tr>\n",
       "      <th>3</th>\n",
       "      <td>5510005006</td>\n",
       "      <td>1</td>\n",
       "      <td>0</td>\n",
       "      <td>1</td>\n",
       "      <td>0</td>\n",
       "      <td>0</td>\n",
       "      <td>85697</td>\n",
       "      <td>74539</td>\n",
       "      <td>11158</td>\n",
       "      <td>0</td>\n",
       "      <td>...</td>\n",
       "      <td>0</td>\n",
       "      <td>0</td>\n",
       "      <td>0</td>\n",
       "      <td>0</td>\n",
       "      <td>0</td>\n",
       "      <td>0</td>\n",
       "      <td>0</td>\n",
       "      <td>0</td>\n",
       "      <td>0.0</td>\n",
       "      <td>0.0</td>\n",
       "    </tr>\n",
       "    <tr>\n",
       "      <th>4</th>\n",
       "      <td>5089024002</td>\n",
       "      <td>0</td>\n",
       "      <td>0</td>\n",
       "      <td>0</td>\n",
       "      <td>0</td>\n",
       "      <td>0</td>\n",
       "      <td>62487</td>\n",
       "      <td>42013</td>\n",
       "      <td>20474</td>\n",
       "      <td>0</td>\n",
       "      <td>...</td>\n",
       "      <td>0</td>\n",
       "      <td>0</td>\n",
       "      <td>0</td>\n",
       "      <td>0</td>\n",
       "      <td>0</td>\n",
       "      <td>0</td>\n",
       "      <td>0</td>\n",
       "      <td>0</td>\n",
       "      <td>NaN</td>\n",
       "      <td>NaN</td>\n",
       "    </tr>\n",
       "  </tbody>\n",
       "</table>\n",
       "<p>5 rows × 59 columns</p>\n",
       "</div>"
      ],
      "text/plain": [
       "       PARCEL  Owned by Trust?  Owned by Business?  MAIL DIFFERENT FROM SITE?  \\\n",
       "0  5085010022                0                   0                          0   \n",
       "1  5085033008                0                   0                          1   \n",
       "2  5085032022                0                   0                          0   \n",
       "3  5510005006                1                   0                          1   \n",
       "4  5089024002                0                   0                          0   \n",
       "\n",
       "   MAIL OUTSIDE CA?  TITLECO1  ASSDTOTAL  ASSDLAND  ASSDSTCT  ASSDOTHR  ...  \\\n",
       "0                 0         1    1157385    925908    231477         0  ...   \n",
       "1                 0         0      57047     40994     16053         0  ...   \n",
       "2                 0         1     651485    521193    130292         0  ...   \n",
       "3                 0         0      85697     74539     11158         0  ...   \n",
       "4                 0         0      62487     42013     20474         0  ...   \n",
       "\n",
       "   PARTNERSHIP  PERSONAL REP  QUIT CLAIM  RE-RECORD  TAX DEED  TRUST TRANSFER  \\\n",
       "0            0             0           0          0         0               0   \n",
       "1            0             0           0          0         0               0   \n",
       "2            0             0           0          0         0               0   \n",
       "3            0             0           0          0         0               0   \n",
       "4            0             0           0          0         0               0   \n",
       "\n",
       "   TRUSTEES  WARRANTY  Prediction  Actual  \n",
       "0         0         0         NaN     NaN  \n",
       "1         0         0         0.0     0.0  \n",
       "2         0         0         NaN     NaN  \n",
       "3         0         0         0.0     0.0  \n",
       "4         0         0         NaN     NaN  \n",
       "\n",
       "[5 rows x 59 columns]"
      ]
     },
     "execution_count": 881,
     "metadata": {},
     "output_type": "execute_result"
    }
   ],
   "source": [
    "Beverly_Grove_df = Beverly_Grove_df.merge(results, how=\"left\", right_on=\"PARCEL\", left_on=\"PARCEL\")\n",
    "Beverly_Grove_df.head()"
   ]
  },
  {
   "cell_type": "markdown",
   "metadata": {},
   "source": [
    "# Attempt 2: Resample our data using SMOTEEN"
   ]
  },
  {
   "cell_type": "code",
   "execution_count": 882,
   "metadata": {},
   "outputs": [
    {
     "data": {
      "text/plain": [
       "Counter({0: 2095, 1: 3245})"
      ]
     },
     "execution_count": 882,
     "metadata": {},
     "output_type": "execute_result"
    }
   ],
   "source": [
    "from imblearn.combine import SMOTEENN\n",
    "\n",
    "smote_enn = SMOTEENN(random_state=0)\n",
    "X_resampled, y_resampled = smote_enn.fit_resample(X_train_scaled, y_train)\n",
    "Counter(y_resampled)"
   ]
  },
  {
   "cell_type": "code",
   "execution_count": 883,
   "metadata": {},
   "outputs": [
    {
     "data": {
      "text/plain": [
       "LogisticRegression(class_weight='balanced', max_iter=300, random_state=78)"
      ]
     },
     "execution_count": 883,
     "metadata": {},
     "output_type": "execute_result"
    }
   ],
   "source": [
    "model_2 = LogisticRegression(solver='lbfgs', random_state=78, max_iter=300, class_weight=\"balanced\")\n",
    "model_2.fit(X_resampled, y_resampled)"
   ]
  },
  {
   "cell_type": "code",
   "execution_count": 884,
   "metadata": {},
   "outputs": [],
   "source": [
    "# Calculated the balanced accuracy score\n",
    "y_pred = model_2.predict(X_test_scaled)"
   ]
  },
  {
   "cell_type": "code",
   "execution_count": 885,
   "metadata": {},
   "outputs": [
    {
     "data": {
      "text/plain": [
       "0.5283635216725241"
      ]
     },
     "execution_count": 885,
     "metadata": {},
     "output_type": "execute_result"
    }
   ],
   "source": [
    "from sklearn.metrics import balanced_accuracy_score\n",
    "balanced_accuracy_score(y_test, y_pred)"
   ]
  },
  {
   "cell_type": "code",
   "execution_count": 886,
   "metadata": {},
   "outputs": [
    {
     "data": {
      "text/plain": [
       "0.5794392523364486"
      ]
     },
     "execution_count": 886,
     "metadata": {},
     "output_type": "execute_result"
    }
   ],
   "source": [
    "from sklearn.metrics import accuracy_score\n",
    "accuracy_score(y_test, y_pred)"
   ]
  },
  {
   "cell_type": "code",
   "execution_count": 887,
   "metadata": {},
   "outputs": [
    {
     "data": {
      "text/plain": [
       "0.6818244603198075"
      ]
     },
     "execution_count": 887,
     "metadata": {},
     "output_type": "execute_result"
    }
   ],
   "source": [
    "f1_score(y_test, y_pred, average=\"weighted\")"
   ]
  },
  {
   "cell_type": "code",
   "execution_count": 888,
   "metadata": {},
   "outputs": [
    {
     "data": {
      "text/plain": [
       "array([[644, 452],\n",
       "       [ 43,  38]])"
      ]
     },
     "execution_count": 888,
     "metadata": {},
     "output_type": "execute_result"
    }
   ],
   "source": [
    "confusion_matrix(y_test, y_pred)"
   ]
  },
  {
   "cell_type": "code",
   "execution_count": 889,
   "metadata": {},
   "outputs": [
    {
     "name": "stdout",
     "output_type": "stream",
     "text": [
      "              precision    recall  f1-score   support\n",
      "\n",
      "           0       0.94      0.59      0.72      1096\n",
      "           1       0.08      0.47      0.13        81\n",
      "\n",
      "    accuracy                           0.58      1177\n",
      "   macro avg       0.51      0.53      0.43      1177\n",
      "weighted avg       0.88      0.58      0.68      1177\n",
      "\n"
     ]
    }
   ],
   "source": [
    "# evaluate\n",
    "print(classification_report(y_test, y_pred))"
   ]
  },
  {
   "cell_type": "markdown",
   "metadata": {},
   "source": [
    "# Attempt 3: Resample our Data using SMOTE"
   ]
  },
  {
   "cell_type": "code",
   "execution_count": 890,
   "metadata": {},
   "outputs": [],
   "source": [
    "from imblearn.over_sampling import SMOTE\n",
    "X_resampled_2, y_resampled_2 = SMOTE(random_state=1, \n",
    "                               sampling_strategy='auto').fit_resample(\n",
    "                               X_train_scaled, y_train)"
   ]
  },
  {
   "cell_type": "code",
   "execution_count": 891,
   "metadata": {},
   "outputs": [
    {
     "data": {
      "text/plain": [
       "Counter({0: 3287, 1: 3287})"
      ]
     },
     "execution_count": 891,
     "metadata": {},
     "output_type": "execute_result"
    }
   ],
   "source": [
    "Counter(y_resampled_2)"
   ]
  },
  {
   "cell_type": "code",
   "execution_count": 892,
   "metadata": {},
   "outputs": [
    {
     "data": {
      "text/plain": [
       "LogisticRegression(class_weight='balanced', max_iter=300, random_state=78)"
      ]
     },
     "execution_count": 892,
     "metadata": {},
     "output_type": "execute_result"
    }
   ],
   "source": [
    "# perform our logistic regression\n",
    "\n",
    "model_3 = LogisticRegression(solver='lbfgs', random_state=78, max_iter=300, class_weight=\"balanced\")\n",
    "model_3.fit(X_resampled_2, y_resampled_2)"
   ]
  },
  {
   "cell_type": "code",
   "execution_count": 893,
   "metadata": {},
   "outputs": [
    {
     "data": {
      "text/plain": [
       "0.5146492295214923"
      ]
     },
     "execution_count": 893,
     "metadata": {},
     "output_type": "execute_result"
    }
   ],
   "source": [
    "# Calculated the balanced accuracy score\n",
    "y_pred = model_3.predict(X_test_scaled)\n",
    "balanced_accuracy_score(y_test, y_pred)"
   ]
  },
  {
   "cell_type": "code",
   "execution_count": 894,
   "metadata": {},
   "outputs": [
    {
     "data": {
      "text/plain": [
       "0.5751911639762107"
      ]
     },
     "execution_count": 894,
     "metadata": {},
     "output_type": "execute_result"
    }
   ],
   "source": [
    "accuracy_score(y_test, y_pred)"
   ]
  },
  {
   "cell_type": "code",
   "execution_count": 895,
   "metadata": {},
   "outputs": [
    {
     "data": {
      "text/plain": [
       "0.6785693826192267"
      ]
     },
     "execution_count": 895,
     "metadata": {},
     "output_type": "execute_result"
    }
   ],
   "source": [
    "f1_score(y_test, y_pred, average=\"weighted\")"
   ]
  },
  {
   "cell_type": "code",
   "execution_count": 896,
   "metadata": {},
   "outputs": [
    {
     "data": {
      "text/plain": [
       "array([[641, 455],\n",
       "       [ 45,  36]])"
      ]
     },
     "execution_count": 896,
     "metadata": {},
     "output_type": "execute_result"
    }
   ],
   "source": [
    "confusion_matrix(y_test, y_pred)"
   ]
  },
  {
   "cell_type": "markdown",
   "metadata": {},
   "source": [
    "# Attempt 4: Use a Support Vector Machine"
   ]
  },
  {
   "cell_type": "code",
   "execution_count": 897,
   "metadata": {},
   "outputs": [],
   "source": [
    "# Instantiate a linear SVM model\n",
    "from sklearn.svm import SVC\n",
    "model_4 = SVC(kernel='linear')"
   ]
  },
  {
   "cell_type": "code",
   "execution_count": 898,
   "metadata": {},
   "outputs": [],
   "source": [
    "#model_4.class_weight_"
   ]
  },
  {
   "cell_type": "code",
   "execution_count": 899,
   "metadata": {},
   "outputs": [],
   "source": [
    "#model_4.coef_"
   ]
  },
  {
   "cell_type": "code",
   "execution_count": 900,
   "metadata": {},
   "outputs": [],
   "source": [
    "#pd.Series(abs(model_4.coef_[0]), index=X_train.columns).nlargest(20).plot(kind='barh')"
   ]
  },
  {
   "cell_type": "code",
   "execution_count": 901,
   "metadata": {},
   "outputs": [
    {
     "data": {
      "text/plain": [
       "Index(['PARCEL', 'Owned by Trust?', 'Owned by Business?',\n",
       "       'MAIL DIFFERENT FROM SITE?', 'MAIL OUTSIDE CA?', 'TITLECO1',\n",
       "       'ASSDTOTAL', 'ASSDLAND', 'ASSDSTCT', 'ASSDOTHR', 'EXEMPTCD', 'EXMPTAMT',\n",
       "       'PCNTIMPD', 'TAXAMT', 'DOCDATE_YEAR', 'MULTIPARCEL', 'PRICE', 'LENDER1',\n",
       "       'LOANAMOUT1', 'LOANTYPE1', 'YEARBLT', 'EFFYRBLT', 'LOTSQFT', 'TOTALSF',\n",
       "       'GRGTYPE', 'BLDGMAT', 'TOTUNITS', 'QUALCLAS', 'BLDGCOND', 'NOSTORY',\n",
       "       'ROOFMAT', 'FOUNDATN', 'BEDROOMS', 'BATHROOMS', 'FAMILYRM', 'DININGRM',\n",
       "       'POOL', 'PATIO', 'FIREPLCE', 'AIRMTHOD', 'HEATMTHD', 'VIEW',\n",
       "       'Did it sell?', 'GRANT DEED', 'IN LIEU OF FORC', 'INTERSPOUSAL',\n",
       "       'JOINT TENANT', 'NAME CHANGE', 'Other', 'PARTNERSHIP', 'PERSONAL REP',\n",
       "       'QUIT CLAIM', 'RE-RECORD', 'TAX DEED', 'TRUST TRANSFER', 'TRUSTEES',\n",
       "       'WARRANTY', 'Prediction', 'Actual'],\n",
       "      dtype='object')"
      ]
     },
     "execution_count": 901,
     "metadata": {},
     "output_type": "execute_result"
    }
   ],
   "source": [
    "Beverly_Grove_df.columns"
   ]
  },
  {
   "cell_type": "code",
   "execution_count": 902,
   "metadata": {},
   "outputs": [],
   "source": [
    "#model_4.support_vectors_"
   ]
  },
  {
   "cell_type": "code",
   "execution_count": 903,
   "metadata": {},
   "outputs": [
    {
     "data": {
      "text/plain": [
       "SVC(kernel='linear')"
      ]
     },
     "execution_count": 903,
     "metadata": {},
     "output_type": "execute_result"
    }
   ],
   "source": [
    "# Fit/train our model using the scaled training data\n",
    "model_4.fit(X_train_scaled, y_train)"
   ]
  },
  {
   "cell_type": "code",
   "execution_count": 904,
   "metadata": {},
   "outputs": [],
   "source": [
    "# Make predictions using the test data\n",
    "y_pred = model_4.predict(X_test_scaled)\n",
    "results_SVM = pd.DataFrame({\n",
    "    \"Prediction\": y_pred,\n",
    "    \"Actual\": y_test\n",
    "}).reset_index(drop=True)"
   ]
  },
  {
   "cell_type": "code",
   "execution_count": 905,
   "metadata": {},
   "outputs": [
    {
     "data": {
      "text/plain": [
       "0.9311809685641461"
      ]
     },
     "execution_count": 905,
     "metadata": {},
     "output_type": "execute_result"
    }
   ],
   "source": [
    "from sklearn.metrics import accuracy_score\n",
    "accuracy_score(y_test, y_pred)"
   ]
  },
  {
   "cell_type": "code",
   "execution_count": 906,
   "metadata": {},
   "outputs": [
    {
     "data": {
      "text/plain": [
       "0.5"
      ]
     },
     "execution_count": 906,
     "metadata": {},
     "output_type": "execute_result"
    }
   ],
   "source": [
    "balanced_accuracy_score(y_test, y_pred)"
   ]
  },
  {
   "cell_type": "code",
   "execution_count": 907,
   "metadata": {},
   "outputs": [
    {
     "data": {
      "text/plain": [
       "0.8979976608414467"
      ]
     },
     "execution_count": 907,
     "metadata": {},
     "output_type": "execute_result"
    }
   ],
   "source": [
    "f1_score(y_test, y_pred, average=\"weighted\")"
   ]
  },
  {
   "cell_type": "code",
   "execution_count": 908,
   "metadata": {},
   "outputs": [
    {
     "data": {
      "text/plain": [
       "array([[1096,    0],\n",
       "       [  81,    0]])"
      ]
     },
     "execution_count": 908,
     "metadata": {},
     "output_type": "execute_result"
    }
   ],
   "source": [
    "# create our confusion matrix\n",
    "from sklearn.metrics import confusion_matrix\n",
    "confusion_matrix(y_test, y_pred)"
   ]
  },
  {
   "cell_type": "code",
   "execution_count": 909,
   "metadata": {},
   "outputs": [
    {
     "name": "stdout",
     "output_type": "stream",
     "text": [
      "              precision    recall  f1-score   support\n",
      "\n",
      "           0       0.93      1.00      0.96      1096\n",
      "           1       0.00      0.00      0.00        81\n",
      "\n",
      "    accuracy                           0.93      1177\n",
      "   macro avg       0.47      0.50      0.48      1177\n",
      "weighted avg       0.87      0.93      0.90      1177\n",
      "\n"
     ]
    },
    {
     "name": "stderr",
     "output_type": "stream",
     "text": [
      "/Users/Admin/opt/anaconda3/envs/mlenv/lib/python3.7/site-packages/sklearn/metrics/_classification.py:1245: UndefinedMetricWarning: Precision and F-score are ill-defined and being set to 0.0 in labels with no predicted samples. Use `zero_division` parameter to control this behavior.\n",
      "  _warn_prf(average, modifier, msg_start, len(result))\n",
      "/Users/Admin/opt/anaconda3/envs/mlenv/lib/python3.7/site-packages/sklearn/metrics/_classification.py:1245: UndefinedMetricWarning: Precision and F-score are ill-defined and being set to 0.0 in labels with no predicted samples. Use `zero_division` parameter to control this behavior.\n",
      "  _warn_prf(average, modifier, msg_start, len(result))\n",
      "/Users/Admin/opt/anaconda3/envs/mlenv/lib/python3.7/site-packages/sklearn/metrics/_classification.py:1245: UndefinedMetricWarning: Precision and F-score are ill-defined and being set to 0.0 in labels with no predicted samples. Use `zero_division` parameter to control this behavior.\n",
      "  _warn_prf(average, modifier, msg_start, len(result))\n"
     ]
    }
   ],
   "source": [
    "# evaluate\n",
    "from sklearn.metrics import classification_report\n",
    "print(classification_report(y_test, y_pred))"
   ]
  },
  {
   "cell_type": "markdown",
   "metadata": {},
   "source": [
    "## Attempt 5: Reduce the number of columns to just the important ones and run an SVC"
   ]
  },
  {
   "cell_type": "code",
   "execution_count": 910,
   "metadata": {},
   "outputs": [],
   "source": [
    "# REimport our file\n",
    "\n",
    "# Beverly_Grove_df = pd.read_csv('Beverly_Grove_Cleaned.csv', index_col='PARCEL')\n",
    "# Beverly_Grove_df.head()"
   ]
  },
  {
   "cell_type": "code",
   "execution_count": 911,
   "metadata": {},
   "outputs": [],
   "source": [
    "Beverly_Grove_Reduced_df = Beverly_Grove_df[['MAIL DIFFERENT FROM SITE?',\n",
    "                                             'ASSDTOTAL',\n",
    "                                             'ASSDLAND',\n",
    "                                             'ASSDSTCT',\n",
    "                                             'BLDGCOND',\n",
    "                                             'TAXAMT',\n",
    "                                             'PRICE',\n",
    "                                             'YEARBLT',\n",
    "                                             'EFFYRBLT',\n",
    "                                             'LOANAMOUT1',\n",
    "                                             'Did it sell?']]"
   ]
  },
  {
   "cell_type": "code",
   "execution_count": 912,
   "metadata": {},
   "outputs": [],
   "source": [
    "#Beverly_Grove_Reduced_df.set_index(['PARCEL'], inplace=True)"
   ]
  },
  {
   "cell_type": "code",
   "execution_count": 913,
   "metadata": {},
   "outputs": [
    {
     "data": {
      "text/html": [
       "<div>\n",
       "<style scoped>\n",
       "    .dataframe tbody tr th:only-of-type {\n",
       "        vertical-align: middle;\n",
       "    }\n",
       "\n",
       "    .dataframe tbody tr th {\n",
       "        vertical-align: top;\n",
       "    }\n",
       "\n",
       "    .dataframe thead th {\n",
       "        text-align: right;\n",
       "    }\n",
       "</style>\n",
       "<table border=\"1\" class=\"dataframe\">\n",
       "  <thead>\n",
       "    <tr style=\"text-align: right;\">\n",
       "      <th></th>\n",
       "      <th>MAIL DIFFERENT FROM SITE?</th>\n",
       "      <th>ASSDTOTAL</th>\n",
       "      <th>ASSDLAND</th>\n",
       "      <th>ASSDSTCT</th>\n",
       "      <th>BLDGCOND</th>\n",
       "      <th>TAXAMT</th>\n",
       "      <th>PRICE</th>\n",
       "      <th>YEARBLT</th>\n",
       "      <th>EFFYRBLT</th>\n",
       "      <th>LOANAMOUT1</th>\n",
       "      <th>Did it sell?</th>\n",
       "    </tr>\n",
       "  </thead>\n",
       "  <tbody>\n",
       "    <tr>\n",
       "      <th>0</th>\n",
       "      <td>0</td>\n",
       "      <td>1157385</td>\n",
       "      <td>925908</td>\n",
       "      <td>231477</td>\n",
       "      <td>1</td>\n",
       "      <td>14144</td>\n",
       "      <td>1140000</td>\n",
       "      <td>1905</td>\n",
       "      <td>1938</td>\n",
       "      <td>775200</td>\n",
       "      <td>0</td>\n",
       "    </tr>\n",
       "    <tr>\n",
       "      <th>1</th>\n",
       "      <td>1</td>\n",
       "      <td>57047</td>\n",
       "      <td>40994</td>\n",
       "      <td>16053</td>\n",
       "      <td>0</td>\n",
       "      <td>858</td>\n",
       "      <td>0</td>\n",
       "      <td>1906</td>\n",
       "      <td>1916</td>\n",
       "      <td>0</td>\n",
       "      <td>0</td>\n",
       "    </tr>\n",
       "    <tr>\n",
       "      <th>2</th>\n",
       "      <td>0</td>\n",
       "      <td>651485</td>\n",
       "      <td>521193</td>\n",
       "      <td>130292</td>\n",
       "      <td>0</td>\n",
       "      <td>8044</td>\n",
       "      <td>0</td>\n",
       "      <td>1909</td>\n",
       "      <td>1937</td>\n",
       "      <td>0</td>\n",
       "      <td>0</td>\n",
       "    </tr>\n",
       "  </tbody>\n",
       "</table>\n",
       "</div>"
      ],
      "text/plain": [
       "   MAIL DIFFERENT FROM SITE?  ASSDTOTAL  ASSDLAND  ASSDSTCT  BLDGCOND  TAXAMT  \\\n",
       "0                          0    1157385    925908    231477         1   14144   \n",
       "1                          1      57047     40994     16053         0     858   \n",
       "2                          0     651485    521193    130292         0    8044   \n",
       "\n",
       "     PRICE  YEARBLT  EFFYRBLT  LOANAMOUT1  Did it sell?  \n",
       "0  1140000     1905      1938      775200             0  \n",
       "1        0     1906      1916           0             0  \n",
       "2        0     1909      1937           0             0  "
      ]
     },
     "execution_count": 913,
     "metadata": {},
     "output_type": "execute_result"
    }
   ],
   "source": [
    "Beverly_Grove_Reduced_df.head(3)"
   ]
  },
  {
   "cell_type": "code",
   "execution_count": 914,
   "metadata": {},
   "outputs": [
    {
     "data": {
      "text/plain": [
       "4705"
      ]
     },
     "execution_count": 914,
     "metadata": {},
     "output_type": "execute_result"
    }
   ],
   "source": [
    "len(Beverly_Grove_Reduced_df)"
   ]
  },
  {
   "cell_type": "code",
   "execution_count": 915,
   "metadata": {},
   "outputs": [],
   "source": [
    "# create new X and y values based on the Beverly_Grove_Reduced dataframe\n",
    "\n",
    "y_2 = Beverly_Grove_Reduced_df['Did it sell?']\n",
    "X_2 = Beverly_Grove_Reduced_df[['MAIL DIFFERENT FROM SITE?',\n",
    "                              'ASSDTOTAL',\n",
    "                              'ASSDLAND',\n",
    "                              'ASSDSTCT',\n",
    "                              'BLDGCOND',\n",
    "                              'TAXAMT',\n",
    "                              'PRICE',\n",
    "                              'YEARBLT',\n",
    "                              'EFFYRBLT',\n",
    "                              'LOANAMOUT1']]"
   ]
  },
  {
   "cell_type": "code",
   "execution_count": 916,
   "metadata": {},
   "outputs": [],
   "source": [
    "# create new training and testing data\n",
    "\n",
    "X_train_2, X_test_2, y_train_2, y_test_2 = train_test_split(X_2, y_2, random_state=78, stratify=y)"
   ]
  },
  {
   "cell_type": "code",
   "execution_count": 917,
   "metadata": {},
   "outputs": [],
   "source": [
    "# Scale our new training and test data\n",
    "\n",
    "# Create the StandardScaler instnce\n",
    "scaler_2 = StandardScaler()"
   ]
  },
  {
   "cell_type": "code",
   "execution_count": 918,
   "metadata": {},
   "outputs": [],
   "source": [
    "# Fit our scaler, named 'scaler_2' to our data, which produced a new \n",
    "# Standard Scaler object, which we call X_scaler_2\n",
    "X_scaler_2 = scaler_2.fit(X_train_2)"
   ]
  },
  {
   "cell_type": "code",
   "execution_count": 919,
   "metadata": {},
   "outputs": [],
   "source": [
    "# Scale the data\n",
    "X_train_2_scaled = X_scaler_2.transform(X_train_2)\n",
    "X_test_2_scaled = X_scaler_2.transform(X_test_2)"
   ]
  },
  {
   "cell_type": "code",
   "execution_count": 920,
   "metadata": {},
   "outputs": [],
   "source": [
    "# Instantiate a linear SVM model\n",
    "from sklearn.svm import SVC\n",
    "model_5 = SVC(kernel='linear')"
   ]
  },
  {
   "cell_type": "code",
   "execution_count": 921,
   "metadata": {},
   "outputs": [
    {
     "data": {
      "text/plain": [
       "SVC(kernel='linear')"
      ]
     },
     "execution_count": 921,
     "metadata": {},
     "output_type": "execute_result"
    }
   ],
   "source": [
    "# Fit/train our model using the scaled training data\n",
    "model_5.fit(X_train_2_scaled, y_train_2)"
   ]
  },
  {
   "cell_type": "code",
   "execution_count": 922,
   "metadata": {},
   "outputs": [],
   "source": [
    "# Make predictions using the test data\n",
    "y_pred_2 = model_5.predict(X_test_2_scaled)\n",
    "results_SVM = pd.DataFrame({\n",
    "    \"Prediction\": y_pred_2,\n",
    "    \"Actual\": y_test_2\n",
    "}).reset_index(drop=True)"
   ]
  },
  {
   "cell_type": "code",
   "execution_count": 923,
   "metadata": {},
   "outputs": [
    {
     "data": {
      "text/plain": [
       "0.9311809685641461"
      ]
     },
     "execution_count": 923,
     "metadata": {},
     "output_type": "execute_result"
    }
   ],
   "source": [
    "from sklearn.metrics import accuracy_score\n",
    "accuracy_score(y_test_2, y_pred_2)"
   ]
  },
  {
   "cell_type": "code",
   "execution_count": 924,
   "metadata": {},
   "outputs": [
    {
     "data": {
      "text/plain": [
       "0.5"
      ]
     },
     "execution_count": 924,
     "metadata": {},
     "output_type": "execute_result"
    }
   ],
   "source": [
    "balanced_accuracy_score(y_test_2, y_pred_2)"
   ]
  },
  {
   "cell_type": "code",
   "execution_count": 925,
   "metadata": {},
   "outputs": [
    {
     "data": {
      "text/plain": [
       "0.8979976608414467"
      ]
     },
     "execution_count": 925,
     "metadata": {},
     "output_type": "execute_result"
    }
   ],
   "source": [
    "f1_score(y_test_2, y_pred_2, average=\"weighted\")"
   ]
  },
  {
   "cell_type": "code",
   "execution_count": 926,
   "metadata": {},
   "outputs": [],
   "source": [
    "cm = confusion_matrix(y_test_2, y_pred_2)\n",
    "cm_df = pd.DataFrame(\n",
    "    cm, index=[\"Actual 0\", \"Actual 1\"], columns=[\"Predicted 0\", \"Predicted 1\"]\n",
    ")"
   ]
  },
  {
   "cell_type": "code",
   "execution_count": 927,
   "metadata": {},
   "outputs": [
    {
     "name": "stdout",
     "output_type": "stream",
     "text": [
      "Confusion Matrix\n"
     ]
    },
    {
     "data": {
      "text/html": [
       "<div>\n",
       "<style scoped>\n",
       "    .dataframe tbody tr th:only-of-type {\n",
       "        vertical-align: middle;\n",
       "    }\n",
       "\n",
       "    .dataframe tbody tr th {\n",
       "        vertical-align: top;\n",
       "    }\n",
       "\n",
       "    .dataframe thead th {\n",
       "        text-align: right;\n",
       "    }\n",
       "</style>\n",
       "<table border=\"1\" class=\"dataframe\">\n",
       "  <thead>\n",
       "    <tr style=\"text-align: right;\">\n",
       "      <th></th>\n",
       "      <th>Predicted 0</th>\n",
       "      <th>Predicted 1</th>\n",
       "    </tr>\n",
       "  </thead>\n",
       "  <tbody>\n",
       "    <tr>\n",
       "      <th>Actual 0</th>\n",
       "      <td>1096</td>\n",
       "      <td>0</td>\n",
       "    </tr>\n",
       "    <tr>\n",
       "      <th>Actual 1</th>\n",
       "      <td>81</td>\n",
       "      <td>0</td>\n",
       "    </tr>\n",
       "  </tbody>\n",
       "</table>\n",
       "</div>"
      ],
      "text/plain": [
       "          Predicted 0  Predicted 1\n",
       "Actual 0         1096            0\n",
       "Actual 1           81            0"
      ]
     },
     "metadata": {},
     "output_type": "display_data"
    },
    {
     "name": "stdout",
     "output_type": "stream",
     "text": [
      "Classification Report\n",
      "              precision    recall  f1-score   support\n",
      "\n",
      "           0       0.93      1.00      0.96      1096\n",
      "           1       0.00      0.00      0.00        81\n",
      "\n",
      "    accuracy                           0.93      1177\n",
      "   macro avg       0.47      0.50      0.48      1177\n",
      "weighted avg       0.87      0.93      0.90      1177\n",
      "\n"
     ]
    },
    {
     "name": "stderr",
     "output_type": "stream",
     "text": [
      "/Users/Admin/opt/anaconda3/envs/mlenv/lib/python3.7/site-packages/sklearn/metrics/_classification.py:1245: UndefinedMetricWarning: Precision and F-score are ill-defined and being set to 0.0 in labels with no predicted samples. Use `zero_division` parameter to control this behavior.\n",
      "  _warn_prf(average, modifier, msg_start, len(result))\n",
      "/Users/Admin/opt/anaconda3/envs/mlenv/lib/python3.7/site-packages/sklearn/metrics/_classification.py:1245: UndefinedMetricWarning: Precision and F-score are ill-defined and being set to 0.0 in labels with no predicted samples. Use `zero_division` parameter to control this behavior.\n",
      "  _warn_prf(average, modifier, msg_start, len(result))\n",
      "/Users/Admin/opt/anaconda3/envs/mlenv/lib/python3.7/site-packages/sklearn/metrics/_classification.py:1245: UndefinedMetricWarning: Precision and F-score are ill-defined and being set to 0.0 in labels with no predicted samples. Use `zero_division` parameter to control this behavior.\n",
      "  _warn_prf(average, modifier, msg_start, len(result))\n"
     ]
    }
   ],
   "source": [
    "# Displaying results\n",
    "print(\"Confusion Matrix\")\n",
    "display(cm_df)\n",
    "print(\"Classification Report\")\n",
    "print(classification_report(y_test_2, y_pred_2))"
   ]
  },
  {
   "cell_type": "markdown",
   "metadata": {},
   "source": [
    "## Attempt 6: Decision Tree"
   ]
  },
  {
   "cell_type": "code",
   "execution_count": 928,
   "metadata": {},
   "outputs": [],
   "source": [
    "from sklearn import tree\n",
    "\n",
    "# Instantiate our learning model\n",
    "model_6 = tree.DecisionTreeClassifier()"
   ]
  },
  {
   "cell_type": "code",
   "execution_count": 929,
   "metadata": {},
   "outputs": [],
   "source": [
    "# Fit our model to our trained, scaled data\n",
    "model_6 = model_6.fit(X_train_scaled, y_train)"
   ]
  },
  {
   "cell_type": "code",
   "execution_count": 930,
   "metadata": {},
   "outputs": [
    {
     "data": {
      "text/plain": [
       "array([0, 0, 1, 0, 0, 0, 0, 0, 0, 0, 0, 0, 0, 0, 0, 0, 0, 0, 0, 0])"
      ]
     },
     "execution_count": 930,
     "metadata": {},
     "output_type": "execute_result"
    }
   ],
   "source": [
    "# Make predictions using the testing data\n",
    "predictions = model_6.predict(X_test_scaled)\n",
    "\n",
    "# check your predictions\n",
    "predictions[:20]"
   ]
  },
  {
   "cell_type": "code",
   "execution_count": 931,
   "metadata": {},
   "outputs": [
    {
     "data": {
      "text/plain": [
       "0.8632115548003398"
      ]
     },
     "execution_count": 931,
     "metadata": {},
     "output_type": "execute_result"
    }
   ],
   "source": [
    "# Evaluate our model\n",
    "# Calculating the confusion matrix\n",
    "cm = confusion_matrix(y_test, predictions)\n",
    "cm_df = pd.DataFrame(\n",
    "    cm, index=[\"Actual 0\", \"Actual 1\"], columns=[\"Predicted 0\", \"Predicted 1\"]\n",
    ")\n",
    "\n",
    "# Calculating the accuracy score\n",
    "acc_score = accuracy_score(y_test, predictions)\n",
    "acc_score"
   ]
  },
  {
   "cell_type": "code",
   "execution_count": 932,
   "metadata": {},
   "outputs": [
    {
     "data": {
      "text/plain": [
       "0.5149533657745337"
      ]
     },
     "execution_count": 932,
     "metadata": {},
     "output_type": "execute_result"
    }
   ],
   "source": [
    "# balanced accuracy score\n",
    "balanced_accuracy_score(y_test, predictions)"
   ]
  },
  {
   "cell_type": "code",
   "execution_count": 933,
   "metadata": {},
   "outputs": [
    {
     "data": {
      "text/plain": [
       "0.8691725199612143"
      ]
     },
     "execution_count": 933,
     "metadata": {},
     "output_type": "execute_result"
    }
   ],
   "source": [
    "# generate the F1 score\n",
    "f1_score(y_test, predictions, average=\"weighted\")"
   ]
  },
  {
   "cell_type": "code",
   "execution_count": 934,
   "metadata": {},
   "outputs": [
    {
     "name": "stdout",
     "output_type": "stream",
     "text": [
      "Confusion Matrix\n"
     ]
    },
    {
     "data": {
      "text/html": [
       "<div>\n",
       "<style scoped>\n",
       "    .dataframe tbody tr th:only-of-type {\n",
       "        vertical-align: middle;\n",
       "    }\n",
       "\n",
       "    .dataframe tbody tr th {\n",
       "        vertical-align: top;\n",
       "    }\n",
       "\n",
       "    .dataframe thead th {\n",
       "        text-align: right;\n",
       "    }\n",
       "</style>\n",
       "<table border=\"1\" class=\"dataframe\">\n",
       "  <thead>\n",
       "    <tr style=\"text-align: right;\">\n",
       "      <th></th>\n",
       "      <th>Predicted 0</th>\n",
       "      <th>Predicted 1</th>\n",
       "    </tr>\n",
       "  </thead>\n",
       "  <tbody>\n",
       "    <tr>\n",
       "      <th>Actual 0</th>\n",
       "      <td>1007</td>\n",
       "      <td>89</td>\n",
       "    </tr>\n",
       "    <tr>\n",
       "      <th>Actual 1</th>\n",
       "      <td>72</td>\n",
       "      <td>9</td>\n",
       "    </tr>\n",
       "  </tbody>\n",
       "</table>\n",
       "</div>"
      ],
      "text/plain": [
       "          Predicted 0  Predicted 1\n",
       "Actual 0         1007           89\n",
       "Actual 1           72            9"
      ]
     },
     "metadata": {},
     "output_type": "display_data"
    },
    {
     "name": "stdout",
     "output_type": "stream",
     "text": [
      "Accuracy Score : 0.8632115548003398\n",
      "Classification Report\n",
      "              precision    recall  f1-score   support\n",
      "\n",
      "           0       0.93      0.92      0.93      1096\n",
      "           1       0.09      0.11      0.10        81\n",
      "\n",
      "    accuracy                           0.86      1177\n",
      "   macro avg       0.51      0.51      0.51      1177\n",
      "weighted avg       0.88      0.86      0.87      1177\n",
      "\n"
     ]
    }
   ],
   "source": [
    "# Displaying results\n",
    "print(\"Confusion Matrix\")\n",
    "display(cm_df)\n",
    "print(f\"Accuracy Score : {acc_score}\")\n",
    "print(\"Classification Report\")\n",
    "print(classification_report(y_test, predictions))"
   ]
  },
  {
   "cell_type": "markdown",
   "metadata": {},
   "source": [
    "## Attempt 7: Random Forest"
   ]
  },
  {
   "cell_type": "code",
   "execution_count": 935,
   "metadata": {},
   "outputs": [
    {
     "name": "stdout",
     "output_type": "stream",
     "text": [
      " Random forest predictive accuracy: 0.931\n"
     ]
    }
   ],
   "source": [
    "from sklearn.ensemble import RandomForestClassifier\n",
    "# Create a random forest classifier.\n",
    "rf_model = RandomForestClassifier(n_estimators=128, random_state=78)\n",
    "\n",
    "# Fitting the model\n",
    "rf_model = rf_model.fit(X_train_scaled, y_train)\n",
    "\n",
    "# Evaluate the model\n",
    "y_pred = rf_model.predict(X_test_scaled)\n",
    "\n",
    "# Remember, the accuracy_score function requires 2 arguments, the test and the pred\n",
    "print(f\" Random forest predictive accuracy: {accuracy_score(y_test, y_pred):.3f}\")"
   ]
  },
  {
   "cell_type": "code",
   "execution_count": 936,
   "metadata": {},
   "outputs": [],
   "source": [
    "acc_score = accuracy_score(y_test, y_pred)"
   ]
  },
  {
   "cell_type": "code",
   "execution_count": 937,
   "metadata": {},
   "outputs": [
    {
     "data": {
      "text/plain": [
       "0.5"
      ]
     },
     "execution_count": 937,
     "metadata": {},
     "output_type": "execute_result"
    }
   ],
   "source": [
    "balanced_accuracy_score(y_test, y_pred)"
   ]
  },
  {
   "cell_type": "code",
   "execution_count": 938,
   "metadata": {},
   "outputs": [
    {
     "data": {
      "text/plain": [
       "0.8691725199612143"
      ]
     },
     "execution_count": 938,
     "metadata": {},
     "output_type": "execute_result"
    }
   ],
   "source": [
    "# generate the F1 score\n",
    "f1_score(y_test, predictions, average=\"weighted\")"
   ]
  },
  {
   "cell_type": "code",
   "execution_count": 939,
   "metadata": {},
   "outputs": [],
   "source": [
    "cm_RandomForest = confusion_matrix(y_test, y_pred)\n",
    "cm_RandomForest_df = pd.DataFrame(\n",
    "    cm_RandomForest, index=[\"Actual 0\", \"Actual 1\"], columns=[\"Predicted 0\", \"Predicted 1\"]\n",
    ")"
   ]
  },
  {
   "cell_type": "code",
   "execution_count": 940,
   "metadata": {},
   "outputs": [
    {
     "name": "stdout",
     "output_type": "stream",
     "text": [
      "Confusion Matrix\n"
     ]
    },
    {
     "data": {
      "text/html": [
       "<div>\n",
       "<style scoped>\n",
       "    .dataframe tbody tr th:only-of-type {\n",
       "        vertical-align: middle;\n",
       "    }\n",
       "\n",
       "    .dataframe tbody tr th {\n",
       "        vertical-align: top;\n",
       "    }\n",
       "\n",
       "    .dataframe thead th {\n",
       "        text-align: right;\n",
       "    }\n",
       "</style>\n",
       "<table border=\"1\" class=\"dataframe\">\n",
       "  <thead>\n",
       "    <tr style=\"text-align: right;\">\n",
       "      <th></th>\n",
       "      <th>Predicted 0</th>\n",
       "      <th>Predicted 1</th>\n",
       "    </tr>\n",
       "  </thead>\n",
       "  <tbody>\n",
       "    <tr>\n",
       "      <th>Actual 0</th>\n",
       "      <td>1096</td>\n",
       "      <td>0</td>\n",
       "    </tr>\n",
       "    <tr>\n",
       "      <th>Actual 1</th>\n",
       "      <td>81</td>\n",
       "      <td>0</td>\n",
       "    </tr>\n",
       "  </tbody>\n",
       "</table>\n",
       "</div>"
      ],
      "text/plain": [
       "          Predicted 0  Predicted 1\n",
       "Actual 0         1096            0\n",
       "Actual 1           81            0"
      ]
     },
     "metadata": {},
     "output_type": "display_data"
    },
    {
     "name": "stdout",
     "output_type": "stream",
     "text": [
      "Accuracy Score : 0.9311809685641461\n",
      "Classification Report\n",
      "              precision    recall  f1-score   support\n",
      "\n",
      "           0       0.93      1.00      0.96      1096\n",
      "           1       0.00      0.00      0.00        81\n",
      "\n",
      "    accuracy                           0.93      1177\n",
      "   macro avg       0.47      0.50      0.48      1177\n",
      "weighted avg       0.87      0.93      0.90      1177\n",
      "\n"
     ]
    },
    {
     "name": "stderr",
     "output_type": "stream",
     "text": [
      "/Users/Admin/opt/anaconda3/envs/mlenv/lib/python3.7/site-packages/sklearn/metrics/_classification.py:1245: UndefinedMetricWarning: Precision and F-score are ill-defined and being set to 0.0 in labels with no predicted samples. Use `zero_division` parameter to control this behavior.\n",
      "  _warn_prf(average, modifier, msg_start, len(result))\n",
      "/Users/Admin/opt/anaconda3/envs/mlenv/lib/python3.7/site-packages/sklearn/metrics/_classification.py:1245: UndefinedMetricWarning: Precision and F-score are ill-defined and being set to 0.0 in labels with no predicted samples. Use `zero_division` parameter to control this behavior.\n",
      "  _warn_prf(average, modifier, msg_start, len(result))\n",
      "/Users/Admin/opt/anaconda3/envs/mlenv/lib/python3.7/site-packages/sklearn/metrics/_classification.py:1245: UndefinedMetricWarning: Precision and F-score are ill-defined and being set to 0.0 in labels with no predicted samples. Use `zero_division` parameter to control this behavior.\n",
      "  _warn_prf(average, modifier, msg_start, len(result))\n"
     ]
    }
   ],
   "source": [
    "# Displaying results\n",
    "print(\"Confusion Matrix\")\n",
    "display(cm_RandomForest_df)\n",
    "print(f\"Accuracy Score : {acc_score}\")\n",
    "print(\"Classification Report\")\n",
    "print(classification_report(y_test, y_pred))"
   ]
  },
  {
   "cell_type": "markdown",
   "metadata": {},
   "source": [
    "# Attempt 7b: RandomForest with reduced columns"
   ]
  },
  {
   "cell_type": "code",
   "execution_count": 941,
   "metadata": {},
   "outputs": [],
   "source": [
    "# Use these columns: 'LOTSQFT', 'TOTALSF', 'PARCEL', 'DOCDATE_YEAR', 'ASSDLAND', 'ASSDSTCT', 'EFFYRBLT', 'TAXAMT', 'ASSDTOTAL', 'YEARBLT', 'PCNTIMPD', 'LOANAMOUT1', 'PRICE', 'BEDROOMS'"
   ]
  },
  {
   "cell_type": "code",
   "execution_count": 942,
   "metadata": {},
   "outputs": [],
   "source": [
    "file = 'Beverly_Grove_Cleaned.csv'\n",
    "\n",
    "location = '/Users/Admin/Desktop/GW_Bootcamp/Analysis_Projects/Final_Project_Team_1/'"
   ]
  },
  {
   "cell_type": "code",
   "execution_count": 943,
   "metadata": {},
   "outputs": [],
   "source": [
    "path = os.path.join(location, file)"
   ]
  },
  {
   "cell_type": "code",
   "execution_count": 944,
   "metadata": {},
   "outputs": [
    {
     "data": {
      "text/html": [
       "<div>\n",
       "<style scoped>\n",
       "    .dataframe tbody tr th:only-of-type {\n",
       "        vertical-align: middle;\n",
       "    }\n",
       "\n",
       "    .dataframe tbody tr th {\n",
       "        vertical-align: top;\n",
       "    }\n",
       "\n",
       "    .dataframe thead th {\n",
       "        text-align: right;\n",
       "    }\n",
       "</style>\n",
       "<table border=\"1\" class=\"dataframe\">\n",
       "  <thead>\n",
       "    <tr style=\"text-align: right;\">\n",
       "      <th></th>\n",
       "      <th>Owned by Trust?</th>\n",
       "      <th>Owned by Business?</th>\n",
       "      <th>SITEADDRESS</th>\n",
       "      <th>MAIL DIFFERENT FROM SITE?</th>\n",
       "      <th>MAIL OUTSIDE CA?</th>\n",
       "      <th>TITLECO1</th>\n",
       "      <th>ASSDTOTAL</th>\n",
       "      <th>ASSDLAND</th>\n",
       "      <th>ASSDSTCT</th>\n",
       "      <th>ASSDOTHR</th>\n",
       "      <th>...</th>\n",
       "      <th>NAME CHANGE</th>\n",
       "      <th>Other</th>\n",
       "      <th>PARTNERSHIP</th>\n",
       "      <th>PERSONAL REP</th>\n",
       "      <th>QUIT CLAIM</th>\n",
       "      <th>RE-RECORD</th>\n",
       "      <th>TAX DEED</th>\n",
       "      <th>TRUST TRANSFER</th>\n",
       "      <th>TRUSTEES</th>\n",
       "      <th>WARRANTY</th>\n",
       "    </tr>\n",
       "    <tr>\n",
       "      <th>PARCEL</th>\n",
       "      <th></th>\n",
       "      <th></th>\n",
       "      <th></th>\n",
       "      <th></th>\n",
       "      <th></th>\n",
       "      <th></th>\n",
       "      <th></th>\n",
       "      <th></th>\n",
       "      <th></th>\n",
       "      <th></th>\n",
       "      <th></th>\n",
       "      <th></th>\n",
       "      <th></th>\n",
       "      <th></th>\n",
       "      <th></th>\n",
       "      <th></th>\n",
       "      <th></th>\n",
       "      <th></th>\n",
       "      <th></th>\n",
       "      <th></th>\n",
       "      <th></th>\n",
       "    </tr>\n",
       "  </thead>\n",
       "  <tbody>\n",
       "    <tr>\n",
       "      <th>5085010022</th>\n",
       "      <td>0</td>\n",
       "      <td>0</td>\n",
       "      <td>1030 S Dunsmuir Ave</td>\n",
       "      <td>0</td>\n",
       "      <td>0</td>\n",
       "      <td>1</td>\n",
       "      <td>1157385</td>\n",
       "      <td>925908</td>\n",
       "      <td>231477</td>\n",
       "      <td>0</td>\n",
       "      <td>...</td>\n",
       "      <td>0</td>\n",
       "      <td>0</td>\n",
       "      <td>0</td>\n",
       "      <td>0</td>\n",
       "      <td>0</td>\n",
       "      <td>0</td>\n",
       "      <td>0</td>\n",
       "      <td>0</td>\n",
       "      <td>0</td>\n",
       "      <td>0</td>\n",
       "    </tr>\n",
       "    <tr>\n",
       "      <th>5085033008</th>\n",
       "      <td>0</td>\n",
       "      <td>0</td>\n",
       "      <td>1364 S Ridgeley Dr</td>\n",
       "      <td>1</td>\n",
       "      <td>0</td>\n",
       "      <td>0</td>\n",
       "      <td>57047</td>\n",
       "      <td>40994</td>\n",
       "      <td>16053</td>\n",
       "      <td>0</td>\n",
       "      <td>...</td>\n",
       "      <td>0</td>\n",
       "      <td>0</td>\n",
       "      <td>0</td>\n",
       "      <td>0</td>\n",
       "      <td>0</td>\n",
       "      <td>0</td>\n",
       "      <td>0</td>\n",
       "      <td>0</td>\n",
       "      <td>0</td>\n",
       "      <td>0</td>\n",
       "    </tr>\n",
       "    <tr>\n",
       "      <th>5085032022</th>\n",
       "      <td>0</td>\n",
       "      <td>0</td>\n",
       "      <td>1322 Hauser Blvd</td>\n",
       "      <td>0</td>\n",
       "      <td>0</td>\n",
       "      <td>1</td>\n",
       "      <td>651485</td>\n",
       "      <td>521193</td>\n",
       "      <td>130292</td>\n",
       "      <td>0</td>\n",
       "      <td>...</td>\n",
       "      <td>0</td>\n",
       "      <td>0</td>\n",
       "      <td>0</td>\n",
       "      <td>0</td>\n",
       "      <td>0</td>\n",
       "      <td>0</td>\n",
       "      <td>0</td>\n",
       "      <td>0</td>\n",
       "      <td>0</td>\n",
       "      <td>0</td>\n",
       "    </tr>\n",
       "    <tr>\n",
       "      <th>5510005006</th>\n",
       "      <td>1</td>\n",
       "      <td>0</td>\n",
       "      <td>6727 Drexel Ave</td>\n",
       "      <td>1</td>\n",
       "      <td>0</td>\n",
       "      <td>0</td>\n",
       "      <td>85697</td>\n",
       "      <td>74539</td>\n",
       "      <td>11158</td>\n",
       "      <td>0</td>\n",
       "      <td>...</td>\n",
       "      <td>0</td>\n",
       "      <td>0</td>\n",
       "      <td>0</td>\n",
       "      <td>0</td>\n",
       "      <td>0</td>\n",
       "      <td>0</td>\n",
       "      <td>0</td>\n",
       "      <td>0</td>\n",
       "      <td>0</td>\n",
       "      <td>0</td>\n",
       "    </tr>\n",
       "    <tr>\n",
       "      <th>5089024002</th>\n",
       "      <td>0</td>\n",
       "      <td>0</td>\n",
       "      <td>942 S Cochran Ave</td>\n",
       "      <td>0</td>\n",
       "      <td>0</td>\n",
       "      <td>0</td>\n",
       "      <td>62487</td>\n",
       "      <td>42013</td>\n",
       "      <td>20474</td>\n",
       "      <td>0</td>\n",
       "      <td>...</td>\n",
       "      <td>0</td>\n",
       "      <td>0</td>\n",
       "      <td>0</td>\n",
       "      <td>0</td>\n",
       "      <td>0</td>\n",
       "      <td>0</td>\n",
       "      <td>0</td>\n",
       "      <td>0</td>\n",
       "      <td>0</td>\n",
       "      <td>0</td>\n",
       "    </tr>\n",
       "  </tbody>\n",
       "</table>\n",
       "<p>5 rows × 57 columns</p>\n",
       "</div>"
      ],
      "text/plain": [
       "            Owned by Trust?  Owned by Business?          SITEADDRESS  \\\n",
       "PARCEL                                                                 \n",
       "5085010022                0                   0  1030 S Dunsmuir Ave   \n",
       "5085033008                0                   0   1364 S Ridgeley Dr   \n",
       "5085032022                0                   0     1322 Hauser Blvd   \n",
       "5510005006                1                   0      6727 Drexel Ave   \n",
       "5089024002                0                   0    942 S Cochran Ave   \n",
       "\n",
       "            MAIL DIFFERENT FROM SITE?  MAIL OUTSIDE CA?  TITLECO1  ASSDTOTAL  \\\n",
       "PARCEL                                                                         \n",
       "5085010022                          0                 0         1    1157385   \n",
       "5085033008                          1                 0         0      57047   \n",
       "5085032022                          0                 0         1     651485   \n",
       "5510005006                          1                 0         0      85697   \n",
       "5089024002                          0                 0         0      62487   \n",
       "\n",
       "            ASSDLAND  ASSDSTCT  ASSDOTHR  ...  NAME CHANGE  Other  \\\n",
       "PARCEL                                    ...                       \n",
       "5085010022    925908    231477         0  ...            0      0   \n",
       "5085033008     40994     16053         0  ...            0      0   \n",
       "5085032022    521193    130292         0  ...            0      0   \n",
       "5510005006     74539     11158         0  ...            0      0   \n",
       "5089024002     42013     20474         0  ...            0      0   \n",
       "\n",
       "            PARTNERSHIP  PERSONAL REP  QUIT CLAIM  RE-RECORD  TAX DEED  \\\n",
       "PARCEL                                                                   \n",
       "5085010022            0             0           0          0         0   \n",
       "5085033008            0             0           0          0         0   \n",
       "5085032022            0             0           0          0         0   \n",
       "5510005006            0             0           0          0         0   \n",
       "5089024002            0             0           0          0         0   \n",
       "\n",
       "            TRUST TRANSFER  TRUSTEES  WARRANTY  \n",
       "PARCEL                                          \n",
       "5085010022               0         0         0  \n",
       "5085033008               0         0         0  \n",
       "5085032022               0         0         0  \n",
       "5510005006               0         0         0  \n",
       "5089024002               0         0         0  \n",
       "\n",
       "[5 rows x 57 columns]"
      ]
     },
     "execution_count": 944,
     "metadata": {},
     "output_type": "execute_result"
    }
   ],
   "source": [
    "# import our file\n",
    "\n",
    "Beverly_Grove_df = pd.read_csv(path, index_col='PARCEL')\n",
    "Beverly_Grove_df.head()"
   ]
  },
  {
   "cell_type": "code",
   "execution_count": 945,
   "metadata": {},
   "outputs": [],
   "source": [
    "Beverly_Grove_df = Beverly_Grove_df.dropna()"
   ]
  },
  {
   "cell_type": "code",
   "execution_count": 946,
   "metadata": {},
   "outputs": [],
   "source": [
    "Beverly_Grove_df['TAXAMT'] = Beverly_Grove_df['TAXAMT'].astype(int)\n",
    "Beverly_Grove_df['EFFYRBLT'] = Beverly_Grove_df['EFFYRBLT'].astype(int)"
   ]
  },
  {
   "cell_type": "code",
   "execution_count": 947,
   "metadata": {},
   "outputs": [
    {
     "data": {
      "text/html": [
       "<div>\n",
       "<style scoped>\n",
       "    .dataframe tbody tr th:only-of-type {\n",
       "        vertical-align: middle;\n",
       "    }\n",
       "\n",
       "    .dataframe tbody tr th {\n",
       "        vertical-align: top;\n",
       "    }\n",
       "\n",
       "    .dataframe thead th {\n",
       "        text-align: right;\n",
       "    }\n",
       "</style>\n",
       "<table border=\"1\" class=\"dataframe\">\n",
       "  <thead>\n",
       "    <tr style=\"text-align: right;\">\n",
       "      <th></th>\n",
       "      <th>Owned by Trust?</th>\n",
       "      <th>Owned by Business?</th>\n",
       "      <th>SITEADDRESS</th>\n",
       "      <th>MAIL DIFFERENT FROM SITE?</th>\n",
       "      <th>MAIL OUTSIDE CA?</th>\n",
       "      <th>TITLECO1</th>\n",
       "      <th>ASSDTOTAL</th>\n",
       "      <th>ASSDLAND</th>\n",
       "      <th>ASSDSTCT</th>\n",
       "      <th>ASSDOTHR</th>\n",
       "      <th>...</th>\n",
       "      <th>NAME CHANGE</th>\n",
       "      <th>Other</th>\n",
       "      <th>PARTNERSHIP</th>\n",
       "      <th>PERSONAL REP</th>\n",
       "      <th>QUIT CLAIM</th>\n",
       "      <th>RE-RECORD</th>\n",
       "      <th>TAX DEED</th>\n",
       "      <th>TRUST TRANSFER</th>\n",
       "      <th>TRUSTEES</th>\n",
       "      <th>WARRANTY</th>\n",
       "    </tr>\n",
       "    <tr>\n",
       "      <th>PARCEL</th>\n",
       "      <th></th>\n",
       "      <th></th>\n",
       "      <th></th>\n",
       "      <th></th>\n",
       "      <th></th>\n",
       "      <th></th>\n",
       "      <th></th>\n",
       "      <th></th>\n",
       "      <th></th>\n",
       "      <th></th>\n",
       "      <th></th>\n",
       "      <th></th>\n",
       "      <th></th>\n",
       "      <th></th>\n",
       "      <th></th>\n",
       "      <th></th>\n",
       "      <th></th>\n",
       "      <th></th>\n",
       "      <th></th>\n",
       "      <th></th>\n",
       "      <th></th>\n",
       "    </tr>\n",
       "  </thead>\n",
       "  <tbody>\n",
       "    <tr>\n",
       "      <th>5085010022</th>\n",
       "      <td>0</td>\n",
       "      <td>0</td>\n",
       "      <td>1030 S Dunsmuir Ave</td>\n",
       "      <td>0</td>\n",
       "      <td>0</td>\n",
       "      <td>1</td>\n",
       "      <td>1157385</td>\n",
       "      <td>925908</td>\n",
       "      <td>231477</td>\n",
       "      <td>0</td>\n",
       "      <td>...</td>\n",
       "      <td>0</td>\n",
       "      <td>0</td>\n",
       "      <td>0</td>\n",
       "      <td>0</td>\n",
       "      <td>0</td>\n",
       "      <td>0</td>\n",
       "      <td>0</td>\n",
       "      <td>0</td>\n",
       "      <td>0</td>\n",
       "      <td>0</td>\n",
       "    </tr>\n",
       "    <tr>\n",
       "      <th>5085033008</th>\n",
       "      <td>0</td>\n",
       "      <td>0</td>\n",
       "      <td>1364 S Ridgeley Dr</td>\n",
       "      <td>1</td>\n",
       "      <td>0</td>\n",
       "      <td>0</td>\n",
       "      <td>57047</td>\n",
       "      <td>40994</td>\n",
       "      <td>16053</td>\n",
       "      <td>0</td>\n",
       "      <td>...</td>\n",
       "      <td>0</td>\n",
       "      <td>0</td>\n",
       "      <td>0</td>\n",
       "      <td>0</td>\n",
       "      <td>0</td>\n",
       "      <td>0</td>\n",
       "      <td>0</td>\n",
       "      <td>0</td>\n",
       "      <td>0</td>\n",
       "      <td>0</td>\n",
       "    </tr>\n",
       "    <tr>\n",
       "      <th>5085032022</th>\n",
       "      <td>0</td>\n",
       "      <td>0</td>\n",
       "      <td>1322 Hauser Blvd</td>\n",
       "      <td>0</td>\n",
       "      <td>0</td>\n",
       "      <td>1</td>\n",
       "      <td>651485</td>\n",
       "      <td>521193</td>\n",
       "      <td>130292</td>\n",
       "      <td>0</td>\n",
       "      <td>...</td>\n",
       "      <td>0</td>\n",
       "      <td>0</td>\n",
       "      <td>0</td>\n",
       "      <td>0</td>\n",
       "      <td>0</td>\n",
       "      <td>0</td>\n",
       "      <td>0</td>\n",
       "      <td>0</td>\n",
       "      <td>0</td>\n",
       "      <td>0</td>\n",
       "    </tr>\n",
       "  </tbody>\n",
       "</table>\n",
       "<p>3 rows × 57 columns</p>\n",
       "</div>"
      ],
      "text/plain": [
       "            Owned by Trust?  Owned by Business?          SITEADDRESS  \\\n",
       "PARCEL                                                                 \n",
       "5085010022                0                   0  1030 S Dunsmuir Ave   \n",
       "5085033008                0                   0   1364 S Ridgeley Dr   \n",
       "5085032022                0                   0     1322 Hauser Blvd   \n",
       "\n",
       "            MAIL DIFFERENT FROM SITE?  MAIL OUTSIDE CA?  TITLECO1  ASSDTOTAL  \\\n",
       "PARCEL                                                                         \n",
       "5085010022                          0                 0         1    1157385   \n",
       "5085033008                          1                 0         0      57047   \n",
       "5085032022                          0                 0         1     651485   \n",
       "\n",
       "            ASSDLAND  ASSDSTCT  ASSDOTHR  ...  NAME CHANGE  Other  \\\n",
       "PARCEL                                    ...                       \n",
       "5085010022    925908    231477         0  ...            0      0   \n",
       "5085033008     40994     16053         0  ...            0      0   \n",
       "5085032022    521193    130292         0  ...            0      0   \n",
       "\n",
       "            PARTNERSHIP  PERSONAL REP  QUIT CLAIM  RE-RECORD  TAX DEED  \\\n",
       "PARCEL                                                                   \n",
       "5085010022            0             0           0          0         0   \n",
       "5085033008            0             0           0          0         0   \n",
       "5085032022            0             0           0          0         0   \n",
       "\n",
       "            TRUST TRANSFER  TRUSTEES  WARRANTY  \n",
       "PARCEL                                          \n",
       "5085010022               0         0         0  \n",
       "5085033008               0         0         0  \n",
       "5085032022               0         0         0  \n",
       "\n",
       "[3 rows x 57 columns]"
      ]
     },
     "execution_count": 947,
     "metadata": {},
     "output_type": "execute_result"
    }
   ],
   "source": [
    "# Make sure our dataframe is only SFR's so exclude every property that has an '#' in its site address\n",
    "\n",
    "Beverly_Grove_df = Beverly_Grove_df[~Beverly_Grove_df['SITEADDRESS'].str.contains('#')]\n",
    "Beverly_Grove_df.head(3)"
   ]
  },
  {
   "cell_type": "code",
   "execution_count": 948,
   "metadata": {},
   "outputs": [],
   "source": [
    "# Now drop the SiteAddress column\n",
    "Beverly_Grove_df.drop(['SITEADDRESS'], axis=1, inplace=True)"
   ]
  },
  {
   "cell_type": "code",
   "execution_count": 949,
   "metadata": {},
   "outputs": [],
   "source": [
    "Beverly_Grove_Reduced_df = pd.DataFrame(Beverly_Grove_df, columns = ['LOTSQFT', 'TOTALSF', 'PARCEL', 'DOCDATE_YEAR', 'ASSDLAND', 'ASSDSTCT', 'EFFYRBLT', 'TAXAMT', 'ASSDTOTAL', 'YEARBLT', 'PCNTIMPD', 'LOANAMOUT1', 'PRICE', 'BEDROOMS', 'Did it sell?'])"
   ]
  },
  {
   "cell_type": "code",
   "execution_count": 950,
   "metadata": {},
   "outputs": [
    {
     "data": {
      "text/html": [
       "<div>\n",
       "<style scoped>\n",
       "    .dataframe tbody tr th:only-of-type {\n",
       "        vertical-align: middle;\n",
       "    }\n",
       "\n",
       "    .dataframe tbody tr th {\n",
       "        vertical-align: top;\n",
       "    }\n",
       "\n",
       "    .dataframe thead th {\n",
       "        text-align: right;\n",
       "    }\n",
       "</style>\n",
       "<table border=\"1\" class=\"dataframe\">\n",
       "  <thead>\n",
       "    <tr style=\"text-align: right;\">\n",
       "      <th></th>\n",
       "      <th>LOTSQFT</th>\n",
       "      <th>TOTALSF</th>\n",
       "      <th>DOCDATE_YEAR</th>\n",
       "      <th>ASSDLAND</th>\n",
       "      <th>ASSDSTCT</th>\n",
       "      <th>EFFYRBLT</th>\n",
       "      <th>TAXAMT</th>\n",
       "      <th>ASSDTOTAL</th>\n",
       "      <th>YEARBLT</th>\n",
       "      <th>PCNTIMPD</th>\n",
       "      <th>LOANAMOUT1</th>\n",
       "      <th>PRICE</th>\n",
       "      <th>BEDROOMS</th>\n",
       "      <th>Did it sell?</th>\n",
       "    </tr>\n",
       "    <tr>\n",
       "      <th>PARCEL</th>\n",
       "      <th></th>\n",
       "      <th></th>\n",
       "      <th></th>\n",
       "      <th></th>\n",
       "      <th></th>\n",
       "      <th></th>\n",
       "      <th></th>\n",
       "      <th></th>\n",
       "      <th></th>\n",
       "      <th></th>\n",
       "      <th></th>\n",
       "      <th></th>\n",
       "      <th></th>\n",
       "      <th></th>\n",
       "    </tr>\n",
       "  </thead>\n",
       "  <tbody>\n",
       "    <tr>\n",
       "      <th>5085010022</th>\n",
       "      <td>7134</td>\n",
       "      <td>1895</td>\n",
       "      <td>2014</td>\n",
       "      <td>925908</td>\n",
       "      <td>231477</td>\n",
       "      <td>1938</td>\n",
       "      <td>14144</td>\n",
       "      <td>1157385</td>\n",
       "      <td>1905</td>\n",
       "      <td>20</td>\n",
       "      <td>775200</td>\n",
       "      <td>1140000</td>\n",
       "      <td>3</td>\n",
       "      <td>0</td>\n",
       "    </tr>\n",
       "    <tr>\n",
       "      <th>5085033008</th>\n",
       "      <td>6034</td>\n",
       "      <td>1108</td>\n",
       "      <td>1980</td>\n",
       "      <td>40994</td>\n",
       "      <td>16053</td>\n",
       "      <td>1916</td>\n",
       "      <td>858</td>\n",
       "      <td>57047</td>\n",
       "      <td>1906</td>\n",
       "      <td>28</td>\n",
       "      <td>0</td>\n",
       "      <td>0</td>\n",
       "      <td>2</td>\n",
       "      <td>0</td>\n",
       "    </tr>\n",
       "    <tr>\n",
       "      <th>5085032022</th>\n",
       "      <td>7844</td>\n",
       "      <td>2004</td>\n",
       "      <td>2007</td>\n",
       "      <td>521193</td>\n",
       "      <td>130292</td>\n",
       "      <td>1937</td>\n",
       "      <td>8044</td>\n",
       "      <td>651485</td>\n",
       "      <td>1909</td>\n",
       "      <td>20</td>\n",
       "      <td>0</td>\n",
       "      <td>0</td>\n",
       "      <td>3</td>\n",
       "      <td>0</td>\n",
       "    </tr>\n",
       "    <tr>\n",
       "      <th>5510005006</th>\n",
       "      <td>11510</td>\n",
       "      <td>2778</td>\n",
       "      <td>1988</td>\n",
       "      <td>74539</td>\n",
       "      <td>11158</td>\n",
       "      <td>1927</td>\n",
       "      <td>1325</td>\n",
       "      <td>85697</td>\n",
       "      <td>1909</td>\n",
       "      <td>13</td>\n",
       "      <td>0</td>\n",
       "      <td>0</td>\n",
       "      <td>4</td>\n",
       "      <td>0</td>\n",
       "    </tr>\n",
       "    <tr>\n",
       "      <th>5089024002</th>\n",
       "      <td>6689</td>\n",
       "      <td>1568</td>\n",
       "      <td>2008</td>\n",
       "      <td>42013</td>\n",
       "      <td>20474</td>\n",
       "      <td>1924</td>\n",
       "      <td>876</td>\n",
       "      <td>62487</td>\n",
       "      <td>1910</td>\n",
       "      <td>33</td>\n",
       "      <td>0</td>\n",
       "      <td>0</td>\n",
       "      <td>3</td>\n",
       "      <td>0</td>\n",
       "    </tr>\n",
       "  </tbody>\n",
       "</table>\n",
       "</div>"
      ],
      "text/plain": [
       "            LOTSQFT  TOTALSF  DOCDATE_YEAR  ASSDLAND  ASSDSTCT  EFFYRBLT  \\\n",
       "PARCEL                                                                     \n",
       "5085010022     7134     1895          2014    925908    231477      1938   \n",
       "5085033008     6034     1108          1980     40994     16053      1916   \n",
       "5085032022     7844     2004          2007    521193    130292      1937   \n",
       "5510005006    11510     2778          1988     74539     11158      1927   \n",
       "5089024002     6689     1568          2008     42013     20474      1924   \n",
       "\n",
       "            TAXAMT  ASSDTOTAL  YEARBLT  PCNTIMPD  LOANAMOUT1    PRICE  \\\n",
       "PARCEL                                                                  \n",
       "5085010022   14144    1157385     1905        20      775200  1140000   \n",
       "5085033008     858      57047     1906        28           0        0   \n",
       "5085032022    8044     651485     1909        20           0        0   \n",
       "5510005006    1325      85697     1909        13           0        0   \n",
       "5089024002     876      62487     1910        33           0        0   \n",
       "\n",
       "            BEDROOMS  Did it sell?  \n",
       "PARCEL                              \n",
       "5085010022         3             0  \n",
       "5085033008         2             0  \n",
       "5085032022         3             0  \n",
       "5510005006         4             0  \n",
       "5089024002         3             0  "
      ]
     },
     "execution_count": 950,
     "metadata": {},
     "output_type": "execute_result"
    }
   ],
   "source": [
    "Beverly_Grove_Reduced_df = Beverly_Grove_Reduced_df.drop(['PARCEL'], axis=1)\n",
    "Beverly_Grove_Reduced_df.head()"
   ]
  },
  {
   "cell_type": "code",
   "execution_count": 951,
   "metadata": {},
   "outputs": [
    {
     "data": {
      "text/plain": [
       "LOTSQFT         int64\n",
       "TOTALSF         int64\n",
       "DOCDATE_YEAR    int64\n",
       "ASSDLAND        int64\n",
       "ASSDSTCT        int64\n",
       "EFFYRBLT        int64\n",
       "TAXAMT          int64\n",
       "ASSDTOTAL       int64\n",
       "YEARBLT         int64\n",
       "PCNTIMPD        int64\n",
       "LOANAMOUT1      int64\n",
       "PRICE           int64\n",
       "BEDROOMS        int64\n",
       "Did it sell?    int64\n",
       "dtype: object"
      ]
     },
     "execution_count": 951,
     "metadata": {},
     "output_type": "execute_result"
    }
   ],
   "source": [
    "Beverly_Grove_Reduced_df.dtypes"
   ]
  },
  {
   "cell_type": "code",
   "execution_count": 952,
   "metadata": {},
   "outputs": [],
   "source": [
    "# Step 1: Create our X and y\n",
    "\n",
    "y = Beverly_Grove_Reduced_df['Did it sell?']\n",
    "X = Beverly_Grove_Reduced_df.drop(['Did it sell?'], 1)"
   ]
  },
  {
   "cell_type": "code",
   "execution_count": 953,
   "metadata": {},
   "outputs": [
    {
     "data": {
      "text/plain": [
       "array([5085010022, 5085033008, 5085032022, ..., 5510018012, 5510017023,\n",
       "       5514001029])"
      ]
     },
     "execution_count": 953,
     "metadata": {},
     "output_type": "execute_result"
    }
   ],
   "source": [
    "APN = Beverly_Grove_Reduced_df.index.values\n",
    "APN"
   ]
  },
  {
   "cell_type": "code",
   "execution_count": 954,
   "metadata": {},
   "outputs": [],
   "source": [
    "# Split our data into training and testing sets\n",
    "\n",
    "X_train_Reduced, X_test_Reduced, y_train_Reduced, y_test_Reduced = train_test_split(X, y, random_state=78, stratify=y)"
   ]
  },
  {
   "cell_type": "code",
   "execution_count": 955,
   "metadata": {},
   "outputs": [
    {
     "data": {
      "text/html": [
       "<div>\n",
       "<style scoped>\n",
       "    .dataframe tbody tr th:only-of-type {\n",
       "        vertical-align: middle;\n",
       "    }\n",
       "\n",
       "    .dataframe tbody tr th {\n",
       "        vertical-align: top;\n",
       "    }\n",
       "\n",
       "    .dataframe thead th {\n",
       "        text-align: right;\n",
       "    }\n",
       "</style>\n",
       "<table border=\"1\" class=\"dataframe\">\n",
       "  <thead>\n",
       "    <tr style=\"text-align: right;\">\n",
       "      <th></th>\n",
       "      <th>LOTSQFT</th>\n",
       "      <th>TOTALSF</th>\n",
       "      <th>DOCDATE_YEAR</th>\n",
       "      <th>ASSDLAND</th>\n",
       "      <th>ASSDSTCT</th>\n",
       "      <th>EFFYRBLT</th>\n",
       "      <th>TAXAMT</th>\n",
       "      <th>ASSDTOTAL</th>\n",
       "      <th>YEARBLT</th>\n",
       "      <th>PCNTIMPD</th>\n",
       "      <th>LOANAMOUT1</th>\n",
       "      <th>PRICE</th>\n",
       "      <th>BEDROOMS</th>\n",
       "    </tr>\n",
       "    <tr>\n",
       "      <th>PARCEL</th>\n",
       "      <th></th>\n",
       "      <th></th>\n",
       "      <th></th>\n",
       "      <th></th>\n",
       "      <th></th>\n",
       "      <th></th>\n",
       "      <th></th>\n",
       "      <th></th>\n",
       "      <th></th>\n",
       "      <th></th>\n",
       "      <th></th>\n",
       "      <th></th>\n",
       "      <th></th>\n",
       "    </tr>\n",
       "  </thead>\n",
       "  <tbody>\n",
       "    <tr>\n",
       "      <th>5088017017</th>\n",
       "      <td>9827</td>\n",
       "      <td>2841</td>\n",
       "      <td>2012</td>\n",
       "      <td>136000</td>\n",
       "      <td>204000</td>\n",
       "      <td>1928</td>\n",
       "      <td>4358</td>\n",
       "      <td>340000</td>\n",
       "      <td>1927</td>\n",
       "      <td>60</td>\n",
       "      <td>990000</td>\n",
       "      <td>0</td>\n",
       "      <td>4</td>\n",
       "    </tr>\n",
       "    <tr>\n",
       "      <th>5089020010</th>\n",
       "      <td>9456</td>\n",
       "      <td>2365</td>\n",
       "      <td>1988</td>\n",
       "      <td>106556</td>\n",
       "      <td>111535</td>\n",
       "      <td>1931</td>\n",
       "      <td>2851</td>\n",
       "      <td>218091</td>\n",
       "      <td>1928</td>\n",
       "      <td>51</td>\n",
       "      <td>0</td>\n",
       "      <td>0</td>\n",
       "      <td>3</td>\n",
       "    </tr>\n",
       "    <tr>\n",
       "      <th>5088016028</th>\n",
       "      <td>7500</td>\n",
       "      <td>3188</td>\n",
       "      <td>1999</td>\n",
       "      <td>49267</td>\n",
       "      <td>146548</td>\n",
       "      <td>1940</td>\n",
       "      <td>2533</td>\n",
       "      <td>195815</td>\n",
       "      <td>1926</td>\n",
       "      <td>75</td>\n",
       "      <td>0</td>\n",
       "      <td>0</td>\n",
       "      <td>4</td>\n",
       "    </tr>\n",
       "  </tbody>\n",
       "</table>\n",
       "</div>"
      ],
      "text/plain": [
       "            LOTSQFT  TOTALSF  DOCDATE_YEAR  ASSDLAND  ASSDSTCT  EFFYRBLT  \\\n",
       "PARCEL                                                                     \n",
       "5088017017     9827     2841          2012    136000    204000      1928   \n",
       "5089020010     9456     2365          1988    106556    111535      1931   \n",
       "5088016028     7500     3188          1999     49267    146548      1940   \n",
       "\n",
       "            TAXAMT  ASSDTOTAL  YEARBLT  PCNTIMPD  LOANAMOUT1  PRICE  BEDROOMS  \n",
       "PARCEL                                                                         \n",
       "5088017017    4358     340000     1927        60      990000      0         4  \n",
       "5089020010    2851     218091     1928        51           0      0         3  \n",
       "5088016028    2533     195815     1926        75           0      0         4  "
      ]
     },
     "execution_count": 955,
     "metadata": {},
     "output_type": "execute_result"
    }
   ],
   "source": [
    "X_train_Reduced.head(3)"
   ]
  },
  {
   "cell_type": "code",
   "execution_count": 956,
   "metadata": {},
   "outputs": [],
   "source": [
    "# Scale our data\n",
    "\n",
    "# Create the StandardScaler instance\n",
    "scaler = StandardScaler()\n",
    "\n",
    "# Fit our scaler, named 'scaler' to our data, which produces a new StandardScaler object\n",
    "# which we call 'X_scaler'\n",
    "X_scaler = scaler.fit(X_train_Reduced)\n",
    "\n",
    "# Scale the data\n",
    "X_train_scaled = X_scaler.transform(X_train_Reduced)\n",
    "X_test_scaled = X_scaler.transform(X_test_Reduced)"
   ]
  },
  {
   "cell_type": "code",
   "execution_count": 957,
   "metadata": {},
   "outputs": [
    {
     "name": "stdout",
     "output_type": "stream",
     "text": [
      " Random forest predictive accuracy: 0.929\n"
     ]
    }
   ],
   "source": [
    "from sklearn.ensemble import RandomForestClassifier\n",
    "# Create a random forest classifier.\n",
    "rf_model = RandomForestClassifier(n_estimators=128, random_state=78)\n",
    "\n",
    "# Fitting the model\n",
    "rf_model = rf_model.fit(X_train_scaled, y_train_Reduced)\n",
    "\n",
    "# Evaluate the model\n",
    "y_pred = rf_model.predict(X_test_scaled)\n",
    "\n",
    "# Remember, the accuracy_score function requires 2 arguments, the test and the pred\n",
    "print(f\" Random forest predictive accuracy: {accuracy_score(y_test_Reduced, y_pred):.3f}\")"
   ]
  },
  {
   "cell_type": "code",
   "execution_count": 958,
   "metadata": {},
   "outputs": [
    {
     "data": {
      "text/plain": [
       "0.4990875912408759"
      ]
     },
     "execution_count": 958,
     "metadata": {},
     "output_type": "execute_result"
    }
   ],
   "source": [
    "balanced_accuracy_score(y_test_Reduced, y_pred)"
   ]
  },
  {
   "cell_type": "code",
   "execution_count": 959,
   "metadata": {},
   "outputs": [
    {
     "data": {
      "text/plain": [
       "0.8971483748209387"
      ]
     },
     "execution_count": 959,
     "metadata": {},
     "output_type": "execute_result"
    }
   ],
   "source": [
    "# generate the F1 score\n",
    "f1_score(y_test_Reduced, y_pred, average=\"weighted\")"
   ]
  },
  {
   "cell_type": "code",
   "execution_count": 960,
   "metadata": {},
   "outputs": [],
   "source": [
    "cm_RandomForest = confusion_matrix(y_test_Reduced, y_pred)\n",
    "cm_RandomForest_df = pd.DataFrame(\n",
    "    cm_RandomForest, index=[\"Actual 0\", \"Actual 1\"], columns=[\"Predicted 0\", \"Predicted 1\"]\n",
    ")"
   ]
  },
  {
   "cell_type": "code",
   "execution_count": 961,
   "metadata": {},
   "outputs": [
    {
     "name": "stdout",
     "output_type": "stream",
     "text": [
      "Confusion Matrix\n"
     ]
    },
    {
     "data": {
      "text/html": [
       "<div>\n",
       "<style scoped>\n",
       "    .dataframe tbody tr th:only-of-type {\n",
       "        vertical-align: middle;\n",
       "    }\n",
       "\n",
       "    .dataframe tbody tr th {\n",
       "        vertical-align: top;\n",
       "    }\n",
       "\n",
       "    .dataframe thead th {\n",
       "        text-align: right;\n",
       "    }\n",
       "</style>\n",
       "<table border=\"1\" class=\"dataframe\">\n",
       "  <thead>\n",
       "    <tr style=\"text-align: right;\">\n",
       "      <th></th>\n",
       "      <th>Predicted 0</th>\n",
       "      <th>Predicted 1</th>\n",
       "    </tr>\n",
       "  </thead>\n",
       "  <tbody>\n",
       "    <tr>\n",
       "      <th>Actual 0</th>\n",
       "      <td>1094</td>\n",
       "      <td>2</td>\n",
       "    </tr>\n",
       "    <tr>\n",
       "      <th>Actual 1</th>\n",
       "      <td>81</td>\n",
       "      <td>0</td>\n",
       "    </tr>\n",
       "  </tbody>\n",
       "</table>\n",
       "</div>"
      ],
      "text/plain": [
       "          Predicted 0  Predicted 1\n",
       "Actual 0         1094            2\n",
       "Actual 1           81            0"
      ]
     },
     "metadata": {},
     "output_type": "display_data"
    },
    {
     "name": "stdout",
     "output_type": "stream",
     "text": [
      "Classification Report\n",
      "              precision    recall  f1-score   support\n",
      "\n",
      "           0       0.93      1.00      0.96      1096\n",
      "           1       0.00      0.00      0.00        81\n",
      "\n",
      "    accuracy                           0.93      1177\n",
      "   macro avg       0.47      0.50      0.48      1177\n",
      "weighted avg       0.87      0.93      0.90      1177\n",
      "\n"
     ]
    }
   ],
   "source": [
    "# Displaying results\n",
    "print(\"Confusion Matrix\")\n",
    "display(cm_RandomForest_df)\n",
    "print(\"Classification Report\")\n",
    "print(classification_report(y_test_Reduced, y_pred))"
   ]
  },
  {
   "cell_type": "markdown",
   "metadata": {},
   "source": [
    "# Attempt 8: Gradient Boosting"
   ]
  },
  {
   "cell_type": "code",
   "execution_count": 962,
   "metadata": {},
   "outputs": [],
   "source": [
    "from sklearn.ensemble import GradientBoostingClassifier\n",
    "from sklearn.metrics import mean_squared_error"
   ]
  },
  {
   "cell_type": "code",
   "execution_count": 963,
   "metadata": {},
   "outputs": [
    {
     "name": "stdout",
     "output_type": "stream",
     "text": [
      "Learning rate:  0.05\n",
      "Accuracy score (training): 0.932\n",
      "Accuracy score (validation): 0.931\n",
      "\n",
      "Learning rate:  0.1\n",
      "Accuracy score (training): 0.932\n",
      "Accuracy score (validation): 0.931\n",
      "\n",
      "Learning rate:  0.25\n",
      "Accuracy score (training): 0.939\n",
      "Accuracy score (validation): 0.927\n",
      "\n",
      "Learning rate:  0.5\n",
      "Accuracy score (training): 0.943\n",
      "Accuracy score (validation): 0.928\n",
      "\n",
      "Learning rate:  0.75\n",
      "Accuracy score (training): 0.941\n",
      "Accuracy score (validation): 0.925\n",
      "\n",
      "Learning rate:  1\n",
      "Accuracy score (training): 0.943\n",
      "Accuracy score (validation): 0.911\n",
      "\n"
     ]
    }
   ],
   "source": [
    "# Choose the best learning rate\n",
    "\n",
    "learning_rates = [0.05, 0.1, 0.25, 0.5, 0.75, 1]\n",
    "for learning_rate in learning_rates:\n",
    "    classifier = GradientBoostingClassifier(n_estimators=20,\n",
    "                                            learning_rate=learning_rate,\n",
    "                                            max_features=5,\n",
    "                                            max_depth=3,\n",
    "                                            random_state=0)\n",
    "\n",
    "    # Fit the model\n",
    "    classifier.fit(X_train_scaled, y_train)\n",
    "    print(\"Learning rate: \", learning_rate)\n",
    "\n",
    "    # Score the model\n",
    "    print(\"Accuracy score (training): {0:.3f}\".format(\n",
    "        classifier.score(\n",
    "            X_train_scaled,\n",
    "            y_train)))\n",
    "    print(\"Accuracy score (validation): {0:.3f}\".format(\n",
    "        classifier.score(\n",
    "            X_test_scaled,\n",
    "            y_test)))\n",
    "    print()"
   ]
  },
  {
   "cell_type": "code",
   "execution_count": 964,
   "metadata": {},
   "outputs": [
    {
     "data": {
      "text/html": [
       "<div>\n",
       "<style scoped>\n",
       "    .dataframe tbody tr th:only-of-type {\n",
       "        vertical-align: middle;\n",
       "    }\n",
       "\n",
       "    .dataframe tbody tr th {\n",
       "        vertical-align: top;\n",
       "    }\n",
       "\n",
       "    .dataframe thead th {\n",
       "        text-align: right;\n",
       "    }\n",
       "</style>\n",
       "<table border=\"1\" class=\"dataframe\">\n",
       "  <thead>\n",
       "    <tr style=\"text-align: right;\">\n",
       "      <th></th>\n",
       "      <th>Prediction</th>\n",
       "      <th>Actual</th>\n",
       "    </tr>\n",
       "    <tr>\n",
       "      <th>PARCEL</th>\n",
       "      <th></th>\n",
       "      <th></th>\n",
       "    </tr>\n",
       "  </thead>\n",
       "  <tbody>\n",
       "    <tr>\n",
       "      <th>5526015015</th>\n",
       "      <td>0</td>\n",
       "      <td>1</td>\n",
       "    </tr>\n",
       "    <tr>\n",
       "      <th>5088007031</th>\n",
       "      <td>0</td>\n",
       "      <td>0</td>\n",
       "    </tr>\n",
       "    <tr>\n",
       "      <th>5510017030</th>\n",
       "      <td>0</td>\n",
       "      <td>0</td>\n",
       "    </tr>\n",
       "    <tr>\n",
       "      <th>5514010006</th>\n",
       "      <td>0</td>\n",
       "      <td>0</td>\n",
       "    </tr>\n",
       "    <tr>\n",
       "      <th>5511005010</th>\n",
       "      <td>0</td>\n",
       "      <td>0</td>\n",
       "    </tr>\n",
       "    <tr>\n",
       "      <th>5513020006</th>\n",
       "      <td>0</td>\n",
       "      <td>0</td>\n",
       "    </tr>\n",
       "    <tr>\n",
       "      <th>5089012004</th>\n",
       "      <td>0</td>\n",
       "      <td>0</td>\n",
       "    </tr>\n",
       "    <tr>\n",
       "      <th>5089025022</th>\n",
       "      <td>0</td>\n",
       "      <td>0</td>\n",
       "    </tr>\n",
       "    <tr>\n",
       "      <th>5089026023</th>\n",
       "      <td>0</td>\n",
       "      <td>0</td>\n",
       "    </tr>\n",
       "    <tr>\n",
       "      <th>5087020013</th>\n",
       "      <td>0</td>\n",
       "      <td>0</td>\n",
       "    </tr>\n",
       "    <tr>\n",
       "      <th>5511021012</th>\n",
       "      <td>0</td>\n",
       "      <td>0</td>\n",
       "    </tr>\n",
       "    <tr>\n",
       "      <th>5525036021</th>\n",
       "      <td>0</td>\n",
       "      <td>0</td>\n",
       "    </tr>\n",
       "    <tr>\n",
       "      <th>5527032004</th>\n",
       "      <td>0</td>\n",
       "      <td>0</td>\n",
       "    </tr>\n",
       "    <tr>\n",
       "      <th>5526017004</th>\n",
       "      <td>0</td>\n",
       "      <td>0</td>\n",
       "    </tr>\n",
       "    <tr>\n",
       "      <th>4335003006</th>\n",
       "      <td>0</td>\n",
       "      <td>0</td>\n",
       "    </tr>\n",
       "    <tr>\n",
       "      <th>5085011009</th>\n",
       "      <td>0</td>\n",
       "      <td>0</td>\n",
       "    </tr>\n",
       "    <tr>\n",
       "      <th>5085009005</th>\n",
       "      <td>0</td>\n",
       "      <td>0</td>\n",
       "    </tr>\n",
       "    <tr>\n",
       "      <th>4334020040</th>\n",
       "      <td>0</td>\n",
       "      <td>0</td>\n",
       "    </tr>\n",
       "    <tr>\n",
       "      <th>5514009003</th>\n",
       "      <td>0</td>\n",
       "      <td>0</td>\n",
       "    </tr>\n",
       "    <tr>\n",
       "      <th>5088016027</th>\n",
       "      <td>0</td>\n",
       "      <td>1</td>\n",
       "    </tr>\n",
       "  </tbody>\n",
       "</table>\n",
       "</div>"
      ],
      "text/plain": [
       "            Prediction  Actual\n",
       "PARCEL                        \n",
       "5526015015           0       1\n",
       "5088007031           0       0\n",
       "5510017030           0       0\n",
       "5514010006           0       0\n",
       "5511005010           0       0\n",
       "5513020006           0       0\n",
       "5089012004           0       0\n",
       "5089025022           0       0\n",
       "5089026023           0       0\n",
       "5087020013           0       0\n",
       "5511021012           0       0\n",
       "5525036021           0       0\n",
       "5527032004           0       0\n",
       "5526017004           0       0\n",
       "4335003006           0       0\n",
       "5085011009           0       0\n",
       "5085009005           0       0\n",
       "4334020040           0       0\n",
       "5514009003           0       0\n",
       "5088016027           0       1"
      ]
     },
     "execution_count": 964,
     "metadata": {},
     "output_type": "execute_result"
    }
   ],
   "source": [
    "# Looks like a learning rate of 0.25 has the best results. \n",
    "\n",
    "classifier = GradientBoostingClassifier(n_estimators=20,\n",
    "                                        learning_rate=0.5,\n",
    "                                        max_features=5,\n",
    "                                        max_depth=3,\n",
    "                                        random_state=0)\n",
    "\n",
    "# Fit the model\n",
    "classifier.fit(X_train_scaled, y_train)\n",
    "\n",
    "# Make Prediction\n",
    "predictions = classifier.predict(X_test_scaled)\n",
    "pd.DataFrame({\"Prediction\": predictions, \"Actual\": y_test}).sample(20)"
   ]
  },
  {
   "cell_type": "code",
   "execution_count": 965,
   "metadata": {},
   "outputs": [
    {
     "name": "stdout",
     "output_type": "stream",
     "text": [
      "Accuracy Score : 0.9277824978759558\n"
     ]
    }
   ],
   "source": [
    "# Evaluate the model\n",
    "\n",
    "from sklearn.metrics import confusion_matrix\n",
    "from sklearn.metrics import accuracy_score\n",
    "from sklearn.metrics import classification_report\n",
    "# Calculating the accuracy score\n",
    "acc_score = accuracy_score(y_test, predictions)\n",
    "print(f\"Accuracy Score : {acc_score}\")"
   ]
  },
  {
   "cell_type": "code",
   "execution_count": 966,
   "metadata": {},
   "outputs": [
    {
     "data": {
      "text/plain": [
       "0.5038918176083627"
      ]
     },
     "execution_count": 966,
     "metadata": {},
     "output_type": "execute_result"
    }
   ],
   "source": [
    "balanced_accuracy_score(y_test, predictions)"
   ]
  },
  {
   "cell_type": "code",
   "execution_count": 967,
   "metadata": {},
   "outputs": [
    {
     "data": {
      "text/plain": [
       "0.8978488633767664"
      ]
     },
     "execution_count": 967,
     "metadata": {},
     "output_type": "execute_result"
    }
   ],
   "source": [
    "# generate the F1 score\n",
    "f1_score(y_test, predictions, average=\"weighted\")"
   ]
  },
  {
   "cell_type": "code",
   "execution_count": 968,
   "metadata": {},
   "outputs": [
    {
     "data": {
      "text/html": [
       "<div>\n",
       "<style scoped>\n",
       "    .dataframe tbody tr th:only-of-type {\n",
       "        vertical-align: middle;\n",
       "    }\n",
       "\n",
       "    .dataframe tbody tr th {\n",
       "        vertical-align: top;\n",
       "    }\n",
       "\n",
       "    .dataframe thead th {\n",
       "        text-align: right;\n",
       "    }\n",
       "</style>\n",
       "<table border=\"1\" class=\"dataframe\">\n",
       "  <thead>\n",
       "    <tr style=\"text-align: right;\">\n",
       "      <th></th>\n",
       "      <th>Predicted 0</th>\n",
       "      <th>Predicted 1</th>\n",
       "    </tr>\n",
       "  </thead>\n",
       "  <tbody>\n",
       "    <tr>\n",
       "      <th>Actual 0</th>\n",
       "      <td>1091</td>\n",
       "      <td>5</td>\n",
       "    </tr>\n",
       "    <tr>\n",
       "      <th>Actual 1</th>\n",
       "      <td>80</td>\n",
       "      <td>1</td>\n",
       "    </tr>\n",
       "  </tbody>\n",
       "</table>\n",
       "</div>"
      ],
      "text/plain": [
       "          Predicted 0  Predicted 1\n",
       "Actual 0         1091            5\n",
       "Actual 1           80            1"
      ]
     },
     "metadata": {},
     "output_type": "display_data"
    }
   ],
   "source": [
    "# Generate the confusion matrix\n",
    "cm = confusion_matrix(y_test, predictions)\n",
    "cm_df = pd.DataFrame(\n",
    "    cm, index=[\"Actual 0\", \"Actual 1\"],\n",
    "    columns=[\"Predicted 0\", \"Predicted 1\"]\n",
    ")\n",
    "\n",
    "# Displaying results\n",
    "display(cm_df)"
   ]
  },
  {
   "cell_type": "markdown",
   "metadata": {},
   "source": [
    "# Attempt 9: Adaptive Boosting"
   ]
  },
  {
   "cell_type": "code",
   "execution_count": 969,
   "metadata": {},
   "outputs": [],
   "source": [
    "from sklearn.ensemble import AdaBoostClassifier\n",
    "from sklearn.tree import DecisionTreeClassifier"
   ]
  },
  {
   "cell_type": "code",
   "execution_count": 970,
   "metadata": {},
   "outputs": [
    {
     "data": {
      "text/plain": [
       "AdaBoostClassifier(base_estimator=DecisionTreeClassifier(max_depth=2),\n",
       "                   learning_rate=0.5, n_estimators=200)"
      ]
     },
     "execution_count": 970,
     "metadata": {},
     "output_type": "execute_result"
    }
   ],
   "source": [
    "# lets use the training data from the reduced dataframe (the one with fewer columns)\n",
    "\n",
    "ada_clf = AdaBoostClassifier(\n",
    "    DecisionTreeClassifier(max_depth=2), n_estimators=200,\n",
    "    algorithm='SAMME.R', learning_rate=0.5)\n",
    "\n",
    "# fit our model to our scaled data\n",
    "ada_clf.fit(X_train_2_scaled, y_train_2)"
   ]
  },
  {
   "cell_type": "code",
   "execution_count": 971,
   "metadata": {},
   "outputs": [],
   "source": [
    "# Evaluate the model\n",
    "y_pred_3 = ada_clf.predict(X_test_2_scaled)"
   ]
  },
  {
   "cell_type": "code",
   "execution_count": 972,
   "metadata": {},
   "outputs": [
    {
     "name": "stdout",
     "output_type": "stream",
     "text": [
      " Adaptive Boosting predictive accuracy: 0.912\n"
     ]
    }
   ],
   "source": [
    "# Remember, the accuracy_score function requires 2 arguments, the test and the pred\n",
    "print(f\" Adaptive Boosting predictive accuracy: {accuracy_score(y_test_2, y_pred_3):.3f}\")"
   ]
  },
  {
   "cell_type": "code",
   "execution_count": 973,
   "metadata": {},
   "outputs": [
    {
     "data": {
      "text/plain": [
       "0.5013967739028566"
      ]
     },
     "execution_count": 973,
     "metadata": {},
     "output_type": "execute_result"
    }
   ],
   "source": [
    "balanced_accuracy_score(y_test_2, y_pred_3)"
   ]
  },
  {
   "cell_type": "code",
   "execution_count": 974,
   "metadata": {},
   "outputs": [
    {
     "data": {
      "text/plain": [
       "0.8910693347762086"
      ]
     },
     "execution_count": 974,
     "metadata": {},
     "output_type": "execute_result"
    }
   ],
   "source": [
    "f1_score(y_test_2, y_pred_3, average=\"weighted\")"
   ]
  },
  {
   "cell_type": "code",
   "execution_count": 975,
   "metadata": {},
   "outputs": [],
   "source": [
    "cm_AdaBoost = confusion_matrix(y_test_2, y_pred_3)\n",
    "cm_AdaBoost_df = pd.DataFrame(\n",
    "    cm_AdaBoost, index=[\"Actual 0\", \"Actual 1\"], columns=[\"Predicted 0\", \"Predicted 1\"]\n",
    ")"
   ]
  },
  {
   "cell_type": "code",
   "execution_count": 976,
   "metadata": {},
   "outputs": [
    {
     "name": "stdout",
     "output_type": "stream",
     "text": [
      "Confusion Matrix\n"
     ]
    },
    {
     "data": {
      "text/html": [
       "<div>\n",
       "<style scoped>\n",
       "    .dataframe tbody tr th:only-of-type {\n",
       "        vertical-align: middle;\n",
       "    }\n",
       "\n",
       "    .dataframe tbody tr th {\n",
       "        vertical-align: top;\n",
       "    }\n",
       "\n",
       "    .dataframe thead th {\n",
       "        text-align: right;\n",
       "    }\n",
       "</style>\n",
       "<table border=\"1\" class=\"dataframe\">\n",
       "  <thead>\n",
       "    <tr style=\"text-align: right;\">\n",
       "      <th></th>\n",
       "      <th>Predicted 0</th>\n",
       "      <th>Predicted 1</th>\n",
       "    </tr>\n",
       "  </thead>\n",
       "  <tbody>\n",
       "    <tr>\n",
       "      <th>Actual 0</th>\n",
       "      <td>1072</td>\n",
       "      <td>24</td>\n",
       "    </tr>\n",
       "    <tr>\n",
       "      <th>Actual 1</th>\n",
       "      <td>79</td>\n",
       "      <td>2</td>\n",
       "    </tr>\n",
       "  </tbody>\n",
       "</table>\n",
       "</div>"
      ],
      "text/plain": [
       "          Predicted 0  Predicted 1\n",
       "Actual 0         1072           24\n",
       "Actual 1           79            2"
      ]
     },
     "metadata": {},
     "output_type": "display_data"
    },
    {
     "name": "stdout",
     "output_type": "stream",
     "text": [
      "Accuracy Score : 0.9277824978759558\n",
      "Classification Report\n",
      "              precision    recall  f1-score   support\n",
      "\n",
      "           0       0.93      0.98      0.95      1096\n",
      "           1       0.08      0.02      0.04        81\n",
      "\n",
      "    accuracy                           0.91      1177\n",
      "   macro avg       0.50      0.50      0.50      1177\n",
      "weighted avg       0.87      0.91      0.89      1177\n",
      "\n"
     ]
    }
   ],
   "source": [
    "# Displaying results\n",
    "print(\"Confusion Matrix\")\n",
    "display(cm_AdaBoost_df)\n",
    "print(f\"Accuracy Score : {acc_score}\")\n",
    "print(\"Classification Report\")\n",
    "print(classification_report(y_test_2, y_pred_3))"
   ]
  },
  {
   "cell_type": "markdown",
   "metadata": {},
   "source": [
    "# Attempt 10: Use K-Folds & Then Logistic Regression"
   ]
  },
  {
   "cell_type": "code",
   "execution_count": 977,
   "metadata": {},
   "outputs": [],
   "source": [
    "# partition our data into training and holdout sets\n",
    "from sklearn.model_selection import train_test_split, KFold\n",
    "from sklearn.ensemble import RandomForestClassifier\n",
    "from sklearn.metrics import max_error\n",
    "\n",
    "#X_train_KFolds, X_holdout_KFolds, y_train_KFolds, y_holdout_KFolds = train_test_split(X, y, stratify=y, random_state=78, shuffle=True)"
   ]
  },
  {
   "cell_type": "code",
   "execution_count": 978,
   "metadata": {},
   "outputs": [],
   "source": [
    "# from sklearn.model_selection import KFold\n",
    "\n",
    "# for train_index, test_index in KFold(n_splits=5).split(X_train_KFolds):\n",
    "#     X_data = X_train_KFolds.iloc[train_index]\n",
    "#     y_data = y_train_KFolds.iloc[train_index]"
   ]
  },
  {
   "cell_type": "code",
   "execution_count": 979,
   "metadata": {},
   "outputs": [
    {
     "data": {
      "text/plain": [
       "1.0"
      ]
     },
     "execution_count": 979,
     "metadata": {},
     "output_type": "execute_result"
    }
   ],
   "source": [
    "max_err = 0\n",
    "\n",
    "for train_index, test_index in KFold(n_splits = 5).split(X):\n",
    "\n",
    "    model = RandomForestClassifier(\n",
    "        # our hyperparameters, except n_jobs\n",
    "        # n_jobs = -1,\n",
    "        n_estimators = 300,\n",
    "        max_depth = 5,\n",
    "        max_features = 'sqrt'\n",
    "    )\n",
    "    \n",
    "    model.fit(X.iloc[train_index], y.iloc[train_index])\n",
    "    y_pred_KFolds = model.predict(X.iloc[test_index])\n",
    "    max_err += max_error(y_pred_KFolds, y.iloc[test_index])\n",
    "    \n",
    "max_err / 5"
   ]
  },
  {
   "cell_type": "code",
   "execution_count": 980,
   "metadata": {},
   "outputs": [
    {
     "data": {
      "text/plain": [
       "0.9315621679064825"
      ]
     },
     "execution_count": 980,
     "metadata": {},
     "output_type": "execute_result"
    }
   ],
   "source": [
    "model.score(X, y)"
   ]
  },
  {
   "cell_type": "code",
   "execution_count": 981,
   "metadata": {},
   "outputs": [
    {
     "data": {
      "text/plain": [
       "941"
      ]
     },
     "execution_count": 981,
     "metadata": {},
     "output_type": "execute_result"
    }
   ],
   "source": [
    "len(test_index)"
   ]
  },
  {
   "cell_type": "code",
   "execution_count": 982,
   "metadata": {},
   "outputs": [
    {
     "data": {
      "text/plain": [
       "0.9298618490967057"
      ]
     },
     "execution_count": 982,
     "metadata": {},
     "output_type": "execute_result"
    }
   ],
   "source": [
    "accuracy_score(y.iloc[test_index], y_pred_KFolds)"
   ]
  },
  {
   "cell_type": "code",
   "execution_count": 983,
   "metadata": {},
   "outputs": [
    {
     "name": "stdout",
     "output_type": "stream",
     "text": [
      "              precision    recall  f1-score   support\n",
      "\n",
      "           0       0.93      1.00      0.96       875\n",
      "           1       0.00      0.00      0.00        66\n",
      "\n",
      "    accuracy                           0.93       941\n",
      "   macro avg       0.46      0.50      0.48       941\n",
      "weighted avg       0.86      0.93      0.90       941\n",
      "\n"
     ]
    },
    {
     "name": "stderr",
     "output_type": "stream",
     "text": [
      "/Users/Admin/opt/anaconda3/envs/mlenv/lib/python3.7/site-packages/sklearn/metrics/_classification.py:1245: UndefinedMetricWarning: Precision and F-score are ill-defined and being set to 0.0 in labels with no predicted samples. Use `zero_division` parameter to control this behavior.\n",
      "  _warn_prf(average, modifier, msg_start, len(result))\n",
      "/Users/Admin/opt/anaconda3/envs/mlenv/lib/python3.7/site-packages/sklearn/metrics/_classification.py:1245: UndefinedMetricWarning: Precision and F-score are ill-defined and being set to 0.0 in labels with no predicted samples. Use `zero_division` parameter to control this behavior.\n",
      "  _warn_prf(average, modifier, msg_start, len(result))\n",
      "/Users/Admin/opt/anaconda3/envs/mlenv/lib/python3.7/site-packages/sklearn/metrics/_classification.py:1245: UndefinedMetricWarning: Precision and F-score are ill-defined and being set to 0.0 in labels with no predicted samples. Use `zero_division` parameter to control this behavior.\n",
      "  _warn_prf(average, modifier, msg_start, len(result))\n"
     ]
    }
   ],
   "source": [
    "from sklearn.metrics import classification_report\n",
    "print(classification_report(y.iloc[test_index], y_pred_KFolds))"
   ]
  },
  {
   "cell_type": "code",
   "execution_count": 984,
   "metadata": {},
   "outputs": [],
   "source": [
    "#print(f\" KFolds + Random Forest accuracy: {accuracy_score(y_holdout_KFolds, y_pred_KFolds):.3f}\")"
   ]
  },
  {
   "cell_type": "markdown",
   "metadata": {},
   "source": [
    "# Attempt 11: Use a Logistic Regression, but use unscaled data"
   ]
  },
  {
   "cell_type": "code",
   "execution_count": 985,
   "metadata": {},
   "outputs": [],
   "source": [
    "# Split our data into training and testing sets\n",
    "\n",
    "X_train, X_test, y_train, y_test = train_test_split(X, y, random_state=78, stratify=y)"
   ]
  },
  {
   "cell_type": "code",
   "execution_count": 986,
   "metadata": {},
   "outputs": [],
   "source": [
    "# Create the learning model\n",
    "\n",
    "classifier = LogisticRegression(solver='lbfgs',\n",
    "                                max_iter=300,\n",
    "                                random_state=78,\n",
    "                                class_weight=\"balanced\")"
   ]
  },
  {
   "cell_type": "code",
   "execution_count": 987,
   "metadata": {},
   "outputs": [
    {
     "data": {
      "text/plain": [
       "LogisticRegression(class_weight='balanced', max_iter=300, random_state=78)"
      ]
     },
     "execution_count": 987,
     "metadata": {},
     "output_type": "execute_result"
    }
   ],
   "source": [
    "# fit our learning model to our scaled training data\n",
    "\n",
    "classifier.fit(X_train, y_train)"
   ]
  },
  {
   "cell_type": "code",
   "execution_count": 988,
   "metadata": {},
   "outputs": [
    {
     "data": {
      "text/html": [
       "<div>\n",
       "<style scoped>\n",
       "    .dataframe tbody tr th:only-of-type {\n",
       "        vertical-align: middle;\n",
       "    }\n",
       "\n",
       "    .dataframe tbody tr th {\n",
       "        vertical-align: top;\n",
       "    }\n",
       "\n",
       "    .dataframe thead th {\n",
       "        text-align: right;\n",
       "    }\n",
       "</style>\n",
       "<table border=\"1\" class=\"dataframe\">\n",
       "  <thead>\n",
       "    <tr style=\"text-align: right;\">\n",
       "      <th></th>\n",
       "      <th>Prediction</th>\n",
       "      <th>Actual</th>\n",
       "      <th>PARCEL</th>\n",
       "    </tr>\n",
       "  </thead>\n",
       "  <tbody>\n",
       "    <tr>\n",
       "      <th>725</th>\n",
       "      <td>0</td>\n",
       "      <td>0</td>\n",
       "      <td>5527032009</td>\n",
       "    </tr>\n",
       "    <tr>\n",
       "      <th>354</th>\n",
       "      <td>0</td>\n",
       "      <td>1</td>\n",
       "      <td>5089018008</td>\n",
       "    </tr>\n",
       "    <tr>\n",
       "      <th>694</th>\n",
       "      <td>1</td>\n",
       "      <td>0</td>\n",
       "      <td>5085003006</td>\n",
       "    </tr>\n",
       "    <tr>\n",
       "      <th>659</th>\n",
       "      <td>1</td>\n",
       "      <td>0</td>\n",
       "      <td>4305003025</td>\n",
       "    </tr>\n",
       "    <tr>\n",
       "      <th>613</th>\n",
       "      <td>1</td>\n",
       "      <td>0</td>\n",
       "      <td>5089019008</td>\n",
       "    </tr>\n",
       "    <tr>\n",
       "      <th>1034</th>\n",
       "      <td>1</td>\n",
       "      <td>0</td>\n",
       "      <td>5084032020</td>\n",
       "    </tr>\n",
       "    <tr>\n",
       "      <th>139</th>\n",
       "      <td>0</td>\n",
       "      <td>0</td>\n",
       "      <td>5085006019</td>\n",
       "    </tr>\n",
       "    <tr>\n",
       "      <th>816</th>\n",
       "      <td>0</td>\n",
       "      <td>0</td>\n",
       "      <td>5525035024</td>\n",
       "    </tr>\n",
       "    <tr>\n",
       "      <th>299</th>\n",
       "      <td>1</td>\n",
       "      <td>0</td>\n",
       "      <td>4334023012</td>\n",
       "    </tr>\n",
       "    <tr>\n",
       "      <th>550</th>\n",
       "      <td>0</td>\n",
       "      <td>0</td>\n",
       "      <td>5514007024</td>\n",
       "    </tr>\n",
       "    <tr>\n",
       "      <th>499</th>\n",
       "      <td>0</td>\n",
       "      <td>0</td>\n",
       "      <td>5512011008</td>\n",
       "    </tr>\n",
       "    <tr>\n",
       "      <th>76</th>\n",
       "      <td>1</td>\n",
       "      <td>0</td>\n",
       "      <td>5526033007</td>\n",
       "    </tr>\n",
       "    <tr>\n",
       "      <th>1080</th>\n",
       "      <td>1</td>\n",
       "      <td>0</td>\n",
       "      <td>4335004019</td>\n",
       "    </tr>\n",
       "    <tr>\n",
       "      <th>168</th>\n",
       "      <td>1</td>\n",
       "      <td>1</td>\n",
       "      <td>5085031023</td>\n",
       "    </tr>\n",
       "    <tr>\n",
       "      <th>121</th>\n",
       "      <td>0</td>\n",
       "      <td>0</td>\n",
       "      <td>5514002056</td>\n",
       "    </tr>\n",
       "    <tr>\n",
       "      <th>529</th>\n",
       "      <td>0</td>\n",
       "      <td>0</td>\n",
       "      <td>5511022003</td>\n",
       "    </tr>\n",
       "    <tr>\n",
       "      <th>1016</th>\n",
       "      <td>0</td>\n",
       "      <td>0</td>\n",
       "      <td>5084028030</td>\n",
       "    </tr>\n",
       "    <tr>\n",
       "      <th>320</th>\n",
       "      <td>1</td>\n",
       "      <td>0</td>\n",
       "      <td>5512011004</td>\n",
       "    </tr>\n",
       "    <tr>\n",
       "      <th>1095</th>\n",
       "      <td>1</td>\n",
       "      <td>0</td>\n",
       "      <td>4334023042</td>\n",
       "    </tr>\n",
       "    <tr>\n",
       "      <th>273</th>\n",
       "      <td>0</td>\n",
       "      <td>0</td>\n",
       "      <td>5087006014</td>\n",
       "    </tr>\n",
       "  </tbody>\n",
       "</table>\n",
       "</div>"
      ],
      "text/plain": [
       "      Prediction  Actual      PARCEL\n",
       "725            0       0  5527032009\n",
       "354            0       1  5089018008\n",
       "694            1       0  5085003006\n",
       "659            1       0  4305003025\n",
       "613            1       0  5089019008\n",
       "1034           1       0  5084032020\n",
       "139            0       0  5085006019\n",
       "816            0       0  5525035024\n",
       "299            1       0  4334023012\n",
       "550            0       0  5514007024\n",
       "499            0       0  5512011008\n",
       "76             1       0  5526033007\n",
       "1080           1       0  4335004019\n",
       "168            1       1  5085031023\n",
       "121            0       0  5514002056\n",
       "529            0       0  5511022003\n",
       "1016           0       0  5084028030\n",
       "320            1       0  5512011004\n",
       "1095           1       0  4334023042\n",
       "273            0       0  5087006014"
      ]
     },
     "execution_count": 988,
     "metadata": {},
     "output_type": "execute_result"
    }
   ],
   "source": [
    "y_pred = classifier.predict(X_test)\n",
    "results = pd.DataFrame({\"Prediction\": y_pred, \"Actual\": y_test, \"PARCEL\": y_test.index.values}).reset_index(drop=True)\n",
    "results.sample(20)"
   ]
  },
  {
   "cell_type": "code",
   "execution_count": 989,
   "metadata": {},
   "outputs": [
    {
     "name": "stdout",
     "output_type": "stream",
     "text": [
      "0.5488530161427357\n"
     ]
    }
   ],
   "source": [
    "from sklearn.metrics import accuracy_score\n",
    "print(accuracy_score(y_test, y_pred))"
   ]
  },
  {
   "cell_type": "code",
   "execution_count": 990,
   "metadata": {},
   "outputs": [
    {
     "data": {
      "text/plain": [
       "0.5233734342615122"
      ]
     },
     "execution_count": 990,
     "metadata": {},
     "output_type": "execute_result"
    }
   ],
   "source": [
    "balanced_accuracy_score(y_test, y_pred)"
   ]
  },
  {
   "cell_type": "code",
   "execution_count": 991,
   "metadata": {},
   "outputs": [
    {
     "data": {
      "text/plain": [
       "0.6565100061280048"
      ]
     },
     "execution_count": 991,
     "metadata": {},
     "output_type": "execute_result"
    }
   ],
   "source": [
    "from sklearn.metrics import f1_score\n",
    "f1_score(y_test, y_pred, average=\"weighted\")"
   ]
  },
  {
   "cell_type": "code",
   "execution_count": 992,
   "metadata": {},
   "outputs": [
    {
     "data": {
      "text/plain": [
       "array([[606, 490],\n",
       "       [ 41,  40]])"
      ]
     },
     "execution_count": 992,
     "metadata": {},
     "output_type": "execute_result"
    }
   ],
   "source": [
    "# See our results in a confusion matrix\n",
    "from sklearn.metrics import confusion_matrix\n",
    "confusion_matrix(y_test, y_pred)"
   ]
  },
  {
   "cell_type": "code",
   "execution_count": 993,
   "metadata": {},
   "outputs": [
    {
     "name": "stdout",
     "output_type": "stream",
     "text": [
      "              precision    recall  f1-score   support\n",
      "\n",
      "           0       0.94      0.55      0.70      1096\n",
      "           1       0.08      0.49      0.13        81\n",
      "\n",
      "    accuracy                           0.55      1177\n",
      "   macro avg       0.51      0.52      0.41      1177\n",
      "weighted avg       0.88      0.55      0.66      1177\n",
      "\n"
     ]
    }
   ],
   "source": [
    "# evaluate\n",
    "from sklearn.metrics import classification_report\n",
    "print(classification_report(y_test, y_pred))"
   ]
  },
  {
   "cell_type": "markdown",
   "metadata": {},
   "source": [
    "# Attempt 12: PCA + Logistic Regression"
   ]
  },
  {
   "cell_type": "code",
   "execution_count": 994,
   "metadata": {},
   "outputs": [
    {
     "data": {
      "text/html": [
       "<div>\n",
       "<style scoped>\n",
       "    .dataframe tbody tr th:only-of-type {\n",
       "        vertical-align: middle;\n",
       "    }\n",
       "\n",
       "    .dataframe tbody tr th {\n",
       "        vertical-align: top;\n",
       "    }\n",
       "\n",
       "    .dataframe thead th {\n",
       "        text-align: right;\n",
       "    }\n",
       "</style>\n",
       "<table border=\"1\" class=\"dataframe\">\n",
       "  <thead>\n",
       "    <tr style=\"text-align: right;\">\n",
       "      <th></th>\n",
       "      <th>Owned by Trust?</th>\n",
       "      <th>Owned by Business?</th>\n",
       "      <th>SITEADDRESS</th>\n",
       "      <th>MAIL DIFFERENT FROM SITE?</th>\n",
       "      <th>MAIL OUTSIDE CA?</th>\n",
       "      <th>TITLECO1</th>\n",
       "      <th>ASSDTOTAL</th>\n",
       "      <th>ASSDLAND</th>\n",
       "      <th>ASSDSTCT</th>\n",
       "      <th>ASSDOTHR</th>\n",
       "      <th>...</th>\n",
       "      <th>NAME CHANGE</th>\n",
       "      <th>Other</th>\n",
       "      <th>PARTNERSHIP</th>\n",
       "      <th>PERSONAL REP</th>\n",
       "      <th>QUIT CLAIM</th>\n",
       "      <th>RE-RECORD</th>\n",
       "      <th>TAX DEED</th>\n",
       "      <th>TRUST TRANSFER</th>\n",
       "      <th>TRUSTEES</th>\n",
       "      <th>WARRANTY</th>\n",
       "    </tr>\n",
       "    <tr>\n",
       "      <th>PARCEL</th>\n",
       "      <th></th>\n",
       "      <th></th>\n",
       "      <th></th>\n",
       "      <th></th>\n",
       "      <th></th>\n",
       "      <th></th>\n",
       "      <th></th>\n",
       "      <th></th>\n",
       "      <th></th>\n",
       "      <th></th>\n",
       "      <th></th>\n",
       "      <th></th>\n",
       "      <th></th>\n",
       "      <th></th>\n",
       "      <th></th>\n",
       "      <th></th>\n",
       "      <th></th>\n",
       "      <th></th>\n",
       "      <th></th>\n",
       "      <th></th>\n",
       "      <th></th>\n",
       "    </tr>\n",
       "  </thead>\n",
       "  <tbody>\n",
       "    <tr>\n",
       "      <th>5085010022</th>\n",
       "      <td>0</td>\n",
       "      <td>0</td>\n",
       "      <td>1030 S Dunsmuir Ave</td>\n",
       "      <td>0</td>\n",
       "      <td>0</td>\n",
       "      <td>1</td>\n",
       "      <td>1157385</td>\n",
       "      <td>925908</td>\n",
       "      <td>231477</td>\n",
       "      <td>0</td>\n",
       "      <td>...</td>\n",
       "      <td>0</td>\n",
       "      <td>0</td>\n",
       "      <td>0</td>\n",
       "      <td>0</td>\n",
       "      <td>0</td>\n",
       "      <td>0</td>\n",
       "      <td>0</td>\n",
       "      <td>0</td>\n",
       "      <td>0</td>\n",
       "      <td>0</td>\n",
       "    </tr>\n",
       "    <tr>\n",
       "      <th>5085033008</th>\n",
       "      <td>0</td>\n",
       "      <td>0</td>\n",
       "      <td>1364 S Ridgeley Dr</td>\n",
       "      <td>1</td>\n",
       "      <td>0</td>\n",
       "      <td>0</td>\n",
       "      <td>57047</td>\n",
       "      <td>40994</td>\n",
       "      <td>16053</td>\n",
       "      <td>0</td>\n",
       "      <td>...</td>\n",
       "      <td>0</td>\n",
       "      <td>0</td>\n",
       "      <td>0</td>\n",
       "      <td>0</td>\n",
       "      <td>0</td>\n",
       "      <td>0</td>\n",
       "      <td>0</td>\n",
       "      <td>0</td>\n",
       "      <td>0</td>\n",
       "      <td>0</td>\n",
       "    </tr>\n",
       "    <tr>\n",
       "      <th>5085032022</th>\n",
       "      <td>0</td>\n",
       "      <td>0</td>\n",
       "      <td>1322 Hauser Blvd</td>\n",
       "      <td>0</td>\n",
       "      <td>0</td>\n",
       "      <td>1</td>\n",
       "      <td>651485</td>\n",
       "      <td>521193</td>\n",
       "      <td>130292</td>\n",
       "      <td>0</td>\n",
       "      <td>...</td>\n",
       "      <td>0</td>\n",
       "      <td>0</td>\n",
       "      <td>0</td>\n",
       "      <td>0</td>\n",
       "      <td>0</td>\n",
       "      <td>0</td>\n",
       "      <td>0</td>\n",
       "      <td>0</td>\n",
       "      <td>0</td>\n",
       "      <td>0</td>\n",
       "    </tr>\n",
       "    <tr>\n",
       "      <th>5510005006</th>\n",
       "      <td>1</td>\n",
       "      <td>0</td>\n",
       "      <td>6727 Drexel Ave</td>\n",
       "      <td>1</td>\n",
       "      <td>0</td>\n",
       "      <td>0</td>\n",
       "      <td>85697</td>\n",
       "      <td>74539</td>\n",
       "      <td>11158</td>\n",
       "      <td>0</td>\n",
       "      <td>...</td>\n",
       "      <td>0</td>\n",
       "      <td>0</td>\n",
       "      <td>0</td>\n",
       "      <td>0</td>\n",
       "      <td>0</td>\n",
       "      <td>0</td>\n",
       "      <td>0</td>\n",
       "      <td>0</td>\n",
       "      <td>0</td>\n",
       "      <td>0</td>\n",
       "    </tr>\n",
       "    <tr>\n",
       "      <th>5089024002</th>\n",
       "      <td>0</td>\n",
       "      <td>0</td>\n",
       "      <td>942 S Cochran Ave</td>\n",
       "      <td>0</td>\n",
       "      <td>0</td>\n",
       "      <td>0</td>\n",
       "      <td>62487</td>\n",
       "      <td>42013</td>\n",
       "      <td>20474</td>\n",
       "      <td>0</td>\n",
       "      <td>...</td>\n",
       "      <td>0</td>\n",
       "      <td>0</td>\n",
       "      <td>0</td>\n",
       "      <td>0</td>\n",
       "      <td>0</td>\n",
       "      <td>0</td>\n",
       "      <td>0</td>\n",
       "      <td>0</td>\n",
       "      <td>0</td>\n",
       "      <td>0</td>\n",
       "    </tr>\n",
       "  </tbody>\n",
       "</table>\n",
       "<p>5 rows × 57 columns</p>\n",
       "</div>"
      ],
      "text/plain": [
       "            Owned by Trust?  Owned by Business?          SITEADDRESS  \\\n",
       "PARCEL                                                                 \n",
       "5085010022                0                   0  1030 S Dunsmuir Ave   \n",
       "5085033008                0                   0   1364 S Ridgeley Dr   \n",
       "5085032022                0                   0     1322 Hauser Blvd   \n",
       "5510005006                1                   0      6727 Drexel Ave   \n",
       "5089024002                0                   0    942 S Cochran Ave   \n",
       "\n",
       "            MAIL DIFFERENT FROM SITE?  MAIL OUTSIDE CA?  TITLECO1  ASSDTOTAL  \\\n",
       "PARCEL                                                                         \n",
       "5085010022                          0                 0         1    1157385   \n",
       "5085033008                          1                 0         0      57047   \n",
       "5085032022                          0                 0         1     651485   \n",
       "5510005006                          1                 0         0      85697   \n",
       "5089024002                          0                 0         0      62487   \n",
       "\n",
       "            ASSDLAND  ASSDSTCT  ASSDOTHR  ...  NAME CHANGE  Other  \\\n",
       "PARCEL                                    ...                       \n",
       "5085010022    925908    231477         0  ...            0      0   \n",
       "5085033008     40994     16053         0  ...            0      0   \n",
       "5085032022    521193    130292         0  ...            0      0   \n",
       "5510005006     74539     11158         0  ...            0      0   \n",
       "5089024002     42013     20474         0  ...            0      0   \n",
       "\n",
       "            PARTNERSHIP  PERSONAL REP  QUIT CLAIM  RE-RECORD  TAX DEED  \\\n",
       "PARCEL                                                                   \n",
       "5085010022            0             0           0          0         0   \n",
       "5085033008            0             0           0          0         0   \n",
       "5085032022            0             0           0          0         0   \n",
       "5510005006            0             0           0          0         0   \n",
       "5089024002            0             0           0          0         0   \n",
       "\n",
       "            TRUST TRANSFER  TRUSTEES  WARRANTY  \n",
       "PARCEL                                          \n",
       "5085010022               0         0         0  \n",
       "5085033008               0         0         0  \n",
       "5085032022               0         0         0  \n",
       "5510005006               0         0         0  \n",
       "5089024002               0         0         0  \n",
       "\n",
       "[5 rows x 57 columns]"
      ]
     },
     "execution_count": 994,
     "metadata": {},
     "output_type": "execute_result"
    }
   ],
   "source": [
    "# bring in our dataframe\n",
    "\n",
    "Beverly_Grove_df = pd.read_csv(path, index_col='PARCEL')\n",
    "Beverly_Grove_df.head()"
   ]
  },
  {
   "cell_type": "code",
   "execution_count": 995,
   "metadata": {},
   "outputs": [],
   "source": [
    "# drop any nulls\n",
    "\n",
    "Beverly_Grove_df = Beverly_Grove_df.dropna()"
   ]
  },
  {
   "cell_type": "code",
   "execution_count": 996,
   "metadata": {},
   "outputs": [],
   "source": [
    "Beverly_Grove_df['TAXAMT'] = Beverly_Grove_df['TAXAMT'].astype(int)\n",
    "Beverly_Grove_df['EFFYRBLT'] = Beverly_Grove_df['EFFYRBLT'].astype(int)"
   ]
  },
  {
   "cell_type": "code",
   "execution_count": 997,
   "metadata": {},
   "outputs": [
    {
     "data": {
      "text/html": [
       "<div>\n",
       "<style scoped>\n",
       "    .dataframe tbody tr th:only-of-type {\n",
       "        vertical-align: middle;\n",
       "    }\n",
       "\n",
       "    .dataframe tbody tr th {\n",
       "        vertical-align: top;\n",
       "    }\n",
       "\n",
       "    .dataframe thead th {\n",
       "        text-align: right;\n",
       "    }\n",
       "</style>\n",
       "<table border=\"1\" class=\"dataframe\">\n",
       "  <thead>\n",
       "    <tr style=\"text-align: right;\">\n",
       "      <th></th>\n",
       "      <th>Owned by Trust?</th>\n",
       "      <th>Owned by Business?</th>\n",
       "      <th>SITEADDRESS</th>\n",
       "      <th>MAIL DIFFERENT FROM SITE?</th>\n",
       "      <th>MAIL OUTSIDE CA?</th>\n",
       "      <th>TITLECO1</th>\n",
       "      <th>ASSDTOTAL</th>\n",
       "      <th>ASSDLAND</th>\n",
       "      <th>ASSDSTCT</th>\n",
       "      <th>ASSDOTHR</th>\n",
       "      <th>...</th>\n",
       "      <th>NAME CHANGE</th>\n",
       "      <th>Other</th>\n",
       "      <th>PARTNERSHIP</th>\n",
       "      <th>PERSONAL REP</th>\n",
       "      <th>QUIT CLAIM</th>\n",
       "      <th>RE-RECORD</th>\n",
       "      <th>TAX DEED</th>\n",
       "      <th>TRUST TRANSFER</th>\n",
       "      <th>TRUSTEES</th>\n",
       "      <th>WARRANTY</th>\n",
       "    </tr>\n",
       "    <tr>\n",
       "      <th>PARCEL</th>\n",
       "      <th></th>\n",
       "      <th></th>\n",
       "      <th></th>\n",
       "      <th></th>\n",
       "      <th></th>\n",
       "      <th></th>\n",
       "      <th></th>\n",
       "      <th></th>\n",
       "      <th></th>\n",
       "      <th></th>\n",
       "      <th></th>\n",
       "      <th></th>\n",
       "      <th></th>\n",
       "      <th></th>\n",
       "      <th></th>\n",
       "      <th></th>\n",
       "      <th></th>\n",
       "      <th></th>\n",
       "      <th></th>\n",
       "      <th></th>\n",
       "      <th></th>\n",
       "    </tr>\n",
       "  </thead>\n",
       "  <tbody>\n",
       "    <tr>\n",
       "      <th>5085010022</th>\n",
       "      <td>0</td>\n",
       "      <td>0</td>\n",
       "      <td>1030 S Dunsmuir Ave</td>\n",
       "      <td>0</td>\n",
       "      <td>0</td>\n",
       "      <td>1</td>\n",
       "      <td>1157385</td>\n",
       "      <td>925908</td>\n",
       "      <td>231477</td>\n",
       "      <td>0</td>\n",
       "      <td>...</td>\n",
       "      <td>0</td>\n",
       "      <td>0</td>\n",
       "      <td>0</td>\n",
       "      <td>0</td>\n",
       "      <td>0</td>\n",
       "      <td>0</td>\n",
       "      <td>0</td>\n",
       "      <td>0</td>\n",
       "      <td>0</td>\n",
       "      <td>0</td>\n",
       "    </tr>\n",
       "    <tr>\n",
       "      <th>5085033008</th>\n",
       "      <td>0</td>\n",
       "      <td>0</td>\n",
       "      <td>1364 S Ridgeley Dr</td>\n",
       "      <td>1</td>\n",
       "      <td>0</td>\n",
       "      <td>0</td>\n",
       "      <td>57047</td>\n",
       "      <td>40994</td>\n",
       "      <td>16053</td>\n",
       "      <td>0</td>\n",
       "      <td>...</td>\n",
       "      <td>0</td>\n",
       "      <td>0</td>\n",
       "      <td>0</td>\n",
       "      <td>0</td>\n",
       "      <td>0</td>\n",
       "      <td>0</td>\n",
       "      <td>0</td>\n",
       "      <td>0</td>\n",
       "      <td>0</td>\n",
       "      <td>0</td>\n",
       "    </tr>\n",
       "    <tr>\n",
       "      <th>5085032022</th>\n",
       "      <td>0</td>\n",
       "      <td>0</td>\n",
       "      <td>1322 Hauser Blvd</td>\n",
       "      <td>0</td>\n",
       "      <td>0</td>\n",
       "      <td>1</td>\n",
       "      <td>651485</td>\n",
       "      <td>521193</td>\n",
       "      <td>130292</td>\n",
       "      <td>0</td>\n",
       "      <td>...</td>\n",
       "      <td>0</td>\n",
       "      <td>0</td>\n",
       "      <td>0</td>\n",
       "      <td>0</td>\n",
       "      <td>0</td>\n",
       "      <td>0</td>\n",
       "      <td>0</td>\n",
       "      <td>0</td>\n",
       "      <td>0</td>\n",
       "      <td>0</td>\n",
       "    </tr>\n",
       "  </tbody>\n",
       "</table>\n",
       "<p>3 rows × 57 columns</p>\n",
       "</div>"
      ],
      "text/plain": [
       "            Owned by Trust?  Owned by Business?          SITEADDRESS  \\\n",
       "PARCEL                                                                 \n",
       "5085010022                0                   0  1030 S Dunsmuir Ave   \n",
       "5085033008                0                   0   1364 S Ridgeley Dr   \n",
       "5085032022                0                   0     1322 Hauser Blvd   \n",
       "\n",
       "            MAIL DIFFERENT FROM SITE?  MAIL OUTSIDE CA?  TITLECO1  ASSDTOTAL  \\\n",
       "PARCEL                                                                         \n",
       "5085010022                          0                 0         1    1157385   \n",
       "5085033008                          1                 0         0      57047   \n",
       "5085032022                          0                 0         1     651485   \n",
       "\n",
       "            ASSDLAND  ASSDSTCT  ASSDOTHR  ...  NAME CHANGE  Other  \\\n",
       "PARCEL                                    ...                       \n",
       "5085010022    925908    231477         0  ...            0      0   \n",
       "5085033008     40994     16053         0  ...            0      0   \n",
       "5085032022    521193    130292         0  ...            0      0   \n",
       "\n",
       "            PARTNERSHIP  PERSONAL REP  QUIT CLAIM  RE-RECORD  TAX DEED  \\\n",
       "PARCEL                                                                   \n",
       "5085010022            0             0           0          0         0   \n",
       "5085033008            0             0           0          0         0   \n",
       "5085032022            0             0           0          0         0   \n",
       "\n",
       "            TRUST TRANSFER  TRUSTEES  WARRANTY  \n",
       "PARCEL                                          \n",
       "5085010022               0         0         0  \n",
       "5085033008               0         0         0  \n",
       "5085032022               0         0         0  \n",
       "\n",
       "[3 rows x 57 columns]"
      ]
     },
     "execution_count": 997,
     "metadata": {},
     "output_type": "execute_result"
    }
   ],
   "source": [
    "# Make sure our dataframe is only SFR's so exclude every property that has an '#' in its site address\n",
    "\n",
    "Beverly_Grove_df = Beverly_Grove_df[~Beverly_Grove_df['SITEADDRESS'].str.contains('#')]\n",
    "Beverly_Grove_df.head(3)"
   ]
  },
  {
   "cell_type": "code",
   "execution_count": 998,
   "metadata": {},
   "outputs": [],
   "source": [
    "# Now drop the SiteAddress column\n",
    "Beverly_Grove_df.drop(['SITEADDRESS'], axis=1, inplace=True)"
   ]
  },
  {
   "cell_type": "code",
   "execution_count": 999,
   "metadata": {},
   "outputs": [
    {
     "data": {
      "text/html": [
       "<div>\n",
       "<style scoped>\n",
       "    .dataframe tbody tr th:only-of-type {\n",
       "        vertical-align: middle;\n",
       "    }\n",
       "\n",
       "    .dataframe tbody tr th {\n",
       "        vertical-align: top;\n",
       "    }\n",
       "\n",
       "    .dataframe thead th {\n",
       "        text-align: right;\n",
       "    }\n",
       "</style>\n",
       "<table border=\"1\" class=\"dataframe\">\n",
       "  <thead>\n",
       "    <tr style=\"text-align: right;\">\n",
       "      <th></th>\n",
       "      <th>Owned by Trust?</th>\n",
       "      <th>Owned by Business?</th>\n",
       "      <th>MAIL DIFFERENT FROM SITE?</th>\n",
       "      <th>MAIL OUTSIDE CA?</th>\n",
       "      <th>TITLECO1</th>\n",
       "      <th>ASSDTOTAL</th>\n",
       "      <th>ASSDLAND</th>\n",
       "      <th>ASSDSTCT</th>\n",
       "      <th>ASSDOTHR</th>\n",
       "      <th>EXEMPTCD</th>\n",
       "      <th>...</th>\n",
       "      <th>NAME CHANGE</th>\n",
       "      <th>Other</th>\n",
       "      <th>PARTNERSHIP</th>\n",
       "      <th>PERSONAL REP</th>\n",
       "      <th>QUIT CLAIM</th>\n",
       "      <th>RE-RECORD</th>\n",
       "      <th>TAX DEED</th>\n",
       "      <th>TRUST TRANSFER</th>\n",
       "      <th>TRUSTEES</th>\n",
       "      <th>WARRANTY</th>\n",
       "    </tr>\n",
       "    <tr>\n",
       "      <th>PARCEL</th>\n",
       "      <th></th>\n",
       "      <th></th>\n",
       "      <th></th>\n",
       "      <th></th>\n",
       "      <th></th>\n",
       "      <th></th>\n",
       "      <th></th>\n",
       "      <th></th>\n",
       "      <th></th>\n",
       "      <th></th>\n",
       "      <th></th>\n",
       "      <th></th>\n",
       "      <th></th>\n",
       "      <th></th>\n",
       "      <th></th>\n",
       "      <th></th>\n",
       "      <th></th>\n",
       "      <th></th>\n",
       "      <th></th>\n",
       "      <th></th>\n",
       "      <th></th>\n",
       "    </tr>\n",
       "  </thead>\n",
       "  <tbody>\n",
       "    <tr>\n",
       "      <th>5085010022</th>\n",
       "      <td>0</td>\n",
       "      <td>0</td>\n",
       "      <td>0</td>\n",
       "      <td>0</td>\n",
       "      <td>1</td>\n",
       "      <td>1157385</td>\n",
       "      <td>925908</td>\n",
       "      <td>231477</td>\n",
       "      <td>0</td>\n",
       "      <td>0</td>\n",
       "      <td>...</td>\n",
       "      <td>0</td>\n",
       "      <td>0</td>\n",
       "      <td>0</td>\n",
       "      <td>0</td>\n",
       "      <td>0</td>\n",
       "      <td>0</td>\n",
       "      <td>0</td>\n",
       "      <td>0</td>\n",
       "      <td>0</td>\n",
       "      <td>0</td>\n",
       "    </tr>\n",
       "    <tr>\n",
       "      <th>5085033008</th>\n",
       "      <td>0</td>\n",
       "      <td>0</td>\n",
       "      <td>1</td>\n",
       "      <td>0</td>\n",
       "      <td>0</td>\n",
       "      <td>57047</td>\n",
       "      <td>40994</td>\n",
       "      <td>16053</td>\n",
       "      <td>0</td>\n",
       "      <td>0</td>\n",
       "      <td>...</td>\n",
       "      <td>0</td>\n",
       "      <td>0</td>\n",
       "      <td>0</td>\n",
       "      <td>0</td>\n",
       "      <td>0</td>\n",
       "      <td>0</td>\n",
       "      <td>0</td>\n",
       "      <td>0</td>\n",
       "      <td>0</td>\n",
       "      <td>0</td>\n",
       "    </tr>\n",
       "    <tr>\n",
       "      <th>5085032022</th>\n",
       "      <td>0</td>\n",
       "      <td>0</td>\n",
       "      <td>0</td>\n",
       "      <td>0</td>\n",
       "      <td>1</td>\n",
       "      <td>651485</td>\n",
       "      <td>521193</td>\n",
       "      <td>130292</td>\n",
       "      <td>0</td>\n",
       "      <td>1</td>\n",
       "      <td>...</td>\n",
       "      <td>0</td>\n",
       "      <td>0</td>\n",
       "      <td>0</td>\n",
       "      <td>0</td>\n",
       "      <td>0</td>\n",
       "      <td>0</td>\n",
       "      <td>0</td>\n",
       "      <td>0</td>\n",
       "      <td>0</td>\n",
       "      <td>0</td>\n",
       "    </tr>\n",
       "  </tbody>\n",
       "</table>\n",
       "<p>3 rows × 56 columns</p>\n",
       "</div>"
      ],
      "text/plain": [
       "            Owned by Trust?  Owned by Business?  MAIL DIFFERENT FROM SITE?  \\\n",
       "PARCEL                                                                       \n",
       "5085010022                0                   0                          0   \n",
       "5085033008                0                   0                          1   \n",
       "5085032022                0                   0                          0   \n",
       "\n",
       "            MAIL OUTSIDE CA?  TITLECO1  ASSDTOTAL  ASSDLAND  ASSDSTCT  \\\n",
       "PARCEL                                                                  \n",
       "5085010022                 0         1    1157385    925908    231477   \n",
       "5085033008                 0         0      57047     40994     16053   \n",
       "5085032022                 0         1     651485    521193    130292   \n",
       "\n",
       "            ASSDOTHR  EXEMPTCD  ...  NAME CHANGE  Other  PARTNERSHIP  \\\n",
       "PARCEL                          ...                                    \n",
       "5085010022         0         0  ...            0      0            0   \n",
       "5085033008         0         0  ...            0      0            0   \n",
       "5085032022         0         1  ...            0      0            0   \n",
       "\n",
       "            PERSONAL REP  QUIT CLAIM  RE-RECORD  TAX DEED  TRUST TRANSFER  \\\n",
       "PARCEL                                                                      \n",
       "5085010022             0           0          0         0               0   \n",
       "5085033008             0           0          0         0               0   \n",
       "5085032022             0           0          0         0               0   \n",
       "\n",
       "            TRUSTEES  WARRANTY  \n",
       "PARCEL                          \n",
       "5085010022         0         0  \n",
       "5085033008         0         0  \n",
       "5085032022         0         0  \n",
       "\n",
       "[3 rows x 56 columns]"
      ]
     },
     "execution_count": 999,
     "metadata": {},
     "output_type": "execute_result"
    }
   ],
   "source": [
    "Beverly_Grove_df.head(3)"
   ]
  },
  {
   "cell_type": "code",
   "execution_count": 1000,
   "metadata": {},
   "outputs": [],
   "source": [
    "# Step 1: Create our X and y\n",
    "\n",
    "y = Beverly_Grove_df['Did it sell?']\n",
    "X = Beverly_Grove_df.drop(['Did it sell?'], 1)"
   ]
  },
  {
   "cell_type": "code",
   "execution_count": 1001,
   "metadata": {},
   "outputs": [
    {
     "data": {
      "text/plain": [
       "array([5085010022, 5085033008, 5085032022, ..., 5510018012, 5510017023,\n",
       "       5514001029])"
      ]
     },
     "execution_count": 1001,
     "metadata": {},
     "output_type": "execute_result"
    }
   ],
   "source": [
    "APN = Beverly_Grove_df.index.values\n",
    "APN"
   ]
  },
  {
   "cell_type": "code",
   "execution_count": 1002,
   "metadata": {},
   "outputs": [],
   "source": [
    "# Step 2: Use PCA to reduce dimension to three principal components.\n",
    "from sklearn.decomposition import PCA\n",
    "\n",
    "pca = PCA(n_components=3)\n",
    "X_pca = pca.fit_transform(X)"
   ]
  },
  {
   "cell_type": "code",
   "execution_count": 1003,
   "metadata": {},
   "outputs": [
    {
     "data": {
      "text/plain": [
       "array([[ 1037442.40088322,   222949.06197812,    99008.44211244],\n",
       "       [ -932464.7141857 ,   251848.62995472,   -90439.60157538],\n",
       "       [ -393042.03210882,  -290764.40544306,   -27460.47099801],\n",
       "       ...,\n",
       "       [ -314557.49024403,  -369458.72763661,   -27020.9155848 ],\n",
       "       [ 2038277.22062523,   419857.55993186, -1288530.60059949],\n",
       "       [ -962055.78924987,   281605.81570128,   -93574.2647082 ]])"
      ]
     },
     "execution_count": 1003,
     "metadata": {},
     "output_type": "execute_result"
    }
   ],
   "source": [
    "X_pca"
   ]
  },
  {
   "cell_type": "code",
   "execution_count": 1004,
   "metadata": {},
   "outputs": [],
   "source": [
    "# Step 3: Train, test, split\n",
    "\n",
    "X_train, X_test, y_train, y_test = train_test_split(X_pca, y, random_state=78, stratify=y)"
   ]
  },
  {
   "cell_type": "code",
   "execution_count": 1005,
   "metadata": {},
   "outputs": [],
   "source": [
    "# Step 4: Scale our data\n",
    "\n",
    "# Create the StandardScaler instance\n",
    "scaler = StandardScaler()\n",
    "\n",
    "# Fit our scaler, named 'scaler' to our data, which produces a new StandardScaler object\n",
    "# which we call 'X_scaler'\n",
    "X_scaler = scaler.fit(X_train)\n",
    "\n",
    "# Scale the data\n",
    "X_train_scaled = X_scaler.transform(X_train)\n",
    "X_test_scaled = X_scaler.transform(X_test)"
   ]
  },
  {
   "cell_type": "code",
   "execution_count": 1006,
   "metadata": {},
   "outputs": [],
   "source": [
    "X_train_scaled_APN = []"
   ]
  },
  {
   "cell_type": "code",
   "execution_count": 1007,
   "metadata": {},
   "outputs": [],
   "source": [
    "# for index, parcel in enumerate(X_train.index.values):\n",
    "#      X_train_scaled_APN.append(np.insert(X_train_scaled[index], 0, [parcel]))"
   ]
  },
  {
   "cell_type": "code",
   "execution_count": 1008,
   "metadata": {},
   "outputs": [
    {
     "name": "stdout",
     "output_type": "stream",
     "text": [
      " Logistic regression model accuracy: 0.613\n"
     ]
    }
   ],
   "source": [
    "# Step 5:Create the learning model\n",
    "\n",
    "log_classifier = LogisticRegression(solver='lbfgs',\n",
    "                                max_iter=300,\n",
    "                                random_state=78,\n",
    "                                class_weight=\"balanced\")\n",
    "\n",
    "# Train the model\n",
    "log_classifier.fit(X_train_scaled, y_train)\n",
    "\n",
    "# Evaluate the model\n",
    "y_pred = log_classifier.predict(X_test_scaled)\n",
    "\n",
    "print(f\" Logistic regression model accuracy: {accuracy_score(y_test,y_pred):.3f}\")"
   ]
  },
  {
   "cell_type": "code",
   "execution_count": 1009,
   "metadata": {},
   "outputs": [
    {
     "data": {
      "text/html": [
       "<div>\n",
       "<style scoped>\n",
       "    .dataframe tbody tr th:only-of-type {\n",
       "        vertical-align: middle;\n",
       "    }\n",
       "\n",
       "    .dataframe tbody tr th {\n",
       "        vertical-align: top;\n",
       "    }\n",
       "\n",
       "    .dataframe thead th {\n",
       "        text-align: right;\n",
       "    }\n",
       "</style>\n",
       "<table border=\"1\" class=\"dataframe\">\n",
       "  <thead>\n",
       "    <tr style=\"text-align: right;\">\n",
       "      <th></th>\n",
       "      <th>Prediction</th>\n",
       "      <th>Actual</th>\n",
       "      <th>PARCEL</th>\n",
       "    </tr>\n",
       "  </thead>\n",
       "  <tbody>\n",
       "    <tr>\n",
       "      <th>989</th>\n",
       "      <td>0</td>\n",
       "      <td>0</td>\n",
       "      <td>5512008015</td>\n",
       "    </tr>\n",
       "    <tr>\n",
       "      <th>314</th>\n",
       "      <td>0</td>\n",
       "      <td>0</td>\n",
       "      <td>5514009001</td>\n",
       "    </tr>\n",
       "    <tr>\n",
       "      <th>964</th>\n",
       "      <td>0</td>\n",
       "      <td>0</td>\n",
       "      <td>5085014028</td>\n",
       "    </tr>\n",
       "    <tr>\n",
       "      <th>750</th>\n",
       "      <td>0</td>\n",
       "      <td>1</td>\n",
       "      <td>5087019015</td>\n",
       "    </tr>\n",
       "    <tr>\n",
       "      <th>937</th>\n",
       "      <td>1</td>\n",
       "      <td>1</td>\n",
       "      <td>5087012028</td>\n",
       "    </tr>\n",
       "    <tr>\n",
       "      <th>142</th>\n",
       "      <td>0</td>\n",
       "      <td>0</td>\n",
       "      <td>5089026024</td>\n",
       "    </tr>\n",
       "    <tr>\n",
       "      <th>237</th>\n",
       "      <td>0</td>\n",
       "      <td>0</td>\n",
       "      <td>5087009006</td>\n",
       "    </tr>\n",
       "    <tr>\n",
       "      <th>225</th>\n",
       "      <td>1</td>\n",
       "      <td>0</td>\n",
       "      <td>5086017028</td>\n",
       "    </tr>\n",
       "    <tr>\n",
       "      <th>228</th>\n",
       "      <td>1</td>\n",
       "      <td>0</td>\n",
       "      <td>5511034014</td>\n",
       "    </tr>\n",
       "    <tr>\n",
       "      <th>576</th>\n",
       "      <td>0</td>\n",
       "      <td>0</td>\n",
       "      <td>5510020025</td>\n",
       "    </tr>\n",
       "    <tr>\n",
       "      <th>842</th>\n",
       "      <td>0</td>\n",
       "      <td>0</td>\n",
       "      <td>5510014023</td>\n",
       "    </tr>\n",
       "    <tr>\n",
       "      <th>961</th>\n",
       "      <td>0</td>\n",
       "      <td>0</td>\n",
       "      <td>5510003023</td>\n",
       "    </tr>\n",
       "    <tr>\n",
       "      <th>376</th>\n",
       "      <td>0</td>\n",
       "      <td>0</td>\n",
       "      <td>5087012008</td>\n",
       "    </tr>\n",
       "    <tr>\n",
       "      <th>928</th>\n",
       "      <td>0</td>\n",
       "      <td>1</td>\n",
       "      <td>5087009025</td>\n",
       "    </tr>\n",
       "    <tr>\n",
       "      <th>221</th>\n",
       "      <td>0</td>\n",
       "      <td>0</td>\n",
       "      <td>5510019032</td>\n",
       "    </tr>\n",
       "    <tr>\n",
       "      <th>173</th>\n",
       "      <td>1</td>\n",
       "      <td>0</td>\n",
       "      <td>4305003018</td>\n",
       "    </tr>\n",
       "    <tr>\n",
       "      <th>813</th>\n",
       "      <td>0</td>\n",
       "      <td>0</td>\n",
       "      <td>5511024021</td>\n",
       "    </tr>\n",
       "    <tr>\n",
       "      <th>548</th>\n",
       "      <td>0</td>\n",
       "      <td>0</td>\n",
       "      <td>5527032004</td>\n",
       "    </tr>\n",
       "    <tr>\n",
       "      <th>286</th>\n",
       "      <td>0</td>\n",
       "      <td>0</td>\n",
       "      <td>5526021013</td>\n",
       "    </tr>\n",
       "    <tr>\n",
       "      <th>689</th>\n",
       "      <td>1</td>\n",
       "      <td>0</td>\n",
       "      <td>5514004013</td>\n",
       "    </tr>\n",
       "  </tbody>\n",
       "</table>\n",
       "</div>"
      ],
      "text/plain": [
       "     Prediction  Actual      PARCEL\n",
       "989           0       0  5512008015\n",
       "314           0       0  5514009001\n",
       "964           0       0  5085014028\n",
       "750           0       1  5087019015\n",
       "937           1       1  5087012028\n",
       "142           0       0  5089026024\n",
       "237           0       0  5087009006\n",
       "225           1       0  5086017028\n",
       "228           1       0  5511034014\n",
       "576           0       0  5510020025\n",
       "842           0       0  5510014023\n",
       "961           0       0  5510003023\n",
       "376           0       0  5087012008\n",
       "928           0       1  5087009025\n",
       "221           0       0  5510019032\n",
       "173           1       0  4305003018\n",
       "813           0       0  5511024021\n",
       "548           0       0  5527032004\n",
       "286           0       0  5526021013\n",
       "689           1       0  5514004013"
      ]
     },
     "execution_count": 1009,
     "metadata": {},
     "output_type": "execute_result"
    }
   ],
   "source": [
    "results = pd.DataFrame({\"Prediction\": y_pred, \"Actual\": y_test, \"PARCEL\": y_test.index.values}).reset_index(drop=True)\n",
    "results.sample(20)"
   ]
  },
  {
   "cell_type": "code",
   "execution_count": 1010,
   "metadata": {},
   "outputs": [
    {
     "data": {
      "text/plain": [
       "array([[693, 403],\n",
       "       [ 53,  28]])"
      ]
     },
     "execution_count": 1010,
     "metadata": {},
     "output_type": "execute_result"
    }
   ],
   "source": [
    "from sklearn.metrics import confusion_matrix\n",
    "confusion_matrix(y_test, y_pred)"
   ]
  },
  {
   "cell_type": "code",
   "execution_count": 1011,
   "metadata": {},
   "outputs": [
    {
     "data": {
      "text/plain": [
       "0.48898914120933584"
      ]
     },
     "execution_count": 1011,
     "metadata": {},
     "output_type": "execute_result"
    }
   ],
   "source": [
    "balanced_accuracy_score(y_test, y_pred)"
   ]
  },
  {
   "cell_type": "code",
   "execution_count": 1012,
   "metadata": {},
   "outputs": [
    {
     "data": {
      "text/plain": [
       "0.7081876800594455"
      ]
     },
     "execution_count": 1012,
     "metadata": {},
     "output_type": "execute_result"
    }
   ],
   "source": [
    "from sklearn.metrics import f1_score\n",
    "f1_score(y_test, y_pred, average=\"weighted\")"
   ]
  },
  {
   "cell_type": "code",
   "execution_count": 1013,
   "metadata": {},
   "outputs": [
    {
     "name": "stdout",
     "output_type": "stream",
     "text": [
      "              precision    recall  f1-score   support\n",
      "\n",
      "           0       0.93      0.63      0.75      1096\n",
      "           1       0.06      0.35      0.11        81\n",
      "\n",
      "    accuracy                           0.61      1177\n",
      "   macro avg       0.50      0.49      0.43      1177\n",
      "weighted avg       0.87      0.61      0.71      1177\n",
      "\n"
     ]
    }
   ],
   "source": [
    "# evaluate\n",
    "from sklearn.metrics import classification_report\n",
    "print(classification_report(y_test, y_pred))"
   ]
  },
  {
   "cell_type": "markdown",
   "metadata": {},
   "source": [
    "# Attempt 13: PCA + Oversampling (SMOTE) + LogisticRegression"
   ]
  },
  {
   "cell_type": "code",
   "execution_count": 1014,
   "metadata": {},
   "outputs": [
    {
     "data": {
      "text/html": [
       "<div>\n",
       "<style scoped>\n",
       "    .dataframe tbody tr th:only-of-type {\n",
       "        vertical-align: middle;\n",
       "    }\n",
       "\n",
       "    .dataframe tbody tr th {\n",
       "        vertical-align: top;\n",
       "    }\n",
       "\n",
       "    .dataframe thead th {\n",
       "        text-align: right;\n",
       "    }\n",
       "</style>\n",
       "<table border=\"1\" class=\"dataframe\">\n",
       "  <thead>\n",
       "    <tr style=\"text-align: right;\">\n",
       "      <th></th>\n",
       "      <th>Owned by Trust?</th>\n",
       "      <th>Owned by Business?</th>\n",
       "      <th>SITEADDRESS</th>\n",
       "      <th>MAIL DIFFERENT FROM SITE?</th>\n",
       "      <th>MAIL OUTSIDE CA?</th>\n",
       "      <th>TITLECO1</th>\n",
       "      <th>ASSDTOTAL</th>\n",
       "      <th>ASSDLAND</th>\n",
       "      <th>ASSDSTCT</th>\n",
       "      <th>ASSDOTHR</th>\n",
       "      <th>...</th>\n",
       "      <th>NAME CHANGE</th>\n",
       "      <th>Other</th>\n",
       "      <th>PARTNERSHIP</th>\n",
       "      <th>PERSONAL REP</th>\n",
       "      <th>QUIT CLAIM</th>\n",
       "      <th>RE-RECORD</th>\n",
       "      <th>TAX DEED</th>\n",
       "      <th>TRUST TRANSFER</th>\n",
       "      <th>TRUSTEES</th>\n",
       "      <th>WARRANTY</th>\n",
       "    </tr>\n",
       "    <tr>\n",
       "      <th>PARCEL</th>\n",
       "      <th></th>\n",
       "      <th></th>\n",
       "      <th></th>\n",
       "      <th></th>\n",
       "      <th></th>\n",
       "      <th></th>\n",
       "      <th></th>\n",
       "      <th></th>\n",
       "      <th></th>\n",
       "      <th></th>\n",
       "      <th></th>\n",
       "      <th></th>\n",
       "      <th></th>\n",
       "      <th></th>\n",
       "      <th></th>\n",
       "      <th></th>\n",
       "      <th></th>\n",
       "      <th></th>\n",
       "      <th></th>\n",
       "      <th></th>\n",
       "      <th></th>\n",
       "    </tr>\n",
       "  </thead>\n",
       "  <tbody>\n",
       "    <tr>\n",
       "      <th>5085010022</th>\n",
       "      <td>0</td>\n",
       "      <td>0</td>\n",
       "      <td>1030 S Dunsmuir Ave</td>\n",
       "      <td>0</td>\n",
       "      <td>0</td>\n",
       "      <td>1</td>\n",
       "      <td>1157385</td>\n",
       "      <td>925908</td>\n",
       "      <td>231477</td>\n",
       "      <td>0</td>\n",
       "      <td>...</td>\n",
       "      <td>0</td>\n",
       "      <td>0</td>\n",
       "      <td>0</td>\n",
       "      <td>0</td>\n",
       "      <td>0</td>\n",
       "      <td>0</td>\n",
       "      <td>0</td>\n",
       "      <td>0</td>\n",
       "      <td>0</td>\n",
       "      <td>0</td>\n",
       "    </tr>\n",
       "    <tr>\n",
       "      <th>5085033008</th>\n",
       "      <td>0</td>\n",
       "      <td>0</td>\n",
       "      <td>1364 S Ridgeley Dr</td>\n",
       "      <td>1</td>\n",
       "      <td>0</td>\n",
       "      <td>0</td>\n",
       "      <td>57047</td>\n",
       "      <td>40994</td>\n",
       "      <td>16053</td>\n",
       "      <td>0</td>\n",
       "      <td>...</td>\n",
       "      <td>0</td>\n",
       "      <td>0</td>\n",
       "      <td>0</td>\n",
       "      <td>0</td>\n",
       "      <td>0</td>\n",
       "      <td>0</td>\n",
       "      <td>0</td>\n",
       "      <td>0</td>\n",
       "      <td>0</td>\n",
       "      <td>0</td>\n",
       "    </tr>\n",
       "    <tr>\n",
       "      <th>5085032022</th>\n",
       "      <td>0</td>\n",
       "      <td>0</td>\n",
       "      <td>1322 Hauser Blvd</td>\n",
       "      <td>0</td>\n",
       "      <td>0</td>\n",
       "      <td>1</td>\n",
       "      <td>651485</td>\n",
       "      <td>521193</td>\n",
       "      <td>130292</td>\n",
       "      <td>0</td>\n",
       "      <td>...</td>\n",
       "      <td>0</td>\n",
       "      <td>0</td>\n",
       "      <td>0</td>\n",
       "      <td>0</td>\n",
       "      <td>0</td>\n",
       "      <td>0</td>\n",
       "      <td>0</td>\n",
       "      <td>0</td>\n",
       "      <td>0</td>\n",
       "      <td>0</td>\n",
       "    </tr>\n",
       "    <tr>\n",
       "      <th>5510005006</th>\n",
       "      <td>1</td>\n",
       "      <td>0</td>\n",
       "      <td>6727 Drexel Ave</td>\n",
       "      <td>1</td>\n",
       "      <td>0</td>\n",
       "      <td>0</td>\n",
       "      <td>85697</td>\n",
       "      <td>74539</td>\n",
       "      <td>11158</td>\n",
       "      <td>0</td>\n",
       "      <td>...</td>\n",
       "      <td>0</td>\n",
       "      <td>0</td>\n",
       "      <td>0</td>\n",
       "      <td>0</td>\n",
       "      <td>0</td>\n",
       "      <td>0</td>\n",
       "      <td>0</td>\n",
       "      <td>0</td>\n",
       "      <td>0</td>\n",
       "      <td>0</td>\n",
       "    </tr>\n",
       "    <tr>\n",
       "      <th>5089024002</th>\n",
       "      <td>0</td>\n",
       "      <td>0</td>\n",
       "      <td>942 S Cochran Ave</td>\n",
       "      <td>0</td>\n",
       "      <td>0</td>\n",
       "      <td>0</td>\n",
       "      <td>62487</td>\n",
       "      <td>42013</td>\n",
       "      <td>20474</td>\n",
       "      <td>0</td>\n",
       "      <td>...</td>\n",
       "      <td>0</td>\n",
       "      <td>0</td>\n",
       "      <td>0</td>\n",
       "      <td>0</td>\n",
       "      <td>0</td>\n",
       "      <td>0</td>\n",
       "      <td>0</td>\n",
       "      <td>0</td>\n",
       "      <td>0</td>\n",
       "      <td>0</td>\n",
       "    </tr>\n",
       "  </tbody>\n",
       "</table>\n",
       "<p>5 rows × 57 columns</p>\n",
       "</div>"
      ],
      "text/plain": [
       "            Owned by Trust?  Owned by Business?          SITEADDRESS  \\\n",
       "PARCEL                                                                 \n",
       "5085010022                0                   0  1030 S Dunsmuir Ave   \n",
       "5085033008                0                   0   1364 S Ridgeley Dr   \n",
       "5085032022                0                   0     1322 Hauser Blvd   \n",
       "5510005006                1                   0      6727 Drexel Ave   \n",
       "5089024002                0                   0    942 S Cochran Ave   \n",
       "\n",
       "            MAIL DIFFERENT FROM SITE?  MAIL OUTSIDE CA?  TITLECO1  ASSDTOTAL  \\\n",
       "PARCEL                                                                         \n",
       "5085010022                          0                 0         1    1157385   \n",
       "5085033008                          1                 0         0      57047   \n",
       "5085032022                          0                 0         1     651485   \n",
       "5510005006                          1                 0         0      85697   \n",
       "5089024002                          0                 0         0      62487   \n",
       "\n",
       "            ASSDLAND  ASSDSTCT  ASSDOTHR  ...  NAME CHANGE  Other  \\\n",
       "PARCEL                                    ...                       \n",
       "5085010022    925908    231477         0  ...            0      0   \n",
       "5085033008     40994     16053         0  ...            0      0   \n",
       "5085032022    521193    130292         0  ...            0      0   \n",
       "5510005006     74539     11158         0  ...            0      0   \n",
       "5089024002     42013     20474         0  ...            0      0   \n",
       "\n",
       "            PARTNERSHIP  PERSONAL REP  QUIT CLAIM  RE-RECORD  TAX DEED  \\\n",
       "PARCEL                                                                   \n",
       "5085010022            0             0           0          0         0   \n",
       "5085033008            0             0           0          0         0   \n",
       "5085032022            0             0           0          0         0   \n",
       "5510005006            0             0           0          0         0   \n",
       "5089024002            0             0           0          0         0   \n",
       "\n",
       "            TRUST TRANSFER  TRUSTEES  WARRANTY  \n",
       "PARCEL                                          \n",
       "5085010022               0         0         0  \n",
       "5085033008               0         0         0  \n",
       "5085032022               0         0         0  \n",
       "5510005006               0         0         0  \n",
       "5089024002               0         0         0  \n",
       "\n",
       "[5 rows x 57 columns]"
      ]
     },
     "execution_count": 1014,
     "metadata": {},
     "output_type": "execute_result"
    }
   ],
   "source": [
    "# bring in our dataframe\n",
    "\n",
    "Beverly_Grove_df = pd.read_csv(path, index_col='PARCEL')\n",
    "Beverly_Grove_df.head()"
   ]
  },
  {
   "cell_type": "code",
   "execution_count": 1015,
   "metadata": {},
   "outputs": [],
   "source": [
    "# drop any nulls\n",
    "\n",
    "Beverly_Grove_df = Beverly_Grove_df.dropna()"
   ]
  },
  {
   "cell_type": "code",
   "execution_count": 1016,
   "metadata": {},
   "outputs": [],
   "source": [
    "# Change the datatype of these two columns into ints\n",
    "\n",
    "Beverly_Grove_df['TAXAMT'] = Beverly_Grove_df['TAXAMT'].astype(int)\n",
    "Beverly_Grove_df['EFFYRBLT'] = Beverly_Grove_df['EFFYRBLT'].astype(int)"
   ]
  },
  {
   "cell_type": "code",
   "execution_count": 1017,
   "metadata": {},
   "outputs": [
    {
     "data": {
      "text/html": [
       "<div>\n",
       "<style scoped>\n",
       "    .dataframe tbody tr th:only-of-type {\n",
       "        vertical-align: middle;\n",
       "    }\n",
       "\n",
       "    .dataframe tbody tr th {\n",
       "        vertical-align: top;\n",
       "    }\n",
       "\n",
       "    .dataframe thead th {\n",
       "        text-align: right;\n",
       "    }\n",
       "</style>\n",
       "<table border=\"1\" class=\"dataframe\">\n",
       "  <thead>\n",
       "    <tr style=\"text-align: right;\">\n",
       "      <th></th>\n",
       "      <th>Owned by Trust?</th>\n",
       "      <th>Owned by Business?</th>\n",
       "      <th>SITEADDRESS</th>\n",
       "      <th>MAIL DIFFERENT FROM SITE?</th>\n",
       "      <th>MAIL OUTSIDE CA?</th>\n",
       "      <th>TITLECO1</th>\n",
       "      <th>ASSDTOTAL</th>\n",
       "      <th>ASSDLAND</th>\n",
       "      <th>ASSDSTCT</th>\n",
       "      <th>ASSDOTHR</th>\n",
       "      <th>...</th>\n",
       "      <th>NAME CHANGE</th>\n",
       "      <th>Other</th>\n",
       "      <th>PARTNERSHIP</th>\n",
       "      <th>PERSONAL REP</th>\n",
       "      <th>QUIT CLAIM</th>\n",
       "      <th>RE-RECORD</th>\n",
       "      <th>TAX DEED</th>\n",
       "      <th>TRUST TRANSFER</th>\n",
       "      <th>TRUSTEES</th>\n",
       "      <th>WARRANTY</th>\n",
       "    </tr>\n",
       "    <tr>\n",
       "      <th>PARCEL</th>\n",
       "      <th></th>\n",
       "      <th></th>\n",
       "      <th></th>\n",
       "      <th></th>\n",
       "      <th></th>\n",
       "      <th></th>\n",
       "      <th></th>\n",
       "      <th></th>\n",
       "      <th></th>\n",
       "      <th></th>\n",
       "      <th></th>\n",
       "      <th></th>\n",
       "      <th></th>\n",
       "      <th></th>\n",
       "      <th></th>\n",
       "      <th></th>\n",
       "      <th></th>\n",
       "      <th></th>\n",
       "      <th></th>\n",
       "      <th></th>\n",
       "      <th></th>\n",
       "    </tr>\n",
       "  </thead>\n",
       "  <tbody>\n",
       "    <tr>\n",
       "      <th>5085010022</th>\n",
       "      <td>0</td>\n",
       "      <td>0</td>\n",
       "      <td>1030 S Dunsmuir Ave</td>\n",
       "      <td>0</td>\n",
       "      <td>0</td>\n",
       "      <td>1</td>\n",
       "      <td>1157385</td>\n",
       "      <td>925908</td>\n",
       "      <td>231477</td>\n",
       "      <td>0</td>\n",
       "      <td>...</td>\n",
       "      <td>0</td>\n",
       "      <td>0</td>\n",
       "      <td>0</td>\n",
       "      <td>0</td>\n",
       "      <td>0</td>\n",
       "      <td>0</td>\n",
       "      <td>0</td>\n",
       "      <td>0</td>\n",
       "      <td>0</td>\n",
       "      <td>0</td>\n",
       "    </tr>\n",
       "    <tr>\n",
       "      <th>5085033008</th>\n",
       "      <td>0</td>\n",
       "      <td>0</td>\n",
       "      <td>1364 S Ridgeley Dr</td>\n",
       "      <td>1</td>\n",
       "      <td>0</td>\n",
       "      <td>0</td>\n",
       "      <td>57047</td>\n",
       "      <td>40994</td>\n",
       "      <td>16053</td>\n",
       "      <td>0</td>\n",
       "      <td>...</td>\n",
       "      <td>0</td>\n",
       "      <td>0</td>\n",
       "      <td>0</td>\n",
       "      <td>0</td>\n",
       "      <td>0</td>\n",
       "      <td>0</td>\n",
       "      <td>0</td>\n",
       "      <td>0</td>\n",
       "      <td>0</td>\n",
       "      <td>0</td>\n",
       "    </tr>\n",
       "    <tr>\n",
       "      <th>5085032022</th>\n",
       "      <td>0</td>\n",
       "      <td>0</td>\n",
       "      <td>1322 Hauser Blvd</td>\n",
       "      <td>0</td>\n",
       "      <td>0</td>\n",
       "      <td>1</td>\n",
       "      <td>651485</td>\n",
       "      <td>521193</td>\n",
       "      <td>130292</td>\n",
       "      <td>0</td>\n",
       "      <td>...</td>\n",
       "      <td>0</td>\n",
       "      <td>0</td>\n",
       "      <td>0</td>\n",
       "      <td>0</td>\n",
       "      <td>0</td>\n",
       "      <td>0</td>\n",
       "      <td>0</td>\n",
       "      <td>0</td>\n",
       "      <td>0</td>\n",
       "      <td>0</td>\n",
       "    </tr>\n",
       "  </tbody>\n",
       "</table>\n",
       "<p>3 rows × 57 columns</p>\n",
       "</div>"
      ],
      "text/plain": [
       "            Owned by Trust?  Owned by Business?          SITEADDRESS  \\\n",
       "PARCEL                                                                 \n",
       "5085010022                0                   0  1030 S Dunsmuir Ave   \n",
       "5085033008                0                   0   1364 S Ridgeley Dr   \n",
       "5085032022                0                   0     1322 Hauser Blvd   \n",
       "\n",
       "            MAIL DIFFERENT FROM SITE?  MAIL OUTSIDE CA?  TITLECO1  ASSDTOTAL  \\\n",
       "PARCEL                                                                         \n",
       "5085010022                          0                 0         1    1157385   \n",
       "5085033008                          1                 0         0      57047   \n",
       "5085032022                          0                 0         1     651485   \n",
       "\n",
       "            ASSDLAND  ASSDSTCT  ASSDOTHR  ...  NAME CHANGE  Other  \\\n",
       "PARCEL                                    ...                       \n",
       "5085010022    925908    231477         0  ...            0      0   \n",
       "5085033008     40994     16053         0  ...            0      0   \n",
       "5085032022    521193    130292         0  ...            0      0   \n",
       "\n",
       "            PARTNERSHIP  PERSONAL REP  QUIT CLAIM  RE-RECORD  TAX DEED  \\\n",
       "PARCEL                                                                   \n",
       "5085010022            0             0           0          0         0   \n",
       "5085033008            0             0           0          0         0   \n",
       "5085032022            0             0           0          0         0   \n",
       "\n",
       "            TRUST TRANSFER  TRUSTEES  WARRANTY  \n",
       "PARCEL                                          \n",
       "5085010022               0         0         0  \n",
       "5085033008               0         0         0  \n",
       "5085032022               0         0         0  \n",
       "\n",
       "[3 rows x 57 columns]"
      ]
     },
     "execution_count": 1017,
     "metadata": {},
     "output_type": "execute_result"
    }
   ],
   "source": [
    "# Make sure our dataframe is only SFR's so exclude every property that has an '#' in its site address\n",
    "\n",
    "Beverly_Grove_df = Beverly_Grove_df[~Beverly_Grove_df['SITEADDRESS'].str.contains('#')]\n",
    "Beverly_Grove_df.head(3)"
   ]
  },
  {
   "cell_type": "code",
   "execution_count": 1018,
   "metadata": {},
   "outputs": [],
   "source": [
    "# Now drop the SiteAddress column\n",
    "Beverly_Grove_df.drop(['SITEADDRESS'], axis=1, inplace=True)"
   ]
  },
  {
   "cell_type": "code",
   "execution_count": 1019,
   "metadata": {},
   "outputs": [
    {
     "data": {
      "text/html": [
       "<div>\n",
       "<style scoped>\n",
       "    .dataframe tbody tr th:only-of-type {\n",
       "        vertical-align: middle;\n",
       "    }\n",
       "\n",
       "    .dataframe tbody tr th {\n",
       "        vertical-align: top;\n",
       "    }\n",
       "\n",
       "    .dataframe thead th {\n",
       "        text-align: right;\n",
       "    }\n",
       "</style>\n",
       "<table border=\"1\" class=\"dataframe\">\n",
       "  <thead>\n",
       "    <tr style=\"text-align: right;\">\n",
       "      <th></th>\n",
       "      <th>Owned by Trust?</th>\n",
       "      <th>Owned by Business?</th>\n",
       "      <th>MAIL DIFFERENT FROM SITE?</th>\n",
       "      <th>MAIL OUTSIDE CA?</th>\n",
       "      <th>TITLECO1</th>\n",
       "      <th>ASSDTOTAL</th>\n",
       "      <th>ASSDLAND</th>\n",
       "      <th>ASSDSTCT</th>\n",
       "      <th>ASSDOTHR</th>\n",
       "      <th>EXEMPTCD</th>\n",
       "      <th>...</th>\n",
       "      <th>NAME CHANGE</th>\n",
       "      <th>Other</th>\n",
       "      <th>PARTNERSHIP</th>\n",
       "      <th>PERSONAL REP</th>\n",
       "      <th>QUIT CLAIM</th>\n",
       "      <th>RE-RECORD</th>\n",
       "      <th>TAX DEED</th>\n",
       "      <th>TRUST TRANSFER</th>\n",
       "      <th>TRUSTEES</th>\n",
       "      <th>WARRANTY</th>\n",
       "    </tr>\n",
       "    <tr>\n",
       "      <th>PARCEL</th>\n",
       "      <th></th>\n",
       "      <th></th>\n",
       "      <th></th>\n",
       "      <th></th>\n",
       "      <th></th>\n",
       "      <th></th>\n",
       "      <th></th>\n",
       "      <th></th>\n",
       "      <th></th>\n",
       "      <th></th>\n",
       "      <th></th>\n",
       "      <th></th>\n",
       "      <th></th>\n",
       "      <th></th>\n",
       "      <th></th>\n",
       "      <th></th>\n",
       "      <th></th>\n",
       "      <th></th>\n",
       "      <th></th>\n",
       "      <th></th>\n",
       "      <th></th>\n",
       "    </tr>\n",
       "  </thead>\n",
       "  <tbody>\n",
       "    <tr>\n",
       "      <th>5085010022</th>\n",
       "      <td>0</td>\n",
       "      <td>0</td>\n",
       "      <td>0</td>\n",
       "      <td>0</td>\n",
       "      <td>1</td>\n",
       "      <td>1157385</td>\n",
       "      <td>925908</td>\n",
       "      <td>231477</td>\n",
       "      <td>0</td>\n",
       "      <td>0</td>\n",
       "      <td>...</td>\n",
       "      <td>0</td>\n",
       "      <td>0</td>\n",
       "      <td>0</td>\n",
       "      <td>0</td>\n",
       "      <td>0</td>\n",
       "      <td>0</td>\n",
       "      <td>0</td>\n",
       "      <td>0</td>\n",
       "      <td>0</td>\n",
       "      <td>0</td>\n",
       "    </tr>\n",
       "    <tr>\n",
       "      <th>5085033008</th>\n",
       "      <td>0</td>\n",
       "      <td>0</td>\n",
       "      <td>1</td>\n",
       "      <td>0</td>\n",
       "      <td>0</td>\n",
       "      <td>57047</td>\n",
       "      <td>40994</td>\n",
       "      <td>16053</td>\n",
       "      <td>0</td>\n",
       "      <td>0</td>\n",
       "      <td>...</td>\n",
       "      <td>0</td>\n",
       "      <td>0</td>\n",
       "      <td>0</td>\n",
       "      <td>0</td>\n",
       "      <td>0</td>\n",
       "      <td>0</td>\n",
       "      <td>0</td>\n",
       "      <td>0</td>\n",
       "      <td>0</td>\n",
       "      <td>0</td>\n",
       "    </tr>\n",
       "    <tr>\n",
       "      <th>5085032022</th>\n",
       "      <td>0</td>\n",
       "      <td>0</td>\n",
       "      <td>0</td>\n",
       "      <td>0</td>\n",
       "      <td>1</td>\n",
       "      <td>651485</td>\n",
       "      <td>521193</td>\n",
       "      <td>130292</td>\n",
       "      <td>0</td>\n",
       "      <td>1</td>\n",
       "      <td>...</td>\n",
       "      <td>0</td>\n",
       "      <td>0</td>\n",
       "      <td>0</td>\n",
       "      <td>0</td>\n",
       "      <td>0</td>\n",
       "      <td>0</td>\n",
       "      <td>0</td>\n",
       "      <td>0</td>\n",
       "      <td>0</td>\n",
       "      <td>0</td>\n",
       "    </tr>\n",
       "  </tbody>\n",
       "</table>\n",
       "<p>3 rows × 56 columns</p>\n",
       "</div>"
      ],
      "text/plain": [
       "            Owned by Trust?  Owned by Business?  MAIL DIFFERENT FROM SITE?  \\\n",
       "PARCEL                                                                       \n",
       "5085010022                0                   0                          0   \n",
       "5085033008                0                   0                          1   \n",
       "5085032022                0                   0                          0   \n",
       "\n",
       "            MAIL OUTSIDE CA?  TITLECO1  ASSDTOTAL  ASSDLAND  ASSDSTCT  \\\n",
       "PARCEL                                                                  \n",
       "5085010022                 0         1    1157385    925908    231477   \n",
       "5085033008                 0         0      57047     40994     16053   \n",
       "5085032022                 0         1     651485    521193    130292   \n",
       "\n",
       "            ASSDOTHR  EXEMPTCD  ...  NAME CHANGE  Other  PARTNERSHIP  \\\n",
       "PARCEL                          ...                                    \n",
       "5085010022         0         0  ...            0      0            0   \n",
       "5085033008         0         0  ...            0      0            0   \n",
       "5085032022         0         1  ...            0      0            0   \n",
       "\n",
       "            PERSONAL REP  QUIT CLAIM  RE-RECORD  TAX DEED  TRUST TRANSFER  \\\n",
       "PARCEL                                                                      \n",
       "5085010022             0           0          0         0               0   \n",
       "5085033008             0           0          0         0               0   \n",
       "5085032022             0           0          0         0               0   \n",
       "\n",
       "            TRUSTEES  WARRANTY  \n",
       "PARCEL                          \n",
       "5085010022         0         0  \n",
       "5085033008         0         0  \n",
       "5085032022         0         0  \n",
       "\n",
       "[3 rows x 56 columns]"
      ]
     },
     "execution_count": 1019,
     "metadata": {},
     "output_type": "execute_result"
    }
   ],
   "source": [
    "Beverly_Grove_df.head(3)"
   ]
  },
  {
   "cell_type": "code",
   "execution_count": 1020,
   "metadata": {},
   "outputs": [],
   "source": [
    "# Step 1: Create our X and y\n",
    "\n",
    "y = Beverly_Grove_df['Did it sell?']\n",
    "X = Beverly_Grove_df.drop(['Did it sell?'], 1)"
   ]
  },
  {
   "cell_type": "code",
   "execution_count": 1021,
   "metadata": {},
   "outputs": [
    {
     "data": {
      "text/plain": [
       "array([5085010022, 5085033008, 5085032022, ..., 5510018012, 5510017023,\n",
       "       5514001029])"
      ]
     },
     "execution_count": 1021,
     "metadata": {},
     "output_type": "execute_result"
    }
   ],
   "source": [
    "APN = Beverly_Grove_df.index.values\n",
    "APN"
   ]
  },
  {
   "cell_type": "code",
   "execution_count": 1022,
   "metadata": {},
   "outputs": [],
   "source": [
    "# Step 2: Use PCA to reduce dimension to three principal components.\n",
    "from sklearn.decomposition import PCA\n",
    "\n",
    "pca = PCA(n_components=3)\n",
    "X_pca = pca.fit_transform(X)"
   ]
  },
  {
   "cell_type": "code",
   "execution_count": 1023,
   "metadata": {},
   "outputs": [
    {
     "data": {
      "text/plain": [
       "array([[ 1037442.40088321,   222949.06197815,    99008.44211241],\n",
       "       [ -932464.7141857 ,   251848.62995472,   -90439.60157538],\n",
       "       [ -393042.03210882,  -290764.40544306,   -27460.470998  ],\n",
       "       ...,\n",
       "       [ -314557.49024403,  -369458.72763661,   -27020.9155848 ],\n",
       "       [ 2038277.22062523,   419857.55993186, -1288530.60059949],\n",
       "       [ -962055.78924987,   281605.81570128,   -93574.2647082 ]])"
      ]
     },
     "execution_count": 1023,
     "metadata": {},
     "output_type": "execute_result"
    }
   ],
   "source": [
    "X_pca"
   ]
  },
  {
   "cell_type": "code",
   "execution_count": 1024,
   "metadata": {},
   "outputs": [],
   "source": [
    "# Step 3: Train, test, split\n",
    "\n",
    "X_train, X_test, y_train, y_test = train_test_split(X_pca, y, random_state=78, stratify=y)"
   ]
  },
  {
   "cell_type": "code",
   "execution_count": 1025,
   "metadata": {},
   "outputs": [],
   "source": [
    "# Step 4: Scale our data\n",
    "\n",
    "# Create the StandardScaler instance\n",
    "scaler = StandardScaler()\n",
    "\n",
    "# Fit our scaler, named 'scaler' to our data, which produces a new StandardScaler object\n",
    "# which we call 'X_scaler'\n",
    "X_scaler = scaler.fit(X_train)\n",
    "\n",
    "# Scale the data\n",
    "X_train_scaled = X_scaler.transform(X_train)\n",
    "X_test_scaled = X_scaler.transform(X_test)"
   ]
  },
  {
   "cell_type": "code",
   "execution_count": 1026,
   "metadata": {},
   "outputs": [],
   "source": [
    "X_train_scaled_APN = []"
   ]
  },
  {
   "cell_type": "code",
   "execution_count": 1027,
   "metadata": {},
   "outputs": [],
   "source": [
    "# Step 5: Resample our data using the SMOTE method\n",
    "\n",
    "from imblearn.over_sampling import SMOTE\n",
    "X_resampled_SMOTE, y_resampled_SMOTE = SMOTE(random_state=1, \n",
    "                               sampling_strategy='auto').fit_resample(\n",
    "                               X_train_scaled, y_train)"
   ]
  },
  {
   "cell_type": "code",
   "execution_count": 1028,
   "metadata": {},
   "outputs": [
    {
     "data": {
      "text/plain": [
       "Counter({0: 3287, 1: 3287})"
      ]
     },
     "execution_count": 1028,
     "metadata": {},
     "output_type": "execute_result"
    }
   ],
   "source": [
    "Counter(y_resampled_SMOTE)"
   ]
  },
  {
   "cell_type": "code",
   "execution_count": 1029,
   "metadata": {},
   "outputs": [
    {
     "data": {
      "text/plain": [
       "LogisticRegression(class_weight='balanced', max_iter=300, random_state=78)"
      ]
     },
     "execution_count": 1029,
     "metadata": {},
     "output_type": "execute_result"
    }
   ],
   "source": [
    "# Step 6: Instantiate our model and fit it to our data\n",
    "\n",
    "model_7 = LogisticRegression(solver='lbfgs', random_state=78, max_iter=300, class_weight=\"balanced\")\n",
    "model_7.fit(X_resampled_SMOTE, y_resampled_SMOTE)"
   ]
  },
  {
   "cell_type": "code",
   "execution_count": 1030,
   "metadata": {},
   "outputs": [
    {
     "data": {
      "text/plain": [
       "0.6125743415463042"
      ]
     },
     "execution_count": 1030,
     "metadata": {},
     "output_type": "execute_result"
    }
   ],
   "source": [
    "accuracy_score(y_test, y_pred)"
   ]
  },
  {
   "cell_type": "code",
   "execution_count": 1031,
   "metadata": {},
   "outputs": [
    {
     "data": {
      "text/plain": [
       "0.4914841849148418"
      ]
     },
     "execution_count": 1031,
     "metadata": {},
     "output_type": "execute_result"
    }
   ],
   "source": [
    "# Step 7: Calculated the balanced accuracy score\n",
    "\n",
    "y_pred = model_7.predict(X_test_scaled)\n",
    "balanced_accuracy_score(y_test, y_pred)"
   ]
  },
  {
   "cell_type": "code",
   "execution_count": 1032,
   "metadata": {},
   "outputs": [
    {
     "name": "stdout",
     "output_type": "stream",
     "text": [
      " PCA + Smote + Logistic Regression Was: 0.628\n"
     ]
    }
   ],
   "source": [
    "print(f\" PCA + Smote + Logistic Regression Was: {accuracy_score(y_test, y_pred):.3f}\")"
   ]
  },
  {
   "cell_type": "code",
   "execution_count": 1033,
   "metadata": {},
   "outputs": [
    {
     "data": {
      "text/plain": [
       "0.719691707488016"
      ]
     },
     "execution_count": 1033,
     "metadata": {},
     "output_type": "execute_result"
    }
   ],
   "source": [
    "f1_score(y_test, y_pred, average=\"weighted\")"
   ]
  },
  {
   "cell_type": "code",
   "execution_count": 1034,
   "metadata": {},
   "outputs": [
    {
     "data": {
      "text/plain": [
       "array([[712, 384],\n",
       "       [ 54,  27]])"
      ]
     },
     "execution_count": 1034,
     "metadata": {},
     "output_type": "execute_result"
    }
   ],
   "source": [
    "confusion_matrix(y_test, y_pred)"
   ]
  },
  {
   "cell_type": "code",
   "execution_count": 1035,
   "metadata": {},
   "outputs": [
    {
     "name": "stdout",
     "output_type": "stream",
     "text": [
      "              precision    recall  f1-score   support\n",
      "\n",
      "           0       0.93      0.65      0.76      1096\n",
      "           1       0.07      0.33      0.11        81\n",
      "\n",
      "    accuracy                           0.63      1177\n",
      "   macro avg       0.50      0.49      0.44      1177\n",
      "weighted avg       0.87      0.63      0.72      1177\n",
      "\n"
     ]
    }
   ],
   "source": [
    "# evaluate\n",
    "print(classification_report(y_test, y_pred))"
   ]
  },
  {
   "cell_type": "markdown",
   "metadata": {},
   "source": [
    "# Attempt 14: PCA + Resampling (SMOTEEN) + LogisticRegression"
   ]
  },
  {
   "cell_type": "code",
   "execution_count": 1036,
   "metadata": {},
   "outputs": [
    {
     "data": {
      "text/html": [
       "<div>\n",
       "<style scoped>\n",
       "    .dataframe tbody tr th:only-of-type {\n",
       "        vertical-align: middle;\n",
       "    }\n",
       "\n",
       "    .dataframe tbody tr th {\n",
       "        vertical-align: top;\n",
       "    }\n",
       "\n",
       "    .dataframe thead th {\n",
       "        text-align: right;\n",
       "    }\n",
       "</style>\n",
       "<table border=\"1\" class=\"dataframe\">\n",
       "  <thead>\n",
       "    <tr style=\"text-align: right;\">\n",
       "      <th></th>\n",
       "      <th>Owned by Trust?</th>\n",
       "      <th>Owned by Business?</th>\n",
       "      <th>SITEADDRESS</th>\n",
       "      <th>MAIL DIFFERENT FROM SITE?</th>\n",
       "      <th>MAIL OUTSIDE CA?</th>\n",
       "      <th>TITLECO1</th>\n",
       "      <th>ASSDTOTAL</th>\n",
       "      <th>ASSDLAND</th>\n",
       "      <th>ASSDSTCT</th>\n",
       "      <th>ASSDOTHR</th>\n",
       "      <th>...</th>\n",
       "      <th>NAME CHANGE</th>\n",
       "      <th>Other</th>\n",
       "      <th>PARTNERSHIP</th>\n",
       "      <th>PERSONAL REP</th>\n",
       "      <th>QUIT CLAIM</th>\n",
       "      <th>RE-RECORD</th>\n",
       "      <th>TAX DEED</th>\n",
       "      <th>TRUST TRANSFER</th>\n",
       "      <th>TRUSTEES</th>\n",
       "      <th>WARRANTY</th>\n",
       "    </tr>\n",
       "    <tr>\n",
       "      <th>PARCEL</th>\n",
       "      <th></th>\n",
       "      <th></th>\n",
       "      <th></th>\n",
       "      <th></th>\n",
       "      <th></th>\n",
       "      <th></th>\n",
       "      <th></th>\n",
       "      <th></th>\n",
       "      <th></th>\n",
       "      <th></th>\n",
       "      <th></th>\n",
       "      <th></th>\n",
       "      <th></th>\n",
       "      <th></th>\n",
       "      <th></th>\n",
       "      <th></th>\n",
       "      <th></th>\n",
       "      <th></th>\n",
       "      <th></th>\n",
       "      <th></th>\n",
       "      <th></th>\n",
       "    </tr>\n",
       "  </thead>\n",
       "  <tbody>\n",
       "    <tr>\n",
       "      <th>5085010022</th>\n",
       "      <td>0</td>\n",
       "      <td>0</td>\n",
       "      <td>1030 S Dunsmuir Ave</td>\n",
       "      <td>0</td>\n",
       "      <td>0</td>\n",
       "      <td>1</td>\n",
       "      <td>1157385</td>\n",
       "      <td>925908</td>\n",
       "      <td>231477</td>\n",
       "      <td>0</td>\n",
       "      <td>...</td>\n",
       "      <td>0</td>\n",
       "      <td>0</td>\n",
       "      <td>0</td>\n",
       "      <td>0</td>\n",
       "      <td>0</td>\n",
       "      <td>0</td>\n",
       "      <td>0</td>\n",
       "      <td>0</td>\n",
       "      <td>0</td>\n",
       "      <td>0</td>\n",
       "    </tr>\n",
       "    <tr>\n",
       "      <th>5085033008</th>\n",
       "      <td>0</td>\n",
       "      <td>0</td>\n",
       "      <td>1364 S Ridgeley Dr</td>\n",
       "      <td>1</td>\n",
       "      <td>0</td>\n",
       "      <td>0</td>\n",
       "      <td>57047</td>\n",
       "      <td>40994</td>\n",
       "      <td>16053</td>\n",
       "      <td>0</td>\n",
       "      <td>...</td>\n",
       "      <td>0</td>\n",
       "      <td>0</td>\n",
       "      <td>0</td>\n",
       "      <td>0</td>\n",
       "      <td>0</td>\n",
       "      <td>0</td>\n",
       "      <td>0</td>\n",
       "      <td>0</td>\n",
       "      <td>0</td>\n",
       "      <td>0</td>\n",
       "    </tr>\n",
       "    <tr>\n",
       "      <th>5085032022</th>\n",
       "      <td>0</td>\n",
       "      <td>0</td>\n",
       "      <td>1322 Hauser Blvd</td>\n",
       "      <td>0</td>\n",
       "      <td>0</td>\n",
       "      <td>1</td>\n",
       "      <td>651485</td>\n",
       "      <td>521193</td>\n",
       "      <td>130292</td>\n",
       "      <td>0</td>\n",
       "      <td>...</td>\n",
       "      <td>0</td>\n",
       "      <td>0</td>\n",
       "      <td>0</td>\n",
       "      <td>0</td>\n",
       "      <td>0</td>\n",
       "      <td>0</td>\n",
       "      <td>0</td>\n",
       "      <td>0</td>\n",
       "      <td>0</td>\n",
       "      <td>0</td>\n",
       "    </tr>\n",
       "    <tr>\n",
       "      <th>5510005006</th>\n",
       "      <td>1</td>\n",
       "      <td>0</td>\n",
       "      <td>6727 Drexel Ave</td>\n",
       "      <td>1</td>\n",
       "      <td>0</td>\n",
       "      <td>0</td>\n",
       "      <td>85697</td>\n",
       "      <td>74539</td>\n",
       "      <td>11158</td>\n",
       "      <td>0</td>\n",
       "      <td>...</td>\n",
       "      <td>0</td>\n",
       "      <td>0</td>\n",
       "      <td>0</td>\n",
       "      <td>0</td>\n",
       "      <td>0</td>\n",
       "      <td>0</td>\n",
       "      <td>0</td>\n",
       "      <td>0</td>\n",
       "      <td>0</td>\n",
       "      <td>0</td>\n",
       "    </tr>\n",
       "    <tr>\n",
       "      <th>5089024002</th>\n",
       "      <td>0</td>\n",
       "      <td>0</td>\n",
       "      <td>942 S Cochran Ave</td>\n",
       "      <td>0</td>\n",
       "      <td>0</td>\n",
       "      <td>0</td>\n",
       "      <td>62487</td>\n",
       "      <td>42013</td>\n",
       "      <td>20474</td>\n",
       "      <td>0</td>\n",
       "      <td>...</td>\n",
       "      <td>0</td>\n",
       "      <td>0</td>\n",
       "      <td>0</td>\n",
       "      <td>0</td>\n",
       "      <td>0</td>\n",
       "      <td>0</td>\n",
       "      <td>0</td>\n",
       "      <td>0</td>\n",
       "      <td>0</td>\n",
       "      <td>0</td>\n",
       "    </tr>\n",
       "  </tbody>\n",
       "</table>\n",
       "<p>5 rows × 57 columns</p>\n",
       "</div>"
      ],
      "text/plain": [
       "            Owned by Trust?  Owned by Business?          SITEADDRESS  \\\n",
       "PARCEL                                                                 \n",
       "5085010022                0                   0  1030 S Dunsmuir Ave   \n",
       "5085033008                0                   0   1364 S Ridgeley Dr   \n",
       "5085032022                0                   0     1322 Hauser Blvd   \n",
       "5510005006                1                   0      6727 Drexel Ave   \n",
       "5089024002                0                   0    942 S Cochran Ave   \n",
       "\n",
       "            MAIL DIFFERENT FROM SITE?  MAIL OUTSIDE CA?  TITLECO1  ASSDTOTAL  \\\n",
       "PARCEL                                                                         \n",
       "5085010022                          0                 0         1    1157385   \n",
       "5085033008                          1                 0         0      57047   \n",
       "5085032022                          0                 0         1     651485   \n",
       "5510005006                          1                 0         0      85697   \n",
       "5089024002                          0                 0         0      62487   \n",
       "\n",
       "            ASSDLAND  ASSDSTCT  ASSDOTHR  ...  NAME CHANGE  Other  \\\n",
       "PARCEL                                    ...                       \n",
       "5085010022    925908    231477         0  ...            0      0   \n",
       "5085033008     40994     16053         0  ...            0      0   \n",
       "5085032022    521193    130292         0  ...            0      0   \n",
       "5510005006     74539     11158         0  ...            0      0   \n",
       "5089024002     42013     20474         0  ...            0      0   \n",
       "\n",
       "            PARTNERSHIP  PERSONAL REP  QUIT CLAIM  RE-RECORD  TAX DEED  \\\n",
       "PARCEL                                                                   \n",
       "5085010022            0             0           0          0         0   \n",
       "5085033008            0             0           0          0         0   \n",
       "5085032022            0             0           0          0         0   \n",
       "5510005006            0             0           0          0         0   \n",
       "5089024002            0             0           0          0         0   \n",
       "\n",
       "            TRUST TRANSFER  TRUSTEES  WARRANTY  \n",
       "PARCEL                                          \n",
       "5085010022               0         0         0  \n",
       "5085033008               0         0         0  \n",
       "5085032022               0         0         0  \n",
       "5510005006               0         0         0  \n",
       "5089024002               0         0         0  \n",
       "\n",
       "[5 rows x 57 columns]"
      ]
     },
     "execution_count": 1036,
     "metadata": {},
     "output_type": "execute_result"
    }
   ],
   "source": [
    "# bring in our dataframe\n",
    "\n",
    "Beverly_Grove_df = pd.read_csv(path, index_col='PARCEL')\n",
    "Beverly_Grove_df.head()"
   ]
  },
  {
   "cell_type": "code",
   "execution_count": 1037,
   "metadata": {},
   "outputs": [],
   "source": [
    "# drop any nulls\n",
    "\n",
    "Beverly_Grove_df = Beverly_Grove_df.dropna()"
   ]
  },
  {
   "cell_type": "code",
   "execution_count": 1038,
   "metadata": {},
   "outputs": [],
   "source": [
    "# Change the datatype of these two columns into ints\n",
    "\n",
    "Beverly_Grove_df['TAXAMT'] = Beverly_Grove_df['TAXAMT'].astype(int)\n",
    "Beverly_Grove_df['EFFYRBLT'] = Beverly_Grove_df['EFFYRBLT'].astype(int)"
   ]
  },
  {
   "cell_type": "code",
   "execution_count": 1039,
   "metadata": {},
   "outputs": [
    {
     "data": {
      "text/html": [
       "<div>\n",
       "<style scoped>\n",
       "    .dataframe tbody tr th:only-of-type {\n",
       "        vertical-align: middle;\n",
       "    }\n",
       "\n",
       "    .dataframe tbody tr th {\n",
       "        vertical-align: top;\n",
       "    }\n",
       "\n",
       "    .dataframe thead th {\n",
       "        text-align: right;\n",
       "    }\n",
       "</style>\n",
       "<table border=\"1\" class=\"dataframe\">\n",
       "  <thead>\n",
       "    <tr style=\"text-align: right;\">\n",
       "      <th></th>\n",
       "      <th>Owned by Trust?</th>\n",
       "      <th>Owned by Business?</th>\n",
       "      <th>SITEADDRESS</th>\n",
       "      <th>MAIL DIFFERENT FROM SITE?</th>\n",
       "      <th>MAIL OUTSIDE CA?</th>\n",
       "      <th>TITLECO1</th>\n",
       "      <th>ASSDTOTAL</th>\n",
       "      <th>ASSDLAND</th>\n",
       "      <th>ASSDSTCT</th>\n",
       "      <th>ASSDOTHR</th>\n",
       "      <th>...</th>\n",
       "      <th>NAME CHANGE</th>\n",
       "      <th>Other</th>\n",
       "      <th>PARTNERSHIP</th>\n",
       "      <th>PERSONAL REP</th>\n",
       "      <th>QUIT CLAIM</th>\n",
       "      <th>RE-RECORD</th>\n",
       "      <th>TAX DEED</th>\n",
       "      <th>TRUST TRANSFER</th>\n",
       "      <th>TRUSTEES</th>\n",
       "      <th>WARRANTY</th>\n",
       "    </tr>\n",
       "    <tr>\n",
       "      <th>PARCEL</th>\n",
       "      <th></th>\n",
       "      <th></th>\n",
       "      <th></th>\n",
       "      <th></th>\n",
       "      <th></th>\n",
       "      <th></th>\n",
       "      <th></th>\n",
       "      <th></th>\n",
       "      <th></th>\n",
       "      <th></th>\n",
       "      <th></th>\n",
       "      <th></th>\n",
       "      <th></th>\n",
       "      <th></th>\n",
       "      <th></th>\n",
       "      <th></th>\n",
       "      <th></th>\n",
       "      <th></th>\n",
       "      <th></th>\n",
       "      <th></th>\n",
       "      <th></th>\n",
       "    </tr>\n",
       "  </thead>\n",
       "  <tbody>\n",
       "    <tr>\n",
       "      <th>5085010022</th>\n",
       "      <td>0</td>\n",
       "      <td>0</td>\n",
       "      <td>1030 S Dunsmuir Ave</td>\n",
       "      <td>0</td>\n",
       "      <td>0</td>\n",
       "      <td>1</td>\n",
       "      <td>1157385</td>\n",
       "      <td>925908</td>\n",
       "      <td>231477</td>\n",
       "      <td>0</td>\n",
       "      <td>...</td>\n",
       "      <td>0</td>\n",
       "      <td>0</td>\n",
       "      <td>0</td>\n",
       "      <td>0</td>\n",
       "      <td>0</td>\n",
       "      <td>0</td>\n",
       "      <td>0</td>\n",
       "      <td>0</td>\n",
       "      <td>0</td>\n",
       "      <td>0</td>\n",
       "    </tr>\n",
       "    <tr>\n",
       "      <th>5085033008</th>\n",
       "      <td>0</td>\n",
       "      <td>0</td>\n",
       "      <td>1364 S Ridgeley Dr</td>\n",
       "      <td>1</td>\n",
       "      <td>0</td>\n",
       "      <td>0</td>\n",
       "      <td>57047</td>\n",
       "      <td>40994</td>\n",
       "      <td>16053</td>\n",
       "      <td>0</td>\n",
       "      <td>...</td>\n",
       "      <td>0</td>\n",
       "      <td>0</td>\n",
       "      <td>0</td>\n",
       "      <td>0</td>\n",
       "      <td>0</td>\n",
       "      <td>0</td>\n",
       "      <td>0</td>\n",
       "      <td>0</td>\n",
       "      <td>0</td>\n",
       "      <td>0</td>\n",
       "    </tr>\n",
       "    <tr>\n",
       "      <th>5085032022</th>\n",
       "      <td>0</td>\n",
       "      <td>0</td>\n",
       "      <td>1322 Hauser Blvd</td>\n",
       "      <td>0</td>\n",
       "      <td>0</td>\n",
       "      <td>1</td>\n",
       "      <td>651485</td>\n",
       "      <td>521193</td>\n",
       "      <td>130292</td>\n",
       "      <td>0</td>\n",
       "      <td>...</td>\n",
       "      <td>0</td>\n",
       "      <td>0</td>\n",
       "      <td>0</td>\n",
       "      <td>0</td>\n",
       "      <td>0</td>\n",
       "      <td>0</td>\n",
       "      <td>0</td>\n",
       "      <td>0</td>\n",
       "      <td>0</td>\n",
       "      <td>0</td>\n",
       "    </tr>\n",
       "  </tbody>\n",
       "</table>\n",
       "<p>3 rows × 57 columns</p>\n",
       "</div>"
      ],
      "text/plain": [
       "            Owned by Trust?  Owned by Business?          SITEADDRESS  \\\n",
       "PARCEL                                                                 \n",
       "5085010022                0                   0  1030 S Dunsmuir Ave   \n",
       "5085033008                0                   0   1364 S Ridgeley Dr   \n",
       "5085032022                0                   0     1322 Hauser Blvd   \n",
       "\n",
       "            MAIL DIFFERENT FROM SITE?  MAIL OUTSIDE CA?  TITLECO1  ASSDTOTAL  \\\n",
       "PARCEL                                                                         \n",
       "5085010022                          0                 0         1    1157385   \n",
       "5085033008                          1                 0         0      57047   \n",
       "5085032022                          0                 0         1     651485   \n",
       "\n",
       "            ASSDLAND  ASSDSTCT  ASSDOTHR  ...  NAME CHANGE  Other  \\\n",
       "PARCEL                                    ...                       \n",
       "5085010022    925908    231477         0  ...            0      0   \n",
       "5085033008     40994     16053         0  ...            0      0   \n",
       "5085032022    521193    130292         0  ...            0      0   \n",
       "\n",
       "            PARTNERSHIP  PERSONAL REP  QUIT CLAIM  RE-RECORD  TAX DEED  \\\n",
       "PARCEL                                                                   \n",
       "5085010022            0             0           0          0         0   \n",
       "5085033008            0             0           0          0         0   \n",
       "5085032022            0             0           0          0         0   \n",
       "\n",
       "            TRUST TRANSFER  TRUSTEES  WARRANTY  \n",
       "PARCEL                                          \n",
       "5085010022               0         0         0  \n",
       "5085033008               0         0         0  \n",
       "5085032022               0         0         0  \n",
       "\n",
       "[3 rows x 57 columns]"
      ]
     },
     "execution_count": 1039,
     "metadata": {},
     "output_type": "execute_result"
    }
   ],
   "source": [
    "# Make sure our dataframe is only SFR's so exclude every property that has an '#' in its site address\n",
    "\n",
    "Beverly_Grove_df = Beverly_Grove_df[~Beverly_Grove_df['SITEADDRESS'].str.contains('#')]\n",
    "Beverly_Grove_df.head(3)"
   ]
  },
  {
   "cell_type": "code",
   "execution_count": 1040,
   "metadata": {},
   "outputs": [],
   "source": [
    "# Now drop the SiteAddress column\n",
    "Beverly_Grove_df.drop(['SITEADDRESS'], axis=1, inplace=True)"
   ]
  },
  {
   "cell_type": "code",
   "execution_count": 1041,
   "metadata": {},
   "outputs": [
    {
     "data": {
      "text/html": [
       "<div>\n",
       "<style scoped>\n",
       "    .dataframe tbody tr th:only-of-type {\n",
       "        vertical-align: middle;\n",
       "    }\n",
       "\n",
       "    .dataframe tbody tr th {\n",
       "        vertical-align: top;\n",
       "    }\n",
       "\n",
       "    .dataframe thead th {\n",
       "        text-align: right;\n",
       "    }\n",
       "</style>\n",
       "<table border=\"1\" class=\"dataframe\">\n",
       "  <thead>\n",
       "    <tr style=\"text-align: right;\">\n",
       "      <th></th>\n",
       "      <th>Owned by Trust?</th>\n",
       "      <th>Owned by Business?</th>\n",
       "      <th>MAIL DIFFERENT FROM SITE?</th>\n",
       "      <th>MAIL OUTSIDE CA?</th>\n",
       "      <th>TITLECO1</th>\n",
       "      <th>ASSDTOTAL</th>\n",
       "      <th>ASSDLAND</th>\n",
       "      <th>ASSDSTCT</th>\n",
       "      <th>ASSDOTHR</th>\n",
       "      <th>EXEMPTCD</th>\n",
       "      <th>...</th>\n",
       "      <th>NAME CHANGE</th>\n",
       "      <th>Other</th>\n",
       "      <th>PARTNERSHIP</th>\n",
       "      <th>PERSONAL REP</th>\n",
       "      <th>QUIT CLAIM</th>\n",
       "      <th>RE-RECORD</th>\n",
       "      <th>TAX DEED</th>\n",
       "      <th>TRUST TRANSFER</th>\n",
       "      <th>TRUSTEES</th>\n",
       "      <th>WARRANTY</th>\n",
       "    </tr>\n",
       "    <tr>\n",
       "      <th>PARCEL</th>\n",
       "      <th></th>\n",
       "      <th></th>\n",
       "      <th></th>\n",
       "      <th></th>\n",
       "      <th></th>\n",
       "      <th></th>\n",
       "      <th></th>\n",
       "      <th></th>\n",
       "      <th></th>\n",
       "      <th></th>\n",
       "      <th></th>\n",
       "      <th></th>\n",
       "      <th></th>\n",
       "      <th></th>\n",
       "      <th></th>\n",
       "      <th></th>\n",
       "      <th></th>\n",
       "      <th></th>\n",
       "      <th></th>\n",
       "      <th></th>\n",
       "      <th></th>\n",
       "    </tr>\n",
       "  </thead>\n",
       "  <tbody>\n",
       "    <tr>\n",
       "      <th>5085010022</th>\n",
       "      <td>0</td>\n",
       "      <td>0</td>\n",
       "      <td>0</td>\n",
       "      <td>0</td>\n",
       "      <td>1</td>\n",
       "      <td>1157385</td>\n",
       "      <td>925908</td>\n",
       "      <td>231477</td>\n",
       "      <td>0</td>\n",
       "      <td>0</td>\n",
       "      <td>...</td>\n",
       "      <td>0</td>\n",
       "      <td>0</td>\n",
       "      <td>0</td>\n",
       "      <td>0</td>\n",
       "      <td>0</td>\n",
       "      <td>0</td>\n",
       "      <td>0</td>\n",
       "      <td>0</td>\n",
       "      <td>0</td>\n",
       "      <td>0</td>\n",
       "    </tr>\n",
       "    <tr>\n",
       "      <th>5085033008</th>\n",
       "      <td>0</td>\n",
       "      <td>0</td>\n",
       "      <td>1</td>\n",
       "      <td>0</td>\n",
       "      <td>0</td>\n",
       "      <td>57047</td>\n",
       "      <td>40994</td>\n",
       "      <td>16053</td>\n",
       "      <td>0</td>\n",
       "      <td>0</td>\n",
       "      <td>...</td>\n",
       "      <td>0</td>\n",
       "      <td>0</td>\n",
       "      <td>0</td>\n",
       "      <td>0</td>\n",
       "      <td>0</td>\n",
       "      <td>0</td>\n",
       "      <td>0</td>\n",
       "      <td>0</td>\n",
       "      <td>0</td>\n",
       "      <td>0</td>\n",
       "    </tr>\n",
       "    <tr>\n",
       "      <th>5085032022</th>\n",
       "      <td>0</td>\n",
       "      <td>0</td>\n",
       "      <td>0</td>\n",
       "      <td>0</td>\n",
       "      <td>1</td>\n",
       "      <td>651485</td>\n",
       "      <td>521193</td>\n",
       "      <td>130292</td>\n",
       "      <td>0</td>\n",
       "      <td>1</td>\n",
       "      <td>...</td>\n",
       "      <td>0</td>\n",
       "      <td>0</td>\n",
       "      <td>0</td>\n",
       "      <td>0</td>\n",
       "      <td>0</td>\n",
       "      <td>0</td>\n",
       "      <td>0</td>\n",
       "      <td>0</td>\n",
       "      <td>0</td>\n",
       "      <td>0</td>\n",
       "    </tr>\n",
       "  </tbody>\n",
       "</table>\n",
       "<p>3 rows × 56 columns</p>\n",
       "</div>"
      ],
      "text/plain": [
       "            Owned by Trust?  Owned by Business?  MAIL DIFFERENT FROM SITE?  \\\n",
       "PARCEL                                                                       \n",
       "5085010022                0                   0                          0   \n",
       "5085033008                0                   0                          1   \n",
       "5085032022                0                   0                          0   \n",
       "\n",
       "            MAIL OUTSIDE CA?  TITLECO1  ASSDTOTAL  ASSDLAND  ASSDSTCT  \\\n",
       "PARCEL                                                                  \n",
       "5085010022                 0         1    1157385    925908    231477   \n",
       "5085033008                 0         0      57047     40994     16053   \n",
       "5085032022                 0         1     651485    521193    130292   \n",
       "\n",
       "            ASSDOTHR  EXEMPTCD  ...  NAME CHANGE  Other  PARTNERSHIP  \\\n",
       "PARCEL                          ...                                    \n",
       "5085010022         0         0  ...            0      0            0   \n",
       "5085033008         0         0  ...            0      0            0   \n",
       "5085032022         0         1  ...            0      0            0   \n",
       "\n",
       "            PERSONAL REP  QUIT CLAIM  RE-RECORD  TAX DEED  TRUST TRANSFER  \\\n",
       "PARCEL                                                                      \n",
       "5085010022             0           0          0         0               0   \n",
       "5085033008             0           0          0         0               0   \n",
       "5085032022             0           0          0         0               0   \n",
       "\n",
       "            TRUSTEES  WARRANTY  \n",
       "PARCEL                          \n",
       "5085010022         0         0  \n",
       "5085033008         0         0  \n",
       "5085032022         0         0  \n",
       "\n",
       "[3 rows x 56 columns]"
      ]
     },
     "execution_count": 1041,
     "metadata": {},
     "output_type": "execute_result"
    }
   ],
   "source": [
    "Beverly_Grove_df.head(3)"
   ]
  },
  {
   "cell_type": "code",
   "execution_count": 1042,
   "metadata": {},
   "outputs": [],
   "source": [
    "# Step 1: Create our X and y\n",
    "\n",
    "y = Beverly_Grove_df['Did it sell?']\n",
    "X = Beverly_Grove_df.drop(['Did it sell?'], 1)"
   ]
  },
  {
   "cell_type": "code",
   "execution_count": 1043,
   "metadata": {},
   "outputs": [
    {
     "data": {
      "text/plain": [
       "array([5085010022, 5085033008, 5085032022, ..., 5510018012, 5510017023,\n",
       "       5514001029])"
      ]
     },
     "execution_count": 1043,
     "metadata": {},
     "output_type": "execute_result"
    }
   ],
   "source": [
    "APN = Beverly_Grove_df.index.values\n",
    "APN"
   ]
  },
  {
   "cell_type": "code",
   "execution_count": 1044,
   "metadata": {},
   "outputs": [],
   "source": [
    "# Step 2: Use PCA to reduce dimension to three principal components.\n",
    "from sklearn.decomposition import PCA\n",
    "\n",
    "pca = PCA(n_components=3)\n",
    "X_pca = pca.fit_transform(X)"
   ]
  },
  {
   "cell_type": "code",
   "execution_count": 1045,
   "metadata": {},
   "outputs": [
    {
     "data": {
      "text/plain": [
       "array([[ 1037442.40088322,   222949.0619781 ,    99008.44211245],\n",
       "       [ -932464.7141857 ,   251848.62995472,   -90439.60157539],\n",
       "       [ -393042.03210882,  -290764.40544306,   -27460.470998  ],\n",
       "       ...,\n",
       "       [ -314557.49024403,  -369458.72763661,   -27020.9155848 ],\n",
       "       [ 2038277.22062523,   419857.55993186, -1288530.60059949],\n",
       "       [ -962055.78924987,   281605.81570128,   -93574.2647082 ]])"
      ]
     },
     "execution_count": 1045,
     "metadata": {},
     "output_type": "execute_result"
    }
   ],
   "source": [
    "X_pca"
   ]
  },
  {
   "cell_type": "code",
   "execution_count": 1046,
   "metadata": {},
   "outputs": [],
   "source": [
    "# Step 3: Train, test, split\n",
    "\n",
    "X_train, X_test, y_train, y_test = train_test_split(X_pca, y, random_state=78, stratify=y)"
   ]
  },
  {
   "cell_type": "code",
   "execution_count": 1047,
   "metadata": {},
   "outputs": [],
   "source": [
    "# Step 4: Scale our data\n",
    "\n",
    "# Create the StandardScaler instance\n",
    "scaler = StandardScaler()\n",
    "\n",
    "# Fit our scaler, named 'scaler' to our data, which produces a new StandardScaler object\n",
    "# which we call 'X_scaler'\n",
    "X_scaler = scaler.fit(X_train)\n",
    "\n",
    "# Scale the data\n",
    "X_train_scaled = X_scaler.transform(X_train)\n",
    "X_test_scaled = X_scaler.transform(X_test)"
   ]
  },
  {
   "cell_type": "code",
   "execution_count": 1048,
   "metadata": {},
   "outputs": [],
   "source": [
    "X_train_scaled_APN = []"
   ]
  },
  {
   "cell_type": "code",
   "execution_count": 1049,
   "metadata": {},
   "outputs": [
    {
     "data": {
      "text/plain": [
       "Counter({0: 1542, 1: 1893})"
      ]
     },
     "execution_count": 1049,
     "metadata": {},
     "output_type": "execute_result"
    }
   ],
   "source": [
    "from imblearn.combine import SMOTEENN\n",
    "\n",
    "smote_enn = SMOTEENN(random_state=0)\n",
    "X_resampled, y_resampled = smote_enn.fit_resample(X_train_scaled, y_train)\n",
    "Counter(y_resampled)"
   ]
  },
  {
   "cell_type": "code",
   "execution_count": 1050,
   "metadata": {},
   "outputs": [
    {
     "data": {
      "text/plain": [
       "LogisticRegression(class_weight='balanced', max_iter=300, random_state=78)"
      ]
     },
     "execution_count": 1050,
     "metadata": {},
     "output_type": "execute_result"
    }
   ],
   "source": [
    "model_8 = LogisticRegression(solver='lbfgs', random_state=78, max_iter=300, class_weight=\"balanced\")\n",
    "model_8.fit(X_resampled, y_resampled)"
   ]
  },
  {
   "cell_type": "code",
   "execution_count": 1051,
   "metadata": {},
   "outputs": [],
   "source": [
    "# Calculated the balanced accuracy score\n",
    "y_pred = model_8.predict(X_test_scaled)"
   ]
  },
  {
   "cell_type": "code",
   "execution_count": 1052,
   "metadata": {},
   "outputs": [
    {
     "data": {
      "text/plain": [
       "0.4869221411192214"
      ]
     },
     "execution_count": 1052,
     "metadata": {},
     "output_type": "execute_result"
    }
   ],
   "source": [
    "from sklearn.metrics import balanced_accuracy_score\n",
    "balanced_accuracy_score(y_test, y_pred)"
   ]
  },
  {
   "cell_type": "code",
   "execution_count": 1053,
   "metadata": {},
   "outputs": [
    {
     "name": "stdout",
     "output_type": "stream",
     "text": [
      " PCA + SMOTEEN + Logistic Regression Accuracy was: 0.619\n"
     ]
    }
   ],
   "source": [
    "print(f\" PCA + SMOTEEN + Logistic Regression Accuracy was: {accuracy_score(y_test, y_pred):.3f}\")"
   ]
  },
  {
   "cell_type": "code",
   "execution_count": 1054,
   "metadata": {},
   "outputs": [
    {
     "data": {
      "text/plain": [
       "0.7133305329304763"
      ]
     },
     "execution_count": 1054,
     "metadata": {},
     "output_type": "execute_result"
    }
   ],
   "source": [
    "f1_score(y_test, y_pred, average=\"weighted\")"
   ]
  },
  {
   "cell_type": "code",
   "execution_count": 1055,
   "metadata": {},
   "outputs": [
    {
     "data": {
      "text/plain": [
       "array([[702, 394],\n",
       "       [ 54,  27]])"
      ]
     },
     "execution_count": 1055,
     "metadata": {},
     "output_type": "execute_result"
    }
   ],
   "source": [
    "confusion_matrix(y_test, y_pred)"
   ]
  },
  {
   "cell_type": "code",
   "execution_count": 183,
   "metadata": {},
   "outputs": [
    {
     "name": "stdout",
     "output_type": "stream",
     "text": [
      "              precision    recall  f1-score   support\n",
      "\n",
      "           0       0.93      0.64      0.76      1096\n",
      "           1       0.06      0.33      0.11        81\n",
      "\n",
      "    accuracy                           0.62      1177\n",
      "   macro avg       0.50      0.49      0.43      1177\n",
      "weighted avg       0.87      0.62      0.71      1177\n",
      "\n"
     ]
    }
   ],
   "source": [
    "# evaluate\n",
    "print(classification_report(y_test, y_pred))"
   ]
  },
  {
   "cell_type": "markdown",
   "metadata": {},
   "source": [
    "# Attempt 15: PCA + Undersampling (Centroid Clustering) + Logistic Regression"
   ]
  },
  {
   "cell_type": "code",
   "execution_count": 184,
   "metadata": {},
   "outputs": [
    {
     "data": {
      "text/html": [
       "<div>\n",
       "<style scoped>\n",
       "    .dataframe tbody tr th:only-of-type {\n",
       "        vertical-align: middle;\n",
       "    }\n",
       "\n",
       "    .dataframe tbody tr th {\n",
       "        vertical-align: top;\n",
       "    }\n",
       "\n",
       "    .dataframe thead th {\n",
       "        text-align: right;\n",
       "    }\n",
       "</style>\n",
       "<table border=\"1\" class=\"dataframe\">\n",
       "  <thead>\n",
       "    <tr style=\"text-align: right;\">\n",
       "      <th></th>\n",
       "      <th>Owned by Trust?</th>\n",
       "      <th>Owned by Business?</th>\n",
       "      <th>SITEADDRESS</th>\n",
       "      <th>MAIL DIFFERENT FROM SITE?</th>\n",
       "      <th>MAIL OUTSIDE CA?</th>\n",
       "      <th>TITLECO1</th>\n",
       "      <th>ASSDTOTAL</th>\n",
       "      <th>ASSDLAND</th>\n",
       "      <th>ASSDSTCT</th>\n",
       "      <th>ASSDOTHR</th>\n",
       "      <th>...</th>\n",
       "      <th>NAME CHANGE</th>\n",
       "      <th>Other</th>\n",
       "      <th>PARTNERSHIP</th>\n",
       "      <th>PERSONAL REP</th>\n",
       "      <th>QUIT CLAIM</th>\n",
       "      <th>RE-RECORD</th>\n",
       "      <th>TAX DEED</th>\n",
       "      <th>TRUST TRANSFER</th>\n",
       "      <th>TRUSTEES</th>\n",
       "      <th>WARRANTY</th>\n",
       "    </tr>\n",
       "    <tr>\n",
       "      <th>PARCEL</th>\n",
       "      <th></th>\n",
       "      <th></th>\n",
       "      <th></th>\n",
       "      <th></th>\n",
       "      <th></th>\n",
       "      <th></th>\n",
       "      <th></th>\n",
       "      <th></th>\n",
       "      <th></th>\n",
       "      <th></th>\n",
       "      <th></th>\n",
       "      <th></th>\n",
       "      <th></th>\n",
       "      <th></th>\n",
       "      <th></th>\n",
       "      <th></th>\n",
       "      <th></th>\n",
       "      <th></th>\n",
       "      <th></th>\n",
       "      <th></th>\n",
       "      <th></th>\n",
       "    </tr>\n",
       "  </thead>\n",
       "  <tbody>\n",
       "    <tr>\n",
       "      <th>5085010022</th>\n",
       "      <td>0</td>\n",
       "      <td>0</td>\n",
       "      <td>1030 S Dunsmuir Ave</td>\n",
       "      <td>0</td>\n",
       "      <td>0</td>\n",
       "      <td>1</td>\n",
       "      <td>1157385</td>\n",
       "      <td>925908</td>\n",
       "      <td>231477</td>\n",
       "      <td>0</td>\n",
       "      <td>...</td>\n",
       "      <td>0</td>\n",
       "      <td>0</td>\n",
       "      <td>0</td>\n",
       "      <td>0</td>\n",
       "      <td>0</td>\n",
       "      <td>0</td>\n",
       "      <td>0</td>\n",
       "      <td>0</td>\n",
       "      <td>0</td>\n",
       "      <td>0</td>\n",
       "    </tr>\n",
       "    <tr>\n",
       "      <th>5085033008</th>\n",
       "      <td>0</td>\n",
       "      <td>0</td>\n",
       "      <td>1364 S Ridgeley Dr</td>\n",
       "      <td>1</td>\n",
       "      <td>0</td>\n",
       "      <td>0</td>\n",
       "      <td>57047</td>\n",
       "      <td>40994</td>\n",
       "      <td>16053</td>\n",
       "      <td>0</td>\n",
       "      <td>...</td>\n",
       "      <td>0</td>\n",
       "      <td>0</td>\n",
       "      <td>0</td>\n",
       "      <td>0</td>\n",
       "      <td>0</td>\n",
       "      <td>0</td>\n",
       "      <td>0</td>\n",
       "      <td>0</td>\n",
       "      <td>0</td>\n",
       "      <td>0</td>\n",
       "    </tr>\n",
       "    <tr>\n",
       "      <th>5085032022</th>\n",
       "      <td>0</td>\n",
       "      <td>0</td>\n",
       "      <td>1322 Hauser Blvd</td>\n",
       "      <td>0</td>\n",
       "      <td>0</td>\n",
       "      <td>1</td>\n",
       "      <td>651485</td>\n",
       "      <td>521193</td>\n",
       "      <td>130292</td>\n",
       "      <td>0</td>\n",
       "      <td>...</td>\n",
       "      <td>0</td>\n",
       "      <td>0</td>\n",
       "      <td>0</td>\n",
       "      <td>0</td>\n",
       "      <td>0</td>\n",
       "      <td>0</td>\n",
       "      <td>0</td>\n",
       "      <td>0</td>\n",
       "      <td>0</td>\n",
       "      <td>0</td>\n",
       "    </tr>\n",
       "    <tr>\n",
       "      <th>5510005006</th>\n",
       "      <td>1</td>\n",
       "      <td>0</td>\n",
       "      <td>6727 Drexel Ave</td>\n",
       "      <td>1</td>\n",
       "      <td>0</td>\n",
       "      <td>0</td>\n",
       "      <td>85697</td>\n",
       "      <td>74539</td>\n",
       "      <td>11158</td>\n",
       "      <td>0</td>\n",
       "      <td>...</td>\n",
       "      <td>0</td>\n",
       "      <td>0</td>\n",
       "      <td>0</td>\n",
       "      <td>0</td>\n",
       "      <td>0</td>\n",
       "      <td>0</td>\n",
       "      <td>0</td>\n",
       "      <td>0</td>\n",
       "      <td>0</td>\n",
       "      <td>0</td>\n",
       "    </tr>\n",
       "    <tr>\n",
       "      <th>5089024002</th>\n",
       "      <td>0</td>\n",
       "      <td>0</td>\n",
       "      <td>942 S Cochran Ave</td>\n",
       "      <td>0</td>\n",
       "      <td>0</td>\n",
       "      <td>0</td>\n",
       "      <td>62487</td>\n",
       "      <td>42013</td>\n",
       "      <td>20474</td>\n",
       "      <td>0</td>\n",
       "      <td>...</td>\n",
       "      <td>0</td>\n",
       "      <td>0</td>\n",
       "      <td>0</td>\n",
       "      <td>0</td>\n",
       "      <td>0</td>\n",
       "      <td>0</td>\n",
       "      <td>0</td>\n",
       "      <td>0</td>\n",
       "      <td>0</td>\n",
       "      <td>0</td>\n",
       "    </tr>\n",
       "  </tbody>\n",
       "</table>\n",
       "<p>5 rows × 57 columns</p>\n",
       "</div>"
      ],
      "text/plain": [
       "            Owned by Trust?  Owned by Business?          SITEADDRESS  \\\n",
       "PARCEL                                                                 \n",
       "5085010022                0                   0  1030 S Dunsmuir Ave   \n",
       "5085033008                0                   0   1364 S Ridgeley Dr   \n",
       "5085032022                0                   0     1322 Hauser Blvd   \n",
       "5510005006                1                   0      6727 Drexel Ave   \n",
       "5089024002                0                   0    942 S Cochran Ave   \n",
       "\n",
       "            MAIL DIFFERENT FROM SITE?  MAIL OUTSIDE CA?  TITLECO1  ASSDTOTAL  \\\n",
       "PARCEL                                                                         \n",
       "5085010022                          0                 0         1    1157385   \n",
       "5085033008                          1                 0         0      57047   \n",
       "5085032022                          0                 0         1     651485   \n",
       "5510005006                          1                 0         0      85697   \n",
       "5089024002                          0                 0         0      62487   \n",
       "\n",
       "            ASSDLAND  ASSDSTCT  ASSDOTHR  ...  NAME CHANGE  Other  \\\n",
       "PARCEL                                    ...                       \n",
       "5085010022    925908    231477         0  ...            0      0   \n",
       "5085033008     40994     16053         0  ...            0      0   \n",
       "5085032022    521193    130292         0  ...            0      0   \n",
       "5510005006     74539     11158         0  ...            0      0   \n",
       "5089024002     42013     20474         0  ...            0      0   \n",
       "\n",
       "            PARTNERSHIP  PERSONAL REP  QUIT CLAIM  RE-RECORD  TAX DEED  \\\n",
       "PARCEL                                                                   \n",
       "5085010022            0             0           0          0         0   \n",
       "5085033008            0             0           0          0         0   \n",
       "5085032022            0             0           0          0         0   \n",
       "5510005006            0             0           0          0         0   \n",
       "5089024002            0             0           0          0         0   \n",
       "\n",
       "            TRUST TRANSFER  TRUSTEES  WARRANTY  \n",
       "PARCEL                                          \n",
       "5085010022               0         0         0  \n",
       "5085033008               0         0         0  \n",
       "5085032022               0         0         0  \n",
       "5510005006               0         0         0  \n",
       "5089024002               0         0         0  \n",
       "\n",
       "[5 rows x 57 columns]"
      ]
     },
     "execution_count": 184,
     "metadata": {},
     "output_type": "execute_result"
    }
   ],
   "source": [
    "# bring in our dataframe\n",
    "\n",
    "Beverly_Grove_df = pd.read_csv(path, index_col='PARCEL')\n",
    "Beverly_Grove_df.head()"
   ]
  },
  {
   "cell_type": "code",
   "execution_count": 185,
   "metadata": {},
   "outputs": [],
   "source": [
    "# drop any nulls\n",
    "\n",
    "Beverly_Grove_df = Beverly_Grove_df.dropna()"
   ]
  },
  {
   "cell_type": "code",
   "execution_count": 186,
   "metadata": {},
   "outputs": [],
   "source": [
    "# Change the datatype of these two columns into ints\n",
    "\n",
    "Beverly_Grove_df['TAXAMT'] = Beverly_Grove_df['TAXAMT'].astype(int)\n",
    "Beverly_Grove_df['EFFYRBLT'] = Beverly_Grove_df['EFFYRBLT'].astype(int)"
   ]
  },
  {
   "cell_type": "code",
   "execution_count": 187,
   "metadata": {},
   "outputs": [
    {
     "data": {
      "text/html": [
       "<div>\n",
       "<style scoped>\n",
       "    .dataframe tbody tr th:only-of-type {\n",
       "        vertical-align: middle;\n",
       "    }\n",
       "\n",
       "    .dataframe tbody tr th {\n",
       "        vertical-align: top;\n",
       "    }\n",
       "\n",
       "    .dataframe thead th {\n",
       "        text-align: right;\n",
       "    }\n",
       "</style>\n",
       "<table border=\"1\" class=\"dataframe\">\n",
       "  <thead>\n",
       "    <tr style=\"text-align: right;\">\n",
       "      <th></th>\n",
       "      <th>Owned by Trust?</th>\n",
       "      <th>Owned by Business?</th>\n",
       "      <th>SITEADDRESS</th>\n",
       "      <th>MAIL DIFFERENT FROM SITE?</th>\n",
       "      <th>MAIL OUTSIDE CA?</th>\n",
       "      <th>TITLECO1</th>\n",
       "      <th>ASSDTOTAL</th>\n",
       "      <th>ASSDLAND</th>\n",
       "      <th>ASSDSTCT</th>\n",
       "      <th>ASSDOTHR</th>\n",
       "      <th>...</th>\n",
       "      <th>NAME CHANGE</th>\n",
       "      <th>Other</th>\n",
       "      <th>PARTNERSHIP</th>\n",
       "      <th>PERSONAL REP</th>\n",
       "      <th>QUIT CLAIM</th>\n",
       "      <th>RE-RECORD</th>\n",
       "      <th>TAX DEED</th>\n",
       "      <th>TRUST TRANSFER</th>\n",
       "      <th>TRUSTEES</th>\n",
       "      <th>WARRANTY</th>\n",
       "    </tr>\n",
       "    <tr>\n",
       "      <th>PARCEL</th>\n",
       "      <th></th>\n",
       "      <th></th>\n",
       "      <th></th>\n",
       "      <th></th>\n",
       "      <th></th>\n",
       "      <th></th>\n",
       "      <th></th>\n",
       "      <th></th>\n",
       "      <th></th>\n",
       "      <th></th>\n",
       "      <th></th>\n",
       "      <th></th>\n",
       "      <th></th>\n",
       "      <th></th>\n",
       "      <th></th>\n",
       "      <th></th>\n",
       "      <th></th>\n",
       "      <th></th>\n",
       "      <th></th>\n",
       "      <th></th>\n",
       "      <th></th>\n",
       "    </tr>\n",
       "  </thead>\n",
       "  <tbody>\n",
       "    <tr>\n",
       "      <th>5085010022</th>\n",
       "      <td>0</td>\n",
       "      <td>0</td>\n",
       "      <td>1030 S Dunsmuir Ave</td>\n",
       "      <td>0</td>\n",
       "      <td>0</td>\n",
       "      <td>1</td>\n",
       "      <td>1157385</td>\n",
       "      <td>925908</td>\n",
       "      <td>231477</td>\n",
       "      <td>0</td>\n",
       "      <td>...</td>\n",
       "      <td>0</td>\n",
       "      <td>0</td>\n",
       "      <td>0</td>\n",
       "      <td>0</td>\n",
       "      <td>0</td>\n",
       "      <td>0</td>\n",
       "      <td>0</td>\n",
       "      <td>0</td>\n",
       "      <td>0</td>\n",
       "      <td>0</td>\n",
       "    </tr>\n",
       "    <tr>\n",
       "      <th>5085033008</th>\n",
       "      <td>0</td>\n",
       "      <td>0</td>\n",
       "      <td>1364 S Ridgeley Dr</td>\n",
       "      <td>1</td>\n",
       "      <td>0</td>\n",
       "      <td>0</td>\n",
       "      <td>57047</td>\n",
       "      <td>40994</td>\n",
       "      <td>16053</td>\n",
       "      <td>0</td>\n",
       "      <td>...</td>\n",
       "      <td>0</td>\n",
       "      <td>0</td>\n",
       "      <td>0</td>\n",
       "      <td>0</td>\n",
       "      <td>0</td>\n",
       "      <td>0</td>\n",
       "      <td>0</td>\n",
       "      <td>0</td>\n",
       "      <td>0</td>\n",
       "      <td>0</td>\n",
       "    </tr>\n",
       "    <tr>\n",
       "      <th>5085032022</th>\n",
       "      <td>0</td>\n",
       "      <td>0</td>\n",
       "      <td>1322 Hauser Blvd</td>\n",
       "      <td>0</td>\n",
       "      <td>0</td>\n",
       "      <td>1</td>\n",
       "      <td>651485</td>\n",
       "      <td>521193</td>\n",
       "      <td>130292</td>\n",
       "      <td>0</td>\n",
       "      <td>...</td>\n",
       "      <td>0</td>\n",
       "      <td>0</td>\n",
       "      <td>0</td>\n",
       "      <td>0</td>\n",
       "      <td>0</td>\n",
       "      <td>0</td>\n",
       "      <td>0</td>\n",
       "      <td>0</td>\n",
       "      <td>0</td>\n",
       "      <td>0</td>\n",
       "    </tr>\n",
       "  </tbody>\n",
       "</table>\n",
       "<p>3 rows × 57 columns</p>\n",
       "</div>"
      ],
      "text/plain": [
       "            Owned by Trust?  Owned by Business?          SITEADDRESS  \\\n",
       "PARCEL                                                                 \n",
       "5085010022                0                   0  1030 S Dunsmuir Ave   \n",
       "5085033008                0                   0   1364 S Ridgeley Dr   \n",
       "5085032022                0                   0     1322 Hauser Blvd   \n",
       "\n",
       "            MAIL DIFFERENT FROM SITE?  MAIL OUTSIDE CA?  TITLECO1  ASSDTOTAL  \\\n",
       "PARCEL                                                                         \n",
       "5085010022                          0                 0         1    1157385   \n",
       "5085033008                          1                 0         0      57047   \n",
       "5085032022                          0                 0         1     651485   \n",
       "\n",
       "            ASSDLAND  ASSDSTCT  ASSDOTHR  ...  NAME CHANGE  Other  \\\n",
       "PARCEL                                    ...                       \n",
       "5085010022    925908    231477         0  ...            0      0   \n",
       "5085033008     40994     16053         0  ...            0      0   \n",
       "5085032022    521193    130292         0  ...            0      0   \n",
       "\n",
       "            PARTNERSHIP  PERSONAL REP  QUIT CLAIM  RE-RECORD  TAX DEED  \\\n",
       "PARCEL                                                                   \n",
       "5085010022            0             0           0          0         0   \n",
       "5085033008            0             0           0          0         0   \n",
       "5085032022            0             0           0          0         0   \n",
       "\n",
       "            TRUST TRANSFER  TRUSTEES  WARRANTY  \n",
       "PARCEL                                          \n",
       "5085010022               0         0         0  \n",
       "5085033008               0         0         0  \n",
       "5085032022               0         0         0  \n",
       "\n",
       "[3 rows x 57 columns]"
      ]
     },
     "execution_count": 187,
     "metadata": {},
     "output_type": "execute_result"
    }
   ],
   "source": [
    "# Make sure our dataframe is only SFR's so exclude every property that has an '#' in its site address\n",
    "\n",
    "Beverly_Grove_df = Beverly_Grove_df[~Beverly_Grove_df['SITEADDRESS'].str.contains('#')]\n",
    "Beverly_Grove_df.head(3)"
   ]
  },
  {
   "cell_type": "code",
   "execution_count": 188,
   "metadata": {},
   "outputs": [],
   "source": [
    "# Now drop the SiteAddress column\n",
    "Beverly_Grove_df.drop(['SITEADDRESS'], axis=1, inplace=True)"
   ]
  },
  {
   "cell_type": "code",
   "execution_count": 189,
   "metadata": {},
   "outputs": [
    {
     "data": {
      "text/html": [
       "<div>\n",
       "<style scoped>\n",
       "    .dataframe tbody tr th:only-of-type {\n",
       "        vertical-align: middle;\n",
       "    }\n",
       "\n",
       "    .dataframe tbody tr th {\n",
       "        vertical-align: top;\n",
       "    }\n",
       "\n",
       "    .dataframe thead th {\n",
       "        text-align: right;\n",
       "    }\n",
       "</style>\n",
       "<table border=\"1\" class=\"dataframe\">\n",
       "  <thead>\n",
       "    <tr style=\"text-align: right;\">\n",
       "      <th></th>\n",
       "      <th>Owned by Trust?</th>\n",
       "      <th>Owned by Business?</th>\n",
       "      <th>MAIL DIFFERENT FROM SITE?</th>\n",
       "      <th>MAIL OUTSIDE CA?</th>\n",
       "      <th>TITLECO1</th>\n",
       "      <th>ASSDTOTAL</th>\n",
       "      <th>ASSDLAND</th>\n",
       "      <th>ASSDSTCT</th>\n",
       "      <th>ASSDOTHR</th>\n",
       "      <th>EXEMPTCD</th>\n",
       "      <th>...</th>\n",
       "      <th>NAME CHANGE</th>\n",
       "      <th>Other</th>\n",
       "      <th>PARTNERSHIP</th>\n",
       "      <th>PERSONAL REP</th>\n",
       "      <th>QUIT CLAIM</th>\n",
       "      <th>RE-RECORD</th>\n",
       "      <th>TAX DEED</th>\n",
       "      <th>TRUST TRANSFER</th>\n",
       "      <th>TRUSTEES</th>\n",
       "      <th>WARRANTY</th>\n",
       "    </tr>\n",
       "    <tr>\n",
       "      <th>PARCEL</th>\n",
       "      <th></th>\n",
       "      <th></th>\n",
       "      <th></th>\n",
       "      <th></th>\n",
       "      <th></th>\n",
       "      <th></th>\n",
       "      <th></th>\n",
       "      <th></th>\n",
       "      <th></th>\n",
       "      <th></th>\n",
       "      <th></th>\n",
       "      <th></th>\n",
       "      <th></th>\n",
       "      <th></th>\n",
       "      <th></th>\n",
       "      <th></th>\n",
       "      <th></th>\n",
       "      <th></th>\n",
       "      <th></th>\n",
       "      <th></th>\n",
       "      <th></th>\n",
       "    </tr>\n",
       "  </thead>\n",
       "  <tbody>\n",
       "    <tr>\n",
       "      <th>5085010022</th>\n",
       "      <td>0</td>\n",
       "      <td>0</td>\n",
       "      <td>0</td>\n",
       "      <td>0</td>\n",
       "      <td>1</td>\n",
       "      <td>1157385</td>\n",
       "      <td>925908</td>\n",
       "      <td>231477</td>\n",
       "      <td>0</td>\n",
       "      <td>0</td>\n",
       "      <td>...</td>\n",
       "      <td>0</td>\n",
       "      <td>0</td>\n",
       "      <td>0</td>\n",
       "      <td>0</td>\n",
       "      <td>0</td>\n",
       "      <td>0</td>\n",
       "      <td>0</td>\n",
       "      <td>0</td>\n",
       "      <td>0</td>\n",
       "      <td>0</td>\n",
       "    </tr>\n",
       "    <tr>\n",
       "      <th>5085033008</th>\n",
       "      <td>0</td>\n",
       "      <td>0</td>\n",
       "      <td>1</td>\n",
       "      <td>0</td>\n",
       "      <td>0</td>\n",
       "      <td>57047</td>\n",
       "      <td>40994</td>\n",
       "      <td>16053</td>\n",
       "      <td>0</td>\n",
       "      <td>0</td>\n",
       "      <td>...</td>\n",
       "      <td>0</td>\n",
       "      <td>0</td>\n",
       "      <td>0</td>\n",
       "      <td>0</td>\n",
       "      <td>0</td>\n",
       "      <td>0</td>\n",
       "      <td>0</td>\n",
       "      <td>0</td>\n",
       "      <td>0</td>\n",
       "      <td>0</td>\n",
       "    </tr>\n",
       "    <tr>\n",
       "      <th>5085032022</th>\n",
       "      <td>0</td>\n",
       "      <td>0</td>\n",
       "      <td>0</td>\n",
       "      <td>0</td>\n",
       "      <td>1</td>\n",
       "      <td>651485</td>\n",
       "      <td>521193</td>\n",
       "      <td>130292</td>\n",
       "      <td>0</td>\n",
       "      <td>1</td>\n",
       "      <td>...</td>\n",
       "      <td>0</td>\n",
       "      <td>0</td>\n",
       "      <td>0</td>\n",
       "      <td>0</td>\n",
       "      <td>0</td>\n",
       "      <td>0</td>\n",
       "      <td>0</td>\n",
       "      <td>0</td>\n",
       "      <td>0</td>\n",
       "      <td>0</td>\n",
       "    </tr>\n",
       "  </tbody>\n",
       "</table>\n",
       "<p>3 rows × 56 columns</p>\n",
       "</div>"
      ],
      "text/plain": [
       "            Owned by Trust?  Owned by Business?  MAIL DIFFERENT FROM SITE?  \\\n",
       "PARCEL                                                                       \n",
       "5085010022                0                   0                          0   \n",
       "5085033008                0                   0                          1   \n",
       "5085032022                0                   0                          0   \n",
       "\n",
       "            MAIL OUTSIDE CA?  TITLECO1  ASSDTOTAL  ASSDLAND  ASSDSTCT  \\\n",
       "PARCEL                                                                  \n",
       "5085010022                 0         1    1157385    925908    231477   \n",
       "5085033008                 0         0      57047     40994     16053   \n",
       "5085032022                 0         1     651485    521193    130292   \n",
       "\n",
       "            ASSDOTHR  EXEMPTCD  ...  NAME CHANGE  Other  PARTNERSHIP  \\\n",
       "PARCEL                          ...                                    \n",
       "5085010022         0         0  ...            0      0            0   \n",
       "5085033008         0         0  ...            0      0            0   \n",
       "5085032022         0         1  ...            0      0            0   \n",
       "\n",
       "            PERSONAL REP  QUIT CLAIM  RE-RECORD  TAX DEED  TRUST TRANSFER  \\\n",
       "PARCEL                                                                      \n",
       "5085010022             0           0          0         0               0   \n",
       "5085033008             0           0          0         0               0   \n",
       "5085032022             0           0          0         0               0   \n",
       "\n",
       "            TRUSTEES  WARRANTY  \n",
       "PARCEL                          \n",
       "5085010022         0         0  \n",
       "5085033008         0         0  \n",
       "5085032022         0         0  \n",
       "\n",
       "[3 rows x 56 columns]"
      ]
     },
     "execution_count": 189,
     "metadata": {},
     "output_type": "execute_result"
    }
   ],
   "source": [
    "Beverly_Grove_df.head(3)"
   ]
  },
  {
   "cell_type": "code",
   "execution_count": 190,
   "metadata": {},
   "outputs": [],
   "source": [
    "# Step 1: Create our X and y\n",
    "\n",
    "y = Beverly_Grove_df['Did it sell?']\n",
    "X = Beverly_Grove_df.drop(['Did it sell?'], 1)"
   ]
  },
  {
   "cell_type": "code",
   "execution_count": 191,
   "metadata": {},
   "outputs": [
    {
     "data": {
      "text/plain": [
       "array([5085010022, 5085033008, 5085032022, ..., 5510018012, 5510017023,\n",
       "       5514001029])"
      ]
     },
     "execution_count": 191,
     "metadata": {},
     "output_type": "execute_result"
    }
   ],
   "source": [
    "APN = Beverly_Grove_df.index.values\n",
    "APN"
   ]
  },
  {
   "cell_type": "code",
   "execution_count": 192,
   "metadata": {},
   "outputs": [],
   "source": [
    "# Step 2: Use PCA to reduce dimension to three principal components.\n",
    "from sklearn.decomposition import PCA\n",
    "\n",
    "pca = PCA(n_components=3)\n",
    "X_pca = pca.fit_transform(X)"
   ]
  },
  {
   "cell_type": "code",
   "execution_count": 193,
   "metadata": {},
   "outputs": [
    {
     "data": {
      "text/plain": [
       "array([[ 1037442.40088322,   222949.06197809,    99008.44211246],\n",
       "       [ -932464.7141857 ,   251848.62995471,   -90439.60157539],\n",
       "       [ -393042.03210882,  -290764.40544306,   -27460.470998  ],\n",
       "       ...,\n",
       "       [ -314557.49024403,  -369458.72763661,   -27020.9155848 ],\n",
       "       [ 2038277.22062523,   419857.55993186, -1288530.60059949],\n",
       "       [ -962055.78924987,   281605.81570128,   -93574.2647082 ]])"
      ]
     },
     "execution_count": 193,
     "metadata": {},
     "output_type": "execute_result"
    }
   ],
   "source": [
    "X_pca"
   ]
  },
  {
   "cell_type": "code",
   "execution_count": 194,
   "metadata": {},
   "outputs": [],
   "source": [
    "# Step 3: Train, test, split\n",
    "\n",
    "X_train, X_test, y_train, y_test = train_test_split(X_pca, y, random_state=78, stratify=y)"
   ]
  },
  {
   "cell_type": "code",
   "execution_count": 195,
   "metadata": {},
   "outputs": [],
   "source": [
    "# Step 4: Scale our data\n",
    "\n",
    "# Create the StandardScaler instance\n",
    "scaler = StandardScaler()\n",
    "\n",
    "# Fit our scaler, named 'scaler' to our data, which produces a new StandardScaler object\n",
    "# which we call 'X_scaler'\n",
    "X_scaler = scaler.fit(X_train)\n",
    "\n",
    "# Scale the data\n",
    "X_train_scaled = X_scaler.transform(X_train)\n",
    "X_test_scaled = X_scaler.transform(X_test)"
   ]
  },
  {
   "cell_type": "code",
   "execution_count": 196,
   "metadata": {},
   "outputs": [],
   "source": [
    "X_train_scaled_APN = []"
   ]
  },
  {
   "cell_type": "code",
   "execution_count": 197,
   "metadata": {},
   "outputs": [
    {
     "data": {
      "text/plain": [
       "Counter({0: 241, 1: 241})"
      ]
     },
     "execution_count": 197,
     "metadata": {},
     "output_type": "execute_result"
    }
   ],
   "source": [
    "# Fit the data using `ClusterCentroids` and check the count of each class\n",
    "from imblearn.under_sampling import ClusterCentroids\n",
    "cc = ClusterCentroids(random_state=1)\n",
    "X_CC, y_CC = cc.fit_resample(X_train_scaled, y_train)\n",
    "Counter(y_CC)"
   ]
  },
  {
   "cell_type": "code",
   "execution_count": 198,
   "metadata": {},
   "outputs": [
    {
     "data": {
      "text/plain": [
       "LogisticRegression(random_state=78)"
      ]
     },
     "execution_count": 198,
     "metadata": {},
     "output_type": "execute_result"
    }
   ],
   "source": [
    "# Logistic regression using cluster centroid undersampled data\n",
    "from sklearn.linear_model import LogisticRegression\n",
    "model_9 = LogisticRegression(solver='lbfgs', random_state=78)\n",
    "model_9.fit(X_CC, y_CC)"
   ]
  },
  {
   "cell_type": "code",
   "execution_count": 199,
   "metadata": {},
   "outputs": [
    {
     "data": {
      "text/plain": [
       "array([[229, 867],\n",
       "       [ 18,  63]])"
      ]
     },
     "execution_count": 199,
     "metadata": {},
     "output_type": "execute_result"
    }
   ],
   "source": [
    "# Display the confusion matrix\n",
    "from sklearn.metrics import confusion_matrix\n",
    "y_pred = model_9.predict(X_test_scaled)\n",
    "confusion_matrix(y_test, y_pred)"
   ]
  },
  {
   "cell_type": "code",
   "execution_count": 200,
   "metadata": {},
   "outputs": [
    {
     "data": {
      "text/plain": [
       "0.49335969180859696"
      ]
     },
     "execution_count": 200,
     "metadata": {},
     "output_type": "execute_result"
    }
   ],
   "source": [
    "# Calculate the balanced accuracy score\n",
    "from sklearn.metrics import balanced_accuracy_score\n",
    "balanced_accuracy_score(y_test, y_pred)"
   ]
  },
  {
   "cell_type": "code",
   "execution_count": 201,
   "metadata": {},
   "outputs": [
    {
     "name": "stdout",
     "output_type": "stream",
     "text": [
      " PCA + Centroid Clustering + Logistic Regression was: 0.248\n"
     ]
    }
   ],
   "source": [
    "print(f\" PCA + Centroid Clustering + Logistic Regression was: {accuracy_score(y_test, y_pred):.3f}\")"
   ]
  },
  {
   "cell_type": "code",
   "execution_count": 202,
   "metadata": {},
   "outputs": [
    {
     "data": {
      "text/plain": [
       "0.3261352171412433"
      ]
     },
     "execution_count": 202,
     "metadata": {},
     "output_type": "execute_result"
    }
   ],
   "source": [
    "f1_score(y_test, y_pred, average=\"weighted\")"
   ]
  },
  {
   "cell_type": "code",
   "execution_count": 203,
   "metadata": {},
   "outputs": [
    {
     "name": "stdout",
     "output_type": "stream",
     "text": [
      "                   pre       rec       spe        f1       geo       iba       sup\n",
      "\n",
      "          0       0.93      0.21      0.78      0.34      0.40      0.15      1096\n",
      "          1       0.07      0.78      0.21      0.12      0.40      0.17        81\n",
      "\n",
      "avg / total       0.87      0.25      0.74      0.33      0.40      0.15      1177\n",
      "\n"
     ]
    }
   ],
   "source": [
    "# Print the imbalanced classification report\n",
    "from imblearn.metrics import classification_report_imbalanced\n",
    "print(classification_report_imbalanced(y_test, y_pred))"
   ]
  },
  {
   "cell_type": "code",
   "execution_count": 204,
   "metadata": {},
   "outputs": [],
   "source": [
    "# Note how using the Centroid Clusters creates a model that predicts a much higher number of sales. \n",
    "# When we decrease the number of non-sale properties, the model curiously predicts more sale properties. \n",
    "# What does this imply? Is it that the sale properties are indistinct from the non-sales, and evening out the classes, \n",
    "# creates an increased likelihood predicting sale? "
   ]
  },
  {
   "cell_type": "markdown",
   "metadata": {},
   "source": [
    "## Attempt 16: PCA + Oversampling (Random Oversampling) + Logistic Regression"
   ]
  },
  {
   "cell_type": "code",
   "execution_count": 554,
   "metadata": {},
   "outputs": [
    {
     "data": {
      "text/html": [
       "<div>\n",
       "<style scoped>\n",
       "    .dataframe tbody tr th:only-of-type {\n",
       "        vertical-align: middle;\n",
       "    }\n",
       "\n",
       "    .dataframe tbody tr th {\n",
       "        vertical-align: top;\n",
       "    }\n",
       "\n",
       "    .dataframe thead th {\n",
       "        text-align: right;\n",
       "    }\n",
       "</style>\n",
       "<table border=\"1\" class=\"dataframe\">\n",
       "  <thead>\n",
       "    <tr style=\"text-align: right;\">\n",
       "      <th></th>\n",
       "      <th>Owned by Trust?</th>\n",
       "      <th>Owned by Business?</th>\n",
       "      <th>SITEADDRESS</th>\n",
       "      <th>MAIL DIFFERENT FROM SITE?</th>\n",
       "      <th>MAIL OUTSIDE CA?</th>\n",
       "      <th>TITLECO1</th>\n",
       "      <th>ASSDTOTAL</th>\n",
       "      <th>ASSDLAND</th>\n",
       "      <th>ASSDSTCT</th>\n",
       "      <th>ASSDOTHR</th>\n",
       "      <th>...</th>\n",
       "      <th>NAME CHANGE</th>\n",
       "      <th>Other</th>\n",
       "      <th>PARTNERSHIP</th>\n",
       "      <th>PERSONAL REP</th>\n",
       "      <th>QUIT CLAIM</th>\n",
       "      <th>RE-RECORD</th>\n",
       "      <th>TAX DEED</th>\n",
       "      <th>TRUST TRANSFER</th>\n",
       "      <th>TRUSTEES</th>\n",
       "      <th>WARRANTY</th>\n",
       "    </tr>\n",
       "    <tr>\n",
       "      <th>PARCEL</th>\n",
       "      <th></th>\n",
       "      <th></th>\n",
       "      <th></th>\n",
       "      <th></th>\n",
       "      <th></th>\n",
       "      <th></th>\n",
       "      <th></th>\n",
       "      <th></th>\n",
       "      <th></th>\n",
       "      <th></th>\n",
       "      <th></th>\n",
       "      <th></th>\n",
       "      <th></th>\n",
       "      <th></th>\n",
       "      <th></th>\n",
       "      <th></th>\n",
       "      <th></th>\n",
       "      <th></th>\n",
       "      <th></th>\n",
       "      <th></th>\n",
       "      <th></th>\n",
       "    </tr>\n",
       "  </thead>\n",
       "  <tbody>\n",
       "    <tr>\n",
       "      <th>5085010022</th>\n",
       "      <td>0</td>\n",
       "      <td>0</td>\n",
       "      <td>1030 S Dunsmuir Ave</td>\n",
       "      <td>0</td>\n",
       "      <td>0</td>\n",
       "      <td>1</td>\n",
       "      <td>1157385</td>\n",
       "      <td>925908</td>\n",
       "      <td>231477</td>\n",
       "      <td>0</td>\n",
       "      <td>...</td>\n",
       "      <td>0</td>\n",
       "      <td>0</td>\n",
       "      <td>0</td>\n",
       "      <td>0</td>\n",
       "      <td>0</td>\n",
       "      <td>0</td>\n",
       "      <td>0</td>\n",
       "      <td>0</td>\n",
       "      <td>0</td>\n",
       "      <td>0</td>\n",
       "    </tr>\n",
       "    <tr>\n",
       "      <th>5085033008</th>\n",
       "      <td>0</td>\n",
       "      <td>0</td>\n",
       "      <td>1364 S Ridgeley Dr</td>\n",
       "      <td>1</td>\n",
       "      <td>0</td>\n",
       "      <td>0</td>\n",
       "      <td>57047</td>\n",
       "      <td>40994</td>\n",
       "      <td>16053</td>\n",
       "      <td>0</td>\n",
       "      <td>...</td>\n",
       "      <td>0</td>\n",
       "      <td>0</td>\n",
       "      <td>0</td>\n",
       "      <td>0</td>\n",
       "      <td>0</td>\n",
       "      <td>0</td>\n",
       "      <td>0</td>\n",
       "      <td>0</td>\n",
       "      <td>0</td>\n",
       "      <td>0</td>\n",
       "    </tr>\n",
       "    <tr>\n",
       "      <th>5085032022</th>\n",
       "      <td>0</td>\n",
       "      <td>0</td>\n",
       "      <td>1322 Hauser Blvd</td>\n",
       "      <td>0</td>\n",
       "      <td>0</td>\n",
       "      <td>1</td>\n",
       "      <td>651485</td>\n",
       "      <td>521193</td>\n",
       "      <td>130292</td>\n",
       "      <td>0</td>\n",
       "      <td>...</td>\n",
       "      <td>0</td>\n",
       "      <td>0</td>\n",
       "      <td>0</td>\n",
       "      <td>0</td>\n",
       "      <td>0</td>\n",
       "      <td>0</td>\n",
       "      <td>0</td>\n",
       "      <td>0</td>\n",
       "      <td>0</td>\n",
       "      <td>0</td>\n",
       "    </tr>\n",
       "    <tr>\n",
       "      <th>5510005006</th>\n",
       "      <td>1</td>\n",
       "      <td>0</td>\n",
       "      <td>6727 Drexel Ave</td>\n",
       "      <td>1</td>\n",
       "      <td>0</td>\n",
       "      <td>0</td>\n",
       "      <td>85697</td>\n",
       "      <td>74539</td>\n",
       "      <td>11158</td>\n",
       "      <td>0</td>\n",
       "      <td>...</td>\n",
       "      <td>0</td>\n",
       "      <td>0</td>\n",
       "      <td>0</td>\n",
       "      <td>0</td>\n",
       "      <td>0</td>\n",
       "      <td>0</td>\n",
       "      <td>0</td>\n",
       "      <td>0</td>\n",
       "      <td>0</td>\n",
       "      <td>0</td>\n",
       "    </tr>\n",
       "    <tr>\n",
       "      <th>5089024002</th>\n",
       "      <td>0</td>\n",
       "      <td>0</td>\n",
       "      <td>942 S Cochran Ave</td>\n",
       "      <td>0</td>\n",
       "      <td>0</td>\n",
       "      <td>0</td>\n",
       "      <td>62487</td>\n",
       "      <td>42013</td>\n",
       "      <td>20474</td>\n",
       "      <td>0</td>\n",
       "      <td>...</td>\n",
       "      <td>0</td>\n",
       "      <td>0</td>\n",
       "      <td>0</td>\n",
       "      <td>0</td>\n",
       "      <td>0</td>\n",
       "      <td>0</td>\n",
       "      <td>0</td>\n",
       "      <td>0</td>\n",
       "      <td>0</td>\n",
       "      <td>0</td>\n",
       "    </tr>\n",
       "  </tbody>\n",
       "</table>\n",
       "<p>5 rows × 57 columns</p>\n",
       "</div>"
      ],
      "text/plain": [
       "            Owned by Trust?  Owned by Business?          SITEADDRESS  \\\n",
       "PARCEL                                                                 \n",
       "5085010022                0                   0  1030 S Dunsmuir Ave   \n",
       "5085033008                0                   0   1364 S Ridgeley Dr   \n",
       "5085032022                0                   0     1322 Hauser Blvd   \n",
       "5510005006                1                   0      6727 Drexel Ave   \n",
       "5089024002                0                   0    942 S Cochran Ave   \n",
       "\n",
       "            MAIL DIFFERENT FROM SITE?  MAIL OUTSIDE CA?  TITLECO1  ASSDTOTAL  \\\n",
       "PARCEL                                                                         \n",
       "5085010022                          0                 0         1    1157385   \n",
       "5085033008                          1                 0         0      57047   \n",
       "5085032022                          0                 0         1     651485   \n",
       "5510005006                          1                 0         0      85697   \n",
       "5089024002                          0                 0         0      62487   \n",
       "\n",
       "            ASSDLAND  ASSDSTCT  ASSDOTHR  ...  NAME CHANGE  Other  \\\n",
       "PARCEL                                    ...                       \n",
       "5085010022    925908    231477         0  ...            0      0   \n",
       "5085033008     40994     16053         0  ...            0      0   \n",
       "5085032022    521193    130292         0  ...            0      0   \n",
       "5510005006     74539     11158         0  ...            0      0   \n",
       "5089024002     42013     20474         0  ...            0      0   \n",
       "\n",
       "            PARTNERSHIP  PERSONAL REP  QUIT CLAIM  RE-RECORD  TAX DEED  \\\n",
       "PARCEL                                                                   \n",
       "5085010022            0             0           0          0         0   \n",
       "5085033008            0             0           0          0         0   \n",
       "5085032022            0             0           0          0         0   \n",
       "5510005006            0             0           0          0         0   \n",
       "5089024002            0             0           0          0         0   \n",
       "\n",
       "            TRUST TRANSFER  TRUSTEES  WARRANTY  \n",
       "PARCEL                                          \n",
       "5085010022               0         0         0  \n",
       "5085033008               0         0         0  \n",
       "5085032022               0         0         0  \n",
       "5510005006               0         0         0  \n",
       "5089024002               0         0         0  \n",
       "\n",
       "[5 rows x 57 columns]"
      ]
     },
     "execution_count": 554,
     "metadata": {},
     "output_type": "execute_result"
    }
   ],
   "source": [
    "# bring in our dataframe\n",
    "\n",
    "Beverly_Grove_df = pd.read_csv(path, index_col='PARCEL')\n",
    "Beverly_Grove_df.head()"
   ]
  },
  {
   "cell_type": "code",
   "execution_count": 555,
   "metadata": {},
   "outputs": [],
   "source": [
    "# drop any nulls\n",
    "\n",
    "Beverly_Grove_df = Beverly_Grove_df.dropna()"
   ]
  },
  {
   "cell_type": "code",
   "execution_count": 556,
   "metadata": {},
   "outputs": [],
   "source": [
    "# Change the datatype of these two columns into ints\n",
    "\n",
    "Beverly_Grove_df['TAXAMT'] = Beverly_Grove_df['TAXAMT'].astype(int)\n",
    "Beverly_Grove_df['EFFYRBLT'] = Beverly_Grove_df['EFFYRBLT'].astype(int)"
   ]
  },
  {
   "cell_type": "code",
   "execution_count": 557,
   "metadata": {},
   "outputs": [
    {
     "data": {
      "text/html": [
       "<div>\n",
       "<style scoped>\n",
       "    .dataframe tbody tr th:only-of-type {\n",
       "        vertical-align: middle;\n",
       "    }\n",
       "\n",
       "    .dataframe tbody tr th {\n",
       "        vertical-align: top;\n",
       "    }\n",
       "\n",
       "    .dataframe thead th {\n",
       "        text-align: right;\n",
       "    }\n",
       "</style>\n",
       "<table border=\"1\" class=\"dataframe\">\n",
       "  <thead>\n",
       "    <tr style=\"text-align: right;\">\n",
       "      <th></th>\n",
       "      <th>Owned by Trust?</th>\n",
       "      <th>Owned by Business?</th>\n",
       "      <th>SITEADDRESS</th>\n",
       "      <th>MAIL DIFFERENT FROM SITE?</th>\n",
       "      <th>MAIL OUTSIDE CA?</th>\n",
       "      <th>TITLECO1</th>\n",
       "      <th>ASSDTOTAL</th>\n",
       "      <th>ASSDLAND</th>\n",
       "      <th>ASSDSTCT</th>\n",
       "      <th>ASSDOTHR</th>\n",
       "      <th>...</th>\n",
       "      <th>NAME CHANGE</th>\n",
       "      <th>Other</th>\n",
       "      <th>PARTNERSHIP</th>\n",
       "      <th>PERSONAL REP</th>\n",
       "      <th>QUIT CLAIM</th>\n",
       "      <th>RE-RECORD</th>\n",
       "      <th>TAX DEED</th>\n",
       "      <th>TRUST TRANSFER</th>\n",
       "      <th>TRUSTEES</th>\n",
       "      <th>WARRANTY</th>\n",
       "    </tr>\n",
       "    <tr>\n",
       "      <th>PARCEL</th>\n",
       "      <th></th>\n",
       "      <th></th>\n",
       "      <th></th>\n",
       "      <th></th>\n",
       "      <th></th>\n",
       "      <th></th>\n",
       "      <th></th>\n",
       "      <th></th>\n",
       "      <th></th>\n",
       "      <th></th>\n",
       "      <th></th>\n",
       "      <th></th>\n",
       "      <th></th>\n",
       "      <th></th>\n",
       "      <th></th>\n",
       "      <th></th>\n",
       "      <th></th>\n",
       "      <th></th>\n",
       "      <th></th>\n",
       "      <th></th>\n",
       "      <th></th>\n",
       "    </tr>\n",
       "  </thead>\n",
       "  <tbody>\n",
       "    <tr>\n",
       "      <th>5085010022</th>\n",
       "      <td>0</td>\n",
       "      <td>0</td>\n",
       "      <td>1030 S Dunsmuir Ave</td>\n",
       "      <td>0</td>\n",
       "      <td>0</td>\n",
       "      <td>1</td>\n",
       "      <td>1157385</td>\n",
       "      <td>925908</td>\n",
       "      <td>231477</td>\n",
       "      <td>0</td>\n",
       "      <td>...</td>\n",
       "      <td>0</td>\n",
       "      <td>0</td>\n",
       "      <td>0</td>\n",
       "      <td>0</td>\n",
       "      <td>0</td>\n",
       "      <td>0</td>\n",
       "      <td>0</td>\n",
       "      <td>0</td>\n",
       "      <td>0</td>\n",
       "      <td>0</td>\n",
       "    </tr>\n",
       "    <tr>\n",
       "      <th>5085033008</th>\n",
       "      <td>0</td>\n",
       "      <td>0</td>\n",
       "      <td>1364 S Ridgeley Dr</td>\n",
       "      <td>1</td>\n",
       "      <td>0</td>\n",
       "      <td>0</td>\n",
       "      <td>57047</td>\n",
       "      <td>40994</td>\n",
       "      <td>16053</td>\n",
       "      <td>0</td>\n",
       "      <td>...</td>\n",
       "      <td>0</td>\n",
       "      <td>0</td>\n",
       "      <td>0</td>\n",
       "      <td>0</td>\n",
       "      <td>0</td>\n",
       "      <td>0</td>\n",
       "      <td>0</td>\n",
       "      <td>0</td>\n",
       "      <td>0</td>\n",
       "      <td>0</td>\n",
       "    </tr>\n",
       "    <tr>\n",
       "      <th>5085032022</th>\n",
       "      <td>0</td>\n",
       "      <td>0</td>\n",
       "      <td>1322 Hauser Blvd</td>\n",
       "      <td>0</td>\n",
       "      <td>0</td>\n",
       "      <td>1</td>\n",
       "      <td>651485</td>\n",
       "      <td>521193</td>\n",
       "      <td>130292</td>\n",
       "      <td>0</td>\n",
       "      <td>...</td>\n",
       "      <td>0</td>\n",
       "      <td>0</td>\n",
       "      <td>0</td>\n",
       "      <td>0</td>\n",
       "      <td>0</td>\n",
       "      <td>0</td>\n",
       "      <td>0</td>\n",
       "      <td>0</td>\n",
       "      <td>0</td>\n",
       "      <td>0</td>\n",
       "    </tr>\n",
       "  </tbody>\n",
       "</table>\n",
       "<p>3 rows × 57 columns</p>\n",
       "</div>"
      ],
      "text/plain": [
       "            Owned by Trust?  Owned by Business?          SITEADDRESS  \\\n",
       "PARCEL                                                                 \n",
       "5085010022                0                   0  1030 S Dunsmuir Ave   \n",
       "5085033008                0                   0   1364 S Ridgeley Dr   \n",
       "5085032022                0                   0     1322 Hauser Blvd   \n",
       "\n",
       "            MAIL DIFFERENT FROM SITE?  MAIL OUTSIDE CA?  TITLECO1  ASSDTOTAL  \\\n",
       "PARCEL                                                                         \n",
       "5085010022                          0                 0         1    1157385   \n",
       "5085033008                          1                 0         0      57047   \n",
       "5085032022                          0                 0         1     651485   \n",
       "\n",
       "            ASSDLAND  ASSDSTCT  ASSDOTHR  ...  NAME CHANGE  Other  \\\n",
       "PARCEL                                    ...                       \n",
       "5085010022    925908    231477         0  ...            0      0   \n",
       "5085033008     40994     16053         0  ...            0      0   \n",
       "5085032022    521193    130292         0  ...            0      0   \n",
       "\n",
       "            PARTNERSHIP  PERSONAL REP  QUIT CLAIM  RE-RECORD  TAX DEED  \\\n",
       "PARCEL                                                                   \n",
       "5085010022            0             0           0          0         0   \n",
       "5085033008            0             0           0          0         0   \n",
       "5085032022            0             0           0          0         0   \n",
       "\n",
       "            TRUST TRANSFER  TRUSTEES  WARRANTY  \n",
       "PARCEL                                          \n",
       "5085010022               0         0         0  \n",
       "5085033008               0         0         0  \n",
       "5085032022               0         0         0  \n",
       "\n",
       "[3 rows x 57 columns]"
      ]
     },
     "execution_count": 557,
     "metadata": {},
     "output_type": "execute_result"
    }
   ],
   "source": [
    "# Make sure our dataframe is only SFR's so exclude every property that has an '#' in its site address\n",
    "\n",
    "Beverly_Grove_df = Beverly_Grove_df[~Beverly_Grove_df['SITEADDRESS'].str.contains('#')]\n",
    "Beverly_Grove_df.head(3)"
   ]
  },
  {
   "cell_type": "code",
   "execution_count": 558,
   "metadata": {},
   "outputs": [],
   "source": [
    "# Now drop the SiteAddress column\n",
    "Beverly_Grove_df.drop(['SITEADDRESS'], axis=1, inplace=True)"
   ]
  },
  {
   "cell_type": "code",
   "execution_count": 559,
   "metadata": {},
   "outputs": [
    {
     "data": {
      "text/html": [
       "<div>\n",
       "<style scoped>\n",
       "    .dataframe tbody tr th:only-of-type {\n",
       "        vertical-align: middle;\n",
       "    }\n",
       "\n",
       "    .dataframe tbody tr th {\n",
       "        vertical-align: top;\n",
       "    }\n",
       "\n",
       "    .dataframe thead th {\n",
       "        text-align: right;\n",
       "    }\n",
       "</style>\n",
       "<table border=\"1\" class=\"dataframe\">\n",
       "  <thead>\n",
       "    <tr style=\"text-align: right;\">\n",
       "      <th></th>\n",
       "      <th>Owned by Trust?</th>\n",
       "      <th>Owned by Business?</th>\n",
       "      <th>MAIL DIFFERENT FROM SITE?</th>\n",
       "      <th>MAIL OUTSIDE CA?</th>\n",
       "      <th>TITLECO1</th>\n",
       "      <th>ASSDTOTAL</th>\n",
       "      <th>ASSDLAND</th>\n",
       "      <th>ASSDSTCT</th>\n",
       "      <th>ASSDOTHR</th>\n",
       "      <th>EXEMPTCD</th>\n",
       "      <th>...</th>\n",
       "      <th>NAME CHANGE</th>\n",
       "      <th>Other</th>\n",
       "      <th>PARTNERSHIP</th>\n",
       "      <th>PERSONAL REP</th>\n",
       "      <th>QUIT CLAIM</th>\n",
       "      <th>RE-RECORD</th>\n",
       "      <th>TAX DEED</th>\n",
       "      <th>TRUST TRANSFER</th>\n",
       "      <th>TRUSTEES</th>\n",
       "      <th>WARRANTY</th>\n",
       "    </tr>\n",
       "    <tr>\n",
       "      <th>PARCEL</th>\n",
       "      <th></th>\n",
       "      <th></th>\n",
       "      <th></th>\n",
       "      <th></th>\n",
       "      <th></th>\n",
       "      <th></th>\n",
       "      <th></th>\n",
       "      <th></th>\n",
       "      <th></th>\n",
       "      <th></th>\n",
       "      <th></th>\n",
       "      <th></th>\n",
       "      <th></th>\n",
       "      <th></th>\n",
       "      <th></th>\n",
       "      <th></th>\n",
       "      <th></th>\n",
       "      <th></th>\n",
       "      <th></th>\n",
       "      <th></th>\n",
       "      <th></th>\n",
       "    </tr>\n",
       "  </thead>\n",
       "  <tbody>\n",
       "    <tr>\n",
       "      <th>5085010022</th>\n",
       "      <td>0</td>\n",
       "      <td>0</td>\n",
       "      <td>0</td>\n",
       "      <td>0</td>\n",
       "      <td>1</td>\n",
       "      <td>1157385</td>\n",
       "      <td>925908</td>\n",
       "      <td>231477</td>\n",
       "      <td>0</td>\n",
       "      <td>0</td>\n",
       "      <td>...</td>\n",
       "      <td>0</td>\n",
       "      <td>0</td>\n",
       "      <td>0</td>\n",
       "      <td>0</td>\n",
       "      <td>0</td>\n",
       "      <td>0</td>\n",
       "      <td>0</td>\n",
       "      <td>0</td>\n",
       "      <td>0</td>\n",
       "      <td>0</td>\n",
       "    </tr>\n",
       "    <tr>\n",
       "      <th>5085033008</th>\n",
       "      <td>0</td>\n",
       "      <td>0</td>\n",
       "      <td>1</td>\n",
       "      <td>0</td>\n",
       "      <td>0</td>\n",
       "      <td>57047</td>\n",
       "      <td>40994</td>\n",
       "      <td>16053</td>\n",
       "      <td>0</td>\n",
       "      <td>0</td>\n",
       "      <td>...</td>\n",
       "      <td>0</td>\n",
       "      <td>0</td>\n",
       "      <td>0</td>\n",
       "      <td>0</td>\n",
       "      <td>0</td>\n",
       "      <td>0</td>\n",
       "      <td>0</td>\n",
       "      <td>0</td>\n",
       "      <td>0</td>\n",
       "      <td>0</td>\n",
       "    </tr>\n",
       "    <tr>\n",
       "      <th>5085032022</th>\n",
       "      <td>0</td>\n",
       "      <td>0</td>\n",
       "      <td>0</td>\n",
       "      <td>0</td>\n",
       "      <td>1</td>\n",
       "      <td>651485</td>\n",
       "      <td>521193</td>\n",
       "      <td>130292</td>\n",
       "      <td>0</td>\n",
       "      <td>1</td>\n",
       "      <td>...</td>\n",
       "      <td>0</td>\n",
       "      <td>0</td>\n",
       "      <td>0</td>\n",
       "      <td>0</td>\n",
       "      <td>0</td>\n",
       "      <td>0</td>\n",
       "      <td>0</td>\n",
       "      <td>0</td>\n",
       "      <td>0</td>\n",
       "      <td>0</td>\n",
       "    </tr>\n",
       "  </tbody>\n",
       "</table>\n",
       "<p>3 rows × 56 columns</p>\n",
       "</div>"
      ],
      "text/plain": [
       "            Owned by Trust?  Owned by Business?  MAIL DIFFERENT FROM SITE?  \\\n",
       "PARCEL                                                                       \n",
       "5085010022                0                   0                          0   \n",
       "5085033008                0                   0                          1   \n",
       "5085032022                0                   0                          0   \n",
       "\n",
       "            MAIL OUTSIDE CA?  TITLECO1  ASSDTOTAL  ASSDLAND  ASSDSTCT  \\\n",
       "PARCEL                                                                  \n",
       "5085010022                 0         1    1157385    925908    231477   \n",
       "5085033008                 0         0      57047     40994     16053   \n",
       "5085032022                 0         1     651485    521193    130292   \n",
       "\n",
       "            ASSDOTHR  EXEMPTCD  ...  NAME CHANGE  Other  PARTNERSHIP  \\\n",
       "PARCEL                          ...                                    \n",
       "5085010022         0         0  ...            0      0            0   \n",
       "5085033008         0         0  ...            0      0            0   \n",
       "5085032022         0         1  ...            0      0            0   \n",
       "\n",
       "            PERSONAL REP  QUIT CLAIM  RE-RECORD  TAX DEED  TRUST TRANSFER  \\\n",
       "PARCEL                                                                      \n",
       "5085010022             0           0          0         0               0   \n",
       "5085033008             0           0          0         0               0   \n",
       "5085032022             0           0          0         0               0   \n",
       "\n",
       "            TRUSTEES  WARRANTY  \n",
       "PARCEL                          \n",
       "5085010022         0         0  \n",
       "5085033008         0         0  \n",
       "5085032022         0         0  \n",
       "\n",
       "[3 rows x 56 columns]"
      ]
     },
     "execution_count": 559,
     "metadata": {},
     "output_type": "execute_result"
    }
   ],
   "source": [
    "Beverly_Grove_df.head(3)"
   ]
  },
  {
   "cell_type": "code",
   "execution_count": 560,
   "metadata": {},
   "outputs": [],
   "source": [
    "# Step 1: Create our X and y\n",
    "\n",
    "y = Beverly_Grove_df['Did it sell?']\n",
    "X = Beverly_Grove_df.drop(['Did it sell?'], 1)"
   ]
  },
  {
   "cell_type": "code",
   "execution_count": 561,
   "metadata": {},
   "outputs": [
    {
     "data": {
      "text/plain": [
       "array([5085010022, 5085033008, 5085032022, ..., 5510018012, 5510017023,\n",
       "       5514001029])"
      ]
     },
     "execution_count": 561,
     "metadata": {},
     "output_type": "execute_result"
    }
   ],
   "source": [
    "APN = Beverly_Grove_df.index.values\n",
    "APN"
   ]
  },
  {
   "cell_type": "code",
   "execution_count": 562,
   "metadata": {},
   "outputs": [],
   "source": [
    "# Step 2: Use PCA to reduce dimension to three principal components.\n",
    "from sklearn.decomposition import PCA\n",
    "\n",
    "pca = PCA(n_components=3)\n",
    "X_pca = pca.fit_transform(X)"
   ]
  },
  {
   "cell_type": "code",
   "execution_count": 563,
   "metadata": {},
   "outputs": [
    {
     "data": {
      "text/plain": [
       "array([[ 1037442.40088321,   222949.06197813,    99008.44211243],\n",
       "       [ -932464.7141857 ,   251848.62995472,   -90439.60157539],\n",
       "       [ -393042.03210882,  -290764.40544306,   -27460.470998  ],\n",
       "       ...,\n",
       "       [ -314557.49024403,  -369458.72763661,   -27020.9155848 ],\n",
       "       [ 2038277.22062523,   419857.55993186, -1288530.60059949],\n",
       "       [ -962055.78924987,   281605.81570128,   -93574.2647082 ]])"
      ]
     },
     "execution_count": 563,
     "metadata": {},
     "output_type": "execute_result"
    }
   ],
   "source": [
    "X_pca"
   ]
  },
  {
   "cell_type": "code",
   "execution_count": 564,
   "metadata": {},
   "outputs": [],
   "source": [
    "# Step 3: Train, test, split\n",
    "\n",
    "X_train, X_test, y_train, y_test = train_test_split(X_pca, y, random_state=78, stratify=y)"
   ]
  },
  {
   "cell_type": "code",
   "execution_count": 565,
   "metadata": {},
   "outputs": [],
   "source": [
    "# Step 4: Scale our data\n",
    "\n",
    "# Create the StandardScaler instance\n",
    "scaler = StandardScaler()\n",
    "\n",
    "# Fit our scaler, named 'scaler' to our data, which produces a new StandardScaler object\n",
    "# which we call 'X_scaler'\n",
    "X_scaler = scaler.fit(X_train)\n",
    "\n",
    "# Scale the data\n",
    "X_train_scaled = X_scaler.transform(X_train)\n",
    "X_test_scaled = X_scaler.transform(X_test)"
   ]
  },
  {
   "cell_type": "code",
   "execution_count": 566,
   "metadata": {},
   "outputs": [],
   "source": [
    "X_train_scaled_APN = []"
   ]
  },
  {
   "cell_type": "code",
   "execution_count": 567,
   "metadata": {},
   "outputs": [
    {
     "data": {
      "text/plain": [
       "Counter({0: 3287, 1: 3287})"
      ]
     },
     "execution_count": 567,
     "metadata": {},
     "output_type": "execute_result"
    }
   ],
   "source": [
    "# implement random oversampling\n",
    "from imblearn.over_sampling import RandomOverSampler\n",
    "ros = RandomOverSampler(random_state=1)\n",
    "X_random_oversampled, y_random_oversampled = ros.fit_resample(X_train_scaled, y_train)\n",
    "\n",
    "Counter(y_random_oversampled)"
   ]
  },
  {
   "cell_type": "code",
   "execution_count": 568,
   "metadata": {},
   "outputs": [
    {
     "data": {
      "text/plain": [
       "LogisticRegression(class_weight='balanced', max_iter=300, random_state=78)"
      ]
     },
     "execution_count": 568,
     "metadata": {},
     "output_type": "execute_result"
    }
   ],
   "source": [
    "# Logistic regression using random oversampled data\n",
    "from sklearn.linear_model import LogisticRegression\n",
    "\n",
    "model_10 = LogisticRegression(solver='lbfgs', \n",
    "                                max_iter=300,\n",
    "                                random_state=78,\n",
    "                                class_weight=\"balanced\")\n",
    "\n",
    "model_10.fit(X_random_oversampled, y_random_oversampled)"
   ]
  },
  {
   "cell_type": "code",
   "execution_count": 569,
   "metadata": {},
   "outputs": [],
   "source": [
    "# Evaluate the model\n",
    "y_pred = model_10.predict(X_test_scaled)"
   ]
  },
  {
   "cell_type": "code",
   "execution_count": 570,
   "metadata": {},
   "outputs": [
    {
     "name": "stdout",
     "output_type": "stream",
     "text": [
      " Logistic regression model accuracy: 0.621\n"
     ]
    }
   ],
   "source": [
    "print(f\" Logistic regression model accuracy: {accuracy_score(y_test, y_pred):.3f}\")"
   ]
  },
  {
   "cell_type": "code",
   "execution_count": 571,
   "metadata": {},
   "outputs": [
    {
     "data": {
      "text/plain": [
       "0.49355118500495626"
      ]
     },
     "execution_count": 571,
     "metadata": {},
     "output_type": "execute_result"
    }
   ],
   "source": [
    "# just for shits n' gigs, lets find the balanced accuracy score\n",
    "\n",
    "from sklearn.metrics import balanced_accuracy_score\n",
    "balanced_accuracy_score(y_test, y_pred)"
   ]
  },
  {
   "cell_type": "code",
   "execution_count": 572,
   "metadata": {},
   "outputs": [
    {
     "data": {
      "text/plain": [
       "0.7146103073370367"
      ]
     },
     "execution_count": 572,
     "metadata": {},
     "output_type": "execute_result"
    }
   ],
   "source": [
    "f1_score(y_test, y_pred, average=\"weighted\")"
   ]
  },
  {
   "cell_type": "code",
   "execution_count": 573,
   "metadata": {},
   "outputs": [
    {
     "data": {
      "text/plain": [
       "array([[703, 393],\n",
       "       [ 53,  28]])"
      ]
     },
     "execution_count": 573,
     "metadata": {},
     "output_type": "execute_result"
    }
   ],
   "source": [
    "from sklearn.metrics import confusion_matrix\n",
    "confusion_matrix(y_test, y_pred)"
   ]
  },
  {
   "cell_type": "code",
   "execution_count": 224,
   "metadata": {},
   "outputs": [
    {
     "name": "stdout",
     "output_type": "stream",
     "text": [
      "                   pre       rec       spe        f1       geo       iba       sup\n",
      "\n",
      "          0       0.93      0.64      0.35      0.76      0.47      0.23      1096\n",
      "          1       0.07      0.35      0.64      0.11      0.47      0.22        81\n",
      "\n",
      "avg / total       0.87      0.62      0.37      0.71      0.47      0.23      1177\n",
      "\n"
     ]
    }
   ],
   "source": [
    "# Print the imbalanced classification report\n",
    "from imblearn.metrics import classification_report_imbalanced\n",
    "print(classification_report_imbalanced(y_test, y_pred))"
   ]
  },
  {
   "cell_type": "code",
   "execution_count": 225,
   "metadata": {},
   "outputs": [
    {
     "data": {
      "text/html": [
       "<div>\n",
       "<style scoped>\n",
       "    .dataframe tbody tr th:only-of-type {\n",
       "        vertical-align: middle;\n",
       "    }\n",
       "\n",
       "    .dataframe tbody tr th {\n",
       "        vertical-align: top;\n",
       "    }\n",
       "\n",
       "    .dataframe thead th {\n",
       "        text-align: right;\n",
       "    }\n",
       "</style>\n",
       "<table border=\"1\" class=\"dataframe\">\n",
       "  <thead>\n",
       "    <tr style=\"text-align: right;\">\n",
       "      <th></th>\n",
       "      <th>Prediction</th>\n",
       "      <th>Actual</th>\n",
       "      <th>PARCEL</th>\n",
       "    </tr>\n",
       "  </thead>\n",
       "  <tbody>\n",
       "    <tr>\n",
       "      <th>786</th>\n",
       "      <td>1</td>\n",
       "      <td>0</td>\n",
       "      <td>5510020027</td>\n",
       "    </tr>\n",
       "    <tr>\n",
       "      <th>54</th>\n",
       "      <td>0</td>\n",
       "      <td>1</td>\n",
       "      <td>5527034020</td>\n",
       "    </tr>\n",
       "    <tr>\n",
       "      <th>659</th>\n",
       "      <td>0</td>\n",
       "      <td>0</td>\n",
       "      <td>4305003025</td>\n",
       "    </tr>\n",
       "    <tr>\n",
       "      <th>799</th>\n",
       "      <td>0</td>\n",
       "      <td>0</td>\n",
       "      <td>4335003011</td>\n",
       "    </tr>\n",
       "    <tr>\n",
       "      <th>346</th>\n",
       "      <td>0</td>\n",
       "      <td>0</td>\n",
       "      <td>5514009035</td>\n",
       "    </tr>\n",
       "    <tr>\n",
       "      <th>60</th>\n",
       "      <td>0</td>\n",
       "      <td>1</td>\n",
       "      <td>5510014003</td>\n",
       "    </tr>\n",
       "    <tr>\n",
       "      <th>955</th>\n",
       "      <td>0</td>\n",
       "      <td>0</td>\n",
       "      <td>5089021001</td>\n",
       "    </tr>\n",
       "    <tr>\n",
       "      <th>15</th>\n",
       "      <td>1</td>\n",
       "      <td>0</td>\n",
       "      <td>5085003005</td>\n",
       "    </tr>\n",
       "    <tr>\n",
       "      <th>761</th>\n",
       "      <td>0</td>\n",
       "      <td>0</td>\n",
       "      <td>5510007001</td>\n",
       "    </tr>\n",
       "    <tr>\n",
       "      <th>780</th>\n",
       "      <td>0</td>\n",
       "      <td>0</td>\n",
       "      <td>5512021001</td>\n",
       "    </tr>\n",
       "    <tr>\n",
       "      <th>883</th>\n",
       "      <td>1</td>\n",
       "      <td>0</td>\n",
       "      <td>5085008002</td>\n",
       "    </tr>\n",
       "    <tr>\n",
       "      <th>1169</th>\n",
       "      <td>0</td>\n",
       "      <td>0</td>\n",
       "      <td>5510007013</td>\n",
       "    </tr>\n",
       "    <tr>\n",
       "      <th>862</th>\n",
       "      <td>0</td>\n",
       "      <td>0</td>\n",
       "      <td>5510007034</td>\n",
       "    </tr>\n",
       "    <tr>\n",
       "      <th>335</th>\n",
       "      <td>1</td>\n",
       "      <td>0</td>\n",
       "      <td>5510020021</td>\n",
       "    </tr>\n",
       "    <tr>\n",
       "      <th>382</th>\n",
       "      <td>0</td>\n",
       "      <td>0</td>\n",
       "      <td>5510016019</td>\n",
       "    </tr>\n",
       "    <tr>\n",
       "      <th>895</th>\n",
       "      <td>0</td>\n",
       "      <td>0</td>\n",
       "      <td>5525015013</td>\n",
       "    </tr>\n",
       "    <tr>\n",
       "      <th>270</th>\n",
       "      <td>1</td>\n",
       "      <td>0</td>\n",
       "      <td>5070003002</td>\n",
       "    </tr>\n",
       "    <tr>\n",
       "      <th>879</th>\n",
       "      <td>0</td>\n",
       "      <td>0</td>\n",
       "      <td>4332020019</td>\n",
       "    </tr>\n",
       "    <tr>\n",
       "      <th>928</th>\n",
       "      <td>0</td>\n",
       "      <td>1</td>\n",
       "      <td>5087009025</td>\n",
       "    </tr>\n",
       "    <tr>\n",
       "      <th>930</th>\n",
       "      <td>0</td>\n",
       "      <td>0</td>\n",
       "      <td>5510012032</td>\n",
       "    </tr>\n",
       "  </tbody>\n",
       "</table>\n",
       "</div>"
      ],
      "text/plain": [
       "      Prediction  Actual      PARCEL\n",
       "786            1       0  5510020027\n",
       "54             0       1  5527034020\n",
       "659            0       0  4305003025\n",
       "799            0       0  4335003011\n",
       "346            0       0  5514009035\n",
       "60             0       1  5510014003\n",
       "955            0       0  5089021001\n",
       "15             1       0  5085003005\n",
       "761            0       0  5510007001\n",
       "780            0       0  5512021001\n",
       "883            1       0  5085008002\n",
       "1169           0       0  5510007013\n",
       "862            0       0  5510007034\n",
       "335            1       0  5510020021\n",
       "382            0       0  5510016019\n",
       "895            0       0  5525015013\n",
       "270            1       0  5070003002\n",
       "879            0       0  4332020019\n",
       "928            0       1  5087009025\n",
       "930            0       0  5510012032"
      ]
     },
     "execution_count": 225,
     "metadata": {},
     "output_type": "execute_result"
    }
   ],
   "source": [
    "results = pd.DataFrame({\"Prediction\": y_pred, \"Actual\": y_test, \"PARCEL\": y_test.index.values}).reset_index(drop=True)\n",
    "results.sample(20)"
   ]
  },
  {
   "cell_type": "code",
   "execution_count": 226,
   "metadata": {},
   "outputs": [
    {
     "data": {
      "text/html": [
       "<div>\n",
       "<style scoped>\n",
       "    .dataframe tbody tr th:only-of-type {\n",
       "        vertical-align: middle;\n",
       "    }\n",
       "\n",
       "    .dataframe tbody tr th {\n",
       "        vertical-align: top;\n",
       "    }\n",
       "\n",
       "    .dataframe thead th {\n",
       "        text-align: right;\n",
       "    }\n",
       "</style>\n",
       "<table border=\"1\" class=\"dataframe\">\n",
       "  <thead>\n",
       "    <tr style=\"text-align: right;\">\n",
       "      <th></th>\n",
       "      <th>Owned by Trust?</th>\n",
       "      <th>Owned by Business?</th>\n",
       "      <th>MAIL DIFFERENT FROM SITE?</th>\n",
       "      <th>MAIL OUTSIDE CA?</th>\n",
       "      <th>TITLECO1</th>\n",
       "      <th>ASSDTOTAL</th>\n",
       "      <th>ASSDLAND</th>\n",
       "      <th>ASSDSTCT</th>\n",
       "      <th>ASSDOTHR</th>\n",
       "      <th>EXEMPTCD</th>\n",
       "      <th>...</th>\n",
       "      <th>NAME CHANGE</th>\n",
       "      <th>Other</th>\n",
       "      <th>PARTNERSHIP</th>\n",
       "      <th>PERSONAL REP</th>\n",
       "      <th>QUIT CLAIM</th>\n",
       "      <th>RE-RECORD</th>\n",
       "      <th>TAX DEED</th>\n",
       "      <th>TRUST TRANSFER</th>\n",
       "      <th>TRUSTEES</th>\n",
       "      <th>WARRANTY</th>\n",
       "    </tr>\n",
       "    <tr>\n",
       "      <th>PARCEL</th>\n",
       "      <th></th>\n",
       "      <th></th>\n",
       "      <th></th>\n",
       "      <th></th>\n",
       "      <th></th>\n",
       "      <th></th>\n",
       "      <th></th>\n",
       "      <th></th>\n",
       "      <th></th>\n",
       "      <th></th>\n",
       "      <th></th>\n",
       "      <th></th>\n",
       "      <th></th>\n",
       "      <th></th>\n",
       "      <th></th>\n",
       "      <th></th>\n",
       "      <th></th>\n",
       "      <th></th>\n",
       "      <th></th>\n",
       "      <th></th>\n",
       "      <th></th>\n",
       "    </tr>\n",
       "  </thead>\n",
       "  <tbody>\n",
       "    <tr>\n",
       "      <th>5085010022</th>\n",
       "      <td>0</td>\n",
       "      <td>0</td>\n",
       "      <td>0</td>\n",
       "      <td>0</td>\n",
       "      <td>1</td>\n",
       "      <td>1157385</td>\n",
       "      <td>925908</td>\n",
       "      <td>231477</td>\n",
       "      <td>0</td>\n",
       "      <td>0</td>\n",
       "      <td>...</td>\n",
       "      <td>0</td>\n",
       "      <td>0</td>\n",
       "      <td>0</td>\n",
       "      <td>0</td>\n",
       "      <td>0</td>\n",
       "      <td>0</td>\n",
       "      <td>0</td>\n",
       "      <td>0</td>\n",
       "      <td>0</td>\n",
       "      <td>0</td>\n",
       "    </tr>\n",
       "    <tr>\n",
       "      <th>5085033008</th>\n",
       "      <td>0</td>\n",
       "      <td>0</td>\n",
       "      <td>1</td>\n",
       "      <td>0</td>\n",
       "      <td>0</td>\n",
       "      <td>57047</td>\n",
       "      <td>40994</td>\n",
       "      <td>16053</td>\n",
       "      <td>0</td>\n",
       "      <td>0</td>\n",
       "      <td>...</td>\n",
       "      <td>0</td>\n",
       "      <td>0</td>\n",
       "      <td>0</td>\n",
       "      <td>0</td>\n",
       "      <td>0</td>\n",
       "      <td>0</td>\n",
       "      <td>0</td>\n",
       "      <td>0</td>\n",
       "      <td>0</td>\n",
       "      <td>0</td>\n",
       "    </tr>\n",
       "    <tr>\n",
       "      <th>5085032022</th>\n",
       "      <td>0</td>\n",
       "      <td>0</td>\n",
       "      <td>0</td>\n",
       "      <td>0</td>\n",
       "      <td>1</td>\n",
       "      <td>651485</td>\n",
       "      <td>521193</td>\n",
       "      <td>130292</td>\n",
       "      <td>0</td>\n",
       "      <td>1</td>\n",
       "      <td>...</td>\n",
       "      <td>0</td>\n",
       "      <td>0</td>\n",
       "      <td>0</td>\n",
       "      <td>0</td>\n",
       "      <td>0</td>\n",
       "      <td>0</td>\n",
       "      <td>0</td>\n",
       "      <td>0</td>\n",
       "      <td>0</td>\n",
       "      <td>0</td>\n",
       "    </tr>\n",
       "    <tr>\n",
       "      <th>5510005006</th>\n",
       "      <td>1</td>\n",
       "      <td>0</td>\n",
       "      <td>1</td>\n",
       "      <td>0</td>\n",
       "      <td>0</td>\n",
       "      <td>85697</td>\n",
       "      <td>74539</td>\n",
       "      <td>11158</td>\n",
       "      <td>0</td>\n",
       "      <td>0</td>\n",
       "      <td>...</td>\n",
       "      <td>0</td>\n",
       "      <td>0</td>\n",
       "      <td>0</td>\n",
       "      <td>0</td>\n",
       "      <td>0</td>\n",
       "      <td>0</td>\n",
       "      <td>0</td>\n",
       "      <td>0</td>\n",
       "      <td>0</td>\n",
       "      <td>0</td>\n",
       "    </tr>\n",
       "    <tr>\n",
       "      <th>5089024002</th>\n",
       "      <td>0</td>\n",
       "      <td>0</td>\n",
       "      <td>0</td>\n",
       "      <td>0</td>\n",
       "      <td>0</td>\n",
       "      <td>62487</td>\n",
       "      <td>42013</td>\n",
       "      <td>20474</td>\n",
       "      <td>0</td>\n",
       "      <td>1</td>\n",
       "      <td>...</td>\n",
       "      <td>0</td>\n",
       "      <td>0</td>\n",
       "      <td>0</td>\n",
       "      <td>0</td>\n",
       "      <td>0</td>\n",
       "      <td>0</td>\n",
       "      <td>0</td>\n",
       "      <td>0</td>\n",
       "      <td>0</td>\n",
       "      <td>0</td>\n",
       "    </tr>\n",
       "  </tbody>\n",
       "</table>\n",
       "<p>5 rows × 56 columns</p>\n",
       "</div>"
      ],
      "text/plain": [
       "            Owned by Trust?  Owned by Business?  MAIL DIFFERENT FROM SITE?  \\\n",
       "PARCEL                                                                       \n",
       "5085010022                0                   0                          0   \n",
       "5085033008                0                   0                          1   \n",
       "5085032022                0                   0                          0   \n",
       "5510005006                1                   0                          1   \n",
       "5089024002                0                   0                          0   \n",
       "\n",
       "            MAIL OUTSIDE CA?  TITLECO1  ASSDTOTAL  ASSDLAND  ASSDSTCT  \\\n",
       "PARCEL                                                                  \n",
       "5085010022                 0         1    1157385    925908    231477   \n",
       "5085033008                 0         0      57047     40994     16053   \n",
       "5085032022                 0         1     651485    521193    130292   \n",
       "5510005006                 0         0      85697     74539     11158   \n",
       "5089024002                 0         0      62487     42013     20474   \n",
       "\n",
       "            ASSDOTHR  EXEMPTCD  ...  NAME CHANGE  Other  PARTNERSHIP  \\\n",
       "PARCEL                          ...                                    \n",
       "5085010022         0         0  ...            0      0            0   \n",
       "5085033008         0         0  ...            0      0            0   \n",
       "5085032022         0         1  ...            0      0            0   \n",
       "5510005006         0         0  ...            0      0            0   \n",
       "5089024002         0         1  ...            0      0            0   \n",
       "\n",
       "            PERSONAL REP  QUIT CLAIM  RE-RECORD  TAX DEED  TRUST TRANSFER  \\\n",
       "PARCEL                                                                      \n",
       "5085010022             0           0          0         0               0   \n",
       "5085033008             0           0          0         0               0   \n",
       "5085032022             0           0          0         0               0   \n",
       "5510005006             0           0          0         0               0   \n",
       "5089024002             0           0          0         0               0   \n",
       "\n",
       "            TRUSTEES  WARRANTY  \n",
       "PARCEL                          \n",
       "5085010022         0         0  \n",
       "5085033008         0         0  \n",
       "5085032022         0         0  \n",
       "5510005006         0         0  \n",
       "5089024002         0         0  \n",
       "\n",
       "[5 rows x 56 columns]"
      ]
     },
     "execution_count": 226,
     "metadata": {},
     "output_type": "execute_result"
    }
   ],
   "source": [
    "Beverly_Grove_Results_SFRs_df = Beverly_Grove_df.merge(results, how=\"left\", right_on=\"PARCEL\", left_on=\"PARCEL\")\n",
    "Beverly_Grove_df.head()"
   ]
  },
  {
   "cell_type": "code",
   "execution_count": 228,
   "metadata": {},
   "outputs": [
    {
     "data": {
      "text/html": [
       "<div>\n",
       "<style scoped>\n",
       "    .dataframe tbody tr th:only-of-type {\n",
       "        vertical-align: middle;\n",
       "    }\n",
       "\n",
       "    .dataframe tbody tr th {\n",
       "        vertical-align: top;\n",
       "    }\n",
       "\n",
       "    .dataframe thead th {\n",
       "        text-align: right;\n",
       "    }\n",
       "</style>\n",
       "<table border=\"1\" class=\"dataframe\">\n",
       "  <thead>\n",
       "    <tr style=\"text-align: right;\">\n",
       "      <th></th>\n",
       "      <th>PARCEL</th>\n",
       "      <th>Did it sell?</th>\n",
       "      <th>Prediction</th>\n",
       "      <th>Actual</th>\n",
       "    </tr>\n",
       "  </thead>\n",
       "  <tbody>\n",
       "    <tr>\n",
       "      <th>0</th>\n",
       "      <td>5085010022</td>\n",
       "      <td>0</td>\n",
       "      <td>NaN</td>\n",
       "      <td>NaN</td>\n",
       "    </tr>\n",
       "    <tr>\n",
       "      <th>1</th>\n",
       "      <td>5085033008</td>\n",
       "      <td>0</td>\n",
       "      <td>0.0</td>\n",
       "      <td>0.0</td>\n",
       "    </tr>\n",
       "    <tr>\n",
       "      <th>2</th>\n",
       "      <td>5085032022</td>\n",
       "      <td>0</td>\n",
       "      <td>NaN</td>\n",
       "      <td>NaN</td>\n",
       "    </tr>\n",
       "    <tr>\n",
       "      <th>3</th>\n",
       "      <td>5510005006</td>\n",
       "      <td>0</td>\n",
       "      <td>0.0</td>\n",
       "      <td>0.0</td>\n",
       "    </tr>\n",
       "    <tr>\n",
       "      <th>4</th>\n",
       "      <td>5089024002</td>\n",
       "      <td>0</td>\n",
       "      <td>NaN</td>\n",
       "      <td>NaN</td>\n",
       "    </tr>\n",
       "  </tbody>\n",
       "</table>\n",
       "</div>"
      ],
      "text/plain": [
       "       PARCEL  Did it sell?  Prediction  Actual\n",
       "0  5085010022             0         NaN     NaN\n",
       "1  5085033008             0         0.0     0.0\n",
       "2  5085032022             0         NaN     NaN\n",
       "3  5510005006             0         0.0     0.0\n",
       "4  5089024002             0         NaN     NaN"
      ]
     },
     "execution_count": 228,
     "metadata": {},
     "output_type": "execute_result"
    }
   ],
   "source": [
    "Beverly_Grove_Results_SFRs_df = pd.DataFrame(Beverly_Grove_Results_SFRs_df, columns = ['PARCEL', 'Did it sell?', 'Prediction', 'Actual'])\n",
    "Beverly_Grove_Results_SFRs_df.head()"
   ]
  },
  {
   "cell_type": "code",
   "execution_count": 229,
   "metadata": {},
   "outputs": [],
   "source": [
    "Beverly_Grove_Results_SFRs_df.to_csv('Beverly_Grove_Results_SFRs.csv')"
   ]
  },
  {
   "cell_type": "markdown",
   "metadata": {},
   "source": [
    "# Now do the Beverly Grove Condos"
   ]
  },
  {
   "cell_type": "code",
   "execution_count": 574,
   "metadata": {},
   "outputs": [
    {
     "data": {
      "text/html": [
       "<div>\n",
       "<style scoped>\n",
       "    .dataframe tbody tr th:only-of-type {\n",
       "        vertical-align: middle;\n",
       "    }\n",
       "\n",
       "    .dataframe tbody tr th {\n",
       "        vertical-align: top;\n",
       "    }\n",
       "\n",
       "    .dataframe thead th {\n",
       "        text-align: right;\n",
       "    }\n",
       "</style>\n",
       "<table border=\"1\" class=\"dataframe\">\n",
       "  <thead>\n",
       "    <tr style=\"text-align: right;\">\n",
       "      <th></th>\n",
       "      <th>Owned by Trust?</th>\n",
       "      <th>Owned by Business?</th>\n",
       "      <th>SITEADDRESS</th>\n",
       "      <th>MAIL DIFFERENT FROM SITE?</th>\n",
       "      <th>MAIL OUTSIDE CA?</th>\n",
       "      <th>TITLECO1</th>\n",
       "      <th>ASSDTOTAL</th>\n",
       "      <th>ASSDLAND</th>\n",
       "      <th>ASSDSTCT</th>\n",
       "      <th>ASSDOTHR</th>\n",
       "      <th>...</th>\n",
       "      <th>NAME CHANGE</th>\n",
       "      <th>Other</th>\n",
       "      <th>PARTNERSHIP</th>\n",
       "      <th>PERSONAL REP</th>\n",
       "      <th>QUIT CLAIM</th>\n",
       "      <th>RE-RECORD</th>\n",
       "      <th>TAX DEED</th>\n",
       "      <th>TRUST TRANSFER</th>\n",
       "      <th>TRUSTEES</th>\n",
       "      <th>WARRANTY</th>\n",
       "    </tr>\n",
       "    <tr>\n",
       "      <th>PARCEL</th>\n",
       "      <th></th>\n",
       "      <th></th>\n",
       "      <th></th>\n",
       "      <th></th>\n",
       "      <th></th>\n",
       "      <th></th>\n",
       "      <th></th>\n",
       "      <th></th>\n",
       "      <th></th>\n",
       "      <th></th>\n",
       "      <th></th>\n",
       "      <th></th>\n",
       "      <th></th>\n",
       "      <th></th>\n",
       "      <th></th>\n",
       "      <th></th>\n",
       "      <th></th>\n",
       "      <th></th>\n",
       "      <th></th>\n",
       "      <th></th>\n",
       "      <th></th>\n",
       "    </tr>\n",
       "  </thead>\n",
       "  <tbody>\n",
       "    <tr>\n",
       "      <th>5085010022</th>\n",
       "      <td>0</td>\n",
       "      <td>0</td>\n",
       "      <td>1030 S Dunsmuir Ave</td>\n",
       "      <td>0</td>\n",
       "      <td>0</td>\n",
       "      <td>1</td>\n",
       "      <td>1157385</td>\n",
       "      <td>925908</td>\n",
       "      <td>231477</td>\n",
       "      <td>0</td>\n",
       "      <td>...</td>\n",
       "      <td>0</td>\n",
       "      <td>0</td>\n",
       "      <td>0</td>\n",
       "      <td>0</td>\n",
       "      <td>0</td>\n",
       "      <td>0</td>\n",
       "      <td>0</td>\n",
       "      <td>0</td>\n",
       "      <td>0</td>\n",
       "      <td>0</td>\n",
       "    </tr>\n",
       "    <tr>\n",
       "      <th>5085033008</th>\n",
       "      <td>0</td>\n",
       "      <td>0</td>\n",
       "      <td>1364 S Ridgeley Dr</td>\n",
       "      <td>1</td>\n",
       "      <td>0</td>\n",
       "      <td>0</td>\n",
       "      <td>57047</td>\n",
       "      <td>40994</td>\n",
       "      <td>16053</td>\n",
       "      <td>0</td>\n",
       "      <td>...</td>\n",
       "      <td>0</td>\n",
       "      <td>0</td>\n",
       "      <td>0</td>\n",
       "      <td>0</td>\n",
       "      <td>0</td>\n",
       "      <td>0</td>\n",
       "      <td>0</td>\n",
       "      <td>0</td>\n",
       "      <td>0</td>\n",
       "      <td>0</td>\n",
       "    </tr>\n",
       "    <tr>\n",
       "      <th>5085032022</th>\n",
       "      <td>0</td>\n",
       "      <td>0</td>\n",
       "      <td>1322 Hauser Blvd</td>\n",
       "      <td>0</td>\n",
       "      <td>0</td>\n",
       "      <td>1</td>\n",
       "      <td>651485</td>\n",
       "      <td>521193</td>\n",
       "      <td>130292</td>\n",
       "      <td>0</td>\n",
       "      <td>...</td>\n",
       "      <td>0</td>\n",
       "      <td>0</td>\n",
       "      <td>0</td>\n",
       "      <td>0</td>\n",
       "      <td>0</td>\n",
       "      <td>0</td>\n",
       "      <td>0</td>\n",
       "      <td>0</td>\n",
       "      <td>0</td>\n",
       "      <td>0</td>\n",
       "    </tr>\n",
       "    <tr>\n",
       "      <th>5510005006</th>\n",
       "      <td>1</td>\n",
       "      <td>0</td>\n",
       "      <td>6727 Drexel Ave</td>\n",
       "      <td>1</td>\n",
       "      <td>0</td>\n",
       "      <td>0</td>\n",
       "      <td>85697</td>\n",
       "      <td>74539</td>\n",
       "      <td>11158</td>\n",
       "      <td>0</td>\n",
       "      <td>...</td>\n",
       "      <td>0</td>\n",
       "      <td>0</td>\n",
       "      <td>0</td>\n",
       "      <td>0</td>\n",
       "      <td>0</td>\n",
       "      <td>0</td>\n",
       "      <td>0</td>\n",
       "      <td>0</td>\n",
       "      <td>0</td>\n",
       "      <td>0</td>\n",
       "    </tr>\n",
       "    <tr>\n",
       "      <th>5089024002</th>\n",
       "      <td>0</td>\n",
       "      <td>0</td>\n",
       "      <td>942 S Cochran Ave</td>\n",
       "      <td>0</td>\n",
       "      <td>0</td>\n",
       "      <td>0</td>\n",
       "      <td>62487</td>\n",
       "      <td>42013</td>\n",
       "      <td>20474</td>\n",
       "      <td>0</td>\n",
       "      <td>...</td>\n",
       "      <td>0</td>\n",
       "      <td>0</td>\n",
       "      <td>0</td>\n",
       "      <td>0</td>\n",
       "      <td>0</td>\n",
       "      <td>0</td>\n",
       "      <td>0</td>\n",
       "      <td>0</td>\n",
       "      <td>0</td>\n",
       "      <td>0</td>\n",
       "    </tr>\n",
       "  </tbody>\n",
       "</table>\n",
       "<p>5 rows × 57 columns</p>\n",
       "</div>"
      ],
      "text/plain": [
       "            Owned by Trust?  Owned by Business?          SITEADDRESS  \\\n",
       "PARCEL                                                                 \n",
       "5085010022                0                   0  1030 S Dunsmuir Ave   \n",
       "5085033008                0                   0   1364 S Ridgeley Dr   \n",
       "5085032022                0                   0     1322 Hauser Blvd   \n",
       "5510005006                1                   0      6727 Drexel Ave   \n",
       "5089024002                0                   0    942 S Cochran Ave   \n",
       "\n",
       "            MAIL DIFFERENT FROM SITE?  MAIL OUTSIDE CA?  TITLECO1  ASSDTOTAL  \\\n",
       "PARCEL                                                                         \n",
       "5085010022                          0                 0         1    1157385   \n",
       "5085033008                          1                 0         0      57047   \n",
       "5085032022                          0                 0         1     651485   \n",
       "5510005006                          1                 0         0      85697   \n",
       "5089024002                          0                 0         0      62487   \n",
       "\n",
       "            ASSDLAND  ASSDSTCT  ASSDOTHR  ...  NAME CHANGE  Other  \\\n",
       "PARCEL                                    ...                       \n",
       "5085010022    925908    231477         0  ...            0      0   \n",
       "5085033008     40994     16053         0  ...            0      0   \n",
       "5085032022    521193    130292         0  ...            0      0   \n",
       "5510005006     74539     11158         0  ...            0      0   \n",
       "5089024002     42013     20474         0  ...            0      0   \n",
       "\n",
       "            PARTNERSHIP  PERSONAL REP  QUIT CLAIM  RE-RECORD  TAX DEED  \\\n",
       "PARCEL                                                                   \n",
       "5085010022            0             0           0          0         0   \n",
       "5085033008            0             0           0          0         0   \n",
       "5085032022            0             0           0          0         0   \n",
       "5510005006            0             0           0          0         0   \n",
       "5089024002            0             0           0          0         0   \n",
       "\n",
       "            TRUST TRANSFER  TRUSTEES  WARRANTY  \n",
       "PARCEL                                          \n",
       "5085010022               0         0         0  \n",
       "5085033008               0         0         0  \n",
       "5085032022               0         0         0  \n",
       "5510005006               0         0         0  \n",
       "5089024002               0         0         0  \n",
       "\n",
       "[5 rows x 57 columns]"
      ]
     },
     "execution_count": 574,
     "metadata": {},
     "output_type": "execute_result"
    }
   ],
   "source": [
    "# bring in our dataframe\n",
    "\n",
    "Beverly_Grove_df = pd.read_csv(path, index_col='PARCEL')\n",
    "Beverly_Grove_df.head()"
   ]
  },
  {
   "cell_type": "code",
   "execution_count": 575,
   "metadata": {},
   "outputs": [],
   "source": [
    "# drop any nulls\n",
    "\n",
    "Beverly_Grove_df = Beverly_Grove_df.dropna()"
   ]
  },
  {
   "cell_type": "code",
   "execution_count": 576,
   "metadata": {},
   "outputs": [],
   "source": [
    "# Change the datatype of these two columns into ints\n",
    "\n",
    "Beverly_Grove_df['TAXAMT'] = Beverly_Grove_df['TAXAMT'].astype(int)\n",
    "Beverly_Grove_df['EFFYRBLT'] = Beverly_Grove_df['EFFYRBLT'].astype(int)"
   ]
  },
  {
   "cell_type": "code",
   "execution_count": 577,
   "metadata": {},
   "outputs": [
    {
     "data": {
      "text/html": [
       "<div>\n",
       "<style scoped>\n",
       "    .dataframe tbody tr th:only-of-type {\n",
       "        vertical-align: middle;\n",
       "    }\n",
       "\n",
       "    .dataframe tbody tr th {\n",
       "        vertical-align: top;\n",
       "    }\n",
       "\n",
       "    .dataframe thead th {\n",
       "        text-align: right;\n",
       "    }\n",
       "</style>\n",
       "<table border=\"1\" class=\"dataframe\">\n",
       "  <thead>\n",
       "    <tr style=\"text-align: right;\">\n",
       "      <th></th>\n",
       "      <th>Owned by Trust?</th>\n",
       "      <th>Owned by Business?</th>\n",
       "      <th>SITEADDRESS</th>\n",
       "      <th>MAIL DIFFERENT FROM SITE?</th>\n",
       "      <th>MAIL OUTSIDE CA?</th>\n",
       "      <th>TITLECO1</th>\n",
       "      <th>ASSDTOTAL</th>\n",
       "      <th>ASSDLAND</th>\n",
       "      <th>ASSDSTCT</th>\n",
       "      <th>ASSDOTHR</th>\n",
       "      <th>...</th>\n",
       "      <th>NAME CHANGE</th>\n",
       "      <th>Other</th>\n",
       "      <th>PARTNERSHIP</th>\n",
       "      <th>PERSONAL REP</th>\n",
       "      <th>QUIT CLAIM</th>\n",
       "      <th>RE-RECORD</th>\n",
       "      <th>TAX DEED</th>\n",
       "      <th>TRUST TRANSFER</th>\n",
       "      <th>TRUSTEES</th>\n",
       "      <th>WARRANTY</th>\n",
       "    </tr>\n",
       "    <tr>\n",
       "      <th>PARCEL</th>\n",
       "      <th></th>\n",
       "      <th></th>\n",
       "      <th></th>\n",
       "      <th></th>\n",
       "      <th></th>\n",
       "      <th></th>\n",
       "      <th></th>\n",
       "      <th></th>\n",
       "      <th></th>\n",
       "      <th></th>\n",
       "      <th></th>\n",
       "      <th></th>\n",
       "      <th></th>\n",
       "      <th></th>\n",
       "      <th></th>\n",
       "      <th></th>\n",
       "      <th></th>\n",
       "      <th></th>\n",
       "      <th></th>\n",
       "      <th></th>\n",
       "      <th></th>\n",
       "    </tr>\n",
       "  </thead>\n",
       "  <tbody>\n",
       "    <tr>\n",
       "      <th>5087012023</th>\n",
       "      <td>0</td>\n",
       "      <td>0</td>\n",
       "      <td>1040 S La Jolla Ave #VE</td>\n",
       "      <td>0</td>\n",
       "      <td>0</td>\n",
       "      <td>0</td>\n",
       "      <td>289000</td>\n",
       "      <td>116000</td>\n",
       "      <td>173000</td>\n",
       "      <td>0</td>\n",
       "      <td>...</td>\n",
       "      <td>0</td>\n",
       "      <td>0</td>\n",
       "      <td>0</td>\n",
       "      <td>0</td>\n",
       "      <td>0</td>\n",
       "      <td>0</td>\n",
       "      <td>0</td>\n",
       "      <td>1</td>\n",
       "      <td>0</td>\n",
       "      <td>0</td>\n",
       "    </tr>\n",
       "    <tr>\n",
       "      <th>4332020041</th>\n",
       "      <td>0</td>\n",
       "      <td>0</td>\n",
       "      <td>1045 S Bedford St #9</td>\n",
       "      <td>1</td>\n",
       "      <td>0</td>\n",
       "      <td>0</td>\n",
       "      <td>151323</td>\n",
       "      <td>41266</td>\n",
       "      <td>110057</td>\n",
       "      <td>0</td>\n",
       "      <td>...</td>\n",
       "      <td>0</td>\n",
       "      <td>0</td>\n",
       "      <td>0</td>\n",
       "      <td>0</td>\n",
       "      <td>0</td>\n",
       "      <td>0</td>\n",
       "      <td>0</td>\n",
       "      <td>0</td>\n",
       "      <td>0</td>\n",
       "      <td>0</td>\n",
       "    </tr>\n",
       "    <tr>\n",
       "      <th>4332020051</th>\n",
       "      <td>0</td>\n",
       "      <td>0</td>\n",
       "      <td>1045 S Bedford St #1</td>\n",
       "      <td>0</td>\n",
       "      <td>0</td>\n",
       "      <td>0</td>\n",
       "      <td>376863</td>\n",
       "      <td>223789</td>\n",
       "      <td>153074</td>\n",
       "      <td>0</td>\n",
       "      <td>...</td>\n",
       "      <td>0</td>\n",
       "      <td>0</td>\n",
       "      <td>0</td>\n",
       "      <td>0</td>\n",
       "      <td>0</td>\n",
       "      <td>0</td>\n",
       "      <td>0</td>\n",
       "      <td>0</td>\n",
       "      <td>0</td>\n",
       "      <td>0</td>\n",
       "    </tr>\n",
       "  </tbody>\n",
       "</table>\n",
       "<p>3 rows × 57 columns</p>\n",
       "</div>"
      ],
      "text/plain": [
       "            Owned by Trust?  Owned by Business?              SITEADDRESS  \\\n",
       "PARCEL                                                                     \n",
       "5087012023                0                   0  1040 S La Jolla Ave #VE   \n",
       "4332020041                0                   0     1045 S Bedford St #9   \n",
       "4332020051                0                   0     1045 S Bedford St #1   \n",
       "\n",
       "            MAIL DIFFERENT FROM SITE?  MAIL OUTSIDE CA?  TITLECO1  ASSDTOTAL  \\\n",
       "PARCEL                                                                         \n",
       "5087012023                          0                 0         0     289000   \n",
       "4332020041                          1                 0         0     151323   \n",
       "4332020051                          0                 0         0     376863   \n",
       "\n",
       "            ASSDLAND  ASSDSTCT  ASSDOTHR  ...  NAME CHANGE  Other  \\\n",
       "PARCEL                                    ...                       \n",
       "5087012023    116000    173000         0  ...            0      0   \n",
       "4332020041     41266    110057         0  ...            0      0   \n",
       "4332020051    223789    153074         0  ...            0      0   \n",
       "\n",
       "            PARTNERSHIP  PERSONAL REP  QUIT CLAIM  RE-RECORD  TAX DEED  \\\n",
       "PARCEL                                                                   \n",
       "5087012023            0             0           0          0         0   \n",
       "4332020041            0             0           0          0         0   \n",
       "4332020051            0             0           0          0         0   \n",
       "\n",
       "            TRUST TRANSFER  TRUSTEES  WARRANTY  \n",
       "PARCEL                                          \n",
       "5087012023               1         0         0  \n",
       "4332020041               0         0         0  \n",
       "4332020051               0         0         0  \n",
       "\n",
       "[3 rows x 57 columns]"
      ]
     },
     "execution_count": 577,
     "metadata": {},
     "output_type": "execute_result"
    }
   ],
   "source": [
    "# Make sure our dataframe is only Condos so exclude every property that doesn't have a '#' in its site address\n",
    "\n",
    "Beverly_Grove_df = Beverly_Grove_df[Beverly_Grove_df['SITEADDRESS'].str.contains('#')]\n",
    "Beverly_Grove_df.head(3)"
   ]
  },
  {
   "cell_type": "code",
   "execution_count": 578,
   "metadata": {},
   "outputs": [],
   "source": [
    "# Now drop the SiteAddress column\n",
    "Beverly_Grove_df.drop(['SITEADDRESS'], axis=1, inplace=True)"
   ]
  },
  {
   "cell_type": "code",
   "execution_count": 579,
   "metadata": {},
   "outputs": [],
   "source": [
    "# Step 1: Create our X and y\n",
    "\n",
    "y = Beverly_Grove_df['Did it sell?']\n",
    "X = Beverly_Grove_df.drop(['Did it sell?'], 1)"
   ]
  },
  {
   "cell_type": "code",
   "execution_count": 580,
   "metadata": {},
   "outputs": [
    {
     "data": {
      "text/plain": [
       "array([5087012023, 4332020041, 4332020051, ..., 5089003038, 5089003039,\n",
       "       5089003040])"
      ]
     },
     "execution_count": 580,
     "metadata": {},
     "output_type": "execute_result"
    }
   ],
   "source": [
    "APN = Beverly_Grove_df.index.values\n",
    "APN"
   ]
  },
  {
   "cell_type": "code",
   "execution_count": 581,
   "metadata": {},
   "outputs": [],
   "source": [
    "# Step 2: Use PCA to reduce dimension to three principal components.\n",
    "from sklearn.decomposition import PCA\n",
    "\n",
    "pca = PCA(n_components=3)\n",
    "X_pca = pca.fit_transform(X)"
   ]
  },
  {
   "cell_type": "code",
   "execution_count": 582,
   "metadata": {},
   "outputs": [],
   "source": [
    "# Step 3: Train, test, split\n",
    "\n",
    "X_train, X_test, y_train, y_test = train_test_split(X_pca, y, random_state=78, stratify=y)"
   ]
  },
  {
   "cell_type": "code",
   "execution_count": 583,
   "metadata": {},
   "outputs": [],
   "source": [
    "# Step 4: Scale our data\n",
    "\n",
    "# Create the StandardScaler instance\n",
    "scaler = StandardScaler()\n",
    "\n",
    "# Fit our scaler, named 'scaler' to our data, which produces a new StandardScaler object\n",
    "# which we call 'X_scaler'\n",
    "X_scaler = scaler.fit(X_train)\n",
    "\n",
    "# Scale the data\n",
    "X_train_scaled = X_scaler.transform(X_train)\n",
    "X_test_scaled = X_scaler.transform(X_test)"
   ]
  },
  {
   "cell_type": "code",
   "execution_count": 584,
   "metadata": {},
   "outputs": [],
   "source": [
    "X_train_scaled_APN = []"
   ]
  },
  {
   "cell_type": "code",
   "execution_count": 585,
   "metadata": {},
   "outputs": [
    {
     "data": {
      "text/plain": [
       "Counter({0: 1380, 1: 1380})"
      ]
     },
     "execution_count": 585,
     "metadata": {},
     "output_type": "execute_result"
    }
   ],
   "source": [
    "# implement random oversampling\n",
    "from imblearn.over_sampling import RandomOverSampler\n",
    "ros = RandomOverSampler(random_state=1)\n",
    "X_random_oversampled, y_random_oversampled = ros.fit_resample(X_train_scaled, y_train)\n",
    "\n",
    "Counter(y_random_oversampled)"
   ]
  },
  {
   "cell_type": "code",
   "execution_count": 586,
   "metadata": {},
   "outputs": [
    {
     "data": {
      "text/plain": [
       "LogisticRegression(class_weight='balanced', max_iter=300, random_state=78)"
      ]
     },
     "execution_count": 586,
     "metadata": {},
     "output_type": "execute_result"
    }
   ],
   "source": [
    "# Logistic regression using random oversampled data\n",
    "from sklearn.linear_model import LogisticRegression\n",
    "\n",
    "model = LogisticRegression(solver='lbfgs', \n",
    "                                max_iter=300,\n",
    "                                random_state=78,\n",
    "                                class_weight=\"balanced\")\n",
    "\n",
    "model.fit(X_random_oversampled, y_random_oversampled)"
   ]
  },
  {
   "cell_type": "code",
   "execution_count": 587,
   "metadata": {},
   "outputs": [],
   "source": [
    "# Evaluate the model\n",
    "y_pred = model.predict(X_test_scaled)"
   ]
  },
  {
   "cell_type": "code",
   "execution_count": 588,
   "metadata": {},
   "outputs": [
    {
     "name": "stdout",
     "output_type": "stream",
     "text": [
      " Logistic regression model accuracy: 0.566\n"
     ]
    }
   ],
   "source": [
    "print(f\" Logistic regression model accuracy: {accuracy_score(y_test, y_pred):.3f}\")"
   ]
  },
  {
   "cell_type": "code",
   "execution_count": 589,
   "metadata": {},
   "outputs": [
    {
     "data": {
      "text/plain": [
       "0.48128019323671495"
      ]
     },
     "execution_count": 589,
     "metadata": {},
     "output_type": "execute_result"
    }
   ],
   "source": [
    "# just for shits n' gigs, lets find the balanced accuracy score\n",
    "\n",
    "from sklearn.metrics import balanced_accuracy_score\n",
    "balanced_accuracy_score(y_test, y_pred)"
   ]
  },
  {
   "cell_type": "code",
   "execution_count": 590,
   "metadata": {},
   "outputs": [
    {
     "data": {
      "text/plain": [
       "0.6593455279133104"
      ]
     },
     "execution_count": 590,
     "metadata": {},
     "output_type": "execute_result"
    }
   ],
   "source": [
    "f1_score(y_test, y_pred, average=\"weighted\")"
   ]
  },
  {
   "cell_type": "code",
   "execution_count": 248,
   "metadata": {},
   "outputs": [
    {
     "data": {
      "text/plain": [
       "array([[269, 191],\n",
       "       [ 28,  17]])"
      ]
     },
     "execution_count": 248,
     "metadata": {},
     "output_type": "execute_result"
    }
   ],
   "source": [
    "# See our results in a confusion matrix\n",
    "from sklearn.metrics import confusion_matrix\n",
    "confusion_matrix(y_test, y_pred)"
   ]
  },
  {
   "cell_type": "code",
   "execution_count": 249,
   "metadata": {},
   "outputs": [
    {
     "name": "stdout",
     "output_type": "stream",
     "text": [
      "              precision    recall  f1-score   support\n",
      "\n",
      "           0       0.91      0.58      0.71       460\n",
      "           1       0.08      0.38      0.13        45\n",
      "\n",
      "    accuracy                           0.57       505\n",
      "   macro avg       0.49      0.48      0.42       505\n",
      "weighted avg       0.83      0.57      0.66       505\n",
      "\n"
     ]
    }
   ],
   "source": [
    "# evaluate\n",
    "from sklearn.metrics import classification_report\n",
    "print(classification_report(y_test, y_pred))"
   ]
  },
  {
   "cell_type": "code",
   "execution_count": 250,
   "metadata": {},
   "outputs": [
    {
     "data": {
      "text/html": [
       "<div>\n",
       "<style scoped>\n",
       "    .dataframe tbody tr th:only-of-type {\n",
       "        vertical-align: middle;\n",
       "    }\n",
       "\n",
       "    .dataframe tbody tr th {\n",
       "        vertical-align: top;\n",
       "    }\n",
       "\n",
       "    .dataframe thead th {\n",
       "        text-align: right;\n",
       "    }\n",
       "</style>\n",
       "<table border=\"1\" class=\"dataframe\">\n",
       "  <thead>\n",
       "    <tr style=\"text-align: right;\">\n",
       "      <th></th>\n",
       "      <th>Prediction</th>\n",
       "      <th>Actual</th>\n",
       "      <th>PARCEL</th>\n",
       "    </tr>\n",
       "  </thead>\n",
       "  <tbody>\n",
       "    <tr>\n",
       "      <th>25</th>\n",
       "      <td>0</td>\n",
       "      <td>0</td>\n",
       "      <td>5510027049</td>\n",
       "    </tr>\n",
       "    <tr>\n",
       "      <th>489</th>\n",
       "      <td>1</td>\n",
       "      <td>0</td>\n",
       "      <td>4333014056</td>\n",
       "    </tr>\n",
       "    <tr>\n",
       "      <th>375</th>\n",
       "      <td>1</td>\n",
       "      <td>0</td>\n",
       "      <td>4335008149</td>\n",
       "    </tr>\n",
       "    <tr>\n",
       "      <th>353</th>\n",
       "      <td>1</td>\n",
       "      <td>0</td>\n",
       "      <td>4334009045</td>\n",
       "    </tr>\n",
       "    <tr>\n",
       "      <th>503</th>\n",
       "      <td>0</td>\n",
       "      <td>0</td>\n",
       "      <td>4332021057</td>\n",
       "    </tr>\n",
       "    <tr>\n",
       "      <th>435</th>\n",
       "      <td>0</td>\n",
       "      <td>0</td>\n",
       "      <td>5089011092</td>\n",
       "    </tr>\n",
       "    <tr>\n",
       "      <th>420</th>\n",
       "      <td>0</td>\n",
       "      <td>1</td>\n",
       "      <td>4335012133</td>\n",
       "    </tr>\n",
       "    <tr>\n",
       "      <th>143</th>\n",
       "      <td>1</td>\n",
       "      <td>0</td>\n",
       "      <td>4335001053</td>\n",
       "    </tr>\n",
       "    <tr>\n",
       "      <th>356</th>\n",
       "      <td>0</td>\n",
       "      <td>0</td>\n",
       "      <td>4333014043</td>\n",
       "    </tr>\n",
       "    <tr>\n",
       "      <th>454</th>\n",
       "      <td>0</td>\n",
       "      <td>0</td>\n",
       "      <td>4335004032</td>\n",
       "    </tr>\n",
       "    <tr>\n",
       "      <th>458</th>\n",
       "      <td>1</td>\n",
       "      <td>1</td>\n",
       "      <td>4334009038</td>\n",
       "    </tr>\n",
       "    <tr>\n",
       "      <th>163</th>\n",
       "      <td>1</td>\n",
       "      <td>0</td>\n",
       "      <td>4333014072</td>\n",
       "    </tr>\n",
       "    <tr>\n",
       "      <th>269</th>\n",
       "      <td>1</td>\n",
       "      <td>0</td>\n",
       "      <td>4335011047</td>\n",
       "    </tr>\n",
       "    <tr>\n",
       "      <th>383</th>\n",
       "      <td>1</td>\n",
       "      <td>0</td>\n",
       "      <td>5089010028</td>\n",
       "    </tr>\n",
       "    <tr>\n",
       "      <th>187</th>\n",
       "      <td>1</td>\n",
       "      <td>0</td>\n",
       "      <td>4335004037</td>\n",
       "    </tr>\n",
       "    <tr>\n",
       "      <th>135</th>\n",
       "      <td>1</td>\n",
       "      <td>0</td>\n",
       "      <td>5511025048</td>\n",
       "    </tr>\n",
       "    <tr>\n",
       "      <th>229</th>\n",
       "      <td>0</td>\n",
       "      <td>0</td>\n",
       "      <td>5510026063</td>\n",
       "    </tr>\n",
       "    <tr>\n",
       "      <th>63</th>\n",
       "      <td>1</td>\n",
       "      <td>0</td>\n",
       "      <td>4334009164</td>\n",
       "    </tr>\n",
       "    <tr>\n",
       "      <th>321</th>\n",
       "      <td>1</td>\n",
       "      <td>0</td>\n",
       "      <td>4334016063</td>\n",
       "    </tr>\n",
       "    <tr>\n",
       "      <th>381</th>\n",
       "      <td>1</td>\n",
       "      <td>0</td>\n",
       "      <td>5511008025</td>\n",
       "    </tr>\n",
       "  </tbody>\n",
       "</table>\n",
       "</div>"
      ],
      "text/plain": [
       "     Prediction  Actual      PARCEL\n",
       "25            0       0  5510027049\n",
       "489           1       0  4333014056\n",
       "375           1       0  4335008149\n",
       "353           1       0  4334009045\n",
       "503           0       0  4332021057\n",
       "435           0       0  5089011092\n",
       "420           0       1  4335012133\n",
       "143           1       0  4335001053\n",
       "356           0       0  4333014043\n",
       "454           0       0  4335004032\n",
       "458           1       1  4334009038\n",
       "163           1       0  4333014072\n",
       "269           1       0  4335011047\n",
       "383           1       0  5089010028\n",
       "187           1       0  4335004037\n",
       "135           1       0  5511025048\n",
       "229           0       0  5510026063\n",
       "63            1       0  4334009164\n",
       "321           1       0  4334016063\n",
       "381           1       0  5511008025"
      ]
     },
     "execution_count": 250,
     "metadata": {},
     "output_type": "execute_result"
    }
   ],
   "source": [
    "results = pd.DataFrame({\"Prediction\": y_pred, \"Actual\": y_test, \"PARCEL\": y_test.index.values}).reset_index(drop=True)\n",
    "results.sample(20)"
   ]
  },
  {
   "cell_type": "code",
   "execution_count": 251,
   "metadata": {},
   "outputs": [
    {
     "data": {
      "text/html": [
       "<div>\n",
       "<style scoped>\n",
       "    .dataframe tbody tr th:only-of-type {\n",
       "        vertical-align: middle;\n",
       "    }\n",
       "\n",
       "    .dataframe tbody tr th {\n",
       "        vertical-align: top;\n",
       "    }\n",
       "\n",
       "    .dataframe thead th {\n",
       "        text-align: right;\n",
       "    }\n",
       "</style>\n",
       "<table border=\"1\" class=\"dataframe\">\n",
       "  <thead>\n",
       "    <tr style=\"text-align: right;\">\n",
       "      <th></th>\n",
       "      <th>PARCEL</th>\n",
       "      <th>Owned by Trust?</th>\n",
       "      <th>Owned by Business?</th>\n",
       "      <th>MAIL DIFFERENT FROM SITE?</th>\n",
       "      <th>MAIL OUTSIDE CA?</th>\n",
       "      <th>TITLECO1</th>\n",
       "      <th>ASSDTOTAL</th>\n",
       "      <th>ASSDLAND</th>\n",
       "      <th>ASSDSTCT</th>\n",
       "      <th>ASSDOTHR</th>\n",
       "      <th>...</th>\n",
       "      <th>PARTNERSHIP</th>\n",
       "      <th>PERSONAL REP</th>\n",
       "      <th>QUIT CLAIM</th>\n",
       "      <th>RE-RECORD</th>\n",
       "      <th>TAX DEED</th>\n",
       "      <th>TRUST TRANSFER</th>\n",
       "      <th>TRUSTEES</th>\n",
       "      <th>WARRANTY</th>\n",
       "      <th>Prediction</th>\n",
       "      <th>Actual</th>\n",
       "    </tr>\n",
       "  </thead>\n",
       "  <tbody>\n",
       "    <tr>\n",
       "      <th>0</th>\n",
       "      <td>5087012023</td>\n",
       "      <td>0</td>\n",
       "      <td>0</td>\n",
       "      <td>0</td>\n",
       "      <td>0</td>\n",
       "      <td>0</td>\n",
       "      <td>289000</td>\n",
       "      <td>116000</td>\n",
       "      <td>173000</td>\n",
       "      <td>0</td>\n",
       "      <td>...</td>\n",
       "      <td>0</td>\n",
       "      <td>0</td>\n",
       "      <td>0</td>\n",
       "      <td>0</td>\n",
       "      <td>0</td>\n",
       "      <td>1</td>\n",
       "      <td>0</td>\n",
       "      <td>0</td>\n",
       "      <td>0.0</td>\n",
       "      <td>0.0</td>\n",
       "    </tr>\n",
       "    <tr>\n",
       "      <th>1</th>\n",
       "      <td>4332020041</td>\n",
       "      <td>0</td>\n",
       "      <td>0</td>\n",
       "      <td>1</td>\n",
       "      <td>0</td>\n",
       "      <td>0</td>\n",
       "      <td>151323</td>\n",
       "      <td>41266</td>\n",
       "      <td>110057</td>\n",
       "      <td>0</td>\n",
       "      <td>...</td>\n",
       "      <td>0</td>\n",
       "      <td>0</td>\n",
       "      <td>0</td>\n",
       "      <td>0</td>\n",
       "      <td>0</td>\n",
       "      <td>0</td>\n",
       "      <td>0</td>\n",
       "      <td>0</td>\n",
       "      <td>0.0</td>\n",
       "      <td>0.0</td>\n",
       "    </tr>\n",
       "    <tr>\n",
       "      <th>2</th>\n",
       "      <td>4332020051</td>\n",
       "      <td>0</td>\n",
       "      <td>0</td>\n",
       "      <td>0</td>\n",
       "      <td>0</td>\n",
       "      <td>0</td>\n",
       "      <td>376863</td>\n",
       "      <td>223789</td>\n",
       "      <td>153074</td>\n",
       "      <td>0</td>\n",
       "      <td>...</td>\n",
       "      <td>0</td>\n",
       "      <td>0</td>\n",
       "      <td>0</td>\n",
       "      <td>0</td>\n",
       "      <td>0</td>\n",
       "      <td>0</td>\n",
       "      <td>0</td>\n",
       "      <td>0</td>\n",
       "      <td>NaN</td>\n",
       "      <td>NaN</td>\n",
       "    </tr>\n",
       "    <tr>\n",
       "      <th>3</th>\n",
       "      <td>4332020042</td>\n",
       "      <td>0</td>\n",
       "      <td>0</td>\n",
       "      <td>1</td>\n",
       "      <td>0</td>\n",
       "      <td>1</td>\n",
       "      <td>255813</td>\n",
       "      <td>148748</td>\n",
       "      <td>107065</td>\n",
       "      <td>0</td>\n",
       "      <td>...</td>\n",
       "      <td>0</td>\n",
       "      <td>0</td>\n",
       "      <td>0</td>\n",
       "      <td>0</td>\n",
       "      <td>0</td>\n",
       "      <td>0</td>\n",
       "      <td>0</td>\n",
       "      <td>0</td>\n",
       "      <td>NaN</td>\n",
       "      <td>NaN</td>\n",
       "    </tr>\n",
       "    <tr>\n",
       "      <th>4</th>\n",
       "      <td>4332020043</td>\n",
       "      <td>1</td>\n",
       "      <td>0</td>\n",
       "      <td>1</td>\n",
       "      <td>0</td>\n",
       "      <td>1</td>\n",
       "      <td>176090</td>\n",
       "      <td>38515</td>\n",
       "      <td>137575</td>\n",
       "      <td>0</td>\n",
       "      <td>...</td>\n",
       "      <td>0</td>\n",
       "      <td>0</td>\n",
       "      <td>1</td>\n",
       "      <td>0</td>\n",
       "      <td>0</td>\n",
       "      <td>0</td>\n",
       "      <td>0</td>\n",
       "      <td>0</td>\n",
       "      <td>NaN</td>\n",
       "      <td>NaN</td>\n",
       "    </tr>\n",
       "  </tbody>\n",
       "</table>\n",
       "<p>5 rows × 59 columns</p>\n",
       "</div>"
      ],
      "text/plain": [
       "       PARCEL  Owned by Trust?  Owned by Business?  MAIL DIFFERENT FROM SITE?  \\\n",
       "0  5087012023                0                   0                          0   \n",
       "1  4332020041                0                   0                          1   \n",
       "2  4332020051                0                   0                          0   \n",
       "3  4332020042                0                   0                          1   \n",
       "4  4332020043                1                   0                          1   \n",
       "\n",
       "   MAIL OUTSIDE CA?  TITLECO1  ASSDTOTAL  ASSDLAND  ASSDSTCT  ASSDOTHR  ...  \\\n",
       "0                 0         0     289000    116000    173000         0  ...   \n",
       "1                 0         0     151323     41266    110057         0  ...   \n",
       "2                 0         0     376863    223789    153074         0  ...   \n",
       "3                 0         1     255813    148748    107065         0  ...   \n",
       "4                 0         1     176090     38515    137575         0  ...   \n",
       "\n",
       "   PARTNERSHIP  PERSONAL REP  QUIT CLAIM  RE-RECORD  TAX DEED  TRUST TRANSFER  \\\n",
       "0            0             0           0          0         0               1   \n",
       "1            0             0           0          0         0               0   \n",
       "2            0             0           0          0         0               0   \n",
       "3            0             0           0          0         0               0   \n",
       "4            0             0           1          0         0               0   \n",
       "\n",
       "   TRUSTEES  WARRANTY  Prediction  Actual  \n",
       "0         0         0         0.0     0.0  \n",
       "1         0         0         0.0     0.0  \n",
       "2         0         0         NaN     NaN  \n",
       "3         0         0         NaN     NaN  \n",
       "4         0         0         NaN     NaN  \n",
       "\n",
       "[5 rows x 59 columns]"
      ]
     },
     "execution_count": 251,
     "metadata": {},
     "output_type": "execute_result"
    }
   ],
   "source": [
    "Beverly_Grove_Results_Condos_df = Beverly_Grove_df.merge(results, how=\"left\", right_on=\"PARCEL\", left_on=\"PARCEL\")\n",
    "Beverly_Grove_Results_Condos_df.head()"
   ]
  },
  {
   "cell_type": "code",
   "execution_count": 252,
   "metadata": {},
   "outputs": [
    {
     "data": {
      "text/html": [
       "<div>\n",
       "<style scoped>\n",
       "    .dataframe tbody tr th:only-of-type {\n",
       "        vertical-align: middle;\n",
       "    }\n",
       "\n",
       "    .dataframe tbody tr th {\n",
       "        vertical-align: top;\n",
       "    }\n",
       "\n",
       "    .dataframe thead th {\n",
       "        text-align: right;\n",
       "    }\n",
       "</style>\n",
       "<table border=\"1\" class=\"dataframe\">\n",
       "  <thead>\n",
       "    <tr style=\"text-align: right;\">\n",
       "      <th></th>\n",
       "      <th>PARCEL</th>\n",
       "      <th>Did it sell?</th>\n",
       "      <th>Prediction</th>\n",
       "      <th>Actual</th>\n",
       "    </tr>\n",
       "  </thead>\n",
       "  <tbody>\n",
       "    <tr>\n",
       "      <th>0</th>\n",
       "      <td>5087012023</td>\n",
       "      <td>0</td>\n",
       "      <td>0.0</td>\n",
       "      <td>0.0</td>\n",
       "    </tr>\n",
       "    <tr>\n",
       "      <th>1</th>\n",
       "      <td>4332020041</td>\n",
       "      <td>0</td>\n",
       "      <td>0.0</td>\n",
       "      <td>0.0</td>\n",
       "    </tr>\n",
       "    <tr>\n",
       "      <th>2</th>\n",
       "      <td>4332020051</td>\n",
       "      <td>0</td>\n",
       "      <td>NaN</td>\n",
       "      <td>NaN</td>\n",
       "    </tr>\n",
       "  </tbody>\n",
       "</table>\n",
       "</div>"
      ],
      "text/plain": [
       "       PARCEL  Did it sell?  Prediction  Actual\n",
       "0  5087012023             0         0.0     0.0\n",
       "1  4332020041             0         0.0     0.0\n",
       "2  4332020051             0         NaN     NaN"
      ]
     },
     "execution_count": 252,
     "metadata": {},
     "output_type": "execute_result"
    }
   ],
   "source": [
    "Beverly_Grove_Results_Condos_df = pd.DataFrame(Beverly_Grove_Results_Condos_df, columns = ['PARCEL', 'Did it sell?', 'Prediction', 'Actual'])\n",
    "Beverly_Grove_Results_Condos_df.head(3)"
   ]
  },
  {
   "cell_type": "code",
   "execution_count": 254,
   "metadata": {},
   "outputs": [],
   "source": [
    "Beverly_Grove_Results_Condos_df.to_csv('Beverly_Grove_Results_Condos.csv')"
   ]
  },
  {
   "cell_type": "markdown",
   "metadata": {},
   "source": [
    "# Attempt 17: Same as Attempt 16, but Oversample before splitting"
   ]
  },
  {
   "cell_type": "code",
   "execution_count": 518,
   "metadata": {},
   "outputs": [
    {
     "data": {
      "text/html": [
       "<div>\n",
       "<style scoped>\n",
       "    .dataframe tbody tr th:only-of-type {\n",
       "        vertical-align: middle;\n",
       "    }\n",
       "\n",
       "    .dataframe tbody tr th {\n",
       "        vertical-align: top;\n",
       "    }\n",
       "\n",
       "    .dataframe thead th {\n",
       "        text-align: right;\n",
       "    }\n",
       "</style>\n",
       "<table border=\"1\" class=\"dataframe\">\n",
       "  <thead>\n",
       "    <tr style=\"text-align: right;\">\n",
       "      <th></th>\n",
       "      <th>Owned by Trust?</th>\n",
       "      <th>Owned by Business?</th>\n",
       "      <th>SITEADDRESS</th>\n",
       "      <th>MAIL DIFFERENT FROM SITE?</th>\n",
       "      <th>MAIL OUTSIDE CA?</th>\n",
       "      <th>TITLECO1</th>\n",
       "      <th>ASSDTOTAL</th>\n",
       "      <th>ASSDLAND</th>\n",
       "      <th>ASSDSTCT</th>\n",
       "      <th>ASSDOTHR</th>\n",
       "      <th>...</th>\n",
       "      <th>NAME CHANGE</th>\n",
       "      <th>Other</th>\n",
       "      <th>PARTNERSHIP</th>\n",
       "      <th>PERSONAL REP</th>\n",
       "      <th>QUIT CLAIM</th>\n",
       "      <th>RE-RECORD</th>\n",
       "      <th>TAX DEED</th>\n",
       "      <th>TRUST TRANSFER</th>\n",
       "      <th>TRUSTEES</th>\n",
       "      <th>WARRANTY</th>\n",
       "    </tr>\n",
       "    <tr>\n",
       "      <th>PARCEL</th>\n",
       "      <th></th>\n",
       "      <th></th>\n",
       "      <th></th>\n",
       "      <th></th>\n",
       "      <th></th>\n",
       "      <th></th>\n",
       "      <th></th>\n",
       "      <th></th>\n",
       "      <th></th>\n",
       "      <th></th>\n",
       "      <th></th>\n",
       "      <th></th>\n",
       "      <th></th>\n",
       "      <th></th>\n",
       "      <th></th>\n",
       "      <th></th>\n",
       "      <th></th>\n",
       "      <th></th>\n",
       "      <th></th>\n",
       "      <th></th>\n",
       "      <th></th>\n",
       "    </tr>\n",
       "  </thead>\n",
       "  <tbody>\n",
       "    <tr>\n",
       "      <th>5085010022</th>\n",
       "      <td>0</td>\n",
       "      <td>0</td>\n",
       "      <td>1030 S Dunsmuir Ave</td>\n",
       "      <td>0</td>\n",
       "      <td>0</td>\n",
       "      <td>1</td>\n",
       "      <td>1157385</td>\n",
       "      <td>925908</td>\n",
       "      <td>231477</td>\n",
       "      <td>0</td>\n",
       "      <td>...</td>\n",
       "      <td>0</td>\n",
       "      <td>0</td>\n",
       "      <td>0</td>\n",
       "      <td>0</td>\n",
       "      <td>0</td>\n",
       "      <td>0</td>\n",
       "      <td>0</td>\n",
       "      <td>0</td>\n",
       "      <td>0</td>\n",
       "      <td>0</td>\n",
       "    </tr>\n",
       "    <tr>\n",
       "      <th>5085033008</th>\n",
       "      <td>0</td>\n",
       "      <td>0</td>\n",
       "      <td>1364 S Ridgeley Dr</td>\n",
       "      <td>1</td>\n",
       "      <td>0</td>\n",
       "      <td>0</td>\n",
       "      <td>57047</td>\n",
       "      <td>40994</td>\n",
       "      <td>16053</td>\n",
       "      <td>0</td>\n",
       "      <td>...</td>\n",
       "      <td>0</td>\n",
       "      <td>0</td>\n",
       "      <td>0</td>\n",
       "      <td>0</td>\n",
       "      <td>0</td>\n",
       "      <td>0</td>\n",
       "      <td>0</td>\n",
       "      <td>0</td>\n",
       "      <td>0</td>\n",
       "      <td>0</td>\n",
       "    </tr>\n",
       "    <tr>\n",
       "      <th>5085032022</th>\n",
       "      <td>0</td>\n",
       "      <td>0</td>\n",
       "      <td>1322 Hauser Blvd</td>\n",
       "      <td>0</td>\n",
       "      <td>0</td>\n",
       "      <td>1</td>\n",
       "      <td>651485</td>\n",
       "      <td>521193</td>\n",
       "      <td>130292</td>\n",
       "      <td>0</td>\n",
       "      <td>...</td>\n",
       "      <td>0</td>\n",
       "      <td>0</td>\n",
       "      <td>0</td>\n",
       "      <td>0</td>\n",
       "      <td>0</td>\n",
       "      <td>0</td>\n",
       "      <td>0</td>\n",
       "      <td>0</td>\n",
       "      <td>0</td>\n",
       "      <td>0</td>\n",
       "    </tr>\n",
       "    <tr>\n",
       "      <th>5510005006</th>\n",
       "      <td>1</td>\n",
       "      <td>0</td>\n",
       "      <td>6727 Drexel Ave</td>\n",
       "      <td>1</td>\n",
       "      <td>0</td>\n",
       "      <td>0</td>\n",
       "      <td>85697</td>\n",
       "      <td>74539</td>\n",
       "      <td>11158</td>\n",
       "      <td>0</td>\n",
       "      <td>...</td>\n",
       "      <td>0</td>\n",
       "      <td>0</td>\n",
       "      <td>0</td>\n",
       "      <td>0</td>\n",
       "      <td>0</td>\n",
       "      <td>0</td>\n",
       "      <td>0</td>\n",
       "      <td>0</td>\n",
       "      <td>0</td>\n",
       "      <td>0</td>\n",
       "    </tr>\n",
       "    <tr>\n",
       "      <th>5089024002</th>\n",
       "      <td>0</td>\n",
       "      <td>0</td>\n",
       "      <td>942 S Cochran Ave</td>\n",
       "      <td>0</td>\n",
       "      <td>0</td>\n",
       "      <td>0</td>\n",
       "      <td>62487</td>\n",
       "      <td>42013</td>\n",
       "      <td>20474</td>\n",
       "      <td>0</td>\n",
       "      <td>...</td>\n",
       "      <td>0</td>\n",
       "      <td>0</td>\n",
       "      <td>0</td>\n",
       "      <td>0</td>\n",
       "      <td>0</td>\n",
       "      <td>0</td>\n",
       "      <td>0</td>\n",
       "      <td>0</td>\n",
       "      <td>0</td>\n",
       "      <td>0</td>\n",
       "    </tr>\n",
       "  </tbody>\n",
       "</table>\n",
       "<p>5 rows × 57 columns</p>\n",
       "</div>"
      ],
      "text/plain": [
       "            Owned by Trust?  Owned by Business?          SITEADDRESS  \\\n",
       "PARCEL                                                                 \n",
       "5085010022                0                   0  1030 S Dunsmuir Ave   \n",
       "5085033008                0                   0   1364 S Ridgeley Dr   \n",
       "5085032022                0                   0     1322 Hauser Blvd   \n",
       "5510005006                1                   0      6727 Drexel Ave   \n",
       "5089024002                0                   0    942 S Cochran Ave   \n",
       "\n",
       "            MAIL DIFFERENT FROM SITE?  MAIL OUTSIDE CA?  TITLECO1  ASSDTOTAL  \\\n",
       "PARCEL                                                                         \n",
       "5085010022                          0                 0         1    1157385   \n",
       "5085033008                          1                 0         0      57047   \n",
       "5085032022                          0                 0         1     651485   \n",
       "5510005006                          1                 0         0      85697   \n",
       "5089024002                          0                 0         0      62487   \n",
       "\n",
       "            ASSDLAND  ASSDSTCT  ASSDOTHR  ...  NAME CHANGE  Other  \\\n",
       "PARCEL                                    ...                       \n",
       "5085010022    925908    231477         0  ...            0      0   \n",
       "5085033008     40994     16053         0  ...            0      0   \n",
       "5085032022    521193    130292         0  ...            0      0   \n",
       "5510005006     74539     11158         0  ...            0      0   \n",
       "5089024002     42013     20474         0  ...            0      0   \n",
       "\n",
       "            PARTNERSHIP  PERSONAL REP  QUIT CLAIM  RE-RECORD  TAX DEED  \\\n",
       "PARCEL                                                                   \n",
       "5085010022            0             0           0          0         0   \n",
       "5085033008            0             0           0          0         0   \n",
       "5085032022            0             0           0          0         0   \n",
       "5510005006            0             0           0          0         0   \n",
       "5089024002            0             0           0          0         0   \n",
       "\n",
       "            TRUST TRANSFER  TRUSTEES  WARRANTY  \n",
       "PARCEL                                          \n",
       "5085010022               0         0         0  \n",
       "5085033008               0         0         0  \n",
       "5085032022               0         0         0  \n",
       "5510005006               0         0         0  \n",
       "5089024002               0         0         0  \n",
       "\n",
       "[5 rows x 57 columns]"
      ]
     },
     "execution_count": 518,
     "metadata": {},
     "output_type": "execute_result"
    }
   ],
   "source": [
    "# bring in our dataframe\n",
    "\n",
    "Beverly_Grove_df = pd.read_csv(path, index_col='PARCEL')\n",
    "Beverly_Grove_df.head()"
   ]
  },
  {
   "cell_type": "code",
   "execution_count": 519,
   "metadata": {},
   "outputs": [],
   "source": [
    "# drop any nulls\n",
    "\n",
    "Beverly_Grove_df = Beverly_Grove_df.dropna()"
   ]
  },
  {
   "cell_type": "code",
   "execution_count": 520,
   "metadata": {},
   "outputs": [],
   "source": [
    "# Change the datatype of these two columns into ints\n",
    "\n",
    "Beverly_Grove_df['TAXAMT'] = Beverly_Grove_df['TAXAMT'].astype(int)\n",
    "Beverly_Grove_df['EFFYRBLT'] = Beverly_Grove_df['EFFYRBLT'].astype(int)"
   ]
  },
  {
   "cell_type": "code",
   "execution_count": 521,
   "metadata": {},
   "outputs": [
    {
     "data": {
      "text/html": [
       "<div>\n",
       "<style scoped>\n",
       "    .dataframe tbody tr th:only-of-type {\n",
       "        vertical-align: middle;\n",
       "    }\n",
       "\n",
       "    .dataframe tbody tr th {\n",
       "        vertical-align: top;\n",
       "    }\n",
       "\n",
       "    .dataframe thead th {\n",
       "        text-align: right;\n",
       "    }\n",
       "</style>\n",
       "<table border=\"1\" class=\"dataframe\">\n",
       "  <thead>\n",
       "    <tr style=\"text-align: right;\">\n",
       "      <th></th>\n",
       "      <th>Owned by Trust?</th>\n",
       "      <th>Owned by Business?</th>\n",
       "      <th>SITEADDRESS</th>\n",
       "      <th>MAIL DIFFERENT FROM SITE?</th>\n",
       "      <th>MAIL OUTSIDE CA?</th>\n",
       "      <th>TITLECO1</th>\n",
       "      <th>ASSDTOTAL</th>\n",
       "      <th>ASSDLAND</th>\n",
       "      <th>ASSDSTCT</th>\n",
       "      <th>ASSDOTHR</th>\n",
       "      <th>...</th>\n",
       "      <th>NAME CHANGE</th>\n",
       "      <th>Other</th>\n",
       "      <th>PARTNERSHIP</th>\n",
       "      <th>PERSONAL REP</th>\n",
       "      <th>QUIT CLAIM</th>\n",
       "      <th>RE-RECORD</th>\n",
       "      <th>TAX DEED</th>\n",
       "      <th>TRUST TRANSFER</th>\n",
       "      <th>TRUSTEES</th>\n",
       "      <th>WARRANTY</th>\n",
       "    </tr>\n",
       "    <tr>\n",
       "      <th>PARCEL</th>\n",
       "      <th></th>\n",
       "      <th></th>\n",
       "      <th></th>\n",
       "      <th></th>\n",
       "      <th></th>\n",
       "      <th></th>\n",
       "      <th></th>\n",
       "      <th></th>\n",
       "      <th></th>\n",
       "      <th></th>\n",
       "      <th></th>\n",
       "      <th></th>\n",
       "      <th></th>\n",
       "      <th></th>\n",
       "      <th></th>\n",
       "      <th></th>\n",
       "      <th></th>\n",
       "      <th></th>\n",
       "      <th></th>\n",
       "      <th></th>\n",
       "      <th></th>\n",
       "    </tr>\n",
       "  </thead>\n",
       "  <tbody>\n",
       "    <tr>\n",
       "      <th>5085010022</th>\n",
       "      <td>0</td>\n",
       "      <td>0</td>\n",
       "      <td>1030 S Dunsmuir Ave</td>\n",
       "      <td>0</td>\n",
       "      <td>0</td>\n",
       "      <td>1</td>\n",
       "      <td>1157385</td>\n",
       "      <td>925908</td>\n",
       "      <td>231477</td>\n",
       "      <td>0</td>\n",
       "      <td>...</td>\n",
       "      <td>0</td>\n",
       "      <td>0</td>\n",
       "      <td>0</td>\n",
       "      <td>0</td>\n",
       "      <td>0</td>\n",
       "      <td>0</td>\n",
       "      <td>0</td>\n",
       "      <td>0</td>\n",
       "      <td>0</td>\n",
       "      <td>0</td>\n",
       "    </tr>\n",
       "    <tr>\n",
       "      <th>5085033008</th>\n",
       "      <td>0</td>\n",
       "      <td>0</td>\n",
       "      <td>1364 S Ridgeley Dr</td>\n",
       "      <td>1</td>\n",
       "      <td>0</td>\n",
       "      <td>0</td>\n",
       "      <td>57047</td>\n",
       "      <td>40994</td>\n",
       "      <td>16053</td>\n",
       "      <td>0</td>\n",
       "      <td>...</td>\n",
       "      <td>0</td>\n",
       "      <td>0</td>\n",
       "      <td>0</td>\n",
       "      <td>0</td>\n",
       "      <td>0</td>\n",
       "      <td>0</td>\n",
       "      <td>0</td>\n",
       "      <td>0</td>\n",
       "      <td>0</td>\n",
       "      <td>0</td>\n",
       "    </tr>\n",
       "    <tr>\n",
       "      <th>5085032022</th>\n",
       "      <td>0</td>\n",
       "      <td>0</td>\n",
       "      <td>1322 Hauser Blvd</td>\n",
       "      <td>0</td>\n",
       "      <td>0</td>\n",
       "      <td>1</td>\n",
       "      <td>651485</td>\n",
       "      <td>521193</td>\n",
       "      <td>130292</td>\n",
       "      <td>0</td>\n",
       "      <td>...</td>\n",
       "      <td>0</td>\n",
       "      <td>0</td>\n",
       "      <td>0</td>\n",
       "      <td>0</td>\n",
       "      <td>0</td>\n",
       "      <td>0</td>\n",
       "      <td>0</td>\n",
       "      <td>0</td>\n",
       "      <td>0</td>\n",
       "      <td>0</td>\n",
       "    </tr>\n",
       "  </tbody>\n",
       "</table>\n",
       "<p>3 rows × 57 columns</p>\n",
       "</div>"
      ],
      "text/plain": [
       "            Owned by Trust?  Owned by Business?          SITEADDRESS  \\\n",
       "PARCEL                                                                 \n",
       "5085010022                0                   0  1030 S Dunsmuir Ave   \n",
       "5085033008                0                   0   1364 S Ridgeley Dr   \n",
       "5085032022                0                   0     1322 Hauser Blvd   \n",
       "\n",
       "            MAIL DIFFERENT FROM SITE?  MAIL OUTSIDE CA?  TITLECO1  ASSDTOTAL  \\\n",
       "PARCEL                                                                         \n",
       "5085010022                          0                 0         1    1157385   \n",
       "5085033008                          1                 0         0      57047   \n",
       "5085032022                          0                 0         1     651485   \n",
       "\n",
       "            ASSDLAND  ASSDSTCT  ASSDOTHR  ...  NAME CHANGE  Other  \\\n",
       "PARCEL                                    ...                       \n",
       "5085010022    925908    231477         0  ...            0      0   \n",
       "5085033008     40994     16053         0  ...            0      0   \n",
       "5085032022    521193    130292         0  ...            0      0   \n",
       "\n",
       "            PARTNERSHIP  PERSONAL REP  QUIT CLAIM  RE-RECORD  TAX DEED  \\\n",
       "PARCEL                                                                   \n",
       "5085010022            0             0           0          0         0   \n",
       "5085033008            0             0           0          0         0   \n",
       "5085032022            0             0           0          0         0   \n",
       "\n",
       "            TRUST TRANSFER  TRUSTEES  WARRANTY  \n",
       "PARCEL                                          \n",
       "5085010022               0         0         0  \n",
       "5085033008               0         0         0  \n",
       "5085032022               0         0         0  \n",
       "\n",
       "[3 rows x 57 columns]"
      ]
     },
     "execution_count": 521,
     "metadata": {},
     "output_type": "execute_result"
    }
   ],
   "source": [
    "# Make sure our dataframe is only SFR's so exclude every property that has an '#' in its site address\n",
    "\n",
    "Beverly_Grove_df = Beverly_Grove_df[~Beverly_Grove_df['SITEADDRESS'].str.contains('#')]\n",
    "Beverly_Grove_df.head(3)"
   ]
  },
  {
   "cell_type": "code",
   "execution_count": 522,
   "metadata": {},
   "outputs": [],
   "source": [
    "# Now drop the SiteAddress column\n",
    "Beverly_Grove_df.drop(['SITEADDRESS'], axis=1, inplace=True)"
   ]
  },
  {
   "cell_type": "code",
   "execution_count": 523,
   "metadata": {},
   "outputs": [
    {
     "data": {
      "text/html": [
       "<div>\n",
       "<style scoped>\n",
       "    .dataframe tbody tr th:only-of-type {\n",
       "        vertical-align: middle;\n",
       "    }\n",
       "\n",
       "    .dataframe tbody tr th {\n",
       "        vertical-align: top;\n",
       "    }\n",
       "\n",
       "    .dataframe thead th {\n",
       "        text-align: right;\n",
       "    }\n",
       "</style>\n",
       "<table border=\"1\" class=\"dataframe\">\n",
       "  <thead>\n",
       "    <tr style=\"text-align: right;\">\n",
       "      <th></th>\n",
       "      <th>Owned by Trust?</th>\n",
       "      <th>Owned by Business?</th>\n",
       "      <th>MAIL DIFFERENT FROM SITE?</th>\n",
       "      <th>MAIL OUTSIDE CA?</th>\n",
       "      <th>TITLECO1</th>\n",
       "      <th>ASSDTOTAL</th>\n",
       "      <th>ASSDLAND</th>\n",
       "      <th>ASSDSTCT</th>\n",
       "      <th>ASSDOTHR</th>\n",
       "      <th>EXEMPTCD</th>\n",
       "      <th>...</th>\n",
       "      <th>NAME CHANGE</th>\n",
       "      <th>Other</th>\n",
       "      <th>PARTNERSHIP</th>\n",
       "      <th>PERSONAL REP</th>\n",
       "      <th>QUIT CLAIM</th>\n",
       "      <th>RE-RECORD</th>\n",
       "      <th>TAX DEED</th>\n",
       "      <th>TRUST TRANSFER</th>\n",
       "      <th>TRUSTEES</th>\n",
       "      <th>WARRANTY</th>\n",
       "    </tr>\n",
       "    <tr>\n",
       "      <th>PARCEL</th>\n",
       "      <th></th>\n",
       "      <th></th>\n",
       "      <th></th>\n",
       "      <th></th>\n",
       "      <th></th>\n",
       "      <th></th>\n",
       "      <th></th>\n",
       "      <th></th>\n",
       "      <th></th>\n",
       "      <th></th>\n",
       "      <th></th>\n",
       "      <th></th>\n",
       "      <th></th>\n",
       "      <th></th>\n",
       "      <th></th>\n",
       "      <th></th>\n",
       "      <th></th>\n",
       "      <th></th>\n",
       "      <th></th>\n",
       "      <th></th>\n",
       "      <th></th>\n",
       "    </tr>\n",
       "  </thead>\n",
       "  <tbody>\n",
       "    <tr>\n",
       "      <th>5085010022</th>\n",
       "      <td>0</td>\n",
       "      <td>0</td>\n",
       "      <td>0</td>\n",
       "      <td>0</td>\n",
       "      <td>1</td>\n",
       "      <td>1157385</td>\n",
       "      <td>925908</td>\n",
       "      <td>231477</td>\n",
       "      <td>0</td>\n",
       "      <td>0</td>\n",
       "      <td>...</td>\n",
       "      <td>0</td>\n",
       "      <td>0</td>\n",
       "      <td>0</td>\n",
       "      <td>0</td>\n",
       "      <td>0</td>\n",
       "      <td>0</td>\n",
       "      <td>0</td>\n",
       "      <td>0</td>\n",
       "      <td>0</td>\n",
       "      <td>0</td>\n",
       "    </tr>\n",
       "    <tr>\n",
       "      <th>5085033008</th>\n",
       "      <td>0</td>\n",
       "      <td>0</td>\n",
       "      <td>1</td>\n",
       "      <td>0</td>\n",
       "      <td>0</td>\n",
       "      <td>57047</td>\n",
       "      <td>40994</td>\n",
       "      <td>16053</td>\n",
       "      <td>0</td>\n",
       "      <td>0</td>\n",
       "      <td>...</td>\n",
       "      <td>0</td>\n",
       "      <td>0</td>\n",
       "      <td>0</td>\n",
       "      <td>0</td>\n",
       "      <td>0</td>\n",
       "      <td>0</td>\n",
       "      <td>0</td>\n",
       "      <td>0</td>\n",
       "      <td>0</td>\n",
       "      <td>0</td>\n",
       "    </tr>\n",
       "    <tr>\n",
       "      <th>5085032022</th>\n",
       "      <td>0</td>\n",
       "      <td>0</td>\n",
       "      <td>0</td>\n",
       "      <td>0</td>\n",
       "      <td>1</td>\n",
       "      <td>651485</td>\n",
       "      <td>521193</td>\n",
       "      <td>130292</td>\n",
       "      <td>0</td>\n",
       "      <td>1</td>\n",
       "      <td>...</td>\n",
       "      <td>0</td>\n",
       "      <td>0</td>\n",
       "      <td>0</td>\n",
       "      <td>0</td>\n",
       "      <td>0</td>\n",
       "      <td>0</td>\n",
       "      <td>0</td>\n",
       "      <td>0</td>\n",
       "      <td>0</td>\n",
       "      <td>0</td>\n",
       "    </tr>\n",
       "  </tbody>\n",
       "</table>\n",
       "<p>3 rows × 56 columns</p>\n",
       "</div>"
      ],
      "text/plain": [
       "            Owned by Trust?  Owned by Business?  MAIL DIFFERENT FROM SITE?  \\\n",
       "PARCEL                                                                       \n",
       "5085010022                0                   0                          0   \n",
       "5085033008                0                   0                          1   \n",
       "5085032022                0                   0                          0   \n",
       "\n",
       "            MAIL OUTSIDE CA?  TITLECO1  ASSDTOTAL  ASSDLAND  ASSDSTCT  \\\n",
       "PARCEL                                                                  \n",
       "5085010022                 0         1    1157385    925908    231477   \n",
       "5085033008                 0         0      57047     40994     16053   \n",
       "5085032022                 0         1     651485    521193    130292   \n",
       "\n",
       "            ASSDOTHR  EXEMPTCD  ...  NAME CHANGE  Other  PARTNERSHIP  \\\n",
       "PARCEL                          ...                                    \n",
       "5085010022         0         0  ...            0      0            0   \n",
       "5085033008         0         0  ...            0      0            0   \n",
       "5085032022         0         1  ...            0      0            0   \n",
       "\n",
       "            PERSONAL REP  QUIT CLAIM  RE-RECORD  TAX DEED  TRUST TRANSFER  \\\n",
       "PARCEL                                                                      \n",
       "5085010022             0           0          0         0               0   \n",
       "5085033008             0           0          0         0               0   \n",
       "5085032022             0           0          0         0               0   \n",
       "\n",
       "            TRUSTEES  WARRANTY  \n",
       "PARCEL                          \n",
       "5085010022         0         0  \n",
       "5085033008         0         0  \n",
       "5085032022         0         0  \n",
       "\n",
       "[3 rows x 56 columns]"
      ]
     },
     "execution_count": 523,
     "metadata": {},
     "output_type": "execute_result"
    }
   ],
   "source": [
    "Beverly_Grove_df.head(3)"
   ]
  },
  {
   "cell_type": "code",
   "execution_count": 537,
   "metadata": {},
   "outputs": [],
   "source": [
    "# Step 1: Create our X and y\n",
    "\n",
    "y_17 = Beverly_Grove_df['Did it sell?']\n",
    "X_17 = Beverly_Grove_df.drop(['Did it sell?'], 1)"
   ]
  },
  {
   "cell_type": "code",
   "execution_count": 538,
   "metadata": {},
   "outputs": [
    {
     "data": {
      "text/plain": [
       "array([5085010022, 5085033008, 5085032022, ..., 5510018012, 5510017023,\n",
       "       5514001029])"
      ]
     },
     "execution_count": 538,
     "metadata": {},
     "output_type": "execute_result"
    }
   ],
   "source": [
    "APN = Beverly_Grove_df.index.values\n",
    "APN"
   ]
  },
  {
   "cell_type": "code",
   "execution_count": 539,
   "metadata": {},
   "outputs": [
    {
     "data": {
      "text/plain": [
       "Counter({0: 4383, 1: 4383})"
      ]
     },
     "execution_count": 539,
     "metadata": {},
     "output_type": "execute_result"
    }
   ],
   "source": [
    "# Step 2: Resample our data via a Random Oversampler of our minority class\n",
    "\n",
    "# implement random oversampling\n",
    "from imblearn.over_sampling import RandomOverSampler\n",
    "ros = RandomOverSampler(random_state=1)\n",
    "X_random_oversampled, y_random_oversampled = ros.fit_resample(X_17, y_17)\n",
    "\n",
    "Counter(y_random_oversampled)"
   ]
  },
  {
   "cell_type": "code",
   "execution_count": 540,
   "metadata": {},
   "outputs": [
    {
     "data": {
      "text/plain": [
       "8766"
      ]
     },
     "execution_count": 540,
     "metadata": {},
     "output_type": "execute_result"
    }
   ],
   "source": [
    "len(y_random_oversampled)"
   ]
  },
  {
   "cell_type": "code",
   "execution_count": 541,
   "metadata": {},
   "outputs": [],
   "source": [
    "# Step 3: Do our PCA\n",
    "from sklearn.decomposition import PCA\n",
    "\n",
    "pca = PCA(n_components=3)\n",
    "X_pca = pca.fit_transform(X_random_oversampled)"
   ]
  },
  {
   "cell_type": "code",
   "execution_count": 542,
   "metadata": {},
   "outputs": [
    {
     "data": {
      "text/plain": [
       "8766"
      ]
     },
     "execution_count": 542,
     "metadata": {},
     "output_type": "execute_result"
    }
   ],
   "source": [
    "len(X_pca)"
   ]
  },
  {
   "cell_type": "code",
   "execution_count": 543,
   "metadata": {},
   "outputs": [
    {
     "data": {
      "text/plain": [
       "8766"
      ]
     },
     "execution_count": 543,
     "metadata": {},
     "output_type": "execute_result"
    }
   ],
   "source": [
    "len(y_random_oversampled)"
   ]
  },
  {
   "cell_type": "code",
   "execution_count": 545,
   "metadata": {},
   "outputs": [],
   "source": [
    "# Step 4: Train, test, split\n",
    "\n",
    "X_train, X_test, y_train, y_test = train_test_split(X_pca, y_random_oversampled, random_state=78)"
   ]
  },
  {
   "cell_type": "code",
   "execution_count": 546,
   "metadata": {},
   "outputs": [],
   "source": [
    "# Step 5: Scale our data\n",
    "\n",
    "# Create the StandardScaler instance\n",
    "scaler = StandardScaler()\n",
    "\n",
    "# Fit our scaler, named 'scaler' to our data, which produces a new StandardScaler object\n",
    "# which we call 'X_scaler'\n",
    "X_scaler = scaler.fit(X_train)\n",
    "\n",
    "# Scale the data\n",
    "X_train_scaled = X_scaler.transform(X_train)\n",
    "X_test_scaled = X_scaler.transform(X_test)"
   ]
  },
  {
   "cell_type": "code",
   "execution_count": 547,
   "metadata": {},
   "outputs": [],
   "source": [
    "X_train_scaled_APN = []"
   ]
  },
  {
   "cell_type": "code",
   "execution_count": 548,
   "metadata": {},
   "outputs": [
    {
     "data": {
      "text/plain": [
       "LogisticRegression(class_weight='balanced', max_iter=300, random_state=78)"
      ]
     },
     "execution_count": 548,
     "metadata": {},
     "output_type": "execute_result"
    }
   ],
   "source": [
    "# Logistic regression using random oversampled data\n",
    "from sklearn.linear_model import LogisticRegression\n",
    "\n",
    "model_11 = LogisticRegression(solver='lbfgs', \n",
    "                                max_iter=300,\n",
    "                                random_state=78,\n",
    "                                class_weight=\"balanced\")\n",
    "\n",
    "model_11.fit(X_train_scaled, y_train)"
   ]
  },
  {
   "cell_type": "code",
   "execution_count": 549,
   "metadata": {},
   "outputs": [],
   "source": [
    "# Evaluate the model\n",
    "y_pred = model_11.predict(X_test_scaled)"
   ]
  },
  {
   "cell_type": "code",
   "execution_count": 550,
   "metadata": {},
   "outputs": [
    {
     "name": "stdout",
     "output_type": "stream",
     "text": [
      " Logistic regression model accuracy: 0.523\n"
     ]
    }
   ],
   "source": [
    "print(f\" Logistic regression model accuracy: {accuracy_score(y_test, y_pred):.3f}\")"
   ]
  },
  {
   "cell_type": "code",
   "execution_count": 551,
   "metadata": {},
   "outputs": [
    {
     "data": {
      "text/plain": [
       "0.521507498026835"
      ]
     },
     "execution_count": 551,
     "metadata": {},
     "output_type": "execute_result"
    }
   ],
   "source": [
    "# just for shits n' gigs, lets find the balanced accuracy score\n",
    "\n",
    "from sklearn.metrics import balanced_accuracy_score\n",
    "balanced_accuracy_score(y_test, y_pred)"
   ]
  },
  {
   "cell_type": "code",
   "execution_count": 552,
   "metadata": {},
   "outputs": [
    {
     "data": {
      "text/plain": [
       "0.504802731589642"
      ]
     },
     "execution_count": 552,
     "metadata": {},
     "output_type": "execute_result"
    }
   ],
   "source": [
    "f1_score(y_test, y_pred, average=\"weighted\")"
   ]
  },
  {
   "cell_type": "code",
   "execution_count": 553,
   "metadata": {},
   "outputs": [
    {
     "name": "stdout",
     "output_type": "stream",
     "text": [
      "                   pre       rec       spe        f1       geo       iba       sup\n",
      "\n",
      "          0       0.52      0.71      0.33      0.60      0.48      0.24      1106\n",
      "          1       0.53      0.33      0.71      0.41      0.48      0.23      1086\n",
      "\n",
      "avg / total       0.53      0.52      0.52      0.50      0.48      0.23      2192\n",
      "\n"
     ]
    }
   ],
   "source": [
    "# Print the imbalanced classification report\n",
    "from imblearn.metrics import classification_report_imbalanced\n",
    "print(classification_report_imbalanced(y_test, y_pred))"
   ]
  },
  {
   "cell_type": "code",
   "execution_count": null,
   "metadata": {},
   "outputs": [],
   "source": []
  }
 ],
 "metadata": {
  "kernelspec": {
   "display_name": "mlenv",
   "language": "python",
   "name": "mlenv"
  },
  "language_info": {
   "codemirror_mode": {
    "name": "ipython",
    "version": 3
   },
   "file_extension": ".py",
   "mimetype": "text/x-python",
   "name": "python",
   "nbconvert_exporter": "python",
   "pygments_lexer": "ipython3",
   "version": "3.7.9"
  }
 },
 "nbformat": 4,
 "nbformat_minor": 4
}
