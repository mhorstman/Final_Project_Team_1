{
 "cells": [
  {
   "cell_type": "code",
   "execution_count": 1,
   "metadata": {},
   "outputs": [],
   "source": [
    "# import our dependencies\n",
    "\n",
    "%matplotlib inline\n",
    "from collections import Counter\n",
    "import pandas as pd\n",
    "from imblearn.over_sampling import RandomOverSampler\n",
    "from sklearn.model_selection import train_test_split\n",
    "from sklearn.metrics import accuracy_score\n",
    "from sklearn.svm import SVC\n",
    "from sklearn.linear_model import LogisticRegression\n",
    "from sklearn.preprocessing import StandardScaler,OneHotEncoder\n",
    "import numpy as np"
   ]
  },
  {
   "cell_type": "code",
   "execution_count": 2,
   "metadata": {},
   "outputs": [
    {
     "data": {
      "text/html": [
       "<div>\n",
       "<style scoped>\n",
       "    .dataframe tbody tr th:only-of-type {\n",
       "        vertical-align: middle;\n",
       "    }\n",
       "\n",
       "    .dataframe tbody tr th {\n",
       "        vertical-align: top;\n",
       "    }\n",
       "\n",
       "    .dataframe thead th {\n",
       "        text-align: right;\n",
       "    }\n",
       "</style>\n",
       "<table border=\"1\" class=\"dataframe\">\n",
       "  <thead>\n",
       "    <tr style=\"text-align: right;\">\n",
       "      <th></th>\n",
       "      <th>Owned by Trust?</th>\n",
       "      <th>Owned by Business?</th>\n",
       "      <th>SITEADDRESS</th>\n",
       "      <th>MAIL DIFFERENT FROM SITE?</th>\n",
       "      <th>MAIL OUTSIDE CA?</th>\n",
       "      <th>TITLECO1</th>\n",
       "      <th>ASSDTOTAL</th>\n",
       "      <th>ASSDLAND</th>\n",
       "      <th>ASSDSTCT</th>\n",
       "      <th>ASSDOTHR</th>\n",
       "      <th>...</th>\n",
       "      <th>NAME CHANGE</th>\n",
       "      <th>Other</th>\n",
       "      <th>PARTNERSHIP</th>\n",
       "      <th>PERSONAL REP</th>\n",
       "      <th>QUIT CLAIM</th>\n",
       "      <th>RE-RECORD</th>\n",
       "      <th>TAX DEED</th>\n",
       "      <th>TRUST TRANSFER</th>\n",
       "      <th>TRUSTEES</th>\n",
       "      <th>WARRANTY</th>\n",
       "    </tr>\n",
       "    <tr>\n",
       "      <th>PARCEL</th>\n",
       "      <th></th>\n",
       "      <th></th>\n",
       "      <th></th>\n",
       "      <th></th>\n",
       "      <th></th>\n",
       "      <th></th>\n",
       "      <th></th>\n",
       "      <th></th>\n",
       "      <th></th>\n",
       "      <th></th>\n",
       "      <th></th>\n",
       "      <th></th>\n",
       "      <th></th>\n",
       "      <th></th>\n",
       "      <th></th>\n",
       "      <th></th>\n",
       "      <th></th>\n",
       "      <th></th>\n",
       "      <th></th>\n",
       "      <th></th>\n",
       "      <th></th>\n",
       "    </tr>\n",
       "  </thead>\n",
       "  <tbody>\n",
       "    <tr>\n",
       "      <th>5085010022</th>\n",
       "      <td>0</td>\n",
       "      <td>0</td>\n",
       "      <td>1030 S Dunsmuir Ave</td>\n",
       "      <td>0</td>\n",
       "      <td>0</td>\n",
       "      <td>1</td>\n",
       "      <td>1157385</td>\n",
       "      <td>925908</td>\n",
       "      <td>231477</td>\n",
       "      <td>0</td>\n",
       "      <td>...</td>\n",
       "      <td>0</td>\n",
       "      <td>0</td>\n",
       "      <td>0</td>\n",
       "      <td>0</td>\n",
       "      <td>0</td>\n",
       "      <td>0</td>\n",
       "      <td>0</td>\n",
       "      <td>0</td>\n",
       "      <td>0</td>\n",
       "      <td>0</td>\n",
       "    </tr>\n",
       "    <tr>\n",
       "      <th>5085033008</th>\n",
       "      <td>0</td>\n",
       "      <td>0</td>\n",
       "      <td>1364 S Ridgeley Dr</td>\n",
       "      <td>1</td>\n",
       "      <td>0</td>\n",
       "      <td>0</td>\n",
       "      <td>57047</td>\n",
       "      <td>40994</td>\n",
       "      <td>16053</td>\n",
       "      <td>0</td>\n",
       "      <td>...</td>\n",
       "      <td>0</td>\n",
       "      <td>0</td>\n",
       "      <td>0</td>\n",
       "      <td>0</td>\n",
       "      <td>0</td>\n",
       "      <td>0</td>\n",
       "      <td>0</td>\n",
       "      <td>0</td>\n",
       "      <td>0</td>\n",
       "      <td>0</td>\n",
       "    </tr>\n",
       "    <tr>\n",
       "      <th>5085032022</th>\n",
       "      <td>0</td>\n",
       "      <td>0</td>\n",
       "      <td>1322 Hauser Blvd</td>\n",
       "      <td>0</td>\n",
       "      <td>0</td>\n",
       "      <td>1</td>\n",
       "      <td>651485</td>\n",
       "      <td>521193</td>\n",
       "      <td>130292</td>\n",
       "      <td>0</td>\n",
       "      <td>...</td>\n",
       "      <td>0</td>\n",
       "      <td>0</td>\n",
       "      <td>0</td>\n",
       "      <td>0</td>\n",
       "      <td>0</td>\n",
       "      <td>0</td>\n",
       "      <td>0</td>\n",
       "      <td>0</td>\n",
       "      <td>0</td>\n",
       "      <td>0</td>\n",
       "    </tr>\n",
       "    <tr>\n",
       "      <th>5510005006</th>\n",
       "      <td>1</td>\n",
       "      <td>0</td>\n",
       "      <td>6727 Drexel Ave</td>\n",
       "      <td>1</td>\n",
       "      <td>0</td>\n",
       "      <td>0</td>\n",
       "      <td>85697</td>\n",
       "      <td>74539</td>\n",
       "      <td>11158</td>\n",
       "      <td>0</td>\n",
       "      <td>...</td>\n",
       "      <td>0</td>\n",
       "      <td>0</td>\n",
       "      <td>0</td>\n",
       "      <td>0</td>\n",
       "      <td>0</td>\n",
       "      <td>0</td>\n",
       "      <td>0</td>\n",
       "      <td>0</td>\n",
       "      <td>0</td>\n",
       "      <td>0</td>\n",
       "    </tr>\n",
       "    <tr>\n",
       "      <th>5089024002</th>\n",
       "      <td>0</td>\n",
       "      <td>0</td>\n",
       "      <td>942 S Cochran Ave</td>\n",
       "      <td>0</td>\n",
       "      <td>0</td>\n",
       "      <td>0</td>\n",
       "      <td>62487</td>\n",
       "      <td>42013</td>\n",
       "      <td>20474</td>\n",
       "      <td>0</td>\n",
       "      <td>...</td>\n",
       "      <td>0</td>\n",
       "      <td>0</td>\n",
       "      <td>0</td>\n",
       "      <td>0</td>\n",
       "      <td>0</td>\n",
       "      <td>0</td>\n",
       "      <td>0</td>\n",
       "      <td>0</td>\n",
       "      <td>0</td>\n",
       "      <td>0</td>\n",
       "    </tr>\n",
       "  </tbody>\n",
       "</table>\n",
       "<p>5 rows × 57 columns</p>\n",
       "</div>"
      ],
      "text/plain": [
       "            Owned by Trust?  Owned by Business?          SITEADDRESS  \\\n",
       "PARCEL                                                                 \n",
       "5085010022                0                   0  1030 S Dunsmuir Ave   \n",
       "5085033008                0                   0   1364 S Ridgeley Dr   \n",
       "5085032022                0                   0     1322 Hauser Blvd   \n",
       "5510005006                1                   0      6727 Drexel Ave   \n",
       "5089024002                0                   0    942 S Cochran Ave   \n",
       "\n",
       "            MAIL DIFFERENT FROM SITE?  MAIL OUTSIDE CA?  TITLECO1  ASSDTOTAL  \\\n",
       "PARCEL                                                                         \n",
       "5085010022                          0                 0         1    1157385   \n",
       "5085033008                          1                 0         0      57047   \n",
       "5085032022                          0                 0         1     651485   \n",
       "5510005006                          1                 0         0      85697   \n",
       "5089024002                          0                 0         0      62487   \n",
       "\n",
       "            ASSDLAND  ASSDSTCT  ASSDOTHR  ...  NAME CHANGE  Other  \\\n",
       "PARCEL                                    ...                       \n",
       "5085010022    925908    231477         0  ...            0      0   \n",
       "5085033008     40994     16053         0  ...            0      0   \n",
       "5085032022    521193    130292         0  ...            0      0   \n",
       "5510005006     74539     11158         0  ...            0      0   \n",
       "5089024002     42013     20474         0  ...            0      0   \n",
       "\n",
       "            PARTNERSHIP  PERSONAL REP  QUIT CLAIM  RE-RECORD  TAX DEED  \\\n",
       "PARCEL                                                                   \n",
       "5085010022            0             0           0          0         0   \n",
       "5085033008            0             0           0          0         0   \n",
       "5085032022            0             0           0          0         0   \n",
       "5510005006            0             0           0          0         0   \n",
       "5089024002            0             0           0          0         0   \n",
       "\n",
       "            TRUST TRANSFER  TRUSTEES  WARRANTY  \n",
       "PARCEL                                          \n",
       "5085010022               0         0         0  \n",
       "5085033008               0         0         0  \n",
       "5085032022               0         0         0  \n",
       "5510005006               0         0         0  \n",
       "5089024002               0         0         0  \n",
       "\n",
       "[5 rows x 57 columns]"
      ]
     },
     "execution_count": 2,
     "metadata": {},
     "output_type": "execute_result"
    }
   ],
   "source": [
    "# import our file\n",
    "\n",
    "Beverly_Grove_df = pd.read_csv('Beverly_Grove_Cleaned.csv', index_col='PARCEL')\n",
    "Beverly_Grove_df.head()"
   ]
  },
  {
   "cell_type": "code",
   "execution_count": 3,
   "metadata": {},
   "outputs": [],
   "source": [
    "Beverly_Grove_df = Beverly_Grove_df.dropna()"
   ]
  },
  {
   "cell_type": "code",
   "execution_count": 4,
   "metadata": {},
   "outputs": [
    {
     "data": {
      "text/plain": [
       "Owned by Trust?                int64\n",
       "Owned by Business?             int64\n",
       "SITEADDRESS                   object\n",
       "MAIL DIFFERENT FROM SITE?      int64\n",
       "MAIL OUTSIDE CA?               int64\n",
       "TITLECO1                       int64\n",
       "ASSDTOTAL                      int64\n",
       "ASSDLAND                       int64\n",
       "ASSDSTCT                       int64\n",
       "ASSDOTHR                       int64\n",
       "EXEMPTCD                       int64\n",
       "EXMPTAMT                       int64\n",
       "PCNTIMPD                       int64\n",
       "TAXAMT                       float64\n",
       "DOCDATE_YEAR                   int64\n",
       "MULTIPARCEL                    int64\n",
       "PRICE                          int64\n",
       "LENDER1                        int64\n",
       "LOANAMOUT1                     int64\n",
       "LOANTYPE1                      int64\n",
       "YEARBLT                        int64\n",
       "EFFYRBLT                     float64\n",
       "LOTSQFT                        int64\n",
       "TOTALSF                        int64\n",
       "GRGTYPE                        int64\n",
       "BLDGMAT                        int64\n",
       "TOTUNITS                       int64\n",
       "QUALCLAS                       int64\n",
       "BLDGCOND                       int64\n",
       "NOSTORY                      float64\n",
       "ROOFMAT                        int64\n",
       "FOUNDATN                       int64\n",
       "BEDROOMS                       int64\n",
       "BATHROOMS                      int64\n",
       "FAMILYRM                       int64\n",
       "DININGRM                       int64\n",
       "POOL                           int64\n",
       "PATIO                          int64\n",
       "FIREPLCE                       int64\n",
       "AIRMTHOD                       int64\n",
       "HEATMTHD                       int64\n",
       "VIEW                           int64\n",
       "Did it sell?                   int64\n",
       "GRANT DEED                     int64\n",
       "IN LIEU OF FORC                int64\n",
       "INTERSPOUSAL                   int64\n",
       "JOINT TENANT                   int64\n",
       "NAME CHANGE                    int64\n",
       "Other                          int64\n",
       "PARTNERSHIP                    int64\n",
       "PERSONAL REP                   int64\n",
       "QUIT CLAIM                     int64\n",
       "RE-RECORD                      int64\n",
       "TAX DEED                       int64\n",
       "TRUST TRANSFER                 int64\n",
       "TRUSTEES                       int64\n",
       "WARRANTY                       int64\n",
       "dtype: object"
      ]
     },
     "execution_count": 4,
     "metadata": {},
     "output_type": "execute_result"
    }
   ],
   "source": [
    "Beverly_Grove_df.dtypes"
   ]
  },
  {
   "cell_type": "code",
   "execution_count": 5,
   "metadata": {},
   "outputs": [],
   "source": [
    "Beverly_Grove_df['TAXAMT'] = Beverly_Grove_df['TAXAMT'].astype(int)\n",
    "Beverly_Grove_df['EFFYRBLT'] = Beverly_Grove_df['EFFYRBLT'].astype(int)"
   ]
  },
  {
   "cell_type": "code",
   "execution_count": 6,
   "metadata": {},
   "outputs": [
    {
     "data": {
      "text/html": [
       "<div>\n",
       "<style scoped>\n",
       "    .dataframe tbody tr th:only-of-type {\n",
       "        vertical-align: middle;\n",
       "    }\n",
       "\n",
       "    .dataframe tbody tr th {\n",
       "        vertical-align: top;\n",
       "    }\n",
       "\n",
       "    .dataframe thead th {\n",
       "        text-align: right;\n",
       "    }\n",
       "</style>\n",
       "<table border=\"1\" class=\"dataframe\">\n",
       "  <thead>\n",
       "    <tr style=\"text-align: right;\">\n",
       "      <th></th>\n",
       "      <th>Owned by Trust?</th>\n",
       "      <th>Owned by Business?</th>\n",
       "      <th>SITEADDRESS</th>\n",
       "      <th>MAIL DIFFERENT FROM SITE?</th>\n",
       "      <th>MAIL OUTSIDE CA?</th>\n",
       "      <th>TITLECO1</th>\n",
       "      <th>ASSDTOTAL</th>\n",
       "      <th>ASSDLAND</th>\n",
       "      <th>ASSDSTCT</th>\n",
       "      <th>ASSDOTHR</th>\n",
       "      <th>...</th>\n",
       "      <th>NAME CHANGE</th>\n",
       "      <th>Other</th>\n",
       "      <th>PARTNERSHIP</th>\n",
       "      <th>PERSONAL REP</th>\n",
       "      <th>QUIT CLAIM</th>\n",
       "      <th>RE-RECORD</th>\n",
       "      <th>TAX DEED</th>\n",
       "      <th>TRUST TRANSFER</th>\n",
       "      <th>TRUSTEES</th>\n",
       "      <th>WARRANTY</th>\n",
       "    </tr>\n",
       "    <tr>\n",
       "      <th>PARCEL</th>\n",
       "      <th></th>\n",
       "      <th></th>\n",
       "      <th></th>\n",
       "      <th></th>\n",
       "      <th></th>\n",
       "      <th></th>\n",
       "      <th></th>\n",
       "      <th></th>\n",
       "      <th></th>\n",
       "      <th></th>\n",
       "      <th></th>\n",
       "      <th></th>\n",
       "      <th></th>\n",
       "      <th></th>\n",
       "      <th></th>\n",
       "      <th></th>\n",
       "      <th></th>\n",
       "      <th></th>\n",
       "      <th></th>\n",
       "      <th></th>\n",
       "      <th></th>\n",
       "    </tr>\n",
       "  </thead>\n",
       "  <tbody>\n",
       "    <tr>\n",
       "      <th>5085010022</th>\n",
       "      <td>0</td>\n",
       "      <td>0</td>\n",
       "      <td>1030 S Dunsmuir Ave</td>\n",
       "      <td>0</td>\n",
       "      <td>0</td>\n",
       "      <td>1</td>\n",
       "      <td>1157385</td>\n",
       "      <td>925908</td>\n",
       "      <td>231477</td>\n",
       "      <td>0</td>\n",
       "      <td>...</td>\n",
       "      <td>0</td>\n",
       "      <td>0</td>\n",
       "      <td>0</td>\n",
       "      <td>0</td>\n",
       "      <td>0</td>\n",
       "      <td>0</td>\n",
       "      <td>0</td>\n",
       "      <td>0</td>\n",
       "      <td>0</td>\n",
       "      <td>0</td>\n",
       "    </tr>\n",
       "    <tr>\n",
       "      <th>5085033008</th>\n",
       "      <td>0</td>\n",
       "      <td>0</td>\n",
       "      <td>1364 S Ridgeley Dr</td>\n",
       "      <td>1</td>\n",
       "      <td>0</td>\n",
       "      <td>0</td>\n",
       "      <td>57047</td>\n",
       "      <td>40994</td>\n",
       "      <td>16053</td>\n",
       "      <td>0</td>\n",
       "      <td>...</td>\n",
       "      <td>0</td>\n",
       "      <td>0</td>\n",
       "      <td>0</td>\n",
       "      <td>0</td>\n",
       "      <td>0</td>\n",
       "      <td>0</td>\n",
       "      <td>0</td>\n",
       "      <td>0</td>\n",
       "      <td>0</td>\n",
       "      <td>0</td>\n",
       "    </tr>\n",
       "    <tr>\n",
       "      <th>5085032022</th>\n",
       "      <td>0</td>\n",
       "      <td>0</td>\n",
       "      <td>1322 Hauser Blvd</td>\n",
       "      <td>0</td>\n",
       "      <td>0</td>\n",
       "      <td>1</td>\n",
       "      <td>651485</td>\n",
       "      <td>521193</td>\n",
       "      <td>130292</td>\n",
       "      <td>0</td>\n",
       "      <td>...</td>\n",
       "      <td>0</td>\n",
       "      <td>0</td>\n",
       "      <td>0</td>\n",
       "      <td>0</td>\n",
       "      <td>0</td>\n",
       "      <td>0</td>\n",
       "      <td>0</td>\n",
       "      <td>0</td>\n",
       "      <td>0</td>\n",
       "      <td>0</td>\n",
       "    </tr>\n",
       "  </tbody>\n",
       "</table>\n",
       "<p>3 rows × 57 columns</p>\n",
       "</div>"
      ],
      "text/plain": [
       "            Owned by Trust?  Owned by Business?          SITEADDRESS  \\\n",
       "PARCEL                                                                 \n",
       "5085010022                0                   0  1030 S Dunsmuir Ave   \n",
       "5085033008                0                   0   1364 S Ridgeley Dr   \n",
       "5085032022                0                   0     1322 Hauser Blvd   \n",
       "\n",
       "            MAIL DIFFERENT FROM SITE?  MAIL OUTSIDE CA?  TITLECO1  ASSDTOTAL  \\\n",
       "PARCEL                                                                         \n",
       "5085010022                          0                 0         1    1157385   \n",
       "5085033008                          1                 0         0      57047   \n",
       "5085032022                          0                 0         1     651485   \n",
       "\n",
       "            ASSDLAND  ASSDSTCT  ASSDOTHR  ...  NAME CHANGE  Other  \\\n",
       "PARCEL                                    ...                       \n",
       "5085010022    925908    231477         0  ...            0      0   \n",
       "5085033008     40994     16053         0  ...            0      0   \n",
       "5085032022    521193    130292         0  ...            0      0   \n",
       "\n",
       "            PARTNERSHIP  PERSONAL REP  QUIT CLAIM  RE-RECORD  TAX DEED  \\\n",
       "PARCEL                                                                   \n",
       "5085010022            0             0           0          0         0   \n",
       "5085033008            0             0           0          0         0   \n",
       "5085032022            0             0           0          0         0   \n",
       "\n",
       "            TRUST TRANSFER  TRUSTEES  WARRANTY  \n",
       "PARCEL                                          \n",
       "5085010022               0         0         0  \n",
       "5085033008               0         0         0  \n",
       "5085032022               0         0         0  \n",
       "\n",
       "[3 rows x 57 columns]"
      ]
     },
     "execution_count": 6,
     "metadata": {},
     "output_type": "execute_result"
    }
   ],
   "source": [
    "# Make sure our dataframe is only SFR's so exclude every property that has an '#' in its site address\n",
    "\n",
    "Beverly_Grove_df = Beverly_Grove_df[~Beverly_Grove_df['SITEADDRESS'].str.contains('#')]\n",
    "Beverly_Grove_df.head(3)"
   ]
  },
  {
   "cell_type": "code",
   "execution_count": 7,
   "metadata": {},
   "outputs": [],
   "source": [
    "# Now drop the SiteAddress column\n",
    "Beverly_Grove_df.drop(['SITEADDRESS'], axis=1, inplace=True)"
   ]
  },
  {
   "cell_type": "code",
   "execution_count": 8,
   "metadata": {},
   "outputs": [
    {
     "data": {
      "text/html": [
       "<div>\n",
       "<style scoped>\n",
       "    .dataframe tbody tr th:only-of-type {\n",
       "        vertical-align: middle;\n",
       "    }\n",
       "\n",
       "    .dataframe tbody tr th {\n",
       "        vertical-align: top;\n",
       "    }\n",
       "\n",
       "    .dataframe thead th {\n",
       "        text-align: right;\n",
       "    }\n",
       "</style>\n",
       "<table border=\"1\" class=\"dataframe\">\n",
       "  <thead>\n",
       "    <tr style=\"text-align: right;\">\n",
       "      <th></th>\n",
       "      <th>Owned by Trust?</th>\n",
       "      <th>Owned by Business?</th>\n",
       "      <th>MAIL DIFFERENT FROM SITE?</th>\n",
       "      <th>MAIL OUTSIDE CA?</th>\n",
       "      <th>TITLECO1</th>\n",
       "      <th>ASSDTOTAL</th>\n",
       "      <th>ASSDLAND</th>\n",
       "      <th>ASSDSTCT</th>\n",
       "      <th>ASSDOTHR</th>\n",
       "      <th>EXEMPTCD</th>\n",
       "      <th>...</th>\n",
       "      <th>NAME CHANGE</th>\n",
       "      <th>Other</th>\n",
       "      <th>PARTNERSHIP</th>\n",
       "      <th>PERSONAL REP</th>\n",
       "      <th>QUIT CLAIM</th>\n",
       "      <th>RE-RECORD</th>\n",
       "      <th>TAX DEED</th>\n",
       "      <th>TRUST TRANSFER</th>\n",
       "      <th>TRUSTEES</th>\n",
       "      <th>WARRANTY</th>\n",
       "    </tr>\n",
       "    <tr>\n",
       "      <th>PARCEL</th>\n",
       "      <th></th>\n",
       "      <th></th>\n",
       "      <th></th>\n",
       "      <th></th>\n",
       "      <th></th>\n",
       "      <th></th>\n",
       "      <th></th>\n",
       "      <th></th>\n",
       "      <th></th>\n",
       "      <th></th>\n",
       "      <th></th>\n",
       "      <th></th>\n",
       "      <th></th>\n",
       "      <th></th>\n",
       "      <th></th>\n",
       "      <th></th>\n",
       "      <th></th>\n",
       "      <th></th>\n",
       "      <th></th>\n",
       "      <th></th>\n",
       "      <th></th>\n",
       "    </tr>\n",
       "  </thead>\n",
       "  <tbody>\n",
       "    <tr>\n",
       "      <th>5085010022</th>\n",
       "      <td>0</td>\n",
       "      <td>0</td>\n",
       "      <td>0</td>\n",
       "      <td>0</td>\n",
       "      <td>1</td>\n",
       "      <td>1157385</td>\n",
       "      <td>925908</td>\n",
       "      <td>231477</td>\n",
       "      <td>0</td>\n",
       "      <td>0</td>\n",
       "      <td>...</td>\n",
       "      <td>0</td>\n",
       "      <td>0</td>\n",
       "      <td>0</td>\n",
       "      <td>0</td>\n",
       "      <td>0</td>\n",
       "      <td>0</td>\n",
       "      <td>0</td>\n",
       "      <td>0</td>\n",
       "      <td>0</td>\n",
       "      <td>0</td>\n",
       "    </tr>\n",
       "    <tr>\n",
       "      <th>5085033008</th>\n",
       "      <td>0</td>\n",
       "      <td>0</td>\n",
       "      <td>1</td>\n",
       "      <td>0</td>\n",
       "      <td>0</td>\n",
       "      <td>57047</td>\n",
       "      <td>40994</td>\n",
       "      <td>16053</td>\n",
       "      <td>0</td>\n",
       "      <td>0</td>\n",
       "      <td>...</td>\n",
       "      <td>0</td>\n",
       "      <td>0</td>\n",
       "      <td>0</td>\n",
       "      <td>0</td>\n",
       "      <td>0</td>\n",
       "      <td>0</td>\n",
       "      <td>0</td>\n",
       "      <td>0</td>\n",
       "      <td>0</td>\n",
       "      <td>0</td>\n",
       "    </tr>\n",
       "    <tr>\n",
       "      <th>5085032022</th>\n",
       "      <td>0</td>\n",
       "      <td>0</td>\n",
       "      <td>0</td>\n",
       "      <td>0</td>\n",
       "      <td>1</td>\n",
       "      <td>651485</td>\n",
       "      <td>521193</td>\n",
       "      <td>130292</td>\n",
       "      <td>0</td>\n",
       "      <td>1</td>\n",
       "      <td>...</td>\n",
       "      <td>0</td>\n",
       "      <td>0</td>\n",
       "      <td>0</td>\n",
       "      <td>0</td>\n",
       "      <td>0</td>\n",
       "      <td>0</td>\n",
       "      <td>0</td>\n",
       "      <td>0</td>\n",
       "      <td>0</td>\n",
       "      <td>0</td>\n",
       "    </tr>\n",
       "  </tbody>\n",
       "</table>\n",
       "<p>3 rows × 56 columns</p>\n",
       "</div>"
      ],
      "text/plain": [
       "            Owned by Trust?  Owned by Business?  MAIL DIFFERENT FROM SITE?  \\\n",
       "PARCEL                                                                       \n",
       "5085010022                0                   0                          0   \n",
       "5085033008                0                   0                          1   \n",
       "5085032022                0                   0                          0   \n",
       "\n",
       "            MAIL OUTSIDE CA?  TITLECO1  ASSDTOTAL  ASSDLAND  ASSDSTCT  \\\n",
       "PARCEL                                                                  \n",
       "5085010022                 0         1    1157385    925908    231477   \n",
       "5085033008                 0         0      57047     40994     16053   \n",
       "5085032022                 0         1     651485    521193    130292   \n",
       "\n",
       "            ASSDOTHR  EXEMPTCD  ...  NAME CHANGE  Other  PARTNERSHIP  \\\n",
       "PARCEL                          ...                                    \n",
       "5085010022         0         0  ...            0      0            0   \n",
       "5085033008         0         0  ...            0      0            0   \n",
       "5085032022         0         1  ...            0      0            0   \n",
       "\n",
       "            PERSONAL REP  QUIT CLAIM  RE-RECORD  TAX DEED  TRUST TRANSFER  \\\n",
       "PARCEL                                                                      \n",
       "5085010022             0           0          0         0               0   \n",
       "5085033008             0           0          0         0               0   \n",
       "5085032022             0           0          0         0               0   \n",
       "\n",
       "            TRUSTEES  WARRANTY  \n",
       "PARCEL                          \n",
       "5085010022         0         0  \n",
       "5085033008         0         0  \n",
       "5085032022         0         0  \n",
       "\n",
       "[3 rows x 56 columns]"
      ]
     },
     "execution_count": 8,
     "metadata": {},
     "output_type": "execute_result"
    }
   ],
   "source": [
    "# check to see if it dropped.\n",
    "Beverly_Grove_df.head(3)"
   ]
  },
  {
   "cell_type": "code",
   "execution_count": 9,
   "metadata": {},
   "outputs": [
    {
     "data": {
      "text/plain": [
       "4705"
      ]
     },
     "execution_count": 9,
     "metadata": {},
     "output_type": "execute_result"
    }
   ],
   "source": [
    "len(Beverly_Grove_df)"
   ]
  },
  {
   "cell_type": "markdown",
   "metadata": {},
   "source": [
    "# Attempt 1: Run a standard Logistic Regression"
   ]
  },
  {
   "cell_type": "code",
   "execution_count": 10,
   "metadata": {},
   "outputs": [],
   "source": [
    "# Step 1: Create our X and y\n",
    "\n",
    "y = Beverly_Grove_df['Did it sell?']\n",
    "X = Beverly_Grove_df.drop(['Did it sell?'], 1)"
   ]
  },
  {
   "cell_type": "code",
   "execution_count": 11,
   "metadata": {},
   "outputs": [
    {
     "data": {
      "text/plain": [
       "array([5085010022, 5085033008, 5085032022, ..., 5510018012, 5510017023,\n",
       "       5514001029])"
      ]
     },
     "execution_count": 11,
     "metadata": {},
     "output_type": "execute_result"
    }
   ],
   "source": [
    "APN = Beverly_Grove_df.index.values\n",
    "APN"
   ]
  },
  {
   "cell_type": "code",
   "execution_count": 12,
   "metadata": {},
   "outputs": [],
   "source": [
    "# Split our data into training and testing sets\n",
    "\n",
    "X_train, X_test, y_train, y_test = train_test_split(X, y, random_state=78, stratify=y)"
   ]
  },
  {
   "cell_type": "code",
   "execution_count": 13,
   "metadata": {},
   "outputs": [
    {
     "data": {
      "text/html": [
       "<div>\n",
       "<style scoped>\n",
       "    .dataframe tbody tr th:only-of-type {\n",
       "        vertical-align: middle;\n",
       "    }\n",
       "\n",
       "    .dataframe tbody tr th {\n",
       "        vertical-align: top;\n",
       "    }\n",
       "\n",
       "    .dataframe thead th {\n",
       "        text-align: right;\n",
       "    }\n",
       "</style>\n",
       "<table border=\"1\" class=\"dataframe\">\n",
       "  <thead>\n",
       "    <tr style=\"text-align: right;\">\n",
       "      <th></th>\n",
       "      <th>Owned by Trust?</th>\n",
       "      <th>Owned by Business?</th>\n",
       "      <th>MAIL DIFFERENT FROM SITE?</th>\n",
       "      <th>MAIL OUTSIDE CA?</th>\n",
       "      <th>TITLECO1</th>\n",
       "      <th>ASSDTOTAL</th>\n",
       "      <th>ASSDLAND</th>\n",
       "      <th>ASSDSTCT</th>\n",
       "      <th>ASSDOTHR</th>\n",
       "      <th>EXEMPTCD</th>\n",
       "      <th>...</th>\n",
       "      <th>NAME CHANGE</th>\n",
       "      <th>Other</th>\n",
       "      <th>PARTNERSHIP</th>\n",
       "      <th>PERSONAL REP</th>\n",
       "      <th>QUIT CLAIM</th>\n",
       "      <th>RE-RECORD</th>\n",
       "      <th>TAX DEED</th>\n",
       "      <th>TRUST TRANSFER</th>\n",
       "      <th>TRUSTEES</th>\n",
       "      <th>WARRANTY</th>\n",
       "    </tr>\n",
       "    <tr>\n",
       "      <th>PARCEL</th>\n",
       "      <th></th>\n",
       "      <th></th>\n",
       "      <th></th>\n",
       "      <th></th>\n",
       "      <th></th>\n",
       "      <th></th>\n",
       "      <th></th>\n",
       "      <th></th>\n",
       "      <th></th>\n",
       "      <th></th>\n",
       "      <th></th>\n",
       "      <th></th>\n",
       "      <th></th>\n",
       "      <th></th>\n",
       "      <th></th>\n",
       "      <th></th>\n",
       "      <th></th>\n",
       "      <th></th>\n",
       "      <th></th>\n",
       "      <th></th>\n",
       "      <th></th>\n",
       "    </tr>\n",
       "  </thead>\n",
       "  <tbody>\n",
       "    <tr>\n",
       "      <th>5088017017</th>\n",
       "      <td>0</td>\n",
       "      <td>0</td>\n",
       "      <td>0</td>\n",
       "      <td>0</td>\n",
       "      <td>1</td>\n",
       "      <td>340000</td>\n",
       "      <td>136000</td>\n",
       "      <td>204000</td>\n",
       "      <td>0</td>\n",
       "      <td>1</td>\n",
       "      <td>...</td>\n",
       "      <td>0</td>\n",
       "      <td>0</td>\n",
       "      <td>0</td>\n",
       "      <td>0</td>\n",
       "      <td>0</td>\n",
       "      <td>0</td>\n",
       "      <td>0</td>\n",
       "      <td>0</td>\n",
       "      <td>0</td>\n",
       "      <td>0</td>\n",
       "    </tr>\n",
       "    <tr>\n",
       "      <th>5089020010</th>\n",
       "      <td>0</td>\n",
       "      <td>0</td>\n",
       "      <td>0</td>\n",
       "      <td>0</td>\n",
       "      <td>0</td>\n",
       "      <td>218091</td>\n",
       "      <td>106556</td>\n",
       "      <td>111535</td>\n",
       "      <td>0</td>\n",
       "      <td>1</td>\n",
       "      <td>...</td>\n",
       "      <td>0</td>\n",
       "      <td>0</td>\n",
       "      <td>0</td>\n",
       "      <td>0</td>\n",
       "      <td>0</td>\n",
       "      <td>0</td>\n",
       "      <td>0</td>\n",
       "      <td>0</td>\n",
       "      <td>0</td>\n",
       "      <td>0</td>\n",
       "    </tr>\n",
       "    <tr>\n",
       "      <th>5088016028</th>\n",
       "      <td>1</td>\n",
       "      <td>0</td>\n",
       "      <td>0</td>\n",
       "      <td>0</td>\n",
       "      <td>1</td>\n",
       "      <td>195815</td>\n",
       "      <td>49267</td>\n",
       "      <td>146548</td>\n",
       "      <td>0</td>\n",
       "      <td>1</td>\n",
       "      <td>...</td>\n",
       "      <td>0</td>\n",
       "      <td>0</td>\n",
       "      <td>0</td>\n",
       "      <td>0</td>\n",
       "      <td>0</td>\n",
       "      <td>0</td>\n",
       "      <td>0</td>\n",
       "      <td>0</td>\n",
       "      <td>0</td>\n",
       "      <td>0</td>\n",
       "    </tr>\n",
       "  </tbody>\n",
       "</table>\n",
       "<p>3 rows × 55 columns</p>\n",
       "</div>"
      ],
      "text/plain": [
       "            Owned by Trust?  Owned by Business?  MAIL DIFFERENT FROM SITE?  \\\n",
       "PARCEL                                                                       \n",
       "5088017017                0                   0                          0   \n",
       "5089020010                0                   0                          0   \n",
       "5088016028                1                   0                          0   \n",
       "\n",
       "            MAIL OUTSIDE CA?  TITLECO1  ASSDTOTAL  ASSDLAND  ASSDSTCT  \\\n",
       "PARCEL                                                                  \n",
       "5088017017                 0         1     340000    136000    204000   \n",
       "5089020010                 0         0     218091    106556    111535   \n",
       "5088016028                 0         1     195815     49267    146548   \n",
       "\n",
       "            ASSDOTHR  EXEMPTCD  ...  NAME CHANGE  Other  PARTNERSHIP  \\\n",
       "PARCEL                          ...                                    \n",
       "5088017017         0         1  ...            0      0            0   \n",
       "5089020010         0         1  ...            0      0            0   \n",
       "5088016028         0         1  ...            0      0            0   \n",
       "\n",
       "            PERSONAL REP  QUIT CLAIM  RE-RECORD  TAX DEED  TRUST TRANSFER  \\\n",
       "PARCEL                                                                      \n",
       "5088017017             0           0          0         0               0   \n",
       "5089020010             0           0          0         0               0   \n",
       "5088016028             0           0          0         0               0   \n",
       "\n",
       "            TRUSTEES  WARRANTY  \n",
       "PARCEL                          \n",
       "5088017017         0         0  \n",
       "5089020010         0         0  \n",
       "5088016028         0         0  \n",
       "\n",
       "[3 rows x 55 columns]"
      ]
     },
     "execution_count": 13,
     "metadata": {},
     "output_type": "execute_result"
    }
   ],
   "source": [
    "X_train.head(3)"
   ]
  },
  {
   "cell_type": "code",
   "execution_count": 14,
   "metadata": {},
   "outputs": [
    {
     "data": {
      "text/plain": [
       "Index(['Owned by Trust?', 'Owned by Business?', 'MAIL DIFFERENT FROM SITE?',\n",
       "       'MAIL OUTSIDE CA?', 'TITLECO1', 'ASSDTOTAL', 'ASSDLAND', 'ASSDSTCT',\n",
       "       'ASSDOTHR', 'EXEMPTCD', 'EXMPTAMT', 'PCNTIMPD', 'TAXAMT',\n",
       "       'DOCDATE_YEAR', 'MULTIPARCEL', 'PRICE', 'LENDER1', 'LOANAMOUT1',\n",
       "       'LOANTYPE1', 'YEARBLT', 'EFFYRBLT', 'LOTSQFT', 'TOTALSF', 'GRGTYPE',\n",
       "       'BLDGMAT', 'TOTUNITS', 'QUALCLAS', 'BLDGCOND', 'NOSTORY', 'ROOFMAT',\n",
       "       'FOUNDATN', 'BEDROOMS', 'BATHROOMS', 'FAMILYRM', 'DININGRM', 'POOL',\n",
       "       'PATIO', 'FIREPLCE', 'AIRMTHOD', 'HEATMTHD', 'VIEW', 'GRANT DEED',\n",
       "       'IN LIEU OF FORC', 'INTERSPOUSAL', 'JOINT TENANT', 'NAME CHANGE',\n",
       "       'Other', 'PARTNERSHIP', 'PERSONAL REP', 'QUIT CLAIM', 'RE-RECORD',\n",
       "       'TAX DEED', 'TRUST TRANSFER', 'TRUSTEES', 'WARRANTY'],\n",
       "      dtype='object')"
      ]
     },
     "execution_count": 14,
     "metadata": {},
     "output_type": "execute_result"
    }
   ],
   "source": [
    "X_train.columns"
   ]
  },
  {
   "cell_type": "code",
   "execution_count": 15,
   "metadata": {},
   "outputs": [],
   "source": [
    "# Scale our data\n",
    "\n",
    "# Create the StandardScaler instance\n",
    "scaler = StandardScaler()\n",
    "\n",
    "# Fit our scaler, named 'scaler' to our data, which produces a new StandardScaler object\n",
    "# which we call 'X_scaler'\n",
    "X_scaler = scaler.fit(X_train)\n",
    "\n",
    "# Scale the data\n",
    "X_train_scaled = X_scaler.transform(X_train)\n",
    "X_test_scaled = X_scaler.transform(X_test)"
   ]
  },
  {
   "cell_type": "code",
   "execution_count": 16,
   "metadata": {},
   "outputs": [],
   "source": [
    "X_train_scaled_APN = []"
   ]
  },
  {
   "cell_type": "code",
   "execution_count": 17,
   "metadata": {},
   "outputs": [],
   "source": [
    "for index, parcel in enumerate(X_train.index.values):\n",
    "     X_train_scaled_APN.append(np.insert(X_train_scaled[index], 0, [parcel]))"
   ]
  },
  {
   "cell_type": "code",
   "execution_count": 18,
   "metadata": {},
   "outputs": [],
   "source": [
    "# Create the learning model\n",
    "\n",
    "classifier = LogisticRegression(solver='lbfgs',\n",
    "                                max_iter=300,\n",
    "                                random_state=78,\n",
    "                                class_weight=\"balanced\")"
   ]
  },
  {
   "cell_type": "code",
   "execution_count": 19,
   "metadata": {},
   "outputs": [
    {
     "data": {
      "text/plain": [
       "LogisticRegression(class_weight='balanced', max_iter=300, random_state=78)"
      ]
     },
     "execution_count": 19,
     "metadata": {},
     "output_type": "execute_result"
    }
   ],
   "source": [
    "# fit our learning model to our scaled training data\n",
    "\n",
    "classifier.fit(X_train_scaled, y_train)"
   ]
  },
  {
   "cell_type": "code",
   "execution_count": 20,
   "metadata": {},
   "outputs": [
    {
     "data": {
      "text/html": [
       "<div>\n",
       "<style scoped>\n",
       "    .dataframe tbody tr th:only-of-type {\n",
       "        vertical-align: middle;\n",
       "    }\n",
       "\n",
       "    .dataframe tbody tr th {\n",
       "        vertical-align: top;\n",
       "    }\n",
       "\n",
       "    .dataframe thead th {\n",
       "        text-align: right;\n",
       "    }\n",
       "</style>\n",
       "<table border=\"1\" class=\"dataframe\">\n",
       "  <thead>\n",
       "    <tr style=\"text-align: right;\">\n",
       "      <th></th>\n",
       "      <th>Prediction</th>\n",
       "      <th>Actual</th>\n",
       "      <th>PARCEL</th>\n",
       "    </tr>\n",
       "  </thead>\n",
       "  <tbody>\n",
       "    <tr>\n",
       "      <th>854</th>\n",
       "      <td>1</td>\n",
       "      <td>0</td>\n",
       "      <td>5526025015</td>\n",
       "    </tr>\n",
       "    <tr>\n",
       "      <th>375</th>\n",
       "      <td>1</td>\n",
       "      <td>0</td>\n",
       "      <td>5514010038</td>\n",
       "    </tr>\n",
       "    <tr>\n",
       "      <th>506</th>\n",
       "      <td>0</td>\n",
       "      <td>0</td>\n",
       "      <td>5089017037</td>\n",
       "    </tr>\n",
       "    <tr>\n",
       "      <th>867</th>\n",
       "      <td>0</td>\n",
       "      <td>0</td>\n",
       "      <td>5510018008</td>\n",
       "    </tr>\n",
       "    <tr>\n",
       "      <th>373</th>\n",
       "      <td>0</td>\n",
       "      <td>0</td>\n",
       "      <td>5514012013</td>\n",
       "    </tr>\n",
       "    <tr>\n",
       "      <th>1068</th>\n",
       "      <td>1</td>\n",
       "      <td>0</td>\n",
       "      <td>5087002005</td>\n",
       "    </tr>\n",
       "    <tr>\n",
       "      <th>955</th>\n",
       "      <td>0</td>\n",
       "      <td>0</td>\n",
       "      <td>5089021001</td>\n",
       "    </tr>\n",
       "    <tr>\n",
       "      <th>563</th>\n",
       "      <td>1</td>\n",
       "      <td>0</td>\n",
       "      <td>5526023023</td>\n",
       "    </tr>\n",
       "    <tr>\n",
       "      <th>836</th>\n",
       "      <td>1</td>\n",
       "      <td>0</td>\n",
       "      <td>5087009017</td>\n",
       "    </tr>\n",
       "    <tr>\n",
       "      <th>352</th>\n",
       "      <td>0</td>\n",
       "      <td>0</td>\n",
       "      <td>5525021017</td>\n",
       "    </tr>\n",
       "    <tr>\n",
       "      <th>790</th>\n",
       "      <td>1</td>\n",
       "      <td>0</td>\n",
       "      <td>5512006010</td>\n",
       "    </tr>\n",
       "    <tr>\n",
       "      <th>727</th>\n",
       "      <td>0</td>\n",
       "      <td>0</td>\n",
       "      <td>5511043010</td>\n",
       "    </tr>\n",
       "    <tr>\n",
       "      <th>201</th>\n",
       "      <td>1</td>\n",
       "      <td>0</td>\n",
       "      <td>5512007002</td>\n",
       "    </tr>\n",
       "    <tr>\n",
       "      <th>678</th>\n",
       "      <td>0</td>\n",
       "      <td>0</td>\n",
       "      <td>5511037006</td>\n",
       "    </tr>\n",
       "    <tr>\n",
       "      <th>27</th>\n",
       "      <td>1</td>\n",
       "      <td>1</td>\n",
       "      <td>5512024012</td>\n",
       "    </tr>\n",
       "    <tr>\n",
       "      <th>295</th>\n",
       "      <td>1</td>\n",
       "      <td>0</td>\n",
       "      <td>5527035003</td>\n",
       "    </tr>\n",
       "    <tr>\n",
       "      <th>794</th>\n",
       "      <td>0</td>\n",
       "      <td>0</td>\n",
       "      <td>5525036027</td>\n",
       "    </tr>\n",
       "    <tr>\n",
       "      <th>1045</th>\n",
       "      <td>0</td>\n",
       "      <td>0</td>\n",
       "      <td>5087005001</td>\n",
       "    </tr>\n",
       "    <tr>\n",
       "      <th>34</th>\n",
       "      <td>0</td>\n",
       "      <td>0</td>\n",
       "      <td>5085016027</td>\n",
       "    </tr>\n",
       "    <tr>\n",
       "      <th>493</th>\n",
       "      <td>0</td>\n",
       "      <td>0</td>\n",
       "      <td>5087024023</td>\n",
       "    </tr>\n",
       "  </tbody>\n",
       "</table>\n",
       "</div>"
      ],
      "text/plain": [
       "      Prediction  Actual      PARCEL\n",
       "854            1       0  5526025015\n",
       "375            1       0  5514010038\n",
       "506            0       0  5089017037\n",
       "867            0       0  5510018008\n",
       "373            0       0  5514012013\n",
       "1068           1       0  5087002005\n",
       "955            0       0  5089021001\n",
       "563            1       0  5526023023\n",
       "836            1       0  5087009017\n",
       "352            0       0  5525021017\n",
       "790            1       0  5512006010\n",
       "727            0       0  5511043010\n",
       "201            1       0  5512007002\n",
       "678            0       0  5511037006\n",
       "27             1       1  5512024012\n",
       "295            1       0  5527035003\n",
       "794            0       0  5525036027\n",
       "1045           0       0  5087005001\n",
       "34             0       0  5085016027\n",
       "493            0       0  5087024023"
      ]
     },
     "execution_count": 20,
     "metadata": {},
     "output_type": "execute_result"
    }
   ],
   "source": [
    "y_pred = classifier.predict(X_test_scaled)\n",
    "results = pd.DataFrame({\"Prediction\": y_pred, \"Actual\": y_test, \"PARCEL\": y_test.index.values}).reset_index(drop=True)\n",
    "results.sample(20)"
   ]
  },
  {
   "cell_type": "code",
   "execution_count": 21,
   "metadata": {},
   "outputs": [
    {
     "name": "stdout",
     "output_type": "stream",
     "text": [
      "0.5921835174171622\n"
     ]
    }
   ],
   "source": [
    "from sklearn.metrics import accuracy_score\n",
    "print(accuracy_score(y_test, y_pred))"
   ]
  },
  {
   "cell_type": "code",
   "execution_count": 22,
   "metadata": {},
   "outputs": [
    {
     "name": "stdout",
     "output_type": "stream",
     "text": [
      "0.4951901414796792\n"
     ]
    }
   ],
   "source": [
    "from sklearn.metrics import balanced_accuracy_score\n",
    "print(balanced_accuracy_score(y_test, y_pred))"
   ]
  },
  {
   "cell_type": "code",
   "execution_count": 23,
   "metadata": {},
   "outputs": [
    {
     "data": {
      "text/plain": [
       "0.6923828010441901"
      ]
     },
     "execution_count": 23,
     "metadata": {},
     "output_type": "execute_result"
    }
   ],
   "source": [
    "from sklearn.metrics import f1_score\n",
    "f1_score(y_test, y_pred, average=\"weighted\")"
   ]
  },
  {
   "cell_type": "code",
   "execution_count": 24,
   "metadata": {},
   "outputs": [
    {
     "data": {
      "text/plain": [
       "array([[666, 430],\n",
       "       [ 50,  31]])"
      ]
     },
     "execution_count": 24,
     "metadata": {},
     "output_type": "execute_result"
    }
   ],
   "source": [
    "# See our results in a confusion matrix\n",
    "from sklearn.metrics import confusion_matrix\n",
    "confusion_matrix(y_test, y_pred)"
   ]
  },
  {
   "cell_type": "code",
   "execution_count": 25,
   "metadata": {},
   "outputs": [
    {
     "name": "stdout",
     "output_type": "stream",
     "text": [
      "              precision    recall  f1-score   support\n",
      "\n",
      "           0       0.93      0.61      0.74      1096\n",
      "           1       0.07      0.38      0.11        81\n",
      "\n",
      "    accuracy                           0.59      1177\n",
      "   macro avg       0.50      0.50      0.42      1177\n",
      "weighted avg       0.87      0.59      0.69      1177\n",
      "\n"
     ]
    }
   ],
   "source": [
    "# evaluate\n",
    "from sklearn.metrics import classification_report\n",
    "print(classification_report(y_test, y_pred))"
   ]
  },
  {
   "cell_type": "code",
   "execution_count": 26,
   "metadata": {},
   "outputs": [
    {
     "data": {
      "text/html": [
       "<div>\n",
       "<style scoped>\n",
       "    .dataframe tbody tr th:only-of-type {\n",
       "        vertical-align: middle;\n",
       "    }\n",
       "\n",
       "    .dataframe tbody tr th {\n",
       "        vertical-align: top;\n",
       "    }\n",
       "\n",
       "    .dataframe thead th {\n",
       "        text-align: right;\n",
       "    }\n",
       "</style>\n",
       "<table border=\"1\" class=\"dataframe\">\n",
       "  <thead>\n",
       "    <tr style=\"text-align: right;\">\n",
       "      <th></th>\n",
       "      <th>PARCEL</th>\n",
       "      <th>Owned by Trust?</th>\n",
       "      <th>Owned by Business?</th>\n",
       "      <th>MAIL DIFFERENT FROM SITE?</th>\n",
       "      <th>MAIL OUTSIDE CA?</th>\n",
       "      <th>TITLECO1</th>\n",
       "      <th>ASSDTOTAL</th>\n",
       "      <th>ASSDLAND</th>\n",
       "      <th>ASSDSTCT</th>\n",
       "      <th>ASSDOTHR</th>\n",
       "      <th>...</th>\n",
       "      <th>PARTNERSHIP</th>\n",
       "      <th>PERSONAL REP</th>\n",
       "      <th>QUIT CLAIM</th>\n",
       "      <th>RE-RECORD</th>\n",
       "      <th>TAX DEED</th>\n",
       "      <th>TRUST TRANSFER</th>\n",
       "      <th>TRUSTEES</th>\n",
       "      <th>WARRANTY</th>\n",
       "      <th>Prediction</th>\n",
       "      <th>Actual</th>\n",
       "    </tr>\n",
       "  </thead>\n",
       "  <tbody>\n",
       "    <tr>\n",
       "      <th>0</th>\n",
       "      <td>5085010022</td>\n",
       "      <td>0</td>\n",
       "      <td>0</td>\n",
       "      <td>0</td>\n",
       "      <td>0</td>\n",
       "      <td>1</td>\n",
       "      <td>1157385</td>\n",
       "      <td>925908</td>\n",
       "      <td>231477</td>\n",
       "      <td>0</td>\n",
       "      <td>...</td>\n",
       "      <td>0</td>\n",
       "      <td>0</td>\n",
       "      <td>0</td>\n",
       "      <td>0</td>\n",
       "      <td>0</td>\n",
       "      <td>0</td>\n",
       "      <td>0</td>\n",
       "      <td>0</td>\n",
       "      <td>NaN</td>\n",
       "      <td>NaN</td>\n",
       "    </tr>\n",
       "    <tr>\n",
       "      <th>1</th>\n",
       "      <td>5085033008</td>\n",
       "      <td>0</td>\n",
       "      <td>0</td>\n",
       "      <td>1</td>\n",
       "      <td>0</td>\n",
       "      <td>0</td>\n",
       "      <td>57047</td>\n",
       "      <td>40994</td>\n",
       "      <td>16053</td>\n",
       "      <td>0</td>\n",
       "      <td>...</td>\n",
       "      <td>0</td>\n",
       "      <td>0</td>\n",
       "      <td>0</td>\n",
       "      <td>0</td>\n",
       "      <td>0</td>\n",
       "      <td>0</td>\n",
       "      <td>0</td>\n",
       "      <td>0</td>\n",
       "      <td>0.0</td>\n",
       "      <td>0.0</td>\n",
       "    </tr>\n",
       "    <tr>\n",
       "      <th>2</th>\n",
       "      <td>5085032022</td>\n",
       "      <td>0</td>\n",
       "      <td>0</td>\n",
       "      <td>0</td>\n",
       "      <td>0</td>\n",
       "      <td>1</td>\n",
       "      <td>651485</td>\n",
       "      <td>521193</td>\n",
       "      <td>130292</td>\n",
       "      <td>0</td>\n",
       "      <td>...</td>\n",
       "      <td>0</td>\n",
       "      <td>0</td>\n",
       "      <td>0</td>\n",
       "      <td>0</td>\n",
       "      <td>0</td>\n",
       "      <td>0</td>\n",
       "      <td>0</td>\n",
       "      <td>0</td>\n",
       "      <td>NaN</td>\n",
       "      <td>NaN</td>\n",
       "    </tr>\n",
       "    <tr>\n",
       "      <th>3</th>\n",
       "      <td>5510005006</td>\n",
       "      <td>1</td>\n",
       "      <td>0</td>\n",
       "      <td>1</td>\n",
       "      <td>0</td>\n",
       "      <td>0</td>\n",
       "      <td>85697</td>\n",
       "      <td>74539</td>\n",
       "      <td>11158</td>\n",
       "      <td>0</td>\n",
       "      <td>...</td>\n",
       "      <td>0</td>\n",
       "      <td>0</td>\n",
       "      <td>0</td>\n",
       "      <td>0</td>\n",
       "      <td>0</td>\n",
       "      <td>0</td>\n",
       "      <td>0</td>\n",
       "      <td>0</td>\n",
       "      <td>0.0</td>\n",
       "      <td>0.0</td>\n",
       "    </tr>\n",
       "    <tr>\n",
       "      <th>4</th>\n",
       "      <td>5089024002</td>\n",
       "      <td>0</td>\n",
       "      <td>0</td>\n",
       "      <td>0</td>\n",
       "      <td>0</td>\n",
       "      <td>0</td>\n",
       "      <td>62487</td>\n",
       "      <td>42013</td>\n",
       "      <td>20474</td>\n",
       "      <td>0</td>\n",
       "      <td>...</td>\n",
       "      <td>0</td>\n",
       "      <td>0</td>\n",
       "      <td>0</td>\n",
       "      <td>0</td>\n",
       "      <td>0</td>\n",
       "      <td>0</td>\n",
       "      <td>0</td>\n",
       "      <td>0</td>\n",
       "      <td>NaN</td>\n",
       "      <td>NaN</td>\n",
       "    </tr>\n",
       "  </tbody>\n",
       "</table>\n",
       "<p>5 rows × 59 columns</p>\n",
       "</div>"
      ],
      "text/plain": [
       "       PARCEL  Owned by Trust?  Owned by Business?  MAIL DIFFERENT FROM SITE?  \\\n",
       "0  5085010022                0                   0                          0   \n",
       "1  5085033008                0                   0                          1   \n",
       "2  5085032022                0                   0                          0   \n",
       "3  5510005006                1                   0                          1   \n",
       "4  5089024002                0                   0                          0   \n",
       "\n",
       "   MAIL OUTSIDE CA?  TITLECO1  ASSDTOTAL  ASSDLAND  ASSDSTCT  ASSDOTHR  ...  \\\n",
       "0                 0         1    1157385    925908    231477         0  ...   \n",
       "1                 0         0      57047     40994     16053         0  ...   \n",
       "2                 0         1     651485    521193    130292         0  ...   \n",
       "3                 0         0      85697     74539     11158         0  ...   \n",
       "4                 0         0      62487     42013     20474         0  ...   \n",
       "\n",
       "   PARTNERSHIP  PERSONAL REP  QUIT CLAIM  RE-RECORD  TAX DEED  TRUST TRANSFER  \\\n",
       "0            0             0           0          0         0               0   \n",
       "1            0             0           0          0         0               0   \n",
       "2            0             0           0          0         0               0   \n",
       "3            0             0           0          0         0               0   \n",
       "4            0             0           0          0         0               0   \n",
       "\n",
       "   TRUSTEES  WARRANTY  Prediction  Actual  \n",
       "0         0         0         NaN     NaN  \n",
       "1         0         0         0.0     0.0  \n",
       "2         0         0         NaN     NaN  \n",
       "3         0         0         0.0     0.0  \n",
       "4         0         0         NaN     NaN  \n",
       "\n",
       "[5 rows x 59 columns]"
      ]
     },
     "execution_count": 26,
     "metadata": {},
     "output_type": "execute_result"
    }
   ],
   "source": [
    "Beverly_Grove_df = Beverly_Grove_df.merge(results, how=\"left\", right_on=\"PARCEL\", left_on=\"PARCEL\")\n",
    "Beverly_Grove_df.head()"
   ]
  },
  {
   "cell_type": "markdown",
   "metadata": {},
   "source": [
    "# Attempt 2: Resample our data using SMOTEEN"
   ]
  },
  {
   "cell_type": "code",
   "execution_count": 27,
   "metadata": {},
   "outputs": [
    {
     "data": {
      "text/plain": [
       "Counter({0: 2095, 1: 3245})"
      ]
     },
     "execution_count": 27,
     "metadata": {},
     "output_type": "execute_result"
    }
   ],
   "source": [
    "from imblearn.combine import SMOTEENN\n",
    "\n",
    "smote_enn = SMOTEENN(random_state=0)\n",
    "X_resampled, y_resampled = smote_enn.fit_resample(X_train_scaled, y_train)\n",
    "Counter(y_resampled)"
   ]
  },
  {
   "cell_type": "code",
   "execution_count": 28,
   "metadata": {},
   "outputs": [
    {
     "data": {
      "text/plain": [
       "LogisticRegression(class_weight='balanced', max_iter=300, random_state=78)"
      ]
     },
     "execution_count": 28,
     "metadata": {},
     "output_type": "execute_result"
    }
   ],
   "source": [
    "model_2 = LogisticRegression(solver='lbfgs', random_state=78, max_iter=300, class_weight=\"balanced\")\n",
    "model_2.fit(X_resampled, y_resampled)"
   ]
  },
  {
   "cell_type": "code",
   "execution_count": 29,
   "metadata": {},
   "outputs": [],
   "source": [
    "# Calculated the balanced accuracy score\n",
    "y_pred = model_2.predict(X_test_scaled)"
   ]
  },
  {
   "cell_type": "code",
   "execution_count": 30,
   "metadata": {},
   "outputs": [
    {
     "data": {
      "text/plain": [
       "0.5283635216725241"
      ]
     },
     "execution_count": 30,
     "metadata": {},
     "output_type": "execute_result"
    }
   ],
   "source": [
    "from sklearn.metrics import balanced_accuracy_score\n",
    "balanced_accuracy_score(y_test, y_pred)"
   ]
  },
  {
   "cell_type": "code",
   "execution_count": 31,
   "metadata": {},
   "outputs": [
    {
     "data": {
      "text/plain": [
       "0.5794392523364486"
      ]
     },
     "execution_count": 31,
     "metadata": {},
     "output_type": "execute_result"
    }
   ],
   "source": [
    "from sklearn.metrics import accuracy_score\n",
    "accuracy_score(y_test, y_pred)"
   ]
  },
  {
   "cell_type": "code",
   "execution_count": 32,
   "metadata": {},
   "outputs": [
    {
     "data": {
      "text/plain": [
       "0.6818244603198075"
      ]
     },
     "execution_count": 32,
     "metadata": {},
     "output_type": "execute_result"
    }
   ],
   "source": [
    "f1_score(y_test, y_pred, average=\"weighted\")"
   ]
  },
  {
   "cell_type": "code",
   "execution_count": 33,
   "metadata": {},
   "outputs": [
    {
     "data": {
      "text/plain": [
       "array([[644, 452],\n",
       "       [ 43,  38]])"
      ]
     },
     "execution_count": 33,
     "metadata": {},
     "output_type": "execute_result"
    }
   ],
   "source": [
    "confusion_matrix(y_test, y_pred)"
   ]
  },
  {
   "cell_type": "code",
   "execution_count": 34,
   "metadata": {},
   "outputs": [
    {
     "name": "stdout",
     "output_type": "stream",
     "text": [
      "              precision    recall  f1-score   support\n",
      "\n",
      "           0       0.94      0.59      0.72      1096\n",
      "           1       0.08      0.47      0.13        81\n",
      "\n",
      "    accuracy                           0.58      1177\n",
      "   macro avg       0.51      0.53      0.43      1177\n",
      "weighted avg       0.88      0.58      0.68      1177\n",
      "\n"
     ]
    }
   ],
   "source": [
    "# evaluate\n",
    "print(classification_report(y_test, y_pred))"
   ]
  },
  {
   "cell_type": "markdown",
   "metadata": {},
   "source": [
    "# Attempt 3: Resample our Data using SMOTE"
   ]
  },
  {
   "cell_type": "code",
   "execution_count": 35,
   "metadata": {},
   "outputs": [],
   "source": [
    "from imblearn.over_sampling import SMOTE\n",
    "X_resampled_2, y_resampled_2 = SMOTE(random_state=1, \n",
    "                               sampling_strategy='auto').fit_resample(\n",
    "                               X_train_scaled, y_train)"
   ]
  },
  {
   "cell_type": "code",
   "execution_count": 36,
   "metadata": {},
   "outputs": [
    {
     "data": {
      "text/plain": [
       "Counter({0: 3287, 1: 3287})"
      ]
     },
     "execution_count": 36,
     "metadata": {},
     "output_type": "execute_result"
    }
   ],
   "source": [
    "Counter(y_resampled_2)"
   ]
  },
  {
   "cell_type": "code",
   "execution_count": 37,
   "metadata": {},
   "outputs": [
    {
     "data": {
      "text/plain": [
       "LogisticRegression(class_weight='balanced', max_iter=300, random_state=78)"
      ]
     },
     "execution_count": 37,
     "metadata": {},
     "output_type": "execute_result"
    }
   ],
   "source": [
    "# perform our logistic regression\n",
    "\n",
    "model_3 = LogisticRegression(solver='lbfgs', random_state=78, max_iter=300, class_weight=\"balanced\")\n",
    "model_3.fit(X_resampled_2, y_resampled_2)"
   ]
  },
  {
   "cell_type": "code",
   "execution_count": 38,
   "metadata": {},
   "outputs": [
    {
     "data": {
      "text/plain": [
       "0.5146492295214923"
      ]
     },
     "execution_count": 38,
     "metadata": {},
     "output_type": "execute_result"
    }
   ],
   "source": [
    "# Calculated the balanced accuracy score\n",
    "y_pred = model_3.predict(X_test_scaled)\n",
    "balanced_accuracy_score(y_test, y_pred)"
   ]
  },
  {
   "cell_type": "code",
   "execution_count": 39,
   "metadata": {},
   "outputs": [
    {
     "data": {
      "text/plain": [
       "0.5751911639762107"
      ]
     },
     "execution_count": 39,
     "metadata": {},
     "output_type": "execute_result"
    }
   ],
   "source": [
    "accuracy_score(y_test, y_pred)"
   ]
  },
  {
   "cell_type": "code",
   "execution_count": 40,
   "metadata": {},
   "outputs": [
    {
     "data": {
      "text/plain": [
       "0.6785693826192267"
      ]
     },
     "execution_count": 40,
     "metadata": {},
     "output_type": "execute_result"
    }
   ],
   "source": [
    "f1_score(y_test, y_pred, average=\"weighted\")"
   ]
  },
  {
   "cell_type": "markdown",
   "metadata": {},
   "source": [
    "# Attempt 4: Use a Support Vector Machine"
   ]
  },
  {
   "cell_type": "code",
   "execution_count": 41,
   "metadata": {},
   "outputs": [],
   "source": [
    "# Instantiate a linear SVM model\n",
    "from sklearn.svm import SVC\n",
    "model_4 = SVC(kernel='linear')"
   ]
  },
  {
   "cell_type": "code",
   "execution_count": 42,
   "metadata": {},
   "outputs": [],
   "source": [
    "#model_4.class_weight_"
   ]
  },
  {
   "cell_type": "code",
   "execution_count": 43,
   "metadata": {},
   "outputs": [],
   "source": [
    "#model_4.coef_"
   ]
  },
  {
   "cell_type": "code",
   "execution_count": 44,
   "metadata": {},
   "outputs": [],
   "source": [
    "#pd.Series(abs(model_4.coef_[0]), index=X_train.columns).nlargest(20).plot(kind='barh')"
   ]
  },
  {
   "cell_type": "code",
   "execution_count": 45,
   "metadata": {},
   "outputs": [
    {
     "data": {
      "text/plain": [
       "Index(['PARCEL', 'Owned by Trust?', 'Owned by Business?',\n",
       "       'MAIL DIFFERENT FROM SITE?', 'MAIL OUTSIDE CA?', 'TITLECO1',\n",
       "       'ASSDTOTAL', 'ASSDLAND', 'ASSDSTCT', 'ASSDOTHR', 'EXEMPTCD', 'EXMPTAMT',\n",
       "       'PCNTIMPD', 'TAXAMT', 'DOCDATE_YEAR', 'MULTIPARCEL', 'PRICE', 'LENDER1',\n",
       "       'LOANAMOUT1', 'LOANTYPE1', 'YEARBLT', 'EFFYRBLT', 'LOTSQFT', 'TOTALSF',\n",
       "       'GRGTYPE', 'BLDGMAT', 'TOTUNITS', 'QUALCLAS', 'BLDGCOND', 'NOSTORY',\n",
       "       'ROOFMAT', 'FOUNDATN', 'BEDROOMS', 'BATHROOMS', 'FAMILYRM', 'DININGRM',\n",
       "       'POOL', 'PATIO', 'FIREPLCE', 'AIRMTHOD', 'HEATMTHD', 'VIEW',\n",
       "       'Did it sell?', 'GRANT DEED', 'IN LIEU OF FORC', 'INTERSPOUSAL',\n",
       "       'JOINT TENANT', 'NAME CHANGE', 'Other', 'PARTNERSHIP', 'PERSONAL REP',\n",
       "       'QUIT CLAIM', 'RE-RECORD', 'TAX DEED', 'TRUST TRANSFER', 'TRUSTEES',\n",
       "       'WARRANTY', 'Prediction', 'Actual'],\n",
       "      dtype='object')"
      ]
     },
     "execution_count": 45,
     "metadata": {},
     "output_type": "execute_result"
    }
   ],
   "source": [
    "Beverly_Grove_df.columns"
   ]
  },
  {
   "cell_type": "code",
   "execution_count": 46,
   "metadata": {},
   "outputs": [],
   "source": [
    "#model_4.support_vectors_"
   ]
  },
  {
   "cell_type": "code",
   "execution_count": 47,
   "metadata": {},
   "outputs": [
    {
     "data": {
      "text/plain": [
       "SVC(kernel='linear')"
      ]
     },
     "execution_count": 47,
     "metadata": {},
     "output_type": "execute_result"
    }
   ],
   "source": [
    "# Fit/train our model using the scaled training data\n",
    "model_4.fit(X_train_scaled, y_train)"
   ]
  },
  {
   "cell_type": "code",
   "execution_count": 48,
   "metadata": {},
   "outputs": [],
   "source": [
    "# Make predictions using the test data\n",
    "y_pred = model_4.predict(X_test_scaled)\n",
    "results_SVM = pd.DataFrame({\n",
    "    \"Prediction\": y_pred,\n",
    "    \"Actual\": y_test\n",
    "}).reset_index(drop=True)"
   ]
  },
  {
   "cell_type": "code",
   "execution_count": 49,
   "metadata": {},
   "outputs": [
    {
     "data": {
      "text/plain": [
       "0.9311809685641461"
      ]
     },
     "execution_count": 49,
     "metadata": {},
     "output_type": "execute_result"
    }
   ],
   "source": [
    "from sklearn.metrics import accuracy_score\n",
    "accuracy_score(y_test, y_pred)"
   ]
  },
  {
   "cell_type": "code",
   "execution_count": 50,
   "metadata": {},
   "outputs": [
    {
     "data": {
      "text/plain": [
       "0.5"
      ]
     },
     "execution_count": 50,
     "metadata": {},
     "output_type": "execute_result"
    }
   ],
   "source": [
    "balanced_accuracy_score(y_test, y_pred)"
   ]
  },
  {
   "cell_type": "code",
   "execution_count": 51,
   "metadata": {},
   "outputs": [
    {
     "data": {
      "text/plain": [
       "0.8979976608414467"
      ]
     },
     "execution_count": 51,
     "metadata": {},
     "output_type": "execute_result"
    }
   ],
   "source": [
    "f1_score(y_test, y_pred, average=\"weighted\")"
   ]
  },
  {
   "cell_type": "code",
   "execution_count": 52,
   "metadata": {},
   "outputs": [
    {
     "data": {
      "text/plain": [
       "array([[1096,    0],\n",
       "       [  81,    0]])"
      ]
     },
     "execution_count": 52,
     "metadata": {},
     "output_type": "execute_result"
    }
   ],
   "source": [
    "# create our confusion matrix\n",
    "from sklearn.metrics import confusion_matrix\n",
    "confusion_matrix(y_test, y_pred)"
   ]
  },
  {
   "cell_type": "code",
   "execution_count": 53,
   "metadata": {},
   "outputs": [
    {
     "name": "stdout",
     "output_type": "stream",
     "text": [
      "              precision    recall  f1-score   support\n",
      "\n",
      "           0       0.93      1.00      0.96      1096\n",
      "           1       0.00      0.00      0.00        81\n",
      "\n",
      "    accuracy                           0.93      1177\n",
      "   macro avg       0.47      0.50      0.48      1177\n",
      "weighted avg       0.87      0.93      0.90      1177\n",
      "\n"
     ]
    },
    {
     "name": "stderr",
     "output_type": "stream",
     "text": [
      "/Users/Admin/opt/anaconda3/envs/mlenv/lib/python3.7/site-packages/sklearn/metrics/_classification.py:1245: UndefinedMetricWarning: Precision and F-score are ill-defined and being set to 0.0 in labels with no predicted samples. Use `zero_division` parameter to control this behavior.\n",
      "  _warn_prf(average, modifier, msg_start, len(result))\n",
      "/Users/Admin/opt/anaconda3/envs/mlenv/lib/python3.7/site-packages/sklearn/metrics/_classification.py:1245: UndefinedMetricWarning: Precision and F-score are ill-defined and being set to 0.0 in labels with no predicted samples. Use `zero_division` parameter to control this behavior.\n",
      "  _warn_prf(average, modifier, msg_start, len(result))\n",
      "/Users/Admin/opt/anaconda3/envs/mlenv/lib/python3.7/site-packages/sklearn/metrics/_classification.py:1245: UndefinedMetricWarning: Precision and F-score are ill-defined and being set to 0.0 in labels with no predicted samples. Use `zero_division` parameter to control this behavior.\n",
      "  _warn_prf(average, modifier, msg_start, len(result))\n"
     ]
    }
   ],
   "source": [
    "# evaluate\n",
    "from sklearn.metrics import classification_report\n",
    "print(classification_report(y_test, y_pred))"
   ]
  },
  {
   "cell_type": "markdown",
   "metadata": {},
   "source": [
    "## Attempt 5: Reduce the number of columns to just the important ones and run an SVC"
   ]
  },
  {
   "cell_type": "code",
   "execution_count": 54,
   "metadata": {},
   "outputs": [],
   "source": [
    "# REimport our file\n",
    "\n",
    "# Beverly_Grove_df = pd.read_csv('Beverly_Grove_Cleaned.csv', index_col='PARCEL')\n",
    "# Beverly_Grove_df.head()"
   ]
  },
  {
   "cell_type": "code",
   "execution_count": 55,
   "metadata": {},
   "outputs": [],
   "source": [
    "Beverly_Grove_Reduced_df = Beverly_Grove_df[['MAIL DIFFERENT FROM SITE?',\n",
    "                                             'ASSDTOTAL',\n",
    "                                             'ASSDLAND',\n",
    "                                             'ASSDSTCT',\n",
    "                                             'BLDGCOND',\n",
    "                                             'TAXAMT',\n",
    "                                             'PRICE',\n",
    "                                             'YEARBLT',\n",
    "                                             'EFFYRBLT',\n",
    "                                             'LOANAMOUT1',\n",
    "                                             'Did it sell?']]"
   ]
  },
  {
   "cell_type": "code",
   "execution_count": 56,
   "metadata": {},
   "outputs": [],
   "source": [
    "#Beverly_Grove_Reduced_df.set_index(['PARCEL'], inplace=True)"
   ]
  },
  {
   "cell_type": "code",
   "execution_count": 57,
   "metadata": {},
   "outputs": [
    {
     "data": {
      "text/html": [
       "<div>\n",
       "<style scoped>\n",
       "    .dataframe tbody tr th:only-of-type {\n",
       "        vertical-align: middle;\n",
       "    }\n",
       "\n",
       "    .dataframe tbody tr th {\n",
       "        vertical-align: top;\n",
       "    }\n",
       "\n",
       "    .dataframe thead th {\n",
       "        text-align: right;\n",
       "    }\n",
       "</style>\n",
       "<table border=\"1\" class=\"dataframe\">\n",
       "  <thead>\n",
       "    <tr style=\"text-align: right;\">\n",
       "      <th></th>\n",
       "      <th>MAIL DIFFERENT FROM SITE?</th>\n",
       "      <th>ASSDTOTAL</th>\n",
       "      <th>ASSDLAND</th>\n",
       "      <th>ASSDSTCT</th>\n",
       "      <th>BLDGCOND</th>\n",
       "      <th>TAXAMT</th>\n",
       "      <th>PRICE</th>\n",
       "      <th>YEARBLT</th>\n",
       "      <th>EFFYRBLT</th>\n",
       "      <th>LOANAMOUT1</th>\n",
       "      <th>Did it sell?</th>\n",
       "    </tr>\n",
       "  </thead>\n",
       "  <tbody>\n",
       "    <tr>\n",
       "      <th>0</th>\n",
       "      <td>0</td>\n",
       "      <td>1157385</td>\n",
       "      <td>925908</td>\n",
       "      <td>231477</td>\n",
       "      <td>1</td>\n",
       "      <td>14144</td>\n",
       "      <td>1140000</td>\n",
       "      <td>1905</td>\n",
       "      <td>1938</td>\n",
       "      <td>775200</td>\n",
       "      <td>0</td>\n",
       "    </tr>\n",
       "    <tr>\n",
       "      <th>1</th>\n",
       "      <td>1</td>\n",
       "      <td>57047</td>\n",
       "      <td>40994</td>\n",
       "      <td>16053</td>\n",
       "      <td>0</td>\n",
       "      <td>858</td>\n",
       "      <td>0</td>\n",
       "      <td>1906</td>\n",
       "      <td>1916</td>\n",
       "      <td>0</td>\n",
       "      <td>0</td>\n",
       "    </tr>\n",
       "    <tr>\n",
       "      <th>2</th>\n",
       "      <td>0</td>\n",
       "      <td>651485</td>\n",
       "      <td>521193</td>\n",
       "      <td>130292</td>\n",
       "      <td>0</td>\n",
       "      <td>8044</td>\n",
       "      <td>0</td>\n",
       "      <td>1909</td>\n",
       "      <td>1937</td>\n",
       "      <td>0</td>\n",
       "      <td>0</td>\n",
       "    </tr>\n",
       "  </tbody>\n",
       "</table>\n",
       "</div>"
      ],
      "text/plain": [
       "   MAIL DIFFERENT FROM SITE?  ASSDTOTAL  ASSDLAND  ASSDSTCT  BLDGCOND  TAXAMT  \\\n",
       "0                          0    1157385    925908    231477         1   14144   \n",
       "1                          1      57047     40994     16053         0     858   \n",
       "2                          0     651485    521193    130292         0    8044   \n",
       "\n",
       "     PRICE  YEARBLT  EFFYRBLT  LOANAMOUT1  Did it sell?  \n",
       "0  1140000     1905      1938      775200             0  \n",
       "1        0     1906      1916           0             0  \n",
       "2        0     1909      1937           0             0  "
      ]
     },
     "execution_count": 57,
     "metadata": {},
     "output_type": "execute_result"
    }
   ],
   "source": [
    "Beverly_Grove_Reduced_df.head(3)"
   ]
  },
  {
   "cell_type": "code",
   "execution_count": 58,
   "metadata": {},
   "outputs": [
    {
     "data": {
      "text/plain": [
       "4705"
      ]
     },
     "execution_count": 58,
     "metadata": {},
     "output_type": "execute_result"
    }
   ],
   "source": [
    "len(Beverly_Grove_Reduced_df)"
   ]
  },
  {
   "cell_type": "code",
   "execution_count": 59,
   "metadata": {},
   "outputs": [],
   "source": [
    "# create new X and y values based on the Beverly_Grove_Reduced dataframe\n",
    "\n",
    "y_2 = Beverly_Grove_Reduced_df['Did it sell?']\n",
    "X_2 = Beverly_Grove_Reduced_df[['MAIL DIFFERENT FROM SITE?',\n",
    "                              'ASSDTOTAL',\n",
    "                              'ASSDLAND',\n",
    "                              'ASSDSTCT',\n",
    "                              'BLDGCOND',\n",
    "                              'TAXAMT',\n",
    "                              'PRICE',\n",
    "                              'YEARBLT',\n",
    "                              'EFFYRBLT',\n",
    "                              'LOANAMOUT1']]"
   ]
  },
  {
   "cell_type": "code",
   "execution_count": 60,
   "metadata": {},
   "outputs": [],
   "source": [
    "# create new training and testing data\n",
    "\n",
    "X_train_2, X_test_2, y_train_2, y_test_2 = train_test_split(X_2, y_2, random_state=78, stratify=y)"
   ]
  },
  {
   "cell_type": "code",
   "execution_count": 61,
   "metadata": {},
   "outputs": [],
   "source": [
    "# Scale our new training and test data\n",
    "\n",
    "# Create the StandardScaler instnce\n",
    "scaler_2 = StandardScaler()"
   ]
  },
  {
   "cell_type": "code",
   "execution_count": 62,
   "metadata": {},
   "outputs": [],
   "source": [
    "# Fit our scaler, named 'scaler_2' to our data, which produced a new \n",
    "# Standard Scaler object, which we call X_scaler_2\n",
    "X_scaler_2 = scaler_2.fit(X_train_2)"
   ]
  },
  {
   "cell_type": "code",
   "execution_count": 63,
   "metadata": {},
   "outputs": [],
   "source": [
    "# Scale the data\n",
    "X_train_2_scaled = X_scaler_2.transform(X_train_2)\n",
    "X_test_2_scaled = X_scaler_2.transform(X_test_2)"
   ]
  },
  {
   "cell_type": "code",
   "execution_count": 64,
   "metadata": {},
   "outputs": [],
   "source": [
    "# Instantiate a linear SVM model\n",
    "from sklearn.svm import SVC\n",
    "model_5 = SVC(kernel='linear')"
   ]
  },
  {
   "cell_type": "code",
   "execution_count": 65,
   "metadata": {},
   "outputs": [
    {
     "data": {
      "text/plain": [
       "SVC(kernel='linear')"
      ]
     },
     "execution_count": 65,
     "metadata": {},
     "output_type": "execute_result"
    }
   ],
   "source": [
    "# Fit/train our model using the scaled training data\n",
    "model_5.fit(X_train_2_scaled, y_train_2)"
   ]
  },
  {
   "cell_type": "code",
   "execution_count": 66,
   "metadata": {},
   "outputs": [],
   "source": [
    "# Make predictions using the test data\n",
    "y_pred_2 = model_5.predict(X_test_2_scaled)\n",
    "results_SVM = pd.DataFrame({\n",
    "    \"Prediction\": y_pred_2,\n",
    "    \"Actual\": y_test_2\n",
    "}).reset_index(drop=True)"
   ]
  },
  {
   "cell_type": "code",
   "execution_count": 67,
   "metadata": {},
   "outputs": [
    {
     "data": {
      "text/plain": [
       "0.9311809685641461"
      ]
     },
     "execution_count": 67,
     "metadata": {},
     "output_type": "execute_result"
    }
   ],
   "source": [
    "from sklearn.metrics import accuracy_score\n",
    "accuracy_score(y_test_2, y_pred_2)"
   ]
  },
  {
   "cell_type": "code",
   "execution_count": 68,
   "metadata": {},
   "outputs": [
    {
     "data": {
      "text/plain": [
       "0.5"
      ]
     },
     "execution_count": 68,
     "metadata": {},
     "output_type": "execute_result"
    }
   ],
   "source": [
    "balanced_accuracy_score(y_test_2, y_pred_2)"
   ]
  },
  {
   "cell_type": "code",
   "execution_count": 69,
   "metadata": {},
   "outputs": [
    {
     "data": {
      "text/plain": [
       "0.8979976608414467"
      ]
     },
     "execution_count": 69,
     "metadata": {},
     "output_type": "execute_result"
    }
   ],
   "source": [
    "f1_score(y_test_2, y_pred_2, average=\"weighted\")"
   ]
  },
  {
   "cell_type": "code",
   "execution_count": 70,
   "metadata": {},
   "outputs": [],
   "source": [
    "cm = confusion_matrix(y_test_2, y_pred_2)\n",
    "cm_df = pd.DataFrame(\n",
    "    cm, index=[\"Actual 0\", \"Actual 1\"], columns=[\"Predicted 0\", \"Predicted 1\"]\n",
    ")"
   ]
  },
  {
   "cell_type": "code",
   "execution_count": 71,
   "metadata": {},
   "outputs": [
    {
     "name": "stdout",
     "output_type": "stream",
     "text": [
      "Confusion Matrix\n"
     ]
    },
    {
     "data": {
      "text/html": [
       "<div>\n",
       "<style scoped>\n",
       "    .dataframe tbody tr th:only-of-type {\n",
       "        vertical-align: middle;\n",
       "    }\n",
       "\n",
       "    .dataframe tbody tr th {\n",
       "        vertical-align: top;\n",
       "    }\n",
       "\n",
       "    .dataframe thead th {\n",
       "        text-align: right;\n",
       "    }\n",
       "</style>\n",
       "<table border=\"1\" class=\"dataframe\">\n",
       "  <thead>\n",
       "    <tr style=\"text-align: right;\">\n",
       "      <th></th>\n",
       "      <th>Predicted 0</th>\n",
       "      <th>Predicted 1</th>\n",
       "    </tr>\n",
       "  </thead>\n",
       "  <tbody>\n",
       "    <tr>\n",
       "      <th>Actual 0</th>\n",
       "      <td>1096</td>\n",
       "      <td>0</td>\n",
       "    </tr>\n",
       "    <tr>\n",
       "      <th>Actual 1</th>\n",
       "      <td>81</td>\n",
       "      <td>0</td>\n",
       "    </tr>\n",
       "  </tbody>\n",
       "</table>\n",
       "</div>"
      ],
      "text/plain": [
       "          Predicted 0  Predicted 1\n",
       "Actual 0         1096            0\n",
       "Actual 1           81            0"
      ]
     },
     "metadata": {},
     "output_type": "display_data"
    },
    {
     "name": "stdout",
     "output_type": "stream",
     "text": [
      "Classification Report\n",
      "              precision    recall  f1-score   support\n",
      "\n",
      "           0       0.93      1.00      0.96      1096\n",
      "           1       0.00      0.00      0.00        81\n",
      "\n",
      "    accuracy                           0.93      1177\n",
      "   macro avg       0.47      0.50      0.48      1177\n",
      "weighted avg       0.87      0.93      0.90      1177\n",
      "\n"
     ]
    },
    {
     "name": "stderr",
     "output_type": "stream",
     "text": [
      "/Users/Admin/opt/anaconda3/envs/mlenv/lib/python3.7/site-packages/sklearn/metrics/_classification.py:1245: UndefinedMetricWarning: Precision and F-score are ill-defined and being set to 0.0 in labels with no predicted samples. Use `zero_division` parameter to control this behavior.\n",
      "  _warn_prf(average, modifier, msg_start, len(result))\n",
      "/Users/Admin/opt/anaconda3/envs/mlenv/lib/python3.7/site-packages/sklearn/metrics/_classification.py:1245: UndefinedMetricWarning: Precision and F-score are ill-defined and being set to 0.0 in labels with no predicted samples. Use `zero_division` parameter to control this behavior.\n",
      "  _warn_prf(average, modifier, msg_start, len(result))\n",
      "/Users/Admin/opt/anaconda3/envs/mlenv/lib/python3.7/site-packages/sklearn/metrics/_classification.py:1245: UndefinedMetricWarning: Precision and F-score are ill-defined and being set to 0.0 in labels with no predicted samples. Use `zero_division` parameter to control this behavior.\n",
      "  _warn_prf(average, modifier, msg_start, len(result))\n"
     ]
    }
   ],
   "source": [
    "# Displaying results\n",
    "print(\"Confusion Matrix\")\n",
    "display(cm_df)\n",
    "print(\"Classification Report\")\n",
    "print(classification_report(y_test_2, y_pred_2))"
   ]
  },
  {
   "cell_type": "markdown",
   "metadata": {},
   "source": [
    "## Attempt 6: Decision Tree"
   ]
  },
  {
   "cell_type": "code",
   "execution_count": 72,
   "metadata": {},
   "outputs": [],
   "source": [
    "from sklearn import tree\n",
    "\n",
    "# Instantiate our learning model\n",
    "model_6 = tree.DecisionTreeClassifier()"
   ]
  },
  {
   "cell_type": "code",
   "execution_count": 73,
   "metadata": {},
   "outputs": [],
   "source": [
    "# Fit our model to our trained, scaled data\n",
    "model_6 = model_6.fit(X_train_scaled, y_train)"
   ]
  },
  {
   "cell_type": "code",
   "execution_count": 74,
   "metadata": {},
   "outputs": [
    {
     "data": {
      "text/plain": [
       "array([0, 0, 1, 0, 0, 0, 0, 0, 0, 0, 0, 0, 0, 0, 0, 0, 0, 0, 0, 0])"
      ]
     },
     "execution_count": 74,
     "metadata": {},
     "output_type": "execute_result"
    }
   ],
   "source": [
    "# Make predictions using the testing data\n",
    "predictions = model_6.predict(X_test_scaled)\n",
    "\n",
    "# check your predictions\n",
    "predictions[:20]"
   ]
  },
  {
   "cell_type": "code",
   "execution_count": 75,
   "metadata": {},
   "outputs": [
    {
     "data": {
      "text/plain": [
       "0.8572642310960068"
      ]
     },
     "execution_count": 75,
     "metadata": {},
     "output_type": "execute_result"
    }
   ],
   "source": [
    "# Evaluate our model\n",
    "# Calculating the confusion matrix\n",
    "cm = confusion_matrix(y_test, predictions)\n",
    "cm_df = pd.DataFrame(\n",
    "    cm, index=[\"Actual 0\", \"Actual 1\"], columns=[\"Predicted 0\", \"Predicted 1\"]\n",
    ")\n",
    "\n",
    "# Calculating the accuracy score\n",
    "acc_score = accuracy_score(y_test, predictions)\n",
    "acc_score"
   ]
  },
  {
   "cell_type": "code",
   "execution_count": 76,
   "metadata": {},
   "outputs": [
    {
     "data": {
      "text/plain": [
       "0.4888933946111562"
      ]
     },
     "execution_count": 76,
     "metadata": {},
     "output_type": "execute_result"
    }
   ],
   "source": [
    "# balanced accuracy score\n",
    "balanced_accuracy_score(y_test, predictions)"
   ]
  },
  {
   "cell_type": "code",
   "execution_count": 77,
   "metadata": {},
   "outputs": [
    {
     "data": {
      "text/plain": [
       "0.8631545579770001"
      ]
     },
     "execution_count": 77,
     "metadata": {},
     "output_type": "execute_result"
    }
   ],
   "source": [
    "# generate the F1 score\n",
    "f1_score(y_test, predictions, average=\"weighted\")"
   ]
  },
  {
   "cell_type": "code",
   "execution_count": 78,
   "metadata": {},
   "outputs": [
    {
     "name": "stdout",
     "output_type": "stream",
     "text": [
      "Confusion Matrix\n"
     ]
    },
    {
     "data": {
      "text/html": [
       "<div>\n",
       "<style scoped>\n",
       "    .dataframe tbody tr th:only-of-type {\n",
       "        vertical-align: middle;\n",
       "    }\n",
       "\n",
       "    .dataframe tbody tr th {\n",
       "        vertical-align: top;\n",
       "    }\n",
       "\n",
       "    .dataframe thead th {\n",
       "        text-align: right;\n",
       "    }\n",
       "</style>\n",
       "<table border=\"1\" class=\"dataframe\">\n",
       "  <thead>\n",
       "    <tr style=\"text-align: right;\">\n",
       "      <th></th>\n",
       "      <th>Predicted 0</th>\n",
       "      <th>Predicted 1</th>\n",
       "    </tr>\n",
       "  </thead>\n",
       "  <tbody>\n",
       "    <tr>\n",
       "      <th>Actual 0</th>\n",
       "      <td>1004</td>\n",
       "      <td>92</td>\n",
       "    </tr>\n",
       "    <tr>\n",
       "      <th>Actual 1</th>\n",
       "      <td>76</td>\n",
       "      <td>5</td>\n",
       "    </tr>\n",
       "  </tbody>\n",
       "</table>\n",
       "</div>"
      ],
      "text/plain": [
       "          Predicted 0  Predicted 1\n",
       "Actual 0         1004           92\n",
       "Actual 1           76            5"
      ]
     },
     "metadata": {},
     "output_type": "display_data"
    },
    {
     "name": "stdout",
     "output_type": "stream",
     "text": [
      "Accuracy Score : 0.8572642310960068\n",
      "Classification Report\n",
      "              precision    recall  f1-score   support\n",
      "\n",
      "           0       0.93      0.92      0.92      1096\n",
      "           1       0.05      0.06      0.06        81\n",
      "\n",
      "    accuracy                           0.86      1177\n",
      "   macro avg       0.49      0.49      0.49      1177\n",
      "weighted avg       0.87      0.86      0.86      1177\n",
      "\n"
     ]
    }
   ],
   "source": [
    "# Displaying results\n",
    "print(\"Confusion Matrix\")\n",
    "display(cm_df)\n",
    "print(f\"Accuracy Score : {acc_score}\")\n",
    "print(\"Classification Report\")\n",
    "print(classification_report(y_test, predictions))"
   ]
  },
  {
   "cell_type": "markdown",
   "metadata": {},
   "source": [
    "## Attempt 7: Random Forest"
   ]
  },
  {
   "cell_type": "code",
   "execution_count": 79,
   "metadata": {},
   "outputs": [
    {
     "name": "stdout",
     "output_type": "stream",
     "text": [
      " Random forest predictive accuracy: 0.931\n"
     ]
    }
   ],
   "source": [
    "from sklearn.ensemble import RandomForestClassifier\n",
    "# Create a random forest classifier.\n",
    "rf_model = RandomForestClassifier(n_estimators=128, random_state=78)\n",
    "\n",
    "# Fitting the model\n",
    "rf_model = rf_model.fit(X_train_scaled, y_train)\n",
    "\n",
    "# Evaluate the model\n",
    "y_pred = rf_model.predict(X_test_scaled)\n",
    "\n",
    "# Remember, the accuracy_score function requires 2 arguments, the test and the pred\n",
    "print(f\" Random forest predictive accuracy: {accuracy_score(y_test, y_pred):.3f}\")"
   ]
  },
  {
   "cell_type": "code",
   "execution_count": 80,
   "metadata": {},
   "outputs": [],
   "source": [
    "acc_score = accuracy_score(y_test, y_pred)"
   ]
  },
  {
   "cell_type": "code",
   "execution_count": 81,
   "metadata": {},
   "outputs": [
    {
     "data": {
      "text/plain": [
       "0.5"
      ]
     },
     "execution_count": 81,
     "metadata": {},
     "output_type": "execute_result"
    }
   ],
   "source": [
    "balanced_accuracy_score(y_test, y_pred)"
   ]
  },
  {
   "cell_type": "code",
   "execution_count": 82,
   "metadata": {},
   "outputs": [
    {
     "data": {
      "text/plain": [
       "0.8631545579770001"
      ]
     },
     "execution_count": 82,
     "metadata": {},
     "output_type": "execute_result"
    }
   ],
   "source": [
    "# generate the F1 score\n",
    "f1_score(y_test, predictions, average=\"weighted\")"
   ]
  },
  {
   "cell_type": "code",
   "execution_count": 83,
   "metadata": {},
   "outputs": [],
   "source": [
    "cm_RandomForest = confusion_matrix(y_test, y_pred)\n",
    "cm_RandomForest_df = pd.DataFrame(\n",
    "    cm_RandomForest, index=[\"Actual 0\", \"Actual 1\"], columns=[\"Predicted 0\", \"Predicted 1\"]\n",
    ")"
   ]
  },
  {
   "cell_type": "code",
   "execution_count": 84,
   "metadata": {},
   "outputs": [
    {
     "name": "stdout",
     "output_type": "stream",
     "text": [
      "Confusion Matrix\n"
     ]
    },
    {
     "data": {
      "text/html": [
       "<div>\n",
       "<style scoped>\n",
       "    .dataframe tbody tr th:only-of-type {\n",
       "        vertical-align: middle;\n",
       "    }\n",
       "\n",
       "    .dataframe tbody tr th {\n",
       "        vertical-align: top;\n",
       "    }\n",
       "\n",
       "    .dataframe thead th {\n",
       "        text-align: right;\n",
       "    }\n",
       "</style>\n",
       "<table border=\"1\" class=\"dataframe\">\n",
       "  <thead>\n",
       "    <tr style=\"text-align: right;\">\n",
       "      <th></th>\n",
       "      <th>Predicted 0</th>\n",
       "      <th>Predicted 1</th>\n",
       "    </tr>\n",
       "  </thead>\n",
       "  <tbody>\n",
       "    <tr>\n",
       "      <th>Actual 0</th>\n",
       "      <td>1096</td>\n",
       "      <td>0</td>\n",
       "    </tr>\n",
       "    <tr>\n",
       "      <th>Actual 1</th>\n",
       "      <td>81</td>\n",
       "      <td>0</td>\n",
       "    </tr>\n",
       "  </tbody>\n",
       "</table>\n",
       "</div>"
      ],
      "text/plain": [
       "          Predicted 0  Predicted 1\n",
       "Actual 0         1096            0\n",
       "Actual 1           81            0"
      ]
     },
     "metadata": {},
     "output_type": "display_data"
    },
    {
     "name": "stdout",
     "output_type": "stream",
     "text": [
      "Accuracy Score : 0.9311809685641461\n",
      "Classification Report\n",
      "              precision    recall  f1-score   support\n",
      "\n",
      "           0       0.93      1.00      0.96      1096\n",
      "           1       0.00      0.00      0.00        81\n",
      "\n",
      "    accuracy                           0.93      1177\n",
      "   macro avg       0.47      0.50      0.48      1177\n",
      "weighted avg       0.87      0.93      0.90      1177\n",
      "\n"
     ]
    },
    {
     "name": "stderr",
     "output_type": "stream",
     "text": [
      "/Users/Admin/opt/anaconda3/envs/mlenv/lib/python3.7/site-packages/sklearn/metrics/_classification.py:1245: UndefinedMetricWarning: Precision and F-score are ill-defined and being set to 0.0 in labels with no predicted samples. Use `zero_division` parameter to control this behavior.\n",
      "  _warn_prf(average, modifier, msg_start, len(result))\n",
      "/Users/Admin/opt/anaconda3/envs/mlenv/lib/python3.7/site-packages/sklearn/metrics/_classification.py:1245: UndefinedMetricWarning: Precision and F-score are ill-defined and being set to 0.0 in labels with no predicted samples. Use `zero_division` parameter to control this behavior.\n",
      "  _warn_prf(average, modifier, msg_start, len(result))\n",
      "/Users/Admin/opt/anaconda3/envs/mlenv/lib/python3.7/site-packages/sklearn/metrics/_classification.py:1245: UndefinedMetricWarning: Precision and F-score are ill-defined and being set to 0.0 in labels with no predicted samples. Use `zero_division` parameter to control this behavior.\n",
      "  _warn_prf(average, modifier, msg_start, len(result))\n"
     ]
    }
   ],
   "source": [
    "# Displaying results\n",
    "print(\"Confusion Matrix\")\n",
    "display(cm_RandomForest_df)\n",
    "print(f\"Accuracy Score : {acc_score}\")\n",
    "print(\"Classification Report\")\n",
    "print(classification_report(y_test, y_pred))"
   ]
  },
  {
   "cell_type": "markdown",
   "metadata": {},
   "source": [
    "# Attempt 8: Gradient Boosting"
   ]
  },
  {
   "cell_type": "code",
   "execution_count": 85,
   "metadata": {},
   "outputs": [],
   "source": [
    "from sklearn.ensemble import GradientBoostingClassifier\n",
    "from sklearn.metrics import mean_squared_error"
   ]
  },
  {
   "cell_type": "code",
   "execution_count": 86,
   "metadata": {},
   "outputs": [
    {
     "name": "stdout",
     "output_type": "stream",
     "text": [
      "Learning rate:  0.05\n",
      "Accuracy score (training): 0.932\n",
      "Accuracy score (validation): 0.931\n",
      "\n",
      "Learning rate:  0.1\n",
      "Accuracy score (training): 0.932\n",
      "Accuracy score (validation): 0.931\n",
      "\n",
      "Learning rate:  0.25\n",
      "Accuracy score (training): 0.934\n",
      "Accuracy score (validation): 0.929\n",
      "\n",
      "Learning rate:  0.5\n",
      "Accuracy score (training): 0.934\n",
      "Accuracy score (validation): 0.927\n",
      "\n",
      "Learning rate:  0.75\n",
      "Accuracy score (training): 0.935\n",
      "Accuracy score (validation): 0.919\n",
      "\n",
      "Learning rate:  1\n",
      "Accuracy score (training): 0.938\n",
      "Accuracy score (validation): 0.919\n",
      "\n"
     ]
    }
   ],
   "source": [
    "# Choose the best learning rate\n",
    "\n",
    "learning_rates = [0.05, 0.1, 0.25, 0.5, 0.75, 1]\n",
    "for learning_rate in learning_rates:\n",
    "    classifier = GradientBoostingClassifier(n_estimators=20,\n",
    "                                            learning_rate=learning_rate,\n",
    "                                            max_features=5,\n",
    "                                            max_depth=3,\n",
    "                                            random_state=0)\n",
    "\n",
    "    # Fit the model\n",
    "    classifier.fit(X_train_scaled, y_train)\n",
    "    print(\"Learning rate: \", learning_rate)\n",
    "\n",
    "    # Score the model\n",
    "    print(\"Accuracy score (training): {0:.3f}\".format(\n",
    "        classifier.score(\n",
    "            X_train_scaled,\n",
    "            y_train)))\n",
    "    print(\"Accuracy score (validation): {0:.3f}\".format(\n",
    "        classifier.score(\n",
    "            X_test_scaled,\n",
    "            y_test)))\n",
    "    print()"
   ]
  },
  {
   "cell_type": "code",
   "execution_count": 87,
   "metadata": {},
   "outputs": [
    {
     "data": {
      "text/html": [
       "<div>\n",
       "<style scoped>\n",
       "    .dataframe tbody tr th:only-of-type {\n",
       "        vertical-align: middle;\n",
       "    }\n",
       "\n",
       "    .dataframe tbody tr th {\n",
       "        vertical-align: top;\n",
       "    }\n",
       "\n",
       "    .dataframe thead th {\n",
       "        text-align: right;\n",
       "    }\n",
       "</style>\n",
       "<table border=\"1\" class=\"dataframe\">\n",
       "  <thead>\n",
       "    <tr style=\"text-align: right;\">\n",
       "      <th></th>\n",
       "      <th>Prediction</th>\n",
       "      <th>Actual</th>\n",
       "    </tr>\n",
       "    <tr>\n",
       "      <th>PARCEL</th>\n",
       "      <th></th>\n",
       "      <th></th>\n",
       "    </tr>\n",
       "  </thead>\n",
       "  <tbody>\n",
       "    <tr>\n",
       "      <th>5510014010</th>\n",
       "      <td>0</td>\n",
       "      <td>0</td>\n",
       "    </tr>\n",
       "    <tr>\n",
       "      <th>5085033013</th>\n",
       "      <td>0</td>\n",
       "      <td>1</td>\n",
       "    </tr>\n",
       "    <tr>\n",
       "      <th>5510003010</th>\n",
       "      <td>0</td>\n",
       "      <td>0</td>\n",
       "    </tr>\n",
       "    <tr>\n",
       "      <th>5511041013</th>\n",
       "      <td>0</td>\n",
       "      <td>0</td>\n",
       "    </tr>\n",
       "    <tr>\n",
       "      <th>5526019013</th>\n",
       "      <td>0</td>\n",
       "      <td>0</td>\n",
       "    </tr>\n",
       "    <tr>\n",
       "      <th>5510007013</th>\n",
       "      <td>0</td>\n",
       "      <td>0</td>\n",
       "    </tr>\n",
       "    <tr>\n",
       "      <th>5526028001</th>\n",
       "      <td>0</td>\n",
       "      <td>0</td>\n",
       "    </tr>\n",
       "    <tr>\n",
       "      <th>5525027015</th>\n",
       "      <td>0</td>\n",
       "      <td>0</td>\n",
       "    </tr>\n",
       "    <tr>\n",
       "      <th>5514003045</th>\n",
       "      <td>0</td>\n",
       "      <td>0</td>\n",
       "    </tr>\n",
       "    <tr>\n",
       "      <th>5511042016</th>\n",
       "      <td>0</td>\n",
       "      <td>0</td>\n",
       "    </tr>\n",
       "    <tr>\n",
       "      <th>5526026024</th>\n",
       "      <td>0</td>\n",
       "      <td>0</td>\n",
       "    </tr>\n",
       "    <tr>\n",
       "      <th>5511042018</th>\n",
       "      <td>0</td>\n",
       "      <td>0</td>\n",
       "    </tr>\n",
       "    <tr>\n",
       "      <th>5085019025</th>\n",
       "      <td>0</td>\n",
       "      <td>0</td>\n",
       "    </tr>\n",
       "    <tr>\n",
       "      <th>5512006009</th>\n",
       "      <td>0</td>\n",
       "      <td>0</td>\n",
       "    </tr>\n",
       "    <tr>\n",
       "      <th>5512024004</th>\n",
       "      <td>0</td>\n",
       "      <td>0</td>\n",
       "    </tr>\n",
       "    <tr>\n",
       "      <th>5510010018</th>\n",
       "      <td>0</td>\n",
       "      <td>0</td>\n",
       "    </tr>\n",
       "    <tr>\n",
       "      <th>5086015018</th>\n",
       "      <td>0</td>\n",
       "      <td>0</td>\n",
       "    </tr>\n",
       "    <tr>\n",
       "      <th>5526015015</th>\n",
       "      <td>0</td>\n",
       "      <td>1</td>\n",
       "    </tr>\n",
       "    <tr>\n",
       "      <th>5511034014</th>\n",
       "      <td>0</td>\n",
       "      <td>0</td>\n",
       "    </tr>\n",
       "    <tr>\n",
       "      <th>5086023022</th>\n",
       "      <td>0</td>\n",
       "      <td>0</td>\n",
       "    </tr>\n",
       "  </tbody>\n",
       "</table>\n",
       "</div>"
      ],
      "text/plain": [
       "            Prediction  Actual\n",
       "PARCEL                        \n",
       "5510014010           0       0\n",
       "5085033013           0       1\n",
       "5510003010           0       0\n",
       "5511041013           0       0\n",
       "5526019013           0       0\n",
       "5510007013           0       0\n",
       "5526028001           0       0\n",
       "5525027015           0       0\n",
       "5514003045           0       0\n",
       "5511042016           0       0\n",
       "5526026024           0       0\n",
       "5511042018           0       0\n",
       "5085019025           0       0\n",
       "5512006009           0       0\n",
       "5512024004           0       0\n",
       "5510010018           0       0\n",
       "5086015018           0       0\n",
       "5526015015           0       1\n",
       "5511034014           0       0\n",
       "5086023022           0       0"
      ]
     },
     "execution_count": 87,
     "metadata": {},
     "output_type": "execute_result"
    }
   ],
   "source": [
    "# Looks like a learning rate of 0.25 has the best results. \n",
    "\n",
    "classifier = GradientBoostingClassifier(n_estimators=20,\n",
    "                                        learning_rate=0.5,\n",
    "                                        max_features=5,\n",
    "                                        max_depth=3,\n",
    "                                        random_state=0)\n",
    "\n",
    "# Fit the model\n",
    "classifier.fit(X_train_scaled, y_train)\n",
    "\n",
    "# Make Prediction\n",
    "predictions = classifier.predict(X_test_scaled)\n",
    "pd.DataFrame({\"Prediction\": predictions, \"Actual\": y_test}).sample(20)"
   ]
  },
  {
   "cell_type": "code",
   "execution_count": 88,
   "metadata": {},
   "outputs": [
    {
     "name": "stdout",
     "output_type": "stream",
     "text": [
      "Accuracy Score : 0.9269328802039083\n"
     ]
    }
   ],
   "source": [
    "# Evaluate the model\n",
    "\n",
    "from sklearn.metrics import confusion_matrix\n",
    "from sklearn.metrics import accuracy_score\n",
    "from sklearn.metrics import classification_report\n",
    "# Calculating the accuracy score\n",
    "acc_score = accuracy_score(y_test, predictions)\n",
    "print(f\"Accuracy Score : {acc_score}\")"
   ]
  },
  {
   "cell_type": "code",
   "execution_count": 89,
   "metadata": {},
   "outputs": [
    {
     "data": {
      "text/plain": [
       "0.4977189781021898"
      ]
     },
     "execution_count": 89,
     "metadata": {},
     "output_type": "execute_result"
    }
   ],
   "source": [
    "balanced_accuracy_score(y_test, predictions)"
   ]
  },
  {
   "cell_type": "code",
   "execution_count": 90,
   "metadata": {},
   "outputs": [
    {
     "data": {
      "text/plain": [
       "0.8958716373046591"
      ]
     },
     "execution_count": 90,
     "metadata": {},
     "output_type": "execute_result"
    }
   ],
   "source": [
    "# generate the F1 score\n",
    "f1_score(y_test, predictions, average=\"weighted\")"
   ]
  },
  {
   "cell_type": "code",
   "execution_count": 91,
   "metadata": {},
   "outputs": [
    {
     "data": {
      "text/html": [
       "<div>\n",
       "<style scoped>\n",
       "    .dataframe tbody tr th:only-of-type {\n",
       "        vertical-align: middle;\n",
       "    }\n",
       "\n",
       "    .dataframe tbody tr th {\n",
       "        vertical-align: top;\n",
       "    }\n",
       "\n",
       "    .dataframe thead th {\n",
       "        text-align: right;\n",
       "    }\n",
       "</style>\n",
       "<table border=\"1\" class=\"dataframe\">\n",
       "  <thead>\n",
       "    <tr style=\"text-align: right;\">\n",
       "      <th></th>\n",
       "      <th>Predicted 0</th>\n",
       "      <th>Predicted 1</th>\n",
       "    </tr>\n",
       "  </thead>\n",
       "  <tbody>\n",
       "    <tr>\n",
       "      <th>Actual 0</th>\n",
       "      <td>1091</td>\n",
       "      <td>5</td>\n",
       "    </tr>\n",
       "    <tr>\n",
       "      <th>Actual 1</th>\n",
       "      <td>81</td>\n",
       "      <td>0</td>\n",
       "    </tr>\n",
       "  </tbody>\n",
       "</table>\n",
       "</div>"
      ],
      "text/plain": [
       "          Predicted 0  Predicted 1\n",
       "Actual 0         1091            5\n",
       "Actual 1           81            0"
      ]
     },
     "metadata": {},
     "output_type": "display_data"
    }
   ],
   "source": [
    "# Generate the confusion matrix\n",
    "cm = confusion_matrix(y_test, predictions)\n",
    "cm_df = pd.DataFrame(\n",
    "    cm, index=[\"Actual 0\", \"Actual 1\"],\n",
    "    columns=[\"Predicted 0\", \"Predicted 1\"]\n",
    ")\n",
    "\n",
    "# Displaying results\n",
    "display(cm_df)"
   ]
  },
  {
   "cell_type": "markdown",
   "metadata": {},
   "source": [
    "# Attempt 9: Adaptive Boosting"
   ]
  },
  {
   "cell_type": "code",
   "execution_count": 92,
   "metadata": {},
   "outputs": [],
   "source": [
    "from sklearn.ensemble import AdaBoostClassifier\n",
    "from sklearn.tree import DecisionTreeClassifier"
   ]
  },
  {
   "cell_type": "code",
   "execution_count": 93,
   "metadata": {},
   "outputs": [
    {
     "data": {
      "text/plain": [
       "AdaBoostClassifier(base_estimator=DecisionTreeClassifier(max_depth=2),\n",
       "                   learning_rate=0.5, n_estimators=200)"
      ]
     },
     "execution_count": 93,
     "metadata": {},
     "output_type": "execute_result"
    }
   ],
   "source": [
    "# lets use the training data from the reduced dataframe (the one with fewer columns)\n",
    "\n",
    "ada_clf = AdaBoostClassifier(\n",
    "    DecisionTreeClassifier(max_depth=2), n_estimators=200,\n",
    "    algorithm='SAMME.R', learning_rate=0.5)\n",
    "\n",
    "# fit our model to our scaled data\n",
    "ada_clf.fit(X_train_2_scaled, y_train_2)"
   ]
  },
  {
   "cell_type": "code",
   "execution_count": 94,
   "metadata": {},
   "outputs": [],
   "source": [
    "# Evaluate the model\n",
    "y_pred_3 = ada_clf.predict(X_test_2_scaled)"
   ]
  },
  {
   "cell_type": "code",
   "execution_count": 95,
   "metadata": {},
   "outputs": [
    {
     "name": "stdout",
     "output_type": "stream",
     "text": [
      " Adaptive Boosting predictive accuracy: 0.912\n"
     ]
    }
   ],
   "source": [
    "# Remember, the accuracy_score function requires 2 arguments, the test and the pred\n",
    "print(f\" Adaptive Boosting predictive accuracy: {accuracy_score(y_test_2, y_pred_3):.3f}\")"
   ]
  },
  {
   "cell_type": "code",
   "execution_count": 96,
   "metadata": {},
   "outputs": [
    {
     "data": {
      "text/plain": [
       "0.5013967739028566"
      ]
     },
     "execution_count": 96,
     "metadata": {},
     "output_type": "execute_result"
    }
   ],
   "source": [
    "balanced_accuracy_score(y_test_2, y_pred_3)"
   ]
  },
  {
   "cell_type": "code",
   "execution_count": 97,
   "metadata": {},
   "outputs": [
    {
     "data": {
      "text/plain": [
       "0.8910693347762086"
      ]
     },
     "execution_count": 97,
     "metadata": {},
     "output_type": "execute_result"
    }
   ],
   "source": [
    "f1_score(y_test_2, y_pred_3, average=\"weighted\")"
   ]
  },
  {
   "cell_type": "code",
   "execution_count": 98,
   "metadata": {},
   "outputs": [],
   "source": [
    "cm_AdaBoost = confusion_matrix(y_test_2, y_pred_3)\n",
    "cm_AdaBoost_df = pd.DataFrame(\n",
    "    cm_AdaBoost, index=[\"Actual 0\", \"Actual 1\"], columns=[\"Predicted 0\", \"Predicted 1\"]\n",
    ")"
   ]
  },
  {
   "cell_type": "code",
   "execution_count": 99,
   "metadata": {},
   "outputs": [
    {
     "name": "stdout",
     "output_type": "stream",
     "text": [
      "Confusion Matrix\n"
     ]
    },
    {
     "data": {
      "text/html": [
       "<div>\n",
       "<style scoped>\n",
       "    .dataframe tbody tr th:only-of-type {\n",
       "        vertical-align: middle;\n",
       "    }\n",
       "\n",
       "    .dataframe tbody tr th {\n",
       "        vertical-align: top;\n",
       "    }\n",
       "\n",
       "    .dataframe thead th {\n",
       "        text-align: right;\n",
       "    }\n",
       "</style>\n",
       "<table border=\"1\" class=\"dataframe\">\n",
       "  <thead>\n",
       "    <tr style=\"text-align: right;\">\n",
       "      <th></th>\n",
       "      <th>Predicted 0</th>\n",
       "      <th>Predicted 1</th>\n",
       "    </tr>\n",
       "  </thead>\n",
       "  <tbody>\n",
       "    <tr>\n",
       "      <th>Actual 0</th>\n",
       "      <td>1072</td>\n",
       "      <td>24</td>\n",
       "    </tr>\n",
       "    <tr>\n",
       "      <th>Actual 1</th>\n",
       "      <td>79</td>\n",
       "      <td>2</td>\n",
       "    </tr>\n",
       "  </tbody>\n",
       "</table>\n",
       "</div>"
      ],
      "text/plain": [
       "          Predicted 0  Predicted 1\n",
       "Actual 0         1072           24\n",
       "Actual 1           79            2"
      ]
     },
     "metadata": {},
     "output_type": "display_data"
    },
    {
     "name": "stdout",
     "output_type": "stream",
     "text": [
      "Accuracy Score : 0.9269328802039083\n",
      "Classification Report\n",
      "              precision    recall  f1-score   support\n",
      "\n",
      "           0       0.93      0.98      0.95      1096\n",
      "           1       0.08      0.02      0.04        81\n",
      "\n",
      "    accuracy                           0.91      1177\n",
      "   macro avg       0.50      0.50      0.50      1177\n",
      "weighted avg       0.87      0.91      0.89      1177\n",
      "\n"
     ]
    }
   ],
   "source": [
    "# Displaying results\n",
    "print(\"Confusion Matrix\")\n",
    "display(cm_AdaBoost_df)\n",
    "print(f\"Accuracy Score : {acc_score}\")\n",
    "print(\"Classification Report\")\n",
    "print(classification_report(y_test_2, y_pred_3))"
   ]
  },
  {
   "cell_type": "markdown",
   "metadata": {},
   "source": [
    "# Attempt 10: Use K-Folds & Then Logistic Regression"
   ]
  },
  {
   "cell_type": "code",
   "execution_count": 100,
   "metadata": {},
   "outputs": [],
   "source": [
    "# partition our data into training and holdout sets\n",
    "from sklearn.model_selection import train_test_split, KFold\n",
    "from sklearn.ensemble import RandomForestClassifier\n",
    "from sklearn.metrics import max_error\n",
    "\n",
    "#X_train_KFolds, X_holdout_KFolds, y_train_KFolds, y_holdout_KFolds = train_test_split(X, y, stratify=y, random_state=78, shuffle=True)"
   ]
  },
  {
   "cell_type": "code",
   "execution_count": 101,
   "metadata": {},
   "outputs": [],
   "source": [
    "# from sklearn.model_selection import KFold\n",
    "\n",
    "# for train_index, test_index in KFold(n_splits=5).split(X_train_KFolds):\n",
    "#     X_data = X_train_KFolds.iloc[train_index]\n",
    "#     y_data = y_train_KFolds.iloc[train_index]"
   ]
  },
  {
   "cell_type": "code",
   "execution_count": 103,
   "metadata": {},
   "outputs": [
    {
     "data": {
      "text/plain": [
       "1.0"
      ]
     },
     "execution_count": 103,
     "metadata": {},
     "output_type": "execute_result"
    }
   ],
   "source": [
    "max_err = 0\n",
    "\n",
    "for train_index, test_index in KFold(n_splits = 5).split(X):\n",
    "\n",
    "    model = RandomForestClassifier(\n",
    "        # our hyperparameters, except n_jobs\n",
    "        # n_jobs = -1,\n",
    "        n_estimators = 300,\n",
    "        max_depth = 5,\n",
    "        max_features = 'sqrt'\n",
    "    )\n",
    "    \n",
    "    model.fit(X.iloc[train_index], y.iloc[train_index])\n",
    "    y_pred_KFolds = model.predict(X.iloc[test_index])\n",
    "    max_err += max_error(y_pred_KFolds, y.iloc[test_index])\n",
    "    \n",
    "max_err / 5"
   ]
  },
  {
   "cell_type": "code",
   "execution_count": 106,
   "metadata": {},
   "outputs": [
    {
     "data": {
      "text/plain": [
       "0.9315621679064825"
      ]
     },
     "execution_count": 106,
     "metadata": {},
     "output_type": "execute_result"
    }
   ],
   "source": [
    "model.score(X, y)"
   ]
  },
  {
   "cell_type": "code",
   "execution_count": 107,
   "metadata": {},
   "outputs": [
    {
     "data": {
      "text/plain": [
       "941"
      ]
     },
     "execution_count": 107,
     "metadata": {},
     "output_type": "execute_result"
    }
   ],
   "source": [
    "len(test_index)"
   ]
  },
  {
   "cell_type": "code",
   "execution_count": 109,
   "metadata": {},
   "outputs": [
    {
     "data": {
      "text/plain": [
       "0.9298618490967057"
      ]
     },
     "execution_count": 109,
     "metadata": {},
     "output_type": "execute_result"
    }
   ],
   "source": [
    "accuracy_score(y.iloc[test_index], y_pred_KFolds)"
   ]
  },
  {
   "cell_type": "code",
   "execution_count": 110,
   "metadata": {},
   "outputs": [
    {
     "name": "stdout",
     "output_type": "stream",
     "text": [
      "              precision    recall  f1-score   support\n",
      "\n",
      "           0       0.93      1.00      0.96       875\n",
      "           1       0.00      0.00      0.00        66\n",
      "\n",
      "    accuracy                           0.93       941\n",
      "   macro avg       0.46      0.50      0.48       941\n",
      "weighted avg       0.86      0.93      0.90       941\n",
      "\n"
     ]
    },
    {
     "name": "stderr",
     "output_type": "stream",
     "text": [
      "/Users/Admin/opt/anaconda3/envs/mlenv/lib/python3.7/site-packages/sklearn/metrics/_classification.py:1245: UndefinedMetricWarning: Precision and F-score are ill-defined and being set to 0.0 in labels with no predicted samples. Use `zero_division` parameter to control this behavior.\n",
      "  _warn_prf(average, modifier, msg_start, len(result))\n",
      "/Users/Admin/opt/anaconda3/envs/mlenv/lib/python3.7/site-packages/sklearn/metrics/_classification.py:1245: UndefinedMetricWarning: Precision and F-score are ill-defined and being set to 0.0 in labels with no predicted samples. Use `zero_division` parameter to control this behavior.\n",
      "  _warn_prf(average, modifier, msg_start, len(result))\n",
      "/Users/Admin/opt/anaconda3/envs/mlenv/lib/python3.7/site-packages/sklearn/metrics/_classification.py:1245: UndefinedMetricWarning: Precision and F-score are ill-defined and being set to 0.0 in labels with no predicted samples. Use `zero_division` parameter to control this behavior.\n",
      "  _warn_prf(average, modifier, msg_start, len(result))\n"
     ]
    }
   ],
   "source": [
    "from sklearn.metrics import classification_report\n",
    "print(classification_report(y.iloc[test_index], y_pred_KFolds))"
   ]
  },
  {
   "cell_type": "code",
   "execution_count": 105,
   "metadata": {},
   "outputs": [],
   "source": [
    "#print(f\" KFolds + Random Forest accuracy: {accuracy_score(y_holdout_KFolds, y_pred_KFolds):.3f}\")"
   ]
  },
  {
   "cell_type": "markdown",
   "metadata": {},
   "source": [
    "# Attempt 11: Use a Logistic Regression, but use unscaled data"
   ]
  },
  {
   "cell_type": "code",
   "execution_count": 106,
   "metadata": {},
   "outputs": [],
   "source": [
    "# Split our data into training and testing sets\n",
    "\n",
    "X_train, X_test, y_train, y_test = train_test_split(X, y, random_state=78, stratify=y)"
   ]
  },
  {
   "cell_type": "code",
   "execution_count": 107,
   "metadata": {},
   "outputs": [],
   "source": [
    "# Create the learning model\n",
    "\n",
    "classifier = LogisticRegression(solver='lbfgs',\n",
    "                                max_iter=300,\n",
    "                                random_state=78,\n",
    "                                class_weight=\"balanced\")"
   ]
  },
  {
   "cell_type": "code",
   "execution_count": 108,
   "metadata": {},
   "outputs": [
    {
     "data": {
      "text/plain": [
       "LogisticRegression(class_weight='balanced', max_iter=300, random_state=78)"
      ]
     },
     "execution_count": 108,
     "metadata": {},
     "output_type": "execute_result"
    }
   ],
   "source": [
    "# fit our learning model to our scaled training data\n",
    "\n",
    "classifier.fit(X_train, y_train)"
   ]
  },
  {
   "cell_type": "code",
   "execution_count": 109,
   "metadata": {},
   "outputs": [
    {
     "data": {
      "text/html": [
       "<div>\n",
       "<style scoped>\n",
       "    .dataframe tbody tr th:only-of-type {\n",
       "        vertical-align: middle;\n",
       "    }\n",
       "\n",
       "    .dataframe tbody tr th {\n",
       "        vertical-align: top;\n",
       "    }\n",
       "\n",
       "    .dataframe thead th {\n",
       "        text-align: right;\n",
       "    }\n",
       "</style>\n",
       "<table border=\"1\" class=\"dataframe\">\n",
       "  <thead>\n",
       "    <tr style=\"text-align: right;\">\n",
       "      <th></th>\n",
       "      <th>Prediction</th>\n",
       "      <th>Actual</th>\n",
       "      <th>PARCEL</th>\n",
       "    </tr>\n",
       "  </thead>\n",
       "  <tbody>\n",
       "    <tr>\n",
       "      <th>17</th>\n",
       "      <td>0</td>\n",
       "      <td>0</td>\n",
       "      <td>5085011011</td>\n",
       "    </tr>\n",
       "    <tr>\n",
       "      <th>484</th>\n",
       "      <td>1</td>\n",
       "      <td>0</td>\n",
       "      <td>5510003018</td>\n",
       "    </tr>\n",
       "    <tr>\n",
       "      <th>1103</th>\n",
       "      <td>1</td>\n",
       "      <td>0</td>\n",
       "      <td>5089017009</td>\n",
       "    </tr>\n",
       "    <tr>\n",
       "      <th>1116</th>\n",
       "      <td>0</td>\n",
       "      <td>0</td>\n",
       "      <td>5510007015</td>\n",
       "    </tr>\n",
       "    <tr>\n",
       "      <th>514</th>\n",
       "      <td>1</td>\n",
       "      <td>0</td>\n",
       "      <td>5085007013</td>\n",
       "    </tr>\n",
       "    <tr>\n",
       "      <th>456</th>\n",
       "      <td>0</td>\n",
       "      <td>1</td>\n",
       "      <td>5087024008</td>\n",
       "    </tr>\n",
       "    <tr>\n",
       "      <th>1106</th>\n",
       "      <td>0</td>\n",
       "      <td>0</td>\n",
       "      <td>5514005032</td>\n",
       "    </tr>\n",
       "    <tr>\n",
       "      <th>660</th>\n",
       "      <td>1</td>\n",
       "      <td>0</td>\n",
       "      <td>5089025011</td>\n",
       "    </tr>\n",
       "    <tr>\n",
       "      <th>432</th>\n",
       "      <td>0</td>\n",
       "      <td>0</td>\n",
       "      <td>5085031038</td>\n",
       "    </tr>\n",
       "    <tr>\n",
       "      <th>185</th>\n",
       "      <td>1</td>\n",
       "      <td>1</td>\n",
       "      <td>5508005013</td>\n",
       "    </tr>\n",
       "    <tr>\n",
       "      <th>879</th>\n",
       "      <td>0</td>\n",
       "      <td>0</td>\n",
       "      <td>4332020019</td>\n",
       "    </tr>\n",
       "    <tr>\n",
       "      <th>217</th>\n",
       "      <td>1</td>\n",
       "      <td>0</td>\n",
       "      <td>5089026003</td>\n",
       "    </tr>\n",
       "    <tr>\n",
       "      <th>672</th>\n",
       "      <td>0</td>\n",
       "      <td>0</td>\n",
       "      <td>5085018023</td>\n",
       "    </tr>\n",
       "    <tr>\n",
       "      <th>1051</th>\n",
       "      <td>1</td>\n",
       "      <td>0</td>\n",
       "      <td>5525024007</td>\n",
       "    </tr>\n",
       "    <tr>\n",
       "      <th>659</th>\n",
       "      <td>1</td>\n",
       "      <td>0</td>\n",
       "      <td>4305003025</td>\n",
       "    </tr>\n",
       "    <tr>\n",
       "      <th>1040</th>\n",
       "      <td>0</td>\n",
       "      <td>0</td>\n",
       "      <td>5089019016</td>\n",
       "    </tr>\n",
       "    <tr>\n",
       "      <th>459</th>\n",
       "      <td>0</td>\n",
       "      <td>0</td>\n",
       "      <td>5085017028</td>\n",
       "    </tr>\n",
       "    <tr>\n",
       "      <th>340</th>\n",
       "      <td>0</td>\n",
       "      <td>0</td>\n",
       "      <td>5514008018</td>\n",
       "    </tr>\n",
       "    <tr>\n",
       "      <th>745</th>\n",
       "      <td>0</td>\n",
       "      <td>0</td>\n",
       "      <td>5512013024</td>\n",
       "    </tr>\n",
       "    <tr>\n",
       "      <th>349</th>\n",
       "      <td>0</td>\n",
       "      <td>0</td>\n",
       "      <td>5511012013</td>\n",
       "    </tr>\n",
       "  </tbody>\n",
       "</table>\n",
       "</div>"
      ],
      "text/plain": [
       "      Prediction  Actual      PARCEL\n",
       "17             0       0  5085011011\n",
       "484            1       0  5510003018\n",
       "1103           1       0  5089017009\n",
       "1116           0       0  5510007015\n",
       "514            1       0  5085007013\n",
       "456            0       1  5087024008\n",
       "1106           0       0  5514005032\n",
       "660            1       0  5089025011\n",
       "432            0       0  5085031038\n",
       "185            1       1  5508005013\n",
       "879            0       0  4332020019\n",
       "217            1       0  5089026003\n",
       "672            0       0  5085018023\n",
       "1051           1       0  5525024007\n",
       "659            1       0  4305003025\n",
       "1040           0       0  5089019016\n",
       "459            0       0  5085017028\n",
       "340            0       0  5514008018\n",
       "745            0       0  5512013024\n",
       "349            0       0  5511012013"
      ]
     },
     "execution_count": 109,
     "metadata": {},
     "output_type": "execute_result"
    }
   ],
   "source": [
    "y_pred = classifier.predict(X_test)\n",
    "results = pd.DataFrame({\"Prediction\": y_pred, \"Actual\": y_test, \"PARCEL\": y_test.index.values}).reset_index(drop=True)\n",
    "results.sample(20)"
   ]
  },
  {
   "cell_type": "code",
   "execution_count": 110,
   "metadata": {},
   "outputs": [
    {
     "name": "stdout",
     "output_type": "stream",
     "text": [
      "0.5845369583687341\n"
     ]
    }
   ],
   "source": [
    "from sklearn.metrics import accuracy_score\n",
    "print(accuracy_score(y_test, y_pred))"
   ]
  },
  {
   "cell_type": "code",
   "execution_count": 111,
   "metadata": {},
   "outputs": [
    {
     "data": {
      "text/plain": [
       "0.5082342074434532"
      ]
     },
     "execution_count": 111,
     "metadata": {},
     "output_type": "execute_result"
    }
   ],
   "source": [
    "balanced_accuracy_score(y_test, y_pred)"
   ]
  },
  {
   "cell_type": "code",
   "execution_count": 112,
   "metadata": {},
   "outputs": [
    {
     "data": {
      "text/plain": [
       "0.686189422125401"
      ]
     },
     "execution_count": 112,
     "metadata": {},
     "output_type": "execute_result"
    }
   ],
   "source": [
    "from sklearn.metrics import f1_score\n",
    "f1_score(y_test, y_pred, average=\"weighted\")"
   ]
  },
  {
   "cell_type": "code",
   "execution_count": 113,
   "metadata": {},
   "outputs": [
    {
     "data": {
      "text/plain": [
       "array([[654, 442],\n",
       "       [ 47,  34]])"
      ]
     },
     "execution_count": 113,
     "metadata": {},
     "output_type": "execute_result"
    }
   ],
   "source": [
    "# See our results in a confusion matrix\n",
    "from sklearn.metrics import confusion_matrix\n",
    "confusion_matrix(y_test, y_pred)"
   ]
  },
  {
   "cell_type": "code",
   "execution_count": 114,
   "metadata": {},
   "outputs": [
    {
     "name": "stdout",
     "output_type": "stream",
     "text": [
      "              precision    recall  f1-score   support\n",
      "\n",
      "           0       0.93      0.60      0.73      1096\n",
      "           1       0.07      0.42      0.12        81\n",
      "\n",
      "    accuracy                           0.58      1177\n",
      "   macro avg       0.50      0.51      0.42      1177\n",
      "weighted avg       0.87      0.58      0.69      1177\n",
      "\n"
     ]
    }
   ],
   "source": [
    "# evaluate\n",
    "from sklearn.metrics import classification_report\n",
    "print(classification_report(y_test, y_pred))"
   ]
  },
  {
   "cell_type": "markdown",
   "metadata": {},
   "source": [
    "# Attempt 12: PCA + Logistic Regression"
   ]
  },
  {
   "cell_type": "code",
   "execution_count": 115,
   "metadata": {},
   "outputs": [
    {
     "data": {
      "text/html": [
       "<div>\n",
       "<style scoped>\n",
       "    .dataframe tbody tr th:only-of-type {\n",
       "        vertical-align: middle;\n",
       "    }\n",
       "\n",
       "    .dataframe tbody tr th {\n",
       "        vertical-align: top;\n",
       "    }\n",
       "\n",
       "    .dataframe thead th {\n",
       "        text-align: right;\n",
       "    }\n",
       "</style>\n",
       "<table border=\"1\" class=\"dataframe\">\n",
       "  <thead>\n",
       "    <tr style=\"text-align: right;\">\n",
       "      <th></th>\n",
       "      <th>Owned by Trust?</th>\n",
       "      <th>Owned by Business?</th>\n",
       "      <th>SITEADDRESS</th>\n",
       "      <th>MAIL DIFFERENT FROM SITE?</th>\n",
       "      <th>MAIL OUTSIDE CA?</th>\n",
       "      <th>TITLECO1</th>\n",
       "      <th>ASSDTOTAL</th>\n",
       "      <th>ASSDLAND</th>\n",
       "      <th>ASSDSTCT</th>\n",
       "      <th>ASSDOTHR</th>\n",
       "      <th>...</th>\n",
       "      <th>NAME CHANGE</th>\n",
       "      <th>Other</th>\n",
       "      <th>PARTNERSHIP</th>\n",
       "      <th>PERSONAL REP</th>\n",
       "      <th>QUIT CLAIM</th>\n",
       "      <th>RE-RECORD</th>\n",
       "      <th>TAX DEED</th>\n",
       "      <th>TRUST TRANSFER</th>\n",
       "      <th>TRUSTEES</th>\n",
       "      <th>WARRANTY</th>\n",
       "    </tr>\n",
       "    <tr>\n",
       "      <th>PARCEL</th>\n",
       "      <th></th>\n",
       "      <th></th>\n",
       "      <th></th>\n",
       "      <th></th>\n",
       "      <th></th>\n",
       "      <th></th>\n",
       "      <th></th>\n",
       "      <th></th>\n",
       "      <th></th>\n",
       "      <th></th>\n",
       "      <th></th>\n",
       "      <th></th>\n",
       "      <th></th>\n",
       "      <th></th>\n",
       "      <th></th>\n",
       "      <th></th>\n",
       "      <th></th>\n",
       "      <th></th>\n",
       "      <th></th>\n",
       "      <th></th>\n",
       "      <th></th>\n",
       "    </tr>\n",
       "  </thead>\n",
       "  <tbody>\n",
       "    <tr>\n",
       "      <th>5085010022</th>\n",
       "      <td>0</td>\n",
       "      <td>0</td>\n",
       "      <td>1030 S Dunsmuir Ave</td>\n",
       "      <td>0</td>\n",
       "      <td>0</td>\n",
       "      <td>1</td>\n",
       "      <td>1157385</td>\n",
       "      <td>925908</td>\n",
       "      <td>231477</td>\n",
       "      <td>0</td>\n",
       "      <td>...</td>\n",
       "      <td>0</td>\n",
       "      <td>0</td>\n",
       "      <td>0</td>\n",
       "      <td>0</td>\n",
       "      <td>0</td>\n",
       "      <td>0</td>\n",
       "      <td>0</td>\n",
       "      <td>0</td>\n",
       "      <td>0</td>\n",
       "      <td>0</td>\n",
       "    </tr>\n",
       "    <tr>\n",
       "      <th>5085033008</th>\n",
       "      <td>0</td>\n",
       "      <td>0</td>\n",
       "      <td>1364 S Ridgeley Dr</td>\n",
       "      <td>1</td>\n",
       "      <td>0</td>\n",
       "      <td>0</td>\n",
       "      <td>57047</td>\n",
       "      <td>40994</td>\n",
       "      <td>16053</td>\n",
       "      <td>0</td>\n",
       "      <td>...</td>\n",
       "      <td>0</td>\n",
       "      <td>0</td>\n",
       "      <td>0</td>\n",
       "      <td>0</td>\n",
       "      <td>0</td>\n",
       "      <td>0</td>\n",
       "      <td>0</td>\n",
       "      <td>0</td>\n",
       "      <td>0</td>\n",
       "      <td>0</td>\n",
       "    </tr>\n",
       "    <tr>\n",
       "      <th>5085032022</th>\n",
       "      <td>0</td>\n",
       "      <td>0</td>\n",
       "      <td>1322 Hauser Blvd</td>\n",
       "      <td>0</td>\n",
       "      <td>0</td>\n",
       "      <td>1</td>\n",
       "      <td>651485</td>\n",
       "      <td>521193</td>\n",
       "      <td>130292</td>\n",
       "      <td>0</td>\n",
       "      <td>...</td>\n",
       "      <td>0</td>\n",
       "      <td>0</td>\n",
       "      <td>0</td>\n",
       "      <td>0</td>\n",
       "      <td>0</td>\n",
       "      <td>0</td>\n",
       "      <td>0</td>\n",
       "      <td>0</td>\n",
       "      <td>0</td>\n",
       "      <td>0</td>\n",
       "    </tr>\n",
       "    <tr>\n",
       "      <th>5510005006</th>\n",
       "      <td>1</td>\n",
       "      <td>0</td>\n",
       "      <td>6727 Drexel Ave</td>\n",
       "      <td>1</td>\n",
       "      <td>0</td>\n",
       "      <td>0</td>\n",
       "      <td>85697</td>\n",
       "      <td>74539</td>\n",
       "      <td>11158</td>\n",
       "      <td>0</td>\n",
       "      <td>...</td>\n",
       "      <td>0</td>\n",
       "      <td>0</td>\n",
       "      <td>0</td>\n",
       "      <td>0</td>\n",
       "      <td>0</td>\n",
       "      <td>0</td>\n",
       "      <td>0</td>\n",
       "      <td>0</td>\n",
       "      <td>0</td>\n",
       "      <td>0</td>\n",
       "    </tr>\n",
       "    <tr>\n",
       "      <th>5089024002</th>\n",
       "      <td>0</td>\n",
       "      <td>0</td>\n",
       "      <td>942 S Cochran Ave</td>\n",
       "      <td>0</td>\n",
       "      <td>0</td>\n",
       "      <td>0</td>\n",
       "      <td>62487</td>\n",
       "      <td>42013</td>\n",
       "      <td>20474</td>\n",
       "      <td>0</td>\n",
       "      <td>...</td>\n",
       "      <td>0</td>\n",
       "      <td>0</td>\n",
       "      <td>0</td>\n",
       "      <td>0</td>\n",
       "      <td>0</td>\n",
       "      <td>0</td>\n",
       "      <td>0</td>\n",
       "      <td>0</td>\n",
       "      <td>0</td>\n",
       "      <td>0</td>\n",
       "    </tr>\n",
       "  </tbody>\n",
       "</table>\n",
       "<p>5 rows × 57 columns</p>\n",
       "</div>"
      ],
      "text/plain": [
       "            Owned by Trust?  Owned by Business?          SITEADDRESS  \\\n",
       "PARCEL                                                                 \n",
       "5085010022                0                   0  1030 S Dunsmuir Ave   \n",
       "5085033008                0                   0   1364 S Ridgeley Dr   \n",
       "5085032022                0                   0     1322 Hauser Blvd   \n",
       "5510005006                1                   0      6727 Drexel Ave   \n",
       "5089024002                0                   0    942 S Cochran Ave   \n",
       "\n",
       "            MAIL DIFFERENT FROM SITE?  MAIL OUTSIDE CA?  TITLECO1  ASSDTOTAL  \\\n",
       "PARCEL                                                                         \n",
       "5085010022                          0                 0         1    1157385   \n",
       "5085033008                          1                 0         0      57047   \n",
       "5085032022                          0                 0         1     651485   \n",
       "5510005006                          1                 0         0      85697   \n",
       "5089024002                          0                 0         0      62487   \n",
       "\n",
       "            ASSDLAND  ASSDSTCT  ASSDOTHR  ...  NAME CHANGE  Other  \\\n",
       "PARCEL                                    ...                       \n",
       "5085010022    925908    231477         0  ...            0      0   \n",
       "5085033008     40994     16053         0  ...            0      0   \n",
       "5085032022    521193    130292         0  ...            0      0   \n",
       "5510005006     74539     11158         0  ...            0      0   \n",
       "5089024002     42013     20474         0  ...            0      0   \n",
       "\n",
       "            PARTNERSHIP  PERSONAL REP  QUIT CLAIM  RE-RECORD  TAX DEED  \\\n",
       "PARCEL                                                                   \n",
       "5085010022            0             0           0          0         0   \n",
       "5085033008            0             0           0          0         0   \n",
       "5085032022            0             0           0          0         0   \n",
       "5510005006            0             0           0          0         0   \n",
       "5089024002            0             0           0          0         0   \n",
       "\n",
       "            TRUST TRANSFER  TRUSTEES  WARRANTY  \n",
       "PARCEL                                          \n",
       "5085010022               0         0         0  \n",
       "5085033008               0         0         0  \n",
       "5085032022               0         0         0  \n",
       "5510005006               0         0         0  \n",
       "5089024002               0         0         0  \n",
       "\n",
       "[5 rows x 57 columns]"
      ]
     },
     "execution_count": 115,
     "metadata": {},
     "output_type": "execute_result"
    }
   ],
   "source": [
    "# bring in our dataframe\n",
    "\n",
    "Beverly_Grove_df = pd.read_csv('Beverly_Grove_Cleaned.csv', index_col='PARCEL')\n",
    "Beverly_Grove_df.head()"
   ]
  },
  {
   "cell_type": "code",
   "execution_count": 116,
   "metadata": {},
   "outputs": [],
   "source": [
    "# drop any nulls\n",
    "\n",
    "Beverly_Grove_df = Beverly_Grove_df.dropna()"
   ]
  },
  {
   "cell_type": "code",
   "execution_count": 117,
   "metadata": {},
   "outputs": [],
   "source": [
    "Beverly_Grove_df['TAXAMT'] = Beverly_Grove_df['TAXAMT'].astype(int)\n",
    "Beverly_Grove_df['EFFYRBLT'] = Beverly_Grove_df['EFFYRBLT'].astype(int)"
   ]
  },
  {
   "cell_type": "code",
   "execution_count": 118,
   "metadata": {},
   "outputs": [
    {
     "data": {
      "text/html": [
       "<div>\n",
       "<style scoped>\n",
       "    .dataframe tbody tr th:only-of-type {\n",
       "        vertical-align: middle;\n",
       "    }\n",
       "\n",
       "    .dataframe tbody tr th {\n",
       "        vertical-align: top;\n",
       "    }\n",
       "\n",
       "    .dataframe thead th {\n",
       "        text-align: right;\n",
       "    }\n",
       "</style>\n",
       "<table border=\"1\" class=\"dataframe\">\n",
       "  <thead>\n",
       "    <tr style=\"text-align: right;\">\n",
       "      <th></th>\n",
       "      <th>Owned by Trust?</th>\n",
       "      <th>Owned by Business?</th>\n",
       "      <th>SITEADDRESS</th>\n",
       "      <th>MAIL DIFFERENT FROM SITE?</th>\n",
       "      <th>MAIL OUTSIDE CA?</th>\n",
       "      <th>TITLECO1</th>\n",
       "      <th>ASSDTOTAL</th>\n",
       "      <th>ASSDLAND</th>\n",
       "      <th>ASSDSTCT</th>\n",
       "      <th>ASSDOTHR</th>\n",
       "      <th>...</th>\n",
       "      <th>NAME CHANGE</th>\n",
       "      <th>Other</th>\n",
       "      <th>PARTNERSHIP</th>\n",
       "      <th>PERSONAL REP</th>\n",
       "      <th>QUIT CLAIM</th>\n",
       "      <th>RE-RECORD</th>\n",
       "      <th>TAX DEED</th>\n",
       "      <th>TRUST TRANSFER</th>\n",
       "      <th>TRUSTEES</th>\n",
       "      <th>WARRANTY</th>\n",
       "    </tr>\n",
       "    <tr>\n",
       "      <th>PARCEL</th>\n",
       "      <th></th>\n",
       "      <th></th>\n",
       "      <th></th>\n",
       "      <th></th>\n",
       "      <th></th>\n",
       "      <th></th>\n",
       "      <th></th>\n",
       "      <th></th>\n",
       "      <th></th>\n",
       "      <th></th>\n",
       "      <th></th>\n",
       "      <th></th>\n",
       "      <th></th>\n",
       "      <th></th>\n",
       "      <th></th>\n",
       "      <th></th>\n",
       "      <th></th>\n",
       "      <th></th>\n",
       "      <th></th>\n",
       "      <th></th>\n",
       "      <th></th>\n",
       "    </tr>\n",
       "  </thead>\n",
       "  <tbody>\n",
       "    <tr>\n",
       "      <th>5085010022</th>\n",
       "      <td>0</td>\n",
       "      <td>0</td>\n",
       "      <td>1030 S Dunsmuir Ave</td>\n",
       "      <td>0</td>\n",
       "      <td>0</td>\n",
       "      <td>1</td>\n",
       "      <td>1157385</td>\n",
       "      <td>925908</td>\n",
       "      <td>231477</td>\n",
       "      <td>0</td>\n",
       "      <td>...</td>\n",
       "      <td>0</td>\n",
       "      <td>0</td>\n",
       "      <td>0</td>\n",
       "      <td>0</td>\n",
       "      <td>0</td>\n",
       "      <td>0</td>\n",
       "      <td>0</td>\n",
       "      <td>0</td>\n",
       "      <td>0</td>\n",
       "      <td>0</td>\n",
       "    </tr>\n",
       "    <tr>\n",
       "      <th>5085033008</th>\n",
       "      <td>0</td>\n",
       "      <td>0</td>\n",
       "      <td>1364 S Ridgeley Dr</td>\n",
       "      <td>1</td>\n",
       "      <td>0</td>\n",
       "      <td>0</td>\n",
       "      <td>57047</td>\n",
       "      <td>40994</td>\n",
       "      <td>16053</td>\n",
       "      <td>0</td>\n",
       "      <td>...</td>\n",
       "      <td>0</td>\n",
       "      <td>0</td>\n",
       "      <td>0</td>\n",
       "      <td>0</td>\n",
       "      <td>0</td>\n",
       "      <td>0</td>\n",
       "      <td>0</td>\n",
       "      <td>0</td>\n",
       "      <td>0</td>\n",
       "      <td>0</td>\n",
       "    </tr>\n",
       "    <tr>\n",
       "      <th>5085032022</th>\n",
       "      <td>0</td>\n",
       "      <td>0</td>\n",
       "      <td>1322 Hauser Blvd</td>\n",
       "      <td>0</td>\n",
       "      <td>0</td>\n",
       "      <td>1</td>\n",
       "      <td>651485</td>\n",
       "      <td>521193</td>\n",
       "      <td>130292</td>\n",
       "      <td>0</td>\n",
       "      <td>...</td>\n",
       "      <td>0</td>\n",
       "      <td>0</td>\n",
       "      <td>0</td>\n",
       "      <td>0</td>\n",
       "      <td>0</td>\n",
       "      <td>0</td>\n",
       "      <td>0</td>\n",
       "      <td>0</td>\n",
       "      <td>0</td>\n",
       "      <td>0</td>\n",
       "    </tr>\n",
       "  </tbody>\n",
       "</table>\n",
       "<p>3 rows × 57 columns</p>\n",
       "</div>"
      ],
      "text/plain": [
       "            Owned by Trust?  Owned by Business?          SITEADDRESS  \\\n",
       "PARCEL                                                                 \n",
       "5085010022                0                   0  1030 S Dunsmuir Ave   \n",
       "5085033008                0                   0   1364 S Ridgeley Dr   \n",
       "5085032022                0                   0     1322 Hauser Blvd   \n",
       "\n",
       "            MAIL DIFFERENT FROM SITE?  MAIL OUTSIDE CA?  TITLECO1  ASSDTOTAL  \\\n",
       "PARCEL                                                                         \n",
       "5085010022                          0                 0         1    1157385   \n",
       "5085033008                          1                 0         0      57047   \n",
       "5085032022                          0                 0         1     651485   \n",
       "\n",
       "            ASSDLAND  ASSDSTCT  ASSDOTHR  ...  NAME CHANGE  Other  \\\n",
       "PARCEL                                    ...                       \n",
       "5085010022    925908    231477         0  ...            0      0   \n",
       "5085033008     40994     16053         0  ...            0      0   \n",
       "5085032022    521193    130292         0  ...            0      0   \n",
       "\n",
       "            PARTNERSHIP  PERSONAL REP  QUIT CLAIM  RE-RECORD  TAX DEED  \\\n",
       "PARCEL                                                                   \n",
       "5085010022            0             0           0          0         0   \n",
       "5085033008            0             0           0          0         0   \n",
       "5085032022            0             0           0          0         0   \n",
       "\n",
       "            TRUST TRANSFER  TRUSTEES  WARRANTY  \n",
       "PARCEL                                          \n",
       "5085010022               0         0         0  \n",
       "5085033008               0         0         0  \n",
       "5085032022               0         0         0  \n",
       "\n",
       "[3 rows x 57 columns]"
      ]
     },
     "execution_count": 118,
     "metadata": {},
     "output_type": "execute_result"
    }
   ],
   "source": [
    "# Make sure our dataframe is only SFR's so exclude every property that has an '#' in its site address\n",
    "\n",
    "Beverly_Grove_df = Beverly_Grove_df[~Beverly_Grove_df['SITEADDRESS'].str.contains('#')]\n",
    "Beverly_Grove_df.head(3)"
   ]
  },
  {
   "cell_type": "code",
   "execution_count": 119,
   "metadata": {},
   "outputs": [],
   "source": [
    "# Now drop the SiteAddress column\n",
    "Beverly_Grove_df.drop(['SITEADDRESS'], axis=1, inplace=True)"
   ]
  },
  {
   "cell_type": "code",
   "execution_count": 120,
   "metadata": {},
   "outputs": [
    {
     "data": {
      "text/html": [
       "<div>\n",
       "<style scoped>\n",
       "    .dataframe tbody tr th:only-of-type {\n",
       "        vertical-align: middle;\n",
       "    }\n",
       "\n",
       "    .dataframe tbody tr th {\n",
       "        vertical-align: top;\n",
       "    }\n",
       "\n",
       "    .dataframe thead th {\n",
       "        text-align: right;\n",
       "    }\n",
       "</style>\n",
       "<table border=\"1\" class=\"dataframe\">\n",
       "  <thead>\n",
       "    <tr style=\"text-align: right;\">\n",
       "      <th></th>\n",
       "      <th>Owned by Trust?</th>\n",
       "      <th>Owned by Business?</th>\n",
       "      <th>MAIL DIFFERENT FROM SITE?</th>\n",
       "      <th>MAIL OUTSIDE CA?</th>\n",
       "      <th>TITLECO1</th>\n",
       "      <th>ASSDTOTAL</th>\n",
       "      <th>ASSDLAND</th>\n",
       "      <th>ASSDSTCT</th>\n",
       "      <th>ASSDOTHR</th>\n",
       "      <th>EXEMPTCD</th>\n",
       "      <th>...</th>\n",
       "      <th>NAME CHANGE</th>\n",
       "      <th>Other</th>\n",
       "      <th>PARTNERSHIP</th>\n",
       "      <th>PERSONAL REP</th>\n",
       "      <th>QUIT CLAIM</th>\n",
       "      <th>RE-RECORD</th>\n",
       "      <th>TAX DEED</th>\n",
       "      <th>TRUST TRANSFER</th>\n",
       "      <th>TRUSTEES</th>\n",
       "      <th>WARRANTY</th>\n",
       "    </tr>\n",
       "    <tr>\n",
       "      <th>PARCEL</th>\n",
       "      <th></th>\n",
       "      <th></th>\n",
       "      <th></th>\n",
       "      <th></th>\n",
       "      <th></th>\n",
       "      <th></th>\n",
       "      <th></th>\n",
       "      <th></th>\n",
       "      <th></th>\n",
       "      <th></th>\n",
       "      <th></th>\n",
       "      <th></th>\n",
       "      <th></th>\n",
       "      <th></th>\n",
       "      <th></th>\n",
       "      <th></th>\n",
       "      <th></th>\n",
       "      <th></th>\n",
       "      <th></th>\n",
       "      <th></th>\n",
       "      <th></th>\n",
       "    </tr>\n",
       "  </thead>\n",
       "  <tbody>\n",
       "    <tr>\n",
       "      <th>5085010022</th>\n",
       "      <td>0</td>\n",
       "      <td>0</td>\n",
       "      <td>0</td>\n",
       "      <td>0</td>\n",
       "      <td>1</td>\n",
       "      <td>1157385</td>\n",
       "      <td>925908</td>\n",
       "      <td>231477</td>\n",
       "      <td>0</td>\n",
       "      <td>0</td>\n",
       "      <td>...</td>\n",
       "      <td>0</td>\n",
       "      <td>0</td>\n",
       "      <td>0</td>\n",
       "      <td>0</td>\n",
       "      <td>0</td>\n",
       "      <td>0</td>\n",
       "      <td>0</td>\n",
       "      <td>0</td>\n",
       "      <td>0</td>\n",
       "      <td>0</td>\n",
       "    </tr>\n",
       "    <tr>\n",
       "      <th>5085033008</th>\n",
       "      <td>0</td>\n",
       "      <td>0</td>\n",
       "      <td>1</td>\n",
       "      <td>0</td>\n",
       "      <td>0</td>\n",
       "      <td>57047</td>\n",
       "      <td>40994</td>\n",
       "      <td>16053</td>\n",
       "      <td>0</td>\n",
       "      <td>0</td>\n",
       "      <td>...</td>\n",
       "      <td>0</td>\n",
       "      <td>0</td>\n",
       "      <td>0</td>\n",
       "      <td>0</td>\n",
       "      <td>0</td>\n",
       "      <td>0</td>\n",
       "      <td>0</td>\n",
       "      <td>0</td>\n",
       "      <td>0</td>\n",
       "      <td>0</td>\n",
       "    </tr>\n",
       "    <tr>\n",
       "      <th>5085032022</th>\n",
       "      <td>0</td>\n",
       "      <td>0</td>\n",
       "      <td>0</td>\n",
       "      <td>0</td>\n",
       "      <td>1</td>\n",
       "      <td>651485</td>\n",
       "      <td>521193</td>\n",
       "      <td>130292</td>\n",
       "      <td>0</td>\n",
       "      <td>1</td>\n",
       "      <td>...</td>\n",
       "      <td>0</td>\n",
       "      <td>0</td>\n",
       "      <td>0</td>\n",
       "      <td>0</td>\n",
       "      <td>0</td>\n",
       "      <td>0</td>\n",
       "      <td>0</td>\n",
       "      <td>0</td>\n",
       "      <td>0</td>\n",
       "      <td>0</td>\n",
       "    </tr>\n",
       "  </tbody>\n",
       "</table>\n",
       "<p>3 rows × 56 columns</p>\n",
       "</div>"
      ],
      "text/plain": [
       "            Owned by Trust?  Owned by Business?  MAIL DIFFERENT FROM SITE?  \\\n",
       "PARCEL                                                                       \n",
       "5085010022                0                   0                          0   \n",
       "5085033008                0                   0                          1   \n",
       "5085032022                0                   0                          0   \n",
       "\n",
       "            MAIL OUTSIDE CA?  TITLECO1  ASSDTOTAL  ASSDLAND  ASSDSTCT  \\\n",
       "PARCEL                                                                  \n",
       "5085010022                 0         1    1157385    925908    231477   \n",
       "5085033008                 0         0      57047     40994     16053   \n",
       "5085032022                 0         1     651485    521193    130292   \n",
       "\n",
       "            ASSDOTHR  EXEMPTCD  ...  NAME CHANGE  Other  PARTNERSHIP  \\\n",
       "PARCEL                          ...                                    \n",
       "5085010022         0         0  ...            0      0            0   \n",
       "5085033008         0         0  ...            0      0            0   \n",
       "5085032022         0         1  ...            0      0            0   \n",
       "\n",
       "            PERSONAL REP  QUIT CLAIM  RE-RECORD  TAX DEED  TRUST TRANSFER  \\\n",
       "PARCEL                                                                      \n",
       "5085010022             0           0          0         0               0   \n",
       "5085033008             0           0          0         0               0   \n",
       "5085032022             0           0          0         0               0   \n",
       "\n",
       "            TRUSTEES  WARRANTY  \n",
       "PARCEL                          \n",
       "5085010022         0         0  \n",
       "5085033008         0         0  \n",
       "5085032022         0         0  \n",
       "\n",
       "[3 rows x 56 columns]"
      ]
     },
     "execution_count": 120,
     "metadata": {},
     "output_type": "execute_result"
    }
   ],
   "source": [
    "Beverly_Grove_df.head(3)"
   ]
  },
  {
   "cell_type": "code",
   "execution_count": 121,
   "metadata": {},
   "outputs": [],
   "source": [
    "# Step 1: Create our X and y\n",
    "\n",
    "y = Beverly_Grove_df['Did it sell?']\n",
    "X = Beverly_Grove_df.drop(['Did it sell?'], 1)"
   ]
  },
  {
   "cell_type": "code",
   "execution_count": 122,
   "metadata": {},
   "outputs": [
    {
     "data": {
      "text/plain": [
       "array([5085010022, 5085033008, 5085032022, ..., 5510018012, 5510017023,\n",
       "       5514001029])"
      ]
     },
     "execution_count": 122,
     "metadata": {},
     "output_type": "execute_result"
    }
   ],
   "source": [
    "APN = Beverly_Grove_df.index.values\n",
    "APN"
   ]
  },
  {
   "cell_type": "code",
   "execution_count": 123,
   "metadata": {},
   "outputs": [],
   "source": [
    "# Step 2: Use PCA to reduce dimension to three principal components.\n",
    "from sklearn.decomposition import PCA\n",
    "\n",
    "pca = PCA(n_components=3)\n",
    "X_pca = pca.fit_transform(X)"
   ]
  },
  {
   "cell_type": "code",
   "execution_count": 124,
   "metadata": {},
   "outputs": [
    {
     "data": {
      "text/plain": [
       "array([[ 1037442.40088322,   222949.0619781 ,    99008.44211246],\n",
       "       [ -932464.7141857 ,   251848.62995472,   -90439.60157539],\n",
       "       [ -393042.03210882,  -290764.40544306,   -27460.470998  ],\n",
       "       ...,\n",
       "       [ -314557.49024403,  -369458.72763661,   -27020.9155848 ],\n",
       "       [ 2038277.22062523,   419857.55993186, -1288530.60059949],\n",
       "       [ -962055.78924987,   281605.81570128,   -93574.2647082 ]])"
      ]
     },
     "execution_count": 124,
     "metadata": {},
     "output_type": "execute_result"
    }
   ],
   "source": [
    "X_pca"
   ]
  },
  {
   "cell_type": "code",
   "execution_count": 125,
   "metadata": {},
   "outputs": [],
   "source": [
    "# Step 3: Train, test, split\n",
    "\n",
    "X_train, X_test, y_train, y_test = train_test_split(X_pca, y, random_state=78, stratify=y)"
   ]
  },
  {
   "cell_type": "code",
   "execution_count": 126,
   "metadata": {},
   "outputs": [],
   "source": [
    "# Step 4: Scale our data\n",
    "\n",
    "# Create the StandardScaler instance\n",
    "scaler = StandardScaler()\n",
    "\n",
    "# Fit our scaler, named 'scaler' to our data, which produces a new StandardScaler object\n",
    "# which we call 'X_scaler'\n",
    "X_scaler = scaler.fit(X_train)\n",
    "\n",
    "# Scale the data\n",
    "X_train_scaled = X_scaler.transform(X_train)\n",
    "X_test_scaled = X_scaler.transform(X_test)"
   ]
  },
  {
   "cell_type": "code",
   "execution_count": 127,
   "metadata": {},
   "outputs": [],
   "source": [
    "X_train_scaled_APN = []"
   ]
  },
  {
   "cell_type": "code",
   "execution_count": 128,
   "metadata": {},
   "outputs": [],
   "source": [
    "# for index, parcel in enumerate(X_train.index.values):\n",
    "#      X_train_scaled_APN.append(np.insert(X_train_scaled[index], 0, [parcel]))"
   ]
  },
  {
   "cell_type": "code",
   "execution_count": 129,
   "metadata": {},
   "outputs": [
    {
     "name": "stdout",
     "output_type": "stream",
     "text": [
      " Logistic regression model accuracy: 0.613\n"
     ]
    }
   ],
   "source": [
    "# Step 5:Create the learning model\n",
    "\n",
    "log_classifier = LogisticRegression(solver='lbfgs',\n",
    "                                max_iter=300,\n",
    "                                random_state=78,\n",
    "                                class_weight=\"balanced\")\n",
    "\n",
    "# Train the model\n",
    "log_classifier.fit(X_train_scaled, y_train)\n",
    "\n",
    "# Evaluate the model\n",
    "y_pred = log_classifier.predict(X_test_scaled)\n",
    "\n",
    "print(f\" Logistic regression model accuracy: {accuracy_score(y_test,y_pred):.3f}\")"
   ]
  },
  {
   "cell_type": "code",
   "execution_count": 130,
   "metadata": {},
   "outputs": [
    {
     "data": {
      "text/html": [
       "<div>\n",
       "<style scoped>\n",
       "    .dataframe tbody tr th:only-of-type {\n",
       "        vertical-align: middle;\n",
       "    }\n",
       "\n",
       "    .dataframe tbody tr th {\n",
       "        vertical-align: top;\n",
       "    }\n",
       "\n",
       "    .dataframe thead th {\n",
       "        text-align: right;\n",
       "    }\n",
       "</style>\n",
       "<table border=\"1\" class=\"dataframe\">\n",
       "  <thead>\n",
       "    <tr style=\"text-align: right;\">\n",
       "      <th></th>\n",
       "      <th>Prediction</th>\n",
       "      <th>Actual</th>\n",
       "      <th>PARCEL</th>\n",
       "    </tr>\n",
       "  </thead>\n",
       "  <tbody>\n",
       "    <tr>\n",
       "      <th>527</th>\n",
       "      <td>0</td>\n",
       "      <td>0</td>\n",
       "      <td>5085008021</td>\n",
       "    </tr>\n",
       "    <tr>\n",
       "      <th>105</th>\n",
       "      <td>0</td>\n",
       "      <td>0</td>\n",
       "      <td>5512020025</td>\n",
       "    </tr>\n",
       "    <tr>\n",
       "      <th>509</th>\n",
       "      <td>0</td>\n",
       "      <td>0</td>\n",
       "      <td>5085025017</td>\n",
       "    </tr>\n",
       "    <tr>\n",
       "      <th>29</th>\n",
       "      <td>0</td>\n",
       "      <td>0</td>\n",
       "      <td>5086017013</td>\n",
       "    </tr>\n",
       "    <tr>\n",
       "      <th>823</th>\n",
       "      <td>0</td>\n",
       "      <td>0</td>\n",
       "      <td>5514003014</td>\n",
       "    </tr>\n",
       "    <tr>\n",
       "      <th>824</th>\n",
       "      <td>1</td>\n",
       "      <td>0</td>\n",
       "      <td>5526037020</td>\n",
       "    </tr>\n",
       "    <tr>\n",
       "      <th>130</th>\n",
       "      <td>0</td>\n",
       "      <td>0</td>\n",
       "      <td>5087019007</td>\n",
       "    </tr>\n",
       "    <tr>\n",
       "      <th>667</th>\n",
       "      <td>1</td>\n",
       "      <td>0</td>\n",
       "      <td>4335002005</td>\n",
       "    </tr>\n",
       "    <tr>\n",
       "      <th>865</th>\n",
       "      <td>1</td>\n",
       "      <td>0</td>\n",
       "      <td>5526017005</td>\n",
       "    </tr>\n",
       "    <tr>\n",
       "      <th>698</th>\n",
       "      <td>1</td>\n",
       "      <td>0</td>\n",
       "      <td>5512012007</td>\n",
       "    </tr>\n",
       "    <tr>\n",
       "      <th>883</th>\n",
       "      <td>1</td>\n",
       "      <td>0</td>\n",
       "      <td>5085008002</td>\n",
       "    </tr>\n",
       "    <tr>\n",
       "      <th>1117</th>\n",
       "      <td>0</td>\n",
       "      <td>0</td>\n",
       "      <td>5511005015</td>\n",
       "    </tr>\n",
       "    <tr>\n",
       "      <th>490</th>\n",
       "      <td>1</td>\n",
       "      <td>0</td>\n",
       "      <td>4335010014</td>\n",
       "    </tr>\n",
       "    <tr>\n",
       "      <th>602</th>\n",
       "      <td>0</td>\n",
       "      <td>1</td>\n",
       "      <td>5512014022</td>\n",
       "    </tr>\n",
       "    <tr>\n",
       "      <th>514</th>\n",
       "      <td>0</td>\n",
       "      <td>0</td>\n",
       "      <td>5085007013</td>\n",
       "    </tr>\n",
       "    <tr>\n",
       "      <th>599</th>\n",
       "      <td>0</td>\n",
       "      <td>0</td>\n",
       "      <td>5527032011</td>\n",
       "    </tr>\n",
       "    <tr>\n",
       "      <th>47</th>\n",
       "      <td>1</td>\n",
       "      <td>0</td>\n",
       "      <td>5512008026</td>\n",
       "    </tr>\n",
       "    <tr>\n",
       "      <th>956</th>\n",
       "      <td>0</td>\n",
       "      <td>0</td>\n",
       "      <td>5527024026</td>\n",
       "    </tr>\n",
       "    <tr>\n",
       "      <th>1139</th>\n",
       "      <td>1</td>\n",
       "      <td>0</td>\n",
       "      <td>5526019013</td>\n",
       "    </tr>\n",
       "    <tr>\n",
       "      <th>403</th>\n",
       "      <td>0</td>\n",
       "      <td>0</td>\n",
       "      <td>5087017012</td>\n",
       "    </tr>\n",
       "  </tbody>\n",
       "</table>\n",
       "</div>"
      ],
      "text/plain": [
       "      Prediction  Actual      PARCEL\n",
       "527            0       0  5085008021\n",
       "105            0       0  5512020025\n",
       "509            0       0  5085025017\n",
       "29             0       0  5086017013\n",
       "823            0       0  5514003014\n",
       "824            1       0  5526037020\n",
       "130            0       0  5087019007\n",
       "667            1       0  4335002005\n",
       "865            1       0  5526017005\n",
       "698            1       0  5512012007\n",
       "883            1       0  5085008002\n",
       "1117           0       0  5511005015\n",
       "490            1       0  4335010014\n",
       "602            0       1  5512014022\n",
       "514            0       0  5085007013\n",
       "599            0       0  5527032011\n",
       "47             1       0  5512008026\n",
       "956            0       0  5527024026\n",
       "1139           1       0  5526019013\n",
       "403            0       0  5087017012"
      ]
     },
     "execution_count": 130,
     "metadata": {},
     "output_type": "execute_result"
    }
   ],
   "source": [
    "results = pd.DataFrame({\"Prediction\": y_pred, \"Actual\": y_test, \"PARCEL\": y_test.index.values}).reset_index(drop=True)\n",
    "results.sample(20)"
   ]
  },
  {
   "cell_type": "code",
   "execution_count": 131,
   "metadata": {},
   "outputs": [
    {
     "data": {
      "text/plain": [
       "array([[693, 403],\n",
       "       [ 53,  28]])"
      ]
     },
     "execution_count": 131,
     "metadata": {},
     "output_type": "execute_result"
    }
   ],
   "source": [
    "from sklearn.metrics import confusion_matrix\n",
    "confusion_matrix(y_test, y_pred)"
   ]
  },
  {
   "cell_type": "code",
   "execution_count": 132,
   "metadata": {},
   "outputs": [
    {
     "data": {
      "text/plain": [
       "0.48898914120933584"
      ]
     },
     "execution_count": 132,
     "metadata": {},
     "output_type": "execute_result"
    }
   ],
   "source": [
    "balanced_accuracy_score(y_test, y_pred)"
   ]
  },
  {
   "cell_type": "code",
   "execution_count": 133,
   "metadata": {},
   "outputs": [
    {
     "data": {
      "text/plain": [
       "0.7081876800594455"
      ]
     },
     "execution_count": 133,
     "metadata": {},
     "output_type": "execute_result"
    }
   ],
   "source": [
    "from sklearn.metrics import f1_score\n",
    "f1_score(y_test, y_pred, average=\"weighted\")"
   ]
  },
  {
   "cell_type": "code",
   "execution_count": 134,
   "metadata": {},
   "outputs": [
    {
     "name": "stdout",
     "output_type": "stream",
     "text": [
      "              precision    recall  f1-score   support\n",
      "\n",
      "           0       0.93      0.63      0.75      1096\n",
      "           1       0.06      0.35      0.11        81\n",
      "\n",
      "    accuracy                           0.61      1177\n",
      "   macro avg       0.50      0.49      0.43      1177\n",
      "weighted avg       0.87      0.61      0.71      1177\n",
      "\n"
     ]
    }
   ],
   "source": [
    "# evaluate\n",
    "from sklearn.metrics import classification_report\n",
    "print(classification_report(y_test, y_pred))"
   ]
  },
  {
   "cell_type": "markdown",
   "metadata": {},
   "source": [
    "# Attempt 13: PCA + Oversampling (SMOTE) + LogisticRegression"
   ]
  },
  {
   "cell_type": "code",
   "execution_count": 135,
   "metadata": {},
   "outputs": [
    {
     "data": {
      "text/html": [
       "<div>\n",
       "<style scoped>\n",
       "    .dataframe tbody tr th:only-of-type {\n",
       "        vertical-align: middle;\n",
       "    }\n",
       "\n",
       "    .dataframe tbody tr th {\n",
       "        vertical-align: top;\n",
       "    }\n",
       "\n",
       "    .dataframe thead th {\n",
       "        text-align: right;\n",
       "    }\n",
       "</style>\n",
       "<table border=\"1\" class=\"dataframe\">\n",
       "  <thead>\n",
       "    <tr style=\"text-align: right;\">\n",
       "      <th></th>\n",
       "      <th>Owned by Trust?</th>\n",
       "      <th>Owned by Business?</th>\n",
       "      <th>SITEADDRESS</th>\n",
       "      <th>MAIL DIFFERENT FROM SITE?</th>\n",
       "      <th>MAIL OUTSIDE CA?</th>\n",
       "      <th>TITLECO1</th>\n",
       "      <th>ASSDTOTAL</th>\n",
       "      <th>ASSDLAND</th>\n",
       "      <th>ASSDSTCT</th>\n",
       "      <th>ASSDOTHR</th>\n",
       "      <th>...</th>\n",
       "      <th>NAME CHANGE</th>\n",
       "      <th>Other</th>\n",
       "      <th>PARTNERSHIP</th>\n",
       "      <th>PERSONAL REP</th>\n",
       "      <th>QUIT CLAIM</th>\n",
       "      <th>RE-RECORD</th>\n",
       "      <th>TAX DEED</th>\n",
       "      <th>TRUST TRANSFER</th>\n",
       "      <th>TRUSTEES</th>\n",
       "      <th>WARRANTY</th>\n",
       "    </tr>\n",
       "    <tr>\n",
       "      <th>PARCEL</th>\n",
       "      <th></th>\n",
       "      <th></th>\n",
       "      <th></th>\n",
       "      <th></th>\n",
       "      <th></th>\n",
       "      <th></th>\n",
       "      <th></th>\n",
       "      <th></th>\n",
       "      <th></th>\n",
       "      <th></th>\n",
       "      <th></th>\n",
       "      <th></th>\n",
       "      <th></th>\n",
       "      <th></th>\n",
       "      <th></th>\n",
       "      <th></th>\n",
       "      <th></th>\n",
       "      <th></th>\n",
       "      <th></th>\n",
       "      <th></th>\n",
       "      <th></th>\n",
       "    </tr>\n",
       "  </thead>\n",
       "  <tbody>\n",
       "    <tr>\n",
       "      <th>5085010022</th>\n",
       "      <td>0</td>\n",
       "      <td>0</td>\n",
       "      <td>1030 S Dunsmuir Ave</td>\n",
       "      <td>0</td>\n",
       "      <td>0</td>\n",
       "      <td>1</td>\n",
       "      <td>1157385</td>\n",
       "      <td>925908</td>\n",
       "      <td>231477</td>\n",
       "      <td>0</td>\n",
       "      <td>...</td>\n",
       "      <td>0</td>\n",
       "      <td>0</td>\n",
       "      <td>0</td>\n",
       "      <td>0</td>\n",
       "      <td>0</td>\n",
       "      <td>0</td>\n",
       "      <td>0</td>\n",
       "      <td>0</td>\n",
       "      <td>0</td>\n",
       "      <td>0</td>\n",
       "    </tr>\n",
       "    <tr>\n",
       "      <th>5085033008</th>\n",
       "      <td>0</td>\n",
       "      <td>0</td>\n",
       "      <td>1364 S Ridgeley Dr</td>\n",
       "      <td>1</td>\n",
       "      <td>0</td>\n",
       "      <td>0</td>\n",
       "      <td>57047</td>\n",
       "      <td>40994</td>\n",
       "      <td>16053</td>\n",
       "      <td>0</td>\n",
       "      <td>...</td>\n",
       "      <td>0</td>\n",
       "      <td>0</td>\n",
       "      <td>0</td>\n",
       "      <td>0</td>\n",
       "      <td>0</td>\n",
       "      <td>0</td>\n",
       "      <td>0</td>\n",
       "      <td>0</td>\n",
       "      <td>0</td>\n",
       "      <td>0</td>\n",
       "    </tr>\n",
       "    <tr>\n",
       "      <th>5085032022</th>\n",
       "      <td>0</td>\n",
       "      <td>0</td>\n",
       "      <td>1322 Hauser Blvd</td>\n",
       "      <td>0</td>\n",
       "      <td>0</td>\n",
       "      <td>1</td>\n",
       "      <td>651485</td>\n",
       "      <td>521193</td>\n",
       "      <td>130292</td>\n",
       "      <td>0</td>\n",
       "      <td>...</td>\n",
       "      <td>0</td>\n",
       "      <td>0</td>\n",
       "      <td>0</td>\n",
       "      <td>0</td>\n",
       "      <td>0</td>\n",
       "      <td>0</td>\n",
       "      <td>0</td>\n",
       "      <td>0</td>\n",
       "      <td>0</td>\n",
       "      <td>0</td>\n",
       "    </tr>\n",
       "    <tr>\n",
       "      <th>5510005006</th>\n",
       "      <td>1</td>\n",
       "      <td>0</td>\n",
       "      <td>6727 Drexel Ave</td>\n",
       "      <td>1</td>\n",
       "      <td>0</td>\n",
       "      <td>0</td>\n",
       "      <td>85697</td>\n",
       "      <td>74539</td>\n",
       "      <td>11158</td>\n",
       "      <td>0</td>\n",
       "      <td>...</td>\n",
       "      <td>0</td>\n",
       "      <td>0</td>\n",
       "      <td>0</td>\n",
       "      <td>0</td>\n",
       "      <td>0</td>\n",
       "      <td>0</td>\n",
       "      <td>0</td>\n",
       "      <td>0</td>\n",
       "      <td>0</td>\n",
       "      <td>0</td>\n",
       "    </tr>\n",
       "    <tr>\n",
       "      <th>5089024002</th>\n",
       "      <td>0</td>\n",
       "      <td>0</td>\n",
       "      <td>942 S Cochran Ave</td>\n",
       "      <td>0</td>\n",
       "      <td>0</td>\n",
       "      <td>0</td>\n",
       "      <td>62487</td>\n",
       "      <td>42013</td>\n",
       "      <td>20474</td>\n",
       "      <td>0</td>\n",
       "      <td>...</td>\n",
       "      <td>0</td>\n",
       "      <td>0</td>\n",
       "      <td>0</td>\n",
       "      <td>0</td>\n",
       "      <td>0</td>\n",
       "      <td>0</td>\n",
       "      <td>0</td>\n",
       "      <td>0</td>\n",
       "      <td>0</td>\n",
       "      <td>0</td>\n",
       "    </tr>\n",
       "  </tbody>\n",
       "</table>\n",
       "<p>5 rows × 57 columns</p>\n",
       "</div>"
      ],
      "text/plain": [
       "            Owned by Trust?  Owned by Business?          SITEADDRESS  \\\n",
       "PARCEL                                                                 \n",
       "5085010022                0                   0  1030 S Dunsmuir Ave   \n",
       "5085033008                0                   0   1364 S Ridgeley Dr   \n",
       "5085032022                0                   0     1322 Hauser Blvd   \n",
       "5510005006                1                   0      6727 Drexel Ave   \n",
       "5089024002                0                   0    942 S Cochran Ave   \n",
       "\n",
       "            MAIL DIFFERENT FROM SITE?  MAIL OUTSIDE CA?  TITLECO1  ASSDTOTAL  \\\n",
       "PARCEL                                                                         \n",
       "5085010022                          0                 0         1    1157385   \n",
       "5085033008                          1                 0         0      57047   \n",
       "5085032022                          0                 0         1     651485   \n",
       "5510005006                          1                 0         0      85697   \n",
       "5089024002                          0                 0         0      62487   \n",
       "\n",
       "            ASSDLAND  ASSDSTCT  ASSDOTHR  ...  NAME CHANGE  Other  \\\n",
       "PARCEL                                    ...                       \n",
       "5085010022    925908    231477         0  ...            0      0   \n",
       "5085033008     40994     16053         0  ...            0      0   \n",
       "5085032022    521193    130292         0  ...            0      0   \n",
       "5510005006     74539     11158         0  ...            0      0   \n",
       "5089024002     42013     20474         0  ...            0      0   \n",
       "\n",
       "            PARTNERSHIP  PERSONAL REP  QUIT CLAIM  RE-RECORD  TAX DEED  \\\n",
       "PARCEL                                                                   \n",
       "5085010022            0             0           0          0         0   \n",
       "5085033008            0             0           0          0         0   \n",
       "5085032022            0             0           0          0         0   \n",
       "5510005006            0             0           0          0         0   \n",
       "5089024002            0             0           0          0         0   \n",
       "\n",
       "            TRUST TRANSFER  TRUSTEES  WARRANTY  \n",
       "PARCEL                                          \n",
       "5085010022               0         0         0  \n",
       "5085033008               0         0         0  \n",
       "5085032022               0         0         0  \n",
       "5510005006               0         0         0  \n",
       "5089024002               0         0         0  \n",
       "\n",
       "[5 rows x 57 columns]"
      ]
     },
     "execution_count": 135,
     "metadata": {},
     "output_type": "execute_result"
    }
   ],
   "source": [
    "# bring in our dataframe\n",
    "\n",
    "Beverly_Grove_df = pd.read_csv('Beverly_Grove_Cleaned.csv', index_col='PARCEL')\n",
    "Beverly_Grove_df.head()"
   ]
  },
  {
   "cell_type": "code",
   "execution_count": 136,
   "metadata": {},
   "outputs": [],
   "source": [
    "# drop any nulls\n",
    "\n",
    "Beverly_Grove_df = Beverly_Grove_df.dropna()"
   ]
  },
  {
   "cell_type": "code",
   "execution_count": 137,
   "metadata": {},
   "outputs": [],
   "source": [
    "# Change the datatype of these two columns into ints\n",
    "\n",
    "Beverly_Grove_df['TAXAMT'] = Beverly_Grove_df['TAXAMT'].astype(int)\n",
    "Beverly_Grove_df['EFFYRBLT'] = Beverly_Grove_df['EFFYRBLT'].astype(int)"
   ]
  },
  {
   "cell_type": "code",
   "execution_count": 138,
   "metadata": {},
   "outputs": [
    {
     "data": {
      "text/html": [
       "<div>\n",
       "<style scoped>\n",
       "    .dataframe tbody tr th:only-of-type {\n",
       "        vertical-align: middle;\n",
       "    }\n",
       "\n",
       "    .dataframe tbody tr th {\n",
       "        vertical-align: top;\n",
       "    }\n",
       "\n",
       "    .dataframe thead th {\n",
       "        text-align: right;\n",
       "    }\n",
       "</style>\n",
       "<table border=\"1\" class=\"dataframe\">\n",
       "  <thead>\n",
       "    <tr style=\"text-align: right;\">\n",
       "      <th></th>\n",
       "      <th>Owned by Trust?</th>\n",
       "      <th>Owned by Business?</th>\n",
       "      <th>SITEADDRESS</th>\n",
       "      <th>MAIL DIFFERENT FROM SITE?</th>\n",
       "      <th>MAIL OUTSIDE CA?</th>\n",
       "      <th>TITLECO1</th>\n",
       "      <th>ASSDTOTAL</th>\n",
       "      <th>ASSDLAND</th>\n",
       "      <th>ASSDSTCT</th>\n",
       "      <th>ASSDOTHR</th>\n",
       "      <th>...</th>\n",
       "      <th>NAME CHANGE</th>\n",
       "      <th>Other</th>\n",
       "      <th>PARTNERSHIP</th>\n",
       "      <th>PERSONAL REP</th>\n",
       "      <th>QUIT CLAIM</th>\n",
       "      <th>RE-RECORD</th>\n",
       "      <th>TAX DEED</th>\n",
       "      <th>TRUST TRANSFER</th>\n",
       "      <th>TRUSTEES</th>\n",
       "      <th>WARRANTY</th>\n",
       "    </tr>\n",
       "    <tr>\n",
       "      <th>PARCEL</th>\n",
       "      <th></th>\n",
       "      <th></th>\n",
       "      <th></th>\n",
       "      <th></th>\n",
       "      <th></th>\n",
       "      <th></th>\n",
       "      <th></th>\n",
       "      <th></th>\n",
       "      <th></th>\n",
       "      <th></th>\n",
       "      <th></th>\n",
       "      <th></th>\n",
       "      <th></th>\n",
       "      <th></th>\n",
       "      <th></th>\n",
       "      <th></th>\n",
       "      <th></th>\n",
       "      <th></th>\n",
       "      <th></th>\n",
       "      <th></th>\n",
       "      <th></th>\n",
       "    </tr>\n",
       "  </thead>\n",
       "  <tbody>\n",
       "    <tr>\n",
       "      <th>5085010022</th>\n",
       "      <td>0</td>\n",
       "      <td>0</td>\n",
       "      <td>1030 S Dunsmuir Ave</td>\n",
       "      <td>0</td>\n",
       "      <td>0</td>\n",
       "      <td>1</td>\n",
       "      <td>1157385</td>\n",
       "      <td>925908</td>\n",
       "      <td>231477</td>\n",
       "      <td>0</td>\n",
       "      <td>...</td>\n",
       "      <td>0</td>\n",
       "      <td>0</td>\n",
       "      <td>0</td>\n",
       "      <td>0</td>\n",
       "      <td>0</td>\n",
       "      <td>0</td>\n",
       "      <td>0</td>\n",
       "      <td>0</td>\n",
       "      <td>0</td>\n",
       "      <td>0</td>\n",
       "    </tr>\n",
       "    <tr>\n",
       "      <th>5085033008</th>\n",
       "      <td>0</td>\n",
       "      <td>0</td>\n",
       "      <td>1364 S Ridgeley Dr</td>\n",
       "      <td>1</td>\n",
       "      <td>0</td>\n",
       "      <td>0</td>\n",
       "      <td>57047</td>\n",
       "      <td>40994</td>\n",
       "      <td>16053</td>\n",
       "      <td>0</td>\n",
       "      <td>...</td>\n",
       "      <td>0</td>\n",
       "      <td>0</td>\n",
       "      <td>0</td>\n",
       "      <td>0</td>\n",
       "      <td>0</td>\n",
       "      <td>0</td>\n",
       "      <td>0</td>\n",
       "      <td>0</td>\n",
       "      <td>0</td>\n",
       "      <td>0</td>\n",
       "    </tr>\n",
       "    <tr>\n",
       "      <th>5085032022</th>\n",
       "      <td>0</td>\n",
       "      <td>0</td>\n",
       "      <td>1322 Hauser Blvd</td>\n",
       "      <td>0</td>\n",
       "      <td>0</td>\n",
       "      <td>1</td>\n",
       "      <td>651485</td>\n",
       "      <td>521193</td>\n",
       "      <td>130292</td>\n",
       "      <td>0</td>\n",
       "      <td>...</td>\n",
       "      <td>0</td>\n",
       "      <td>0</td>\n",
       "      <td>0</td>\n",
       "      <td>0</td>\n",
       "      <td>0</td>\n",
       "      <td>0</td>\n",
       "      <td>0</td>\n",
       "      <td>0</td>\n",
       "      <td>0</td>\n",
       "      <td>0</td>\n",
       "    </tr>\n",
       "  </tbody>\n",
       "</table>\n",
       "<p>3 rows × 57 columns</p>\n",
       "</div>"
      ],
      "text/plain": [
       "            Owned by Trust?  Owned by Business?          SITEADDRESS  \\\n",
       "PARCEL                                                                 \n",
       "5085010022                0                   0  1030 S Dunsmuir Ave   \n",
       "5085033008                0                   0   1364 S Ridgeley Dr   \n",
       "5085032022                0                   0     1322 Hauser Blvd   \n",
       "\n",
       "            MAIL DIFFERENT FROM SITE?  MAIL OUTSIDE CA?  TITLECO1  ASSDTOTAL  \\\n",
       "PARCEL                                                                         \n",
       "5085010022                          0                 0         1    1157385   \n",
       "5085033008                          1                 0         0      57047   \n",
       "5085032022                          0                 0         1     651485   \n",
       "\n",
       "            ASSDLAND  ASSDSTCT  ASSDOTHR  ...  NAME CHANGE  Other  \\\n",
       "PARCEL                                    ...                       \n",
       "5085010022    925908    231477         0  ...            0      0   \n",
       "5085033008     40994     16053         0  ...            0      0   \n",
       "5085032022    521193    130292         0  ...            0      0   \n",
       "\n",
       "            PARTNERSHIP  PERSONAL REP  QUIT CLAIM  RE-RECORD  TAX DEED  \\\n",
       "PARCEL                                                                   \n",
       "5085010022            0             0           0          0         0   \n",
       "5085033008            0             0           0          0         0   \n",
       "5085032022            0             0           0          0         0   \n",
       "\n",
       "            TRUST TRANSFER  TRUSTEES  WARRANTY  \n",
       "PARCEL                                          \n",
       "5085010022               0         0         0  \n",
       "5085033008               0         0         0  \n",
       "5085032022               0         0         0  \n",
       "\n",
       "[3 rows x 57 columns]"
      ]
     },
     "execution_count": 138,
     "metadata": {},
     "output_type": "execute_result"
    }
   ],
   "source": [
    "# Make sure our dataframe is only SFR's so exclude every property that has an '#' in its site address\n",
    "\n",
    "Beverly_Grove_df = Beverly_Grove_df[~Beverly_Grove_df['SITEADDRESS'].str.contains('#')]\n",
    "Beverly_Grove_df.head(3)"
   ]
  },
  {
   "cell_type": "code",
   "execution_count": 139,
   "metadata": {},
   "outputs": [],
   "source": [
    "# Now drop the SiteAddress column\n",
    "Beverly_Grove_df.drop(['SITEADDRESS'], axis=1, inplace=True)"
   ]
  },
  {
   "cell_type": "code",
   "execution_count": 140,
   "metadata": {},
   "outputs": [
    {
     "data": {
      "text/html": [
       "<div>\n",
       "<style scoped>\n",
       "    .dataframe tbody tr th:only-of-type {\n",
       "        vertical-align: middle;\n",
       "    }\n",
       "\n",
       "    .dataframe tbody tr th {\n",
       "        vertical-align: top;\n",
       "    }\n",
       "\n",
       "    .dataframe thead th {\n",
       "        text-align: right;\n",
       "    }\n",
       "</style>\n",
       "<table border=\"1\" class=\"dataframe\">\n",
       "  <thead>\n",
       "    <tr style=\"text-align: right;\">\n",
       "      <th></th>\n",
       "      <th>Owned by Trust?</th>\n",
       "      <th>Owned by Business?</th>\n",
       "      <th>MAIL DIFFERENT FROM SITE?</th>\n",
       "      <th>MAIL OUTSIDE CA?</th>\n",
       "      <th>TITLECO1</th>\n",
       "      <th>ASSDTOTAL</th>\n",
       "      <th>ASSDLAND</th>\n",
       "      <th>ASSDSTCT</th>\n",
       "      <th>ASSDOTHR</th>\n",
       "      <th>EXEMPTCD</th>\n",
       "      <th>...</th>\n",
       "      <th>NAME CHANGE</th>\n",
       "      <th>Other</th>\n",
       "      <th>PARTNERSHIP</th>\n",
       "      <th>PERSONAL REP</th>\n",
       "      <th>QUIT CLAIM</th>\n",
       "      <th>RE-RECORD</th>\n",
       "      <th>TAX DEED</th>\n",
       "      <th>TRUST TRANSFER</th>\n",
       "      <th>TRUSTEES</th>\n",
       "      <th>WARRANTY</th>\n",
       "    </tr>\n",
       "    <tr>\n",
       "      <th>PARCEL</th>\n",
       "      <th></th>\n",
       "      <th></th>\n",
       "      <th></th>\n",
       "      <th></th>\n",
       "      <th></th>\n",
       "      <th></th>\n",
       "      <th></th>\n",
       "      <th></th>\n",
       "      <th></th>\n",
       "      <th></th>\n",
       "      <th></th>\n",
       "      <th></th>\n",
       "      <th></th>\n",
       "      <th></th>\n",
       "      <th></th>\n",
       "      <th></th>\n",
       "      <th></th>\n",
       "      <th></th>\n",
       "      <th></th>\n",
       "      <th></th>\n",
       "      <th></th>\n",
       "    </tr>\n",
       "  </thead>\n",
       "  <tbody>\n",
       "    <tr>\n",
       "      <th>5085010022</th>\n",
       "      <td>0</td>\n",
       "      <td>0</td>\n",
       "      <td>0</td>\n",
       "      <td>0</td>\n",
       "      <td>1</td>\n",
       "      <td>1157385</td>\n",
       "      <td>925908</td>\n",
       "      <td>231477</td>\n",
       "      <td>0</td>\n",
       "      <td>0</td>\n",
       "      <td>...</td>\n",
       "      <td>0</td>\n",
       "      <td>0</td>\n",
       "      <td>0</td>\n",
       "      <td>0</td>\n",
       "      <td>0</td>\n",
       "      <td>0</td>\n",
       "      <td>0</td>\n",
       "      <td>0</td>\n",
       "      <td>0</td>\n",
       "      <td>0</td>\n",
       "    </tr>\n",
       "    <tr>\n",
       "      <th>5085033008</th>\n",
       "      <td>0</td>\n",
       "      <td>0</td>\n",
       "      <td>1</td>\n",
       "      <td>0</td>\n",
       "      <td>0</td>\n",
       "      <td>57047</td>\n",
       "      <td>40994</td>\n",
       "      <td>16053</td>\n",
       "      <td>0</td>\n",
       "      <td>0</td>\n",
       "      <td>...</td>\n",
       "      <td>0</td>\n",
       "      <td>0</td>\n",
       "      <td>0</td>\n",
       "      <td>0</td>\n",
       "      <td>0</td>\n",
       "      <td>0</td>\n",
       "      <td>0</td>\n",
       "      <td>0</td>\n",
       "      <td>0</td>\n",
       "      <td>0</td>\n",
       "    </tr>\n",
       "    <tr>\n",
       "      <th>5085032022</th>\n",
       "      <td>0</td>\n",
       "      <td>0</td>\n",
       "      <td>0</td>\n",
       "      <td>0</td>\n",
       "      <td>1</td>\n",
       "      <td>651485</td>\n",
       "      <td>521193</td>\n",
       "      <td>130292</td>\n",
       "      <td>0</td>\n",
       "      <td>1</td>\n",
       "      <td>...</td>\n",
       "      <td>0</td>\n",
       "      <td>0</td>\n",
       "      <td>0</td>\n",
       "      <td>0</td>\n",
       "      <td>0</td>\n",
       "      <td>0</td>\n",
       "      <td>0</td>\n",
       "      <td>0</td>\n",
       "      <td>0</td>\n",
       "      <td>0</td>\n",
       "    </tr>\n",
       "  </tbody>\n",
       "</table>\n",
       "<p>3 rows × 56 columns</p>\n",
       "</div>"
      ],
      "text/plain": [
       "            Owned by Trust?  Owned by Business?  MAIL DIFFERENT FROM SITE?  \\\n",
       "PARCEL                                                                       \n",
       "5085010022                0                   0                          0   \n",
       "5085033008                0                   0                          1   \n",
       "5085032022                0                   0                          0   \n",
       "\n",
       "            MAIL OUTSIDE CA?  TITLECO1  ASSDTOTAL  ASSDLAND  ASSDSTCT  \\\n",
       "PARCEL                                                                  \n",
       "5085010022                 0         1    1157385    925908    231477   \n",
       "5085033008                 0         0      57047     40994     16053   \n",
       "5085032022                 0         1     651485    521193    130292   \n",
       "\n",
       "            ASSDOTHR  EXEMPTCD  ...  NAME CHANGE  Other  PARTNERSHIP  \\\n",
       "PARCEL                          ...                                    \n",
       "5085010022         0         0  ...            0      0            0   \n",
       "5085033008         0         0  ...            0      0            0   \n",
       "5085032022         0         1  ...            0      0            0   \n",
       "\n",
       "            PERSONAL REP  QUIT CLAIM  RE-RECORD  TAX DEED  TRUST TRANSFER  \\\n",
       "PARCEL                                                                      \n",
       "5085010022             0           0          0         0               0   \n",
       "5085033008             0           0          0         0               0   \n",
       "5085032022             0           0          0         0               0   \n",
       "\n",
       "            TRUSTEES  WARRANTY  \n",
       "PARCEL                          \n",
       "5085010022         0         0  \n",
       "5085033008         0         0  \n",
       "5085032022         0         0  \n",
       "\n",
       "[3 rows x 56 columns]"
      ]
     },
     "execution_count": 140,
     "metadata": {},
     "output_type": "execute_result"
    }
   ],
   "source": [
    "Beverly_Grove_df.head(3)"
   ]
  },
  {
   "cell_type": "code",
   "execution_count": 141,
   "metadata": {},
   "outputs": [],
   "source": [
    "# Step 1: Create our X and y\n",
    "\n",
    "y = Beverly_Grove_df['Did it sell?']\n",
    "X = Beverly_Grove_df.drop(['Did it sell?'], 1)"
   ]
  },
  {
   "cell_type": "code",
   "execution_count": 142,
   "metadata": {},
   "outputs": [
    {
     "data": {
      "text/plain": [
       "array([5085010022, 5085033008, 5085032022, ..., 5510018012, 5510017023,\n",
       "       5514001029])"
      ]
     },
     "execution_count": 142,
     "metadata": {},
     "output_type": "execute_result"
    }
   ],
   "source": [
    "APN = Beverly_Grove_df.index.values\n",
    "APN"
   ]
  },
  {
   "cell_type": "code",
   "execution_count": 143,
   "metadata": {},
   "outputs": [],
   "source": [
    "# Step 2: Use PCA to reduce dimension to three principal components.\n",
    "from sklearn.decomposition import PCA\n",
    "\n",
    "pca = PCA(n_components=3)\n",
    "X_pca = pca.fit_transform(X)"
   ]
  },
  {
   "cell_type": "code",
   "execution_count": 144,
   "metadata": {},
   "outputs": [
    {
     "data": {
      "text/plain": [
       "array([[ 1037442.40088322,   222949.06197809,    99008.44211246],\n",
       "       [ -932464.7141857 ,   251848.62995472,   -90439.60157538],\n",
       "       [ -393042.03210882,  -290764.40544306,   -27460.47099801],\n",
       "       ...,\n",
       "       [ -314557.49024403,  -369458.72763661,   -27020.9155848 ],\n",
       "       [ 2038277.22062523,   419857.55993186, -1288530.60059949],\n",
       "       [ -962055.78924987,   281605.81570128,   -93574.2647082 ]])"
      ]
     },
     "execution_count": 144,
     "metadata": {},
     "output_type": "execute_result"
    }
   ],
   "source": [
    "X_pca"
   ]
  },
  {
   "cell_type": "code",
   "execution_count": 145,
   "metadata": {},
   "outputs": [],
   "source": [
    "# Step 3: Train, test, split\n",
    "\n",
    "X_train, X_test, y_train, y_test = train_test_split(X_pca, y, random_state=78, stratify=y)"
   ]
  },
  {
   "cell_type": "code",
   "execution_count": 146,
   "metadata": {},
   "outputs": [],
   "source": [
    "# Step 4: Scale our data\n",
    "\n",
    "# Create the StandardScaler instance\n",
    "scaler = StandardScaler()\n",
    "\n",
    "# Fit our scaler, named 'scaler' to our data, which produces a new StandardScaler object\n",
    "# which we call 'X_scaler'\n",
    "X_scaler = scaler.fit(X_train)\n",
    "\n",
    "# Scale the data\n",
    "X_train_scaled = X_scaler.transform(X_train)\n",
    "X_test_scaled = X_scaler.transform(X_test)"
   ]
  },
  {
   "cell_type": "code",
   "execution_count": 147,
   "metadata": {},
   "outputs": [],
   "source": [
    "X_train_scaled_APN = []"
   ]
  },
  {
   "cell_type": "code",
   "execution_count": 148,
   "metadata": {},
   "outputs": [],
   "source": [
    "# Step 5: Resample our data using the SMOTE method\n",
    "\n",
    "from imblearn.over_sampling import SMOTE\n",
    "X_resampled_SMOTE, y_resampled_SMOTE = SMOTE(random_state=1, \n",
    "                               sampling_strategy='auto').fit_resample(\n",
    "                               X_train_scaled, y_train)"
   ]
  },
  {
   "cell_type": "code",
   "execution_count": 149,
   "metadata": {},
   "outputs": [
    {
     "data": {
      "text/plain": [
       "Counter({0: 3287, 1: 3287})"
      ]
     },
     "execution_count": 149,
     "metadata": {},
     "output_type": "execute_result"
    }
   ],
   "source": [
    "Counter(y_resampled_SMOTE)"
   ]
  },
  {
   "cell_type": "code",
   "execution_count": 150,
   "metadata": {},
   "outputs": [
    {
     "data": {
      "text/plain": [
       "LogisticRegression(class_weight='balanced', max_iter=300, random_state=78)"
      ]
     },
     "execution_count": 150,
     "metadata": {},
     "output_type": "execute_result"
    }
   ],
   "source": [
    "# Step 6: Instantiate our model and fit it to our data\n",
    "\n",
    "model_7 = LogisticRegression(solver='lbfgs', random_state=78, max_iter=300, class_weight=\"balanced\")\n",
    "model_7.fit(X_resampled_SMOTE, y_resampled_SMOTE)"
   ]
  },
  {
   "cell_type": "code",
   "execution_count": 151,
   "metadata": {},
   "outputs": [
    {
     "data": {
      "text/plain": [
       "0.4914841849148418"
      ]
     },
     "execution_count": 151,
     "metadata": {},
     "output_type": "execute_result"
    }
   ],
   "source": [
    "# Step 7: Calculated the balanced accuracy score\n",
    "\n",
    "y_pred = model_7.predict(X_test_scaled)\n",
    "balanced_accuracy_score(y_test, y_pred)"
   ]
  },
  {
   "cell_type": "code",
   "execution_count": 152,
   "metadata": {},
   "outputs": [
    {
     "name": "stdout",
     "output_type": "stream",
     "text": [
      " PCA + Smote + Logistic Regression Was: 0.628\n"
     ]
    }
   ],
   "source": [
    "print(f\" PCA + Smote + Logistic Regression Was: {accuracy_score(y_test, y_pred):.3f}\")"
   ]
  },
  {
   "cell_type": "code",
   "execution_count": 153,
   "metadata": {},
   "outputs": [
    {
     "data": {
      "text/plain": [
       "0.719691707488016"
      ]
     },
     "execution_count": 153,
     "metadata": {},
     "output_type": "execute_result"
    }
   ],
   "source": [
    "f1_score(y_test, y_pred, average=\"weighted\")"
   ]
  },
  {
   "cell_type": "code",
   "execution_count": 154,
   "metadata": {},
   "outputs": [
    {
     "data": {
      "text/plain": [
       "array([[712, 384],\n",
       "       [ 54,  27]])"
      ]
     },
     "execution_count": 154,
     "metadata": {},
     "output_type": "execute_result"
    }
   ],
   "source": [
    "confusion_matrix(y_test, y_pred)"
   ]
  },
  {
   "cell_type": "code",
   "execution_count": 155,
   "metadata": {},
   "outputs": [
    {
     "name": "stdout",
     "output_type": "stream",
     "text": [
      "              precision    recall  f1-score   support\n",
      "\n",
      "           0       0.93      0.65      0.76      1096\n",
      "           1       0.07      0.33      0.11        81\n",
      "\n",
      "    accuracy                           0.63      1177\n",
      "   macro avg       0.50      0.49      0.44      1177\n",
      "weighted avg       0.87      0.63      0.72      1177\n",
      "\n"
     ]
    }
   ],
   "source": [
    "# evaluate\n",
    "print(classification_report(y_test, y_pred))"
   ]
  },
  {
   "cell_type": "markdown",
   "metadata": {},
   "source": [
    "# Attempt 14: PCA + Resampling (SMOTEEN) + LogisticRegression"
   ]
  },
  {
   "cell_type": "code",
   "execution_count": 156,
   "metadata": {},
   "outputs": [
    {
     "data": {
      "text/html": [
       "<div>\n",
       "<style scoped>\n",
       "    .dataframe tbody tr th:only-of-type {\n",
       "        vertical-align: middle;\n",
       "    }\n",
       "\n",
       "    .dataframe tbody tr th {\n",
       "        vertical-align: top;\n",
       "    }\n",
       "\n",
       "    .dataframe thead th {\n",
       "        text-align: right;\n",
       "    }\n",
       "</style>\n",
       "<table border=\"1\" class=\"dataframe\">\n",
       "  <thead>\n",
       "    <tr style=\"text-align: right;\">\n",
       "      <th></th>\n",
       "      <th>Owned by Trust?</th>\n",
       "      <th>Owned by Business?</th>\n",
       "      <th>SITEADDRESS</th>\n",
       "      <th>MAIL DIFFERENT FROM SITE?</th>\n",
       "      <th>MAIL OUTSIDE CA?</th>\n",
       "      <th>TITLECO1</th>\n",
       "      <th>ASSDTOTAL</th>\n",
       "      <th>ASSDLAND</th>\n",
       "      <th>ASSDSTCT</th>\n",
       "      <th>ASSDOTHR</th>\n",
       "      <th>...</th>\n",
       "      <th>NAME CHANGE</th>\n",
       "      <th>Other</th>\n",
       "      <th>PARTNERSHIP</th>\n",
       "      <th>PERSONAL REP</th>\n",
       "      <th>QUIT CLAIM</th>\n",
       "      <th>RE-RECORD</th>\n",
       "      <th>TAX DEED</th>\n",
       "      <th>TRUST TRANSFER</th>\n",
       "      <th>TRUSTEES</th>\n",
       "      <th>WARRANTY</th>\n",
       "    </tr>\n",
       "    <tr>\n",
       "      <th>PARCEL</th>\n",
       "      <th></th>\n",
       "      <th></th>\n",
       "      <th></th>\n",
       "      <th></th>\n",
       "      <th></th>\n",
       "      <th></th>\n",
       "      <th></th>\n",
       "      <th></th>\n",
       "      <th></th>\n",
       "      <th></th>\n",
       "      <th></th>\n",
       "      <th></th>\n",
       "      <th></th>\n",
       "      <th></th>\n",
       "      <th></th>\n",
       "      <th></th>\n",
       "      <th></th>\n",
       "      <th></th>\n",
       "      <th></th>\n",
       "      <th></th>\n",
       "      <th></th>\n",
       "    </tr>\n",
       "  </thead>\n",
       "  <tbody>\n",
       "    <tr>\n",
       "      <th>5085010022</th>\n",
       "      <td>0</td>\n",
       "      <td>0</td>\n",
       "      <td>1030 S Dunsmuir Ave</td>\n",
       "      <td>0</td>\n",
       "      <td>0</td>\n",
       "      <td>1</td>\n",
       "      <td>1157385</td>\n",
       "      <td>925908</td>\n",
       "      <td>231477</td>\n",
       "      <td>0</td>\n",
       "      <td>...</td>\n",
       "      <td>0</td>\n",
       "      <td>0</td>\n",
       "      <td>0</td>\n",
       "      <td>0</td>\n",
       "      <td>0</td>\n",
       "      <td>0</td>\n",
       "      <td>0</td>\n",
       "      <td>0</td>\n",
       "      <td>0</td>\n",
       "      <td>0</td>\n",
       "    </tr>\n",
       "    <tr>\n",
       "      <th>5085033008</th>\n",
       "      <td>0</td>\n",
       "      <td>0</td>\n",
       "      <td>1364 S Ridgeley Dr</td>\n",
       "      <td>1</td>\n",
       "      <td>0</td>\n",
       "      <td>0</td>\n",
       "      <td>57047</td>\n",
       "      <td>40994</td>\n",
       "      <td>16053</td>\n",
       "      <td>0</td>\n",
       "      <td>...</td>\n",
       "      <td>0</td>\n",
       "      <td>0</td>\n",
       "      <td>0</td>\n",
       "      <td>0</td>\n",
       "      <td>0</td>\n",
       "      <td>0</td>\n",
       "      <td>0</td>\n",
       "      <td>0</td>\n",
       "      <td>0</td>\n",
       "      <td>0</td>\n",
       "    </tr>\n",
       "    <tr>\n",
       "      <th>5085032022</th>\n",
       "      <td>0</td>\n",
       "      <td>0</td>\n",
       "      <td>1322 Hauser Blvd</td>\n",
       "      <td>0</td>\n",
       "      <td>0</td>\n",
       "      <td>1</td>\n",
       "      <td>651485</td>\n",
       "      <td>521193</td>\n",
       "      <td>130292</td>\n",
       "      <td>0</td>\n",
       "      <td>...</td>\n",
       "      <td>0</td>\n",
       "      <td>0</td>\n",
       "      <td>0</td>\n",
       "      <td>0</td>\n",
       "      <td>0</td>\n",
       "      <td>0</td>\n",
       "      <td>0</td>\n",
       "      <td>0</td>\n",
       "      <td>0</td>\n",
       "      <td>0</td>\n",
       "    </tr>\n",
       "    <tr>\n",
       "      <th>5510005006</th>\n",
       "      <td>1</td>\n",
       "      <td>0</td>\n",
       "      <td>6727 Drexel Ave</td>\n",
       "      <td>1</td>\n",
       "      <td>0</td>\n",
       "      <td>0</td>\n",
       "      <td>85697</td>\n",
       "      <td>74539</td>\n",
       "      <td>11158</td>\n",
       "      <td>0</td>\n",
       "      <td>...</td>\n",
       "      <td>0</td>\n",
       "      <td>0</td>\n",
       "      <td>0</td>\n",
       "      <td>0</td>\n",
       "      <td>0</td>\n",
       "      <td>0</td>\n",
       "      <td>0</td>\n",
       "      <td>0</td>\n",
       "      <td>0</td>\n",
       "      <td>0</td>\n",
       "    </tr>\n",
       "    <tr>\n",
       "      <th>5089024002</th>\n",
       "      <td>0</td>\n",
       "      <td>0</td>\n",
       "      <td>942 S Cochran Ave</td>\n",
       "      <td>0</td>\n",
       "      <td>0</td>\n",
       "      <td>0</td>\n",
       "      <td>62487</td>\n",
       "      <td>42013</td>\n",
       "      <td>20474</td>\n",
       "      <td>0</td>\n",
       "      <td>...</td>\n",
       "      <td>0</td>\n",
       "      <td>0</td>\n",
       "      <td>0</td>\n",
       "      <td>0</td>\n",
       "      <td>0</td>\n",
       "      <td>0</td>\n",
       "      <td>0</td>\n",
       "      <td>0</td>\n",
       "      <td>0</td>\n",
       "      <td>0</td>\n",
       "    </tr>\n",
       "  </tbody>\n",
       "</table>\n",
       "<p>5 rows × 57 columns</p>\n",
       "</div>"
      ],
      "text/plain": [
       "            Owned by Trust?  Owned by Business?          SITEADDRESS  \\\n",
       "PARCEL                                                                 \n",
       "5085010022                0                   0  1030 S Dunsmuir Ave   \n",
       "5085033008                0                   0   1364 S Ridgeley Dr   \n",
       "5085032022                0                   0     1322 Hauser Blvd   \n",
       "5510005006                1                   0      6727 Drexel Ave   \n",
       "5089024002                0                   0    942 S Cochran Ave   \n",
       "\n",
       "            MAIL DIFFERENT FROM SITE?  MAIL OUTSIDE CA?  TITLECO1  ASSDTOTAL  \\\n",
       "PARCEL                                                                         \n",
       "5085010022                          0                 0         1    1157385   \n",
       "5085033008                          1                 0         0      57047   \n",
       "5085032022                          0                 0         1     651485   \n",
       "5510005006                          1                 0         0      85697   \n",
       "5089024002                          0                 0         0      62487   \n",
       "\n",
       "            ASSDLAND  ASSDSTCT  ASSDOTHR  ...  NAME CHANGE  Other  \\\n",
       "PARCEL                                    ...                       \n",
       "5085010022    925908    231477         0  ...            0      0   \n",
       "5085033008     40994     16053         0  ...            0      0   \n",
       "5085032022    521193    130292         0  ...            0      0   \n",
       "5510005006     74539     11158         0  ...            0      0   \n",
       "5089024002     42013     20474         0  ...            0      0   \n",
       "\n",
       "            PARTNERSHIP  PERSONAL REP  QUIT CLAIM  RE-RECORD  TAX DEED  \\\n",
       "PARCEL                                                                   \n",
       "5085010022            0             0           0          0         0   \n",
       "5085033008            0             0           0          0         0   \n",
       "5085032022            0             0           0          0         0   \n",
       "5510005006            0             0           0          0         0   \n",
       "5089024002            0             0           0          0         0   \n",
       "\n",
       "            TRUST TRANSFER  TRUSTEES  WARRANTY  \n",
       "PARCEL                                          \n",
       "5085010022               0         0         0  \n",
       "5085033008               0         0         0  \n",
       "5085032022               0         0         0  \n",
       "5510005006               0         0         0  \n",
       "5089024002               0         0         0  \n",
       "\n",
       "[5 rows x 57 columns]"
      ]
     },
     "execution_count": 156,
     "metadata": {},
     "output_type": "execute_result"
    }
   ],
   "source": [
    "# bring in our dataframe\n",
    "\n",
    "Beverly_Grove_df = pd.read_csv('Beverly_Grove_Cleaned.csv', index_col='PARCEL')\n",
    "Beverly_Grove_df.head()"
   ]
  },
  {
   "cell_type": "code",
   "execution_count": 157,
   "metadata": {},
   "outputs": [],
   "source": [
    "# drop any nulls\n",
    "\n",
    "Beverly_Grove_df = Beverly_Grove_df.dropna()"
   ]
  },
  {
   "cell_type": "code",
   "execution_count": 158,
   "metadata": {},
   "outputs": [],
   "source": [
    "# Change the datatype of these two columns into ints\n",
    "\n",
    "Beverly_Grove_df['TAXAMT'] = Beverly_Grove_df['TAXAMT'].astype(int)\n",
    "Beverly_Grove_df['EFFYRBLT'] = Beverly_Grove_df['EFFYRBLT'].astype(int)"
   ]
  },
  {
   "cell_type": "code",
   "execution_count": 159,
   "metadata": {},
   "outputs": [
    {
     "data": {
      "text/html": [
       "<div>\n",
       "<style scoped>\n",
       "    .dataframe tbody tr th:only-of-type {\n",
       "        vertical-align: middle;\n",
       "    }\n",
       "\n",
       "    .dataframe tbody tr th {\n",
       "        vertical-align: top;\n",
       "    }\n",
       "\n",
       "    .dataframe thead th {\n",
       "        text-align: right;\n",
       "    }\n",
       "</style>\n",
       "<table border=\"1\" class=\"dataframe\">\n",
       "  <thead>\n",
       "    <tr style=\"text-align: right;\">\n",
       "      <th></th>\n",
       "      <th>Owned by Trust?</th>\n",
       "      <th>Owned by Business?</th>\n",
       "      <th>SITEADDRESS</th>\n",
       "      <th>MAIL DIFFERENT FROM SITE?</th>\n",
       "      <th>MAIL OUTSIDE CA?</th>\n",
       "      <th>TITLECO1</th>\n",
       "      <th>ASSDTOTAL</th>\n",
       "      <th>ASSDLAND</th>\n",
       "      <th>ASSDSTCT</th>\n",
       "      <th>ASSDOTHR</th>\n",
       "      <th>...</th>\n",
       "      <th>NAME CHANGE</th>\n",
       "      <th>Other</th>\n",
       "      <th>PARTNERSHIP</th>\n",
       "      <th>PERSONAL REP</th>\n",
       "      <th>QUIT CLAIM</th>\n",
       "      <th>RE-RECORD</th>\n",
       "      <th>TAX DEED</th>\n",
       "      <th>TRUST TRANSFER</th>\n",
       "      <th>TRUSTEES</th>\n",
       "      <th>WARRANTY</th>\n",
       "    </tr>\n",
       "    <tr>\n",
       "      <th>PARCEL</th>\n",
       "      <th></th>\n",
       "      <th></th>\n",
       "      <th></th>\n",
       "      <th></th>\n",
       "      <th></th>\n",
       "      <th></th>\n",
       "      <th></th>\n",
       "      <th></th>\n",
       "      <th></th>\n",
       "      <th></th>\n",
       "      <th></th>\n",
       "      <th></th>\n",
       "      <th></th>\n",
       "      <th></th>\n",
       "      <th></th>\n",
       "      <th></th>\n",
       "      <th></th>\n",
       "      <th></th>\n",
       "      <th></th>\n",
       "      <th></th>\n",
       "      <th></th>\n",
       "    </tr>\n",
       "  </thead>\n",
       "  <tbody>\n",
       "    <tr>\n",
       "      <th>5085010022</th>\n",
       "      <td>0</td>\n",
       "      <td>0</td>\n",
       "      <td>1030 S Dunsmuir Ave</td>\n",
       "      <td>0</td>\n",
       "      <td>0</td>\n",
       "      <td>1</td>\n",
       "      <td>1157385</td>\n",
       "      <td>925908</td>\n",
       "      <td>231477</td>\n",
       "      <td>0</td>\n",
       "      <td>...</td>\n",
       "      <td>0</td>\n",
       "      <td>0</td>\n",
       "      <td>0</td>\n",
       "      <td>0</td>\n",
       "      <td>0</td>\n",
       "      <td>0</td>\n",
       "      <td>0</td>\n",
       "      <td>0</td>\n",
       "      <td>0</td>\n",
       "      <td>0</td>\n",
       "    </tr>\n",
       "    <tr>\n",
       "      <th>5085033008</th>\n",
       "      <td>0</td>\n",
       "      <td>0</td>\n",
       "      <td>1364 S Ridgeley Dr</td>\n",
       "      <td>1</td>\n",
       "      <td>0</td>\n",
       "      <td>0</td>\n",
       "      <td>57047</td>\n",
       "      <td>40994</td>\n",
       "      <td>16053</td>\n",
       "      <td>0</td>\n",
       "      <td>...</td>\n",
       "      <td>0</td>\n",
       "      <td>0</td>\n",
       "      <td>0</td>\n",
       "      <td>0</td>\n",
       "      <td>0</td>\n",
       "      <td>0</td>\n",
       "      <td>0</td>\n",
       "      <td>0</td>\n",
       "      <td>0</td>\n",
       "      <td>0</td>\n",
       "    </tr>\n",
       "    <tr>\n",
       "      <th>5085032022</th>\n",
       "      <td>0</td>\n",
       "      <td>0</td>\n",
       "      <td>1322 Hauser Blvd</td>\n",
       "      <td>0</td>\n",
       "      <td>0</td>\n",
       "      <td>1</td>\n",
       "      <td>651485</td>\n",
       "      <td>521193</td>\n",
       "      <td>130292</td>\n",
       "      <td>0</td>\n",
       "      <td>...</td>\n",
       "      <td>0</td>\n",
       "      <td>0</td>\n",
       "      <td>0</td>\n",
       "      <td>0</td>\n",
       "      <td>0</td>\n",
       "      <td>0</td>\n",
       "      <td>0</td>\n",
       "      <td>0</td>\n",
       "      <td>0</td>\n",
       "      <td>0</td>\n",
       "    </tr>\n",
       "  </tbody>\n",
       "</table>\n",
       "<p>3 rows × 57 columns</p>\n",
       "</div>"
      ],
      "text/plain": [
       "            Owned by Trust?  Owned by Business?          SITEADDRESS  \\\n",
       "PARCEL                                                                 \n",
       "5085010022                0                   0  1030 S Dunsmuir Ave   \n",
       "5085033008                0                   0   1364 S Ridgeley Dr   \n",
       "5085032022                0                   0     1322 Hauser Blvd   \n",
       "\n",
       "            MAIL DIFFERENT FROM SITE?  MAIL OUTSIDE CA?  TITLECO1  ASSDTOTAL  \\\n",
       "PARCEL                                                                         \n",
       "5085010022                          0                 0         1    1157385   \n",
       "5085033008                          1                 0         0      57047   \n",
       "5085032022                          0                 0         1     651485   \n",
       "\n",
       "            ASSDLAND  ASSDSTCT  ASSDOTHR  ...  NAME CHANGE  Other  \\\n",
       "PARCEL                                    ...                       \n",
       "5085010022    925908    231477         0  ...            0      0   \n",
       "5085033008     40994     16053         0  ...            0      0   \n",
       "5085032022    521193    130292         0  ...            0      0   \n",
       "\n",
       "            PARTNERSHIP  PERSONAL REP  QUIT CLAIM  RE-RECORD  TAX DEED  \\\n",
       "PARCEL                                                                   \n",
       "5085010022            0             0           0          0         0   \n",
       "5085033008            0             0           0          0         0   \n",
       "5085032022            0             0           0          0         0   \n",
       "\n",
       "            TRUST TRANSFER  TRUSTEES  WARRANTY  \n",
       "PARCEL                                          \n",
       "5085010022               0         0         0  \n",
       "5085033008               0         0         0  \n",
       "5085032022               0         0         0  \n",
       "\n",
       "[3 rows x 57 columns]"
      ]
     },
     "execution_count": 159,
     "metadata": {},
     "output_type": "execute_result"
    }
   ],
   "source": [
    "# Make sure our dataframe is only SFR's so exclude every property that has an '#' in its site address\n",
    "\n",
    "Beverly_Grove_df = Beverly_Grove_df[~Beverly_Grove_df['SITEADDRESS'].str.contains('#')]\n",
    "Beverly_Grove_df.head(3)"
   ]
  },
  {
   "cell_type": "code",
   "execution_count": 160,
   "metadata": {},
   "outputs": [],
   "source": [
    "# Now drop the SiteAddress column\n",
    "Beverly_Grove_df.drop(['SITEADDRESS'], axis=1, inplace=True)"
   ]
  },
  {
   "cell_type": "code",
   "execution_count": 161,
   "metadata": {},
   "outputs": [
    {
     "data": {
      "text/html": [
       "<div>\n",
       "<style scoped>\n",
       "    .dataframe tbody tr th:only-of-type {\n",
       "        vertical-align: middle;\n",
       "    }\n",
       "\n",
       "    .dataframe tbody tr th {\n",
       "        vertical-align: top;\n",
       "    }\n",
       "\n",
       "    .dataframe thead th {\n",
       "        text-align: right;\n",
       "    }\n",
       "</style>\n",
       "<table border=\"1\" class=\"dataframe\">\n",
       "  <thead>\n",
       "    <tr style=\"text-align: right;\">\n",
       "      <th></th>\n",
       "      <th>Owned by Trust?</th>\n",
       "      <th>Owned by Business?</th>\n",
       "      <th>MAIL DIFFERENT FROM SITE?</th>\n",
       "      <th>MAIL OUTSIDE CA?</th>\n",
       "      <th>TITLECO1</th>\n",
       "      <th>ASSDTOTAL</th>\n",
       "      <th>ASSDLAND</th>\n",
       "      <th>ASSDSTCT</th>\n",
       "      <th>ASSDOTHR</th>\n",
       "      <th>EXEMPTCD</th>\n",
       "      <th>...</th>\n",
       "      <th>NAME CHANGE</th>\n",
       "      <th>Other</th>\n",
       "      <th>PARTNERSHIP</th>\n",
       "      <th>PERSONAL REP</th>\n",
       "      <th>QUIT CLAIM</th>\n",
       "      <th>RE-RECORD</th>\n",
       "      <th>TAX DEED</th>\n",
       "      <th>TRUST TRANSFER</th>\n",
       "      <th>TRUSTEES</th>\n",
       "      <th>WARRANTY</th>\n",
       "    </tr>\n",
       "    <tr>\n",
       "      <th>PARCEL</th>\n",
       "      <th></th>\n",
       "      <th></th>\n",
       "      <th></th>\n",
       "      <th></th>\n",
       "      <th></th>\n",
       "      <th></th>\n",
       "      <th></th>\n",
       "      <th></th>\n",
       "      <th></th>\n",
       "      <th></th>\n",
       "      <th></th>\n",
       "      <th></th>\n",
       "      <th></th>\n",
       "      <th></th>\n",
       "      <th></th>\n",
       "      <th></th>\n",
       "      <th></th>\n",
       "      <th></th>\n",
       "      <th></th>\n",
       "      <th></th>\n",
       "      <th></th>\n",
       "    </tr>\n",
       "  </thead>\n",
       "  <tbody>\n",
       "    <tr>\n",
       "      <th>5085010022</th>\n",
       "      <td>0</td>\n",
       "      <td>0</td>\n",
       "      <td>0</td>\n",
       "      <td>0</td>\n",
       "      <td>1</td>\n",
       "      <td>1157385</td>\n",
       "      <td>925908</td>\n",
       "      <td>231477</td>\n",
       "      <td>0</td>\n",
       "      <td>0</td>\n",
       "      <td>...</td>\n",
       "      <td>0</td>\n",
       "      <td>0</td>\n",
       "      <td>0</td>\n",
       "      <td>0</td>\n",
       "      <td>0</td>\n",
       "      <td>0</td>\n",
       "      <td>0</td>\n",
       "      <td>0</td>\n",
       "      <td>0</td>\n",
       "      <td>0</td>\n",
       "    </tr>\n",
       "    <tr>\n",
       "      <th>5085033008</th>\n",
       "      <td>0</td>\n",
       "      <td>0</td>\n",
       "      <td>1</td>\n",
       "      <td>0</td>\n",
       "      <td>0</td>\n",
       "      <td>57047</td>\n",
       "      <td>40994</td>\n",
       "      <td>16053</td>\n",
       "      <td>0</td>\n",
       "      <td>0</td>\n",
       "      <td>...</td>\n",
       "      <td>0</td>\n",
       "      <td>0</td>\n",
       "      <td>0</td>\n",
       "      <td>0</td>\n",
       "      <td>0</td>\n",
       "      <td>0</td>\n",
       "      <td>0</td>\n",
       "      <td>0</td>\n",
       "      <td>0</td>\n",
       "      <td>0</td>\n",
       "    </tr>\n",
       "    <tr>\n",
       "      <th>5085032022</th>\n",
       "      <td>0</td>\n",
       "      <td>0</td>\n",
       "      <td>0</td>\n",
       "      <td>0</td>\n",
       "      <td>1</td>\n",
       "      <td>651485</td>\n",
       "      <td>521193</td>\n",
       "      <td>130292</td>\n",
       "      <td>0</td>\n",
       "      <td>1</td>\n",
       "      <td>...</td>\n",
       "      <td>0</td>\n",
       "      <td>0</td>\n",
       "      <td>0</td>\n",
       "      <td>0</td>\n",
       "      <td>0</td>\n",
       "      <td>0</td>\n",
       "      <td>0</td>\n",
       "      <td>0</td>\n",
       "      <td>0</td>\n",
       "      <td>0</td>\n",
       "    </tr>\n",
       "  </tbody>\n",
       "</table>\n",
       "<p>3 rows × 56 columns</p>\n",
       "</div>"
      ],
      "text/plain": [
       "            Owned by Trust?  Owned by Business?  MAIL DIFFERENT FROM SITE?  \\\n",
       "PARCEL                                                                       \n",
       "5085010022                0                   0                          0   \n",
       "5085033008                0                   0                          1   \n",
       "5085032022                0                   0                          0   \n",
       "\n",
       "            MAIL OUTSIDE CA?  TITLECO1  ASSDTOTAL  ASSDLAND  ASSDSTCT  \\\n",
       "PARCEL                                                                  \n",
       "5085010022                 0         1    1157385    925908    231477   \n",
       "5085033008                 0         0      57047     40994     16053   \n",
       "5085032022                 0         1     651485    521193    130292   \n",
       "\n",
       "            ASSDOTHR  EXEMPTCD  ...  NAME CHANGE  Other  PARTNERSHIP  \\\n",
       "PARCEL                          ...                                    \n",
       "5085010022         0         0  ...            0      0            0   \n",
       "5085033008         0         0  ...            0      0            0   \n",
       "5085032022         0         1  ...            0      0            0   \n",
       "\n",
       "            PERSONAL REP  QUIT CLAIM  RE-RECORD  TAX DEED  TRUST TRANSFER  \\\n",
       "PARCEL                                                                      \n",
       "5085010022             0           0          0         0               0   \n",
       "5085033008             0           0          0         0               0   \n",
       "5085032022             0           0          0         0               0   \n",
       "\n",
       "            TRUSTEES  WARRANTY  \n",
       "PARCEL                          \n",
       "5085010022         0         0  \n",
       "5085033008         0         0  \n",
       "5085032022         0         0  \n",
       "\n",
       "[3 rows x 56 columns]"
      ]
     },
     "execution_count": 161,
     "metadata": {},
     "output_type": "execute_result"
    }
   ],
   "source": [
    "Beverly_Grove_df.head(3)"
   ]
  },
  {
   "cell_type": "code",
   "execution_count": 162,
   "metadata": {},
   "outputs": [],
   "source": [
    "# Step 1: Create our X and y\n",
    "\n",
    "y = Beverly_Grove_df['Did it sell?']\n",
    "X = Beverly_Grove_df.drop(['Did it sell?'], 1)"
   ]
  },
  {
   "cell_type": "code",
   "execution_count": 163,
   "metadata": {},
   "outputs": [
    {
     "data": {
      "text/plain": [
       "array([5085010022, 5085033008, 5085032022, ..., 5510018012, 5510017023,\n",
       "       5514001029])"
      ]
     },
     "execution_count": 163,
     "metadata": {},
     "output_type": "execute_result"
    }
   ],
   "source": [
    "APN = Beverly_Grove_df.index.values\n",
    "APN"
   ]
  },
  {
   "cell_type": "code",
   "execution_count": 164,
   "metadata": {},
   "outputs": [],
   "source": [
    "# Step 2: Use PCA to reduce dimension to three principal components.\n",
    "from sklearn.decomposition import PCA\n",
    "\n",
    "pca = PCA(n_components=3)\n",
    "X_pca = pca.fit_transform(X)"
   ]
  },
  {
   "cell_type": "code",
   "execution_count": 165,
   "metadata": {},
   "outputs": [
    {
     "data": {
      "text/plain": [
       "array([[ 1037442.40088321,   222949.06197813,    99008.44211243],\n",
       "       [ -932464.7141857 ,   251848.62995472,   -90439.60157539],\n",
       "       [ -393042.03210882,  -290764.40544306,   -27460.470998  ],\n",
       "       ...,\n",
       "       [ -314557.49024403,  -369458.72763661,   -27020.9155848 ],\n",
       "       [ 2038277.22062523,   419857.55993186, -1288530.60059949],\n",
       "       [ -962055.78924987,   281605.81570128,   -93574.2647082 ]])"
      ]
     },
     "execution_count": 165,
     "metadata": {},
     "output_type": "execute_result"
    }
   ],
   "source": [
    "X_pca"
   ]
  },
  {
   "cell_type": "code",
   "execution_count": 166,
   "metadata": {},
   "outputs": [],
   "source": [
    "# Step 3: Train, test, split\n",
    "\n",
    "X_train, X_test, y_train, y_test = train_test_split(X_pca, y, random_state=78, stratify=y)"
   ]
  },
  {
   "cell_type": "code",
   "execution_count": 167,
   "metadata": {},
   "outputs": [],
   "source": [
    "# Step 4: Scale our data\n",
    "\n",
    "# Create the StandardScaler instance\n",
    "scaler = StandardScaler()\n",
    "\n",
    "# Fit our scaler, named 'scaler' to our data, which produces a new StandardScaler object\n",
    "# which we call 'X_scaler'\n",
    "X_scaler = scaler.fit(X_train)\n",
    "\n",
    "# Scale the data\n",
    "X_train_scaled = X_scaler.transform(X_train)\n",
    "X_test_scaled = X_scaler.transform(X_test)"
   ]
  },
  {
   "cell_type": "code",
   "execution_count": 168,
   "metadata": {},
   "outputs": [],
   "source": [
    "X_train_scaled_APN = []"
   ]
  },
  {
   "cell_type": "code",
   "execution_count": 169,
   "metadata": {},
   "outputs": [
    {
     "data": {
      "text/plain": [
       "Counter({0: 1542, 1: 1893})"
      ]
     },
     "execution_count": 169,
     "metadata": {},
     "output_type": "execute_result"
    }
   ],
   "source": [
    "from imblearn.combine import SMOTEENN\n",
    "\n",
    "smote_enn = SMOTEENN(random_state=0)\n",
    "X_resampled, y_resampled = smote_enn.fit_resample(X_train_scaled, y_train)\n",
    "Counter(y_resampled)"
   ]
  },
  {
   "cell_type": "code",
   "execution_count": 170,
   "metadata": {},
   "outputs": [
    {
     "data": {
      "text/plain": [
       "LogisticRegression(class_weight='balanced', max_iter=300, random_state=78)"
      ]
     },
     "execution_count": 170,
     "metadata": {},
     "output_type": "execute_result"
    }
   ],
   "source": [
    "model_8 = LogisticRegression(solver='lbfgs', random_state=78, max_iter=300, class_weight=\"balanced\")\n",
    "model_8.fit(X_resampled, y_resampled)"
   ]
  },
  {
   "cell_type": "code",
   "execution_count": 171,
   "metadata": {},
   "outputs": [],
   "source": [
    "# Calculated the balanced accuracy score\n",
    "y_pred = model_8.predict(X_test_scaled)"
   ]
  },
  {
   "cell_type": "code",
   "execution_count": 172,
   "metadata": {},
   "outputs": [
    {
     "data": {
      "text/plain": [
       "0.4869221411192214"
      ]
     },
     "execution_count": 172,
     "metadata": {},
     "output_type": "execute_result"
    }
   ],
   "source": [
    "from sklearn.metrics import balanced_accuracy_score\n",
    "balanced_accuracy_score(y_test, y_pred)"
   ]
  },
  {
   "cell_type": "code",
   "execution_count": 173,
   "metadata": {},
   "outputs": [
    {
     "name": "stdout",
     "output_type": "stream",
     "text": [
      " PCA + SMOTEEN + Logistic Regression Accuracy was: 0.619\n"
     ]
    }
   ],
   "source": [
    "print(f\" PCA + SMOTEEN + Logistic Regression Accuracy was: {accuracy_score(y_test, y_pred):.3f}\")"
   ]
  },
  {
   "cell_type": "code",
   "execution_count": 174,
   "metadata": {},
   "outputs": [
    {
     "data": {
      "text/plain": [
       "0.7133305329304763"
      ]
     },
     "execution_count": 174,
     "metadata": {},
     "output_type": "execute_result"
    }
   ],
   "source": [
    "f1_score(y_test, y_pred, average=\"weighted\")"
   ]
  },
  {
   "cell_type": "code",
   "execution_count": 175,
   "metadata": {},
   "outputs": [
    {
     "name": "stdout",
     "output_type": "stream",
     "text": [
      "              precision    recall  f1-score   support\n",
      "\n",
      "           0       0.93      0.64      0.76      1096\n",
      "           1       0.06      0.33      0.11        81\n",
      "\n",
      "    accuracy                           0.62      1177\n",
      "   macro avg       0.50      0.49      0.43      1177\n",
      "weighted avg       0.87      0.62      0.71      1177\n",
      "\n"
     ]
    }
   ],
   "source": [
    "# evaluate\n",
    "print(classification_report(y_test, y_pred))"
   ]
  },
  {
   "cell_type": "markdown",
   "metadata": {},
   "source": [
    "# Attempt 15: PCA + Undersampling (Centroid Clustering) + Logistic Regression"
   ]
  },
  {
   "cell_type": "code",
   "execution_count": 176,
   "metadata": {},
   "outputs": [
    {
     "data": {
      "text/html": [
       "<div>\n",
       "<style scoped>\n",
       "    .dataframe tbody tr th:only-of-type {\n",
       "        vertical-align: middle;\n",
       "    }\n",
       "\n",
       "    .dataframe tbody tr th {\n",
       "        vertical-align: top;\n",
       "    }\n",
       "\n",
       "    .dataframe thead th {\n",
       "        text-align: right;\n",
       "    }\n",
       "</style>\n",
       "<table border=\"1\" class=\"dataframe\">\n",
       "  <thead>\n",
       "    <tr style=\"text-align: right;\">\n",
       "      <th></th>\n",
       "      <th>Owned by Trust?</th>\n",
       "      <th>Owned by Business?</th>\n",
       "      <th>SITEADDRESS</th>\n",
       "      <th>MAIL DIFFERENT FROM SITE?</th>\n",
       "      <th>MAIL OUTSIDE CA?</th>\n",
       "      <th>TITLECO1</th>\n",
       "      <th>ASSDTOTAL</th>\n",
       "      <th>ASSDLAND</th>\n",
       "      <th>ASSDSTCT</th>\n",
       "      <th>ASSDOTHR</th>\n",
       "      <th>...</th>\n",
       "      <th>NAME CHANGE</th>\n",
       "      <th>Other</th>\n",
       "      <th>PARTNERSHIP</th>\n",
       "      <th>PERSONAL REP</th>\n",
       "      <th>QUIT CLAIM</th>\n",
       "      <th>RE-RECORD</th>\n",
       "      <th>TAX DEED</th>\n",
       "      <th>TRUST TRANSFER</th>\n",
       "      <th>TRUSTEES</th>\n",
       "      <th>WARRANTY</th>\n",
       "    </tr>\n",
       "    <tr>\n",
       "      <th>PARCEL</th>\n",
       "      <th></th>\n",
       "      <th></th>\n",
       "      <th></th>\n",
       "      <th></th>\n",
       "      <th></th>\n",
       "      <th></th>\n",
       "      <th></th>\n",
       "      <th></th>\n",
       "      <th></th>\n",
       "      <th></th>\n",
       "      <th></th>\n",
       "      <th></th>\n",
       "      <th></th>\n",
       "      <th></th>\n",
       "      <th></th>\n",
       "      <th></th>\n",
       "      <th></th>\n",
       "      <th></th>\n",
       "      <th></th>\n",
       "      <th></th>\n",
       "      <th></th>\n",
       "    </tr>\n",
       "  </thead>\n",
       "  <tbody>\n",
       "    <tr>\n",
       "      <th>5085010022</th>\n",
       "      <td>0</td>\n",
       "      <td>0</td>\n",
       "      <td>1030 S Dunsmuir Ave</td>\n",
       "      <td>0</td>\n",
       "      <td>0</td>\n",
       "      <td>1</td>\n",
       "      <td>1157385</td>\n",
       "      <td>925908</td>\n",
       "      <td>231477</td>\n",
       "      <td>0</td>\n",
       "      <td>...</td>\n",
       "      <td>0</td>\n",
       "      <td>0</td>\n",
       "      <td>0</td>\n",
       "      <td>0</td>\n",
       "      <td>0</td>\n",
       "      <td>0</td>\n",
       "      <td>0</td>\n",
       "      <td>0</td>\n",
       "      <td>0</td>\n",
       "      <td>0</td>\n",
       "    </tr>\n",
       "    <tr>\n",
       "      <th>5085033008</th>\n",
       "      <td>0</td>\n",
       "      <td>0</td>\n",
       "      <td>1364 S Ridgeley Dr</td>\n",
       "      <td>1</td>\n",
       "      <td>0</td>\n",
       "      <td>0</td>\n",
       "      <td>57047</td>\n",
       "      <td>40994</td>\n",
       "      <td>16053</td>\n",
       "      <td>0</td>\n",
       "      <td>...</td>\n",
       "      <td>0</td>\n",
       "      <td>0</td>\n",
       "      <td>0</td>\n",
       "      <td>0</td>\n",
       "      <td>0</td>\n",
       "      <td>0</td>\n",
       "      <td>0</td>\n",
       "      <td>0</td>\n",
       "      <td>0</td>\n",
       "      <td>0</td>\n",
       "    </tr>\n",
       "    <tr>\n",
       "      <th>5085032022</th>\n",
       "      <td>0</td>\n",
       "      <td>0</td>\n",
       "      <td>1322 Hauser Blvd</td>\n",
       "      <td>0</td>\n",
       "      <td>0</td>\n",
       "      <td>1</td>\n",
       "      <td>651485</td>\n",
       "      <td>521193</td>\n",
       "      <td>130292</td>\n",
       "      <td>0</td>\n",
       "      <td>...</td>\n",
       "      <td>0</td>\n",
       "      <td>0</td>\n",
       "      <td>0</td>\n",
       "      <td>0</td>\n",
       "      <td>0</td>\n",
       "      <td>0</td>\n",
       "      <td>0</td>\n",
       "      <td>0</td>\n",
       "      <td>0</td>\n",
       "      <td>0</td>\n",
       "    </tr>\n",
       "    <tr>\n",
       "      <th>5510005006</th>\n",
       "      <td>1</td>\n",
       "      <td>0</td>\n",
       "      <td>6727 Drexel Ave</td>\n",
       "      <td>1</td>\n",
       "      <td>0</td>\n",
       "      <td>0</td>\n",
       "      <td>85697</td>\n",
       "      <td>74539</td>\n",
       "      <td>11158</td>\n",
       "      <td>0</td>\n",
       "      <td>...</td>\n",
       "      <td>0</td>\n",
       "      <td>0</td>\n",
       "      <td>0</td>\n",
       "      <td>0</td>\n",
       "      <td>0</td>\n",
       "      <td>0</td>\n",
       "      <td>0</td>\n",
       "      <td>0</td>\n",
       "      <td>0</td>\n",
       "      <td>0</td>\n",
       "    </tr>\n",
       "    <tr>\n",
       "      <th>5089024002</th>\n",
       "      <td>0</td>\n",
       "      <td>0</td>\n",
       "      <td>942 S Cochran Ave</td>\n",
       "      <td>0</td>\n",
       "      <td>0</td>\n",
       "      <td>0</td>\n",
       "      <td>62487</td>\n",
       "      <td>42013</td>\n",
       "      <td>20474</td>\n",
       "      <td>0</td>\n",
       "      <td>...</td>\n",
       "      <td>0</td>\n",
       "      <td>0</td>\n",
       "      <td>0</td>\n",
       "      <td>0</td>\n",
       "      <td>0</td>\n",
       "      <td>0</td>\n",
       "      <td>0</td>\n",
       "      <td>0</td>\n",
       "      <td>0</td>\n",
       "      <td>0</td>\n",
       "    </tr>\n",
       "  </tbody>\n",
       "</table>\n",
       "<p>5 rows × 57 columns</p>\n",
       "</div>"
      ],
      "text/plain": [
       "            Owned by Trust?  Owned by Business?          SITEADDRESS  \\\n",
       "PARCEL                                                                 \n",
       "5085010022                0                   0  1030 S Dunsmuir Ave   \n",
       "5085033008                0                   0   1364 S Ridgeley Dr   \n",
       "5085032022                0                   0     1322 Hauser Blvd   \n",
       "5510005006                1                   0      6727 Drexel Ave   \n",
       "5089024002                0                   0    942 S Cochran Ave   \n",
       "\n",
       "            MAIL DIFFERENT FROM SITE?  MAIL OUTSIDE CA?  TITLECO1  ASSDTOTAL  \\\n",
       "PARCEL                                                                         \n",
       "5085010022                          0                 0         1    1157385   \n",
       "5085033008                          1                 0         0      57047   \n",
       "5085032022                          0                 0         1     651485   \n",
       "5510005006                          1                 0         0      85697   \n",
       "5089024002                          0                 0         0      62487   \n",
       "\n",
       "            ASSDLAND  ASSDSTCT  ASSDOTHR  ...  NAME CHANGE  Other  \\\n",
       "PARCEL                                    ...                       \n",
       "5085010022    925908    231477         0  ...            0      0   \n",
       "5085033008     40994     16053         0  ...            0      0   \n",
       "5085032022    521193    130292         0  ...            0      0   \n",
       "5510005006     74539     11158         0  ...            0      0   \n",
       "5089024002     42013     20474         0  ...            0      0   \n",
       "\n",
       "            PARTNERSHIP  PERSONAL REP  QUIT CLAIM  RE-RECORD  TAX DEED  \\\n",
       "PARCEL                                                                   \n",
       "5085010022            0             0           0          0         0   \n",
       "5085033008            0             0           0          0         0   \n",
       "5085032022            0             0           0          0         0   \n",
       "5510005006            0             0           0          0         0   \n",
       "5089024002            0             0           0          0         0   \n",
       "\n",
       "            TRUST TRANSFER  TRUSTEES  WARRANTY  \n",
       "PARCEL                                          \n",
       "5085010022               0         0         0  \n",
       "5085033008               0         0         0  \n",
       "5085032022               0         0         0  \n",
       "5510005006               0         0         0  \n",
       "5089024002               0         0         0  \n",
       "\n",
       "[5 rows x 57 columns]"
      ]
     },
     "execution_count": 176,
     "metadata": {},
     "output_type": "execute_result"
    }
   ],
   "source": [
    "# bring in our dataframe\n",
    "\n",
    "Beverly_Grove_df = pd.read_csv('Beverly_Grove_Cleaned.csv', index_col='PARCEL')\n",
    "Beverly_Grove_df.head()"
   ]
  },
  {
   "cell_type": "code",
   "execution_count": 177,
   "metadata": {},
   "outputs": [],
   "source": [
    "# drop any nulls\n",
    "\n",
    "Beverly_Grove_df = Beverly_Grove_df.dropna()"
   ]
  },
  {
   "cell_type": "code",
   "execution_count": 178,
   "metadata": {},
   "outputs": [],
   "source": [
    "# Change the datatype of these two columns into ints\n",
    "\n",
    "Beverly_Grove_df['TAXAMT'] = Beverly_Grove_df['TAXAMT'].astype(int)\n",
    "Beverly_Grove_df['EFFYRBLT'] = Beverly_Grove_df['EFFYRBLT'].astype(int)"
   ]
  },
  {
   "cell_type": "code",
   "execution_count": 179,
   "metadata": {},
   "outputs": [
    {
     "data": {
      "text/html": [
       "<div>\n",
       "<style scoped>\n",
       "    .dataframe tbody tr th:only-of-type {\n",
       "        vertical-align: middle;\n",
       "    }\n",
       "\n",
       "    .dataframe tbody tr th {\n",
       "        vertical-align: top;\n",
       "    }\n",
       "\n",
       "    .dataframe thead th {\n",
       "        text-align: right;\n",
       "    }\n",
       "</style>\n",
       "<table border=\"1\" class=\"dataframe\">\n",
       "  <thead>\n",
       "    <tr style=\"text-align: right;\">\n",
       "      <th></th>\n",
       "      <th>Owned by Trust?</th>\n",
       "      <th>Owned by Business?</th>\n",
       "      <th>SITEADDRESS</th>\n",
       "      <th>MAIL DIFFERENT FROM SITE?</th>\n",
       "      <th>MAIL OUTSIDE CA?</th>\n",
       "      <th>TITLECO1</th>\n",
       "      <th>ASSDTOTAL</th>\n",
       "      <th>ASSDLAND</th>\n",
       "      <th>ASSDSTCT</th>\n",
       "      <th>ASSDOTHR</th>\n",
       "      <th>...</th>\n",
       "      <th>NAME CHANGE</th>\n",
       "      <th>Other</th>\n",
       "      <th>PARTNERSHIP</th>\n",
       "      <th>PERSONAL REP</th>\n",
       "      <th>QUIT CLAIM</th>\n",
       "      <th>RE-RECORD</th>\n",
       "      <th>TAX DEED</th>\n",
       "      <th>TRUST TRANSFER</th>\n",
       "      <th>TRUSTEES</th>\n",
       "      <th>WARRANTY</th>\n",
       "    </tr>\n",
       "    <tr>\n",
       "      <th>PARCEL</th>\n",
       "      <th></th>\n",
       "      <th></th>\n",
       "      <th></th>\n",
       "      <th></th>\n",
       "      <th></th>\n",
       "      <th></th>\n",
       "      <th></th>\n",
       "      <th></th>\n",
       "      <th></th>\n",
       "      <th></th>\n",
       "      <th></th>\n",
       "      <th></th>\n",
       "      <th></th>\n",
       "      <th></th>\n",
       "      <th></th>\n",
       "      <th></th>\n",
       "      <th></th>\n",
       "      <th></th>\n",
       "      <th></th>\n",
       "      <th></th>\n",
       "      <th></th>\n",
       "    </tr>\n",
       "  </thead>\n",
       "  <tbody>\n",
       "    <tr>\n",
       "      <th>5085010022</th>\n",
       "      <td>0</td>\n",
       "      <td>0</td>\n",
       "      <td>1030 S Dunsmuir Ave</td>\n",
       "      <td>0</td>\n",
       "      <td>0</td>\n",
       "      <td>1</td>\n",
       "      <td>1157385</td>\n",
       "      <td>925908</td>\n",
       "      <td>231477</td>\n",
       "      <td>0</td>\n",
       "      <td>...</td>\n",
       "      <td>0</td>\n",
       "      <td>0</td>\n",
       "      <td>0</td>\n",
       "      <td>0</td>\n",
       "      <td>0</td>\n",
       "      <td>0</td>\n",
       "      <td>0</td>\n",
       "      <td>0</td>\n",
       "      <td>0</td>\n",
       "      <td>0</td>\n",
       "    </tr>\n",
       "    <tr>\n",
       "      <th>5085033008</th>\n",
       "      <td>0</td>\n",
       "      <td>0</td>\n",
       "      <td>1364 S Ridgeley Dr</td>\n",
       "      <td>1</td>\n",
       "      <td>0</td>\n",
       "      <td>0</td>\n",
       "      <td>57047</td>\n",
       "      <td>40994</td>\n",
       "      <td>16053</td>\n",
       "      <td>0</td>\n",
       "      <td>...</td>\n",
       "      <td>0</td>\n",
       "      <td>0</td>\n",
       "      <td>0</td>\n",
       "      <td>0</td>\n",
       "      <td>0</td>\n",
       "      <td>0</td>\n",
       "      <td>0</td>\n",
       "      <td>0</td>\n",
       "      <td>0</td>\n",
       "      <td>0</td>\n",
       "    </tr>\n",
       "    <tr>\n",
       "      <th>5085032022</th>\n",
       "      <td>0</td>\n",
       "      <td>0</td>\n",
       "      <td>1322 Hauser Blvd</td>\n",
       "      <td>0</td>\n",
       "      <td>0</td>\n",
       "      <td>1</td>\n",
       "      <td>651485</td>\n",
       "      <td>521193</td>\n",
       "      <td>130292</td>\n",
       "      <td>0</td>\n",
       "      <td>...</td>\n",
       "      <td>0</td>\n",
       "      <td>0</td>\n",
       "      <td>0</td>\n",
       "      <td>0</td>\n",
       "      <td>0</td>\n",
       "      <td>0</td>\n",
       "      <td>0</td>\n",
       "      <td>0</td>\n",
       "      <td>0</td>\n",
       "      <td>0</td>\n",
       "    </tr>\n",
       "  </tbody>\n",
       "</table>\n",
       "<p>3 rows × 57 columns</p>\n",
       "</div>"
      ],
      "text/plain": [
       "            Owned by Trust?  Owned by Business?          SITEADDRESS  \\\n",
       "PARCEL                                                                 \n",
       "5085010022                0                   0  1030 S Dunsmuir Ave   \n",
       "5085033008                0                   0   1364 S Ridgeley Dr   \n",
       "5085032022                0                   0     1322 Hauser Blvd   \n",
       "\n",
       "            MAIL DIFFERENT FROM SITE?  MAIL OUTSIDE CA?  TITLECO1  ASSDTOTAL  \\\n",
       "PARCEL                                                                         \n",
       "5085010022                          0                 0         1    1157385   \n",
       "5085033008                          1                 0         0      57047   \n",
       "5085032022                          0                 0         1     651485   \n",
       "\n",
       "            ASSDLAND  ASSDSTCT  ASSDOTHR  ...  NAME CHANGE  Other  \\\n",
       "PARCEL                                    ...                       \n",
       "5085010022    925908    231477         0  ...            0      0   \n",
       "5085033008     40994     16053         0  ...            0      0   \n",
       "5085032022    521193    130292         0  ...            0      0   \n",
       "\n",
       "            PARTNERSHIP  PERSONAL REP  QUIT CLAIM  RE-RECORD  TAX DEED  \\\n",
       "PARCEL                                                                   \n",
       "5085010022            0             0           0          0         0   \n",
       "5085033008            0             0           0          0         0   \n",
       "5085032022            0             0           0          0         0   \n",
       "\n",
       "            TRUST TRANSFER  TRUSTEES  WARRANTY  \n",
       "PARCEL                                          \n",
       "5085010022               0         0         0  \n",
       "5085033008               0         0         0  \n",
       "5085032022               0         0         0  \n",
       "\n",
       "[3 rows x 57 columns]"
      ]
     },
     "execution_count": 179,
     "metadata": {},
     "output_type": "execute_result"
    }
   ],
   "source": [
    "# Make sure our dataframe is only SFR's so exclude every property that has an '#' in its site address\n",
    "\n",
    "Beverly_Grove_df = Beverly_Grove_df[~Beverly_Grove_df['SITEADDRESS'].str.contains('#')]\n",
    "Beverly_Grove_df.head(3)"
   ]
  },
  {
   "cell_type": "code",
   "execution_count": 180,
   "metadata": {},
   "outputs": [],
   "source": [
    "# Now drop the SiteAddress column\n",
    "Beverly_Grove_df.drop(['SITEADDRESS'], axis=1, inplace=True)"
   ]
  },
  {
   "cell_type": "code",
   "execution_count": 181,
   "metadata": {},
   "outputs": [
    {
     "data": {
      "text/html": [
       "<div>\n",
       "<style scoped>\n",
       "    .dataframe tbody tr th:only-of-type {\n",
       "        vertical-align: middle;\n",
       "    }\n",
       "\n",
       "    .dataframe tbody tr th {\n",
       "        vertical-align: top;\n",
       "    }\n",
       "\n",
       "    .dataframe thead th {\n",
       "        text-align: right;\n",
       "    }\n",
       "</style>\n",
       "<table border=\"1\" class=\"dataframe\">\n",
       "  <thead>\n",
       "    <tr style=\"text-align: right;\">\n",
       "      <th></th>\n",
       "      <th>Owned by Trust?</th>\n",
       "      <th>Owned by Business?</th>\n",
       "      <th>MAIL DIFFERENT FROM SITE?</th>\n",
       "      <th>MAIL OUTSIDE CA?</th>\n",
       "      <th>TITLECO1</th>\n",
       "      <th>ASSDTOTAL</th>\n",
       "      <th>ASSDLAND</th>\n",
       "      <th>ASSDSTCT</th>\n",
       "      <th>ASSDOTHR</th>\n",
       "      <th>EXEMPTCD</th>\n",
       "      <th>...</th>\n",
       "      <th>NAME CHANGE</th>\n",
       "      <th>Other</th>\n",
       "      <th>PARTNERSHIP</th>\n",
       "      <th>PERSONAL REP</th>\n",
       "      <th>QUIT CLAIM</th>\n",
       "      <th>RE-RECORD</th>\n",
       "      <th>TAX DEED</th>\n",
       "      <th>TRUST TRANSFER</th>\n",
       "      <th>TRUSTEES</th>\n",
       "      <th>WARRANTY</th>\n",
       "    </tr>\n",
       "    <tr>\n",
       "      <th>PARCEL</th>\n",
       "      <th></th>\n",
       "      <th></th>\n",
       "      <th></th>\n",
       "      <th></th>\n",
       "      <th></th>\n",
       "      <th></th>\n",
       "      <th></th>\n",
       "      <th></th>\n",
       "      <th></th>\n",
       "      <th></th>\n",
       "      <th></th>\n",
       "      <th></th>\n",
       "      <th></th>\n",
       "      <th></th>\n",
       "      <th></th>\n",
       "      <th></th>\n",
       "      <th></th>\n",
       "      <th></th>\n",
       "      <th></th>\n",
       "      <th></th>\n",
       "      <th></th>\n",
       "    </tr>\n",
       "  </thead>\n",
       "  <tbody>\n",
       "    <tr>\n",
       "      <th>5085010022</th>\n",
       "      <td>0</td>\n",
       "      <td>0</td>\n",
       "      <td>0</td>\n",
       "      <td>0</td>\n",
       "      <td>1</td>\n",
       "      <td>1157385</td>\n",
       "      <td>925908</td>\n",
       "      <td>231477</td>\n",
       "      <td>0</td>\n",
       "      <td>0</td>\n",
       "      <td>...</td>\n",
       "      <td>0</td>\n",
       "      <td>0</td>\n",
       "      <td>0</td>\n",
       "      <td>0</td>\n",
       "      <td>0</td>\n",
       "      <td>0</td>\n",
       "      <td>0</td>\n",
       "      <td>0</td>\n",
       "      <td>0</td>\n",
       "      <td>0</td>\n",
       "    </tr>\n",
       "    <tr>\n",
       "      <th>5085033008</th>\n",
       "      <td>0</td>\n",
       "      <td>0</td>\n",
       "      <td>1</td>\n",
       "      <td>0</td>\n",
       "      <td>0</td>\n",
       "      <td>57047</td>\n",
       "      <td>40994</td>\n",
       "      <td>16053</td>\n",
       "      <td>0</td>\n",
       "      <td>0</td>\n",
       "      <td>...</td>\n",
       "      <td>0</td>\n",
       "      <td>0</td>\n",
       "      <td>0</td>\n",
       "      <td>0</td>\n",
       "      <td>0</td>\n",
       "      <td>0</td>\n",
       "      <td>0</td>\n",
       "      <td>0</td>\n",
       "      <td>0</td>\n",
       "      <td>0</td>\n",
       "    </tr>\n",
       "    <tr>\n",
       "      <th>5085032022</th>\n",
       "      <td>0</td>\n",
       "      <td>0</td>\n",
       "      <td>0</td>\n",
       "      <td>0</td>\n",
       "      <td>1</td>\n",
       "      <td>651485</td>\n",
       "      <td>521193</td>\n",
       "      <td>130292</td>\n",
       "      <td>0</td>\n",
       "      <td>1</td>\n",
       "      <td>...</td>\n",
       "      <td>0</td>\n",
       "      <td>0</td>\n",
       "      <td>0</td>\n",
       "      <td>0</td>\n",
       "      <td>0</td>\n",
       "      <td>0</td>\n",
       "      <td>0</td>\n",
       "      <td>0</td>\n",
       "      <td>0</td>\n",
       "      <td>0</td>\n",
       "    </tr>\n",
       "  </tbody>\n",
       "</table>\n",
       "<p>3 rows × 56 columns</p>\n",
       "</div>"
      ],
      "text/plain": [
       "            Owned by Trust?  Owned by Business?  MAIL DIFFERENT FROM SITE?  \\\n",
       "PARCEL                                                                       \n",
       "5085010022                0                   0                          0   \n",
       "5085033008                0                   0                          1   \n",
       "5085032022                0                   0                          0   \n",
       "\n",
       "            MAIL OUTSIDE CA?  TITLECO1  ASSDTOTAL  ASSDLAND  ASSDSTCT  \\\n",
       "PARCEL                                                                  \n",
       "5085010022                 0         1    1157385    925908    231477   \n",
       "5085033008                 0         0      57047     40994     16053   \n",
       "5085032022                 0         1     651485    521193    130292   \n",
       "\n",
       "            ASSDOTHR  EXEMPTCD  ...  NAME CHANGE  Other  PARTNERSHIP  \\\n",
       "PARCEL                          ...                                    \n",
       "5085010022         0         0  ...            0      0            0   \n",
       "5085033008         0         0  ...            0      0            0   \n",
       "5085032022         0         1  ...            0      0            0   \n",
       "\n",
       "            PERSONAL REP  QUIT CLAIM  RE-RECORD  TAX DEED  TRUST TRANSFER  \\\n",
       "PARCEL                                                                      \n",
       "5085010022             0           0          0         0               0   \n",
       "5085033008             0           0          0         0               0   \n",
       "5085032022             0           0          0         0               0   \n",
       "\n",
       "            TRUSTEES  WARRANTY  \n",
       "PARCEL                          \n",
       "5085010022         0         0  \n",
       "5085033008         0         0  \n",
       "5085032022         0         0  \n",
       "\n",
       "[3 rows x 56 columns]"
      ]
     },
     "execution_count": 181,
     "metadata": {},
     "output_type": "execute_result"
    }
   ],
   "source": [
    "Beverly_Grove_df.head(3)"
   ]
  },
  {
   "cell_type": "code",
   "execution_count": 182,
   "metadata": {},
   "outputs": [],
   "source": [
    "# Step 1: Create our X and y\n",
    "\n",
    "y = Beverly_Grove_df['Did it sell?']\n",
    "X = Beverly_Grove_df.drop(['Did it sell?'], 1)"
   ]
  },
  {
   "cell_type": "code",
   "execution_count": 183,
   "metadata": {},
   "outputs": [
    {
     "data": {
      "text/plain": [
       "array([5085010022, 5085033008, 5085032022, ..., 5510018012, 5510017023,\n",
       "       5514001029])"
      ]
     },
     "execution_count": 183,
     "metadata": {},
     "output_type": "execute_result"
    }
   ],
   "source": [
    "APN = Beverly_Grove_df.index.values\n",
    "APN"
   ]
  },
  {
   "cell_type": "code",
   "execution_count": 184,
   "metadata": {},
   "outputs": [],
   "source": [
    "# Step 2: Use PCA to reduce dimension to three principal components.\n",
    "from sklearn.decomposition import PCA\n",
    "\n",
    "pca = PCA(n_components=3)\n",
    "X_pca = pca.fit_transform(X)"
   ]
  },
  {
   "cell_type": "code",
   "execution_count": 185,
   "metadata": {},
   "outputs": [
    {
     "data": {
      "text/plain": [
       "array([[ 1037442.40088322,   222949.06197811,    99008.44211245],\n",
       "       [ -932464.7141857 ,   251848.62995472,   -90439.60157539],\n",
       "       [ -393042.03210882,  -290764.40544305,   -27460.470998  ],\n",
       "       ...,\n",
       "       [ -314557.49024403,  -369458.72763661,   -27020.9155848 ],\n",
       "       [ 2038277.22062523,   419857.55993186, -1288530.60059949],\n",
       "       [ -962055.78924987,   281605.81570128,   -93574.26470819]])"
      ]
     },
     "execution_count": 185,
     "metadata": {},
     "output_type": "execute_result"
    }
   ],
   "source": [
    "X_pca"
   ]
  },
  {
   "cell_type": "code",
   "execution_count": 186,
   "metadata": {},
   "outputs": [],
   "source": [
    "# Step 3: Train, test, split\n",
    "\n",
    "X_train, X_test, y_train, y_test = train_test_split(X_pca, y, random_state=78, stratify=y)"
   ]
  },
  {
   "cell_type": "code",
   "execution_count": 187,
   "metadata": {},
   "outputs": [],
   "source": [
    "# Step 4: Scale our data\n",
    "\n",
    "# Create the StandardScaler instance\n",
    "scaler = StandardScaler()\n",
    "\n",
    "# Fit our scaler, named 'scaler' to our data, which produces a new StandardScaler object\n",
    "# which we call 'X_scaler'\n",
    "X_scaler = scaler.fit(X_train)\n",
    "\n",
    "# Scale the data\n",
    "X_train_scaled = X_scaler.transform(X_train)\n",
    "X_test_scaled = X_scaler.transform(X_test)"
   ]
  },
  {
   "cell_type": "code",
   "execution_count": 188,
   "metadata": {},
   "outputs": [],
   "source": [
    "X_train_scaled_APN = []"
   ]
  },
  {
   "cell_type": "code",
   "execution_count": 189,
   "metadata": {},
   "outputs": [
    {
     "data": {
      "text/plain": [
       "Counter({0: 241, 1: 241})"
      ]
     },
     "execution_count": 189,
     "metadata": {},
     "output_type": "execute_result"
    }
   ],
   "source": [
    "# Fit the data using `ClusterCentroids` and check the count of each class\n",
    "from imblearn.under_sampling import ClusterCentroids\n",
    "cc = ClusterCentroids(random_state=1)\n",
    "X_CC, y_CC = cc.fit_resample(X_train_scaled, y_train)\n",
    "Counter(y_CC)"
   ]
  },
  {
   "cell_type": "code",
   "execution_count": 190,
   "metadata": {},
   "outputs": [
    {
     "data": {
      "text/plain": [
       "LogisticRegression(random_state=78)"
      ]
     },
     "execution_count": 190,
     "metadata": {},
     "output_type": "execute_result"
    }
   ],
   "source": [
    "# Logistic regression using cluster centroid undersampled data\n",
    "from sklearn.linear_model import LogisticRegression\n",
    "model_9 = LogisticRegression(solver='lbfgs', random_state=78)\n",
    "model_9.fit(X_CC, y_CC)"
   ]
  },
  {
   "cell_type": "code",
   "execution_count": 191,
   "metadata": {},
   "outputs": [
    {
     "data": {
      "text/plain": [
       "array([[229, 867],\n",
       "       [ 18,  63]])"
      ]
     },
     "execution_count": 191,
     "metadata": {},
     "output_type": "execute_result"
    }
   ],
   "source": [
    "# Display the confusion matrix\n",
    "from sklearn.metrics import confusion_matrix\n",
    "y_pred = model_9.predict(X_test_scaled)\n",
    "confusion_matrix(y_test, y_pred)"
   ]
  },
  {
   "cell_type": "code",
   "execution_count": 192,
   "metadata": {},
   "outputs": [
    {
     "data": {
      "text/plain": [
       "0.49335969180859696"
      ]
     },
     "execution_count": 192,
     "metadata": {},
     "output_type": "execute_result"
    }
   ],
   "source": [
    "# Calculate the balanced accuracy score\n",
    "from sklearn.metrics import balanced_accuracy_score\n",
    "balanced_accuracy_score(y_test, y_pred)"
   ]
  },
  {
   "cell_type": "code",
   "execution_count": 193,
   "metadata": {},
   "outputs": [
    {
     "name": "stdout",
     "output_type": "stream",
     "text": [
      " PCA + Centroid Clustering + Logistic Regression was: 0.248\n"
     ]
    }
   ],
   "source": [
    "print(f\" PCA + Centroid Clustering + Logistic Regression was: {accuracy_score(y_test, y_pred):.3f}\")"
   ]
  },
  {
   "cell_type": "code",
   "execution_count": 194,
   "metadata": {},
   "outputs": [
    {
     "data": {
      "text/plain": [
       "0.3261352171412433"
      ]
     },
     "execution_count": 194,
     "metadata": {},
     "output_type": "execute_result"
    }
   ],
   "source": [
    "f1_score(y_test, y_pred, average=\"weighted\")"
   ]
  },
  {
   "cell_type": "code",
   "execution_count": 195,
   "metadata": {},
   "outputs": [
    {
     "name": "stdout",
     "output_type": "stream",
     "text": [
      "                   pre       rec       spe        f1       geo       iba       sup\n",
      "\n",
      "          0       0.93      0.21      0.78      0.34      0.40      0.15      1096\n",
      "          1       0.07      0.78      0.21      0.12      0.40      0.17        81\n",
      "\n",
      "avg / total       0.87      0.25      0.74      0.33      0.40      0.15      1177\n",
      "\n"
     ]
    }
   ],
   "source": [
    "# Print the imbalanced classification report\n",
    "from imblearn.metrics import classification_report_imbalanced\n",
    "print(classification_report_imbalanced(y_test, y_pred))"
   ]
  },
  {
   "cell_type": "code",
   "execution_count": 196,
   "metadata": {},
   "outputs": [],
   "source": [
    "# Note how using the Centroid Clusters creates a model that predicts a much higher number of sales. \n",
    "# When we decrease the number of non-sale properties, the model curiously predicts more sale properties. \n",
    "# What does this imply? Is it that the sale properties are indistinct from the non-sales, and evening out the classes, \n",
    "# creates an increased likelihood predicting sale? "
   ]
  },
  {
   "cell_type": "markdown",
   "metadata": {},
   "source": [
    "## Attempt 16: PCA + Oversampling (Random Oversampling) + Logistic Regression"
   ]
  },
  {
   "cell_type": "code",
   "execution_count": 159,
   "metadata": {},
   "outputs": [
    {
     "data": {
      "text/html": [
       "<div>\n",
       "<style scoped>\n",
       "    .dataframe tbody tr th:only-of-type {\n",
       "        vertical-align: middle;\n",
       "    }\n",
       "\n",
       "    .dataframe tbody tr th {\n",
       "        vertical-align: top;\n",
       "    }\n",
       "\n",
       "    .dataframe thead th {\n",
       "        text-align: right;\n",
       "    }\n",
       "</style>\n",
       "<table border=\"1\" class=\"dataframe\">\n",
       "  <thead>\n",
       "    <tr style=\"text-align: right;\">\n",
       "      <th></th>\n",
       "      <th>Owned by Trust?</th>\n",
       "      <th>Owned by Business?</th>\n",
       "      <th>SITEADDRESS</th>\n",
       "      <th>MAIL DIFFERENT FROM SITE?</th>\n",
       "      <th>MAIL OUTSIDE CA?</th>\n",
       "      <th>TITLECO1</th>\n",
       "      <th>ASSDTOTAL</th>\n",
       "      <th>ASSDLAND</th>\n",
       "      <th>ASSDSTCT</th>\n",
       "      <th>ASSDOTHR</th>\n",
       "      <th>...</th>\n",
       "      <th>NAME CHANGE</th>\n",
       "      <th>Other</th>\n",
       "      <th>PARTNERSHIP</th>\n",
       "      <th>PERSONAL REP</th>\n",
       "      <th>QUIT CLAIM</th>\n",
       "      <th>RE-RECORD</th>\n",
       "      <th>TAX DEED</th>\n",
       "      <th>TRUST TRANSFER</th>\n",
       "      <th>TRUSTEES</th>\n",
       "      <th>WARRANTY</th>\n",
       "    </tr>\n",
       "    <tr>\n",
       "      <th>PARCEL</th>\n",
       "      <th></th>\n",
       "      <th></th>\n",
       "      <th></th>\n",
       "      <th></th>\n",
       "      <th></th>\n",
       "      <th></th>\n",
       "      <th></th>\n",
       "      <th></th>\n",
       "      <th></th>\n",
       "      <th></th>\n",
       "      <th></th>\n",
       "      <th></th>\n",
       "      <th></th>\n",
       "      <th></th>\n",
       "      <th></th>\n",
       "      <th></th>\n",
       "      <th></th>\n",
       "      <th></th>\n",
       "      <th></th>\n",
       "      <th></th>\n",
       "      <th></th>\n",
       "    </tr>\n",
       "  </thead>\n",
       "  <tbody>\n",
       "    <tr>\n",
       "      <th>5085010022</th>\n",
       "      <td>0</td>\n",
       "      <td>0</td>\n",
       "      <td>1030 S Dunsmuir Ave</td>\n",
       "      <td>0</td>\n",
       "      <td>0</td>\n",
       "      <td>1</td>\n",
       "      <td>1157385</td>\n",
       "      <td>925908</td>\n",
       "      <td>231477</td>\n",
       "      <td>0</td>\n",
       "      <td>...</td>\n",
       "      <td>0</td>\n",
       "      <td>0</td>\n",
       "      <td>0</td>\n",
       "      <td>0</td>\n",
       "      <td>0</td>\n",
       "      <td>0</td>\n",
       "      <td>0</td>\n",
       "      <td>0</td>\n",
       "      <td>0</td>\n",
       "      <td>0</td>\n",
       "    </tr>\n",
       "    <tr>\n",
       "      <th>5085033008</th>\n",
       "      <td>0</td>\n",
       "      <td>0</td>\n",
       "      <td>1364 S Ridgeley Dr</td>\n",
       "      <td>1</td>\n",
       "      <td>0</td>\n",
       "      <td>0</td>\n",
       "      <td>57047</td>\n",
       "      <td>40994</td>\n",
       "      <td>16053</td>\n",
       "      <td>0</td>\n",
       "      <td>...</td>\n",
       "      <td>0</td>\n",
       "      <td>0</td>\n",
       "      <td>0</td>\n",
       "      <td>0</td>\n",
       "      <td>0</td>\n",
       "      <td>0</td>\n",
       "      <td>0</td>\n",
       "      <td>0</td>\n",
       "      <td>0</td>\n",
       "      <td>0</td>\n",
       "    </tr>\n",
       "    <tr>\n",
       "      <th>5085032022</th>\n",
       "      <td>0</td>\n",
       "      <td>0</td>\n",
       "      <td>1322 Hauser Blvd</td>\n",
       "      <td>0</td>\n",
       "      <td>0</td>\n",
       "      <td>1</td>\n",
       "      <td>651485</td>\n",
       "      <td>521193</td>\n",
       "      <td>130292</td>\n",
       "      <td>0</td>\n",
       "      <td>...</td>\n",
       "      <td>0</td>\n",
       "      <td>0</td>\n",
       "      <td>0</td>\n",
       "      <td>0</td>\n",
       "      <td>0</td>\n",
       "      <td>0</td>\n",
       "      <td>0</td>\n",
       "      <td>0</td>\n",
       "      <td>0</td>\n",
       "      <td>0</td>\n",
       "    </tr>\n",
       "    <tr>\n",
       "      <th>5510005006</th>\n",
       "      <td>1</td>\n",
       "      <td>0</td>\n",
       "      <td>6727 Drexel Ave</td>\n",
       "      <td>1</td>\n",
       "      <td>0</td>\n",
       "      <td>0</td>\n",
       "      <td>85697</td>\n",
       "      <td>74539</td>\n",
       "      <td>11158</td>\n",
       "      <td>0</td>\n",
       "      <td>...</td>\n",
       "      <td>0</td>\n",
       "      <td>0</td>\n",
       "      <td>0</td>\n",
       "      <td>0</td>\n",
       "      <td>0</td>\n",
       "      <td>0</td>\n",
       "      <td>0</td>\n",
       "      <td>0</td>\n",
       "      <td>0</td>\n",
       "      <td>0</td>\n",
       "    </tr>\n",
       "    <tr>\n",
       "      <th>5089024002</th>\n",
       "      <td>0</td>\n",
       "      <td>0</td>\n",
       "      <td>942 S Cochran Ave</td>\n",
       "      <td>0</td>\n",
       "      <td>0</td>\n",
       "      <td>0</td>\n",
       "      <td>62487</td>\n",
       "      <td>42013</td>\n",
       "      <td>20474</td>\n",
       "      <td>0</td>\n",
       "      <td>...</td>\n",
       "      <td>0</td>\n",
       "      <td>0</td>\n",
       "      <td>0</td>\n",
       "      <td>0</td>\n",
       "      <td>0</td>\n",
       "      <td>0</td>\n",
       "      <td>0</td>\n",
       "      <td>0</td>\n",
       "      <td>0</td>\n",
       "      <td>0</td>\n",
       "    </tr>\n",
       "  </tbody>\n",
       "</table>\n",
       "<p>5 rows × 57 columns</p>\n",
       "</div>"
      ],
      "text/plain": [
       "            Owned by Trust?  Owned by Business?          SITEADDRESS  \\\n",
       "PARCEL                                                                 \n",
       "5085010022                0                   0  1030 S Dunsmuir Ave   \n",
       "5085033008                0                   0   1364 S Ridgeley Dr   \n",
       "5085032022                0                   0     1322 Hauser Blvd   \n",
       "5510005006                1                   0      6727 Drexel Ave   \n",
       "5089024002                0                   0    942 S Cochran Ave   \n",
       "\n",
       "            MAIL DIFFERENT FROM SITE?  MAIL OUTSIDE CA?  TITLECO1  ASSDTOTAL  \\\n",
       "PARCEL                                                                         \n",
       "5085010022                          0                 0         1    1157385   \n",
       "5085033008                          1                 0         0      57047   \n",
       "5085032022                          0                 0         1     651485   \n",
       "5510005006                          1                 0         0      85697   \n",
       "5089024002                          0                 0         0      62487   \n",
       "\n",
       "            ASSDLAND  ASSDSTCT  ASSDOTHR  ...  NAME CHANGE  Other  \\\n",
       "PARCEL                                    ...                       \n",
       "5085010022    925908    231477         0  ...            0      0   \n",
       "5085033008     40994     16053         0  ...            0      0   \n",
       "5085032022    521193    130292         0  ...            0      0   \n",
       "5510005006     74539     11158         0  ...            0      0   \n",
       "5089024002     42013     20474         0  ...            0      0   \n",
       "\n",
       "            PARTNERSHIP  PERSONAL REP  QUIT CLAIM  RE-RECORD  TAX DEED  \\\n",
       "PARCEL                                                                   \n",
       "5085010022            0             0           0          0         0   \n",
       "5085033008            0             0           0          0         0   \n",
       "5085032022            0             0           0          0         0   \n",
       "5510005006            0             0           0          0         0   \n",
       "5089024002            0             0           0          0         0   \n",
       "\n",
       "            TRUST TRANSFER  TRUSTEES  WARRANTY  \n",
       "PARCEL                                          \n",
       "5085010022               0         0         0  \n",
       "5085033008               0         0         0  \n",
       "5085032022               0         0         0  \n",
       "5510005006               0         0         0  \n",
       "5089024002               0         0         0  \n",
       "\n",
       "[5 rows x 57 columns]"
      ]
     },
     "execution_count": 159,
     "metadata": {},
     "output_type": "execute_result"
    }
   ],
   "source": [
    "# bring in our dataframe\n",
    "\n",
    "Beverly_Grove_df = pd.read_csv('Beverly_Grove_Cleaned.csv', index_col='PARCEL')\n",
    "Beverly_Grove_df.head()"
   ]
  },
  {
   "cell_type": "code",
   "execution_count": 160,
   "metadata": {},
   "outputs": [],
   "source": [
    "# drop any nulls\n",
    "\n",
    "Beverly_Grove_df = Beverly_Grove_df.dropna()"
   ]
  },
  {
   "cell_type": "code",
   "execution_count": 161,
   "metadata": {},
   "outputs": [],
   "source": [
    "# Change the datatype of these two columns into ints\n",
    "\n",
    "Beverly_Grove_df['TAXAMT'] = Beverly_Grove_df['TAXAMT'].astype(int)\n",
    "Beverly_Grove_df['EFFYRBLT'] = Beverly_Grove_df['EFFYRBLT'].astype(int)"
   ]
  },
  {
   "cell_type": "code",
   "execution_count": 162,
   "metadata": {},
   "outputs": [
    {
     "data": {
      "text/html": [
       "<div>\n",
       "<style scoped>\n",
       "    .dataframe tbody tr th:only-of-type {\n",
       "        vertical-align: middle;\n",
       "    }\n",
       "\n",
       "    .dataframe tbody tr th {\n",
       "        vertical-align: top;\n",
       "    }\n",
       "\n",
       "    .dataframe thead th {\n",
       "        text-align: right;\n",
       "    }\n",
       "</style>\n",
       "<table border=\"1\" class=\"dataframe\">\n",
       "  <thead>\n",
       "    <tr style=\"text-align: right;\">\n",
       "      <th></th>\n",
       "      <th>Owned by Trust?</th>\n",
       "      <th>Owned by Business?</th>\n",
       "      <th>SITEADDRESS</th>\n",
       "      <th>MAIL DIFFERENT FROM SITE?</th>\n",
       "      <th>MAIL OUTSIDE CA?</th>\n",
       "      <th>TITLECO1</th>\n",
       "      <th>ASSDTOTAL</th>\n",
       "      <th>ASSDLAND</th>\n",
       "      <th>ASSDSTCT</th>\n",
       "      <th>ASSDOTHR</th>\n",
       "      <th>...</th>\n",
       "      <th>NAME CHANGE</th>\n",
       "      <th>Other</th>\n",
       "      <th>PARTNERSHIP</th>\n",
       "      <th>PERSONAL REP</th>\n",
       "      <th>QUIT CLAIM</th>\n",
       "      <th>RE-RECORD</th>\n",
       "      <th>TAX DEED</th>\n",
       "      <th>TRUST TRANSFER</th>\n",
       "      <th>TRUSTEES</th>\n",
       "      <th>WARRANTY</th>\n",
       "    </tr>\n",
       "    <tr>\n",
       "      <th>PARCEL</th>\n",
       "      <th></th>\n",
       "      <th></th>\n",
       "      <th></th>\n",
       "      <th></th>\n",
       "      <th></th>\n",
       "      <th></th>\n",
       "      <th></th>\n",
       "      <th></th>\n",
       "      <th></th>\n",
       "      <th></th>\n",
       "      <th></th>\n",
       "      <th></th>\n",
       "      <th></th>\n",
       "      <th></th>\n",
       "      <th></th>\n",
       "      <th></th>\n",
       "      <th></th>\n",
       "      <th></th>\n",
       "      <th></th>\n",
       "      <th></th>\n",
       "      <th></th>\n",
       "    </tr>\n",
       "  </thead>\n",
       "  <tbody>\n",
       "    <tr>\n",
       "      <th>5085010022</th>\n",
       "      <td>0</td>\n",
       "      <td>0</td>\n",
       "      <td>1030 S Dunsmuir Ave</td>\n",
       "      <td>0</td>\n",
       "      <td>0</td>\n",
       "      <td>1</td>\n",
       "      <td>1157385</td>\n",
       "      <td>925908</td>\n",
       "      <td>231477</td>\n",
       "      <td>0</td>\n",
       "      <td>...</td>\n",
       "      <td>0</td>\n",
       "      <td>0</td>\n",
       "      <td>0</td>\n",
       "      <td>0</td>\n",
       "      <td>0</td>\n",
       "      <td>0</td>\n",
       "      <td>0</td>\n",
       "      <td>0</td>\n",
       "      <td>0</td>\n",
       "      <td>0</td>\n",
       "    </tr>\n",
       "    <tr>\n",
       "      <th>5085033008</th>\n",
       "      <td>0</td>\n",
       "      <td>0</td>\n",
       "      <td>1364 S Ridgeley Dr</td>\n",
       "      <td>1</td>\n",
       "      <td>0</td>\n",
       "      <td>0</td>\n",
       "      <td>57047</td>\n",
       "      <td>40994</td>\n",
       "      <td>16053</td>\n",
       "      <td>0</td>\n",
       "      <td>...</td>\n",
       "      <td>0</td>\n",
       "      <td>0</td>\n",
       "      <td>0</td>\n",
       "      <td>0</td>\n",
       "      <td>0</td>\n",
       "      <td>0</td>\n",
       "      <td>0</td>\n",
       "      <td>0</td>\n",
       "      <td>0</td>\n",
       "      <td>0</td>\n",
       "    </tr>\n",
       "    <tr>\n",
       "      <th>5085032022</th>\n",
       "      <td>0</td>\n",
       "      <td>0</td>\n",
       "      <td>1322 Hauser Blvd</td>\n",
       "      <td>0</td>\n",
       "      <td>0</td>\n",
       "      <td>1</td>\n",
       "      <td>651485</td>\n",
       "      <td>521193</td>\n",
       "      <td>130292</td>\n",
       "      <td>0</td>\n",
       "      <td>...</td>\n",
       "      <td>0</td>\n",
       "      <td>0</td>\n",
       "      <td>0</td>\n",
       "      <td>0</td>\n",
       "      <td>0</td>\n",
       "      <td>0</td>\n",
       "      <td>0</td>\n",
       "      <td>0</td>\n",
       "      <td>0</td>\n",
       "      <td>0</td>\n",
       "    </tr>\n",
       "  </tbody>\n",
       "</table>\n",
       "<p>3 rows × 57 columns</p>\n",
       "</div>"
      ],
      "text/plain": [
       "            Owned by Trust?  Owned by Business?          SITEADDRESS  \\\n",
       "PARCEL                                                                 \n",
       "5085010022                0                   0  1030 S Dunsmuir Ave   \n",
       "5085033008                0                   0   1364 S Ridgeley Dr   \n",
       "5085032022                0                   0     1322 Hauser Blvd   \n",
       "\n",
       "            MAIL DIFFERENT FROM SITE?  MAIL OUTSIDE CA?  TITLECO1  ASSDTOTAL  \\\n",
       "PARCEL                                                                         \n",
       "5085010022                          0                 0         1    1157385   \n",
       "5085033008                          1                 0         0      57047   \n",
       "5085032022                          0                 0         1     651485   \n",
       "\n",
       "            ASSDLAND  ASSDSTCT  ASSDOTHR  ...  NAME CHANGE  Other  \\\n",
       "PARCEL                                    ...                       \n",
       "5085010022    925908    231477         0  ...            0      0   \n",
       "5085033008     40994     16053         0  ...            0      0   \n",
       "5085032022    521193    130292         0  ...            0      0   \n",
       "\n",
       "            PARTNERSHIP  PERSONAL REP  QUIT CLAIM  RE-RECORD  TAX DEED  \\\n",
       "PARCEL                                                                   \n",
       "5085010022            0             0           0          0         0   \n",
       "5085033008            0             0           0          0         0   \n",
       "5085032022            0             0           0          0         0   \n",
       "\n",
       "            TRUST TRANSFER  TRUSTEES  WARRANTY  \n",
       "PARCEL                                          \n",
       "5085010022               0         0         0  \n",
       "5085033008               0         0         0  \n",
       "5085032022               0         0         0  \n",
       "\n",
       "[3 rows x 57 columns]"
      ]
     },
     "execution_count": 162,
     "metadata": {},
     "output_type": "execute_result"
    }
   ],
   "source": [
    "# Make sure our dataframe is only SFR's so exclude every property that has an '#' in its site address\n",
    "\n",
    "Beverly_Grove_df = Beverly_Grove_df[~Beverly_Grove_df['SITEADDRESS'].str.contains('#')]\n",
    "Beverly_Grove_df.head(3)"
   ]
  },
  {
   "cell_type": "code",
   "execution_count": 163,
   "metadata": {},
   "outputs": [],
   "source": [
    "# Now drop the SiteAddress column\n",
    "Beverly_Grove_df.drop(['SITEADDRESS'], axis=1, inplace=True)"
   ]
  },
  {
   "cell_type": "code",
   "execution_count": 164,
   "metadata": {},
   "outputs": [
    {
     "data": {
      "text/html": [
       "<div>\n",
       "<style scoped>\n",
       "    .dataframe tbody tr th:only-of-type {\n",
       "        vertical-align: middle;\n",
       "    }\n",
       "\n",
       "    .dataframe tbody tr th {\n",
       "        vertical-align: top;\n",
       "    }\n",
       "\n",
       "    .dataframe thead th {\n",
       "        text-align: right;\n",
       "    }\n",
       "</style>\n",
       "<table border=\"1\" class=\"dataframe\">\n",
       "  <thead>\n",
       "    <tr style=\"text-align: right;\">\n",
       "      <th></th>\n",
       "      <th>Owned by Trust?</th>\n",
       "      <th>Owned by Business?</th>\n",
       "      <th>MAIL DIFFERENT FROM SITE?</th>\n",
       "      <th>MAIL OUTSIDE CA?</th>\n",
       "      <th>TITLECO1</th>\n",
       "      <th>ASSDTOTAL</th>\n",
       "      <th>ASSDLAND</th>\n",
       "      <th>ASSDSTCT</th>\n",
       "      <th>ASSDOTHR</th>\n",
       "      <th>EXEMPTCD</th>\n",
       "      <th>...</th>\n",
       "      <th>NAME CHANGE</th>\n",
       "      <th>Other</th>\n",
       "      <th>PARTNERSHIP</th>\n",
       "      <th>PERSONAL REP</th>\n",
       "      <th>QUIT CLAIM</th>\n",
       "      <th>RE-RECORD</th>\n",
       "      <th>TAX DEED</th>\n",
       "      <th>TRUST TRANSFER</th>\n",
       "      <th>TRUSTEES</th>\n",
       "      <th>WARRANTY</th>\n",
       "    </tr>\n",
       "    <tr>\n",
       "      <th>PARCEL</th>\n",
       "      <th></th>\n",
       "      <th></th>\n",
       "      <th></th>\n",
       "      <th></th>\n",
       "      <th></th>\n",
       "      <th></th>\n",
       "      <th></th>\n",
       "      <th></th>\n",
       "      <th></th>\n",
       "      <th></th>\n",
       "      <th></th>\n",
       "      <th></th>\n",
       "      <th></th>\n",
       "      <th></th>\n",
       "      <th></th>\n",
       "      <th></th>\n",
       "      <th></th>\n",
       "      <th></th>\n",
       "      <th></th>\n",
       "      <th></th>\n",
       "      <th></th>\n",
       "    </tr>\n",
       "  </thead>\n",
       "  <tbody>\n",
       "    <tr>\n",
       "      <th>5085010022</th>\n",
       "      <td>0</td>\n",
       "      <td>0</td>\n",
       "      <td>0</td>\n",
       "      <td>0</td>\n",
       "      <td>1</td>\n",
       "      <td>1157385</td>\n",
       "      <td>925908</td>\n",
       "      <td>231477</td>\n",
       "      <td>0</td>\n",
       "      <td>0</td>\n",
       "      <td>...</td>\n",
       "      <td>0</td>\n",
       "      <td>0</td>\n",
       "      <td>0</td>\n",
       "      <td>0</td>\n",
       "      <td>0</td>\n",
       "      <td>0</td>\n",
       "      <td>0</td>\n",
       "      <td>0</td>\n",
       "      <td>0</td>\n",
       "      <td>0</td>\n",
       "    </tr>\n",
       "    <tr>\n",
       "      <th>5085033008</th>\n",
       "      <td>0</td>\n",
       "      <td>0</td>\n",
       "      <td>1</td>\n",
       "      <td>0</td>\n",
       "      <td>0</td>\n",
       "      <td>57047</td>\n",
       "      <td>40994</td>\n",
       "      <td>16053</td>\n",
       "      <td>0</td>\n",
       "      <td>0</td>\n",
       "      <td>...</td>\n",
       "      <td>0</td>\n",
       "      <td>0</td>\n",
       "      <td>0</td>\n",
       "      <td>0</td>\n",
       "      <td>0</td>\n",
       "      <td>0</td>\n",
       "      <td>0</td>\n",
       "      <td>0</td>\n",
       "      <td>0</td>\n",
       "      <td>0</td>\n",
       "    </tr>\n",
       "    <tr>\n",
       "      <th>5085032022</th>\n",
       "      <td>0</td>\n",
       "      <td>0</td>\n",
       "      <td>0</td>\n",
       "      <td>0</td>\n",
       "      <td>1</td>\n",
       "      <td>651485</td>\n",
       "      <td>521193</td>\n",
       "      <td>130292</td>\n",
       "      <td>0</td>\n",
       "      <td>1</td>\n",
       "      <td>...</td>\n",
       "      <td>0</td>\n",
       "      <td>0</td>\n",
       "      <td>0</td>\n",
       "      <td>0</td>\n",
       "      <td>0</td>\n",
       "      <td>0</td>\n",
       "      <td>0</td>\n",
       "      <td>0</td>\n",
       "      <td>0</td>\n",
       "      <td>0</td>\n",
       "    </tr>\n",
       "  </tbody>\n",
       "</table>\n",
       "<p>3 rows × 56 columns</p>\n",
       "</div>"
      ],
      "text/plain": [
       "            Owned by Trust?  Owned by Business?  MAIL DIFFERENT FROM SITE?  \\\n",
       "PARCEL                                                                       \n",
       "5085010022                0                   0                          0   \n",
       "5085033008                0                   0                          1   \n",
       "5085032022                0                   0                          0   \n",
       "\n",
       "            MAIL OUTSIDE CA?  TITLECO1  ASSDTOTAL  ASSDLAND  ASSDSTCT  \\\n",
       "PARCEL                                                                  \n",
       "5085010022                 0         1    1157385    925908    231477   \n",
       "5085033008                 0         0      57047     40994     16053   \n",
       "5085032022                 0         1     651485    521193    130292   \n",
       "\n",
       "            ASSDOTHR  EXEMPTCD  ...  NAME CHANGE  Other  PARTNERSHIP  \\\n",
       "PARCEL                          ...                                    \n",
       "5085010022         0         0  ...            0      0            0   \n",
       "5085033008         0         0  ...            0      0            0   \n",
       "5085032022         0         1  ...            0      0            0   \n",
       "\n",
       "            PERSONAL REP  QUIT CLAIM  RE-RECORD  TAX DEED  TRUST TRANSFER  \\\n",
       "PARCEL                                                                      \n",
       "5085010022             0           0          0         0               0   \n",
       "5085033008             0           0          0         0               0   \n",
       "5085032022             0           0          0         0               0   \n",
       "\n",
       "            TRUSTEES  WARRANTY  \n",
       "PARCEL                          \n",
       "5085010022         0         0  \n",
       "5085033008         0         0  \n",
       "5085032022         0         0  \n",
       "\n",
       "[3 rows x 56 columns]"
      ]
     },
     "execution_count": 164,
     "metadata": {},
     "output_type": "execute_result"
    }
   ],
   "source": [
    "Beverly_Grove_df.head(3)"
   ]
  },
  {
   "cell_type": "code",
   "execution_count": 165,
   "metadata": {},
   "outputs": [],
   "source": [
    "# Step 1: Create our X and y\n",
    "\n",
    "y = Beverly_Grove_df['Did it sell?']\n",
    "X = Beverly_Grove_df.drop(['Did it sell?'], 1)"
   ]
  },
  {
   "cell_type": "code",
   "execution_count": 166,
   "metadata": {},
   "outputs": [
    {
     "data": {
      "text/plain": [
       "array([5085010022, 5085033008, 5085032022, ..., 5510018012, 5510017023,\n",
       "       5514001029])"
      ]
     },
     "execution_count": 166,
     "metadata": {},
     "output_type": "execute_result"
    }
   ],
   "source": [
    "APN = Beverly_Grove_df.index.values\n",
    "APN"
   ]
  },
  {
   "cell_type": "code",
   "execution_count": 167,
   "metadata": {},
   "outputs": [],
   "source": [
    "# Step 2: Use PCA to reduce dimension to three principal components.\n",
    "from sklearn.decomposition import PCA\n",
    "\n",
    "pca = PCA(n_components=3)\n",
    "X_pca = pca.fit_transform(X)"
   ]
  },
  {
   "cell_type": "code",
   "execution_count": 168,
   "metadata": {},
   "outputs": [
    {
     "data": {
      "text/plain": [
       "array([[ 1037442.40088322,   222949.06197811,    99008.44211245],\n",
       "       [ -932464.7141857 ,   251848.62995472,   -90439.60157538],\n",
       "       [ -393042.03210882,  -290764.40544306,   -27460.47099801],\n",
       "       ...,\n",
       "       [ -314557.49024403,  -369458.72763661,   -27020.9155848 ],\n",
       "       [ 2038277.22062523,   419857.55993186, -1288530.60059949],\n",
       "       [ -962055.78924987,   281605.81570128,   -93574.2647082 ]])"
      ]
     },
     "execution_count": 168,
     "metadata": {},
     "output_type": "execute_result"
    }
   ],
   "source": [
    "X_pca"
   ]
  },
  {
   "cell_type": "code",
   "execution_count": 169,
   "metadata": {},
   "outputs": [],
   "source": [
    "# Step 3: Train, test, split\n",
    "\n",
    "X_train, X_test, y_train, y_test = train_test_split(X_pca, y, random_state=78, stratify=y)"
   ]
  },
  {
   "cell_type": "code",
   "execution_count": 170,
   "metadata": {},
   "outputs": [],
   "source": [
    "# Step 4: Scale our data\n",
    "\n",
    "# Create the StandardScaler instance\n",
    "scaler = StandardScaler()\n",
    "\n",
    "# Fit our scaler, named 'scaler' to our data, which produces a new StandardScaler object\n",
    "# which we call 'X_scaler'\n",
    "X_scaler = scaler.fit(X_train)\n",
    "\n",
    "# Scale the data\n",
    "X_train_scaled = X_scaler.transform(X_train)\n",
    "X_test_scaled = X_scaler.transform(X_test)"
   ]
  },
  {
   "cell_type": "code",
   "execution_count": 171,
   "metadata": {},
   "outputs": [],
   "source": [
    "X_train_scaled_APN = []"
   ]
  },
  {
   "cell_type": "code",
   "execution_count": 172,
   "metadata": {},
   "outputs": [
    {
     "data": {
      "text/plain": [
       "Counter({0: 3287, 1: 3287})"
      ]
     },
     "execution_count": 172,
     "metadata": {},
     "output_type": "execute_result"
    }
   ],
   "source": [
    "# implement random oversampling\n",
    "from imblearn.over_sampling import RandomOverSampler\n",
    "ros = RandomOverSampler(random_state=1)\n",
    "X_random_oversampled, y_random_oversampled = ros.fit_resample(X_train_scaled, y_train)\n",
    "\n",
    "Counter(y_random_oversampled)"
   ]
  },
  {
   "cell_type": "code",
   "execution_count": 173,
   "metadata": {},
   "outputs": [
    {
     "data": {
      "text/plain": [
       "LogisticRegression(class_weight='balanced', max_iter=300, random_state=78)"
      ]
     },
     "execution_count": 173,
     "metadata": {},
     "output_type": "execute_result"
    }
   ],
   "source": [
    "# Logistic regression using random oversampled data\n",
    "from sklearn.linear_model import LogisticRegression\n",
    "\n",
    "model_10 = LogisticRegression(solver='lbfgs', \n",
    "                                max_iter=300,\n",
    "                                random_state=78,\n",
    "                                class_weight=\"balanced\")\n",
    "\n",
    "model_10.fit(X_random_oversampled, y_random_oversampled)"
   ]
  },
  {
   "cell_type": "code",
   "execution_count": 174,
   "metadata": {},
   "outputs": [],
   "source": [
    "# Evaluate the model\n",
    "y_pred = model_10.predict(X_test_scaled)"
   ]
  },
  {
   "cell_type": "code",
   "execution_count": 175,
   "metadata": {},
   "outputs": [
    {
     "name": "stdout",
     "output_type": "stream",
     "text": [
      " Logistic regression model accuracy: 0.621\n"
     ]
    }
   ],
   "source": [
    "print(f\" Logistic regression model accuracy: {accuracy_score(y_test, y_pred):.3f}\")"
   ]
  },
  {
   "cell_type": "code",
   "execution_count": 176,
   "metadata": {},
   "outputs": [
    {
     "data": {
      "text/plain": [
       "0.49355118500495626"
      ]
     },
     "execution_count": 176,
     "metadata": {},
     "output_type": "execute_result"
    }
   ],
   "source": [
    "# just for shits n' gigs, lets find the balanced accuracy score\n",
    "\n",
    "from sklearn.metrics import balanced_accuracy_score\n",
    "balanced_accuracy_score(y_test, y_pred)"
   ]
  },
  {
   "cell_type": "code",
   "execution_count": 177,
   "metadata": {},
   "outputs": [
    {
     "data": {
      "text/plain": [
       "0.7146103073370367"
      ]
     },
     "execution_count": 177,
     "metadata": {},
     "output_type": "execute_result"
    }
   ],
   "source": [
    "f1_score(y_test, y_pred, average=\"weighted\")"
   ]
  },
  {
   "cell_type": "code",
   "execution_count": 178,
   "metadata": {},
   "outputs": [
    {
     "name": "stdout",
     "output_type": "stream",
     "text": [
      "                   pre       rec       spe        f1       geo       iba       sup\n",
      "\n",
      "          0       0.93      0.64      0.35      0.76      0.47      0.23      1096\n",
      "          1       0.07      0.35      0.64      0.11      0.47      0.22        81\n",
      "\n",
      "avg / total       0.87      0.62      0.37      0.71      0.47      0.23      1177\n",
      "\n"
     ]
    }
   ],
   "source": [
    "# Print the imbalanced classification report\n",
    "from imblearn.metrics import classification_report_imbalanced\n",
    "print(classification_report_imbalanced(y_test, y_pred))"
   ]
  },
  {
   "cell_type": "code",
   "execution_count": 179,
   "metadata": {},
   "outputs": [
    {
     "data": {
      "text/html": [
       "<div>\n",
       "<style scoped>\n",
       "    .dataframe tbody tr th:only-of-type {\n",
       "        vertical-align: middle;\n",
       "    }\n",
       "\n",
       "    .dataframe tbody tr th {\n",
       "        vertical-align: top;\n",
       "    }\n",
       "\n",
       "    .dataframe thead th {\n",
       "        text-align: right;\n",
       "    }\n",
       "</style>\n",
       "<table border=\"1\" class=\"dataframe\">\n",
       "  <thead>\n",
       "    <tr style=\"text-align: right;\">\n",
       "      <th></th>\n",
       "      <th>Prediction</th>\n",
       "      <th>Actual</th>\n",
       "      <th>PARCEL</th>\n",
       "    </tr>\n",
       "  </thead>\n",
       "  <tbody>\n",
       "    <tr>\n",
       "      <th>1038</th>\n",
       "      <td>1</td>\n",
       "      <td>0</td>\n",
       "      <td>4335003015</td>\n",
       "    </tr>\n",
       "    <tr>\n",
       "      <th>603</th>\n",
       "      <td>0</td>\n",
       "      <td>0</td>\n",
       "      <td>5527025002</td>\n",
       "    </tr>\n",
       "    <tr>\n",
       "      <th>149</th>\n",
       "      <td>0</td>\n",
       "      <td>0</td>\n",
       "      <td>5088017010</td>\n",
       "    </tr>\n",
       "    <tr>\n",
       "      <th>218</th>\n",
       "      <td>0</td>\n",
       "      <td>1</td>\n",
       "      <td>5085011014</td>\n",
       "    </tr>\n",
       "    <tr>\n",
       "      <th>77</th>\n",
       "      <td>0</td>\n",
       "      <td>0</td>\n",
       "      <td>5085022022</td>\n",
       "    </tr>\n",
       "    <tr>\n",
       "      <th>537</th>\n",
       "      <td>0</td>\n",
       "      <td>0</td>\n",
       "      <td>5528004080</td>\n",
       "    </tr>\n",
       "    <tr>\n",
       "      <th>832</th>\n",
       "      <td>1</td>\n",
       "      <td>0</td>\n",
       "      <td>5085019022</td>\n",
       "    </tr>\n",
       "    <tr>\n",
       "      <th>491</th>\n",
       "      <td>0</td>\n",
       "      <td>0</td>\n",
       "      <td>5510014025</td>\n",
       "    </tr>\n",
       "    <tr>\n",
       "      <th>878</th>\n",
       "      <td>0</td>\n",
       "      <td>0</td>\n",
       "      <td>5089020019</td>\n",
       "    </tr>\n",
       "    <tr>\n",
       "      <th>154</th>\n",
       "      <td>0</td>\n",
       "      <td>0</td>\n",
       "      <td>5086011018</td>\n",
       "    </tr>\n",
       "    <tr>\n",
       "      <th>232</th>\n",
       "      <td>0</td>\n",
       "      <td>0</td>\n",
       "      <td>5070008003</td>\n",
       "    </tr>\n",
       "    <tr>\n",
       "      <th>413</th>\n",
       "      <td>1</td>\n",
       "      <td>0</td>\n",
       "      <td>5088012014</td>\n",
       "    </tr>\n",
       "    <tr>\n",
       "      <th>706</th>\n",
       "      <td>0</td>\n",
       "      <td>0</td>\n",
       "      <td>5085025004</td>\n",
       "    </tr>\n",
       "    <tr>\n",
       "      <th>599</th>\n",
       "      <td>0</td>\n",
       "      <td>0</td>\n",
       "      <td>5527032011</td>\n",
       "    </tr>\n",
       "    <tr>\n",
       "      <th>220</th>\n",
       "      <td>0</td>\n",
       "      <td>0</td>\n",
       "      <td>5510020024</td>\n",
       "    </tr>\n",
       "    <tr>\n",
       "      <th>112</th>\n",
       "      <td>1</td>\n",
       "      <td>0</td>\n",
       "      <td>4335009020</td>\n",
       "    </tr>\n",
       "    <tr>\n",
       "      <th>730</th>\n",
       "      <td>0</td>\n",
       "      <td>0</td>\n",
       "      <td>5514003047</td>\n",
       "    </tr>\n",
       "    <tr>\n",
       "      <th>762</th>\n",
       "      <td>0</td>\n",
       "      <td>0</td>\n",
       "      <td>5086014008</td>\n",
       "    </tr>\n",
       "    <tr>\n",
       "      <th>741</th>\n",
       "      <td>1</td>\n",
       "      <td>0</td>\n",
       "      <td>5088017034</td>\n",
       "    </tr>\n",
       "    <tr>\n",
       "      <th>452</th>\n",
       "      <td>1</td>\n",
       "      <td>0</td>\n",
       "      <td>5086020019</td>\n",
       "    </tr>\n",
       "  </tbody>\n",
       "</table>\n",
       "</div>"
      ],
      "text/plain": [
       "      Prediction  Actual      PARCEL\n",
       "1038           1       0  4335003015\n",
       "603            0       0  5527025002\n",
       "149            0       0  5088017010\n",
       "218            0       1  5085011014\n",
       "77             0       0  5085022022\n",
       "537            0       0  5528004080\n",
       "832            1       0  5085019022\n",
       "491            0       0  5510014025\n",
       "878            0       0  5089020019\n",
       "154            0       0  5086011018\n",
       "232            0       0  5070008003\n",
       "413            1       0  5088012014\n",
       "706            0       0  5085025004\n",
       "599            0       0  5527032011\n",
       "220            0       0  5510020024\n",
       "112            1       0  4335009020\n",
       "730            0       0  5514003047\n",
       "762            0       0  5086014008\n",
       "741            1       0  5088017034\n",
       "452            1       0  5086020019"
      ]
     },
     "execution_count": 179,
     "metadata": {},
     "output_type": "execute_result"
    }
   ],
   "source": [
    "results = pd.DataFrame({\"Prediction\": y_pred, \"Actual\": y_test, \"PARCEL\": y_test.index.values}).reset_index(drop=True)\n",
    "results.sample(20)"
   ]
  },
  {
   "cell_type": "code",
   "execution_count": 180,
   "metadata": {},
   "outputs": [
    {
     "data": {
      "text/html": [
       "<div>\n",
       "<style scoped>\n",
       "    .dataframe tbody tr th:only-of-type {\n",
       "        vertical-align: middle;\n",
       "    }\n",
       "\n",
       "    .dataframe tbody tr th {\n",
       "        vertical-align: top;\n",
       "    }\n",
       "\n",
       "    .dataframe thead th {\n",
       "        text-align: right;\n",
       "    }\n",
       "</style>\n",
       "<table border=\"1\" class=\"dataframe\">\n",
       "  <thead>\n",
       "    <tr style=\"text-align: right;\">\n",
       "      <th></th>\n",
       "      <th>Owned by Trust?</th>\n",
       "      <th>Owned by Business?</th>\n",
       "      <th>MAIL DIFFERENT FROM SITE?</th>\n",
       "      <th>MAIL OUTSIDE CA?</th>\n",
       "      <th>TITLECO1</th>\n",
       "      <th>ASSDTOTAL</th>\n",
       "      <th>ASSDLAND</th>\n",
       "      <th>ASSDSTCT</th>\n",
       "      <th>ASSDOTHR</th>\n",
       "      <th>EXEMPTCD</th>\n",
       "      <th>...</th>\n",
       "      <th>NAME CHANGE</th>\n",
       "      <th>Other</th>\n",
       "      <th>PARTNERSHIP</th>\n",
       "      <th>PERSONAL REP</th>\n",
       "      <th>QUIT CLAIM</th>\n",
       "      <th>RE-RECORD</th>\n",
       "      <th>TAX DEED</th>\n",
       "      <th>TRUST TRANSFER</th>\n",
       "      <th>TRUSTEES</th>\n",
       "      <th>WARRANTY</th>\n",
       "    </tr>\n",
       "    <tr>\n",
       "      <th>PARCEL</th>\n",
       "      <th></th>\n",
       "      <th></th>\n",
       "      <th></th>\n",
       "      <th></th>\n",
       "      <th></th>\n",
       "      <th></th>\n",
       "      <th></th>\n",
       "      <th></th>\n",
       "      <th></th>\n",
       "      <th></th>\n",
       "      <th></th>\n",
       "      <th></th>\n",
       "      <th></th>\n",
       "      <th></th>\n",
       "      <th></th>\n",
       "      <th></th>\n",
       "      <th></th>\n",
       "      <th></th>\n",
       "      <th></th>\n",
       "      <th></th>\n",
       "      <th></th>\n",
       "    </tr>\n",
       "  </thead>\n",
       "  <tbody>\n",
       "    <tr>\n",
       "      <th>5085010022</th>\n",
       "      <td>0</td>\n",
       "      <td>0</td>\n",
       "      <td>0</td>\n",
       "      <td>0</td>\n",
       "      <td>1</td>\n",
       "      <td>1157385</td>\n",
       "      <td>925908</td>\n",
       "      <td>231477</td>\n",
       "      <td>0</td>\n",
       "      <td>0</td>\n",
       "      <td>...</td>\n",
       "      <td>0</td>\n",
       "      <td>0</td>\n",
       "      <td>0</td>\n",
       "      <td>0</td>\n",
       "      <td>0</td>\n",
       "      <td>0</td>\n",
       "      <td>0</td>\n",
       "      <td>0</td>\n",
       "      <td>0</td>\n",
       "      <td>0</td>\n",
       "    </tr>\n",
       "    <tr>\n",
       "      <th>5085033008</th>\n",
       "      <td>0</td>\n",
       "      <td>0</td>\n",
       "      <td>1</td>\n",
       "      <td>0</td>\n",
       "      <td>0</td>\n",
       "      <td>57047</td>\n",
       "      <td>40994</td>\n",
       "      <td>16053</td>\n",
       "      <td>0</td>\n",
       "      <td>0</td>\n",
       "      <td>...</td>\n",
       "      <td>0</td>\n",
       "      <td>0</td>\n",
       "      <td>0</td>\n",
       "      <td>0</td>\n",
       "      <td>0</td>\n",
       "      <td>0</td>\n",
       "      <td>0</td>\n",
       "      <td>0</td>\n",
       "      <td>0</td>\n",
       "      <td>0</td>\n",
       "    </tr>\n",
       "    <tr>\n",
       "      <th>5085032022</th>\n",
       "      <td>0</td>\n",
       "      <td>0</td>\n",
       "      <td>0</td>\n",
       "      <td>0</td>\n",
       "      <td>1</td>\n",
       "      <td>651485</td>\n",
       "      <td>521193</td>\n",
       "      <td>130292</td>\n",
       "      <td>0</td>\n",
       "      <td>1</td>\n",
       "      <td>...</td>\n",
       "      <td>0</td>\n",
       "      <td>0</td>\n",
       "      <td>0</td>\n",
       "      <td>0</td>\n",
       "      <td>0</td>\n",
       "      <td>0</td>\n",
       "      <td>0</td>\n",
       "      <td>0</td>\n",
       "      <td>0</td>\n",
       "      <td>0</td>\n",
       "    </tr>\n",
       "    <tr>\n",
       "      <th>5510005006</th>\n",
       "      <td>1</td>\n",
       "      <td>0</td>\n",
       "      <td>1</td>\n",
       "      <td>0</td>\n",
       "      <td>0</td>\n",
       "      <td>85697</td>\n",
       "      <td>74539</td>\n",
       "      <td>11158</td>\n",
       "      <td>0</td>\n",
       "      <td>0</td>\n",
       "      <td>...</td>\n",
       "      <td>0</td>\n",
       "      <td>0</td>\n",
       "      <td>0</td>\n",
       "      <td>0</td>\n",
       "      <td>0</td>\n",
       "      <td>0</td>\n",
       "      <td>0</td>\n",
       "      <td>0</td>\n",
       "      <td>0</td>\n",
       "      <td>0</td>\n",
       "    </tr>\n",
       "    <tr>\n",
       "      <th>5089024002</th>\n",
       "      <td>0</td>\n",
       "      <td>0</td>\n",
       "      <td>0</td>\n",
       "      <td>0</td>\n",
       "      <td>0</td>\n",
       "      <td>62487</td>\n",
       "      <td>42013</td>\n",
       "      <td>20474</td>\n",
       "      <td>0</td>\n",
       "      <td>1</td>\n",
       "      <td>...</td>\n",
       "      <td>0</td>\n",
       "      <td>0</td>\n",
       "      <td>0</td>\n",
       "      <td>0</td>\n",
       "      <td>0</td>\n",
       "      <td>0</td>\n",
       "      <td>0</td>\n",
       "      <td>0</td>\n",
       "      <td>0</td>\n",
       "      <td>0</td>\n",
       "    </tr>\n",
       "  </tbody>\n",
       "</table>\n",
       "<p>5 rows × 56 columns</p>\n",
       "</div>"
      ],
      "text/plain": [
       "            Owned by Trust?  Owned by Business?  MAIL DIFFERENT FROM SITE?  \\\n",
       "PARCEL                                                                       \n",
       "5085010022                0                   0                          0   \n",
       "5085033008                0                   0                          1   \n",
       "5085032022                0                   0                          0   \n",
       "5510005006                1                   0                          1   \n",
       "5089024002                0                   0                          0   \n",
       "\n",
       "            MAIL OUTSIDE CA?  TITLECO1  ASSDTOTAL  ASSDLAND  ASSDSTCT  \\\n",
       "PARCEL                                                                  \n",
       "5085010022                 0         1    1157385    925908    231477   \n",
       "5085033008                 0         0      57047     40994     16053   \n",
       "5085032022                 0         1     651485    521193    130292   \n",
       "5510005006                 0         0      85697     74539     11158   \n",
       "5089024002                 0         0      62487     42013     20474   \n",
       "\n",
       "            ASSDOTHR  EXEMPTCD  ...  NAME CHANGE  Other  PARTNERSHIP  \\\n",
       "PARCEL                          ...                                    \n",
       "5085010022         0         0  ...            0      0            0   \n",
       "5085033008         0         0  ...            0      0            0   \n",
       "5085032022         0         1  ...            0      0            0   \n",
       "5510005006         0         0  ...            0      0            0   \n",
       "5089024002         0         1  ...            0      0            0   \n",
       "\n",
       "            PERSONAL REP  QUIT CLAIM  RE-RECORD  TAX DEED  TRUST TRANSFER  \\\n",
       "PARCEL                                                                      \n",
       "5085010022             0           0          0         0               0   \n",
       "5085033008             0           0          0         0               0   \n",
       "5085032022             0           0          0         0               0   \n",
       "5510005006             0           0          0         0               0   \n",
       "5089024002             0           0          0         0               0   \n",
       "\n",
       "            TRUSTEES  WARRANTY  \n",
       "PARCEL                          \n",
       "5085010022         0         0  \n",
       "5085033008         0         0  \n",
       "5085032022         0         0  \n",
       "5510005006         0         0  \n",
       "5089024002         0         0  \n",
       "\n",
       "[5 rows x 56 columns]"
      ]
     },
     "execution_count": 180,
     "metadata": {},
     "output_type": "execute_result"
    }
   ],
   "source": [
    "Beverly_Grove_Results_SFRs_df = Beverly_Grove_df.merge(results, how=\"left\", right_on=\"PARCEL\", left_on=\"PARCEL\")\n",
    "Beverly_Grove_df.head()"
   ]
  },
  {
   "cell_type": "code",
   "execution_count": 181,
   "metadata": {},
   "outputs": [
    {
     "data": {
      "text/html": [
       "<div>\n",
       "<style scoped>\n",
       "    .dataframe tbody tr th:only-of-type {\n",
       "        vertical-align: middle;\n",
       "    }\n",
       "\n",
       "    .dataframe tbody tr th {\n",
       "        vertical-align: top;\n",
       "    }\n",
       "\n",
       "    .dataframe thead th {\n",
       "        text-align: right;\n",
       "    }\n",
       "</style>\n",
       "<table border=\"1\" class=\"dataframe\">\n",
       "  <thead>\n",
       "    <tr style=\"text-align: right;\">\n",
       "      <th></th>\n",
       "      <th>PARCEL</th>\n",
       "      <th>Owned by Trust?</th>\n",
       "      <th>Owned by Business?</th>\n",
       "      <th>MAIL DIFFERENT FROM SITE?</th>\n",
       "      <th>MAIL OUTSIDE CA?</th>\n",
       "      <th>TITLECO1</th>\n",
       "      <th>ASSDTOTAL</th>\n",
       "      <th>ASSDLAND</th>\n",
       "      <th>ASSDSTCT</th>\n",
       "      <th>ASSDOTHR</th>\n",
       "      <th>...</th>\n",
       "      <th>PARTNERSHIP</th>\n",
       "      <th>PERSONAL REP</th>\n",
       "      <th>QUIT CLAIM</th>\n",
       "      <th>RE-RECORD</th>\n",
       "      <th>TAX DEED</th>\n",
       "      <th>TRUST TRANSFER</th>\n",
       "      <th>TRUSTEES</th>\n",
       "      <th>WARRANTY</th>\n",
       "      <th>Prediction</th>\n",
       "      <th>Actual</th>\n",
       "    </tr>\n",
       "  </thead>\n",
       "  <tbody>\n",
       "    <tr>\n",
       "      <th>0</th>\n",
       "      <td>5085010022</td>\n",
       "      <td>0</td>\n",
       "      <td>0</td>\n",
       "      <td>0</td>\n",
       "      <td>0</td>\n",
       "      <td>1</td>\n",
       "      <td>1157385</td>\n",
       "      <td>925908</td>\n",
       "      <td>231477</td>\n",
       "      <td>0</td>\n",
       "      <td>...</td>\n",
       "      <td>0</td>\n",
       "      <td>0</td>\n",
       "      <td>0</td>\n",
       "      <td>0</td>\n",
       "      <td>0</td>\n",
       "      <td>0</td>\n",
       "      <td>0</td>\n",
       "      <td>0</td>\n",
       "      <td>NaN</td>\n",
       "      <td>NaN</td>\n",
       "    </tr>\n",
       "    <tr>\n",
       "      <th>1</th>\n",
       "      <td>5085033008</td>\n",
       "      <td>0</td>\n",
       "      <td>0</td>\n",
       "      <td>1</td>\n",
       "      <td>0</td>\n",
       "      <td>0</td>\n",
       "      <td>57047</td>\n",
       "      <td>40994</td>\n",
       "      <td>16053</td>\n",
       "      <td>0</td>\n",
       "      <td>...</td>\n",
       "      <td>0</td>\n",
       "      <td>0</td>\n",
       "      <td>0</td>\n",
       "      <td>0</td>\n",
       "      <td>0</td>\n",
       "      <td>0</td>\n",
       "      <td>0</td>\n",
       "      <td>0</td>\n",
       "      <td>0.0</td>\n",
       "      <td>0.0</td>\n",
       "    </tr>\n",
       "    <tr>\n",
       "      <th>2</th>\n",
       "      <td>5085032022</td>\n",
       "      <td>0</td>\n",
       "      <td>0</td>\n",
       "      <td>0</td>\n",
       "      <td>0</td>\n",
       "      <td>1</td>\n",
       "      <td>651485</td>\n",
       "      <td>521193</td>\n",
       "      <td>130292</td>\n",
       "      <td>0</td>\n",
       "      <td>...</td>\n",
       "      <td>0</td>\n",
       "      <td>0</td>\n",
       "      <td>0</td>\n",
       "      <td>0</td>\n",
       "      <td>0</td>\n",
       "      <td>0</td>\n",
       "      <td>0</td>\n",
       "      <td>0</td>\n",
       "      <td>NaN</td>\n",
       "      <td>NaN</td>\n",
       "    </tr>\n",
       "    <tr>\n",
       "      <th>3</th>\n",
       "      <td>5510005006</td>\n",
       "      <td>1</td>\n",
       "      <td>0</td>\n",
       "      <td>1</td>\n",
       "      <td>0</td>\n",
       "      <td>0</td>\n",
       "      <td>85697</td>\n",
       "      <td>74539</td>\n",
       "      <td>11158</td>\n",
       "      <td>0</td>\n",
       "      <td>...</td>\n",
       "      <td>0</td>\n",
       "      <td>0</td>\n",
       "      <td>0</td>\n",
       "      <td>0</td>\n",
       "      <td>0</td>\n",
       "      <td>0</td>\n",
       "      <td>0</td>\n",
       "      <td>0</td>\n",
       "      <td>0.0</td>\n",
       "      <td>0.0</td>\n",
       "    </tr>\n",
       "    <tr>\n",
       "      <th>4</th>\n",
       "      <td>5089024002</td>\n",
       "      <td>0</td>\n",
       "      <td>0</td>\n",
       "      <td>0</td>\n",
       "      <td>0</td>\n",
       "      <td>0</td>\n",
       "      <td>62487</td>\n",
       "      <td>42013</td>\n",
       "      <td>20474</td>\n",
       "      <td>0</td>\n",
       "      <td>...</td>\n",
       "      <td>0</td>\n",
       "      <td>0</td>\n",
       "      <td>0</td>\n",
       "      <td>0</td>\n",
       "      <td>0</td>\n",
       "      <td>0</td>\n",
       "      <td>0</td>\n",
       "      <td>0</td>\n",
       "      <td>NaN</td>\n",
       "      <td>NaN</td>\n",
       "    </tr>\n",
       "    <tr>\n",
       "      <th>...</th>\n",
       "      <td>...</td>\n",
       "      <td>...</td>\n",
       "      <td>...</td>\n",
       "      <td>...</td>\n",
       "      <td>...</td>\n",
       "      <td>...</td>\n",
       "      <td>...</td>\n",
       "      <td>...</td>\n",
       "      <td>...</td>\n",
       "      <td>...</td>\n",
       "      <td>...</td>\n",
       "      <td>...</td>\n",
       "      <td>...</td>\n",
       "      <td>...</td>\n",
       "      <td>...</td>\n",
       "      <td>...</td>\n",
       "      <td>...</td>\n",
       "      <td>...</td>\n",
       "      <td>...</td>\n",
       "      <td>...</td>\n",
       "      <td>...</td>\n",
       "    </tr>\n",
       "    <tr>\n",
       "      <th>4700</th>\n",
       "      <td>4335003015</td>\n",
       "      <td>0</td>\n",
       "      <td>1</td>\n",
       "      <td>1</td>\n",
       "      <td>0</td>\n",
       "      <td>0</td>\n",
       "      <td>1177690</td>\n",
       "      <td>1177690</td>\n",
       "      <td>0</td>\n",
       "      <td>0</td>\n",
       "      <td>...</td>\n",
       "      <td>0</td>\n",
       "      <td>0</td>\n",
       "      <td>0</td>\n",
       "      <td>0</td>\n",
       "      <td>0</td>\n",
       "      <td>0</td>\n",
       "      <td>0</td>\n",
       "      <td>0</td>\n",
       "      <td>1.0</td>\n",
       "      <td>0.0</td>\n",
       "    </tr>\n",
       "    <tr>\n",
       "      <th>4701</th>\n",
       "      <td>4335010018</td>\n",
       "      <td>0</td>\n",
       "      <td>1</td>\n",
       "      <td>1</td>\n",
       "      <td>0</td>\n",
       "      <td>1</td>\n",
       "      <td>1346195</td>\n",
       "      <td>1346195</td>\n",
       "      <td>0</td>\n",
       "      <td>0</td>\n",
       "      <td>...</td>\n",
       "      <td>0</td>\n",
       "      <td>0</td>\n",
       "      <td>0</td>\n",
       "      <td>0</td>\n",
       "      <td>0</td>\n",
       "      <td>0</td>\n",
       "      <td>0</td>\n",
       "      <td>0</td>\n",
       "      <td>NaN</td>\n",
       "      <td>NaN</td>\n",
       "    </tr>\n",
       "    <tr>\n",
       "      <th>4702</th>\n",
       "      <td>5510018012</td>\n",
       "      <td>1</td>\n",
       "      <td>0</td>\n",
       "      <td>0</td>\n",
       "      <td>0</td>\n",
       "      <td>0</td>\n",
       "      <td>762455</td>\n",
       "      <td>509154</td>\n",
       "      <td>253301</td>\n",
       "      <td>0</td>\n",
       "      <td>...</td>\n",
       "      <td>0</td>\n",
       "      <td>0</td>\n",
       "      <td>0</td>\n",
       "      <td>0</td>\n",
       "      <td>0</td>\n",
       "      <td>0</td>\n",
       "      <td>0</td>\n",
       "      <td>0</td>\n",
       "      <td>NaN</td>\n",
       "      <td>NaN</td>\n",
       "    </tr>\n",
       "    <tr>\n",
       "      <th>4703</th>\n",
       "      <td>5510017023</td>\n",
       "      <td>0</td>\n",
       "      <td>1</td>\n",
       "      <td>1</td>\n",
       "      <td>1</td>\n",
       "      <td>1</td>\n",
       "      <td>1553301</td>\n",
       "      <td>1087311</td>\n",
       "      <td>465990</td>\n",
       "      <td>0</td>\n",
       "      <td>...</td>\n",
       "      <td>0</td>\n",
       "      <td>0</td>\n",
       "      <td>0</td>\n",
       "      <td>0</td>\n",
       "      <td>0</td>\n",
       "      <td>0</td>\n",
       "      <td>0</td>\n",
       "      <td>0</td>\n",
       "      <td>NaN</td>\n",
       "      <td>NaN</td>\n",
       "    </tr>\n",
       "    <tr>\n",
       "      <th>4704</th>\n",
       "      <td>5514001029</td>\n",
       "      <td>0</td>\n",
       "      <td>1</td>\n",
       "      <td>1</td>\n",
       "      <td>0</td>\n",
       "      <td>0</td>\n",
       "      <td>23541</td>\n",
       "      <td>17658</td>\n",
       "      <td>5883</td>\n",
       "      <td>0</td>\n",
       "      <td>...</td>\n",
       "      <td>0</td>\n",
       "      <td>0</td>\n",
       "      <td>0</td>\n",
       "      <td>0</td>\n",
       "      <td>0</td>\n",
       "      <td>0</td>\n",
       "      <td>0</td>\n",
       "      <td>0</td>\n",
       "      <td>NaN</td>\n",
       "      <td>NaN</td>\n",
       "    </tr>\n",
       "  </tbody>\n",
       "</table>\n",
       "<p>4705 rows × 59 columns</p>\n",
       "</div>"
      ],
      "text/plain": [
       "          PARCEL  Owned by Trust?  Owned by Business?  \\\n",
       "0     5085010022                0                   0   \n",
       "1     5085033008                0                   0   \n",
       "2     5085032022                0                   0   \n",
       "3     5510005006                1                   0   \n",
       "4     5089024002                0                   0   \n",
       "...          ...              ...                 ...   \n",
       "4700  4335003015                0                   1   \n",
       "4701  4335010018                0                   1   \n",
       "4702  5510018012                1                   0   \n",
       "4703  5510017023                0                   1   \n",
       "4704  5514001029                0                   1   \n",
       "\n",
       "      MAIL DIFFERENT FROM SITE?  MAIL OUTSIDE CA?  TITLECO1  ASSDTOTAL  \\\n",
       "0                             0                 0         1    1157385   \n",
       "1                             1                 0         0      57047   \n",
       "2                             0                 0         1     651485   \n",
       "3                             1                 0         0      85697   \n",
       "4                             0                 0         0      62487   \n",
       "...                         ...               ...       ...        ...   \n",
       "4700                          1                 0         0    1177690   \n",
       "4701                          1                 0         1    1346195   \n",
       "4702                          0                 0         0     762455   \n",
       "4703                          1                 1         1    1553301   \n",
       "4704                          1                 0         0      23541   \n",
       "\n",
       "      ASSDLAND  ASSDSTCT  ASSDOTHR  ...  PARTNERSHIP  PERSONAL REP  \\\n",
       "0       925908    231477         0  ...            0             0   \n",
       "1        40994     16053         0  ...            0             0   \n",
       "2       521193    130292         0  ...            0             0   \n",
       "3        74539     11158         0  ...            0             0   \n",
       "4        42013     20474         0  ...            0             0   \n",
       "...        ...       ...       ...  ...          ...           ...   \n",
       "4700   1177690         0         0  ...            0             0   \n",
       "4701   1346195         0         0  ...            0             0   \n",
       "4702    509154    253301         0  ...            0             0   \n",
       "4703   1087311    465990         0  ...            0             0   \n",
       "4704     17658      5883         0  ...            0             0   \n",
       "\n",
       "      QUIT CLAIM  RE-RECORD  TAX DEED  TRUST TRANSFER  TRUSTEES  WARRANTY  \\\n",
       "0              0          0         0               0         0         0   \n",
       "1              0          0         0               0         0         0   \n",
       "2              0          0         0               0         0         0   \n",
       "3              0          0         0               0         0         0   \n",
       "4              0          0         0               0         0         0   \n",
       "...          ...        ...       ...             ...       ...       ...   \n",
       "4700           0          0         0               0         0         0   \n",
       "4701           0          0         0               0         0         0   \n",
       "4702           0          0         0               0         0         0   \n",
       "4703           0          0         0               0         0         0   \n",
       "4704           0          0         0               0         0         0   \n",
       "\n",
       "      Prediction  Actual  \n",
       "0            NaN     NaN  \n",
       "1            0.0     0.0  \n",
       "2            NaN     NaN  \n",
       "3            0.0     0.0  \n",
       "4            NaN     NaN  \n",
       "...          ...     ...  \n",
       "4700         1.0     0.0  \n",
       "4701         NaN     NaN  \n",
       "4702         NaN     NaN  \n",
       "4703         NaN     NaN  \n",
       "4704         NaN     NaN  \n",
       "\n",
       "[4705 rows x 59 columns]"
      ]
     },
     "execution_count": 181,
     "metadata": {},
     "output_type": "execute_result"
    }
   ],
   "source": [
    "Beverly_Grove_Results_SFRs_df"
   ]
  },
  {
   "cell_type": "code",
   "execution_count": 183,
   "metadata": {},
   "outputs": [],
   "source": [
    "Beverly_Grove_Results_SFRs_df.to_csv('Beverly_Grove_Results_SFRs.csv')"
   ]
  },
  {
   "cell_type": "code",
   "execution_count": 184,
   "metadata": {},
   "outputs": [],
   "source": [
    "# Now do the Beverly Grove Condos"
   ]
  },
  {
   "cell_type": "code",
   "execution_count": 234,
   "metadata": {},
   "outputs": [
    {
     "data": {
      "text/html": [
       "<div>\n",
       "<style scoped>\n",
       "    .dataframe tbody tr th:only-of-type {\n",
       "        vertical-align: middle;\n",
       "    }\n",
       "\n",
       "    .dataframe tbody tr th {\n",
       "        vertical-align: top;\n",
       "    }\n",
       "\n",
       "    .dataframe thead th {\n",
       "        text-align: right;\n",
       "    }\n",
       "</style>\n",
       "<table border=\"1\" class=\"dataframe\">\n",
       "  <thead>\n",
       "    <tr style=\"text-align: right;\">\n",
       "      <th></th>\n",
       "      <th>Owned by Trust?</th>\n",
       "      <th>Owned by Business?</th>\n",
       "      <th>SITEADDRESS</th>\n",
       "      <th>MAIL DIFFERENT FROM SITE?</th>\n",
       "      <th>MAIL OUTSIDE CA?</th>\n",
       "      <th>TITLECO1</th>\n",
       "      <th>ASSDTOTAL</th>\n",
       "      <th>ASSDLAND</th>\n",
       "      <th>ASSDSTCT</th>\n",
       "      <th>ASSDOTHR</th>\n",
       "      <th>...</th>\n",
       "      <th>NAME CHANGE</th>\n",
       "      <th>Other</th>\n",
       "      <th>PARTNERSHIP</th>\n",
       "      <th>PERSONAL REP</th>\n",
       "      <th>QUIT CLAIM</th>\n",
       "      <th>RE-RECORD</th>\n",
       "      <th>TAX DEED</th>\n",
       "      <th>TRUST TRANSFER</th>\n",
       "      <th>TRUSTEES</th>\n",
       "      <th>WARRANTY</th>\n",
       "    </tr>\n",
       "    <tr>\n",
       "      <th>PARCEL</th>\n",
       "      <th></th>\n",
       "      <th></th>\n",
       "      <th></th>\n",
       "      <th></th>\n",
       "      <th></th>\n",
       "      <th></th>\n",
       "      <th></th>\n",
       "      <th></th>\n",
       "      <th></th>\n",
       "      <th></th>\n",
       "      <th></th>\n",
       "      <th></th>\n",
       "      <th></th>\n",
       "      <th></th>\n",
       "      <th></th>\n",
       "      <th></th>\n",
       "      <th></th>\n",
       "      <th></th>\n",
       "      <th></th>\n",
       "      <th></th>\n",
       "      <th></th>\n",
       "    </tr>\n",
       "  </thead>\n",
       "  <tbody>\n",
       "    <tr>\n",
       "      <th>5085010022</th>\n",
       "      <td>0</td>\n",
       "      <td>0</td>\n",
       "      <td>1030 S Dunsmuir Ave</td>\n",
       "      <td>0</td>\n",
       "      <td>0</td>\n",
       "      <td>1</td>\n",
       "      <td>1157385</td>\n",
       "      <td>925908</td>\n",
       "      <td>231477</td>\n",
       "      <td>0</td>\n",
       "      <td>...</td>\n",
       "      <td>0</td>\n",
       "      <td>0</td>\n",
       "      <td>0</td>\n",
       "      <td>0</td>\n",
       "      <td>0</td>\n",
       "      <td>0</td>\n",
       "      <td>0</td>\n",
       "      <td>0</td>\n",
       "      <td>0</td>\n",
       "      <td>0</td>\n",
       "    </tr>\n",
       "    <tr>\n",
       "      <th>5085033008</th>\n",
       "      <td>0</td>\n",
       "      <td>0</td>\n",
       "      <td>1364 S Ridgeley Dr</td>\n",
       "      <td>1</td>\n",
       "      <td>0</td>\n",
       "      <td>0</td>\n",
       "      <td>57047</td>\n",
       "      <td>40994</td>\n",
       "      <td>16053</td>\n",
       "      <td>0</td>\n",
       "      <td>...</td>\n",
       "      <td>0</td>\n",
       "      <td>0</td>\n",
       "      <td>0</td>\n",
       "      <td>0</td>\n",
       "      <td>0</td>\n",
       "      <td>0</td>\n",
       "      <td>0</td>\n",
       "      <td>0</td>\n",
       "      <td>0</td>\n",
       "      <td>0</td>\n",
       "    </tr>\n",
       "    <tr>\n",
       "      <th>5085032022</th>\n",
       "      <td>0</td>\n",
       "      <td>0</td>\n",
       "      <td>1322 Hauser Blvd</td>\n",
       "      <td>0</td>\n",
       "      <td>0</td>\n",
       "      <td>1</td>\n",
       "      <td>651485</td>\n",
       "      <td>521193</td>\n",
       "      <td>130292</td>\n",
       "      <td>0</td>\n",
       "      <td>...</td>\n",
       "      <td>0</td>\n",
       "      <td>0</td>\n",
       "      <td>0</td>\n",
       "      <td>0</td>\n",
       "      <td>0</td>\n",
       "      <td>0</td>\n",
       "      <td>0</td>\n",
       "      <td>0</td>\n",
       "      <td>0</td>\n",
       "      <td>0</td>\n",
       "    </tr>\n",
       "    <tr>\n",
       "      <th>5510005006</th>\n",
       "      <td>1</td>\n",
       "      <td>0</td>\n",
       "      <td>6727 Drexel Ave</td>\n",
       "      <td>1</td>\n",
       "      <td>0</td>\n",
       "      <td>0</td>\n",
       "      <td>85697</td>\n",
       "      <td>74539</td>\n",
       "      <td>11158</td>\n",
       "      <td>0</td>\n",
       "      <td>...</td>\n",
       "      <td>0</td>\n",
       "      <td>0</td>\n",
       "      <td>0</td>\n",
       "      <td>0</td>\n",
       "      <td>0</td>\n",
       "      <td>0</td>\n",
       "      <td>0</td>\n",
       "      <td>0</td>\n",
       "      <td>0</td>\n",
       "      <td>0</td>\n",
       "    </tr>\n",
       "    <tr>\n",
       "      <th>5089024002</th>\n",
       "      <td>0</td>\n",
       "      <td>0</td>\n",
       "      <td>942 S Cochran Ave</td>\n",
       "      <td>0</td>\n",
       "      <td>0</td>\n",
       "      <td>0</td>\n",
       "      <td>62487</td>\n",
       "      <td>42013</td>\n",
       "      <td>20474</td>\n",
       "      <td>0</td>\n",
       "      <td>...</td>\n",
       "      <td>0</td>\n",
       "      <td>0</td>\n",
       "      <td>0</td>\n",
       "      <td>0</td>\n",
       "      <td>0</td>\n",
       "      <td>0</td>\n",
       "      <td>0</td>\n",
       "      <td>0</td>\n",
       "      <td>0</td>\n",
       "      <td>0</td>\n",
       "    </tr>\n",
       "  </tbody>\n",
       "</table>\n",
       "<p>5 rows × 57 columns</p>\n",
       "</div>"
      ],
      "text/plain": [
       "            Owned by Trust?  Owned by Business?          SITEADDRESS  \\\n",
       "PARCEL                                                                 \n",
       "5085010022                0                   0  1030 S Dunsmuir Ave   \n",
       "5085033008                0                   0   1364 S Ridgeley Dr   \n",
       "5085032022                0                   0     1322 Hauser Blvd   \n",
       "5510005006                1                   0      6727 Drexel Ave   \n",
       "5089024002                0                   0    942 S Cochran Ave   \n",
       "\n",
       "            MAIL DIFFERENT FROM SITE?  MAIL OUTSIDE CA?  TITLECO1  ASSDTOTAL  \\\n",
       "PARCEL                                                                         \n",
       "5085010022                          0                 0         1    1157385   \n",
       "5085033008                          1                 0         0      57047   \n",
       "5085032022                          0                 0         1     651485   \n",
       "5510005006                          1                 0         0      85697   \n",
       "5089024002                          0                 0         0      62487   \n",
       "\n",
       "            ASSDLAND  ASSDSTCT  ASSDOTHR  ...  NAME CHANGE  Other  \\\n",
       "PARCEL                                    ...                       \n",
       "5085010022    925908    231477         0  ...            0      0   \n",
       "5085033008     40994     16053         0  ...            0      0   \n",
       "5085032022    521193    130292         0  ...            0      0   \n",
       "5510005006     74539     11158         0  ...            0      0   \n",
       "5089024002     42013     20474         0  ...            0      0   \n",
       "\n",
       "            PARTNERSHIP  PERSONAL REP  QUIT CLAIM  RE-RECORD  TAX DEED  \\\n",
       "PARCEL                                                                   \n",
       "5085010022            0             0           0          0         0   \n",
       "5085033008            0             0           0          0         0   \n",
       "5085032022            0             0           0          0         0   \n",
       "5510005006            0             0           0          0         0   \n",
       "5089024002            0             0           0          0         0   \n",
       "\n",
       "            TRUST TRANSFER  TRUSTEES  WARRANTY  \n",
       "PARCEL                                          \n",
       "5085010022               0         0         0  \n",
       "5085033008               0         0         0  \n",
       "5085032022               0         0         0  \n",
       "5510005006               0         0         0  \n",
       "5089024002               0         0         0  \n",
       "\n",
       "[5 rows x 57 columns]"
      ]
     },
     "execution_count": 234,
     "metadata": {},
     "output_type": "execute_result"
    }
   ],
   "source": [
    "# bring in our dataframe\n",
    "\n",
    "Beverly_Grove_df = pd.read_csv('Beverly_Grove_Cleaned.csv', index_col='PARCEL')\n",
    "Beverly_Grove_df.head()"
   ]
  },
  {
   "cell_type": "code",
   "execution_count": 235,
   "metadata": {},
   "outputs": [],
   "source": [
    "# drop any nulls\n",
    "\n",
    "Beverly_Grove_df = Beverly_Grove_df.dropna()"
   ]
  },
  {
   "cell_type": "code",
   "execution_count": 236,
   "metadata": {},
   "outputs": [],
   "source": [
    "# Change the datatype of these two columns into ints\n",
    "\n",
    "Beverly_Grove_df['TAXAMT'] = Beverly_Grove_df['TAXAMT'].astype(int)\n",
    "Beverly_Grove_df['EFFYRBLT'] = Beverly_Grove_df['EFFYRBLT'].astype(int)"
   ]
  },
  {
   "cell_type": "code",
   "execution_count": 237,
   "metadata": {},
   "outputs": [
    {
     "data": {
      "text/html": [
       "<div>\n",
       "<style scoped>\n",
       "    .dataframe tbody tr th:only-of-type {\n",
       "        vertical-align: middle;\n",
       "    }\n",
       "\n",
       "    .dataframe tbody tr th {\n",
       "        vertical-align: top;\n",
       "    }\n",
       "\n",
       "    .dataframe thead th {\n",
       "        text-align: right;\n",
       "    }\n",
       "</style>\n",
       "<table border=\"1\" class=\"dataframe\">\n",
       "  <thead>\n",
       "    <tr style=\"text-align: right;\">\n",
       "      <th></th>\n",
       "      <th>Owned by Trust?</th>\n",
       "      <th>Owned by Business?</th>\n",
       "      <th>SITEADDRESS</th>\n",
       "      <th>MAIL DIFFERENT FROM SITE?</th>\n",
       "      <th>MAIL OUTSIDE CA?</th>\n",
       "      <th>TITLECO1</th>\n",
       "      <th>ASSDTOTAL</th>\n",
       "      <th>ASSDLAND</th>\n",
       "      <th>ASSDSTCT</th>\n",
       "      <th>ASSDOTHR</th>\n",
       "      <th>...</th>\n",
       "      <th>NAME CHANGE</th>\n",
       "      <th>Other</th>\n",
       "      <th>PARTNERSHIP</th>\n",
       "      <th>PERSONAL REP</th>\n",
       "      <th>QUIT CLAIM</th>\n",
       "      <th>RE-RECORD</th>\n",
       "      <th>TAX DEED</th>\n",
       "      <th>TRUST TRANSFER</th>\n",
       "      <th>TRUSTEES</th>\n",
       "      <th>WARRANTY</th>\n",
       "    </tr>\n",
       "    <tr>\n",
       "      <th>PARCEL</th>\n",
       "      <th></th>\n",
       "      <th></th>\n",
       "      <th></th>\n",
       "      <th></th>\n",
       "      <th></th>\n",
       "      <th></th>\n",
       "      <th></th>\n",
       "      <th></th>\n",
       "      <th></th>\n",
       "      <th></th>\n",
       "      <th></th>\n",
       "      <th></th>\n",
       "      <th></th>\n",
       "      <th></th>\n",
       "      <th></th>\n",
       "      <th></th>\n",
       "      <th></th>\n",
       "      <th></th>\n",
       "      <th></th>\n",
       "      <th></th>\n",
       "      <th></th>\n",
       "    </tr>\n",
       "  </thead>\n",
       "  <tbody>\n",
       "    <tr>\n",
       "      <th>5087012023</th>\n",
       "      <td>0</td>\n",
       "      <td>0</td>\n",
       "      <td>1040 S La Jolla Ave #VE</td>\n",
       "      <td>0</td>\n",
       "      <td>0</td>\n",
       "      <td>0</td>\n",
       "      <td>289000</td>\n",
       "      <td>116000</td>\n",
       "      <td>173000</td>\n",
       "      <td>0</td>\n",
       "      <td>...</td>\n",
       "      <td>0</td>\n",
       "      <td>0</td>\n",
       "      <td>0</td>\n",
       "      <td>0</td>\n",
       "      <td>0</td>\n",
       "      <td>0</td>\n",
       "      <td>0</td>\n",
       "      <td>1</td>\n",
       "      <td>0</td>\n",
       "      <td>0</td>\n",
       "    </tr>\n",
       "    <tr>\n",
       "      <th>4332020041</th>\n",
       "      <td>0</td>\n",
       "      <td>0</td>\n",
       "      <td>1045 S Bedford St #9</td>\n",
       "      <td>1</td>\n",
       "      <td>0</td>\n",
       "      <td>0</td>\n",
       "      <td>151323</td>\n",
       "      <td>41266</td>\n",
       "      <td>110057</td>\n",
       "      <td>0</td>\n",
       "      <td>...</td>\n",
       "      <td>0</td>\n",
       "      <td>0</td>\n",
       "      <td>0</td>\n",
       "      <td>0</td>\n",
       "      <td>0</td>\n",
       "      <td>0</td>\n",
       "      <td>0</td>\n",
       "      <td>0</td>\n",
       "      <td>0</td>\n",
       "      <td>0</td>\n",
       "    </tr>\n",
       "    <tr>\n",
       "      <th>4332020051</th>\n",
       "      <td>0</td>\n",
       "      <td>0</td>\n",
       "      <td>1045 S Bedford St #1</td>\n",
       "      <td>0</td>\n",
       "      <td>0</td>\n",
       "      <td>0</td>\n",
       "      <td>376863</td>\n",
       "      <td>223789</td>\n",
       "      <td>153074</td>\n",
       "      <td>0</td>\n",
       "      <td>...</td>\n",
       "      <td>0</td>\n",
       "      <td>0</td>\n",
       "      <td>0</td>\n",
       "      <td>0</td>\n",
       "      <td>0</td>\n",
       "      <td>0</td>\n",
       "      <td>0</td>\n",
       "      <td>0</td>\n",
       "      <td>0</td>\n",
       "      <td>0</td>\n",
       "    </tr>\n",
       "  </tbody>\n",
       "</table>\n",
       "<p>3 rows × 57 columns</p>\n",
       "</div>"
      ],
      "text/plain": [
       "            Owned by Trust?  Owned by Business?              SITEADDRESS  \\\n",
       "PARCEL                                                                     \n",
       "5087012023                0                   0  1040 S La Jolla Ave #VE   \n",
       "4332020041                0                   0     1045 S Bedford St #9   \n",
       "4332020051                0                   0     1045 S Bedford St #1   \n",
       "\n",
       "            MAIL DIFFERENT FROM SITE?  MAIL OUTSIDE CA?  TITLECO1  ASSDTOTAL  \\\n",
       "PARCEL                                                                         \n",
       "5087012023                          0                 0         0     289000   \n",
       "4332020041                          1                 0         0     151323   \n",
       "4332020051                          0                 0         0     376863   \n",
       "\n",
       "            ASSDLAND  ASSDSTCT  ASSDOTHR  ...  NAME CHANGE  Other  \\\n",
       "PARCEL                                    ...                       \n",
       "5087012023    116000    173000         0  ...            0      0   \n",
       "4332020041     41266    110057         0  ...            0      0   \n",
       "4332020051    223789    153074         0  ...            0      0   \n",
       "\n",
       "            PARTNERSHIP  PERSONAL REP  QUIT CLAIM  RE-RECORD  TAX DEED  \\\n",
       "PARCEL                                                                   \n",
       "5087012023            0             0           0          0         0   \n",
       "4332020041            0             0           0          0         0   \n",
       "4332020051            0             0           0          0         0   \n",
       "\n",
       "            TRUST TRANSFER  TRUSTEES  WARRANTY  \n",
       "PARCEL                                          \n",
       "5087012023               1         0         0  \n",
       "4332020041               0         0         0  \n",
       "4332020051               0         0         0  \n",
       "\n",
       "[3 rows x 57 columns]"
      ]
     },
     "execution_count": 237,
     "metadata": {},
     "output_type": "execute_result"
    }
   ],
   "source": [
    "# Make sure our dataframe is only Condos so exclude every property that doesn't have a '#' in its site address\n",
    "\n",
    "Beverly_Grove_df = Beverly_Grove_df[Beverly_Grove_df['SITEADDRESS'].str.contains('#')]\n",
    "Beverly_Grove_df.head(3)"
   ]
  },
  {
   "cell_type": "code",
   "execution_count": 238,
   "metadata": {},
   "outputs": [],
   "source": [
    "# Now drop the SiteAddress column\n",
    "Beverly_Grove_df.drop(['SITEADDRESS'], axis=1, inplace=True)"
   ]
  },
  {
   "cell_type": "code",
   "execution_count": 239,
   "metadata": {},
   "outputs": [],
   "source": [
    "# Step 1: Create our X and y\n",
    "\n",
    "y = Beverly_Grove_df['Did it sell?']\n",
    "X = Beverly_Grove_df.drop(['Did it sell?'], 1)"
   ]
  },
  {
   "cell_type": "code",
   "execution_count": 240,
   "metadata": {},
   "outputs": [
    {
     "data": {
      "text/plain": [
       "array([5087012023, 4332020041, 4332020051, ..., 5089003038, 5089003039,\n",
       "       5089003040])"
      ]
     },
     "execution_count": 240,
     "metadata": {},
     "output_type": "execute_result"
    }
   ],
   "source": [
    "APN = Beverly_Grove_df.index.values\n",
    "APN"
   ]
  },
  {
   "cell_type": "code",
   "execution_count": 241,
   "metadata": {},
   "outputs": [],
   "source": [
    "# Step 2: Use PCA to reduce dimension to three principal components.\n",
    "from sklearn.decomposition import PCA\n",
    "\n",
    "pca = PCA(n_components=3)\n",
    "X_pca = pca.fit_transform(X)"
   ]
  },
  {
   "cell_type": "code",
   "execution_count": 242,
   "metadata": {},
   "outputs": [],
   "source": [
    "# Step 3: Train, test, split\n",
    "\n",
    "X_train, X_test, y_train, y_test = train_test_split(X_pca, y, random_state=78, stratify=y)"
   ]
  },
  {
   "cell_type": "code",
   "execution_count": 243,
   "metadata": {},
   "outputs": [],
   "source": [
    "# Step 4: Scale our data\n",
    "\n",
    "# Create the StandardScaler instance\n",
    "scaler = StandardScaler()\n",
    "\n",
    "# Fit our scaler, named 'scaler' to our data, which produces a new StandardScaler object\n",
    "# which we call 'X_scaler'\n",
    "X_scaler = scaler.fit(X_train)\n",
    "\n",
    "# Scale the data\n",
    "X_train_scaled = X_scaler.transform(X_train)\n",
    "X_test_scaled = X_scaler.transform(X_test)"
   ]
  },
  {
   "cell_type": "code",
   "execution_count": 244,
   "metadata": {},
   "outputs": [],
   "source": [
    "X_train_scaled_APN = []"
   ]
  },
  {
   "cell_type": "code",
   "execution_count": 245,
   "metadata": {},
   "outputs": [
    {
     "data": {
      "text/plain": [
       "Counter({0: 1380, 1: 1380})"
      ]
     },
     "execution_count": 245,
     "metadata": {},
     "output_type": "execute_result"
    }
   ],
   "source": [
    "# implement random oversampling\n",
    "from imblearn.over_sampling import RandomOverSampler\n",
    "ros = RandomOverSampler(random_state=1)\n",
    "X_random_oversampled, y_random_oversampled = ros.fit_resample(X_train_scaled, y_train)\n",
    "\n",
    "Counter(y_random_oversampled)"
   ]
  },
  {
   "cell_type": "code",
   "execution_count": 246,
   "metadata": {},
   "outputs": [
    {
     "data": {
      "text/plain": [
       "LogisticRegression(class_weight='balanced', max_iter=300, random_state=78)"
      ]
     },
     "execution_count": 246,
     "metadata": {},
     "output_type": "execute_result"
    }
   ],
   "source": [
    "# Logistic regression using random oversampled data\n",
    "from sklearn.linear_model import LogisticRegression\n",
    "\n",
    "model = LogisticRegression(solver='lbfgs', \n",
    "                                max_iter=300,\n",
    "                                random_state=78,\n",
    "                                class_weight=\"balanced\")\n",
    "\n",
    "model.fit(X_random_oversampled, y_random_oversampled)"
   ]
  },
  {
   "cell_type": "code",
   "execution_count": 247,
   "metadata": {},
   "outputs": [],
   "source": [
    "# Evaluate the model\n",
    "y_pred = model.predict(X_test_scaled)"
   ]
  },
  {
   "cell_type": "code",
   "execution_count": 248,
   "metadata": {},
   "outputs": [
    {
     "name": "stdout",
     "output_type": "stream",
     "text": [
      " Logistic regression model accuracy: 0.566\n"
     ]
    }
   ],
   "source": [
    "print(f\" Logistic regression model accuracy: {accuracy_score(y_test, y_pred):.3f}\")"
   ]
  },
  {
   "cell_type": "code",
   "execution_count": 249,
   "metadata": {},
   "outputs": [
    {
     "data": {
      "text/plain": [
       "0.48128019323671495"
      ]
     },
     "execution_count": 249,
     "metadata": {},
     "output_type": "execute_result"
    }
   ],
   "source": [
    "# just for shits n' gigs, lets find the balanced accuracy score\n",
    "\n",
    "from sklearn.metrics import balanced_accuracy_score\n",
    "balanced_accuracy_score(y_test, y_pred)"
   ]
  },
  {
   "cell_type": "code",
   "execution_count": 250,
   "metadata": {},
   "outputs": [
    {
     "data": {
      "text/plain": [
       "0.6593455279133104"
      ]
     },
     "execution_count": 250,
     "metadata": {},
     "output_type": "execute_result"
    }
   ],
   "source": [
    "f1_score(y_test, y_pred, average=\"weighted\")"
   ]
  },
  {
   "cell_type": "code",
   "execution_count": 251,
   "metadata": {},
   "outputs": [
    {
     "data": {
      "text/plain": [
       "array([[269, 191],\n",
       "       [ 28,  17]])"
      ]
     },
     "execution_count": 251,
     "metadata": {},
     "output_type": "execute_result"
    }
   ],
   "source": [
    "# See our results in a confusion matrix\n",
    "from sklearn.metrics import confusion_matrix\n",
    "confusion_matrix(y_test, y_pred)"
   ]
  },
  {
   "cell_type": "code",
   "execution_count": 252,
   "metadata": {},
   "outputs": [
    {
     "name": "stdout",
     "output_type": "stream",
     "text": [
      "              precision    recall  f1-score   support\n",
      "\n",
      "           0       0.91      0.58      0.71       460\n",
      "           1       0.08      0.38      0.13        45\n",
      "\n",
      "    accuracy                           0.57       505\n",
      "   macro avg       0.49      0.48      0.42       505\n",
      "weighted avg       0.83      0.57      0.66       505\n",
      "\n"
     ]
    }
   ],
   "source": [
    "# evaluate\n",
    "from sklearn.metrics import classification_report\n",
    "print(classification_report(y_test, y_pred))"
   ]
  },
  {
   "cell_type": "code",
   "execution_count": null,
   "metadata": {},
   "outputs": [],
   "source": []
  },
  {
   "cell_type": "code",
   "execution_count": null,
   "metadata": {},
   "outputs": [],
   "source": []
  }
 ],
 "metadata": {
  "kernelspec": {
   "display_name": "mlenv",
   "language": "python",
   "name": "mlenv"
  },
  "language_info": {
   "codemirror_mode": {
    "name": "ipython",
    "version": 3
   },
   "file_extension": ".py",
   "mimetype": "text/x-python",
   "name": "python",
   "nbconvert_exporter": "python",
   "pygments_lexer": "ipython3",
   "version": "3.7.9"
  }
 },
 "nbformat": 4,
 "nbformat_minor": 4
}
