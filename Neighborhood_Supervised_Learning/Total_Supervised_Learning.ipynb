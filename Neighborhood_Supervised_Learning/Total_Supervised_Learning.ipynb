{
 "cells": [
  {
   "cell_type": "code",
   "execution_count": 549,
   "metadata": {},
   "outputs": [],
   "source": [
    "# import our dependencies\n",
    "\n",
    "%matplotlib inline\n",
    "from collections import Counter\n",
    "import pandas as pd\n",
    "from imblearn.over_sampling import RandomOverSampler\n",
    "from sklearn.model_selection import train_test_split\n",
    "from sklearn.metrics import accuracy_score\n",
    "from sklearn.svm import SVC\n",
    "from sklearn.linear_model import LogisticRegression\n",
    "from sklearn.preprocessing import StandardScaler,OneHotEncoder\n",
    "import numpy as np\n",
    "import os"
   ]
  },
  {
   "cell_type": "markdown",
   "metadata": {},
   "source": [
    "# Import The Total File"
   ]
  },
  {
   "cell_type": "code",
   "execution_count": 550,
   "metadata": {},
   "outputs": [],
   "source": [
    "file = 'Total_Cleaned.csv'\n",
    "\n",
    "location = '/Users/Admin/Desktop/GW_Bootcamp/Analysis_Projects/Final_Project_Team_1/'"
   ]
  },
  {
   "cell_type": "code",
   "execution_count": 551,
   "metadata": {},
   "outputs": [],
   "source": [
    "path = os.path.join(location, file)"
   ]
  },
  {
   "cell_type": "code",
   "execution_count": 552,
   "metadata": {},
   "outputs": [
    {
     "data": {
      "text/html": [
       "<div>\n",
       "<style scoped>\n",
       "    .dataframe tbody tr th:only-of-type {\n",
       "        vertical-align: middle;\n",
       "    }\n",
       "\n",
       "    .dataframe tbody tr th {\n",
       "        vertical-align: top;\n",
       "    }\n",
       "\n",
       "    .dataframe thead th {\n",
       "        text-align: right;\n",
       "    }\n",
       "</style>\n",
       "<table border=\"1\" class=\"dataframe\">\n",
       "  <thead>\n",
       "    <tr style=\"text-align: right;\">\n",
       "      <th></th>\n",
       "      <th>Owned by Trust?</th>\n",
       "      <th>Owned by Business?</th>\n",
       "      <th>SITEADDRESS</th>\n",
       "      <th>MAIL DIFFERENT FROM SITE?</th>\n",
       "      <th>MAIL OUTSIDE CA?</th>\n",
       "      <th>TITLECO1</th>\n",
       "      <th>ASSDTOTAL</th>\n",
       "      <th>ASSDLAND</th>\n",
       "      <th>ASSDSTCT</th>\n",
       "      <th>ASSDOTHR</th>\n",
       "      <th>...</th>\n",
       "      <th>PERSONAL REP</th>\n",
       "      <th>QUIT CLAIM</th>\n",
       "      <th>RE-RECORD</th>\n",
       "      <th>RECEIVERS DEED</th>\n",
       "      <th>SHERIFFS</th>\n",
       "      <th>SPECIAL WARRANTY</th>\n",
       "      <th>TAX DEED</th>\n",
       "      <th>TRUST TRANSFER</th>\n",
       "      <th>TRUSTEES</th>\n",
       "      <th>WARRANTY</th>\n",
       "    </tr>\n",
       "    <tr>\n",
       "      <th>PARCEL</th>\n",
       "      <th></th>\n",
       "      <th></th>\n",
       "      <th></th>\n",
       "      <th></th>\n",
       "      <th></th>\n",
       "      <th></th>\n",
       "      <th></th>\n",
       "      <th></th>\n",
       "      <th></th>\n",
       "      <th></th>\n",
       "      <th></th>\n",
       "      <th></th>\n",
       "      <th></th>\n",
       "      <th></th>\n",
       "      <th></th>\n",
       "      <th></th>\n",
       "      <th></th>\n",
       "      <th></th>\n",
       "      <th></th>\n",
       "      <th></th>\n",
       "      <th></th>\n",
       "    </tr>\n",
       "  </thead>\n",
       "  <tbody>\n",
       "    <tr>\n",
       "      <th>5505026001</th>\n",
       "      <td>1</td>\n",
       "      <td>0</td>\n",
       "      <td>354 N Plymouth Blvd</td>\n",
       "      <td>1</td>\n",
       "      <td>0</td>\n",
       "      <td>0</td>\n",
       "      <td>2054958</td>\n",
       "      <td>1583885</td>\n",
       "      <td>471073</td>\n",
       "      <td>0</td>\n",
       "      <td>...</td>\n",
       "      <td>0</td>\n",
       "      <td>0</td>\n",
       "      <td>0</td>\n",
       "      <td>0</td>\n",
       "      <td>0</td>\n",
       "      <td>0</td>\n",
       "      <td>0</td>\n",
       "      <td>0</td>\n",
       "      <td>0</td>\n",
       "      <td>0</td>\n",
       "    </tr>\n",
       "    <tr>\n",
       "      <th>5515028023</th>\n",
       "      <td>1</td>\n",
       "      <td>0</td>\n",
       "      <td>143 N Plymouth Blvd</td>\n",
       "      <td>0</td>\n",
       "      <td>0</td>\n",
       "      <td>0</td>\n",
       "      <td>915420</td>\n",
       "      <td>592174</td>\n",
       "      <td>323246</td>\n",
       "      <td>0</td>\n",
       "      <td>...</td>\n",
       "      <td>0</td>\n",
       "      <td>0</td>\n",
       "      <td>0</td>\n",
       "      <td>0</td>\n",
       "      <td>0</td>\n",
       "      <td>0</td>\n",
       "      <td>0</td>\n",
       "      <td>0</td>\n",
       "      <td>0</td>\n",
       "      <td>0</td>\n",
       "    </tr>\n",
       "    <tr>\n",
       "      <th>5515022015</th>\n",
       "      <td>1</td>\n",
       "      <td>0</td>\n",
       "      <td>253 S Plymouth Blvd</td>\n",
       "      <td>0</td>\n",
       "      <td>0</td>\n",
       "      <td>0</td>\n",
       "      <td>1304706</td>\n",
       "      <td>731909</td>\n",
       "      <td>572797</td>\n",
       "      <td>0</td>\n",
       "      <td>...</td>\n",
       "      <td>0</td>\n",
       "      <td>0</td>\n",
       "      <td>0</td>\n",
       "      <td>0</td>\n",
       "      <td>0</td>\n",
       "      <td>0</td>\n",
       "      <td>0</td>\n",
       "      <td>0</td>\n",
       "      <td>0</td>\n",
       "      <td>0</td>\n",
       "    </tr>\n",
       "    <tr>\n",
       "      <th>5513010003</th>\n",
       "      <td>1</td>\n",
       "      <td>0</td>\n",
       "      <td>164 N Las Palmas Ave</td>\n",
       "      <td>0</td>\n",
       "      <td>0</td>\n",
       "      <td>0</td>\n",
       "      <td>2518796</td>\n",
       "      <td>1609956</td>\n",
       "      <td>908840</td>\n",
       "      <td>0</td>\n",
       "      <td>...</td>\n",
       "      <td>0</td>\n",
       "      <td>0</td>\n",
       "      <td>0</td>\n",
       "      <td>0</td>\n",
       "      <td>0</td>\n",
       "      <td>0</td>\n",
       "      <td>0</td>\n",
       "      <td>0</td>\n",
       "      <td>0</td>\n",
       "      <td>0</td>\n",
       "    </tr>\n",
       "    <tr>\n",
       "      <th>5515012030</th>\n",
       "      <td>1</td>\n",
       "      <td>0</td>\n",
       "      <td>108 S Rossmore Ave</td>\n",
       "      <td>1</td>\n",
       "      <td>0</td>\n",
       "      <td>0</td>\n",
       "      <td>1428176</td>\n",
       "      <td>999727</td>\n",
       "      <td>428449</td>\n",
       "      <td>0</td>\n",
       "      <td>...</td>\n",
       "      <td>0</td>\n",
       "      <td>0</td>\n",
       "      <td>0</td>\n",
       "      <td>0</td>\n",
       "      <td>0</td>\n",
       "      <td>0</td>\n",
       "      <td>0</td>\n",
       "      <td>0</td>\n",
       "      <td>0</td>\n",
       "      <td>0</td>\n",
       "    </tr>\n",
       "  </tbody>\n",
       "</table>\n",
       "<p>5 rows × 67 columns</p>\n",
       "</div>"
      ],
      "text/plain": [
       "            Owned by Trust?  Owned by Business?           SITEADDRESS  \\\n",
       "PARCEL                                                                  \n",
       "5505026001                1                   0   354 N Plymouth Blvd   \n",
       "5515028023                1                   0   143 N Plymouth Blvd   \n",
       "5515022015                1                   0   253 S Plymouth Blvd   \n",
       "5513010003                1                   0  164 N Las Palmas Ave   \n",
       "5515012030                1                   0    108 S Rossmore Ave   \n",
       "\n",
       "            MAIL DIFFERENT FROM SITE?  MAIL OUTSIDE CA?  TITLECO1  ASSDTOTAL  \\\n",
       "PARCEL                                                                         \n",
       "5505026001                          1                 0         0    2054958   \n",
       "5515028023                          0                 0         0     915420   \n",
       "5515022015                          0                 0         0    1304706   \n",
       "5513010003                          0                 0         0    2518796   \n",
       "5515012030                          1                 0         0    1428176   \n",
       "\n",
       "            ASSDLAND  ASSDSTCT  ASSDOTHR  ...  PERSONAL REP  QUIT CLAIM  \\\n",
       "PARCEL                                    ...                             \n",
       "5505026001   1583885    471073         0  ...             0           0   \n",
       "5515028023    592174    323246         0  ...             0           0   \n",
       "5515022015    731909    572797         0  ...             0           0   \n",
       "5513010003   1609956    908840         0  ...             0           0   \n",
       "5515012030    999727    428449         0  ...             0           0   \n",
       "\n",
       "            RE-RECORD  RECEIVERS DEED  SHERIFFS  SPECIAL WARRANTY  TAX DEED  \\\n",
       "PARCEL                                                                        \n",
       "5505026001          0               0         0                 0         0   \n",
       "5515028023          0               0         0                 0         0   \n",
       "5515022015          0               0         0                 0         0   \n",
       "5513010003          0               0         0                 0         0   \n",
       "5515012030          0               0         0                 0         0   \n",
       "\n",
       "            TRUST TRANSFER  TRUSTEES  WARRANTY  \n",
       "PARCEL                                          \n",
       "5505026001               0         0         0  \n",
       "5515028023               0         0         0  \n",
       "5515022015               0         0         0  \n",
       "5513010003               0         0         0  \n",
       "5515012030               0         0         0  \n",
       "\n",
       "[5 rows x 67 columns]"
      ]
     },
     "execution_count": 552,
     "metadata": {},
     "output_type": "execute_result"
    }
   ],
   "source": [
    "# import our file\n",
    "\n",
    "Total_df = pd.read_csv(path, index_col='PARCEL')\n",
    "Total_df.head()"
   ]
  },
  {
   "cell_type": "code",
   "execution_count": 553,
   "metadata": {},
   "outputs": [],
   "source": [
    "Total_df = Total_df.dropna()"
   ]
  },
  {
   "cell_type": "code",
   "execution_count": 554,
   "metadata": {},
   "outputs": [
    {
     "data": {
      "text/plain": [
       "Owned by Trust?               int64\n",
       "Owned by Business?            int64\n",
       "SITEADDRESS                  object\n",
       "MAIL DIFFERENT FROM SITE?     int64\n",
       "MAIL OUTSIDE CA?              int64\n",
       "                              ...  \n",
       "SPECIAL WARRANTY              int64\n",
       "TAX DEED                      int64\n",
       "TRUST TRANSFER                int64\n",
       "TRUSTEES                      int64\n",
       "WARRANTY                      int64\n",
       "Length: 67, dtype: object"
      ]
     },
     "execution_count": 554,
     "metadata": {},
     "output_type": "execute_result"
    }
   ],
   "source": [
    "Total_df.dtypes"
   ]
  },
  {
   "cell_type": "code",
   "execution_count": 555,
   "metadata": {},
   "outputs": [],
   "source": [
    "Total_df['TAXAMT'] = Total_df['TAXAMT'].astype(int)\n",
    "Total_df['EFFYRBLT'] = Total_df['EFFYRBLT'].astype(int)"
   ]
  },
  {
   "cell_type": "code",
   "execution_count": 556,
   "metadata": {},
   "outputs": [
    {
     "data": {
      "text/html": [
       "<div>\n",
       "<style scoped>\n",
       "    .dataframe tbody tr th:only-of-type {\n",
       "        vertical-align: middle;\n",
       "    }\n",
       "\n",
       "    .dataframe tbody tr th {\n",
       "        vertical-align: top;\n",
       "    }\n",
       "\n",
       "    .dataframe thead th {\n",
       "        text-align: right;\n",
       "    }\n",
       "</style>\n",
       "<table border=\"1\" class=\"dataframe\">\n",
       "  <thead>\n",
       "    <tr style=\"text-align: right;\">\n",
       "      <th></th>\n",
       "      <th>Owned by Trust?</th>\n",
       "      <th>Owned by Business?</th>\n",
       "      <th>SITEADDRESS</th>\n",
       "      <th>MAIL DIFFERENT FROM SITE?</th>\n",
       "      <th>MAIL OUTSIDE CA?</th>\n",
       "      <th>TITLECO1</th>\n",
       "      <th>ASSDTOTAL</th>\n",
       "      <th>ASSDLAND</th>\n",
       "      <th>ASSDSTCT</th>\n",
       "      <th>ASSDOTHR</th>\n",
       "      <th>...</th>\n",
       "      <th>PERSONAL REP</th>\n",
       "      <th>QUIT CLAIM</th>\n",
       "      <th>RE-RECORD</th>\n",
       "      <th>RECEIVERS DEED</th>\n",
       "      <th>SHERIFFS</th>\n",
       "      <th>SPECIAL WARRANTY</th>\n",
       "      <th>TAX DEED</th>\n",
       "      <th>TRUST TRANSFER</th>\n",
       "      <th>TRUSTEES</th>\n",
       "      <th>WARRANTY</th>\n",
       "    </tr>\n",
       "    <tr>\n",
       "      <th>PARCEL</th>\n",
       "      <th></th>\n",
       "      <th></th>\n",
       "      <th></th>\n",
       "      <th></th>\n",
       "      <th></th>\n",
       "      <th></th>\n",
       "      <th></th>\n",
       "      <th></th>\n",
       "      <th></th>\n",
       "      <th></th>\n",
       "      <th></th>\n",
       "      <th></th>\n",
       "      <th></th>\n",
       "      <th></th>\n",
       "      <th></th>\n",
       "      <th></th>\n",
       "      <th></th>\n",
       "      <th></th>\n",
       "      <th></th>\n",
       "      <th></th>\n",
       "      <th></th>\n",
       "    </tr>\n",
       "  </thead>\n",
       "  <tbody>\n",
       "    <tr>\n",
       "      <th>5505026001</th>\n",
       "      <td>1</td>\n",
       "      <td>0</td>\n",
       "      <td>354 N Plymouth Blvd</td>\n",
       "      <td>1</td>\n",
       "      <td>0</td>\n",
       "      <td>0</td>\n",
       "      <td>2054958</td>\n",
       "      <td>1583885</td>\n",
       "      <td>471073</td>\n",
       "      <td>0</td>\n",
       "      <td>...</td>\n",
       "      <td>0</td>\n",
       "      <td>0</td>\n",
       "      <td>0</td>\n",
       "      <td>0</td>\n",
       "      <td>0</td>\n",
       "      <td>0</td>\n",
       "      <td>0</td>\n",
       "      <td>0</td>\n",
       "      <td>0</td>\n",
       "      <td>0</td>\n",
       "    </tr>\n",
       "    <tr>\n",
       "      <th>5515028023</th>\n",
       "      <td>1</td>\n",
       "      <td>0</td>\n",
       "      <td>143 N Plymouth Blvd</td>\n",
       "      <td>0</td>\n",
       "      <td>0</td>\n",
       "      <td>0</td>\n",
       "      <td>915420</td>\n",
       "      <td>592174</td>\n",
       "      <td>323246</td>\n",
       "      <td>0</td>\n",
       "      <td>...</td>\n",
       "      <td>0</td>\n",
       "      <td>0</td>\n",
       "      <td>0</td>\n",
       "      <td>0</td>\n",
       "      <td>0</td>\n",
       "      <td>0</td>\n",
       "      <td>0</td>\n",
       "      <td>0</td>\n",
       "      <td>0</td>\n",
       "      <td>0</td>\n",
       "    </tr>\n",
       "    <tr>\n",
       "      <th>5515022015</th>\n",
       "      <td>1</td>\n",
       "      <td>0</td>\n",
       "      <td>253 S Plymouth Blvd</td>\n",
       "      <td>0</td>\n",
       "      <td>0</td>\n",
       "      <td>0</td>\n",
       "      <td>1304706</td>\n",
       "      <td>731909</td>\n",
       "      <td>572797</td>\n",
       "      <td>0</td>\n",
       "      <td>...</td>\n",
       "      <td>0</td>\n",
       "      <td>0</td>\n",
       "      <td>0</td>\n",
       "      <td>0</td>\n",
       "      <td>0</td>\n",
       "      <td>0</td>\n",
       "      <td>0</td>\n",
       "      <td>0</td>\n",
       "      <td>0</td>\n",
       "      <td>0</td>\n",
       "    </tr>\n",
       "  </tbody>\n",
       "</table>\n",
       "<p>3 rows × 67 columns</p>\n",
       "</div>"
      ],
      "text/plain": [
       "            Owned by Trust?  Owned by Business?          SITEADDRESS  \\\n",
       "PARCEL                                                                 \n",
       "5505026001                1                   0  354 N Plymouth Blvd   \n",
       "5515028023                1                   0  143 N Plymouth Blvd   \n",
       "5515022015                1                   0  253 S Plymouth Blvd   \n",
       "\n",
       "            MAIL DIFFERENT FROM SITE?  MAIL OUTSIDE CA?  TITLECO1  ASSDTOTAL  \\\n",
       "PARCEL                                                                         \n",
       "5505026001                          1                 0         0    2054958   \n",
       "5515028023                          0                 0         0     915420   \n",
       "5515022015                          0                 0         0    1304706   \n",
       "\n",
       "            ASSDLAND  ASSDSTCT  ASSDOTHR  ...  PERSONAL REP  QUIT CLAIM  \\\n",
       "PARCEL                                    ...                             \n",
       "5505026001   1583885    471073         0  ...             0           0   \n",
       "5515028023    592174    323246         0  ...             0           0   \n",
       "5515022015    731909    572797         0  ...             0           0   \n",
       "\n",
       "            RE-RECORD  RECEIVERS DEED  SHERIFFS  SPECIAL WARRANTY  TAX DEED  \\\n",
       "PARCEL                                                                        \n",
       "5505026001          0               0         0                 0         0   \n",
       "5515028023          0               0         0                 0         0   \n",
       "5515022015          0               0         0                 0         0   \n",
       "\n",
       "            TRUST TRANSFER  TRUSTEES  WARRANTY  \n",
       "PARCEL                                          \n",
       "5505026001               0         0         0  \n",
       "5515028023               0         0         0  \n",
       "5515022015               0         0         0  \n",
       "\n",
       "[3 rows x 67 columns]"
      ]
     },
     "execution_count": 556,
     "metadata": {},
     "output_type": "execute_result"
    }
   ],
   "source": [
    "# Make sure our dataframe is only SFR's so exclude every property that has an '#' in its site address\n",
    "\n",
    "Total_df = Total_df[~Total_df['SITEADDRESS'].str.contains('#')]\n",
    "Total_df.head(3)"
   ]
  },
  {
   "cell_type": "code",
   "execution_count": 557,
   "metadata": {},
   "outputs": [],
   "source": [
    "# Now drop the SiteAddress column\n",
    "Total_df.drop(['SITEADDRESS'], axis=1, inplace=True)"
   ]
  },
  {
   "cell_type": "code",
   "execution_count": 558,
   "metadata": {},
   "outputs": [
    {
     "data": {
      "text/html": [
       "<div>\n",
       "<style scoped>\n",
       "    .dataframe tbody tr th:only-of-type {\n",
       "        vertical-align: middle;\n",
       "    }\n",
       "\n",
       "    .dataframe tbody tr th {\n",
       "        vertical-align: top;\n",
       "    }\n",
       "\n",
       "    .dataframe thead th {\n",
       "        text-align: right;\n",
       "    }\n",
       "</style>\n",
       "<table border=\"1\" class=\"dataframe\">\n",
       "  <thead>\n",
       "    <tr style=\"text-align: right;\">\n",
       "      <th></th>\n",
       "      <th>Owned by Trust?</th>\n",
       "      <th>Owned by Business?</th>\n",
       "      <th>MAIL DIFFERENT FROM SITE?</th>\n",
       "      <th>MAIL OUTSIDE CA?</th>\n",
       "      <th>TITLECO1</th>\n",
       "      <th>ASSDTOTAL</th>\n",
       "      <th>ASSDLAND</th>\n",
       "      <th>ASSDSTCT</th>\n",
       "      <th>ASSDOTHR</th>\n",
       "      <th>EXEMPTCD</th>\n",
       "      <th>...</th>\n",
       "      <th>PERSONAL REP</th>\n",
       "      <th>QUIT CLAIM</th>\n",
       "      <th>RE-RECORD</th>\n",
       "      <th>RECEIVERS DEED</th>\n",
       "      <th>SHERIFFS</th>\n",
       "      <th>SPECIAL WARRANTY</th>\n",
       "      <th>TAX DEED</th>\n",
       "      <th>TRUST TRANSFER</th>\n",
       "      <th>TRUSTEES</th>\n",
       "      <th>WARRANTY</th>\n",
       "    </tr>\n",
       "    <tr>\n",
       "      <th>PARCEL</th>\n",
       "      <th></th>\n",
       "      <th></th>\n",
       "      <th></th>\n",
       "      <th></th>\n",
       "      <th></th>\n",
       "      <th></th>\n",
       "      <th></th>\n",
       "      <th></th>\n",
       "      <th></th>\n",
       "      <th></th>\n",
       "      <th></th>\n",
       "      <th></th>\n",
       "      <th></th>\n",
       "      <th></th>\n",
       "      <th></th>\n",
       "      <th></th>\n",
       "      <th></th>\n",
       "      <th></th>\n",
       "      <th></th>\n",
       "      <th></th>\n",
       "      <th></th>\n",
       "    </tr>\n",
       "  </thead>\n",
       "  <tbody>\n",
       "    <tr>\n",
       "      <th>5505026001</th>\n",
       "      <td>1</td>\n",
       "      <td>0</td>\n",
       "      <td>1</td>\n",
       "      <td>0</td>\n",
       "      <td>0</td>\n",
       "      <td>2054958</td>\n",
       "      <td>1583885</td>\n",
       "      <td>471073</td>\n",
       "      <td>0</td>\n",
       "      <td>0</td>\n",
       "      <td>...</td>\n",
       "      <td>0</td>\n",
       "      <td>0</td>\n",
       "      <td>0</td>\n",
       "      <td>0</td>\n",
       "      <td>0</td>\n",
       "      <td>0</td>\n",
       "      <td>0</td>\n",
       "      <td>0</td>\n",
       "      <td>0</td>\n",
       "      <td>0</td>\n",
       "    </tr>\n",
       "    <tr>\n",
       "      <th>5515028023</th>\n",
       "      <td>1</td>\n",
       "      <td>0</td>\n",
       "      <td>0</td>\n",
       "      <td>0</td>\n",
       "      <td>0</td>\n",
       "      <td>915420</td>\n",
       "      <td>592174</td>\n",
       "      <td>323246</td>\n",
       "      <td>0</td>\n",
       "      <td>0</td>\n",
       "      <td>...</td>\n",
       "      <td>0</td>\n",
       "      <td>0</td>\n",
       "      <td>0</td>\n",
       "      <td>0</td>\n",
       "      <td>0</td>\n",
       "      <td>0</td>\n",
       "      <td>0</td>\n",
       "      <td>0</td>\n",
       "      <td>0</td>\n",
       "      <td>0</td>\n",
       "    </tr>\n",
       "    <tr>\n",
       "      <th>5515022015</th>\n",
       "      <td>1</td>\n",
       "      <td>0</td>\n",
       "      <td>0</td>\n",
       "      <td>0</td>\n",
       "      <td>0</td>\n",
       "      <td>1304706</td>\n",
       "      <td>731909</td>\n",
       "      <td>572797</td>\n",
       "      <td>0</td>\n",
       "      <td>0</td>\n",
       "      <td>...</td>\n",
       "      <td>0</td>\n",
       "      <td>0</td>\n",
       "      <td>0</td>\n",
       "      <td>0</td>\n",
       "      <td>0</td>\n",
       "      <td>0</td>\n",
       "      <td>0</td>\n",
       "      <td>0</td>\n",
       "      <td>0</td>\n",
       "      <td>0</td>\n",
       "    </tr>\n",
       "  </tbody>\n",
       "</table>\n",
       "<p>3 rows × 66 columns</p>\n",
       "</div>"
      ],
      "text/plain": [
       "            Owned by Trust?  Owned by Business?  MAIL DIFFERENT FROM SITE?  \\\n",
       "PARCEL                                                                       \n",
       "5505026001                1                   0                          1   \n",
       "5515028023                1                   0                          0   \n",
       "5515022015                1                   0                          0   \n",
       "\n",
       "            MAIL OUTSIDE CA?  TITLECO1  ASSDTOTAL  ASSDLAND  ASSDSTCT  \\\n",
       "PARCEL                                                                  \n",
       "5505026001                 0         0    2054958   1583885    471073   \n",
       "5515028023                 0         0     915420    592174    323246   \n",
       "5515022015                 0         0    1304706    731909    572797   \n",
       "\n",
       "            ASSDOTHR  EXEMPTCD  ...  PERSONAL REP  QUIT CLAIM  RE-RECORD  \\\n",
       "PARCEL                          ...                                        \n",
       "5505026001         0         0  ...             0           0          0   \n",
       "5515028023         0         0  ...             0           0          0   \n",
       "5515022015         0         0  ...             0           0          0   \n",
       "\n",
       "            RECEIVERS DEED  SHERIFFS  SPECIAL WARRANTY  TAX DEED  \\\n",
       "PARCEL                                                             \n",
       "5505026001               0         0                 0         0   \n",
       "5515028023               0         0                 0         0   \n",
       "5515022015               0         0                 0         0   \n",
       "\n",
       "            TRUST TRANSFER  TRUSTEES  WARRANTY  \n",
       "PARCEL                                          \n",
       "5505026001               0         0         0  \n",
       "5515028023               0         0         0  \n",
       "5515022015               0         0         0  \n",
       "\n",
       "[3 rows x 66 columns]"
      ]
     },
     "execution_count": 558,
     "metadata": {},
     "output_type": "execute_result"
    }
   ],
   "source": [
    "# check to see if it dropped.\n",
    "Total_df.head(3)"
   ]
  },
  {
   "cell_type": "code",
   "execution_count": 559,
   "metadata": {},
   "outputs": [
    {
     "data": {
      "text/plain": [
       "Index(['Owned by Trust?', 'Owned by Business?', 'MAIL DIFFERENT FROM SITE?',\n",
       "       'MAIL OUTSIDE CA?', 'TITLECO1', 'ASSDTOTAL', 'ASSDLAND', 'ASSDSTCT',\n",
       "       'ASSDOTHR', 'EXEMPTCD', 'EXMPTAMT', 'PCNTIMPD', 'TAXAMT',\n",
       "       'DOCDATE_YEAR', 'MULTIPARCEL', 'PRICE', 'LENDER1', 'LOANAMOUT1',\n",
       "       'LOANTYPE1', 'YEARBLT', 'EFFYRBLT', 'LOTSQFT', 'TOTALSF', 'GRGTYPE',\n",
       "       'BLDGMAT', 'TOTUNITS', 'QUALCLAS', 'BLDGCOND', 'NOSTORY', 'ROOFMAT',\n",
       "       'FOUNDATN', 'BEDROOMS', 'BATHROOMS', 'FAMILYRM', 'DININGRM', 'POOL',\n",
       "       'PATIO', 'FIREPLCE', 'AIRMTHOD', 'HEATMTHD', 'VIEW', 'Did it sell?',\n",
       "       'EXECUTION DEED', 'EXECUTORS', 'FINAL DIST', 'GIFT', 'GRANT DEED',\n",
       "       'IN LIEU OF FORC', 'INTERSPOUSAL', 'JOINT TENANT', 'MEMO AGREE SALE',\n",
       "       'MISC', 'NAME CHANGE', 'ORD OF CONDEMN', 'Other', 'PARTNERSHIP',\n",
       "       'PERSONAL REP', 'QUIT CLAIM', 'RE-RECORD', 'RECEIVERS DEED', 'SHERIFFS',\n",
       "       'SPECIAL WARRANTY', 'TAX DEED', 'TRUST TRANSFER', 'TRUSTEES',\n",
       "       'WARRANTY'],\n",
       "      dtype='object')"
      ]
     },
     "execution_count": 559,
     "metadata": {},
     "output_type": "execute_result"
    }
   ],
   "source": [
    "Total_df.columns"
   ]
  },
  {
   "cell_type": "code",
   "execution_count": 560,
   "metadata": {},
   "outputs": [],
   "source": [
    "#Total_df = Total_df[Total_df['TOTALSF'] > 3000]"
   ]
  },
  {
   "cell_type": "code",
   "execution_count": 561,
   "metadata": {},
   "outputs": [],
   "source": [
    "# Step 1: Create our X and y\n",
    "\n",
    "y = Total_df['Did it sell?']\n",
    "X = Total_df.drop(['Did it sell?'], 1)"
   ]
  },
  {
   "cell_type": "code",
   "execution_count": 562,
   "metadata": {},
   "outputs": [
    {
     "data": {
      "text/plain": [
       "array([5505026001, 5515028023, 5515022015, ..., 5554012043, 5554012038,\n",
       "       5554012051])"
      ]
     },
     "execution_count": 562,
     "metadata": {},
     "output_type": "execute_result"
    }
   ],
   "source": [
    "APN = Total_df.index.values\n",
    "APN"
   ]
  },
  {
   "cell_type": "code",
   "execution_count": 563,
   "metadata": {},
   "outputs": [],
   "source": [
    "# Step 2: Use PCA to reduce dimension to three principal components.\n",
    "from sklearn.decomposition import PCA\n",
    "\n",
    "pca = PCA(n_components=3)\n",
    "X_pca = pca.fit_transform(X)"
   ]
  },
  {
   "cell_type": "code",
   "execution_count": 564,
   "metadata": {},
   "outputs": [
    {
     "data": {
      "text/plain": [
       "array([[ 1461868.08989593,   391224.53821688,   645594.06108169],\n",
       "       [  -94067.17343319,   -44276.29890968,  -119518.64215487],\n",
       "       [  536635.34012793,   -91517.36131471,  -198061.46711346],\n",
       "       ...,\n",
       "       [-1012391.78215273,   156564.70257836,   143274.6089461 ],\n",
       "       [-1194306.29261377,    11025.06050752,   142404.84945879],\n",
       "       [ -715970.52151997,   186555.06189437,  -329873.13418988]])"
      ]
     },
     "execution_count": 564,
     "metadata": {},
     "output_type": "execute_result"
    }
   ],
   "source": [
    "X_pca"
   ]
  },
  {
   "cell_type": "code",
   "execution_count": 565,
   "metadata": {},
   "outputs": [],
   "source": [
    "# Step 3: Train, test, split\n",
    "\n",
    "X_train, X_test, y_train, y_test = train_test_split(X_pca, y, random_state=78, stratify=y)"
   ]
  },
  {
   "cell_type": "code",
   "execution_count": 566,
   "metadata": {},
   "outputs": [],
   "source": [
    "# Step 4: Scale our data\n",
    "\n",
    "# Create the StandardScaler instance\n",
    "scaler = StandardScaler()\n",
    "\n",
    "# Fit our scaler, named 'scaler' to our data, which produces a new StandardScaler object\n",
    "# which we call 'X_scaler'\n",
    "X_scaler = scaler.fit(X_train)\n",
    "\n",
    "# Scale the data\n",
    "X_train_scaled = X_scaler.transform(X_train)\n",
    "X_test_scaled = X_scaler.transform(X_test)"
   ]
  },
  {
   "cell_type": "code",
   "execution_count": 567,
   "metadata": {},
   "outputs": [],
   "source": [
    "X_train_scaled_APN = []"
   ]
  },
  {
   "cell_type": "code",
   "execution_count": 568,
   "metadata": {},
   "outputs": [
    {
     "data": {
      "text/plain": [
       "Counter({0: 17557, 1: 17557})"
      ]
     },
     "execution_count": 568,
     "metadata": {},
     "output_type": "execute_result"
    }
   ],
   "source": [
    "# implement random oversampling\n",
    "from imblearn.over_sampling import RandomOverSampler\n",
    "ros = RandomOverSampler(random_state=1)\n",
    "X_random_oversampled, y_random_oversampled = ros.fit_resample(X_train_scaled, y_train)\n",
    "\n",
    "Counter(y_random_oversampled)"
   ]
  },
  {
   "cell_type": "code",
   "execution_count": 569,
   "metadata": {},
   "outputs": [
    {
     "data": {
      "text/plain": [
       "LogisticRegression(class_weight='balanced', max_iter=300, random_state=78)"
      ]
     },
     "execution_count": 569,
     "metadata": {},
     "output_type": "execute_result"
    }
   ],
   "source": [
    "# Logistic regression using random oversampled data\n",
    "from sklearn.linear_model import LogisticRegression\n",
    "\n",
    "model = LogisticRegression(solver='lbfgs', \n",
    "                                max_iter=300,\n",
    "                                random_state=78,\n",
    "                                class_weight=\"balanced\")\n",
    "\n",
    "model.fit(X_random_oversampled, y_random_oversampled)"
   ]
  },
  {
   "cell_type": "code",
   "execution_count": 570,
   "metadata": {},
   "outputs": [],
   "source": [
    "# Evaluate the model\n",
    "y_pred = model.predict(X_test_scaled)"
   ]
  },
  {
   "cell_type": "code",
   "execution_count": 571,
   "metadata": {},
   "outputs": [
    {
     "name": "stdout",
     "output_type": "stream",
     "text": [
      " Logistic regression model accuracy: 0.661\n"
     ]
    }
   ],
   "source": [
    "print(f\" Logistic regression model accuracy: {accuracy_score(y_test, y_pred):.3f}\")"
   ]
  },
  {
   "cell_type": "code",
   "execution_count": 572,
   "metadata": {},
   "outputs": [
    {
     "data": {
      "text/plain": [
       "0.5608294211645523"
      ]
     },
     "execution_count": 572,
     "metadata": {},
     "output_type": "execute_result"
    }
   ],
   "source": [
    "# just for shits n' gigs, lets find the balanced accuracy score\n",
    "\n",
    "from sklearn.metrics import balanced_accuracy_score\n",
    "balanced_accuracy_score(y_test, y_pred)"
   ]
  },
  {
   "cell_type": "code",
   "execution_count": 573,
   "metadata": {},
   "outputs": [
    {
     "data": {
      "text/plain": [
       "0.7123250947216639"
      ]
     },
     "execution_count": 573,
     "metadata": {},
     "output_type": "execute_result"
    }
   ],
   "source": [
    "from sklearn.metrics import f1_score\n",
    "f1_score(y_test, y_pred, average=\"weighted\")"
   ]
  },
  {
   "cell_type": "code",
   "execution_count": 574,
   "metadata": {},
   "outputs": [
    {
     "data": {
      "text/plain": [
       "array([[4074, 1779],\n",
       "       [ 498,  369]])"
      ]
     },
     "execution_count": 574,
     "metadata": {},
     "output_type": "execute_result"
    }
   ],
   "source": [
    "from sklearn.metrics import confusion_matrix\n",
    "confusion_matrix(y_test, y_pred)"
   ]
  },
  {
   "cell_type": "code",
   "execution_count": 575,
   "metadata": {},
   "outputs": [
    {
     "name": "stdout",
     "output_type": "stream",
     "text": [
      "                   pre       rec       spe        f1       geo       iba       sup\n",
      "\n",
      "          0       0.89      0.70      0.43      0.78      0.54      0.30      5853\n",
      "          1       0.17      0.43      0.70      0.24      0.54      0.29       867\n",
      "\n",
      "avg / total       0.80      0.66      0.46      0.71      0.54      0.30      6720\n",
      "\n"
     ]
    }
   ],
   "source": [
    "# Print the imbalanced classification report\n",
    "from imblearn.metrics import classification_report_imbalanced\n",
    "print(classification_report_imbalanced(y_test, y_pred))"
   ]
  },
  {
   "cell_type": "markdown",
   "metadata": {},
   "source": [
    "# Same as above but with feature reduction"
   ]
  },
  {
   "cell_type": "code",
   "execution_count": 576,
   "metadata": {},
   "outputs": [],
   "source": [
    "file = 'Total_Cleaned.csv'\n",
    "\n",
    "location = '/Users/Admin/Desktop/GW_Bootcamp/Analysis_Projects/Final_Project_Team_1/'"
   ]
  },
  {
   "cell_type": "code",
   "execution_count": 577,
   "metadata": {},
   "outputs": [],
   "source": [
    "path = os.path.join(location, file)"
   ]
  },
  {
   "cell_type": "code",
   "execution_count": 578,
   "metadata": {},
   "outputs": [
    {
     "data": {
      "text/html": [
       "<div>\n",
       "<style scoped>\n",
       "    .dataframe tbody tr th:only-of-type {\n",
       "        vertical-align: middle;\n",
       "    }\n",
       "\n",
       "    .dataframe tbody tr th {\n",
       "        vertical-align: top;\n",
       "    }\n",
       "\n",
       "    .dataframe thead th {\n",
       "        text-align: right;\n",
       "    }\n",
       "</style>\n",
       "<table border=\"1\" class=\"dataframe\">\n",
       "  <thead>\n",
       "    <tr style=\"text-align: right;\">\n",
       "      <th></th>\n",
       "      <th>Owned by Trust?</th>\n",
       "      <th>Owned by Business?</th>\n",
       "      <th>SITEADDRESS</th>\n",
       "      <th>MAIL DIFFERENT FROM SITE?</th>\n",
       "      <th>MAIL OUTSIDE CA?</th>\n",
       "      <th>TITLECO1</th>\n",
       "      <th>ASSDTOTAL</th>\n",
       "      <th>ASSDLAND</th>\n",
       "      <th>ASSDSTCT</th>\n",
       "      <th>ASSDOTHR</th>\n",
       "      <th>...</th>\n",
       "      <th>PERSONAL REP</th>\n",
       "      <th>QUIT CLAIM</th>\n",
       "      <th>RE-RECORD</th>\n",
       "      <th>RECEIVERS DEED</th>\n",
       "      <th>SHERIFFS</th>\n",
       "      <th>SPECIAL WARRANTY</th>\n",
       "      <th>TAX DEED</th>\n",
       "      <th>TRUST TRANSFER</th>\n",
       "      <th>TRUSTEES</th>\n",
       "      <th>WARRANTY</th>\n",
       "    </tr>\n",
       "    <tr>\n",
       "      <th>PARCEL</th>\n",
       "      <th></th>\n",
       "      <th></th>\n",
       "      <th></th>\n",
       "      <th></th>\n",
       "      <th></th>\n",
       "      <th></th>\n",
       "      <th></th>\n",
       "      <th></th>\n",
       "      <th></th>\n",
       "      <th></th>\n",
       "      <th></th>\n",
       "      <th></th>\n",
       "      <th></th>\n",
       "      <th></th>\n",
       "      <th></th>\n",
       "      <th></th>\n",
       "      <th></th>\n",
       "      <th></th>\n",
       "      <th></th>\n",
       "      <th></th>\n",
       "      <th></th>\n",
       "    </tr>\n",
       "  </thead>\n",
       "  <tbody>\n",
       "    <tr>\n",
       "      <th>5505026001</th>\n",
       "      <td>1</td>\n",
       "      <td>0</td>\n",
       "      <td>354 N Plymouth Blvd</td>\n",
       "      <td>1</td>\n",
       "      <td>0</td>\n",
       "      <td>0</td>\n",
       "      <td>2054958</td>\n",
       "      <td>1583885</td>\n",
       "      <td>471073</td>\n",
       "      <td>0</td>\n",
       "      <td>...</td>\n",
       "      <td>0</td>\n",
       "      <td>0</td>\n",
       "      <td>0</td>\n",
       "      <td>0</td>\n",
       "      <td>0</td>\n",
       "      <td>0</td>\n",
       "      <td>0</td>\n",
       "      <td>0</td>\n",
       "      <td>0</td>\n",
       "      <td>0</td>\n",
       "    </tr>\n",
       "    <tr>\n",
       "      <th>5515028023</th>\n",
       "      <td>1</td>\n",
       "      <td>0</td>\n",
       "      <td>143 N Plymouth Blvd</td>\n",
       "      <td>0</td>\n",
       "      <td>0</td>\n",
       "      <td>0</td>\n",
       "      <td>915420</td>\n",
       "      <td>592174</td>\n",
       "      <td>323246</td>\n",
       "      <td>0</td>\n",
       "      <td>...</td>\n",
       "      <td>0</td>\n",
       "      <td>0</td>\n",
       "      <td>0</td>\n",
       "      <td>0</td>\n",
       "      <td>0</td>\n",
       "      <td>0</td>\n",
       "      <td>0</td>\n",
       "      <td>0</td>\n",
       "      <td>0</td>\n",
       "      <td>0</td>\n",
       "    </tr>\n",
       "    <tr>\n",
       "      <th>5515022015</th>\n",
       "      <td>1</td>\n",
       "      <td>0</td>\n",
       "      <td>253 S Plymouth Blvd</td>\n",
       "      <td>0</td>\n",
       "      <td>0</td>\n",
       "      <td>0</td>\n",
       "      <td>1304706</td>\n",
       "      <td>731909</td>\n",
       "      <td>572797</td>\n",
       "      <td>0</td>\n",
       "      <td>...</td>\n",
       "      <td>0</td>\n",
       "      <td>0</td>\n",
       "      <td>0</td>\n",
       "      <td>0</td>\n",
       "      <td>0</td>\n",
       "      <td>0</td>\n",
       "      <td>0</td>\n",
       "      <td>0</td>\n",
       "      <td>0</td>\n",
       "      <td>0</td>\n",
       "    </tr>\n",
       "    <tr>\n",
       "      <th>5513010003</th>\n",
       "      <td>1</td>\n",
       "      <td>0</td>\n",
       "      <td>164 N Las Palmas Ave</td>\n",
       "      <td>0</td>\n",
       "      <td>0</td>\n",
       "      <td>0</td>\n",
       "      <td>2518796</td>\n",
       "      <td>1609956</td>\n",
       "      <td>908840</td>\n",
       "      <td>0</td>\n",
       "      <td>...</td>\n",
       "      <td>0</td>\n",
       "      <td>0</td>\n",
       "      <td>0</td>\n",
       "      <td>0</td>\n",
       "      <td>0</td>\n",
       "      <td>0</td>\n",
       "      <td>0</td>\n",
       "      <td>0</td>\n",
       "      <td>0</td>\n",
       "      <td>0</td>\n",
       "    </tr>\n",
       "    <tr>\n",
       "      <th>5515012030</th>\n",
       "      <td>1</td>\n",
       "      <td>0</td>\n",
       "      <td>108 S Rossmore Ave</td>\n",
       "      <td>1</td>\n",
       "      <td>0</td>\n",
       "      <td>0</td>\n",
       "      <td>1428176</td>\n",
       "      <td>999727</td>\n",
       "      <td>428449</td>\n",
       "      <td>0</td>\n",
       "      <td>...</td>\n",
       "      <td>0</td>\n",
       "      <td>0</td>\n",
       "      <td>0</td>\n",
       "      <td>0</td>\n",
       "      <td>0</td>\n",
       "      <td>0</td>\n",
       "      <td>0</td>\n",
       "      <td>0</td>\n",
       "      <td>0</td>\n",
       "      <td>0</td>\n",
       "    </tr>\n",
       "  </tbody>\n",
       "</table>\n",
       "<p>5 rows × 67 columns</p>\n",
       "</div>"
      ],
      "text/plain": [
       "            Owned by Trust?  Owned by Business?           SITEADDRESS  \\\n",
       "PARCEL                                                                  \n",
       "5505026001                1                   0   354 N Plymouth Blvd   \n",
       "5515028023                1                   0   143 N Plymouth Blvd   \n",
       "5515022015                1                   0   253 S Plymouth Blvd   \n",
       "5513010003                1                   0  164 N Las Palmas Ave   \n",
       "5515012030                1                   0    108 S Rossmore Ave   \n",
       "\n",
       "            MAIL DIFFERENT FROM SITE?  MAIL OUTSIDE CA?  TITLECO1  ASSDTOTAL  \\\n",
       "PARCEL                                                                         \n",
       "5505026001                          1                 0         0    2054958   \n",
       "5515028023                          0                 0         0     915420   \n",
       "5515022015                          0                 0         0    1304706   \n",
       "5513010003                          0                 0         0    2518796   \n",
       "5515012030                          1                 0         0    1428176   \n",
       "\n",
       "            ASSDLAND  ASSDSTCT  ASSDOTHR  ...  PERSONAL REP  QUIT CLAIM  \\\n",
       "PARCEL                                    ...                             \n",
       "5505026001   1583885    471073         0  ...             0           0   \n",
       "5515028023    592174    323246         0  ...             0           0   \n",
       "5515022015    731909    572797         0  ...             0           0   \n",
       "5513010003   1609956    908840         0  ...             0           0   \n",
       "5515012030    999727    428449         0  ...             0           0   \n",
       "\n",
       "            RE-RECORD  RECEIVERS DEED  SHERIFFS  SPECIAL WARRANTY  TAX DEED  \\\n",
       "PARCEL                                                                        \n",
       "5505026001          0               0         0                 0         0   \n",
       "5515028023          0               0         0                 0         0   \n",
       "5515022015          0               0         0                 0         0   \n",
       "5513010003          0               0         0                 0         0   \n",
       "5515012030          0               0         0                 0         0   \n",
       "\n",
       "            TRUST TRANSFER  TRUSTEES  WARRANTY  \n",
       "PARCEL                                          \n",
       "5505026001               0         0         0  \n",
       "5515028023               0         0         0  \n",
       "5515022015               0         0         0  \n",
       "5513010003               0         0         0  \n",
       "5515012030               0         0         0  \n",
       "\n",
       "[5 rows x 67 columns]"
      ]
     },
     "execution_count": 578,
     "metadata": {},
     "output_type": "execute_result"
    }
   ],
   "source": [
    "# import our file\n",
    "\n",
    "Total_df = pd.read_csv(path, index_col='PARCEL')\n",
    "Total_df.head()"
   ]
  },
  {
   "cell_type": "code",
   "execution_count": 579,
   "metadata": {},
   "outputs": [],
   "source": [
    "Total_df = Total_df.dropna()"
   ]
  },
  {
   "cell_type": "code",
   "execution_count": 580,
   "metadata": {},
   "outputs": [],
   "source": [
    "Total_df['TAXAMT'] = Total_df['TAXAMT'].astype(int)\n",
    "Total_df['EFFYRBLT'] = Total_df['EFFYRBLT'].astype(int)"
   ]
  },
  {
   "cell_type": "code",
   "execution_count": 581,
   "metadata": {},
   "outputs": [
    {
     "data": {
      "text/html": [
       "<div>\n",
       "<style scoped>\n",
       "    .dataframe tbody tr th:only-of-type {\n",
       "        vertical-align: middle;\n",
       "    }\n",
       "\n",
       "    .dataframe tbody tr th {\n",
       "        vertical-align: top;\n",
       "    }\n",
       "\n",
       "    .dataframe thead th {\n",
       "        text-align: right;\n",
       "    }\n",
       "</style>\n",
       "<table border=\"1\" class=\"dataframe\">\n",
       "  <thead>\n",
       "    <tr style=\"text-align: right;\">\n",
       "      <th></th>\n",
       "      <th>Owned by Trust?</th>\n",
       "      <th>Owned by Business?</th>\n",
       "      <th>SITEADDRESS</th>\n",
       "      <th>MAIL DIFFERENT FROM SITE?</th>\n",
       "      <th>MAIL OUTSIDE CA?</th>\n",
       "      <th>TITLECO1</th>\n",
       "      <th>ASSDTOTAL</th>\n",
       "      <th>ASSDLAND</th>\n",
       "      <th>ASSDSTCT</th>\n",
       "      <th>ASSDOTHR</th>\n",
       "      <th>...</th>\n",
       "      <th>PERSONAL REP</th>\n",
       "      <th>QUIT CLAIM</th>\n",
       "      <th>RE-RECORD</th>\n",
       "      <th>RECEIVERS DEED</th>\n",
       "      <th>SHERIFFS</th>\n",
       "      <th>SPECIAL WARRANTY</th>\n",
       "      <th>TAX DEED</th>\n",
       "      <th>TRUST TRANSFER</th>\n",
       "      <th>TRUSTEES</th>\n",
       "      <th>WARRANTY</th>\n",
       "    </tr>\n",
       "    <tr>\n",
       "      <th>PARCEL</th>\n",
       "      <th></th>\n",
       "      <th></th>\n",
       "      <th></th>\n",
       "      <th></th>\n",
       "      <th></th>\n",
       "      <th></th>\n",
       "      <th></th>\n",
       "      <th></th>\n",
       "      <th></th>\n",
       "      <th></th>\n",
       "      <th></th>\n",
       "      <th></th>\n",
       "      <th></th>\n",
       "      <th></th>\n",
       "      <th></th>\n",
       "      <th></th>\n",
       "      <th></th>\n",
       "      <th></th>\n",
       "      <th></th>\n",
       "      <th></th>\n",
       "      <th></th>\n",
       "    </tr>\n",
       "  </thead>\n",
       "  <tbody>\n",
       "    <tr>\n",
       "      <th>5505026001</th>\n",
       "      <td>1</td>\n",
       "      <td>0</td>\n",
       "      <td>354 N Plymouth Blvd</td>\n",
       "      <td>1</td>\n",
       "      <td>0</td>\n",
       "      <td>0</td>\n",
       "      <td>2054958</td>\n",
       "      <td>1583885</td>\n",
       "      <td>471073</td>\n",
       "      <td>0</td>\n",
       "      <td>...</td>\n",
       "      <td>0</td>\n",
       "      <td>0</td>\n",
       "      <td>0</td>\n",
       "      <td>0</td>\n",
       "      <td>0</td>\n",
       "      <td>0</td>\n",
       "      <td>0</td>\n",
       "      <td>0</td>\n",
       "      <td>0</td>\n",
       "      <td>0</td>\n",
       "    </tr>\n",
       "    <tr>\n",
       "      <th>5515028023</th>\n",
       "      <td>1</td>\n",
       "      <td>0</td>\n",
       "      <td>143 N Plymouth Blvd</td>\n",
       "      <td>0</td>\n",
       "      <td>0</td>\n",
       "      <td>0</td>\n",
       "      <td>915420</td>\n",
       "      <td>592174</td>\n",
       "      <td>323246</td>\n",
       "      <td>0</td>\n",
       "      <td>...</td>\n",
       "      <td>0</td>\n",
       "      <td>0</td>\n",
       "      <td>0</td>\n",
       "      <td>0</td>\n",
       "      <td>0</td>\n",
       "      <td>0</td>\n",
       "      <td>0</td>\n",
       "      <td>0</td>\n",
       "      <td>0</td>\n",
       "      <td>0</td>\n",
       "    </tr>\n",
       "    <tr>\n",
       "      <th>5515022015</th>\n",
       "      <td>1</td>\n",
       "      <td>0</td>\n",
       "      <td>253 S Plymouth Blvd</td>\n",
       "      <td>0</td>\n",
       "      <td>0</td>\n",
       "      <td>0</td>\n",
       "      <td>1304706</td>\n",
       "      <td>731909</td>\n",
       "      <td>572797</td>\n",
       "      <td>0</td>\n",
       "      <td>...</td>\n",
       "      <td>0</td>\n",
       "      <td>0</td>\n",
       "      <td>0</td>\n",
       "      <td>0</td>\n",
       "      <td>0</td>\n",
       "      <td>0</td>\n",
       "      <td>0</td>\n",
       "      <td>0</td>\n",
       "      <td>0</td>\n",
       "      <td>0</td>\n",
       "    </tr>\n",
       "  </tbody>\n",
       "</table>\n",
       "<p>3 rows × 67 columns</p>\n",
       "</div>"
      ],
      "text/plain": [
       "            Owned by Trust?  Owned by Business?          SITEADDRESS  \\\n",
       "PARCEL                                                                 \n",
       "5505026001                1                   0  354 N Plymouth Blvd   \n",
       "5515028023                1                   0  143 N Plymouth Blvd   \n",
       "5515022015                1                   0  253 S Plymouth Blvd   \n",
       "\n",
       "            MAIL DIFFERENT FROM SITE?  MAIL OUTSIDE CA?  TITLECO1  ASSDTOTAL  \\\n",
       "PARCEL                                                                         \n",
       "5505026001                          1                 0         0    2054958   \n",
       "5515028023                          0                 0         0     915420   \n",
       "5515022015                          0                 0         0    1304706   \n",
       "\n",
       "            ASSDLAND  ASSDSTCT  ASSDOTHR  ...  PERSONAL REP  QUIT CLAIM  \\\n",
       "PARCEL                                    ...                             \n",
       "5505026001   1583885    471073         0  ...             0           0   \n",
       "5515028023    592174    323246         0  ...             0           0   \n",
       "5515022015    731909    572797         0  ...             0           0   \n",
       "\n",
       "            RE-RECORD  RECEIVERS DEED  SHERIFFS  SPECIAL WARRANTY  TAX DEED  \\\n",
       "PARCEL                                                                        \n",
       "5505026001          0               0         0                 0         0   \n",
       "5515028023          0               0         0                 0         0   \n",
       "5515022015          0               0         0                 0         0   \n",
       "\n",
       "            TRUST TRANSFER  TRUSTEES  WARRANTY  \n",
       "PARCEL                                          \n",
       "5505026001               0         0         0  \n",
       "5515028023               0         0         0  \n",
       "5515022015               0         0         0  \n",
       "\n",
       "[3 rows x 67 columns]"
      ]
     },
     "execution_count": 581,
     "metadata": {},
     "output_type": "execute_result"
    }
   ],
   "source": [
    "# Make sure our dataframe is only SFR's so exclude every property that has an '#' in its site address\n",
    "\n",
    "Total_df = Total_df[~Total_df['SITEADDRESS'].str.contains('#')]\n",
    "Total_df.head(3)"
   ]
  },
  {
   "cell_type": "code",
   "execution_count": 582,
   "metadata": {},
   "outputs": [],
   "source": [
    "# Now drop the SiteAddress column\n",
    "Total_df.drop(['SITEADDRESS'], axis=1, inplace=True)"
   ]
  },
  {
   "cell_type": "code",
   "execution_count": 583,
   "metadata": {},
   "outputs": [],
   "source": [
    "Total_df['PARCEL_1'] = Total_df.index.values"
   ]
  },
  {
   "cell_type": "code",
   "execution_count": 584,
   "metadata": {},
   "outputs": [],
   "source": [
    "# create X and y\n",
    "\n",
    "y = Total_df['Did it sell?']\n",
    "\n",
    "X = pd.DataFrame(Total_df, columns = ['PARCEL_1',\n",
    "                                      'ASSDLAND',\n",
    "                                      'LOTSQFT',\n",
    "                                      'TOTALSF',\n",
    "                                      'ASSDTOTAL',\n",
    "                                      'DOCDATE_YEAR',\n",
    "                                      'TAXAMT',\n",
    "                                      'PRICE',\n",
    "                                      'YEARBLT',\n",
    "                                      'EFFYRBLT',\n",
    "                                      'LOANAMOUT1',\n",
    "                                      'PCNTIMPD',\n",
    "                                      'BATHROOMS',\n",
    "                                      'BEDROOMS',\n",
    "                                      'Owned by Trust?',\n",
    "                                      'Owned by Business?',\n",
    "                                      'MAIL DIFFERENT FROM SITE?',\n",
    "                                      'TITLECO1',\n",
    "                                      'NOSTORY',\n",
    "                                      'EXEMPTCD'])"
   ]
  },
  {
   "cell_type": "code",
   "execution_count": 585,
   "metadata": {},
   "outputs": [],
   "source": [
    "# Step 2: Use PCA to reduce dimension to three principal components.\n",
    "from sklearn.decomposition import PCA\n",
    "\n",
    "pca = PCA(n_components=3)\n",
    "X_pca = pca.fit_transform(X)"
   ]
  },
  {
   "cell_type": "code",
   "execution_count": 586,
   "metadata": {},
   "outputs": [
    {
     "data": {
      "text/plain": [
       "Counter({0: 17557, 1: 17557})"
      ]
     },
     "execution_count": 586,
     "metadata": {},
     "output_type": "execute_result"
    }
   ],
   "source": [
    "# implement random oversampling\n",
    "from imblearn.over_sampling import RandomOverSampler\n",
    "ros = RandomOverSampler(random_state=1)\n",
    "X_random_oversampled, y_random_oversampled = ros.fit_resample(X_train_scaled, y_train)\n",
    "\n",
    "Counter(y_random_oversampled)"
   ]
  },
  {
   "cell_type": "code",
   "execution_count": 587,
   "metadata": {},
   "outputs": [
    {
     "data": {
      "text/plain": [
       "LogisticRegression(class_weight='balanced', max_iter=300, random_state=78)"
      ]
     },
     "execution_count": 587,
     "metadata": {},
     "output_type": "execute_result"
    }
   ],
   "source": [
    "# Logistic regression using random oversampled data\n",
    "from sklearn.linear_model import LogisticRegression\n",
    "\n",
    "model = LogisticRegression(solver='lbfgs', \n",
    "                                max_iter=300,\n",
    "                                random_state=78,\n",
    "                                class_weight=\"balanced\")\n",
    "\n",
    "model.fit(X_random_oversampled, y_random_oversampled)"
   ]
  },
  {
   "cell_type": "code",
   "execution_count": 588,
   "metadata": {},
   "outputs": [],
   "source": [
    "# Evaluate the model\n",
    "y_pred = model.predict(X_test_scaled)"
   ]
  },
  {
   "cell_type": "code",
   "execution_count": 589,
   "metadata": {},
   "outputs": [
    {
     "name": "stdout",
     "output_type": "stream",
     "text": [
      " Logistic regression model accuracy: 0.661\n"
     ]
    }
   ],
   "source": [
    "print(f\" Logistic regression model accuracy: {accuracy_score(y_test, y_pred):.3f}\")"
   ]
  },
  {
   "cell_type": "code",
   "execution_count": 590,
   "metadata": {},
   "outputs": [
    {
     "data": {
      "text/plain": [
       "0.5608294211645523"
      ]
     },
     "execution_count": 590,
     "metadata": {},
     "output_type": "execute_result"
    }
   ],
   "source": [
    "# just for shits n' gigs, lets find the balanced accuracy score\n",
    "\n",
    "from sklearn.metrics import balanced_accuracy_score\n",
    "balanced_accuracy_score(y_test, y_pred)"
   ]
  },
  {
   "cell_type": "code",
   "execution_count": 591,
   "metadata": {},
   "outputs": [
    {
     "data": {
      "text/plain": [
       "0.7123250947216639"
      ]
     },
     "execution_count": 591,
     "metadata": {},
     "output_type": "execute_result"
    }
   ],
   "source": [
    "from sklearn.metrics import f1_score\n",
    "f1_score(y_test, y_pred, average=\"weighted\")"
   ]
  },
  {
   "cell_type": "code",
   "execution_count": 592,
   "metadata": {},
   "outputs": [
    {
     "data": {
      "text/plain": [
       "array([[4074, 1779],\n",
       "       [ 498,  369]])"
      ]
     },
     "execution_count": 592,
     "metadata": {},
     "output_type": "execute_result"
    }
   ],
   "source": [
    "from sklearn.metrics import confusion_matrix\n",
    "confusion_matrix(y_test, y_pred)"
   ]
  },
  {
   "cell_type": "markdown",
   "metadata": {},
   "source": [
    "# PCA + Oversampling (Random Oversampling) + Logistic Regression (Condos)"
   ]
  },
  {
   "cell_type": "code",
   "execution_count": 593,
   "metadata": {
    "scrolled": true
   },
   "outputs": [
    {
     "data": {
      "text/html": [
       "<div>\n",
       "<style scoped>\n",
       "    .dataframe tbody tr th:only-of-type {\n",
       "        vertical-align: middle;\n",
       "    }\n",
       "\n",
       "    .dataframe tbody tr th {\n",
       "        vertical-align: top;\n",
       "    }\n",
       "\n",
       "    .dataframe thead th {\n",
       "        text-align: right;\n",
       "    }\n",
       "</style>\n",
       "<table border=\"1\" class=\"dataframe\">\n",
       "  <thead>\n",
       "    <tr style=\"text-align: right;\">\n",
       "      <th></th>\n",
       "      <th>Owned by Trust?</th>\n",
       "      <th>Owned by Business?</th>\n",
       "      <th>SITEADDRESS</th>\n",
       "      <th>MAIL DIFFERENT FROM SITE?</th>\n",
       "      <th>MAIL OUTSIDE CA?</th>\n",
       "      <th>TITLECO1</th>\n",
       "      <th>ASSDTOTAL</th>\n",
       "      <th>ASSDLAND</th>\n",
       "      <th>ASSDSTCT</th>\n",
       "      <th>ASSDOTHR</th>\n",
       "      <th>...</th>\n",
       "      <th>PERSONAL REP</th>\n",
       "      <th>QUIT CLAIM</th>\n",
       "      <th>RE-RECORD</th>\n",
       "      <th>RECEIVERS DEED</th>\n",
       "      <th>SHERIFFS</th>\n",
       "      <th>SPECIAL WARRANTY</th>\n",
       "      <th>TAX DEED</th>\n",
       "      <th>TRUST TRANSFER</th>\n",
       "      <th>TRUSTEES</th>\n",
       "      <th>WARRANTY</th>\n",
       "    </tr>\n",
       "    <tr>\n",
       "      <th>PARCEL</th>\n",
       "      <th></th>\n",
       "      <th></th>\n",
       "      <th></th>\n",
       "      <th></th>\n",
       "      <th></th>\n",
       "      <th></th>\n",
       "      <th></th>\n",
       "      <th></th>\n",
       "      <th></th>\n",
       "      <th></th>\n",
       "      <th></th>\n",
       "      <th></th>\n",
       "      <th></th>\n",
       "      <th></th>\n",
       "      <th></th>\n",
       "      <th></th>\n",
       "      <th></th>\n",
       "      <th></th>\n",
       "      <th></th>\n",
       "      <th></th>\n",
       "      <th></th>\n",
       "    </tr>\n",
       "  </thead>\n",
       "  <tbody>\n",
       "    <tr>\n",
       "      <th>5505026001</th>\n",
       "      <td>1</td>\n",
       "      <td>0</td>\n",
       "      <td>354 N Plymouth Blvd</td>\n",
       "      <td>1</td>\n",
       "      <td>0</td>\n",
       "      <td>0</td>\n",
       "      <td>2054958</td>\n",
       "      <td>1583885</td>\n",
       "      <td>471073</td>\n",
       "      <td>0</td>\n",
       "      <td>...</td>\n",
       "      <td>0</td>\n",
       "      <td>0</td>\n",
       "      <td>0</td>\n",
       "      <td>0</td>\n",
       "      <td>0</td>\n",
       "      <td>0</td>\n",
       "      <td>0</td>\n",
       "      <td>0</td>\n",
       "      <td>0</td>\n",
       "      <td>0</td>\n",
       "    </tr>\n",
       "    <tr>\n",
       "      <th>5515028023</th>\n",
       "      <td>1</td>\n",
       "      <td>0</td>\n",
       "      <td>143 N Plymouth Blvd</td>\n",
       "      <td>0</td>\n",
       "      <td>0</td>\n",
       "      <td>0</td>\n",
       "      <td>915420</td>\n",
       "      <td>592174</td>\n",
       "      <td>323246</td>\n",
       "      <td>0</td>\n",
       "      <td>...</td>\n",
       "      <td>0</td>\n",
       "      <td>0</td>\n",
       "      <td>0</td>\n",
       "      <td>0</td>\n",
       "      <td>0</td>\n",
       "      <td>0</td>\n",
       "      <td>0</td>\n",
       "      <td>0</td>\n",
       "      <td>0</td>\n",
       "      <td>0</td>\n",
       "    </tr>\n",
       "    <tr>\n",
       "      <th>5515022015</th>\n",
       "      <td>1</td>\n",
       "      <td>0</td>\n",
       "      <td>253 S Plymouth Blvd</td>\n",
       "      <td>0</td>\n",
       "      <td>0</td>\n",
       "      <td>0</td>\n",
       "      <td>1304706</td>\n",
       "      <td>731909</td>\n",
       "      <td>572797</td>\n",
       "      <td>0</td>\n",
       "      <td>...</td>\n",
       "      <td>0</td>\n",
       "      <td>0</td>\n",
       "      <td>0</td>\n",
       "      <td>0</td>\n",
       "      <td>0</td>\n",
       "      <td>0</td>\n",
       "      <td>0</td>\n",
       "      <td>0</td>\n",
       "      <td>0</td>\n",
       "      <td>0</td>\n",
       "    </tr>\n",
       "    <tr>\n",
       "      <th>5513010003</th>\n",
       "      <td>1</td>\n",
       "      <td>0</td>\n",
       "      <td>164 N Las Palmas Ave</td>\n",
       "      <td>0</td>\n",
       "      <td>0</td>\n",
       "      <td>0</td>\n",
       "      <td>2518796</td>\n",
       "      <td>1609956</td>\n",
       "      <td>908840</td>\n",
       "      <td>0</td>\n",
       "      <td>...</td>\n",
       "      <td>0</td>\n",
       "      <td>0</td>\n",
       "      <td>0</td>\n",
       "      <td>0</td>\n",
       "      <td>0</td>\n",
       "      <td>0</td>\n",
       "      <td>0</td>\n",
       "      <td>0</td>\n",
       "      <td>0</td>\n",
       "      <td>0</td>\n",
       "    </tr>\n",
       "    <tr>\n",
       "      <th>5515012030</th>\n",
       "      <td>1</td>\n",
       "      <td>0</td>\n",
       "      <td>108 S Rossmore Ave</td>\n",
       "      <td>1</td>\n",
       "      <td>0</td>\n",
       "      <td>0</td>\n",
       "      <td>1428176</td>\n",
       "      <td>999727</td>\n",
       "      <td>428449</td>\n",
       "      <td>0</td>\n",
       "      <td>...</td>\n",
       "      <td>0</td>\n",
       "      <td>0</td>\n",
       "      <td>0</td>\n",
       "      <td>0</td>\n",
       "      <td>0</td>\n",
       "      <td>0</td>\n",
       "      <td>0</td>\n",
       "      <td>0</td>\n",
       "      <td>0</td>\n",
       "      <td>0</td>\n",
       "    </tr>\n",
       "  </tbody>\n",
       "</table>\n",
       "<p>5 rows × 67 columns</p>\n",
       "</div>"
      ],
      "text/plain": [
       "            Owned by Trust?  Owned by Business?           SITEADDRESS  \\\n",
       "PARCEL                                                                  \n",
       "5505026001                1                   0   354 N Plymouth Blvd   \n",
       "5515028023                1                   0   143 N Plymouth Blvd   \n",
       "5515022015                1                   0   253 S Plymouth Blvd   \n",
       "5513010003                1                   0  164 N Las Palmas Ave   \n",
       "5515012030                1                   0    108 S Rossmore Ave   \n",
       "\n",
       "            MAIL DIFFERENT FROM SITE?  MAIL OUTSIDE CA?  TITLECO1  ASSDTOTAL  \\\n",
       "PARCEL                                                                         \n",
       "5505026001                          1                 0         0    2054958   \n",
       "5515028023                          0                 0         0     915420   \n",
       "5515022015                          0                 0         0    1304706   \n",
       "5513010003                          0                 0         0    2518796   \n",
       "5515012030                          1                 0         0    1428176   \n",
       "\n",
       "            ASSDLAND  ASSDSTCT  ASSDOTHR  ...  PERSONAL REP  QUIT CLAIM  \\\n",
       "PARCEL                                    ...                             \n",
       "5505026001   1583885    471073         0  ...             0           0   \n",
       "5515028023    592174    323246         0  ...             0           0   \n",
       "5515022015    731909    572797         0  ...             0           0   \n",
       "5513010003   1609956    908840         0  ...             0           0   \n",
       "5515012030    999727    428449         0  ...             0           0   \n",
       "\n",
       "            RE-RECORD  RECEIVERS DEED  SHERIFFS  SPECIAL WARRANTY  TAX DEED  \\\n",
       "PARCEL                                                                        \n",
       "5505026001          0               0         0                 0         0   \n",
       "5515028023          0               0         0                 0         0   \n",
       "5515022015          0               0         0                 0         0   \n",
       "5513010003          0               0         0                 0         0   \n",
       "5515012030          0               0         0                 0         0   \n",
       "\n",
       "            TRUST TRANSFER  TRUSTEES  WARRANTY  \n",
       "PARCEL                                          \n",
       "5505026001               0         0         0  \n",
       "5515028023               0         0         0  \n",
       "5515022015               0         0         0  \n",
       "5513010003               0         0         0  \n",
       "5515012030               0         0         0  \n",
       "\n",
       "[5 rows x 67 columns]"
      ]
     },
     "execution_count": 593,
     "metadata": {},
     "output_type": "execute_result"
    }
   ],
   "source": [
    "# bring in our dataframe\n",
    "\n",
    "Total_df = pd.read_csv(path, index_col='PARCEL')\n",
    "Total_df.head()"
   ]
  },
  {
   "cell_type": "code",
   "execution_count": 594,
   "metadata": {},
   "outputs": [],
   "source": [
    "# drop any nulls\n",
    "\n",
    "Total_df = Total_df.dropna()"
   ]
  },
  {
   "cell_type": "code",
   "execution_count": 595,
   "metadata": {},
   "outputs": [
    {
     "data": {
      "text/plain": [
       "36599"
      ]
     },
     "execution_count": 595,
     "metadata": {},
     "output_type": "execute_result"
    }
   ],
   "source": [
    "len(Total_df)"
   ]
  },
  {
   "cell_type": "code",
   "execution_count": 596,
   "metadata": {},
   "outputs": [],
   "source": [
    "# Change the datatype of these two columns into ints\n",
    "\n",
    "Total_df['TAXAMT'] = Total_df['TAXAMT'].astype(int)\n",
    "Total_df['EFFYRBLT'] = Total_df['EFFYRBLT'].astype(int)"
   ]
  },
  {
   "cell_type": "code",
   "execution_count": 597,
   "metadata": {},
   "outputs": [
    {
     "data": {
      "text/html": [
       "<div>\n",
       "<style scoped>\n",
       "    .dataframe tbody tr th:only-of-type {\n",
       "        vertical-align: middle;\n",
       "    }\n",
       "\n",
       "    .dataframe tbody tr th {\n",
       "        vertical-align: top;\n",
       "    }\n",
       "\n",
       "    .dataframe thead th {\n",
       "        text-align: right;\n",
       "    }\n",
       "</style>\n",
       "<table border=\"1\" class=\"dataframe\">\n",
       "  <thead>\n",
       "    <tr style=\"text-align: right;\">\n",
       "      <th></th>\n",
       "      <th>Owned by Trust?</th>\n",
       "      <th>Owned by Business?</th>\n",
       "      <th>SITEADDRESS</th>\n",
       "      <th>MAIL DIFFERENT FROM SITE?</th>\n",
       "      <th>MAIL OUTSIDE CA?</th>\n",
       "      <th>TITLECO1</th>\n",
       "      <th>ASSDTOTAL</th>\n",
       "      <th>ASSDLAND</th>\n",
       "      <th>ASSDSTCT</th>\n",
       "      <th>ASSDOTHR</th>\n",
       "      <th>...</th>\n",
       "      <th>PERSONAL REP</th>\n",
       "      <th>QUIT CLAIM</th>\n",
       "      <th>RE-RECORD</th>\n",
       "      <th>RECEIVERS DEED</th>\n",
       "      <th>SHERIFFS</th>\n",
       "      <th>SPECIAL WARRANTY</th>\n",
       "      <th>TAX DEED</th>\n",
       "      <th>TRUST TRANSFER</th>\n",
       "      <th>TRUSTEES</th>\n",
       "      <th>WARRANTY</th>\n",
       "    </tr>\n",
       "    <tr>\n",
       "      <th>PARCEL</th>\n",
       "      <th></th>\n",
       "      <th></th>\n",
       "      <th></th>\n",
       "      <th></th>\n",
       "      <th></th>\n",
       "      <th></th>\n",
       "      <th></th>\n",
       "      <th></th>\n",
       "      <th></th>\n",
       "      <th></th>\n",
       "      <th></th>\n",
       "      <th></th>\n",
       "      <th></th>\n",
       "      <th></th>\n",
       "      <th></th>\n",
       "      <th></th>\n",
       "      <th></th>\n",
       "      <th></th>\n",
       "      <th></th>\n",
       "      <th></th>\n",
       "      <th></th>\n",
       "    </tr>\n",
       "  </thead>\n",
       "  <tbody>\n",
       "    <tr>\n",
       "      <th>5505008010</th>\n",
       "      <td>1</td>\n",
       "      <td>0</td>\n",
       "      <td>546 S Rimpau Blvd #2200</td>\n",
       "      <td>0</td>\n",
       "      <td>0</td>\n",
       "      <td>0</td>\n",
       "      <td>3491436</td>\n",
       "      <td>2450134</td>\n",
       "      <td>1041302</td>\n",
       "      <td>0</td>\n",
       "      <td>...</td>\n",
       "      <td>0</td>\n",
       "      <td>0</td>\n",
       "      <td>0</td>\n",
       "      <td>0</td>\n",
       "      <td>0</td>\n",
       "      <td>0</td>\n",
       "      <td>0</td>\n",
       "      <td>0</td>\n",
       "      <td>0</td>\n",
       "      <td>0</td>\n",
       "    </tr>\n",
       "    <tr>\n",
       "      <th>5515029015</th>\n",
       "      <td>1</td>\n",
       "      <td>0</td>\n",
       "      <td>169 S Plymouth Blvd #100</td>\n",
       "      <td>0</td>\n",
       "      <td>0</td>\n",
       "      <td>0</td>\n",
       "      <td>3122716</td>\n",
       "      <td>2402093</td>\n",
       "      <td>720623</td>\n",
       "      <td>0</td>\n",
       "      <td>...</td>\n",
       "      <td>0</td>\n",
       "      <td>0</td>\n",
       "      <td>0</td>\n",
       "      <td>0</td>\n",
       "      <td>0</td>\n",
       "      <td>0</td>\n",
       "      <td>0</td>\n",
       "      <td>0</td>\n",
       "      <td>0</td>\n",
       "      <td>0</td>\n",
       "    </tr>\n",
       "    <tr>\n",
       "      <th>5522008053</th>\n",
       "      <td>0</td>\n",
       "      <td>0</td>\n",
       "      <td>5114 Melrose Ave #8</td>\n",
       "      <td>0</td>\n",
       "      <td>0</td>\n",
       "      <td>0</td>\n",
       "      <td>790127</td>\n",
       "      <td>548843</td>\n",
       "      <td>241284</td>\n",
       "      <td>0</td>\n",
       "      <td>...</td>\n",
       "      <td>0</td>\n",
       "      <td>0</td>\n",
       "      <td>0</td>\n",
       "      <td>0</td>\n",
       "      <td>0</td>\n",
       "      <td>0</td>\n",
       "      <td>0</td>\n",
       "      <td>0</td>\n",
       "      <td>0</td>\n",
       "      <td>0</td>\n",
       "    </tr>\n",
       "  </tbody>\n",
       "</table>\n",
       "<p>3 rows × 67 columns</p>\n",
       "</div>"
      ],
      "text/plain": [
       "            Owned by Trust?  Owned by Business?               SITEADDRESS  \\\n",
       "PARCEL                                                                      \n",
       "5505008010                1                   0   546 S Rimpau Blvd #2200   \n",
       "5515029015                1                   0  169 S Plymouth Blvd #100   \n",
       "5522008053                0                   0       5114 Melrose Ave #8   \n",
       "\n",
       "            MAIL DIFFERENT FROM SITE?  MAIL OUTSIDE CA?  TITLECO1  ASSDTOTAL  \\\n",
       "PARCEL                                                                         \n",
       "5505008010                          0                 0         0    3491436   \n",
       "5515029015                          0                 0         0    3122716   \n",
       "5522008053                          0                 0         0     790127   \n",
       "\n",
       "            ASSDLAND  ASSDSTCT  ASSDOTHR  ...  PERSONAL REP  QUIT CLAIM  \\\n",
       "PARCEL                                    ...                             \n",
       "5505008010   2450134   1041302         0  ...             0           0   \n",
       "5515029015   2402093    720623         0  ...             0           0   \n",
       "5522008053    548843    241284         0  ...             0           0   \n",
       "\n",
       "            RE-RECORD  RECEIVERS DEED  SHERIFFS  SPECIAL WARRANTY  TAX DEED  \\\n",
       "PARCEL                                                                        \n",
       "5505008010          0               0         0                 0         0   \n",
       "5515029015          0               0         0                 0         0   \n",
       "5522008053          0               0         0                 0         0   \n",
       "\n",
       "            TRUST TRANSFER  TRUSTEES  WARRANTY  \n",
       "PARCEL                                          \n",
       "5505008010               0         0         0  \n",
       "5515029015               0         0         0  \n",
       "5522008053               0         0         0  \n",
       "\n",
       "[3 rows x 67 columns]"
      ]
     },
     "execution_count": 597,
     "metadata": {},
     "output_type": "execute_result"
    }
   ],
   "source": [
    "# Make sure our dataframe is only Condos\n",
    "\n",
    "Total_df = Total_df[Total_df['SITEADDRESS'].str.contains('#')]\n",
    "Total_df.head(3)"
   ]
  },
  {
   "cell_type": "code",
   "execution_count": 598,
   "metadata": {},
   "outputs": [
    {
     "data": {
      "text/plain": [
       "9721"
      ]
     },
     "execution_count": 598,
     "metadata": {},
     "output_type": "execute_result"
    }
   ],
   "source": [
    "len(Total_df)"
   ]
  },
  {
   "cell_type": "code",
   "execution_count": 599,
   "metadata": {},
   "outputs": [],
   "source": [
    "# Now drop the SiteAddress column\n",
    "Total_df.drop(['SITEADDRESS'], axis=1, inplace=True)"
   ]
  },
  {
   "cell_type": "code",
   "execution_count": 600,
   "metadata": {},
   "outputs": [],
   "source": [
    "# # # Option 1: Filter by size\n",
    "# Total_df = Total_df[Total_df['TOTALSF'] > 800]\n",
    "# Total_df = Total_df[Total_df['TOTALSF'] < 1600]\n",
    "# Total_df['TOTALSF'] = Total_df['TOTALSF'].astype(float)\n",
    "\n",
    "# # Option 2: Filter by year purchased\n",
    "# Total_df = Total_df[Total_df['DOCDATE_YEAR'] > 2010]"
   ]
  },
  {
   "cell_type": "code",
   "execution_count": 601,
   "metadata": {},
   "outputs": [
    {
     "data": {
      "text/plain": [
       "PARCEL\n",
       "5505008010    2003\n",
       "5515029015    2005\n",
       "5522008053    2015\n",
       "5522008048    2015\n",
       "5516014005    1973\n",
       "              ... \n",
       "5554009037    2015\n",
       "5554010042    2012\n",
       "5560023079    2013\n",
       "5554008098    2004\n",
       "5554008097    2001\n",
       "Name: DOCDATE_YEAR, Length: 9721, dtype: int64"
      ]
     },
     "execution_count": 601,
     "metadata": {},
     "output_type": "execute_result"
    }
   ],
   "source": [
    "Total_df['DOCDATE_YEAR']"
   ]
  },
  {
   "cell_type": "code",
   "execution_count": 602,
   "metadata": {},
   "outputs": [],
   "source": [
    "# Step 1: Create our X and y\n",
    "\n",
    "y = Total_df['Did it sell?']\n",
    "X = Total_df.drop(['Did it sell?'], 1)"
   ]
  },
  {
   "cell_type": "code",
   "execution_count": 603,
   "metadata": {},
   "outputs": [
    {
     "data": {
      "text/plain": [
       "array([5505008010, 5515029015, 5522008053, ..., 5560023079, 5554008098,\n",
       "       5554008097])"
      ]
     },
     "execution_count": 603,
     "metadata": {},
     "output_type": "execute_result"
    }
   ],
   "source": [
    "APN = Total_df.index.values\n",
    "APN"
   ]
  },
  {
   "cell_type": "code",
   "execution_count": 604,
   "metadata": {},
   "outputs": [],
   "source": [
    "# Step 2: Use PCA to reduce dimension to three principal components.\n",
    "from sklearn.decomposition import PCA\n",
    "\n",
    "pca = PCA(n_components=3)\n",
    "X_pca = pca.fit_transform(X)"
   ]
  },
  {
   "cell_type": "code",
   "execution_count": 605,
   "metadata": {},
   "outputs": [
    {
     "data": {
      "text/plain": [
       "array([[ 4226534.51399112, -1841348.9602575 ,  -248920.39809726],\n",
       "       [ 3965318.68309979, -1717967.03185004,   657511.41349244],\n",
       "       [  650103.0965447 ,  -141685.53721716,   279612.25524987],\n",
       "       ...,\n",
       "       [  213669.46825204,    18853.68230521,   150879.17160837],\n",
       "       [ -133630.37140388,   109072.74848264,    69989.0545835 ],\n",
       "       [ -332895.94760777,   190829.43377764,    24722.29998858]])"
      ]
     },
     "execution_count": 605,
     "metadata": {},
     "output_type": "execute_result"
    }
   ],
   "source": [
    "X_pca"
   ]
  },
  {
   "cell_type": "code",
   "execution_count": 606,
   "metadata": {},
   "outputs": [],
   "source": [
    "# Step 3: Train, test, split\n",
    "\n",
    "X_train, X_test, y_train, y_test = train_test_split(X_pca, y, random_state=78, stratify=y)"
   ]
  },
  {
   "cell_type": "code",
   "execution_count": 607,
   "metadata": {},
   "outputs": [],
   "source": [
    "# Step 4: Scale our data\n",
    "\n",
    "# Create the StandardScaler instance\n",
    "scaler = StandardScaler()\n",
    "\n",
    "# Fit our scaler, named 'scaler' to our data, which produces a new StandardScaler object\n",
    "# which we call 'X_scaler'\n",
    "X_scaler = scaler.fit(X_train)\n",
    "\n",
    "# Scale the data\n",
    "X_train_scaled = X_scaler.transform(X_train)\n",
    "X_test_scaled = X_scaler.transform(X_test)"
   ]
  },
  {
   "cell_type": "code",
   "execution_count": 608,
   "metadata": {},
   "outputs": [],
   "source": [
    "X_train_scaled_APN = []"
   ]
  },
  {
   "cell_type": "code",
   "execution_count": 609,
   "metadata": {},
   "outputs": [
    {
     "data": {
      "text/plain": [
       "Counter({0: 6101, 1: 6101})"
      ]
     },
     "execution_count": 609,
     "metadata": {},
     "output_type": "execute_result"
    }
   ],
   "source": [
    "# implement random oversampling\n",
    "from imblearn.over_sampling import RandomOverSampler\n",
    "ros = RandomOverSampler(random_state=1)\n",
    "X_random_oversampled, y_random_oversampled = ros.fit_resample(X_train_scaled, y_train)\n",
    "\n",
    "Counter(y_random_oversampled)"
   ]
  },
  {
   "cell_type": "code",
   "execution_count": 610,
   "metadata": {},
   "outputs": [
    {
     "data": {
      "text/plain": [
       "LogisticRegression(class_weight='balanced', max_iter=300, random_state=78)"
      ]
     },
     "execution_count": 610,
     "metadata": {},
     "output_type": "execute_result"
    }
   ],
   "source": [
    "# Logistic regression using random oversampled data\n",
    "from sklearn.linear_model import LogisticRegression\n",
    "\n",
    "model = LogisticRegression(solver='lbfgs', \n",
    "                                max_iter=300,\n",
    "                                random_state=78,\n",
    "                                class_weight=\"balanced\")\n",
    "\n",
    "model.fit(X_random_oversampled, y_random_oversampled)"
   ]
  },
  {
   "cell_type": "code",
   "execution_count": 611,
   "metadata": {},
   "outputs": [],
   "source": [
    "# Evaluate the model\n",
    "y_pred = model.predict(X_test_scaled)"
   ]
  },
  {
   "cell_type": "code",
   "execution_count": 612,
   "metadata": {},
   "outputs": [
    {
     "name": "stdout",
     "output_type": "stream",
     "text": [
      " Logistic regression model accuracy: 0.592\n"
     ]
    }
   ],
   "source": [
    "print(f\" Logistic regression model accuracy: {accuracy_score(y_test, y_pred):.3f}\")"
   ]
  },
  {
   "cell_type": "code",
   "execution_count": 613,
   "metadata": {},
   "outputs": [
    {
     "data": {
      "text/plain": [
       "0.5678883428883429"
      ]
     },
     "execution_count": 613,
     "metadata": {},
     "output_type": "execute_result"
    }
   ],
   "source": [
    "# just for shits n' gigs, lets find the balanced accuracy score\n",
    "\n",
    "from sklearn.metrics import balanced_accuracy_score\n",
    "balanced_accuracy_score(y_test, y_pred)"
   ]
  },
  {
   "cell_type": "code",
   "execution_count": 614,
   "metadata": {},
   "outputs": [
    {
     "data": {
      "text/plain": [
       "0.6445349634264508"
      ]
     },
     "execution_count": 614,
     "metadata": {},
     "output_type": "execute_result"
    }
   ],
   "source": [
    "from sklearn.metrics import f1_score\n",
    "f1_score(y_test, y_pred, average=\"weighted\")"
   ]
  },
  {
   "cell_type": "code",
   "execution_count": 615,
   "metadata": {},
   "outputs": [
    {
     "data": {
      "text/plain": [
       "array([[1227,  808],\n",
       "       [ 185,  211]])"
      ]
     },
     "execution_count": 615,
     "metadata": {},
     "output_type": "execute_result"
    }
   ],
   "source": [
    "from sklearn.metrics import confusion_matrix\n",
    "confusion_matrix(y_test, y_pred)"
   ]
  },
  {
   "cell_type": "code",
   "execution_count": 616,
   "metadata": {},
   "outputs": [
    {
     "name": "stdout",
     "output_type": "stream",
     "text": [
      "                   pre       rec       spe        f1       geo       iba       sup\n",
      "\n",
      "          0       0.87      0.60      0.53      0.71      0.57      0.32      2035\n",
      "          1       0.21      0.53      0.60      0.30      0.57      0.32       396\n",
      "\n",
      "avg / total       0.76      0.59      0.54      0.64      0.57      0.32      2431\n",
      "\n"
     ]
    }
   ],
   "source": [
    "# Print the imbalanced classification report\n",
    "from imblearn.metrics import classification_report_imbalanced\n",
    "print(classification_report_imbalanced(y_test, y_pred))"
   ]
  },
  {
   "cell_type": "markdown",
   "metadata": {},
   "source": [
    "# Below is simply for testing discrepencies between sellers and non-sellers"
   ]
  },
  {
   "cell_type": "code",
   "execution_count": 617,
   "metadata": {},
   "outputs": [],
   "source": [
    "file = 'Total_Cleaned.csv'\n",
    "\n",
    "location = '/Users/Admin/Desktop/GW_Bootcamp/Analysis_Projects/Final_Project_Team_1/'"
   ]
  },
  {
   "cell_type": "code",
   "execution_count": 618,
   "metadata": {},
   "outputs": [],
   "source": [
    "path = os.path.join(location, file)"
   ]
  },
  {
   "cell_type": "code",
   "execution_count": 619,
   "metadata": {},
   "outputs": [
    {
     "data": {
      "text/html": [
       "<div>\n",
       "<style scoped>\n",
       "    .dataframe tbody tr th:only-of-type {\n",
       "        vertical-align: middle;\n",
       "    }\n",
       "\n",
       "    .dataframe tbody tr th {\n",
       "        vertical-align: top;\n",
       "    }\n",
       "\n",
       "    .dataframe thead th {\n",
       "        text-align: right;\n",
       "    }\n",
       "</style>\n",
       "<table border=\"1\" class=\"dataframe\">\n",
       "  <thead>\n",
       "    <tr style=\"text-align: right;\">\n",
       "      <th></th>\n",
       "      <th>Owned by Trust?</th>\n",
       "      <th>Owned by Business?</th>\n",
       "      <th>SITEADDRESS</th>\n",
       "      <th>MAIL DIFFERENT FROM SITE?</th>\n",
       "      <th>MAIL OUTSIDE CA?</th>\n",
       "      <th>TITLECO1</th>\n",
       "      <th>ASSDTOTAL</th>\n",
       "      <th>ASSDLAND</th>\n",
       "      <th>ASSDSTCT</th>\n",
       "      <th>ASSDOTHR</th>\n",
       "      <th>...</th>\n",
       "      <th>PERSONAL REP</th>\n",
       "      <th>QUIT CLAIM</th>\n",
       "      <th>RE-RECORD</th>\n",
       "      <th>RECEIVERS DEED</th>\n",
       "      <th>SHERIFFS</th>\n",
       "      <th>SPECIAL WARRANTY</th>\n",
       "      <th>TAX DEED</th>\n",
       "      <th>TRUST TRANSFER</th>\n",
       "      <th>TRUSTEES</th>\n",
       "      <th>WARRANTY</th>\n",
       "    </tr>\n",
       "    <tr>\n",
       "      <th>PARCEL</th>\n",
       "      <th></th>\n",
       "      <th></th>\n",
       "      <th></th>\n",
       "      <th></th>\n",
       "      <th></th>\n",
       "      <th></th>\n",
       "      <th></th>\n",
       "      <th></th>\n",
       "      <th></th>\n",
       "      <th></th>\n",
       "      <th></th>\n",
       "      <th></th>\n",
       "      <th></th>\n",
       "      <th></th>\n",
       "      <th></th>\n",
       "      <th></th>\n",
       "      <th></th>\n",
       "      <th></th>\n",
       "      <th></th>\n",
       "      <th></th>\n",
       "      <th></th>\n",
       "    </tr>\n",
       "  </thead>\n",
       "  <tbody>\n",
       "    <tr>\n",
       "      <th>5505026001</th>\n",
       "      <td>1</td>\n",
       "      <td>0</td>\n",
       "      <td>354 N Plymouth Blvd</td>\n",
       "      <td>1</td>\n",
       "      <td>0</td>\n",
       "      <td>0</td>\n",
       "      <td>2054958</td>\n",
       "      <td>1583885</td>\n",
       "      <td>471073</td>\n",
       "      <td>0</td>\n",
       "      <td>...</td>\n",
       "      <td>0</td>\n",
       "      <td>0</td>\n",
       "      <td>0</td>\n",
       "      <td>0</td>\n",
       "      <td>0</td>\n",
       "      <td>0</td>\n",
       "      <td>0</td>\n",
       "      <td>0</td>\n",
       "      <td>0</td>\n",
       "      <td>0</td>\n",
       "    </tr>\n",
       "    <tr>\n",
       "      <th>5515028023</th>\n",
       "      <td>1</td>\n",
       "      <td>0</td>\n",
       "      <td>143 N Plymouth Blvd</td>\n",
       "      <td>0</td>\n",
       "      <td>0</td>\n",
       "      <td>0</td>\n",
       "      <td>915420</td>\n",
       "      <td>592174</td>\n",
       "      <td>323246</td>\n",
       "      <td>0</td>\n",
       "      <td>...</td>\n",
       "      <td>0</td>\n",
       "      <td>0</td>\n",
       "      <td>0</td>\n",
       "      <td>0</td>\n",
       "      <td>0</td>\n",
       "      <td>0</td>\n",
       "      <td>0</td>\n",
       "      <td>0</td>\n",
       "      <td>0</td>\n",
       "      <td>0</td>\n",
       "    </tr>\n",
       "    <tr>\n",
       "      <th>5515022015</th>\n",
       "      <td>1</td>\n",
       "      <td>0</td>\n",
       "      <td>253 S Plymouth Blvd</td>\n",
       "      <td>0</td>\n",
       "      <td>0</td>\n",
       "      <td>0</td>\n",
       "      <td>1304706</td>\n",
       "      <td>731909</td>\n",
       "      <td>572797</td>\n",
       "      <td>0</td>\n",
       "      <td>...</td>\n",
       "      <td>0</td>\n",
       "      <td>0</td>\n",
       "      <td>0</td>\n",
       "      <td>0</td>\n",
       "      <td>0</td>\n",
       "      <td>0</td>\n",
       "      <td>0</td>\n",
       "      <td>0</td>\n",
       "      <td>0</td>\n",
       "      <td>0</td>\n",
       "    </tr>\n",
       "    <tr>\n",
       "      <th>5513010003</th>\n",
       "      <td>1</td>\n",
       "      <td>0</td>\n",
       "      <td>164 N Las Palmas Ave</td>\n",
       "      <td>0</td>\n",
       "      <td>0</td>\n",
       "      <td>0</td>\n",
       "      <td>2518796</td>\n",
       "      <td>1609956</td>\n",
       "      <td>908840</td>\n",
       "      <td>0</td>\n",
       "      <td>...</td>\n",
       "      <td>0</td>\n",
       "      <td>0</td>\n",
       "      <td>0</td>\n",
       "      <td>0</td>\n",
       "      <td>0</td>\n",
       "      <td>0</td>\n",
       "      <td>0</td>\n",
       "      <td>0</td>\n",
       "      <td>0</td>\n",
       "      <td>0</td>\n",
       "    </tr>\n",
       "    <tr>\n",
       "      <th>5515012030</th>\n",
       "      <td>1</td>\n",
       "      <td>0</td>\n",
       "      <td>108 S Rossmore Ave</td>\n",
       "      <td>1</td>\n",
       "      <td>0</td>\n",
       "      <td>0</td>\n",
       "      <td>1428176</td>\n",
       "      <td>999727</td>\n",
       "      <td>428449</td>\n",
       "      <td>0</td>\n",
       "      <td>...</td>\n",
       "      <td>0</td>\n",
       "      <td>0</td>\n",
       "      <td>0</td>\n",
       "      <td>0</td>\n",
       "      <td>0</td>\n",
       "      <td>0</td>\n",
       "      <td>0</td>\n",
       "      <td>0</td>\n",
       "      <td>0</td>\n",
       "      <td>0</td>\n",
       "    </tr>\n",
       "  </tbody>\n",
       "</table>\n",
       "<p>5 rows × 67 columns</p>\n",
       "</div>"
      ],
      "text/plain": [
       "            Owned by Trust?  Owned by Business?           SITEADDRESS  \\\n",
       "PARCEL                                                                  \n",
       "5505026001                1                   0   354 N Plymouth Blvd   \n",
       "5515028023                1                   0   143 N Plymouth Blvd   \n",
       "5515022015                1                   0   253 S Plymouth Blvd   \n",
       "5513010003                1                   0  164 N Las Palmas Ave   \n",
       "5515012030                1                   0    108 S Rossmore Ave   \n",
       "\n",
       "            MAIL DIFFERENT FROM SITE?  MAIL OUTSIDE CA?  TITLECO1  ASSDTOTAL  \\\n",
       "PARCEL                                                                         \n",
       "5505026001                          1                 0         0    2054958   \n",
       "5515028023                          0                 0         0     915420   \n",
       "5515022015                          0                 0         0    1304706   \n",
       "5513010003                          0                 0         0    2518796   \n",
       "5515012030                          1                 0         0    1428176   \n",
       "\n",
       "            ASSDLAND  ASSDSTCT  ASSDOTHR  ...  PERSONAL REP  QUIT CLAIM  \\\n",
       "PARCEL                                    ...                             \n",
       "5505026001   1583885    471073         0  ...             0           0   \n",
       "5515028023    592174    323246         0  ...             0           0   \n",
       "5515022015    731909    572797         0  ...             0           0   \n",
       "5513010003   1609956    908840         0  ...             0           0   \n",
       "5515012030    999727    428449         0  ...             0           0   \n",
       "\n",
       "            RE-RECORD  RECEIVERS DEED  SHERIFFS  SPECIAL WARRANTY  TAX DEED  \\\n",
       "PARCEL                                                                        \n",
       "5505026001          0               0         0                 0         0   \n",
       "5515028023          0               0         0                 0         0   \n",
       "5515022015          0               0         0                 0         0   \n",
       "5513010003          0               0         0                 0         0   \n",
       "5515012030          0               0         0                 0         0   \n",
       "\n",
       "            TRUST TRANSFER  TRUSTEES  WARRANTY  \n",
       "PARCEL                                          \n",
       "5505026001               0         0         0  \n",
       "5515028023               0         0         0  \n",
       "5515022015               0         0         0  \n",
       "5513010003               0         0         0  \n",
       "5515012030               0         0         0  \n",
       "\n",
       "[5 rows x 67 columns]"
      ]
     },
     "execution_count": 619,
     "metadata": {},
     "output_type": "execute_result"
    }
   ],
   "source": [
    "# import our file\n",
    "\n",
    "Total_df = pd.read_csv(path, index_col='PARCEL')\n",
    "Total_df.head()"
   ]
  },
  {
   "cell_type": "code",
   "execution_count": 620,
   "metadata": {},
   "outputs": [],
   "source": [
    "Total_df['TAXAMT'] = Total_df['TAXAMT'].astype(int)\n",
    "Total_df['EFFYRBLT'] = Total_df['EFFYRBLT'].astype(int)"
   ]
  },
  {
   "cell_type": "code",
   "execution_count": 621,
   "metadata": {},
   "outputs": [
    {
     "data": {
      "text/html": [
       "<div>\n",
       "<style scoped>\n",
       "    .dataframe tbody tr th:only-of-type {\n",
       "        vertical-align: middle;\n",
       "    }\n",
       "\n",
       "    .dataframe tbody tr th {\n",
       "        vertical-align: top;\n",
       "    }\n",
       "\n",
       "    .dataframe thead th {\n",
       "        text-align: right;\n",
       "    }\n",
       "</style>\n",
       "<table border=\"1\" class=\"dataframe\">\n",
       "  <thead>\n",
       "    <tr style=\"text-align: right;\">\n",
       "      <th></th>\n",
       "      <th>Owned by Trust?</th>\n",
       "      <th>Owned by Business?</th>\n",
       "      <th>SITEADDRESS</th>\n",
       "      <th>MAIL DIFFERENT FROM SITE?</th>\n",
       "      <th>MAIL OUTSIDE CA?</th>\n",
       "      <th>TITLECO1</th>\n",
       "      <th>ASSDTOTAL</th>\n",
       "      <th>ASSDLAND</th>\n",
       "      <th>ASSDSTCT</th>\n",
       "      <th>ASSDOTHR</th>\n",
       "      <th>...</th>\n",
       "      <th>PERSONAL REP</th>\n",
       "      <th>QUIT CLAIM</th>\n",
       "      <th>RE-RECORD</th>\n",
       "      <th>RECEIVERS DEED</th>\n",
       "      <th>SHERIFFS</th>\n",
       "      <th>SPECIAL WARRANTY</th>\n",
       "      <th>TAX DEED</th>\n",
       "      <th>TRUST TRANSFER</th>\n",
       "      <th>TRUSTEES</th>\n",
       "      <th>WARRANTY</th>\n",
       "    </tr>\n",
       "    <tr>\n",
       "      <th>PARCEL</th>\n",
       "      <th></th>\n",
       "      <th></th>\n",
       "      <th></th>\n",
       "      <th></th>\n",
       "      <th></th>\n",
       "      <th></th>\n",
       "      <th></th>\n",
       "      <th></th>\n",
       "      <th></th>\n",
       "      <th></th>\n",
       "      <th></th>\n",
       "      <th></th>\n",
       "      <th></th>\n",
       "      <th></th>\n",
       "      <th></th>\n",
       "      <th></th>\n",
       "      <th></th>\n",
       "      <th></th>\n",
       "      <th></th>\n",
       "      <th></th>\n",
       "      <th></th>\n",
       "    </tr>\n",
       "  </thead>\n",
       "  <tbody>\n",
       "    <tr>\n",
       "      <th>5505026001</th>\n",
       "      <td>1</td>\n",
       "      <td>0</td>\n",
       "      <td>354 N Plymouth Blvd</td>\n",
       "      <td>1</td>\n",
       "      <td>0</td>\n",
       "      <td>0</td>\n",
       "      <td>2054958</td>\n",
       "      <td>1583885</td>\n",
       "      <td>471073</td>\n",
       "      <td>0</td>\n",
       "      <td>...</td>\n",
       "      <td>0</td>\n",
       "      <td>0</td>\n",
       "      <td>0</td>\n",
       "      <td>0</td>\n",
       "      <td>0</td>\n",
       "      <td>0</td>\n",
       "      <td>0</td>\n",
       "      <td>0</td>\n",
       "      <td>0</td>\n",
       "      <td>0</td>\n",
       "    </tr>\n",
       "    <tr>\n",
       "      <th>5515028023</th>\n",
       "      <td>1</td>\n",
       "      <td>0</td>\n",
       "      <td>143 N Plymouth Blvd</td>\n",
       "      <td>0</td>\n",
       "      <td>0</td>\n",
       "      <td>0</td>\n",
       "      <td>915420</td>\n",
       "      <td>592174</td>\n",
       "      <td>323246</td>\n",
       "      <td>0</td>\n",
       "      <td>...</td>\n",
       "      <td>0</td>\n",
       "      <td>0</td>\n",
       "      <td>0</td>\n",
       "      <td>0</td>\n",
       "      <td>0</td>\n",
       "      <td>0</td>\n",
       "      <td>0</td>\n",
       "      <td>0</td>\n",
       "      <td>0</td>\n",
       "      <td>0</td>\n",
       "    </tr>\n",
       "    <tr>\n",
       "      <th>5515022015</th>\n",
       "      <td>1</td>\n",
       "      <td>0</td>\n",
       "      <td>253 S Plymouth Blvd</td>\n",
       "      <td>0</td>\n",
       "      <td>0</td>\n",
       "      <td>0</td>\n",
       "      <td>1304706</td>\n",
       "      <td>731909</td>\n",
       "      <td>572797</td>\n",
       "      <td>0</td>\n",
       "      <td>...</td>\n",
       "      <td>0</td>\n",
       "      <td>0</td>\n",
       "      <td>0</td>\n",
       "      <td>0</td>\n",
       "      <td>0</td>\n",
       "      <td>0</td>\n",
       "      <td>0</td>\n",
       "      <td>0</td>\n",
       "      <td>0</td>\n",
       "      <td>0</td>\n",
       "    </tr>\n",
       "  </tbody>\n",
       "</table>\n",
       "<p>3 rows × 67 columns</p>\n",
       "</div>"
      ],
      "text/plain": [
       "            Owned by Trust?  Owned by Business?          SITEADDRESS  \\\n",
       "PARCEL                                                                 \n",
       "5505026001                1                   0  354 N Plymouth Blvd   \n",
       "5515028023                1                   0  143 N Plymouth Blvd   \n",
       "5515022015                1                   0  253 S Plymouth Blvd   \n",
       "\n",
       "            MAIL DIFFERENT FROM SITE?  MAIL OUTSIDE CA?  TITLECO1  ASSDTOTAL  \\\n",
       "PARCEL                                                                         \n",
       "5505026001                          1                 0         0    2054958   \n",
       "5515028023                          0                 0         0     915420   \n",
       "5515022015                          0                 0         0    1304706   \n",
       "\n",
       "            ASSDLAND  ASSDSTCT  ASSDOTHR  ...  PERSONAL REP  QUIT CLAIM  \\\n",
       "PARCEL                                    ...                             \n",
       "5505026001   1583885    471073         0  ...             0           0   \n",
       "5515028023    592174    323246         0  ...             0           0   \n",
       "5515022015    731909    572797         0  ...             0           0   \n",
       "\n",
       "            RE-RECORD  RECEIVERS DEED  SHERIFFS  SPECIAL WARRANTY  TAX DEED  \\\n",
       "PARCEL                                                                        \n",
       "5505026001          0               0         0                 0         0   \n",
       "5515028023          0               0         0                 0         0   \n",
       "5515022015          0               0         0                 0         0   \n",
       "\n",
       "            TRUST TRANSFER  TRUSTEES  WARRANTY  \n",
       "PARCEL                                          \n",
       "5505026001               0         0         0  \n",
       "5515028023               0         0         0  \n",
       "5515022015               0         0         0  \n",
       "\n",
       "[3 rows x 67 columns]"
      ]
     },
     "execution_count": 621,
     "metadata": {},
     "output_type": "execute_result"
    }
   ],
   "source": [
    "# Make sure our dataframe is only SFR's so exclude every property that has an '#' in its site address\n",
    "\n",
    "Total_df = Total_df[~Total_df['SITEADDRESS'].str.contains('#')]\n",
    "Total_df.head(3)"
   ]
  },
  {
   "cell_type": "markdown",
   "metadata": {},
   "source": [
    "# Separate out our sellers from non-sellers"
   ]
  },
  {
   "cell_type": "code",
   "execution_count": 622,
   "metadata": {},
   "outputs": [],
   "source": [
    "Total_Sellers_df = Total_df[Total_df['Did it sell?'] == 1]"
   ]
  },
  {
   "cell_type": "code",
   "execution_count": 623,
   "metadata": {},
   "outputs": [
    {
     "data": {
      "text/html": [
       "<div>\n",
       "<style scoped>\n",
       "    .dataframe tbody tr th:only-of-type {\n",
       "        vertical-align: middle;\n",
       "    }\n",
       "\n",
       "    .dataframe tbody tr th {\n",
       "        vertical-align: top;\n",
       "    }\n",
       "\n",
       "    .dataframe thead th {\n",
       "        text-align: right;\n",
       "    }\n",
       "</style>\n",
       "<table border=\"1\" class=\"dataframe\">\n",
       "  <thead>\n",
       "    <tr style=\"text-align: right;\">\n",
       "      <th></th>\n",
       "      <th>Owned by Trust?</th>\n",
       "      <th>Owned by Business?</th>\n",
       "      <th>SITEADDRESS</th>\n",
       "      <th>MAIL DIFFERENT FROM SITE?</th>\n",
       "      <th>MAIL OUTSIDE CA?</th>\n",
       "      <th>TITLECO1</th>\n",
       "      <th>ASSDTOTAL</th>\n",
       "      <th>ASSDLAND</th>\n",
       "      <th>ASSDSTCT</th>\n",
       "      <th>ASSDOTHR</th>\n",
       "      <th>...</th>\n",
       "      <th>PERSONAL REP</th>\n",
       "      <th>QUIT CLAIM</th>\n",
       "      <th>RE-RECORD</th>\n",
       "      <th>RECEIVERS DEED</th>\n",
       "      <th>SHERIFFS</th>\n",
       "      <th>SPECIAL WARRANTY</th>\n",
       "      <th>TAX DEED</th>\n",
       "      <th>TRUST TRANSFER</th>\n",
       "      <th>TRUSTEES</th>\n",
       "      <th>WARRANTY</th>\n",
       "    </tr>\n",
       "    <tr>\n",
       "      <th>PARCEL</th>\n",
       "      <th></th>\n",
       "      <th></th>\n",
       "      <th></th>\n",
       "      <th></th>\n",
       "      <th></th>\n",
       "      <th></th>\n",
       "      <th></th>\n",
       "      <th></th>\n",
       "      <th></th>\n",
       "      <th></th>\n",
       "      <th></th>\n",
       "      <th></th>\n",
       "      <th></th>\n",
       "      <th></th>\n",
       "      <th></th>\n",
       "      <th></th>\n",
       "      <th></th>\n",
       "      <th></th>\n",
       "      <th></th>\n",
       "      <th></th>\n",
       "      <th></th>\n",
       "    </tr>\n",
       "  </thead>\n",
       "  <tbody>\n",
       "    <tr>\n",
       "      <th>5515022015</th>\n",
       "      <td>1</td>\n",
       "      <td>0</td>\n",
       "      <td>253 S Plymouth Blvd</td>\n",
       "      <td>0</td>\n",
       "      <td>0</td>\n",
       "      <td>0</td>\n",
       "      <td>1304706</td>\n",
       "      <td>731909</td>\n",
       "      <td>572797</td>\n",
       "      <td>0</td>\n",
       "      <td>...</td>\n",
       "      <td>0</td>\n",
       "      <td>0</td>\n",
       "      <td>0</td>\n",
       "      <td>0</td>\n",
       "      <td>0</td>\n",
       "      <td>0</td>\n",
       "      <td>0</td>\n",
       "      <td>0</td>\n",
       "      <td>0</td>\n",
       "      <td>0</td>\n",
       "    </tr>\n",
       "    <tr>\n",
       "      <th>5516023003</th>\n",
       "      <td>1</td>\n",
       "      <td>0</td>\n",
       "      <td>215 S St Andrews Pl</td>\n",
       "      <td>0</td>\n",
       "      <td>0</td>\n",
       "      <td>0</td>\n",
       "      <td>582687</td>\n",
       "      <td>466154</td>\n",
       "      <td>116533</td>\n",
       "      <td>0</td>\n",
       "      <td>...</td>\n",
       "      <td>0</td>\n",
       "      <td>0</td>\n",
       "      <td>0</td>\n",
       "      <td>0</td>\n",
       "      <td>0</td>\n",
       "      <td>0</td>\n",
       "      <td>0</td>\n",
       "      <td>0</td>\n",
       "      <td>0</td>\n",
       "      <td>0</td>\n",
       "    </tr>\n",
       "    <tr>\n",
       "      <th>5515023004</th>\n",
       "      <td>0</td>\n",
       "      <td>0</td>\n",
       "      <td>122 S Larchmont Blvd</td>\n",
       "      <td>0</td>\n",
       "      <td>0</td>\n",
       "      <td>0</td>\n",
       "      <td>732290</td>\n",
       "      <td>518993</td>\n",
       "      <td>213297</td>\n",
       "      <td>0</td>\n",
       "      <td>...</td>\n",
       "      <td>0</td>\n",
       "      <td>0</td>\n",
       "      <td>0</td>\n",
       "      <td>0</td>\n",
       "      <td>0</td>\n",
       "      <td>0</td>\n",
       "      <td>0</td>\n",
       "      <td>0</td>\n",
       "      <td>0</td>\n",
       "      <td>0</td>\n",
       "    </tr>\n",
       "    <tr>\n",
       "      <th>5523001002</th>\n",
       "      <td>0</td>\n",
       "      <td>0</td>\n",
       "      <td>640 N June St</td>\n",
       "      <td>0</td>\n",
       "      <td>0</td>\n",
       "      <td>0</td>\n",
       "      <td>950936</td>\n",
       "      <td>615024</td>\n",
       "      <td>335912</td>\n",
       "      <td>0</td>\n",
       "      <td>...</td>\n",
       "      <td>0</td>\n",
       "      <td>0</td>\n",
       "      <td>0</td>\n",
       "      <td>0</td>\n",
       "      <td>0</td>\n",
       "      <td>0</td>\n",
       "      <td>0</td>\n",
       "      <td>0</td>\n",
       "      <td>0</td>\n",
       "      <td>0</td>\n",
       "    </tr>\n",
       "    <tr>\n",
       "      <th>5515012004</th>\n",
       "      <td>0</td>\n",
       "      <td>0</td>\n",
       "      <td>105 S Arden Blvd</td>\n",
       "      <td>0</td>\n",
       "      <td>0</td>\n",
       "      <td>0</td>\n",
       "      <td>718038</td>\n",
       "      <td>545610</td>\n",
       "      <td>172428</td>\n",
       "      <td>0</td>\n",
       "      <td>...</td>\n",
       "      <td>0</td>\n",
       "      <td>0</td>\n",
       "      <td>0</td>\n",
       "      <td>0</td>\n",
       "      <td>0</td>\n",
       "      <td>0</td>\n",
       "      <td>0</td>\n",
       "      <td>0</td>\n",
       "      <td>0</td>\n",
       "      <td>0</td>\n",
       "    </tr>\n",
       "    <tr>\n",
       "      <th>...</th>\n",
       "      <td>...</td>\n",
       "      <td>...</td>\n",
       "      <td>...</td>\n",
       "      <td>...</td>\n",
       "      <td>...</td>\n",
       "      <td>...</td>\n",
       "      <td>...</td>\n",
       "      <td>...</td>\n",
       "      <td>...</td>\n",
       "      <td>...</td>\n",
       "      <td>...</td>\n",
       "      <td>...</td>\n",
       "      <td>...</td>\n",
       "      <td>...</td>\n",
       "      <td>...</td>\n",
       "      <td>...</td>\n",
       "      <td>...</td>\n",
       "      <td>...</td>\n",
       "      <td>...</td>\n",
       "      <td>...</td>\n",
       "      <td>...</td>\n",
       "    </tr>\n",
       "    <tr>\n",
       "      <th>4340004029</th>\n",
       "      <td>1</td>\n",
       "      <td>0</td>\n",
       "      <td>928 Hilldale Ave</td>\n",
       "      <td>1</td>\n",
       "      <td>1</td>\n",
       "      <td>0</td>\n",
       "      <td>746202</td>\n",
       "      <td>319801</td>\n",
       "      <td>426401</td>\n",
       "      <td>0</td>\n",
       "      <td>...</td>\n",
       "      <td>0</td>\n",
       "      <td>0</td>\n",
       "      <td>0</td>\n",
       "      <td>0</td>\n",
       "      <td>0</td>\n",
       "      <td>0</td>\n",
       "      <td>0</td>\n",
       "      <td>0</td>\n",
       "      <td>0</td>\n",
       "      <td>0</td>\n",
       "    </tr>\n",
       "    <tr>\n",
       "      <th>4337007083</th>\n",
       "      <td>0</td>\n",
       "      <td>0</td>\n",
       "      <td>828 Westbourne Dr</td>\n",
       "      <td>1</td>\n",
       "      <td>0</td>\n",
       "      <td>1</td>\n",
       "      <td>1033978</td>\n",
       "      <td>674604</td>\n",
       "      <td>359374</td>\n",
       "      <td>0</td>\n",
       "      <td>...</td>\n",
       "      <td>0</td>\n",
       "      <td>0</td>\n",
       "      <td>0</td>\n",
       "      <td>0</td>\n",
       "      <td>0</td>\n",
       "      <td>0</td>\n",
       "      <td>0</td>\n",
       "      <td>0</td>\n",
       "      <td>0</td>\n",
       "      <td>0</td>\n",
       "    </tr>\n",
       "    <tr>\n",
       "      <th>5554012037</th>\n",
       "      <td>0</td>\n",
       "      <td>0</td>\n",
       "      <td>7911 Norton Ave</td>\n",
       "      <td>1</td>\n",
       "      <td>1</td>\n",
       "      <td>1</td>\n",
       "      <td>561100</td>\n",
       "      <td>479200</td>\n",
       "      <td>81900</td>\n",
       "      <td>0</td>\n",
       "      <td>...</td>\n",
       "      <td>0</td>\n",
       "      <td>0</td>\n",
       "      <td>0</td>\n",
       "      <td>0</td>\n",
       "      <td>0</td>\n",
       "      <td>0</td>\n",
       "      <td>0</td>\n",
       "      <td>0</td>\n",
       "      <td>0</td>\n",
       "      <td>0</td>\n",
       "    </tr>\n",
       "    <tr>\n",
       "      <th>5554012049</th>\n",
       "      <td>0</td>\n",
       "      <td>1</td>\n",
       "      <td>7919 Norton Ave</td>\n",
       "      <td>1</td>\n",
       "      <td>0</td>\n",
       "      <td>0</td>\n",
       "      <td>615790</td>\n",
       "      <td>307383</td>\n",
       "      <td>308407</td>\n",
       "      <td>0</td>\n",
       "      <td>...</td>\n",
       "      <td>0</td>\n",
       "      <td>0</td>\n",
       "      <td>0</td>\n",
       "      <td>0</td>\n",
       "      <td>0</td>\n",
       "      <td>0</td>\n",
       "      <td>0</td>\n",
       "      <td>0</td>\n",
       "      <td>0</td>\n",
       "      <td>0</td>\n",
       "    </tr>\n",
       "    <tr>\n",
       "      <th>5554012043</th>\n",
       "      <td>0</td>\n",
       "      <td>0</td>\n",
       "      <td>7915 1/8 Norton Ave</td>\n",
       "      <td>1</td>\n",
       "      <td>0</td>\n",
       "      <td>1</td>\n",
       "      <td>443569</td>\n",
       "      <td>354857</td>\n",
       "      <td>88712</td>\n",
       "      <td>0</td>\n",
       "      <td>...</td>\n",
       "      <td>0</td>\n",
       "      <td>0</td>\n",
       "      <td>0</td>\n",
       "      <td>0</td>\n",
       "      <td>0</td>\n",
       "      <td>0</td>\n",
       "      <td>0</td>\n",
       "      <td>1</td>\n",
       "      <td>0</td>\n",
       "      <td>0</td>\n",
       "    </tr>\n",
       "  </tbody>\n",
       "</table>\n",
       "<p>3468 rows × 67 columns</p>\n",
       "</div>"
      ],
      "text/plain": [
       "            Owned by Trust?  Owned by Business?           SITEADDRESS  \\\n",
       "PARCEL                                                                  \n",
       "5515022015                1                   0   253 S Plymouth Blvd   \n",
       "5516023003                1                   0   215 S St Andrews Pl   \n",
       "5515023004                0                   0  122 S Larchmont Blvd   \n",
       "5523001002                0                   0         640 N June St   \n",
       "5515012004                0                   0      105 S Arden Blvd   \n",
       "...                     ...                 ...                   ...   \n",
       "4340004029                1                   0      928 Hilldale Ave   \n",
       "4337007083                0                   0     828 Westbourne Dr   \n",
       "5554012037                0                   0       7911 Norton Ave   \n",
       "5554012049                0                   1       7919 Norton Ave   \n",
       "5554012043                0                   0   7915 1/8 Norton Ave   \n",
       "\n",
       "            MAIL DIFFERENT FROM SITE?  MAIL OUTSIDE CA?  TITLECO1  ASSDTOTAL  \\\n",
       "PARCEL                                                                         \n",
       "5515022015                          0                 0         0    1304706   \n",
       "5516023003                          0                 0         0     582687   \n",
       "5515023004                          0                 0         0     732290   \n",
       "5523001002                          0                 0         0     950936   \n",
       "5515012004                          0                 0         0     718038   \n",
       "...                               ...               ...       ...        ...   \n",
       "4340004029                          1                 1         0     746202   \n",
       "4337007083                          1                 0         1    1033978   \n",
       "5554012037                          1                 1         1     561100   \n",
       "5554012049                          1                 0         0     615790   \n",
       "5554012043                          1                 0         1     443569   \n",
       "\n",
       "            ASSDLAND  ASSDSTCT  ASSDOTHR  ...  PERSONAL REP  QUIT CLAIM  \\\n",
       "PARCEL                                    ...                             \n",
       "5515022015    731909    572797         0  ...             0           0   \n",
       "5516023003    466154    116533         0  ...             0           0   \n",
       "5515023004    518993    213297         0  ...             0           0   \n",
       "5523001002    615024    335912         0  ...             0           0   \n",
       "5515012004    545610    172428         0  ...             0           0   \n",
       "...              ...       ...       ...  ...           ...         ...   \n",
       "4340004029    319801    426401         0  ...             0           0   \n",
       "4337007083    674604    359374         0  ...             0           0   \n",
       "5554012037    479200     81900         0  ...             0           0   \n",
       "5554012049    307383    308407         0  ...             0           0   \n",
       "5554012043    354857     88712         0  ...             0           0   \n",
       "\n",
       "            RE-RECORD  RECEIVERS DEED  SHERIFFS  SPECIAL WARRANTY  TAX DEED  \\\n",
       "PARCEL                                                                        \n",
       "5515022015          0               0         0                 0         0   \n",
       "5516023003          0               0         0                 0         0   \n",
       "5515023004          0               0         0                 0         0   \n",
       "5523001002          0               0         0                 0         0   \n",
       "5515012004          0               0         0                 0         0   \n",
       "...               ...             ...       ...               ...       ...   \n",
       "4340004029          0               0         0                 0         0   \n",
       "4337007083          0               0         0                 0         0   \n",
       "5554012037          0               0         0                 0         0   \n",
       "5554012049          0               0         0                 0         0   \n",
       "5554012043          0               0         0                 0         0   \n",
       "\n",
       "            TRUST TRANSFER  TRUSTEES  WARRANTY  \n",
       "PARCEL                                          \n",
       "5515022015               0         0         0  \n",
       "5516023003               0         0         0  \n",
       "5515023004               0         0         0  \n",
       "5523001002               0         0         0  \n",
       "5515012004               0         0         0  \n",
       "...                    ...       ...       ...  \n",
       "4340004029               0         0         0  \n",
       "4337007083               0         0         0  \n",
       "5554012037               0         0         0  \n",
       "5554012049               0         0         0  \n",
       "5554012043               1         0         0  \n",
       "\n",
       "[3468 rows x 67 columns]"
      ]
     },
     "execution_count": 623,
     "metadata": {},
     "output_type": "execute_result"
    }
   ],
   "source": [
    "Total_Sellers_df"
   ]
  },
  {
   "cell_type": "code",
   "execution_count": 624,
   "metadata": {},
   "outputs": [
    {
     "data": {
      "text/html": [
       "<div>\n",
       "<style scoped>\n",
       "    .dataframe tbody tr th:only-of-type {\n",
       "        vertical-align: middle;\n",
       "    }\n",
       "\n",
       "    .dataframe tbody tr th {\n",
       "        vertical-align: top;\n",
       "    }\n",
       "\n",
       "    .dataframe thead th {\n",
       "        text-align: right;\n",
       "    }\n",
       "</style>\n",
       "<table border=\"1\" class=\"dataframe\">\n",
       "  <thead>\n",
       "    <tr style=\"text-align: right;\">\n",
       "      <th></th>\n",
       "      <th>Owned by Trust?</th>\n",
       "      <th>Owned by Business?</th>\n",
       "      <th>SITEADDRESS</th>\n",
       "      <th>MAIL DIFFERENT FROM SITE?</th>\n",
       "      <th>MAIL OUTSIDE CA?</th>\n",
       "      <th>TITLECO1</th>\n",
       "      <th>ASSDTOTAL</th>\n",
       "      <th>ASSDLAND</th>\n",
       "      <th>ASSDSTCT</th>\n",
       "      <th>ASSDOTHR</th>\n",
       "      <th>...</th>\n",
       "      <th>PERSONAL REP</th>\n",
       "      <th>QUIT CLAIM</th>\n",
       "      <th>RE-RECORD</th>\n",
       "      <th>RECEIVERS DEED</th>\n",
       "      <th>SHERIFFS</th>\n",
       "      <th>SPECIAL WARRANTY</th>\n",
       "      <th>TAX DEED</th>\n",
       "      <th>TRUST TRANSFER</th>\n",
       "      <th>TRUSTEES</th>\n",
       "      <th>WARRANTY</th>\n",
       "    </tr>\n",
       "    <tr>\n",
       "      <th>PARCEL</th>\n",
       "      <th></th>\n",
       "      <th></th>\n",
       "      <th></th>\n",
       "      <th></th>\n",
       "      <th></th>\n",
       "      <th></th>\n",
       "      <th></th>\n",
       "      <th></th>\n",
       "      <th></th>\n",
       "      <th></th>\n",
       "      <th></th>\n",
       "      <th></th>\n",
       "      <th></th>\n",
       "      <th></th>\n",
       "      <th></th>\n",
       "      <th></th>\n",
       "      <th></th>\n",
       "      <th></th>\n",
       "      <th></th>\n",
       "      <th></th>\n",
       "      <th></th>\n",
       "    </tr>\n",
       "  </thead>\n",
       "  <tbody>\n",
       "    <tr>\n",
       "      <th>5505026001</th>\n",
       "      <td>1</td>\n",
       "      <td>0</td>\n",
       "      <td>354 N Plymouth Blvd</td>\n",
       "      <td>1</td>\n",
       "      <td>0</td>\n",
       "      <td>0</td>\n",
       "      <td>2054958</td>\n",
       "      <td>1583885</td>\n",
       "      <td>471073</td>\n",
       "      <td>0</td>\n",
       "      <td>...</td>\n",
       "      <td>0</td>\n",
       "      <td>0</td>\n",
       "      <td>0</td>\n",
       "      <td>0</td>\n",
       "      <td>0</td>\n",
       "      <td>0</td>\n",
       "      <td>0</td>\n",
       "      <td>0</td>\n",
       "      <td>0</td>\n",
       "      <td>0</td>\n",
       "    </tr>\n",
       "    <tr>\n",
       "      <th>5515028023</th>\n",
       "      <td>1</td>\n",
       "      <td>0</td>\n",
       "      <td>143 N Plymouth Blvd</td>\n",
       "      <td>0</td>\n",
       "      <td>0</td>\n",
       "      <td>0</td>\n",
       "      <td>915420</td>\n",
       "      <td>592174</td>\n",
       "      <td>323246</td>\n",
       "      <td>0</td>\n",
       "      <td>...</td>\n",
       "      <td>0</td>\n",
       "      <td>0</td>\n",
       "      <td>0</td>\n",
       "      <td>0</td>\n",
       "      <td>0</td>\n",
       "      <td>0</td>\n",
       "      <td>0</td>\n",
       "      <td>0</td>\n",
       "      <td>0</td>\n",
       "      <td>0</td>\n",
       "    </tr>\n",
       "    <tr>\n",
       "      <th>5513010003</th>\n",
       "      <td>1</td>\n",
       "      <td>0</td>\n",
       "      <td>164 N Las Palmas Ave</td>\n",
       "      <td>0</td>\n",
       "      <td>0</td>\n",
       "      <td>0</td>\n",
       "      <td>2518796</td>\n",
       "      <td>1609956</td>\n",
       "      <td>908840</td>\n",
       "      <td>0</td>\n",
       "      <td>...</td>\n",
       "      <td>0</td>\n",
       "      <td>0</td>\n",
       "      <td>0</td>\n",
       "      <td>0</td>\n",
       "      <td>0</td>\n",
       "      <td>0</td>\n",
       "      <td>0</td>\n",
       "      <td>0</td>\n",
       "      <td>0</td>\n",
       "      <td>0</td>\n",
       "    </tr>\n",
       "    <tr>\n",
       "      <th>5515012030</th>\n",
       "      <td>1</td>\n",
       "      <td>0</td>\n",
       "      <td>108 S Rossmore Ave</td>\n",
       "      <td>1</td>\n",
       "      <td>0</td>\n",
       "      <td>0</td>\n",
       "      <td>1428176</td>\n",
       "      <td>999727</td>\n",
       "      <td>428449</td>\n",
       "      <td>0</td>\n",
       "      <td>...</td>\n",
       "      <td>0</td>\n",
       "      <td>0</td>\n",
       "      <td>0</td>\n",
       "      <td>0</td>\n",
       "      <td>0</td>\n",
       "      <td>0</td>\n",
       "      <td>0</td>\n",
       "      <td>0</td>\n",
       "      <td>0</td>\n",
       "      <td>0</td>\n",
       "    </tr>\n",
       "    <tr>\n",
       "      <th>5516002020</th>\n",
       "      <td>1</td>\n",
       "      <td>0</td>\n",
       "      <td>223 S Irving Blvd</td>\n",
       "      <td>0</td>\n",
       "      <td>0</td>\n",
       "      <td>0</td>\n",
       "      <td>1167489</td>\n",
       "      <td>689700</td>\n",
       "      <td>477789</td>\n",
       "      <td>0</td>\n",
       "      <td>...</td>\n",
       "      <td>0</td>\n",
       "      <td>0</td>\n",
       "      <td>0</td>\n",
       "      <td>0</td>\n",
       "      <td>0</td>\n",
       "      <td>0</td>\n",
       "      <td>0</td>\n",
       "      <td>0</td>\n",
       "      <td>0</td>\n",
       "      <td>0</td>\n",
       "    </tr>\n",
       "    <tr>\n",
       "      <th>...</th>\n",
       "      <td>...</td>\n",
       "      <td>...</td>\n",
       "      <td>...</td>\n",
       "      <td>...</td>\n",
       "      <td>...</td>\n",
       "      <td>...</td>\n",
       "      <td>...</td>\n",
       "      <td>...</td>\n",
       "      <td>...</td>\n",
       "      <td>...</td>\n",
       "      <td>...</td>\n",
       "      <td>...</td>\n",
       "      <td>...</td>\n",
       "      <td>...</td>\n",
       "      <td>...</td>\n",
       "      <td>...</td>\n",
       "      <td>...</td>\n",
       "      <td>...</td>\n",
       "      <td>...</td>\n",
       "      <td>...</td>\n",
       "      <td>...</td>\n",
       "    </tr>\n",
       "    <tr>\n",
       "      <th>5554012045</th>\n",
       "      <td>0</td>\n",
       "      <td>0</td>\n",
       "      <td>7915 3/8 Norton Ave</td>\n",
       "      <td>1</td>\n",
       "      <td>0</td>\n",
       "      <td>1</td>\n",
       "      <td>559000</td>\n",
       "      <td>300000</td>\n",
       "      <td>259000</td>\n",
       "      <td>0</td>\n",
       "      <td>...</td>\n",
       "      <td>0</td>\n",
       "      <td>0</td>\n",
       "      <td>0</td>\n",
       "      <td>0</td>\n",
       "      <td>0</td>\n",
       "      <td>0</td>\n",
       "      <td>0</td>\n",
       "      <td>0</td>\n",
       "      <td>0</td>\n",
       "      <td>0</td>\n",
       "    </tr>\n",
       "    <tr>\n",
       "      <th>5554012046</th>\n",
       "      <td>0</td>\n",
       "      <td>0</td>\n",
       "      <td>7915 1/2 Norton Ave</td>\n",
       "      <td>0</td>\n",
       "      <td>0</td>\n",
       "      <td>1</td>\n",
       "      <td>561100</td>\n",
       "      <td>447800</td>\n",
       "      <td>113300</td>\n",
       "      <td>0</td>\n",
       "      <td>...</td>\n",
       "      <td>0</td>\n",
       "      <td>0</td>\n",
       "      <td>0</td>\n",
       "      <td>0</td>\n",
       "      <td>0</td>\n",
       "      <td>0</td>\n",
       "      <td>0</td>\n",
       "      <td>0</td>\n",
       "      <td>0</td>\n",
       "      <td>0</td>\n",
       "    </tr>\n",
       "    <tr>\n",
       "      <th>5554012048</th>\n",
       "      <td>1</td>\n",
       "      <td>0</td>\n",
       "      <td>7917 1/2 Norton Ave</td>\n",
       "      <td>0</td>\n",
       "      <td>0</td>\n",
       "      <td>0</td>\n",
       "      <td>141299</td>\n",
       "      <td>64965</td>\n",
       "      <td>76334</td>\n",
       "      <td>0</td>\n",
       "      <td>...</td>\n",
       "      <td>0</td>\n",
       "      <td>0</td>\n",
       "      <td>0</td>\n",
       "      <td>0</td>\n",
       "      <td>0</td>\n",
       "      <td>0</td>\n",
       "      <td>0</td>\n",
       "      <td>0</td>\n",
       "      <td>0</td>\n",
       "      <td>0</td>\n",
       "    </tr>\n",
       "    <tr>\n",
       "      <th>5554012038</th>\n",
       "      <td>0</td>\n",
       "      <td>0</td>\n",
       "      <td>7911 1/8 Norton Ave</td>\n",
       "      <td>0</td>\n",
       "      <td>0</td>\n",
       "      <td>1</td>\n",
       "      <td>272185</td>\n",
       "      <td>158899</td>\n",
       "      <td>113286</td>\n",
       "      <td>0</td>\n",
       "      <td>...</td>\n",
       "      <td>0</td>\n",
       "      <td>1</td>\n",
       "      <td>0</td>\n",
       "      <td>0</td>\n",
       "      <td>0</td>\n",
       "      <td>0</td>\n",
       "      <td>0</td>\n",
       "      <td>0</td>\n",
       "      <td>0</td>\n",
       "      <td>0</td>\n",
       "    </tr>\n",
       "    <tr>\n",
       "      <th>5554012051</th>\n",
       "      <td>0</td>\n",
       "      <td>0</td>\n",
       "      <td>7921 Norton Ave</td>\n",
       "      <td>0</td>\n",
       "      <td>0</td>\n",
       "      <td>1</td>\n",
       "      <td>629700</td>\n",
       "      <td>522500</td>\n",
       "      <td>107200</td>\n",
       "      <td>0</td>\n",
       "      <td>...</td>\n",
       "      <td>0</td>\n",
       "      <td>0</td>\n",
       "      <td>0</td>\n",
       "      <td>0</td>\n",
       "      <td>0</td>\n",
       "      <td>0</td>\n",
       "      <td>0</td>\n",
       "      <td>0</td>\n",
       "      <td>0</td>\n",
       "      <td>0</td>\n",
       "    </tr>\n",
       "  </tbody>\n",
       "</table>\n",
       "<p>23410 rows × 67 columns</p>\n",
       "</div>"
      ],
      "text/plain": [
       "            Owned by Trust?  Owned by Business?           SITEADDRESS  \\\n",
       "PARCEL                                                                  \n",
       "5505026001                1                   0   354 N Plymouth Blvd   \n",
       "5515028023                1                   0   143 N Plymouth Blvd   \n",
       "5513010003                1                   0  164 N Las Palmas Ave   \n",
       "5515012030                1                   0    108 S Rossmore Ave   \n",
       "5516002020                1                   0     223 S Irving Blvd   \n",
       "...                     ...                 ...                   ...   \n",
       "5554012045                0                   0   7915 3/8 Norton Ave   \n",
       "5554012046                0                   0   7915 1/2 Norton Ave   \n",
       "5554012048                1                   0   7917 1/2 Norton Ave   \n",
       "5554012038                0                   0   7911 1/8 Norton Ave   \n",
       "5554012051                0                   0       7921 Norton Ave   \n",
       "\n",
       "            MAIL DIFFERENT FROM SITE?  MAIL OUTSIDE CA?  TITLECO1  ASSDTOTAL  \\\n",
       "PARCEL                                                                         \n",
       "5505026001                          1                 0         0    2054958   \n",
       "5515028023                          0                 0         0     915420   \n",
       "5513010003                          0                 0         0    2518796   \n",
       "5515012030                          1                 0         0    1428176   \n",
       "5516002020                          0                 0         0    1167489   \n",
       "...                               ...               ...       ...        ...   \n",
       "5554012045                          1                 0         1     559000   \n",
       "5554012046                          0                 0         1     561100   \n",
       "5554012048                          0                 0         0     141299   \n",
       "5554012038                          0                 0         1     272185   \n",
       "5554012051                          0                 0         1     629700   \n",
       "\n",
       "            ASSDLAND  ASSDSTCT  ASSDOTHR  ...  PERSONAL REP  QUIT CLAIM  \\\n",
       "PARCEL                                    ...                             \n",
       "5505026001   1583885    471073         0  ...             0           0   \n",
       "5515028023    592174    323246         0  ...             0           0   \n",
       "5513010003   1609956    908840         0  ...             0           0   \n",
       "5515012030    999727    428449         0  ...             0           0   \n",
       "5516002020    689700    477789         0  ...             0           0   \n",
       "...              ...       ...       ...  ...           ...         ...   \n",
       "5554012045    300000    259000         0  ...             0           0   \n",
       "5554012046    447800    113300         0  ...             0           0   \n",
       "5554012048     64965     76334         0  ...             0           0   \n",
       "5554012038    158899    113286         0  ...             0           1   \n",
       "5554012051    522500    107200         0  ...             0           0   \n",
       "\n",
       "            RE-RECORD  RECEIVERS DEED  SHERIFFS  SPECIAL WARRANTY  TAX DEED  \\\n",
       "PARCEL                                                                        \n",
       "5505026001          0               0         0                 0         0   \n",
       "5515028023          0               0         0                 0         0   \n",
       "5513010003          0               0         0                 0         0   \n",
       "5515012030          0               0         0                 0         0   \n",
       "5516002020          0               0         0                 0         0   \n",
       "...               ...             ...       ...               ...       ...   \n",
       "5554012045          0               0         0                 0         0   \n",
       "5554012046          0               0         0                 0         0   \n",
       "5554012048          0               0         0                 0         0   \n",
       "5554012038          0               0         0                 0         0   \n",
       "5554012051          0               0         0                 0         0   \n",
       "\n",
       "            TRUST TRANSFER  TRUSTEES  WARRANTY  \n",
       "PARCEL                                          \n",
       "5505026001               0         0         0  \n",
       "5515028023               0         0         0  \n",
       "5513010003               0         0         0  \n",
       "5515012030               0         0         0  \n",
       "5516002020               0         0         0  \n",
       "...                    ...       ...       ...  \n",
       "5554012045               0         0         0  \n",
       "5554012046               0         0         0  \n",
       "5554012048               0         0         0  \n",
       "5554012038               0         0         0  \n",
       "5554012051               0         0         0  \n",
       "\n",
       "[23410 rows x 67 columns]"
      ]
     },
     "execution_count": 624,
     "metadata": {},
     "output_type": "execute_result"
    }
   ],
   "source": [
    "Total_NonSellers_df = Total_df[Total_df['Did it sell?'] == 0]\n",
    "Total_NonSellers_df"
   ]
  },
  {
   "cell_type": "code",
   "execution_count": 625,
   "metadata": {},
   "outputs": [
    {
     "data": {
      "text/plain": [
       "Index(['Owned by Trust?', 'Owned by Business?', 'SITEADDRESS',\n",
       "       'MAIL DIFFERENT FROM SITE?', 'MAIL OUTSIDE CA?', 'TITLECO1',\n",
       "       'ASSDTOTAL', 'ASSDLAND', 'ASSDSTCT', 'ASSDOTHR', 'EXEMPTCD', 'EXMPTAMT',\n",
       "       'PCNTIMPD', 'TAXAMT', 'DOCDATE_YEAR', 'MULTIPARCEL', 'PRICE', 'LENDER1',\n",
       "       'LOANAMOUT1', 'LOANTYPE1', 'YEARBLT', 'EFFYRBLT', 'LOTSQFT', 'TOTALSF',\n",
       "       'GRGTYPE', 'BLDGMAT', 'TOTUNITS', 'QUALCLAS', 'BLDGCOND', 'NOSTORY',\n",
       "       'ROOFMAT', 'FOUNDATN', 'BEDROOMS', 'BATHROOMS', 'FAMILYRM', 'DININGRM',\n",
       "       'POOL', 'PATIO', 'FIREPLCE', 'AIRMTHOD', 'HEATMTHD', 'VIEW',\n",
       "       'Did it sell?', 'EXECUTION DEED', 'EXECUTORS', 'FINAL DIST', 'GIFT',\n",
       "       'GRANT DEED', 'IN LIEU OF FORC', 'INTERSPOUSAL', 'JOINT TENANT',\n",
       "       'MEMO AGREE SALE', 'MISC', 'NAME CHANGE', 'ORD OF CONDEMN', 'Other',\n",
       "       'PARTNERSHIP', 'PERSONAL REP', 'QUIT CLAIM', 'RE-RECORD',\n",
       "       'RECEIVERS DEED', 'SHERIFFS', 'SPECIAL WARRANTY', 'TAX DEED',\n",
       "       'TRUST TRANSFER', 'TRUSTEES', 'WARRANTY'],\n",
       "      dtype='object')"
      ]
     },
     "execution_count": 625,
     "metadata": {},
     "output_type": "execute_result"
    }
   ],
   "source": [
    "Total_NonSellers_df.columns"
   ]
  },
  {
   "cell_type": "code",
   "execution_count": 626,
   "metadata": {},
   "outputs": [
    {
     "data": {
      "text/plain": [
       "33.621683967704726"
      ]
     },
     "execution_count": 626,
     "metadata": {},
     "output_type": "execute_result"
    }
   ],
   "source": [
    "# Calculate the the discrepencies\n",
    "# Mail different from Site\n",
    "\n",
    "sum(Total_Sellers_df['MAIL DIFFERENT FROM SITE?'] == 1) / len(Total_Sellers_df['MAIL DIFFERENT FROM SITE?']) * 100"
   ]
  },
  {
   "cell_type": "code",
   "execution_count": 627,
   "metadata": {},
   "outputs": [
    {
     "data": {
      "text/plain": [
       "25.510465612985904"
      ]
     },
     "execution_count": 627,
     "metadata": {},
     "output_type": "execute_result"
    }
   ],
   "source": [
    "sum(Total_NonSellers_df['MAIL DIFFERENT FROM SITE?'] == 1) / len(Total_NonSellers_df['MAIL DIFFERENT FROM SITE?']) * 100"
   ]
  },
  {
   "cell_type": "code",
   "execution_count": 628,
   "metadata": {},
   "outputs": [
    {
     "data": {
      "text/plain": [
       "7.410611303344868"
      ]
     },
     "execution_count": 628,
     "metadata": {},
     "output_type": "execute_result"
    }
   ],
   "source": [
    "# Mail outside California\n",
    "\n",
    "sum(Total_Sellers_df['MAIL OUTSIDE CA?'] == 1) / len(Total_Sellers_df['MAIL OUTSIDE CA?']) * 100"
   ]
  },
  {
   "cell_type": "code",
   "execution_count": 629,
   "metadata": {},
   "outputs": [
    {
     "data": {
      "text/plain": [
       "5.126014523707817"
      ]
     },
     "execution_count": 629,
     "metadata": {},
     "output_type": "execute_result"
    }
   ],
   "source": [
    "sum(Total_NonSellers_df['MAIL OUTSIDE CA?'] == 1) / len(Total_NonSellers_df['MAIL OUTSIDE CA?']) * 100"
   ]
  },
  {
   "cell_type": "code",
   "execution_count": 630,
   "metadata": {},
   "outputs": [
    {
     "data": {
      "text/plain": [
       "2322.03892733564"
      ]
     },
     "execution_count": 630,
     "metadata": {},
     "output_type": "execute_result"
    }
   ],
   "source": [
    "# Property Size: 'TOTALSF'\n",
    "\n",
    "Total_Sellers_df['TOTALSF'].mean()"
   ]
  },
  {
   "cell_type": "code",
   "execution_count": 631,
   "metadata": {},
   "outputs": [
    {
     "data": {
      "text/plain": [
       "2339.1618111917983"
      ]
     },
     "execution_count": 631,
     "metadata": {},
     "output_type": "execute_result"
    }
   ],
   "source": [
    "Total_NonSellers_df['TOTALSF'].mean()"
   ]
  },
  {
   "cell_type": "code",
   "execution_count": 632,
   "metadata": {},
   "outputs": [
    {
     "data": {
      "text/plain": [
       "1187297.7808535178"
      ]
     },
     "execution_count": 632,
     "metadata": {},
     "output_type": "execute_result"
    }
   ],
   "source": [
    "# Total Assessed Value: 'ASSDTOTAL'\n",
    "\n",
    "Total_Sellers_df['ASSDTOTAL'].mean()"
   ]
  },
  {
   "cell_type": "code",
   "execution_count": 633,
   "metadata": {},
   "outputs": [
    {
     "data": {
      "text/plain": [
       "958664.4905168731"
      ]
     },
     "execution_count": 633,
     "metadata": {},
     "output_type": "execute_result"
    }
   ],
   "source": [
    "Total_NonSellers_df['ASSDTOTAL'].mean()"
   ]
  },
  {
   "cell_type": "code",
   "execution_count": 634,
   "metadata": {},
   "outputs": [
    {
     "data": {
      "text/plain": [
       "1939.9100346020762"
      ]
     },
     "execution_count": 634,
     "metadata": {},
     "output_type": "execute_result"
    }
   ],
   "source": [
    "# Avg Year Built\n",
    "\n",
    "Total_Sellers_df['YEARBLT'].mean()"
   ]
  },
  {
   "cell_type": "code",
   "execution_count": 636,
   "metadata": {},
   "outputs": [
    {
     "data": {
      "text/plain": [
       "1935.2164459632636"
      ]
     },
     "execution_count": 636,
     "metadata": {},
     "output_type": "execute_result"
    }
   ],
   "source": [
    "Total_NonSellers_df['YEARBLT'].mean()"
   ]
  },
  {
   "cell_type": "code",
   "execution_count": 640,
   "metadata": {},
   "outputs": [
    {
     "data": {
      "text/plain": [
       "1486963.4283707866"
      ]
     },
     "execution_count": 640,
     "metadata": {},
     "output_type": "execute_result"
    }
   ],
   "source": [
    "# Avg Last Market Sale Price: 'PRICE'\n",
    "\n",
    "#Total_Sellers_df['PRICE'].value_counts()\n",
    "Total_Sellers_df['PRICE'][Total_Sellers_df['PRICE'] != 0].mean()"
   ]
  },
  {
   "cell_type": "code",
   "execution_count": 639,
   "metadata": {},
   "outputs": [
    {
     "data": {
      "text/plain": [
       "1116781.9708093118"
      ]
     },
     "execution_count": 639,
     "metadata": {},
     "output_type": "execute_result"
    }
   ],
   "source": [
    "Total_NonSellers_df['PRICE'][Total_NonSellers_df['PRICE'] != 0].mean()"
   ]
  },
  {
   "cell_type": "code",
   "execution_count": 540,
   "metadata": {},
   "outputs": [
    {
     "data": {
      "text/plain": [
       "2007.7787147426577"
      ]
     },
     "execution_count": 540,
     "metadata": {},
     "output_type": "execute_result"
    }
   ],
   "source": [
    "# Avg Year of Purchase: 'DOCDATE_YEAR'\n",
    "\n",
    "Total_Sellers_df['DOCDATE_YEAR'][Total_Sellers_df['DOCDATE_YEAR'] != 0].mean()"
   ]
  },
  {
   "cell_type": "code",
   "execution_count": 541,
   "metadata": {},
   "outputs": [
    {
     "data": {
      "text/plain": [
       "2004.8688870696712"
      ]
     },
     "execution_count": 541,
     "metadata": {},
     "output_type": "execute_result"
    }
   ],
   "source": [
    "Total_NonSellers_df['DOCDATE_YEAR'][Total_NonSellers_df['DOCDATE_YEAR'] != 0].mean()\n"
   ]
  },
  {
   "cell_type": "code",
   "execution_count": 545,
   "metadata": {},
   "outputs": [
    {
     "data": {
      "text/plain": [
       "14639.10454956312"
      ]
     },
     "execution_count": 545,
     "metadata": {},
     "output_type": "execute_result"
    }
   ],
   "source": [
    "# Avg Tax Amount: 'TAXAMT'\n",
    "\n",
    "Total_Sellers_df['TAXAMT'][Total_Sellers_df['TAXAMT'] != 0].mean()"
   ]
  },
  {
   "cell_type": "code",
   "execution_count": 546,
   "metadata": {},
   "outputs": [
    {
     "data": {
      "text/plain": [
       "11709.208092485549"
      ]
     },
     "execution_count": 546,
     "metadata": {},
     "output_type": "execute_result"
    }
   ],
   "source": [
    "Total_NonSellers_df['TAXAMT'][Total_NonSellers_df['TAXAMT'] != 0].mean()"
   ]
  },
  {
   "cell_type": "code",
   "execution_count": 547,
   "metadata": {},
   "outputs": [
    {
     "data": {
      "text/plain": [
       "958863.670154185"
      ]
     },
     "execution_count": 547,
     "metadata": {},
     "output_type": "execute_result"
    }
   ],
   "source": [
    "# Avg Loan Amount: 'LOANAMOUT1'\n",
    "\n",
    "Total_Sellers_df['LOANAMOUT1'][Total_Sellers_df['LOANAMOUT1'] != 0].mean()"
   ]
  },
  {
   "cell_type": "code",
   "execution_count": 548,
   "metadata": {},
   "outputs": [
    {
     "data": {
      "text/plain": [
       "738747.3429923613"
      ]
     },
     "execution_count": 548,
     "metadata": {},
     "output_type": "execute_result"
    }
   ],
   "source": [
    "# Avg Loan Amount: 'LOANAMOUT1'\n",
    "\n",
    "Total_NonSellers_df['LOANAMOUT1'][Total_NonSellers_df['LOANAMOUT1'] != 0].mean()"
   ]
  },
  {
   "cell_type": "markdown",
   "metadata": {},
   "source": [
    "# Find the discrepencies but for condos"
   ]
  },
  {
   "cell_type": "code",
   "execution_count": 641,
   "metadata": {},
   "outputs": [],
   "source": [
    "file = 'Total_Cleaned.csv'\n",
    "\n",
    "location = '/Users/Admin/Desktop/GW_Bootcamp/Analysis_Projects/Final_Project_Team_1/'"
   ]
  },
  {
   "cell_type": "code",
   "execution_count": 642,
   "metadata": {},
   "outputs": [],
   "source": [
    "path = os.path.join(location, file)"
   ]
  },
  {
   "cell_type": "code",
   "execution_count": 643,
   "metadata": {},
   "outputs": [
    {
     "data": {
      "text/html": [
       "<div>\n",
       "<style scoped>\n",
       "    .dataframe tbody tr th:only-of-type {\n",
       "        vertical-align: middle;\n",
       "    }\n",
       "\n",
       "    .dataframe tbody tr th {\n",
       "        vertical-align: top;\n",
       "    }\n",
       "\n",
       "    .dataframe thead th {\n",
       "        text-align: right;\n",
       "    }\n",
       "</style>\n",
       "<table border=\"1\" class=\"dataframe\">\n",
       "  <thead>\n",
       "    <tr style=\"text-align: right;\">\n",
       "      <th></th>\n",
       "      <th>Owned by Trust?</th>\n",
       "      <th>Owned by Business?</th>\n",
       "      <th>SITEADDRESS</th>\n",
       "      <th>MAIL DIFFERENT FROM SITE?</th>\n",
       "      <th>MAIL OUTSIDE CA?</th>\n",
       "      <th>TITLECO1</th>\n",
       "      <th>ASSDTOTAL</th>\n",
       "      <th>ASSDLAND</th>\n",
       "      <th>ASSDSTCT</th>\n",
       "      <th>ASSDOTHR</th>\n",
       "      <th>...</th>\n",
       "      <th>PERSONAL REP</th>\n",
       "      <th>QUIT CLAIM</th>\n",
       "      <th>RE-RECORD</th>\n",
       "      <th>RECEIVERS DEED</th>\n",
       "      <th>SHERIFFS</th>\n",
       "      <th>SPECIAL WARRANTY</th>\n",
       "      <th>TAX DEED</th>\n",
       "      <th>TRUST TRANSFER</th>\n",
       "      <th>TRUSTEES</th>\n",
       "      <th>WARRANTY</th>\n",
       "    </tr>\n",
       "    <tr>\n",
       "      <th>PARCEL</th>\n",
       "      <th></th>\n",
       "      <th></th>\n",
       "      <th></th>\n",
       "      <th></th>\n",
       "      <th></th>\n",
       "      <th></th>\n",
       "      <th></th>\n",
       "      <th></th>\n",
       "      <th></th>\n",
       "      <th></th>\n",
       "      <th></th>\n",
       "      <th></th>\n",
       "      <th></th>\n",
       "      <th></th>\n",
       "      <th></th>\n",
       "      <th></th>\n",
       "      <th></th>\n",
       "      <th></th>\n",
       "      <th></th>\n",
       "      <th></th>\n",
       "      <th></th>\n",
       "    </tr>\n",
       "  </thead>\n",
       "  <tbody>\n",
       "    <tr>\n",
       "      <th>5505026001</th>\n",
       "      <td>1</td>\n",
       "      <td>0</td>\n",
       "      <td>354 N Plymouth Blvd</td>\n",
       "      <td>1</td>\n",
       "      <td>0</td>\n",
       "      <td>0</td>\n",
       "      <td>2054958</td>\n",
       "      <td>1583885</td>\n",
       "      <td>471073</td>\n",
       "      <td>0</td>\n",
       "      <td>...</td>\n",
       "      <td>0</td>\n",
       "      <td>0</td>\n",
       "      <td>0</td>\n",
       "      <td>0</td>\n",
       "      <td>0</td>\n",
       "      <td>0</td>\n",
       "      <td>0</td>\n",
       "      <td>0</td>\n",
       "      <td>0</td>\n",
       "      <td>0</td>\n",
       "    </tr>\n",
       "    <tr>\n",
       "      <th>5515028023</th>\n",
       "      <td>1</td>\n",
       "      <td>0</td>\n",
       "      <td>143 N Plymouth Blvd</td>\n",
       "      <td>0</td>\n",
       "      <td>0</td>\n",
       "      <td>0</td>\n",
       "      <td>915420</td>\n",
       "      <td>592174</td>\n",
       "      <td>323246</td>\n",
       "      <td>0</td>\n",
       "      <td>...</td>\n",
       "      <td>0</td>\n",
       "      <td>0</td>\n",
       "      <td>0</td>\n",
       "      <td>0</td>\n",
       "      <td>0</td>\n",
       "      <td>0</td>\n",
       "      <td>0</td>\n",
       "      <td>0</td>\n",
       "      <td>0</td>\n",
       "      <td>0</td>\n",
       "    </tr>\n",
       "    <tr>\n",
       "      <th>5515022015</th>\n",
       "      <td>1</td>\n",
       "      <td>0</td>\n",
       "      <td>253 S Plymouth Blvd</td>\n",
       "      <td>0</td>\n",
       "      <td>0</td>\n",
       "      <td>0</td>\n",
       "      <td>1304706</td>\n",
       "      <td>731909</td>\n",
       "      <td>572797</td>\n",
       "      <td>0</td>\n",
       "      <td>...</td>\n",
       "      <td>0</td>\n",
       "      <td>0</td>\n",
       "      <td>0</td>\n",
       "      <td>0</td>\n",
       "      <td>0</td>\n",
       "      <td>0</td>\n",
       "      <td>0</td>\n",
       "      <td>0</td>\n",
       "      <td>0</td>\n",
       "      <td>0</td>\n",
       "    </tr>\n",
       "    <tr>\n",
       "      <th>5513010003</th>\n",
       "      <td>1</td>\n",
       "      <td>0</td>\n",
       "      <td>164 N Las Palmas Ave</td>\n",
       "      <td>0</td>\n",
       "      <td>0</td>\n",
       "      <td>0</td>\n",
       "      <td>2518796</td>\n",
       "      <td>1609956</td>\n",
       "      <td>908840</td>\n",
       "      <td>0</td>\n",
       "      <td>...</td>\n",
       "      <td>0</td>\n",
       "      <td>0</td>\n",
       "      <td>0</td>\n",
       "      <td>0</td>\n",
       "      <td>0</td>\n",
       "      <td>0</td>\n",
       "      <td>0</td>\n",
       "      <td>0</td>\n",
       "      <td>0</td>\n",
       "      <td>0</td>\n",
       "    </tr>\n",
       "    <tr>\n",
       "      <th>5515012030</th>\n",
       "      <td>1</td>\n",
       "      <td>0</td>\n",
       "      <td>108 S Rossmore Ave</td>\n",
       "      <td>1</td>\n",
       "      <td>0</td>\n",
       "      <td>0</td>\n",
       "      <td>1428176</td>\n",
       "      <td>999727</td>\n",
       "      <td>428449</td>\n",
       "      <td>0</td>\n",
       "      <td>...</td>\n",
       "      <td>0</td>\n",
       "      <td>0</td>\n",
       "      <td>0</td>\n",
       "      <td>0</td>\n",
       "      <td>0</td>\n",
       "      <td>0</td>\n",
       "      <td>0</td>\n",
       "      <td>0</td>\n",
       "      <td>0</td>\n",
       "      <td>0</td>\n",
       "    </tr>\n",
       "  </tbody>\n",
       "</table>\n",
       "<p>5 rows × 67 columns</p>\n",
       "</div>"
      ],
      "text/plain": [
       "            Owned by Trust?  Owned by Business?           SITEADDRESS  \\\n",
       "PARCEL                                                                  \n",
       "5505026001                1                   0   354 N Plymouth Blvd   \n",
       "5515028023                1                   0   143 N Plymouth Blvd   \n",
       "5515022015                1                   0   253 S Plymouth Blvd   \n",
       "5513010003                1                   0  164 N Las Palmas Ave   \n",
       "5515012030                1                   0    108 S Rossmore Ave   \n",
       "\n",
       "            MAIL DIFFERENT FROM SITE?  MAIL OUTSIDE CA?  TITLECO1  ASSDTOTAL  \\\n",
       "PARCEL                                                                         \n",
       "5505026001                          1                 0         0    2054958   \n",
       "5515028023                          0                 0         0     915420   \n",
       "5515022015                          0                 0         0    1304706   \n",
       "5513010003                          0                 0         0    2518796   \n",
       "5515012030                          1                 0         0    1428176   \n",
       "\n",
       "            ASSDLAND  ASSDSTCT  ASSDOTHR  ...  PERSONAL REP  QUIT CLAIM  \\\n",
       "PARCEL                                    ...                             \n",
       "5505026001   1583885    471073         0  ...             0           0   \n",
       "5515028023    592174    323246         0  ...             0           0   \n",
       "5515022015    731909    572797         0  ...             0           0   \n",
       "5513010003   1609956    908840         0  ...             0           0   \n",
       "5515012030    999727    428449         0  ...             0           0   \n",
       "\n",
       "            RE-RECORD  RECEIVERS DEED  SHERIFFS  SPECIAL WARRANTY  TAX DEED  \\\n",
       "PARCEL                                                                        \n",
       "5505026001          0               0         0                 0         0   \n",
       "5515028023          0               0         0                 0         0   \n",
       "5515022015          0               0         0                 0         0   \n",
       "5513010003          0               0         0                 0         0   \n",
       "5515012030          0               0         0                 0         0   \n",
       "\n",
       "            TRUST TRANSFER  TRUSTEES  WARRANTY  \n",
       "PARCEL                                          \n",
       "5505026001               0         0         0  \n",
       "5515028023               0         0         0  \n",
       "5515022015               0         0         0  \n",
       "5513010003               0         0         0  \n",
       "5515012030               0         0         0  \n",
       "\n",
       "[5 rows x 67 columns]"
      ]
     },
     "execution_count": 643,
     "metadata": {},
     "output_type": "execute_result"
    }
   ],
   "source": [
    "# import our file\n",
    "\n",
    "Total_df = pd.read_csv(path, index_col='PARCEL')\n",
    "Total_df.head()"
   ]
  },
  {
   "cell_type": "code",
   "execution_count": 644,
   "metadata": {},
   "outputs": [],
   "source": [
    "Total_df['TAXAMT'] = Total_df['TAXAMT'].astype(int)\n",
    "Total_df['EFFYRBLT'] = Total_df['EFFYRBLT'].astype(int)"
   ]
  },
  {
   "cell_type": "code",
   "execution_count": 645,
   "metadata": {},
   "outputs": [
    {
     "data": {
      "text/html": [
       "<div>\n",
       "<style scoped>\n",
       "    .dataframe tbody tr th:only-of-type {\n",
       "        vertical-align: middle;\n",
       "    }\n",
       "\n",
       "    .dataframe tbody tr th {\n",
       "        vertical-align: top;\n",
       "    }\n",
       "\n",
       "    .dataframe thead th {\n",
       "        text-align: right;\n",
       "    }\n",
       "</style>\n",
       "<table border=\"1\" class=\"dataframe\">\n",
       "  <thead>\n",
       "    <tr style=\"text-align: right;\">\n",
       "      <th></th>\n",
       "      <th>Owned by Trust?</th>\n",
       "      <th>Owned by Business?</th>\n",
       "      <th>SITEADDRESS</th>\n",
       "      <th>MAIL DIFFERENT FROM SITE?</th>\n",
       "      <th>MAIL OUTSIDE CA?</th>\n",
       "      <th>TITLECO1</th>\n",
       "      <th>ASSDTOTAL</th>\n",
       "      <th>ASSDLAND</th>\n",
       "      <th>ASSDSTCT</th>\n",
       "      <th>ASSDOTHR</th>\n",
       "      <th>...</th>\n",
       "      <th>PERSONAL REP</th>\n",
       "      <th>QUIT CLAIM</th>\n",
       "      <th>RE-RECORD</th>\n",
       "      <th>RECEIVERS DEED</th>\n",
       "      <th>SHERIFFS</th>\n",
       "      <th>SPECIAL WARRANTY</th>\n",
       "      <th>TAX DEED</th>\n",
       "      <th>TRUST TRANSFER</th>\n",
       "      <th>TRUSTEES</th>\n",
       "      <th>WARRANTY</th>\n",
       "    </tr>\n",
       "    <tr>\n",
       "      <th>PARCEL</th>\n",
       "      <th></th>\n",
       "      <th></th>\n",
       "      <th></th>\n",
       "      <th></th>\n",
       "      <th></th>\n",
       "      <th></th>\n",
       "      <th></th>\n",
       "      <th></th>\n",
       "      <th></th>\n",
       "      <th></th>\n",
       "      <th></th>\n",
       "      <th></th>\n",
       "      <th></th>\n",
       "      <th></th>\n",
       "      <th></th>\n",
       "      <th></th>\n",
       "      <th></th>\n",
       "      <th></th>\n",
       "      <th></th>\n",
       "      <th></th>\n",
       "      <th></th>\n",
       "    </tr>\n",
       "  </thead>\n",
       "  <tbody>\n",
       "    <tr>\n",
       "      <th>5505008010</th>\n",
       "      <td>1</td>\n",
       "      <td>0</td>\n",
       "      <td>546 S Rimpau Blvd #2200</td>\n",
       "      <td>0</td>\n",
       "      <td>0</td>\n",
       "      <td>0</td>\n",
       "      <td>3491436</td>\n",
       "      <td>2450134</td>\n",
       "      <td>1041302</td>\n",
       "      <td>0</td>\n",
       "      <td>...</td>\n",
       "      <td>0</td>\n",
       "      <td>0</td>\n",
       "      <td>0</td>\n",
       "      <td>0</td>\n",
       "      <td>0</td>\n",
       "      <td>0</td>\n",
       "      <td>0</td>\n",
       "      <td>0</td>\n",
       "      <td>0</td>\n",
       "      <td>0</td>\n",
       "    </tr>\n",
       "    <tr>\n",
       "      <th>5515029015</th>\n",
       "      <td>1</td>\n",
       "      <td>0</td>\n",
       "      <td>169 S Plymouth Blvd #100</td>\n",
       "      <td>0</td>\n",
       "      <td>0</td>\n",
       "      <td>0</td>\n",
       "      <td>3122716</td>\n",
       "      <td>2402093</td>\n",
       "      <td>720623</td>\n",
       "      <td>0</td>\n",
       "      <td>...</td>\n",
       "      <td>0</td>\n",
       "      <td>0</td>\n",
       "      <td>0</td>\n",
       "      <td>0</td>\n",
       "      <td>0</td>\n",
       "      <td>0</td>\n",
       "      <td>0</td>\n",
       "      <td>0</td>\n",
       "      <td>0</td>\n",
       "      <td>0</td>\n",
       "    </tr>\n",
       "    <tr>\n",
       "      <th>5522008053</th>\n",
       "      <td>0</td>\n",
       "      <td>0</td>\n",
       "      <td>5114 Melrose Ave #8</td>\n",
       "      <td>0</td>\n",
       "      <td>0</td>\n",
       "      <td>0</td>\n",
       "      <td>790127</td>\n",
       "      <td>548843</td>\n",
       "      <td>241284</td>\n",
       "      <td>0</td>\n",
       "      <td>...</td>\n",
       "      <td>0</td>\n",
       "      <td>0</td>\n",
       "      <td>0</td>\n",
       "      <td>0</td>\n",
       "      <td>0</td>\n",
       "      <td>0</td>\n",
       "      <td>0</td>\n",
       "      <td>0</td>\n",
       "      <td>0</td>\n",
       "      <td>0</td>\n",
       "    </tr>\n",
       "  </tbody>\n",
       "</table>\n",
       "<p>3 rows × 67 columns</p>\n",
       "</div>"
      ],
      "text/plain": [
       "            Owned by Trust?  Owned by Business?               SITEADDRESS  \\\n",
       "PARCEL                                                                      \n",
       "5505008010                1                   0   546 S Rimpau Blvd #2200   \n",
       "5515029015                1                   0  169 S Plymouth Blvd #100   \n",
       "5522008053                0                   0       5114 Melrose Ave #8   \n",
       "\n",
       "            MAIL DIFFERENT FROM SITE?  MAIL OUTSIDE CA?  TITLECO1  ASSDTOTAL  \\\n",
       "PARCEL                                                                         \n",
       "5505008010                          0                 0         0    3491436   \n",
       "5515029015                          0                 0         0    3122716   \n",
       "5522008053                          0                 0         0     790127   \n",
       "\n",
       "            ASSDLAND  ASSDSTCT  ASSDOTHR  ...  PERSONAL REP  QUIT CLAIM  \\\n",
       "PARCEL                                    ...                             \n",
       "5505008010   2450134   1041302         0  ...             0           0   \n",
       "5515029015   2402093    720623         0  ...             0           0   \n",
       "5522008053    548843    241284         0  ...             0           0   \n",
       "\n",
       "            RE-RECORD  RECEIVERS DEED  SHERIFFS  SPECIAL WARRANTY  TAX DEED  \\\n",
       "PARCEL                                                                        \n",
       "5505008010          0               0         0                 0         0   \n",
       "5515029015          0               0         0                 0         0   \n",
       "5522008053          0               0         0                 0         0   \n",
       "\n",
       "            TRUST TRANSFER  TRUSTEES  WARRANTY  \n",
       "PARCEL                                          \n",
       "5505008010               0         0         0  \n",
       "5515029015               0         0         0  \n",
       "5522008053               0         0         0  \n",
       "\n",
       "[3 rows x 67 columns]"
      ]
     },
     "execution_count": 645,
     "metadata": {},
     "output_type": "execute_result"
    }
   ],
   "source": [
    "# Make sure our dataframe is only condos\n",
    "\n",
    "Total_df = Total_df[Total_df['SITEADDRESS'].str.contains('#')]\n",
    "Total_df.head(3)"
   ]
  },
  {
   "cell_type": "code",
   "execution_count": 647,
   "metadata": {},
   "outputs": [],
   "source": [
    "# Separate out our sellers from non-sellers"
   ]
  },
  {
   "cell_type": "code",
   "execution_count": 651,
   "metadata": {},
   "outputs": [
    {
     "data": {
      "text/html": [
       "<div>\n",
       "<style scoped>\n",
       "    .dataframe tbody tr th:only-of-type {\n",
       "        vertical-align: middle;\n",
       "    }\n",
       "\n",
       "    .dataframe tbody tr th {\n",
       "        vertical-align: top;\n",
       "    }\n",
       "\n",
       "    .dataframe thead th {\n",
       "        text-align: right;\n",
       "    }\n",
       "</style>\n",
       "<table border=\"1\" class=\"dataframe\">\n",
       "  <thead>\n",
       "    <tr style=\"text-align: right;\">\n",
       "      <th></th>\n",
       "      <th>Owned by Trust?</th>\n",
       "      <th>Owned by Business?</th>\n",
       "      <th>SITEADDRESS</th>\n",
       "      <th>MAIL DIFFERENT FROM SITE?</th>\n",
       "      <th>MAIL OUTSIDE CA?</th>\n",
       "      <th>TITLECO1</th>\n",
       "      <th>ASSDTOTAL</th>\n",
       "      <th>ASSDLAND</th>\n",
       "      <th>ASSDSTCT</th>\n",
       "      <th>ASSDOTHR</th>\n",
       "      <th>...</th>\n",
       "      <th>PERSONAL REP</th>\n",
       "      <th>QUIT CLAIM</th>\n",
       "      <th>RE-RECORD</th>\n",
       "      <th>RECEIVERS DEED</th>\n",
       "      <th>SHERIFFS</th>\n",
       "      <th>SPECIAL WARRANTY</th>\n",
       "      <th>TAX DEED</th>\n",
       "      <th>TRUST TRANSFER</th>\n",
       "      <th>TRUSTEES</th>\n",
       "      <th>WARRANTY</th>\n",
       "    </tr>\n",
       "    <tr>\n",
       "      <th>PARCEL</th>\n",
       "      <th></th>\n",
       "      <th></th>\n",
       "      <th></th>\n",
       "      <th></th>\n",
       "      <th></th>\n",
       "      <th></th>\n",
       "      <th></th>\n",
       "      <th></th>\n",
       "      <th></th>\n",
       "      <th></th>\n",
       "      <th></th>\n",
       "      <th></th>\n",
       "      <th></th>\n",
       "      <th></th>\n",
       "      <th></th>\n",
       "      <th></th>\n",
       "      <th></th>\n",
       "      <th></th>\n",
       "      <th></th>\n",
       "      <th></th>\n",
       "      <th></th>\n",
       "    </tr>\n",
       "  </thead>\n",
       "  <tbody>\n",
       "    <tr>\n",
       "      <th>5522008053</th>\n",
       "      <td>0</td>\n",
       "      <td>0</td>\n",
       "      <td>5114 Melrose Ave #8</td>\n",
       "      <td>0</td>\n",
       "      <td>0</td>\n",
       "      <td>0</td>\n",
       "      <td>790127</td>\n",
       "      <td>548843</td>\n",
       "      <td>241284</td>\n",
       "      <td>0</td>\n",
       "      <td>...</td>\n",
       "      <td>0</td>\n",
       "      <td>0</td>\n",
       "      <td>0</td>\n",
       "      <td>0</td>\n",
       "      <td>0</td>\n",
       "      <td>0</td>\n",
       "      <td>0</td>\n",
       "      <td>0</td>\n",
       "      <td>0</td>\n",
       "      <td>0</td>\n",
       "    </tr>\n",
       "    <tr>\n",
       "      <th>5522008048</th>\n",
       "      <td>0</td>\n",
       "      <td>0</td>\n",
       "      <td>5124 Melrose Ave #3</td>\n",
       "      <td>0</td>\n",
       "      <td>0</td>\n",
       "      <td>0</td>\n",
       "      <td>767344</td>\n",
       "      <td>533310</td>\n",
       "      <td>234034</td>\n",
       "      <td>0</td>\n",
       "      <td>...</td>\n",
       "      <td>0</td>\n",
       "      <td>0</td>\n",
       "      <td>0</td>\n",
       "      <td>0</td>\n",
       "      <td>0</td>\n",
       "      <td>0</td>\n",
       "      <td>0</td>\n",
       "      <td>0</td>\n",
       "      <td>0</td>\n",
       "      <td>0</td>\n",
       "    </tr>\n",
       "    <tr>\n",
       "      <th>5524005031</th>\n",
       "      <td>0</td>\n",
       "      <td>0</td>\n",
       "      <td>815 N Las Palmas Ave #101</td>\n",
       "      <td>1</td>\n",
       "      <td>0</td>\n",
       "      <td>0</td>\n",
       "      <td>189433</td>\n",
       "      <td>47704</td>\n",
       "      <td>141729</td>\n",
       "      <td>0</td>\n",
       "      <td>...</td>\n",
       "      <td>0</td>\n",
       "      <td>0</td>\n",
       "      <td>0</td>\n",
       "      <td>0</td>\n",
       "      <td>0</td>\n",
       "      <td>0</td>\n",
       "      <td>1</td>\n",
       "      <td>0</td>\n",
       "      <td>0</td>\n",
       "      <td>0</td>\n",
       "    </tr>\n",
       "    <tr>\n",
       "      <th>4333013063</th>\n",
       "      <td>0</td>\n",
       "      <td>0</td>\n",
       "      <td>811 S Bedford St #204</td>\n",
       "      <td>0</td>\n",
       "      <td>0</td>\n",
       "      <td>1</td>\n",
       "      <td>609150</td>\n",
       "      <td>507625</td>\n",
       "      <td>101525</td>\n",
       "      <td>0</td>\n",
       "      <td>...</td>\n",
       "      <td>0</td>\n",
       "      <td>0</td>\n",
       "      <td>0</td>\n",
       "      <td>0</td>\n",
       "      <td>0</td>\n",
       "      <td>0</td>\n",
       "      <td>0</td>\n",
       "      <td>0</td>\n",
       "      <td>0</td>\n",
       "      <td>0</td>\n",
       "    </tr>\n",
       "    <tr>\n",
       "      <th>4335003037</th>\n",
       "      <td>0</td>\n",
       "      <td>0</td>\n",
       "      <td>146 N Almont Dr #8</td>\n",
       "      <td>0</td>\n",
       "      <td>0</td>\n",
       "      <td>1</td>\n",
       "      <td>622711</td>\n",
       "      <td>407947</td>\n",
       "      <td>214764</td>\n",
       "      <td>0</td>\n",
       "      <td>...</td>\n",
       "      <td>0</td>\n",
       "      <td>0</td>\n",
       "      <td>0</td>\n",
       "      <td>0</td>\n",
       "      <td>0</td>\n",
       "      <td>0</td>\n",
       "      <td>0</td>\n",
       "      <td>0</td>\n",
       "      <td>0</td>\n",
       "      <td>0</td>\n",
       "    </tr>\n",
       "  </tbody>\n",
       "</table>\n",
       "<p>5 rows × 67 columns</p>\n",
       "</div>"
      ],
      "text/plain": [
       "            Owned by Trust?  Owned by Business?                SITEADDRESS  \\\n",
       "PARCEL                                                                       \n",
       "5522008053                0                   0        5114 Melrose Ave #8   \n",
       "5522008048                0                   0        5124 Melrose Ave #3   \n",
       "5524005031                0                   0  815 N Las Palmas Ave #101   \n",
       "4333013063                0                   0      811 S Bedford St #204   \n",
       "4335003037                0                   0         146 N Almont Dr #8   \n",
       "\n",
       "            MAIL DIFFERENT FROM SITE?  MAIL OUTSIDE CA?  TITLECO1  ASSDTOTAL  \\\n",
       "PARCEL                                                                         \n",
       "5522008053                          0                 0         0     790127   \n",
       "5522008048                          0                 0         0     767344   \n",
       "5524005031                          1                 0         0     189433   \n",
       "4333013063                          0                 0         1     609150   \n",
       "4335003037                          0                 0         1     622711   \n",
       "\n",
       "            ASSDLAND  ASSDSTCT  ASSDOTHR  ...  PERSONAL REP  QUIT CLAIM  \\\n",
       "PARCEL                                    ...                             \n",
       "5522008053    548843    241284         0  ...             0           0   \n",
       "5522008048    533310    234034         0  ...             0           0   \n",
       "5524005031     47704    141729         0  ...             0           0   \n",
       "4333013063    507625    101525         0  ...             0           0   \n",
       "4335003037    407947    214764         0  ...             0           0   \n",
       "\n",
       "            RE-RECORD  RECEIVERS DEED  SHERIFFS  SPECIAL WARRANTY  TAX DEED  \\\n",
       "PARCEL                                                                        \n",
       "5522008053          0               0         0                 0         0   \n",
       "5522008048          0               0         0                 0         0   \n",
       "5524005031          0               0         0                 0         1   \n",
       "4333013063          0               0         0                 0         0   \n",
       "4335003037          0               0         0                 0         0   \n",
       "\n",
       "            TRUST TRANSFER  TRUSTEES  WARRANTY  \n",
       "PARCEL                                          \n",
       "5522008053               0         0         0  \n",
       "5522008048               0         0         0  \n",
       "5524005031               0         0         0  \n",
       "4333013063               0         0         0  \n",
       "4335003037               0         0         0  \n",
       "\n",
       "[5 rows x 67 columns]"
      ]
     },
     "execution_count": 651,
     "metadata": {},
     "output_type": "execute_result"
    }
   ],
   "source": [
    "Total_Sellers_df = Total_df[Total_df['Did it sell?'] == 1]\n",
    "Total_Sellers_df.head()"
   ]
  },
  {
   "cell_type": "code",
   "execution_count": 652,
   "metadata": {},
   "outputs": [
    {
     "data": {
      "text/html": [
       "<div>\n",
       "<style scoped>\n",
       "    .dataframe tbody tr th:only-of-type {\n",
       "        vertical-align: middle;\n",
       "    }\n",
       "\n",
       "    .dataframe tbody tr th {\n",
       "        vertical-align: top;\n",
       "    }\n",
       "\n",
       "    .dataframe thead th {\n",
       "        text-align: right;\n",
       "    }\n",
       "</style>\n",
       "<table border=\"1\" class=\"dataframe\">\n",
       "  <thead>\n",
       "    <tr style=\"text-align: right;\">\n",
       "      <th></th>\n",
       "      <th>Owned by Trust?</th>\n",
       "      <th>Owned by Business?</th>\n",
       "      <th>SITEADDRESS</th>\n",
       "      <th>MAIL DIFFERENT FROM SITE?</th>\n",
       "      <th>MAIL OUTSIDE CA?</th>\n",
       "      <th>TITLECO1</th>\n",
       "      <th>ASSDTOTAL</th>\n",
       "      <th>ASSDLAND</th>\n",
       "      <th>ASSDSTCT</th>\n",
       "      <th>ASSDOTHR</th>\n",
       "      <th>...</th>\n",
       "      <th>PERSONAL REP</th>\n",
       "      <th>QUIT CLAIM</th>\n",
       "      <th>RE-RECORD</th>\n",
       "      <th>RECEIVERS DEED</th>\n",
       "      <th>SHERIFFS</th>\n",
       "      <th>SPECIAL WARRANTY</th>\n",
       "      <th>TAX DEED</th>\n",
       "      <th>TRUST TRANSFER</th>\n",
       "      <th>TRUSTEES</th>\n",
       "      <th>WARRANTY</th>\n",
       "    </tr>\n",
       "    <tr>\n",
       "      <th>PARCEL</th>\n",
       "      <th></th>\n",
       "      <th></th>\n",
       "      <th></th>\n",
       "      <th></th>\n",
       "      <th></th>\n",
       "      <th></th>\n",
       "      <th></th>\n",
       "      <th></th>\n",
       "      <th></th>\n",
       "      <th></th>\n",
       "      <th></th>\n",
       "      <th></th>\n",
       "      <th></th>\n",
       "      <th></th>\n",
       "      <th></th>\n",
       "      <th></th>\n",
       "      <th></th>\n",
       "      <th></th>\n",
       "      <th></th>\n",
       "      <th></th>\n",
       "      <th></th>\n",
       "    </tr>\n",
       "  </thead>\n",
       "  <tbody>\n",
       "    <tr>\n",
       "      <th>5505008010</th>\n",
       "      <td>1</td>\n",
       "      <td>0</td>\n",
       "      <td>546 S Rimpau Blvd #2200</td>\n",
       "      <td>0</td>\n",
       "      <td>0</td>\n",
       "      <td>0</td>\n",
       "      <td>3491436</td>\n",
       "      <td>2450134</td>\n",
       "      <td>1041302</td>\n",
       "      <td>0</td>\n",
       "      <td>...</td>\n",
       "      <td>0</td>\n",
       "      <td>0</td>\n",
       "      <td>0</td>\n",
       "      <td>0</td>\n",
       "      <td>0</td>\n",
       "      <td>0</td>\n",
       "      <td>0</td>\n",
       "      <td>0</td>\n",
       "      <td>0</td>\n",
       "      <td>0</td>\n",
       "    </tr>\n",
       "    <tr>\n",
       "      <th>5515029015</th>\n",
       "      <td>1</td>\n",
       "      <td>0</td>\n",
       "      <td>169 S Plymouth Blvd #100</td>\n",
       "      <td>0</td>\n",
       "      <td>0</td>\n",
       "      <td>0</td>\n",
       "      <td>3122716</td>\n",
       "      <td>2402093</td>\n",
       "      <td>720623</td>\n",
       "      <td>0</td>\n",
       "      <td>...</td>\n",
       "      <td>0</td>\n",
       "      <td>0</td>\n",
       "      <td>0</td>\n",
       "      <td>0</td>\n",
       "      <td>0</td>\n",
       "      <td>0</td>\n",
       "      <td>0</td>\n",
       "      <td>0</td>\n",
       "      <td>0</td>\n",
       "      <td>0</td>\n",
       "    </tr>\n",
       "    <tr>\n",
       "      <th>5516014005</th>\n",
       "      <td>1</td>\n",
       "      <td>0</td>\n",
       "      <td>122 N Ridgewood Pl #515</td>\n",
       "      <td>0</td>\n",
       "      <td>0</td>\n",
       "      <td>0</td>\n",
       "      <td>83813</td>\n",
       "      <td>43702</td>\n",
       "      <td>40111</td>\n",
       "      <td>0</td>\n",
       "      <td>...</td>\n",
       "      <td>0</td>\n",
       "      <td>0</td>\n",
       "      <td>0</td>\n",
       "      <td>0</td>\n",
       "      <td>0</td>\n",
       "      <td>0</td>\n",
       "      <td>0</td>\n",
       "      <td>0</td>\n",
       "      <td>0</td>\n",
       "      <td>0</td>\n",
       "    </tr>\n",
       "    <tr>\n",
       "      <th>5087012023</th>\n",
       "      <td>0</td>\n",
       "      <td>0</td>\n",
       "      <td>1040 S La Jolla Ave #VE</td>\n",
       "      <td>0</td>\n",
       "      <td>0</td>\n",
       "      <td>0</td>\n",
       "      <td>289000</td>\n",
       "      <td>116000</td>\n",
       "      <td>173000</td>\n",
       "      <td>0</td>\n",
       "      <td>...</td>\n",
       "      <td>0</td>\n",
       "      <td>0</td>\n",
       "      <td>0</td>\n",
       "      <td>0</td>\n",
       "      <td>0</td>\n",
       "      <td>0</td>\n",
       "      <td>0</td>\n",
       "      <td>1</td>\n",
       "      <td>0</td>\n",
       "      <td>0</td>\n",
       "    </tr>\n",
       "    <tr>\n",
       "      <th>4332020041</th>\n",
       "      <td>0</td>\n",
       "      <td>0</td>\n",
       "      <td>1045 S Bedford St #9</td>\n",
       "      <td>1</td>\n",
       "      <td>0</td>\n",
       "      <td>0</td>\n",
       "      <td>151323</td>\n",
       "      <td>41266</td>\n",
       "      <td>110057</td>\n",
       "      <td>0</td>\n",
       "      <td>...</td>\n",
       "      <td>0</td>\n",
       "      <td>0</td>\n",
       "      <td>0</td>\n",
       "      <td>0</td>\n",
       "      <td>0</td>\n",
       "      <td>0</td>\n",
       "      <td>0</td>\n",
       "      <td>0</td>\n",
       "      <td>0</td>\n",
       "      <td>0</td>\n",
       "    </tr>\n",
       "  </tbody>\n",
       "</table>\n",
       "<p>5 rows × 67 columns</p>\n",
       "</div>"
      ],
      "text/plain": [
       "            Owned by Trust?  Owned by Business?               SITEADDRESS  \\\n",
       "PARCEL                                                                      \n",
       "5505008010                1                   0   546 S Rimpau Blvd #2200   \n",
       "5515029015                1                   0  169 S Plymouth Blvd #100   \n",
       "5516014005                1                   0   122 N Ridgewood Pl #515   \n",
       "5087012023                0                   0   1040 S La Jolla Ave #VE   \n",
       "4332020041                0                   0      1045 S Bedford St #9   \n",
       "\n",
       "            MAIL DIFFERENT FROM SITE?  MAIL OUTSIDE CA?  TITLECO1  ASSDTOTAL  \\\n",
       "PARCEL                                                                         \n",
       "5505008010                          0                 0         0    3491436   \n",
       "5515029015                          0                 0         0    3122716   \n",
       "5516014005                          0                 0         0      83813   \n",
       "5087012023                          0                 0         0     289000   \n",
       "4332020041                          1                 0         0     151323   \n",
       "\n",
       "            ASSDLAND  ASSDSTCT  ASSDOTHR  ...  PERSONAL REP  QUIT CLAIM  \\\n",
       "PARCEL                                    ...                             \n",
       "5505008010   2450134   1041302         0  ...             0           0   \n",
       "5515029015   2402093    720623         0  ...             0           0   \n",
       "5516014005     43702     40111         0  ...             0           0   \n",
       "5087012023    116000    173000         0  ...             0           0   \n",
       "4332020041     41266    110057         0  ...             0           0   \n",
       "\n",
       "            RE-RECORD  RECEIVERS DEED  SHERIFFS  SPECIAL WARRANTY  TAX DEED  \\\n",
       "PARCEL                                                                        \n",
       "5505008010          0               0         0                 0         0   \n",
       "5515029015          0               0         0                 0         0   \n",
       "5516014005          0               0         0                 0         0   \n",
       "5087012023          0               0         0                 0         0   \n",
       "4332020041          0               0         0                 0         0   \n",
       "\n",
       "            TRUST TRANSFER  TRUSTEES  WARRANTY  \n",
       "PARCEL                                          \n",
       "5505008010               0         0         0  \n",
       "5515029015               0         0         0  \n",
       "5516014005               0         0         0  \n",
       "5087012023               1         0         0  \n",
       "4332020041               0         0         0  \n",
       "\n",
       "[5 rows x 67 columns]"
      ]
     },
     "execution_count": 652,
     "metadata": {},
     "output_type": "execute_result"
    }
   ],
   "source": [
    "Total_NonSellers_df = Total_df[Total_df['Did it sell?'] == 0]\n",
    "Total_NonSellers_df.head()"
   ]
  },
  {
   "cell_type": "code",
   "execution_count": 653,
   "metadata": {},
   "outputs": [
    {
     "data": {
      "text/plain": [
       "35.89905362776025"
      ]
     },
     "execution_count": 653,
     "metadata": {},
     "output_type": "execute_result"
    }
   ],
   "source": [
    "# Mail different from Site\n",
    "\n",
    "sum(Total_Sellers_df['MAIL DIFFERENT FROM SITE?'] == 1) / len(Total_Sellers_df['MAIL DIFFERENT FROM SITE?']) * 100"
   ]
  },
  {
   "cell_type": "code",
   "execution_count": 654,
   "metadata": {},
   "outputs": [
    {
     "data": {
      "text/plain": [
       "36.50442477876106"
      ]
     },
     "execution_count": 654,
     "metadata": {},
     "output_type": "execute_result"
    }
   ],
   "source": [
    "sum(Total_NonSellers_df['MAIL DIFFERENT FROM SITE?'] == 1) / len(Total_NonSellers_df['MAIL DIFFERENT FROM SITE?']) * 100"
   ]
  },
  {
   "cell_type": "code",
   "execution_count": 655,
   "metadata": {},
   "outputs": [
    {
     "data": {
      "text/plain": [
       "7.697160883280757"
      ]
     },
     "execution_count": 655,
     "metadata": {},
     "output_type": "execute_result"
    }
   ],
   "source": [
    "# Mail outside California\n",
    "\n",
    "sum(Total_Sellers_df['MAIL OUTSIDE CA?'] == 1) / len(Total_Sellers_df['MAIL OUTSIDE CA?']) * 100"
   ]
  },
  {
   "cell_type": "code",
   "execution_count": 656,
   "metadata": {},
   "outputs": [
    {
     "data": {
      "text/plain": [
       "5.825958702064897"
      ]
     },
     "execution_count": 656,
     "metadata": {},
     "output_type": "execute_result"
    }
   ],
   "source": [
    "sum(Total_NonSellers_df['MAIL OUTSIDE CA?'] == 1) / len(Total_NonSellers_df['MAIL OUTSIDE CA?']) * 100"
   ]
  },
  {
   "cell_type": "code",
   "execution_count": 657,
   "metadata": {},
   "outputs": [
    {
     "data": {
      "text/plain": [
       "1192.745741324921"
      ]
     },
     "execution_count": 657,
     "metadata": {},
     "output_type": "execute_result"
    }
   ],
   "source": [
    "# Property Size: 'TOTALSF'\n",
    "\n",
    "Total_Sellers_df['TOTALSF'].mean()"
   ]
  },
  {
   "cell_type": "code",
   "execution_count": 658,
   "metadata": {},
   "outputs": [
    {
     "data": {
      "text/plain": [
       "1194.5510078662733"
      ]
     },
     "execution_count": 658,
     "metadata": {},
     "output_type": "execute_result"
    }
   ],
   "source": [
    "Total_NonSellers_df['TOTALSF'].mean()"
   ]
  },
  {
   "cell_type": "code",
   "execution_count": 659,
   "metadata": {},
   "outputs": [
    {
     "data": {
      "text/plain": [
       "517701.20126182964"
      ]
     },
     "execution_count": 659,
     "metadata": {},
     "output_type": "execute_result"
    }
   ],
   "source": [
    "# Total Assessed Value: 'ASSDTOTAL'\n",
    "\n",
    "Total_Sellers_df['ASSDTOTAL'].mean()"
   ]
  },
  {
   "cell_type": "code",
   "execution_count": 660,
   "metadata": {},
   "outputs": [
    {
     "data": {
      "text/plain": [
       "471457.59513274336"
      ]
     },
     "execution_count": 660,
     "metadata": {},
     "output_type": "execute_result"
    }
   ],
   "source": [
    "Total_NonSellers_df['ASSDTOTAL'].mean()"
   ]
  },
  {
   "cell_type": "code",
   "execution_count": 661,
   "metadata": {},
   "outputs": [
    {
     "data": {
      "text/plain": [
       "1976.810094637224"
      ]
     },
     "execution_count": 661,
     "metadata": {},
     "output_type": "execute_result"
    }
   ],
   "source": [
    "# Avg Year Built\n",
    "\n",
    "Total_Sellers_df['YEARBLT'].mean()"
   ]
  },
  {
   "cell_type": "code",
   "execution_count": 662,
   "metadata": {},
   "outputs": [
    {
     "data": {
      "text/plain": [
       "1976.6977630285153"
      ]
     },
     "execution_count": 662,
     "metadata": {},
     "output_type": "execute_result"
    }
   ],
   "source": [
    "Total_NonSellers_df['YEARBLT'].mean()"
   ]
  },
  {
   "cell_type": "code",
   "execution_count": 663,
   "metadata": {},
   "outputs": [
    {
     "data": {
      "text/plain": [
       "554917.911111111"
      ]
     },
     "execution_count": 663,
     "metadata": {},
     "output_type": "execute_result"
    }
   ],
   "source": [
    "# Avg Last Market Sale Price: 'PRICE'\n",
    "\n",
    "Total_Sellers_df['PRICE'][Total_Sellers_df['PRICE'] != 0].mean()"
   ]
  },
  {
   "cell_type": "code",
   "execution_count": 664,
   "metadata": {},
   "outputs": [
    {
     "data": {
      "text/plain": [
       "519334.28501276765"
      ]
     },
     "execution_count": 664,
     "metadata": {},
     "output_type": "execute_result"
    }
   ],
   "source": [
    "Total_NonSellers_df['PRICE'][Total_NonSellers_df['PRICE'] != 0].mean()"
   ]
  },
  {
   "cell_type": "code",
   "execution_count": 665,
   "metadata": {},
   "outputs": [
    {
     "data": {
      "text/plain": [
       "2009.5556274256146"
      ]
     },
     "execution_count": 665,
     "metadata": {},
     "output_type": "execute_result"
    }
   ],
   "source": [
    "# Avg Year of Purchase: 'DOCDATE_YEAR'\n",
    "\n",
    "Total_Sellers_df['DOCDATE_YEAR'][Total_Sellers_df['DOCDATE_YEAR'] != 0].mean()"
   ]
  },
  {
   "cell_type": "code",
   "execution_count": 666,
   "metadata": {},
   "outputs": [
    {
     "data": {
      "text/plain": [
       "2007.555091714105"
      ]
     },
     "execution_count": 666,
     "metadata": {},
     "output_type": "execute_result"
    }
   ],
   "source": [
    "Total_NonSellers_df['DOCDATE_YEAR'][Total_NonSellers_df['DOCDATE_YEAR'] != 0].mean()"
   ]
  },
  {
   "cell_type": "code",
   "execution_count": 667,
   "metadata": {},
   "outputs": [
    {
     "data": {
      "text/plain": [
       "6328.773501577287"
      ]
     },
     "execution_count": 667,
     "metadata": {},
     "output_type": "execute_result"
    }
   ],
   "source": [
    "# Avg Tax Amount: 'TAXAMT'\n",
    "\n",
    "Total_Sellers_df['TAXAMT'][Total_Sellers_df['TAXAMT'] != 0].mean()"
   ]
  },
  {
   "cell_type": "code",
   "execution_count": 668,
   "metadata": {},
   "outputs": [
    {
     "data": {
      "text/plain": [
       "5775.6060717797445"
      ]
     },
     "execution_count": 668,
     "metadata": {},
     "output_type": "execute_result"
    }
   ],
   "source": [
    "Total_NonSellers_df['TAXAMT'][Total_NonSellers_df['TAXAMT'] != 0].mean()"
   ]
  },
  {
   "cell_type": "code",
   "execution_count": 669,
   "metadata": {},
   "outputs": [
    {
     "data": {
      "text/plain": [
       "398692.2626931567"
      ]
     },
     "execution_count": 669,
     "metadata": {},
     "output_type": "execute_result"
    }
   ],
   "source": [
    "# Avg Loan Amount: 'LOANAMOUT1'\n",
    "\n",
    "Total_Sellers_df['LOANAMOUT1'][Total_Sellers_df['LOANAMOUT1'] != 0].mean()"
   ]
  },
  {
   "cell_type": "code",
   "execution_count": 670,
   "metadata": {},
   "outputs": [
    {
     "data": {
      "text/plain": [
       "362006.334681256"
      ]
     },
     "execution_count": 670,
     "metadata": {},
     "output_type": "execute_result"
    }
   ],
   "source": [
    "# Avg Loan Amount: 'LOANAMOUT1'\n",
    "\n",
    "Total_NonSellers_df['LOANAMOUT1'][Total_NonSellers_df['LOANAMOUT1'] != 0].mean()"
   ]
  },
  {
   "cell_type": "code",
   "execution_count": null,
   "metadata": {},
   "outputs": [],
   "source": []
  }
 ],
 "metadata": {
  "kernelspec": {
   "display_name": "mlenv",
   "language": "python",
   "name": "mlenv"
  },
  "language_info": {
   "codemirror_mode": {
    "name": "ipython",
    "version": 3
   },
   "file_extension": ".py",
   "mimetype": "text/x-python",
   "name": "python",
   "nbconvert_exporter": "python",
   "pygments_lexer": "ipython3",
   "version": "3.7.9"
  }
 },
 "nbformat": 4,
 "nbformat_minor": 4
}
